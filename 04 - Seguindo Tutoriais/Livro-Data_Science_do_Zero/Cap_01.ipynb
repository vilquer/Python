{
 "cells": [
  {
   "cell_type": "code",
   "execution_count": 25,
   "metadata": {},
   "outputs": [
    {
     "name": "stdout",
     "output_type": "stream",
     "text": [
      "python 3.8.5 (default, Sep  3 2020, 21:29:08) [MSC v.1916 64 bit (AMD64)]\n",
      "pandas 1.1.3\n",
      "Importações Completas!!!\n"
     ]
    }
   ],
   "source": [
    "import sys\n",
    "import pandas as pd\n",
    "import networkx as nx\n",
    "import matplotlib.pyplot as plt\n",
    "\n",
    "print( 'python', sys.version)\n",
    "print('pandas', pd.__version__)\n",
    "print(\"Importações Completas!!!\")"
   ]
  },
  {
   "cell_type": "markdown",
   "metadata": {},
   "source": [
    "Foi necessário faxer downgrade do matplot para conseguir rodar o grafico"
   ]
  },
  {
   "cell_type": "code",
   "execution_count": 26,
   "metadata": {},
   "outputs": [],
   "source": [
    "usuarios =  [\n",
    "    {'id': 0, 'nome': 'Zero'},\n",
    "    {'id': 1, 'nome': 'Um'},\n",
    "    {'id': 2, 'nome': 'Dois'},\n",
    "    {'id': 3, 'nome': 'Tres'},\n",
    "    {'id': 4, 'nome': 'Quatro'},\n",
    "    {'id': 5, 'nome': 'Cinco'},\n",
    "    {'id': 6, 'nome': 'Seis'},\n",
    "    {'id': 7, 'nome': 'Sete'},\n",
    "    {'id': 8, 'nome': 'Oito'},\n",
    "    {'id': 9, 'nome': 'Nove'},\n",
    "]\n",
    "relacionamentos = [(0,1),(0,2),(1,2),(1,3),(2,3),(3,4),\n",
    "                    (4,5),(5,6),(5,7),(6,8),(7,8),(8,9)]"
   ]
  },
  {
   "cell_type": "code",
   "execution_count": 27,
   "metadata": {},
   "outputs": [
    {
     "data": {
      "image/png": "[encoded data removed]",
      "text/plain": [
       "<Figure size 432x288 with 1 Axes>"
      ]
     },
     "metadata": {},
     "output_type": "display_data"
    }
   ],
   "source": [
    "df_usuarios = pd.DataFrame(usuarios)\n",
    "df_relacionamentos = pd.DataFrame(relacionamentos,columns=['node1','node2'])\n",
    "g = nx.from_pandas_edgelist(df_relacionamentos, 'node1', 'node2', create_using=nx.Graph())\n",
    "\n",
    "# plota o grafo\n",
    "nx.draw(g, with_labels=True,  node_size = 1000)\n",
    "plt.show()"
   ]
  },
  {
   "cell_type": "code",
   "execution_count": 28,
   "metadata": {},
   "outputs": [
    {
     "data": {
      "text/plain": [
       "[{'id': 0, 'nome': 'Zero', 'amigos': []},\n",
       " {'id': 1, 'nome': 'Um', 'amigos': []},\n",
       " {'id': 2, 'nome': 'Dois', 'amigos': []},\n",
       " {'id': 3, 'nome': 'Tres', 'amigos': []},\n",
       " {'id': 4, 'nome': 'Quatro', 'amigos': []},\n",
       " {'id': 5, 'nome': 'Cinco', 'amigos': []},\n",
       " {'id': 6, 'nome': 'Seis', 'amigos': []},\n",
       " {'id': 7, 'nome': 'Sete', 'amigos': []},\n",
       " {'id': 8, 'nome': 'Oito', 'amigos': []},\n",
       " {'id': 9, 'nome': 'Nove', 'amigos': []}]"
      ]
     },
     "execution_count": 28,
     "metadata": {},
     "output_type": "execute_result"
    }
   ],
   "source": [
    "for user in usuarios:\n",
    "    user[\"amigos\"] = []\n",
    "usuarios"
   ]
  },
  {
   "cell_type": "code",
   "execution_count": 29,
   "metadata": {},
   "outputs": [
    {
     "data": {
      "text/html": [
       "<div>\n",
       "<style scoped>\n",
       "    .dataframe tbody tr th:only-of-type {\n",
       "        vertical-align: middle;\n",
       "    }\n",
       "\n",
       "    .dataframe tbody tr th {\n",
       "        vertical-align: top;\n",
       "    }\n",
       "\n",
       "    .dataframe thead th {\n",
       "        text-align: right;\n",
       "    }\n",
       "</style>\n",
       "<table border=\"1\" class=\"dataframe\">\n",
       "  <thead>\n",
       "    <tr style=\"text-align: right;\">\n",
       "      <th></th>\n",
       "      <th>id</th>\n",
       "      <th>nome</th>\n",
       "      <th>amigos</th>\n",
       "    </tr>\n",
       "  </thead>\n",
       "  <tbody>\n",
       "    <tr>\n",
       "      <th>0</th>\n",
       "      <td>0</td>\n",
       "      <td>Zero</td>\n",
       "      <td>[{'id': 1, 'nome': 'Um', 'amigos': [{'id': 0, ...</td>\n",
       "    </tr>\n",
       "    <tr>\n",
       "      <th>1</th>\n",
       "      <td>1</td>\n",
       "      <td>Um</td>\n",
       "      <td>[{'id': 0, 'nome': 'Zero', 'amigos': [{'id': 1...</td>\n",
       "    </tr>\n",
       "    <tr>\n",
       "      <th>2</th>\n",
       "      <td>2</td>\n",
       "      <td>Dois</td>\n",
       "      <td>[{'id': 0, 'nome': 'Zero', 'amigos': [{'id': 1...</td>\n",
       "    </tr>\n",
       "    <tr>\n",
       "      <th>3</th>\n",
       "      <td>3</td>\n",
       "      <td>Tres</td>\n",
       "      <td>[{'id': 1, 'nome': 'Um', 'amigos': [{'id': 0, ...</td>\n",
       "    </tr>\n",
       "    <tr>\n",
       "      <th>4</th>\n",
       "      <td>4</td>\n",
       "      <td>Quatro</td>\n",
       "      <td>[{'id': 3, 'nome': 'Tres', 'amigos': [{'id': 1...</td>\n",
       "    </tr>\n",
       "    <tr>\n",
       "      <th>5</th>\n",
       "      <td>5</td>\n",
       "      <td>Cinco</td>\n",
       "      <td>[{'id': 4, 'nome': 'Quatro', 'amigos': [{'id':...</td>\n",
       "    </tr>\n",
       "    <tr>\n",
       "      <th>6</th>\n",
       "      <td>6</td>\n",
       "      <td>Seis</td>\n",
       "      <td>[{'id': 5, 'nome': 'Cinco', 'amigos': [{'id': ...</td>\n",
       "    </tr>\n",
       "    <tr>\n",
       "      <th>7</th>\n",
       "      <td>7</td>\n",
       "      <td>Sete</td>\n",
       "      <td>[{'id': 5, 'nome': 'Cinco', 'amigos': [{'id': ...</td>\n",
       "    </tr>\n",
       "    <tr>\n",
       "      <th>8</th>\n",
       "      <td>8</td>\n",
       "      <td>Oito</td>\n",
       "      <td>[{'id': 6, 'nome': 'Seis', 'amigos': [{'id': 5...</td>\n",
       "    </tr>\n",
       "    <tr>\n",
       "      <th>9</th>\n",
       "      <td>9</td>\n",
       "      <td>Nove</td>\n",
       "      <td>[{'id': 8, 'nome': 'Oito', 'amigos': [{'id': 6...</td>\n",
       "    </tr>\n",
       "  </tbody>\n",
       "</table>\n",
       "</div>"
      ],
      "text/plain": [
       "   id    nome                                             amigos\n",
       "0   0    Zero  [{'id': 1, 'nome': 'Um', 'amigos': [{'id': 0, ...\n",
       "1   1      Um  [{'id': 0, 'nome': 'Zero', 'amigos': [{'id': 1...\n",
       "2   2    Dois  [{'id': 0, 'nome': 'Zero', 'amigos': [{'id': 1...\n",
       "3   3    Tres  [{'id': 1, 'nome': 'Um', 'amigos': [{'id': 0, ...\n",
       "4   4  Quatro  [{'id': 3, 'nome': 'Tres', 'amigos': [{'id': 1...\n",
       "5   5   Cinco  [{'id': 4, 'nome': 'Quatro', 'amigos': [{'id':...\n",
       "6   6    Seis  [{'id': 5, 'nome': 'Cinco', 'amigos': [{'id': ...\n",
       "7   7    Sete  [{'id': 5, 'nome': 'Cinco', 'amigos': [{'id': ...\n",
       "8   8    Oito  [{'id': 6, 'nome': 'Seis', 'amigos': [{'id': 5...\n",
       "9   9    Nove  [{'id': 8, 'nome': 'Oito', 'amigos': [{'id': 6..."
      ]
     },
     "execution_count": 29,
     "metadata": {},
     "output_type": "execute_result"
    }
   ],
   "source": [
    "for i, j in relacionamentos:\n",
    "    # isso funciona porque users[i] é o usuário cuja id é i\n",
    "    usuarios[i][\"amigos\"].append(usuarios[j]) # adiciona i como um amigo de j\n",
    "    usuarios[j][\"amigos\"].append(usuarios[i]) # adiciona j como um amigo de i\n",
    "df_usuarios = pd.DataFrame(usuarios)\n",
    "df_usuarios"
   ]
  },
  {
   "cell_type": "code",
   "execution_count": 33,
   "metadata": {},
   "outputs": [
    {
     "data": {
      "text/plain": [
       "24"
      ]
     },
     "execution_count": 33,
     "metadata": {},
     "output_type": "execute_result"
    }
   ],
   "source": [
    "def number_of_friends(user):\n",
    "    \"\"\"quantos amigos o usuário tem?\"\"\"\n",
    "    return len(user[\"amigos\"])\n",
    "total_connections = sum(number_of_friends(user) for user in usuarios)\n",
    "total_connections"
   ]
  },
  {
   "cell_type": "code",
   "execution_count": 35,
   "metadata": {},
   "outputs": [
    {
     "data": {
      "text/plain": [
       "2.4"
      ]
     },
     "execution_count": 35,
     "metadata": {},
     "output_type": "execute_result"
    }
   ],
   "source": [
    "num_users = len(usuarios) # tamanho da lista de usuários\n",
    "avg_connections = total_connections / num_users # 2.4\n",
    "avg_connections"
   ]
  },
  {
   "cell_type": "code",
   "execution_count": null,
   "metadata": {},
   "outputs": [],
   "source": []
  }
 ],
 "metadata": {
  "kernelspec": {
   "display_name": "Python 3",
   "language": "python",
   "name": "python3"
  },
  "language_info": {
   "codemirror_mode": {
    "name": "ipython",
    "version": 3
   },
   "file_extension": ".py",
   "mimetype": "text/x-python",
   "name": "python",
   "nbconvert_exporter": "python",
   "pygments_lexer": "ipython3",
   "version": "3.8.5"
  }
 },
 "nbformat": 4,
 "nbformat_minor": 5
}
