{
 "cells": [
  {
   "cell_type": "code",
   "execution_count": 6,
   "metadata": {},
   "outputs": [],
   "source": [
    "import cx_Oracle  \n",
    "import pandas as pd  \n",
    "import time"
   ]
  },
  {
   "cell_type": "code",
   "execution_count": 20,
   "metadata": {},
   "outputs": [],
   "source": [
    "uid = \"SYSTEM\"    # usuário\n",
    "pwd = \"sysdba\"   # senha\n",
    "db = \"localhost:1521\"  # string de conexão do Oracle\n",
    "sql = '''SELECT id FROM   tab_transito ORDER BY DBMS_RANDOM.VALUE FETCH NEXT 50 ROWS ONLY'''#  WHERE  ROWNUM <= 10000'''"
   ]
  },
  {
   "cell_type": "code",
   "execution_count": 21,
   "metadata": {},
   "outputs": [
    {
     "name": "stdout",
     "output_type": "stream",
     "text": [
      "ArraySize:  5000\n"
     ]
    }
   ],
   "source": [
    "class Conexao(cx_Oracle.Connection):  \n",
    "    def cursor(self):  \n",
    "        cursor = super(Conexao, self).cursor()  \n",
    "        cursor.arraysize = 5000  \n",
    "        return cursor  \n",
    "  \n",
    "conn = Conexao(uid, pwd, db, encoding=\"UTF-8\", nencoding=\"UTF-8\")  \n",
    "print('''ArraySize: ''', conn.cursor().arraysize)"
   ]
  },
  {
   "cell_type": "code",
   "execution_count": 22,
   "metadata": {},
   "outputs": [
    {
     "name": "stdout",
     "output_type": "stream",
     "text": [
      "0.003464674949645996  Minutos chunck 1\n",
      "0.0035313208897908527  Minutos chunck\n"
     ]
    },
    {
     "data": {
      "text/plain": [
       "[        ID\n",
       " 0   376492\n",
       " 1   371406\n",
       " 2   379178\n",
       " 3   379568\n",
       " 4   383060\n",
       " 5   380564\n",
       " 6   376120\n",
       " 7   375116\n",
       " 8   383631\n",
       " 9   387292\n",
       " 10  388555\n",
       " 11  383623\n",
       " 12  381470\n",
       " 13  382599\n",
       " 14  386313\n",
       " 15  386799\n",
       " 16  384323\n",
       " 17  372742\n",
       " 18  387963\n",
       " 19  387803\n",
       " 20  374855\n",
       " 21  375072\n",
       " 22  388910\n",
       " 23  387754\n",
       " 24  386055\n",
       " 25  381701\n",
       " 26  378947\n",
       " 27  386119\n",
       " 28  375202\n",
       " 29  388168\n",
       " 30  376594\n",
       " 31  381987\n",
       " 32  370077\n",
       " 33  375620\n",
       " 34  376247\n",
       " 35  386839\n",
       " 36  378690\n",
       " 37  381483\n",
       " 38  382763\n",
       " 39  377370\n",
       " 40  389329\n",
       " 41  382098\n",
       " 42  389828\n",
       " 43  376064\n",
       " 44  372351\n",
       " 45  371365\n",
       " 46  374469\n",
       " 47  381335\n",
       " 48  374525\n",
       " 49  379835]"
      ]
     },
     "execution_count": 22,
     "metadata": {},
     "output_type": "execute_result"
    }
   ],
   "source": [
    "# Create empty list\n",
    "lista_chunck= [] \n",
    "# Start Chunking \n",
    "i=1\n",
    "# iniciar contador\n",
    "start = time.time()\n",
    "for chunk in pd.read_sql(sql, con=conn, chunksize=500000):\n",
    "    # Start Appending Data Chunks from SQL Result set into List\n",
    "    elapsed = (time.time() - start)\n",
    "    print(elapsed/60,\" Minutos chunck\", i)\n",
    "    i= i+1\n",
    "    lista_chunck.append(chunk)\n",
    "conn.close()\n",
    "    \n",
    "elapsed = (time.time() - start)\n",
    "print(elapsed/60, \" Minutos chunck\")\n",
    "lista_chunck"
   ]
  },
  {
   "cell_type": "code",
   "execution_count": 23,
   "metadata": {},
   "outputs": [
    {
     "name": "stdout",
     "output_type": "stream",
     "text": [
      "3.330707550048828e-05  Minutos, minutos total\n"
     ]
    }
   ],
   "source": [
    "# Create empty dataframe\n",
    "df = pd.DataFrame()  \n",
    "start = time.time()\n",
    "# Start appending data from list to dataframe\n",
    "df = pd.concat(lista_chunck, ignore_index=True)\n",
    "\n",
    "elapsed = (time.time() - start)\n",
    "print(elapsed/60, \" Minutos, minutos total\")"
   ]
  },
  {
   "cell_type": "code",
   "execution_count": 24,
   "metadata": {},
   "outputs": [
    {
     "data": {
      "text/plain": [
       "(50, 1)"
      ]
     },
     "execution_count": 24,
     "metadata": {},
     "output_type": "execute_result"
    }
   ],
   "source": [
    "df.shape"
   ]
  },
  {
   "cell_type": "code",
   "execution_count": 25,
   "metadata": {},
   "outputs": [
    {
     "data": {
      "text/plain": [
       "ID    int64\n",
       "dtype: object"
      ]
     },
     "execution_count": 25,
     "metadata": {},
     "output_type": "execute_result"
    }
   ],
   "source": [
    "df.dtypes"
   ]
  },
  {
   "cell_type": "code",
   "execution_count": 26,
   "metadata": {},
   "outputs": [
    {
     "data": {
      "text/html": [
       "<div>\n",
       "<style scoped>\n",
       "    .dataframe tbody tr th:only-of-type {\n",
       "        vertical-align: middle;\n",
       "    }\n",
       "\n",
       "    .dataframe tbody tr th {\n",
       "        vertical-align: top;\n",
       "    }\n",
       "\n",
       "    .dataframe thead th {\n",
       "        text-align: right;\n",
       "    }\n",
       "</style>\n",
       "<table border=\"1\" class=\"dataframe\">\n",
       "  <thead>\n",
       "    <tr style=\"text-align: right;\">\n",
       "      <th></th>\n",
       "      <th>ID</th>\n",
       "    </tr>\n",
       "  </thead>\n",
       "  <tbody>\n",
       "    <tr>\n",
       "      <th>0</th>\n",
       "      <td>376492</td>\n",
       "    </tr>\n",
       "    <tr>\n",
       "      <th>1</th>\n",
       "      <td>371406</td>\n",
       "    </tr>\n",
       "    <tr>\n",
       "      <th>2</th>\n",
       "      <td>379178</td>\n",
       "    </tr>\n",
       "    <tr>\n",
       "      <th>3</th>\n",
       "      <td>379568</td>\n",
       "    </tr>\n",
       "    <tr>\n",
       "      <th>4</th>\n",
       "      <td>383060</td>\n",
       "    </tr>\n",
       "  </tbody>\n",
       "</table>\n",
       "</div>"
      ],
      "text/plain": [
       "       ID\n",
       "0  376492\n",
       "1  371406\n",
       "2  379178\n",
       "3  379568\n",
       "4  383060"
      ]
     },
     "execution_count": 26,
     "metadata": {},
     "output_type": "execute_result"
    }
   ],
   "source": [
    "df.head()"
   ]
  },
  {
   "cell_type": "code",
   "execution_count": 27,
   "metadata": {},
   "outputs": [],
   "source": [
    "df.to_csv('Lista.csv', index= False)"
   ]
  },
  {
   "cell_type": "code",
   "execution_count": null,
   "metadata": {},
   "outputs": [],
   "source": []
  }
 ],
 "metadata": {
  "kernelspec": {
   "display_name": "Python 3",
   "language": "python",
   "name": "python3"
  },
  "language_info": {
   "codemirror_mode": {
    "name": "ipython",
    "version": 3
   },
   "file_extension": ".py",
   "mimetype": "text/x-python",
   "name": "python",
   "nbconvert_exporter": "python",
   "pygments_lexer": "ipython3",
   "version": "3.8.5"
  }
 },
 "nbformat": 4,
 "nbformat_minor": 4
}
