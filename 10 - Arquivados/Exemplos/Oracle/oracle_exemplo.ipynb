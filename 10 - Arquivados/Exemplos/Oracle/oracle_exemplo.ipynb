{
 "cells": [
  {
   "cell_type": "code",
   "execution_count": null,
   "metadata": {},
   "outputs": [],
   "source": [
    "import cx_Oracle  \n",
    "import pandas as pd  \n",
    "import time"
   ]
  },
  {
   "cell_type": "code",
   "execution_count": null,
   "metadata": {},
   "outputs": [],
   "source": [
    "uid = \"SYSTEM\"    # usuário\n",
    "pwd = \"sysdba\"   # senha\n",
    "db = \"localhost:1521\"  # string de conexão do Oracle\n",
    "sql = '''Select * from tab_empresas'''#  WHERE  ROWNUM <= 10000'''"
   ]
  },
  {
   "cell_type": "code",
   "execution_count": null,
   "metadata": {},
   "outputs": [],
   "source": [
    "class Conexao(cx_Oracle.Connection):  \n",
    "    def cursor(self):  \n",
    "        cursor = super(Conexao, self).cursor()  \n",
    "        cursor.arraysize = 5000  \n",
    "        return cursor  \n",
    "  \n",
    "conn = Conexao(uid, pwd, db, encoding=\"UTF-8\", nencoding=\"UTF-8\")  \n",
    "print('''ArraySize: ''', conn.cursor().arraysize)"
   ]
  },
  {
   "cell_type": "code",
   "execution_count": null,
   "metadata": {},
   "outputs": [],
   "source": [
    "# Create empty list\n",
    "lista_chunck= [] \n",
    "# Start Chunking \n",
    "i=1\n",
    "# iniciar contador\n",
    "start = time.time()\n",
    "for chunk in pd.read_sql(sql, con=conn, chunksize=1000000):\n",
    "    # Start Appending Data Chunks from SQL Result set into List\n",
    "    elapsed = (time.time() - start)\n",
    "    print(elapsed/60,\" Minutos chunck\", i)\n",
    "    i= i+1\n",
    "    lista_chunck.append(chunk)\n",
    "conn.close()\n",
    "    \n",
    "elapsed = (time.time() - start)\n",
    "print(elapsed/60, \" Minutos chunck\")\n",
    "lista_chunck"
   ]
  },
  {
   "cell_type": "code",
   "execution_count": null,
   "metadata": {},
   "outputs": [],
   "source": [
    "# Create empty dataframe\n",
    "df = pd.DataFrame()  \n",
    "start = time.time()\n",
    "# Start appending data from list to dataframe\n",
    "df = pd.concat(lista_chunck, ignore_index=True)\n",
    "\n",
    "elapsed = (time.time() - start)\n",
    "print(elapsed/60, \" Minutos, minutos total\")"
   ]
  },
  {
   "cell_type": "code",
   "execution_count": null,
   "metadata": {},
   "outputs": [],
   "source": [
    "df.shape"
   ]
  },
  {
   "cell_type": "code",
   "execution_count": null,
   "metadata": {},
   "outputs": [],
   "source": [
    "df.dtypes"
   ]
  },
  {
   "cell_type": "code",
   "execution_count": null,
   "metadata": {},
   "outputs": [],
   "source": [
    "df.head()"
   ]
  }
 ],
 "metadata": {
  "kernelspec": {
   "display_name": "Python 3",
   "language": "python",
   "name": "python3"
  },
  "language_info": {
   "codemirror_mode": {
    "name": "ipython",
    "version": 3
   },
   "file_extension": ".py",
   "mimetype": "text/x-python",
   "name": "python",
   "nbconvert_exporter": "python",
   "pygments_lexer": "ipython3",
   "version": "3.8.5"
  }
 },
 "nbformat": 4,
 "nbformat_minor": 4
}
