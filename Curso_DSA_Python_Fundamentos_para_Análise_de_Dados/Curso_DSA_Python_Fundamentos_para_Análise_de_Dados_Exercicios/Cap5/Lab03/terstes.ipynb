{
 "cells": [
  {
   "cell_type": "code",
   "execution_count": null,
   "metadata": {},
   "outputs": [],
   "source": [
    "import random"
   ]
  },
  {
   "cell_type": "code",
   "execution_count": null,
   "metadata": {},
   "outputs": [],
   "source": [
    "with open(\"palavras.txt\", \"rt\") as f:\n",
    "    bank = f.readlines()\n",
    "    palavra = bank[random.randint(0,len(bank)-1)].strip().upper()\n",
    "palavra"
   ]
  },
  {
   "cell_type": "code",
   "execution_count": null,
   "metadata": {},
   "outputs": [],
   "source": []
  },
  {
   "cell_type": "code",
   "execution_count": null,
   "metadata": {},
   "outputs": [],
   "source": []
  },
  {
   "cell_type": "code",
   "execution_count": null,
   "metadata": {},
   "outputs": [],
   "source": [
    "palavra = 'casa'.upper()\n",
    "letras = []"
   ]
  },
  {
   "cell_type": "code",
   "execution_count": null,
   "metadata": {},
   "outputs": [],
   "source": [
    "letras = ['A','B']\n",
    "letras.append('p'.upper())"
   ]
  },
  {
   "cell_type": "code",
   "execution_count": null,
   "metadata": {
    "tags": []
   },
   "outputs": [],
   "source": [
    "print(\"Palavra: \", end = \"\")\n",
    "for i in range(len(palavra)):\n",
    "    if palavra[i] in letras:\n",
    "        print(palavra[i] +\" \", end = \"\")\n",
    "    else:\n",
    "        print(\"_ \", end = \"\")"
   ]
  },
  {
   "cell_type": "code",
   "execution_count": null,
   "metadata": {},
   "outputs": [],
   "source": [
    "letras"
   ]
  },
  {
   "cell_type": "code",
   "execution_count": null,
   "metadata": {},
   "outputs": [],
   "source": [
    "palavra"
   ]
  },
  {
   "cell_type": "code",
   "execution_count": null,
   "metadata": {},
   "outputs": [],
   "source": [
    "letras.append() if in letras\n",
    "letra = input('letra:').upper() if \n",
    "\n",
    "s = \"par\" if num1 % 2 == 0 else \"ímpar\""
   ]
  },
  {
   "cell_type": "code",
   "execution_count": null,
   "metadata": {},
   "outputs": [],
   "source": [
    "letras"
   ]
  },
  {
   "cell_type": "code",
   "execution_count": null,
   "metadata": {},
   "outputs": [],
   "source": [
    "x='C'\n",
    "\n",
    "letras.append(x) if x not in letras else None\n",
    "letras"
   ]
  },
  {
   "cell_type": "code",
   "execution_count": null,
   "metadata": {},
   "outputs": [],
   "source": [
    "x in letras"
   ]
  },
  {
   "cell_type": "code",
   "execution_count": null,
   "metadata": {},
   "outputs": [],
   "source": [
    "for i in letras:\n",
    "    print(palavra.count(i))"
   ]
  },
  {
   "cell_type": "code",
   "execution_count": null,
   "metadata": {},
   "outputs": [],
   "source": [
    "palavra.count('A')"
   ]
  },
  {
   "cell_type": "code",
   "execution_count": null,
   "metadata": {},
   "outputs": [],
   "source": [
    "for i in letras:\n",
    "    print(i)"
   ]
  },
  {
   "cell_type": "code",
   "execution_count": null,
   "metadata": {},
   "outputs": [],
   "source": [
    "letra = '11'\n",
    "while letra.isnumeric() or len(letra)>1:\n",
    "    letra = input('Digite uma letra:')\n",
    "\n",
    "letra.upper()"
   ]
  },
  {
   "cell_type": "code",
   "execution_count": null,
   "metadata": {},
   "outputs": [],
   "source": [
    "letra.isalpha() and len(letra)==1"
   ]
  },
  {
   "cell_type": "code",
   "execution_count": null,
   "metadata": {},
   "outputs": [],
   "source": [
    "letra = input('Digite uma letra:')\n",
    "letra.isnumeric()"
   ]
  },
  {
   "cell_type": "code",
   "execution_count": null,
   "metadata": {},
   "outputs": [],
   "source": [
    "letra\n"
   ]
  },
  {
   "cell_type": "code",
   "execution_count": null,
   "metadata": {},
   "outputs": [],
   "source": [
    "len(letra)>1"
   ]
  },
  {
   "cell_type": "code",
   "execution_count": null,
   "metadata": {},
   "outputs": [],
   "source": [
    "while True:\n",
    "    n = input(\"Digite um numero: \")\n",
    "    if n.isalpha():\n",
    "        print('Voce digitou o numero ' + n)\n",
    "        break\n",
    "    else:\n",
    "        continue"
   ]
  },
  {
   "cell_type": "code",
   "execution_count": null,
   "metadata": {},
   "outputs": [],
   "source": [
    "board = ['''\n",
    "\n",
    ">>>>>>>>>>Hangman<<<<<<<<<<\n",
    "\n",
    "+---+\n",
    "|   |\n",
    "    |\n",
    "    |\n",
    "    |\n",
    "    |\n",
    "=========''', '''\n",
    "\n",
    "+---+\n",
    "|   |\n",
    "O   |\n",
    "    |\n",
    "    |\n",
    "    |\n",
    "=========''', '''\n",
    "\n",
    "+---+\n",
    "|   |\n",
    "O   |\n",
    "|   |\n",
    "    |\n",
    "    |\n",
    "=========''', '''\n",
    "\n",
    " +---+\n",
    " |   |\n",
    " O   |\n",
    "/|   |\n",
    "     |\n",
    "     |\n",
    "=========''', '''\n",
    "\n",
    " +---+\n",
    " |   |\n",
    " O   |\n",
    "/|\\  |\n",
    "     |\n",
    "     |\n",
    "=========''', '''\n",
    "\n",
    " +---+\n",
    " |   |\n",
    " O   |\n",
    "/|\\  |\n",
    "/    |\n",
    "     |\n",
    "=========''', '''\n",
    "\n",
    " +---+\n",
    " |   |\n",
    " O   |\n",
    "/|\\  |\n",
    "/ \\  |\n",
    "     |\n",
    "=========''']"
   ]
  },
  {
   "cell_type": "code",
   "execution_count": null,
   "metadata": {},
   "outputs": [],
   "source": [
    "board[0]"
   ]
  },
  {
   "cell_type": "code",
   "execution_count": null,
   "metadata": {},
   "outputs": [],
   "source": [
    "print(board[0])"
   ]
  },
  {
   "cell_type": "code",
   "execution_count": null,
   "metadata": {},
   "outputs": [],
   "source": [
    "print('\\n')\n",
    "print('>>>>>>>>>>Hangman<<<<<<<<<<')\n",
    "print('\\nEscolha um Nível:')\n",
    "print('\\n')\n",
    "print('1 - Fácil')\n",
    "print('2 - Nédio')\n",
    "print('3 - Difícil')\n",
    "nivel = 1\n",
    "while True:\n",
    "    nivel = input()\n",
    "    if nivel == '3':\n",
    "        nivel = 1\n",
    "    elif nivel == '2':\n",
    "        nivel = 1,5\n",
    "    elif nivel == '1':\n",
    "        nivel = 2\n",
    "    else:\n",
    "        print('escolha uma das opções!')\n",
    "        continue"
   ]
  },
  {
   "cell_type": "code",
   "execution_count": null,
   "metadata": {},
   "outputs": [],
   "source": []
  }
 ],
 "metadata": {
  "kernelspec": {
   "display_name": "Python 3.8.5 64-bit (conda)",
   "language": "python",
   "name": "python38564bitconda84812c7fac97480dab714d8ec933c0ec"
  },
  "language_info": {
   "codemirror_mode": {
    "name": "ipython",
    "version": 3
   },
   "file_extension": ".py",
   "mimetype": "text/x-python",
   "name": "python",
   "nbconvert_exporter": "python",
   "pygments_lexer": "ipython3",
   "version": "3.8.5"
  }
 },
 "nbformat": 4,
 "nbformat_minor": 4
}
