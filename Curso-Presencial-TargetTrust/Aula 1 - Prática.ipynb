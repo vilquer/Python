{
 "cells": [
  {
   "cell_type": "markdown",
   "metadata": {},
   "source": [
    "# Prática 1\n",
    "\n",
    "Temos alguns valores aplicados, e recebemos a taxa de rentabilização destes valores relativa ao mês passado. Conseguimos ver o saldo de nossa carteira?"
   ]
  },
  {
   "cell_type": "markdown",
   "metadata": {},
   "source": [
    "## Criar duas listas:\n",
    "* uma de taxas (valores entre 0 e 1)\n",
    "* uma de valores de mesmo tamanho (valores numéricos a cima de 50)"
   ]
  },
  {
   "cell_type": "code",
   "execution_count": 1,
   "metadata": {},
   "outputs": [
    {
     "name": "stdout",
     "output_type": "stream",
     "text": [
      "Taxas: [0.1, 0.2, 0.4, 0.5]\n",
      "Valores: [50, 100, 125, 10]\n"
     ]
    }
   ],
   "source": [
    "taxas = [0.1, 0.2, 0.4, 0.5]\n",
    "valores = [50, 100, 125, 10]\n",
    "print('Taxas:', taxas)\n",
    "print('Valores:', valores)"
   ]
  },
  {
   "cell_type": "markdown",
   "metadata": {},
   "source": [
    "## Calcular os valores\n",
    "\n",
    "* criar um terceiro vetor que é o resultado da multiplicação entre as duas listas anteriores"
   ]
  },
  {
   "cell_type": "code",
   "execution_count": null,
   "metadata": {},
   "outputs": [],
   "source": [
    "valores_rentabilizados = []\n",
    "for i in range(len(taxas)):\n",
    "    valor_rentabilizado = taxas[i] * valores[i]\n",
    "    valores_rentabilizados.append(valor_rentabilizado)\n",
    "print('Valores Rentabilizados:', valores_rentabilizados)"
   ]
  },
  {
   "cell_type": "markdown",
   "metadata": {},
   "source": [
    "## Fazer o somatório da carteira!"
   ]
  },
  {
   "cell_type": "code",
   "execution_count": null,
   "metadata": {},
   "outputs": [],
   "source": [
    "soma = 0\n",
    "for valor_rentabilizado in valores_rentabilizados:\n",
    "    soma += valor_rentabilizado\n",
    "print(soma)"
   ]
  },
  {
   "cell_type": "code",
   "execution_count": null,
   "metadata": {},
   "outputs": [],
   "source": [
    "soma = sum(valores_rentabilizados)\n",
    "print(soma)"
   ]
  },
  {
   "cell_type": "markdown",
   "metadata": {},
   "source": [
    "# Prática 2\n",
    "\n",
    "Repetir a prática 1 usando o numpy!"
   ]
  },
  {
   "cell_type": "markdown",
   "metadata": {},
   "source": [
    "## Importando a biblioteca"
   ]
  },
  {
   "cell_type": "code",
   "execution_count": null,
   "metadata": {},
   "outputs": [],
   "source": [
    "import numpy as np"
   ]
  },
  {
   "cell_type": "markdown",
   "metadata": {},
   "source": [
    "## Criando as listas de valores e taxas"
   ]
  },
  {
   "cell_type": "code",
   "execution_count": null,
   "metadata": {},
   "outputs": [],
   "source": [
    "taxas = np.array([0.1, 0.2, 0.4, 0.5])\n",
    "valores = np.array([50, 100, 125, 10])\n",
    "print('Taxas:', taxas)\n",
    "print('Valores:', valores)"
   ]
  },
  {
   "cell_type": "markdown",
   "metadata": {},
   "source": [
    "## Multiplicando os valores pelas taxas criando o terceiro array de valores_rentabilizados"
   ]
  },
  {
   "cell_type": "code",
   "execution_count": null,
   "metadata": {},
   "outputs": [],
   "source": [
    "valores_rentabilizados = valores * taxas\n",
    "print('Valores Rentabilizados:', valores_rentabilizados)"
   ]
  },
  {
   "cell_type": "markdown",
   "metadata": {},
   "source": [
    "## Fazendo o somatório da carteira"
   ]
  },
  {
   "cell_type": "code",
   "execution_count": null,
   "metadata": {},
   "outputs": [],
   "source": [
    "np.sum(valores_rentabilizados)"
   ]
  },
  {
   "cell_type": "code",
   "execution_count": null,
   "metadata": {},
   "outputs": [],
   "source": [
    "valores_rentabilizados.sum()"
   ]
  },
  {
   "cell_type": "markdown",
   "metadata": {
    "heading_collapsed": true
   },
   "source": [
    "# Comparativo entre os dois códigos"
   ]
  },
  {
   "cell_type": "markdown",
   "metadata": {
    "heading_collapsed": true,
    "hidden": true
   },
   "source": [
    "## Sem Numpy"
   ]
  },
  {
   "cell_type": "code",
   "execution_count": null,
   "metadata": {
    "hidden": true
   },
   "outputs": [],
   "source": [
    "taxas = [0.1, 0.2, 0.4, 0.5]\n",
    "valores = [50, 100, 125, 10]\n",
    "\n",
    "valores_rentabilizados = []\n",
    "for i in range(len(taxas)):\n",
    "    valor_rentabilizado = taxas[i] * valores[i]\n",
    "    valores_rentabilizados.append(valor_rentabilizado)\n",
    "\n",
    "soma = 0\n",
    "for valor_rentabilizado in valores_rentabilizados:\n",
    "    soma += valor_rentabilizado\n",
    "    \n",
    "print('Taxas:', taxas)\n",
    "print('Valores:', valores)\n",
    "print('Valores Rentabilizados:', valores_rentabilizados)\n",
    "print('Rentabilidade Carteira:', soma)"
   ]
  },
  {
   "cell_type": "markdown",
   "metadata": {
    "heading_collapsed": true,
    "hidden": true
   },
   "source": [
    "## Com Numpy"
   ]
  },
  {
   "cell_type": "code",
   "execution_count": null,
   "metadata": {
    "hidden": true
   },
   "outputs": [],
   "source": [
    "taxas = np.array([0.1, 0.2, 0.4, 0.5])\n",
    "valores = np.array([50, 100, 125, 10])\n",
    "valores_rentabilizados = valores * taxas\n",
    "soma = np.sum(valores_rentabilizados)\n",
    "\n",
    "print('Taxas:', taxas)\n",
    "print('Valores:', valores)\n",
    "print('Valores Rentabilizados:', valores_rentabilizados)\n",
    "print('Rentabilidade Carteira:', soma)"
   ]
  },
  {
   "cell_type": "markdown",
   "metadata": {},
   "source": [
    "# Prática 3"
   ]
  },
  {
   "cell_type": "markdown",
   "metadata": {},
   "source": [
    "## Criar dois arrays:\n",
    "\n",
    "* com valores de 6 a 22\n",
    "* com valores de 5 a 21 "
   ]
  },
  {
   "cell_type": "code",
   "execution_count": null,
   "metadata": {},
   "outputs": [],
   "source": [
    "array1 = np.arange(6, 22)\n",
    "array2 = np.arange(5, 21)\n",
    "\n",
    "display(array1)\n",
    "display(array2)"
   ]
  },
  {
   "cell_type": "code",
   "execution_count": null,
   "metadata": {},
   "outputs": [],
   "source": [
    "array1"
   ]
  },
  {
   "cell_type": "markdown",
   "metadata": {},
   "source": [
    "## Substituição\n",
    "    \n",
    "* substituir os 4 elementos do meio do array1 pelo número 2"
   ]
  },
  {
   "cell_type": "code",
   "execution_count": null,
   "metadata": {},
   "outputs": [],
   "source": [
    "tamanho = len(array1) // 2\n",
    "inicio = tamanho - 2\n",
    "parada = tamanho + 2\n",
    "\n",
    "array1[inicio: parada] = 2\n",
    "\n",
    "array1"
   ]
  },
  {
   "cell_type": "markdown",
   "metadata": {},
   "source": [
    "## Verificar se todos os elementos do array1 são maiores que do array2"
   ]
  },
  {
   "cell_type": "code",
   "execution_count": null,
   "metadata": {},
   "outputs": [],
   "source": [
    "array1 > array2"
   ]
  },
  {
   "cell_type": "code",
   "execution_count": null,
   "metadata": {},
   "outputs": [],
   "source": [
    "mask = array1 > array2\n",
    "mask"
   ]
  },
  {
   "cell_type": "code",
   "execution_count": null,
   "metadata": {},
   "outputs": [],
   "source": [
    "array1[mask]"
   ]
  },
  {
   "cell_type": "code",
   "execution_count": null,
   "metadata": {},
   "outputs": [],
   "source": [
    "np.all(array1 > array2)"
   ]
  },
  {
   "cell_type": "markdown",
   "metadata": {},
   "source": [
    "## Selecionar os elementos que são maiores em array1 que array2"
   ]
  },
  {
   "cell_type": "code",
   "execution_count": null,
   "metadata": {},
   "outputs": [],
   "source": [
    "array1[array1 > array2]"
   ]
  },
  {
   "cell_type": "markdown",
   "metadata": {},
   "source": [
    "## Selecionar os elementos que são menores que 11 em array1"
   ]
  },
  {
   "cell_type": "code",
   "execution_count": null,
   "metadata": {},
   "outputs": [],
   "source": [
    "array1[array1 < 11]"
   ]
  },
  {
   "cell_type": "markdown",
   "metadata": {},
   "source": [
    "## Selecionar os elementos que são menores que 23 e maiores que 2"
   ]
  },
  {
   "cell_type": "code",
   "execution_count": null,
   "metadata": {},
   "outputs": [],
   "source": [
    "mask1 = array1 < 23\n",
    "mask2 = array1 > 2"
   ]
  },
  {
   "cell_type": "code",
   "execution_count": null,
   "metadata": {},
   "outputs": [],
   "source": [
    "array1[mask1 & mask2]"
   ]
  },
  {
   "cell_type": "code",
   "execution_count": null,
   "metadata": {},
   "outputs": [],
   "source": []
  }
 ],
 "metadata": {
  "kernelspec": {
   "display_name": "Python 3",
   "language": "python",
   "name": "python3"
  },
  "language_info": {
   "codemirror_mode": {
    "name": "ipython",
    "version": 3
   },
   "file_extension": ".py",
   "mimetype": "text/x-python",
   "name": "python",
   "nbconvert_exporter": "python",
   "pygments_lexer": "ipython3",
   "version": "3.7.6"
  },
  "toc": {
   "base_numbering": 1,
   "nav_menu": {},
   "number_sections": true,
   "sideBar": true,
   "skip_h1_title": false,
   "title_cell": "Table of Contents",
   "title_sidebar": "Contents",
   "toc_cell": false,
   "toc_position": {},
   "toc_section_display": true,
   "toc_window_display": false
  }
 },
 "nbformat": 4,
 "nbformat_minor": 4
}
