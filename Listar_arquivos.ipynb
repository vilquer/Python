{
 "cells": [
  {
   "cell_type": "code",
   "execution_count": 132,
   "id": "85435f1f",
   "metadata": {},
   "outputs": [
    {
     "name": "stdout",
     "output_type": "stream",
     "text": [
      "Wall time: 0 ns\n"
     ]
    }
   ],
   "source": [
    "%%time\n",
    "import os\n",
    "import sys\n",
    "import glob\n",
    "import pandas as pd\n",
    "import os.path, time\n"
   ]
  },
  {
   "cell_type": "code",
   "execution_count": 186,
   "id": "588933be",
   "metadata": {},
   "outputs": [
    {
     "ename": "FileNotFoundError",
     "evalue": "[WinError 3] O sistema não pode encontrar o caminho especificado: 'D://$RECYCLE.BIN\\\\S-1-5-21-2572101778-3052211785-997342616-1001\\\\$R7UQHBW\\\\Cursos_Udemy-Python-Data-Science-and-Machine-Learning\\\\Dados-do-curso-Python-Data-Science-and-Machine-Learning\\\\1. Curso Relâmpago de Python\\\\Curso relâmpago de Python - Solução de exercícios.ipynb'",
     "output_type": "error",
     "traceback": [
      "\u001b[1;31m---------------------------------------------------------------------------\u001b[0m",
      "\u001b[1;31mFileNotFoundError\u001b[0m                         Traceback (most recent call last)",
      "\u001b[1;32m<timed exec>\u001b[0m in \u001b[0;36m<module>\u001b[1;34m\u001b[0m\n",
      "\u001b[1;32mD:\\ProgramData\\Anaconda3\\envs\\teste\\lib\\genericpath.py\u001b[0m in \u001b[0;36mgetsize\u001b[1;34m(filename)\u001b[0m\n\u001b[0;32m     48\u001b[0m \u001b[1;32mdef\u001b[0m \u001b[0mgetsize\u001b[0m\u001b[1;33m(\u001b[0m\u001b[0mfilename\u001b[0m\u001b[1;33m)\u001b[0m\u001b[1;33m:\u001b[0m\u001b[1;33m\u001b[0m\u001b[1;33m\u001b[0m\u001b[0m\n\u001b[0;32m     49\u001b[0m     \u001b[1;34m\"\"\"Return the size of a file, reported by os.stat().\"\"\"\u001b[0m\u001b[1;33m\u001b[0m\u001b[1;33m\u001b[0m\u001b[0m\n\u001b[1;32m---> 50\u001b[1;33m     \u001b[1;32mreturn\u001b[0m \u001b[0mos\u001b[0m\u001b[1;33m.\u001b[0m\u001b[0mstat\u001b[0m\u001b[1;33m(\u001b[0m\u001b[0mfilename\u001b[0m\u001b[1;33m)\u001b[0m\u001b[1;33m.\u001b[0m\u001b[0mst_size\u001b[0m\u001b[1;33m\u001b[0m\u001b[1;33m\u001b[0m\u001b[0m\n\u001b[0m\u001b[0;32m     51\u001b[0m \u001b[1;33m\u001b[0m\u001b[0m\n\u001b[0;32m     52\u001b[0m \u001b[1;33m\u001b[0m\u001b[0m\n",
      "\u001b[1;31mFileNotFoundError\u001b[0m: [WinError 3] O sistema não pode encontrar o caminho especificado: 'D://$RECYCLE.BIN\\\\S-1-5-21-2572101778-3052211785-997342616-1001\\\\$R7UQHBW\\\\Cursos_Udemy-Python-Data-Science-and-Machine-Learning\\\\Dados-do-curso-Python-Data-Science-and-Machine-Learning\\\\1. Curso Relâmpago de Python\\\\Curso relâmpago de Python - Solução de exercícios.ipynb'"
     ]
    }
   ],
   "source": [
    "%%time\n",
    "df_diretorios = pd.DataFrame(columns=['filename','tamanho','data_arquivo','data_ultima_modificacao'], )\n",
    "root_dir = r'D://'    \n",
    "for filename in glob.iglob(root_dir + '**/*', recursive=True):\n",
    "    df_diretorios.loc[len(df_diretorios)] = [filename,os.path.getsize(filename),(os.path.getmtime(filename)),os.path.getctime(filename)]\n",
    "    #print(filename)\n",
    "    #print(os.path.getsize(filename))\n",
    "    #print(time.ctime(os.path.getmtime(filename)))\n",
    "    #print(time.ctime(os.path.getctime(filename)))\n",
    "     # do stuff\n",
    "df_diretorios"
   ]
  },
  {
   "cell_type": "code",
   "execution_count": 157,
   "id": "57a154ee",
   "metadata": {},
   "outputs": [
    {
     "data": {
      "text/html": [
       "<div><div id=13ca13b3-800b-4435-9b51-bf5f7f733b7e style=\"display:none; background-color:#9D6CFF; color:white; width:200px; height:30px; padding-left:5px; border-radius:4px; flex-direction:row; justify-content:space-around; align-items:center;\" onmouseover=\"this.style.backgroundColor='#BA9BF8'\" onmouseout=\"this.style.backgroundColor='#9D6CFF'\" onclick=\"window.commands?.execute('create-mitosheet-from-dataframe-output');\">See Full Dataframe in Mito</div> <script> if (window.commands.hasCommand('create-mitosheet-from-dataframe-output')) document.getElementById('13ca13b3-800b-4435-9b51-bf5f7f733b7e').style.display = 'flex' </script> <table border=\"1\" class=\"dataframe\">\n",
       "  <thead>\n",
       "    <tr style=\"text-align: right;\">\n",
       "      <th></th>\n",
       "      <th>filename</th>\n",
       "      <th>tamanho</th>\n",
       "      <th>data_arquivo</th>\n",
       "      <th>data_ultima_modificacao</th>\n",
       "    </tr>\n",
       "  </thead>\n",
       "  <tbody>\n",
       "    <tr>\n",
       "      <th>0</th>\n",
       "      <td>D:/teste\\nivel 1</td>\n",
       "      <td>0</td>\n",
       "      <td>1.640449e+09</td>\n",
       "      <td>1.640381e+09</td>\n",
       "    </tr>\n",
       "    <tr>\n",
       "      <th>1</th>\n",
       "      <td>D:/teste\\UM.txt</td>\n",
       "      <td>0</td>\n",
       "      <td>1.640381e+09</td>\n",
       "      <td>1.640381e+09</td>\n",
       "    </tr>\n",
       "    <tr>\n",
       "      <th>2</th>\n",
       "      <td>D:/teste\\nivel 1\\Dois.txt</td>\n",
       "      <td>0</td>\n",
       "      <td>1.640381e+09</td>\n",
       "      <td>1.640381e+09</td>\n",
       "    </tr>\n",
       "    <tr>\n",
       "      <th>3</th>\n",
       "      <td>D:/teste\\nivel 1\\Nivel 2</td>\n",
       "      <td>0</td>\n",
       "      <td>1.640449e+09</td>\n",
       "      <td>1.640381e+09</td>\n",
       "    </tr>\n",
       "    <tr>\n",
       "      <th>4</th>\n",
       "      <td>D:/teste\\nivel 1\\Nivel 2\\nivel 3</td>\n",
       "      <td>0</td>\n",
       "      <td>1.640387e+09</td>\n",
       "      <td>1.640387e+09</td>\n",
       "    </tr>\n",
       "    <tr>\n",
       "      <th>5</th>\n",
       "      <td>D:/teste\\nivel 1\\Nivel 2\\tres.txt</td>\n",
       "      <td>684</td>\n",
       "      <td>1.640449e+09</td>\n",
       "      <td>1.640387e+09</td>\n",
       "    </tr>\n",
       "  </tbody>\n",
       "</table></div>"
      ],
      "text/plain": [
       "                            filename tamanho  data_arquivo  \\\n",
       "0                   D:/teste\\nivel 1       0  1.640449e+09   \n",
       "1                    D:/teste\\UM.txt       0  1.640381e+09   \n",
       "2          D:/teste\\nivel 1\\Dois.txt       0  1.640381e+09   \n",
       "3           D:/teste\\nivel 1\\Nivel 2       0  1.640449e+09   \n",
       "4   D:/teste\\nivel 1\\Nivel 2\\nivel 3       0  1.640387e+09   \n",
       "5  D:/teste\\nivel 1\\Nivel 2\\tres.txt     684  1.640449e+09   \n",
       "\n",
       "   data_ultima_modificacao  \n",
       "0             1.640381e+09  \n",
       "1             1.640381e+09  \n",
       "2             1.640381e+09  \n",
       "3             1.640381e+09  \n",
       "4             1.640387e+09  \n",
       "5             1.640387e+09  "
      ]
     },
     "execution_count": 157,
     "metadata": {},
     "output_type": "execute_result"
    }
   ],
   "source": []
  },
  {
   "cell_type": "code",
   "execution_count": 183,
   "id": "bbfa84b3",
   "metadata": {},
   "outputs": [
    {
     "name": "stdout",
     "output_type": "stream",
     "text": [
      "D:\\teste\\nivel 1\n",
      "D:\\teste\\UM.txt\n",
      "D:\\teste\\nivel 1\\Dois.txt\n",
      "D:\\teste\\nivel 1\\Nivel 2\n",
      "D:\\teste\\nivel 1\\Nivel 2\\nivel 3\n",
      "D:\\teste\\nivel 1\\Nivel 2\\tres.txt\n"
     ]
    }
   ],
   "source": [
    "import glob\n",
    "pasta =root_dir\n",
    "# root_dir needs a trailing slash (i.e. /root/dir/)\n",
    "df_diretorios = pd.DataFrame(columns=['filename','tamanho','data_arquivo','data_ultima_modificacao'], )\n",
    "for filename in glob.iglob(pasta + '**/*', recursive=True):\n",
    "     print(filename.replace('/','\\\\'))\n",
    "        "
   ]
  },
  {
   "cell_type": "code",
   "execution_count": 14,
   "id": "874e8bcd",
   "metadata": {},
   "outputs": [
    {
     "data": {
      "text/plain": [
       "'C:\\\\Users\\\\vilqu'"
      ]
     },
     "execution_count": 14,
     "metadata": {},
     "output_type": "execute_result"
    }
   ],
   "source": [
    "os.path.expanduser(\"~\")"
   ]
  },
  {
   "cell_type": "code",
   "execution_count": 161,
   "id": "b3058f0f",
   "metadata": {},
   "outputs": [
    {
     "name": "stdout",
     "output_type": "stream",
     "text": [
      "['$RECYCLE.BIN', 'D:\\\\$RECYCLE.BIN', 0, 1640478289.5807495]\n",
      "['.freedownloadmanager', 'D:\\\\.freedownloadmanager', 0, 1640477940.185305]\n",
      "['ApowerREC', 'D:\\\\ApowerREC', 0, 1640477940.185305]\n",
      "['app', 'D:\\\\app', 0, 1640477940.1863046]\n",
      "['Arquivos de Programas RFB', 'D:\\\\Arquivos de Programas RFB', 0, 1640477940.187308]\n",
      "['Banrisul', 'D:\\\\Banrisul', 0, 1640477940.187308]\n",
      "['DumpStack.log', 'D:\\\\DumpStack.log', 8192, 1623708137.860964]\n",
      "['DumpStack.log.tmp', 'D:\\\\DumpStack.log.tmp', 8192, 1623850160.8508818]\n",
      "['eder', 'D:\\\\eder', 0, 1640477940.1883042]\n",
      "['Estudos', 'D:\\\\Estudos', 0, 1640477940.1883042]\n",
      "['Gdrive', 'D:\\\\Gdrive', 0, 1640477940.0173037]\n",
      "['Git', 'D:\\\\Git', 0, 1640477940.1913059]\n",
      "['hadoop', 'D:\\\\hadoop', 0, 1640477940.189306]\n",
      "['Instaladores', 'D:\\\\Instaladores', 0, 1640477940.1903048]\n",
      "['Program', 'D:\\\\Program', 463, 1640137852.7739432]\n",
      "['Program Files', 'D:\\\\Program Files', 0, 1640477937.1725926]\n",
      "['Program Files (x86)', 'D:\\\\Program Files (x86)', 0, 1640477940.1913059]\n",
      "['ProgramData', 'D:\\\\ProgramData', 0, 1640477940.1913059]\n",
      "['PyFladesk-master', 'D:\\\\PyFladesk-master', 0, 1640477940.1923048]\n",
      "['Recovery', 'D:\\\\Recovery', 0, 1634754381.587644]\n",
      "['rfb-cnpj-master', 'D:\\\\rfb-cnpj-master', 0, 1640477940.1933036]\n",
      "['spark', 'D:\\\\spark', 0, 1640477940.19432]\n",
      "['System Volume Information', 'D:\\\\System Volume Information', 0, 1640477961.259925]\n",
      "['temp', 'D:\\\\temp', 0, 1640477940.3773046]\n",
      "['teste', 'D:\\\\teste', 0, 1640477940.3893075]\n",
      "['Users', 'D:\\\\Users', 0, 1640477938.0300574]\n",
      "['Vilquer', 'D:\\\\Vilquer', 0, 1640477937.171592]\n",
      "['WindowsApps', 'D:\\\\WindowsApps', 0, 1640460479.4614348]\n",
      "['WpSystem', 'D:\\\\WpSystem', 0, 1640477940.3803048]\n",
      "['WUDownloadCache', 'D:\\\\WUDownloadCache', 0, 1640477940.378306]\n",
      "Wall time: 12 ms\n"
     ]
    }
   ],
   "source": [
    "%%time\n",
    "for item in os.scandir(root_dir):\n",
    "     print([item.name, item.path, item.stat().st_size, item.stat().st_atime])"
   ]
  },
  {
   "cell_type": "code",
   "execution_count": 91,
   "id": "0a6837de",
   "metadata": {},
   "outputs": [
    {
     "data": {
      "text/plain": [
       "'vilquer'"
      ]
     },
     "execution_count": 91,
     "metadata": {},
     "output_type": "execute_result"
    }
   ],
   "source": [
    "os.getlogin()"
   ]
  },
  {
   "cell_type": "code",
   "execution_count": 92,
   "id": "9dd0a540",
   "metadata": {},
   "outputs": [
    {
     "data": {
      "text/plain": [
       "'D:\\\\Git\\\\Python'"
      ]
     },
     "execution_count": 92,
     "metadata": {},
     "output_type": "execute_result"
    }
   ],
   "source": [
    "os.getcwd()"
   ]
  }
 ],
 "metadata": {
  "kernelspec": {
   "display_name": "Python 3 (ipykernel)",
   "language": "python",
   "name": "python3"
  },
  "language_info": {
   "codemirror_mode": {
    "name": "ipython",
    "version": 3
   },
   "file_extension": ".py",
   "mimetype": "text/x-python",
   "name": "python",
   "nbconvert_exporter": "python",
   "pygments_lexer": "ipython3",
   "version": "3.9.7"
  }
 },
 "nbformat": 4,
 "nbformat_minor": 5
}
