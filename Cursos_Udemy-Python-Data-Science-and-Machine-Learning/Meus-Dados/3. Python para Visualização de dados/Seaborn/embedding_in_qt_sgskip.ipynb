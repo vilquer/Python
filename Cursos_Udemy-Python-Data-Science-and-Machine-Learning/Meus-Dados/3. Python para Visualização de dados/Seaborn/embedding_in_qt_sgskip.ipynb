{
 "cells": [
  {
   "cell_type": "code",
   "execution_count": 2,
   "metadata": {
    "collapsed": false,
    "jupyter": {
     "outputs_hidden": false
    }
   },
   "outputs": [],
   "source": [
    "%matplotlib inline"
   ]
  },
  {
   "cell_type": "markdown",
   "metadata": {},
   "source": [
    "\n",
    "# Embedding in Qt\n",
    "\n",
    "\n",
    "Simple Qt application embedding Matplotlib canvases.  This program will work\n",
    "equally well using Qt4 and Qt5.  Either version of Qt can be selected (for\n",
    "example) by setting the ``MPLBACKEND`` environment variable to \"Qt4Agg\" or\n",
    "\"Qt5Agg\", or by first importing the desired version of PyQt.\n",
    "\n"
   ]
  },
  {
   "cell_type": "code",
   "execution_count": 1,
   "metadata": {
    "collapsed": false,
    "jupyter": {
     "outputs_hidden": false
    }
   },
   "outputs": [
    {
     "name": "stderr",
     "output_type": "stream",
     "text": [
      "<ipython-input-1-b930698b7689>:7: MatplotlibDeprecationWarning: \n",
      "The is_pyqt5 function was deprecated in Matplotlib 3.3 and will be removed two minor releases later. Use QtCore.qVersion() instead.\n",
      "  if is_pyqt5():\n"
     ]
    }
   ],
   "source": [
    "import sys\n",
    "import time\n",
    "\n",
    "import numpy as np\n",
    "\n",
    "from matplotlib.backends.qt_compat import QtCore, QtWidgets, is_pyqt5\n",
    "if is_pyqt5():\n",
    "    from matplotlib.backends.backend_qt5agg import (\n",
    "        FigureCanvas, NavigationToolbar2QT as NavigationToolbar)\n",
    "else:\n",
    "    from matplotlib.backends.backend_qt4agg import (\n",
    "        FigureCanvas, NavigationToolbar2QT as NavigationToolbar)\n",
    "from matplotlib.figure import Figure\n",
    "\n",
    "\n",
    "class ApplicationWindow(QtWidgets.QMainWindow):\n",
    "    def __init__(self):\n",
    "        super().__init__()\n",
    "        self._main = QtWidgets.QWidget()\n",
    "        self.setCentralWidget(self._main)\n",
    "        layout = QtWidgets.QVBoxLayout(self._main)\n",
    "\n",
    "        static_canvas = FigureCanvas(Figure(figsize=(5, 3)))\n",
    "        layout.addWidget(static_canvas)\n",
    "        self.addToolBar(NavigationToolbar(static_canvas, self))\n",
    "        \n",
    "        x = np.arange(0,100)\n",
    "        y = x*2\n",
    "        z = x**2\n",
    "\n",
    "\n",
    "        self._static_ax = static_canvas.figure.subplots()\n",
    "\n",
    "        self._static_ax.set_xlabel(\"Rótulo X\")\n",
    "        self._static_ax.set_ylabel(\"Rotulo Y\")\n",
    "\n",
    "        self._static_ax.scatter(x, y)\n",
    "\n",
    "\n",
    "\n",
    "\n",
    "\n",
    "if __name__ == \"__main__\":\n",
    "    qapp = QtWidgets.QApplication(sys.argv)\n",
    "    app = ApplicationWindow()\n",
    "    app.show()\n",
    "    qapp.exec_()"
   ]
  },
  {
   "cell_type": "code",
   "execution_count": null,
   "metadata": {},
   "outputs": [],
   "source": []
  }
 ],
 "metadata": {
  "kernelspec": {
   "display_name": "Python 3",
   "language": "python",
   "name": "python3"
  },
  "language_info": {
   "codemirror_mode": {
    "name": "ipython",
    "version": 3
   },
   "file_extension": ".py",
   "mimetype": "text/x-python",
   "name": "python",
   "nbconvert_exporter": "python",
   "pygments_lexer": "ipython3",
   "version": "3.8.5"
  }
 },
 "nbformat": 4,
 "nbformat_minor": 4
}
