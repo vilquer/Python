{
 "cells": [
  {
   "cell_type": "code",
   "execution_count": null,
   "id": "01421785",
   "metadata": {},
   "outputs": [],
   "source": [
    "import pandas as pd"
   ]
  },
  {
   "cell_type": "code",
   "execution_count": 92,
   "id": "57e97327",
   "metadata": {},
   "outputs": [
    {
     "data": {
      "text/plain": [
       "[WindowsPath('Beep on Windows.ipynb'),\n",
       " WindowsPath('lista arquivos no windows.ipynb'),\n",
       " WindowsPath('.ipynb_checkpoints/Beep on Windows-checkpoint.ipynb'),\n",
       " WindowsPath('.ipynb_checkpoints/lista arquivos no windows-checkpoint.ipynb')]"
      ]
     },
     "execution_count": 92,
     "metadata": {},
     "output_type": "execute_result"
    }
   ],
   "source": [
    "from pathlib import Path\n",
    "result = list(Path(\".\").rglob(\"*windows*.*\"))\n",
    "result"
   ]
  },
  {
   "cell_type": "code",
   "execution_count": 90,
   "id": "11a29590",
   "metadata": {},
   "outputs": [
    {
     "data": {
      "text/plain": [
       "[WindowsPath('dados/stocks - Copia.csv'), WindowsPath('dados/stocks.csv')]"
      ]
     },
     "execution_count": 90,
     "metadata": {},
     "output_type": "execute_result"
    }
   ],
   "source": [
    "result = list(Path().rglob(\"dados/sto*.*\"))\n",
    "result"
   ]
  },
  {
   "cell_type": "code",
   "execution_count": 86,
   "id": "ed4d436e",
   "metadata": {},
   "outputs": [
    {
     "data": {
      "text/html": [
       "<div>\n",
       "<style scoped>\n",
       "    .dataframe tbody tr th:only-of-type {\n",
       "        vertical-align: middle;\n",
       "    }\n",
       "\n",
       "    .dataframe tbody tr th {\n",
       "        vertical-align: top;\n",
       "    }\n",
       "\n",
       "    .dataframe thead th {\n",
       "        text-align: right;\n",
       "    }\n",
       "</style>\n",
       "<table border=\"1\" class=\"dataframe\">\n",
       "  <thead>\n",
       "    <tr style=\"text-align: right;\">\n",
       "      <th></th>\n",
       "      <th>Symbol</th>\n",
       "      <th>Date</th>\n",
       "      <th>Open</th>\n",
       "      <th>High</th>\n",
       "      <th>Low</th>\n",
       "      <th>Close</th>\n",
       "      <th>Adj Close</th>\n",
       "      <th>Volume</th>\n",
       "    </tr>\n",
       "  </thead>\n",
       "  <tbody>\n",
       "    <tr>\n",
       "      <th>0</th>\n",
       "      <td>AAPL</td>\n",
       "      <td>1980-12-12</td>\n",
       "      <td>0.513393</td>\n",
       "      <td>0.515625</td>\n",
       "      <td>0.513393</td>\n",
       "      <td>0.513393</td>\n",
       "      <td>0.023106</td>\n",
       "      <td>117258400</td>\n",
       "    </tr>\n",
       "    <tr>\n",
       "      <th>1</th>\n",
       "      <td>AAPL</td>\n",
       "      <td>1980-12-15</td>\n",
       "      <td>0.488839</td>\n",
       "      <td>0.488839</td>\n",
       "      <td>0.486607</td>\n",
       "      <td>0.486607</td>\n",
       "      <td>0.021900</td>\n",
       "      <td>43971200</td>\n",
       "    </tr>\n",
       "    <tr>\n",
       "      <th>2</th>\n",
       "      <td>AAPL</td>\n",
       "      <td>1980-12-16</td>\n",
       "      <td>0.453125</td>\n",
       "      <td>0.453125</td>\n",
       "      <td>0.450893</td>\n",
       "      <td>0.450893</td>\n",
       "      <td>0.020293</td>\n",
       "      <td>26432000</td>\n",
       "    </tr>\n",
       "    <tr>\n",
       "      <th>3</th>\n",
       "      <td>AAPL</td>\n",
       "      <td>1980-12-17</td>\n",
       "      <td>0.462054</td>\n",
       "      <td>0.464286</td>\n",
       "      <td>0.462054</td>\n",
       "      <td>0.462054</td>\n",
       "      <td>0.020795</td>\n",
       "      <td>21610400</td>\n",
       "    </tr>\n",
       "    <tr>\n",
       "      <th>4</th>\n",
       "      <td>AAPL</td>\n",
       "      <td>1980-12-18</td>\n",
       "      <td>0.475446</td>\n",
       "      <td>0.477679</td>\n",
       "      <td>0.475446</td>\n",
       "      <td>0.475446</td>\n",
       "      <td>0.021398</td>\n",
       "      <td>18362400</td>\n",
       "    </tr>\n",
       "    <tr>\n",
       "      <th>...</th>\n",
       "      <td>...</td>\n",
       "      <td>...</td>\n",
       "      <td>...</td>\n",
       "      <td>...</td>\n",
       "      <td>...</td>\n",
       "      <td>...</td>\n",
       "      <td>...</td>\n",
       "      <td>...</td>\n",
       "    </tr>\n",
       "    <tr>\n",
       "      <th>23100</th>\n",
       "      <td>GOOG</td>\n",
       "      <td>2018-12-10</td>\n",
       "      <td>1035.050049</td>\n",
       "      <td>1048.449951</td>\n",
       "      <td>1023.289978</td>\n",
       "      <td>1039.550049</td>\n",
       "      <td>1039.550049</td>\n",
       "      <td>1807700</td>\n",
       "    </tr>\n",
       "    <tr>\n",
       "      <th>23101</th>\n",
       "      <td>GOOG</td>\n",
       "      <td>2018-12-11</td>\n",
       "      <td>1056.489990</td>\n",
       "      <td>1060.599976</td>\n",
       "      <td>1039.839966</td>\n",
       "      <td>1051.750000</td>\n",
       "      <td>1051.750000</td>\n",
       "      <td>1394700</td>\n",
       "    </tr>\n",
       "    <tr>\n",
       "      <th>23102</th>\n",
       "      <td>GOOG</td>\n",
       "      <td>2018-12-12</td>\n",
       "      <td>1068.000000</td>\n",
       "      <td>1081.650024</td>\n",
       "      <td>1062.790039</td>\n",
       "      <td>1063.680054</td>\n",
       "      <td>1063.680054</td>\n",
       "      <td>1523800</td>\n",
       "    </tr>\n",
       "    <tr>\n",
       "      <th>23103</th>\n",
       "      <td>GOOG</td>\n",
       "      <td>2018-12-13</td>\n",
       "      <td>1068.069946</td>\n",
       "      <td>1079.760010</td>\n",
       "      <td>1053.930054</td>\n",
       "      <td>1061.900024</td>\n",
       "      <td>1061.900024</td>\n",
       "      <td>1329800</td>\n",
       "    </tr>\n",
       "    <tr>\n",
       "      <th>23104</th>\n",
       "      <td>GOOG</td>\n",
       "      <td>2018-12-14</td>\n",
       "      <td>1049.979980</td>\n",
       "      <td>1062.599976</td>\n",
       "      <td>1040.790039</td>\n",
       "      <td>1042.099976</td>\n",
       "      <td>1042.099976</td>\n",
       "      <td>1685900</td>\n",
       "    </tr>\n",
       "  </tbody>\n",
       "</table>\n",
       "<p>23105 rows × 8 columns</p>\n",
       "</div>"
      ],
      "text/plain": [
       "      Symbol        Date         Open         High          Low        Close  \\\n",
       "0       AAPL  1980-12-12     0.513393     0.515625     0.513393     0.513393   \n",
       "1       AAPL  1980-12-15     0.488839     0.488839     0.486607     0.486607   \n",
       "2       AAPL  1980-12-16     0.453125     0.453125     0.450893     0.450893   \n",
       "3       AAPL  1980-12-17     0.462054     0.464286     0.462054     0.462054   \n",
       "4       AAPL  1980-12-18     0.475446     0.477679     0.475446     0.475446   \n",
       "...      ...         ...          ...          ...          ...          ...   \n",
       "23100   GOOG  2018-12-10  1035.050049  1048.449951  1023.289978  1039.550049   \n",
       "23101   GOOG  2018-12-11  1056.489990  1060.599976  1039.839966  1051.750000   \n",
       "23102   GOOG  2018-12-12  1068.000000  1081.650024  1062.790039  1063.680054   \n",
       "23103   GOOG  2018-12-13  1068.069946  1079.760010  1053.930054  1061.900024   \n",
       "23104   GOOG  2018-12-14  1049.979980  1062.599976  1040.790039  1042.099976   \n",
       "\n",
       "         Adj Close     Volume  \n",
       "0         0.023106  117258400  \n",
       "1         0.021900   43971200  \n",
       "2         0.020293   26432000  \n",
       "3         0.020795   21610400  \n",
       "4         0.021398   18362400  \n",
       "...            ...        ...  \n",
       "23100  1039.550049    1807700  \n",
       "23101  1051.750000    1394700  \n",
       "23102  1063.680054    1523800  \n",
       "23103  1061.900024    1329800  \n",
       "23104  1042.099976    1685900  \n",
       "\n",
       "[23105 rows x 8 columns]"
      ]
     },
     "execution_count": 86,
     "metadata": {},
     "output_type": "execute_result"
    }
   ],
   "source": [
    "df0 = pd.read_csv(result[0])\n",
    "df0"
   ]
  },
  {
   "cell_type": "code",
   "execution_count": 87,
   "id": "5c55681b",
   "metadata": {},
   "outputs": [
    {
     "data": {
      "text/html": [
       "<div>\n",
       "<style scoped>\n",
       "    .dataframe tbody tr th:only-of-type {\n",
       "        vertical-align: middle;\n",
       "    }\n",
       "\n",
       "    .dataframe tbody tr th {\n",
       "        vertical-align: top;\n",
       "    }\n",
       "\n",
       "    .dataframe thead th {\n",
       "        text-align: right;\n",
       "    }\n",
       "</style>\n",
       "<table border=\"1\" class=\"dataframe\">\n",
       "  <thead>\n",
       "    <tr style=\"text-align: right;\">\n",
       "      <th></th>\n",
       "      <th>Symbol</th>\n",
       "      <th>Date</th>\n",
       "      <th>Open</th>\n",
       "      <th>High</th>\n",
       "      <th>Low</th>\n",
       "      <th>Close</th>\n",
       "      <th>Adj Close</th>\n",
       "      <th>Volume</th>\n",
       "    </tr>\n",
       "  </thead>\n",
       "  <tbody>\n",
       "    <tr>\n",
       "      <th>0</th>\n",
       "      <td>AAPL</td>\n",
       "      <td>1980-12-12</td>\n",
       "      <td>0.513393</td>\n",
       "      <td>0.515625</td>\n",
       "      <td>0.513393</td>\n",
       "      <td>0.513393</td>\n",
       "      <td>0.023106</td>\n",
       "      <td>117258400</td>\n",
       "    </tr>\n",
       "    <tr>\n",
       "      <th>1</th>\n",
       "      <td>AAPL</td>\n",
       "      <td>1980-12-15</td>\n",
       "      <td>0.488839</td>\n",
       "      <td>0.488839</td>\n",
       "      <td>0.486607</td>\n",
       "      <td>0.486607</td>\n",
       "      <td>0.021900</td>\n",
       "      <td>43971200</td>\n",
       "    </tr>\n",
       "    <tr>\n",
       "      <th>2</th>\n",
       "      <td>AAPL</td>\n",
       "      <td>1980-12-16</td>\n",
       "      <td>0.453125</td>\n",
       "      <td>0.453125</td>\n",
       "      <td>0.450893</td>\n",
       "      <td>0.450893</td>\n",
       "      <td>0.020293</td>\n",
       "      <td>26432000</td>\n",
       "    </tr>\n",
       "    <tr>\n",
       "      <th>3</th>\n",
       "      <td>AAPL</td>\n",
       "      <td>1980-12-17</td>\n",
       "      <td>0.462054</td>\n",
       "      <td>0.464286</td>\n",
       "      <td>0.462054</td>\n",
       "      <td>0.462054</td>\n",
       "      <td>0.020795</td>\n",
       "      <td>21610400</td>\n",
       "    </tr>\n",
       "    <tr>\n",
       "      <th>4</th>\n",
       "      <td>AAPL</td>\n",
       "      <td>1980-12-18</td>\n",
       "      <td>0.475446</td>\n",
       "      <td>0.477679</td>\n",
       "      <td>0.475446</td>\n",
       "      <td>0.475446</td>\n",
       "      <td>0.021398</td>\n",
       "      <td>18362400</td>\n",
       "    </tr>\n",
       "    <tr>\n",
       "      <th>...</th>\n",
       "      <td>...</td>\n",
       "      <td>...</td>\n",
       "      <td>...</td>\n",
       "      <td>...</td>\n",
       "      <td>...</td>\n",
       "      <td>...</td>\n",
       "      <td>...</td>\n",
       "      <td>...</td>\n",
       "    </tr>\n",
       "    <tr>\n",
       "      <th>23100</th>\n",
       "      <td>GOOG</td>\n",
       "      <td>2018-12-10</td>\n",
       "      <td>1035.050049</td>\n",
       "      <td>1048.449951</td>\n",
       "      <td>1023.289978</td>\n",
       "      <td>1039.550049</td>\n",
       "      <td>1039.550049</td>\n",
       "      <td>1807700</td>\n",
       "    </tr>\n",
       "    <tr>\n",
       "      <th>23101</th>\n",
       "      <td>GOOG</td>\n",
       "      <td>2018-12-11</td>\n",
       "      <td>1056.489990</td>\n",
       "      <td>1060.599976</td>\n",
       "      <td>1039.839966</td>\n",
       "      <td>1051.750000</td>\n",
       "      <td>1051.750000</td>\n",
       "      <td>1394700</td>\n",
       "    </tr>\n",
       "    <tr>\n",
       "      <th>23102</th>\n",
       "      <td>GOOG</td>\n",
       "      <td>2018-12-12</td>\n",
       "      <td>1068.000000</td>\n",
       "      <td>1081.650024</td>\n",
       "      <td>1062.790039</td>\n",
       "      <td>1063.680054</td>\n",
       "      <td>1063.680054</td>\n",
       "      <td>1523800</td>\n",
       "    </tr>\n",
       "    <tr>\n",
       "      <th>23103</th>\n",
       "      <td>GOOG</td>\n",
       "      <td>2018-12-13</td>\n",
       "      <td>1068.069946</td>\n",
       "      <td>1079.760010</td>\n",
       "      <td>1053.930054</td>\n",
       "      <td>1061.900024</td>\n",
       "      <td>1061.900024</td>\n",
       "      <td>1329800</td>\n",
       "    </tr>\n",
       "    <tr>\n",
       "      <th>23104</th>\n",
       "      <td>GOOG</td>\n",
       "      <td>2018-12-14</td>\n",
       "      <td>1049.979980</td>\n",
       "      <td>1062.599976</td>\n",
       "      <td>1040.790039</td>\n",
       "      <td>1042.099976</td>\n",
       "      <td>1042.099976</td>\n",
       "      <td>1685900</td>\n",
       "    </tr>\n",
       "  </tbody>\n",
       "</table>\n",
       "<p>23105 rows × 8 columns</p>\n",
       "</div>"
      ],
      "text/plain": [
       "      Symbol        Date         Open         High          Low        Close  \\\n",
       "0       AAPL  1980-12-12     0.513393     0.515625     0.513393     0.513393   \n",
       "1       AAPL  1980-12-15     0.488839     0.488839     0.486607     0.486607   \n",
       "2       AAPL  1980-12-16     0.453125     0.453125     0.450893     0.450893   \n",
       "3       AAPL  1980-12-17     0.462054     0.464286     0.462054     0.462054   \n",
       "4       AAPL  1980-12-18     0.475446     0.477679     0.475446     0.475446   \n",
       "...      ...         ...          ...          ...          ...          ...   \n",
       "23100   GOOG  2018-12-10  1035.050049  1048.449951  1023.289978  1039.550049   \n",
       "23101   GOOG  2018-12-11  1056.489990  1060.599976  1039.839966  1051.750000   \n",
       "23102   GOOG  2018-12-12  1068.000000  1081.650024  1062.790039  1063.680054   \n",
       "23103   GOOG  2018-12-13  1068.069946  1079.760010  1053.930054  1061.900024   \n",
       "23104   GOOG  2018-12-14  1049.979980  1062.599976  1040.790039  1042.099976   \n",
       "\n",
       "         Adj Close     Volume  \n",
       "0         0.023106  117258400  \n",
       "1         0.021900   43971200  \n",
       "2         0.020293   26432000  \n",
       "3         0.020795   21610400  \n",
       "4         0.021398   18362400  \n",
       "...            ...        ...  \n",
       "23100  1039.550049    1807700  \n",
       "23101  1051.750000    1394700  \n",
       "23102  1063.680054    1523800  \n",
       "23103  1061.900024    1329800  \n",
       "23104  1042.099976    1685900  \n",
       "\n",
       "[23105 rows x 8 columns]"
      ]
     },
     "execution_count": 87,
     "metadata": {},
     "output_type": "execute_result"
    }
   ],
   "source": [
    "df1 = pd.read_csv(result[1])\n",
    "df1"
   ]
  },
  {
   "cell_type": "code",
   "execution_count": null,
   "id": "5738ca66",
   "metadata": {},
   "outputs": [],
   "source": []
  },
  {
   "cell_type": "code",
   "execution_count": null,
   "id": "f13566ce",
   "metadata": {},
   "outputs": [],
   "source": []
  },
  {
   "cell_type": "code",
   "execution_count": null,
   "id": "40a50ca7",
   "metadata": {},
   "outputs": [],
   "source": []
  },
  {
   "cell_type": "code",
   "execution_count": null,
   "id": "a541fa91",
   "metadata": {},
   "outputs": [],
   "source": []
  },
  {
   "cell_type": "code",
   "execution_count": null,
   "id": "5af8b257",
   "metadata": {},
   "outputs": [],
   "source": []
  },
  {
   "cell_type": "code",
   "execution_count": null,
   "id": "3614cec8",
   "metadata": {},
   "outputs": [],
   "source": []
  },
  {
   "cell_type": "code",
   "execution_count": 23,
   "id": "da0fe28b",
   "metadata": {
    "collapsed": true
   },
   "outputs": [
    {
     "name": "stdout",
     "output_type": "stream",
     "text": [
      "['..\\\\Cópia_de_Untitled6.ipynb', '..\\\\README.md']\n"
     ]
    }
   ],
   "source": [
    "import glob\n",
    "print(glob.glob(\"../\" + \"*.*\"))"
   ]
  },
  {
   "cell_type": "code",
   "execution_count": 14,
   "id": "bfeb8a3c",
   "metadata": {},
   "outputs": [
    {
     "name": "stdout",
     "output_type": "stream",
     "text": [
      "['D:\\\\Git\\\\Python\\\\06 - Dicas\\\\01 - Base.ipynb', 'D:\\\\Git\\\\Python\\\\06 - Dicas\\\\Beep on Windows.ipynb', 'D:\\\\Git\\\\Python\\\\06 - Dicas\\\\Untitled.ipynb']\n"
     ]
    }
   ],
   "source": [
    "import os\n",
    "from os import listdir\n",
    "from os.path import isfile, join\n",
    "\n",
    "cwd = os.getcwd()\n",
    "onlyfiles = [os.path.join(cwd, f) for f in os.listdir(cwd) if \n",
    "os.path.isfile(os.path.join(cwd, f))]\n",
    "print(onlyfiles) "
   ]
  },
  {
   "cell_type": "code",
   "execution_count": 68,
   "id": "de9ded3c",
   "metadata": {},
   "outputs": [
    {
     "name": "stdout",
     "output_type": "stream",
     "text": [
      "D:\\Git\\Python\\06 - Dicas\\dados\\stocks.csv\n"
     ]
    }
   ],
   "source": [
    "import os, glob\n",
    "\n",
    "path = pathname\n",
    "teste =[]\n",
    "for infile in glob.glob( os.path.join(path, 'dados/*.*')):\n",
    "    teste = infile.__str__()\n",
    "print(teste)"
   ]
  },
  {
   "cell_type": "code",
   "execution_count": 89,
   "id": "dc937ebd",
   "metadata": {},
   "outputs": [
    {
     "data": {
      "text/html": [
       "<div>\n",
       "<style scoped>\n",
       "    .dataframe tbody tr th:only-of-type {\n",
       "        vertical-align: middle;\n",
       "    }\n",
       "\n",
       "    .dataframe tbody tr th {\n",
       "        vertical-align: top;\n",
       "    }\n",
       "\n",
       "    .dataframe thead th {\n",
       "        text-align: right;\n",
       "    }\n",
       "</style>\n",
       "<table border=\"1\" class=\"dataframe\">\n",
       "  <thead>\n",
       "    <tr style=\"text-align: right;\">\n",
       "      <th></th>\n",
       "      <th>Symbol</th>\n",
       "      <th>Date</th>\n",
       "      <th>Open</th>\n",
       "      <th>High</th>\n",
       "      <th>Low</th>\n",
       "      <th>Close</th>\n",
       "      <th>Adj Close</th>\n",
       "      <th>Volume</th>\n",
       "    </tr>\n",
       "  </thead>\n",
       "  <tbody>\n",
       "    <tr>\n",
       "      <th>0</th>\n",
       "      <td>AAPL</td>\n",
       "      <td>1980-12-12</td>\n",
       "      <td>0.513393</td>\n",
       "      <td>0.515625</td>\n",
       "      <td>0.513393</td>\n",
       "      <td>0.513393</td>\n",
       "      <td>0.023106</td>\n",
       "      <td>117258400</td>\n",
       "    </tr>\n",
       "    <tr>\n",
       "      <th>1</th>\n",
       "      <td>AAPL</td>\n",
       "      <td>1980-12-15</td>\n",
       "      <td>0.488839</td>\n",
       "      <td>0.488839</td>\n",
       "      <td>0.486607</td>\n",
       "      <td>0.486607</td>\n",
       "      <td>0.021900</td>\n",
       "      <td>43971200</td>\n",
       "    </tr>\n",
       "    <tr>\n",
       "      <th>2</th>\n",
       "      <td>AAPL</td>\n",
       "      <td>1980-12-16</td>\n",
       "      <td>0.453125</td>\n",
       "      <td>0.453125</td>\n",
       "      <td>0.450893</td>\n",
       "      <td>0.450893</td>\n",
       "      <td>0.020293</td>\n",
       "      <td>26432000</td>\n",
       "    </tr>\n",
       "    <tr>\n",
       "      <th>3</th>\n",
       "      <td>AAPL</td>\n",
       "      <td>1980-12-17</td>\n",
       "      <td>0.462054</td>\n",
       "      <td>0.464286</td>\n",
       "      <td>0.462054</td>\n",
       "      <td>0.462054</td>\n",
       "      <td>0.020795</td>\n",
       "      <td>21610400</td>\n",
       "    </tr>\n",
       "    <tr>\n",
       "      <th>4</th>\n",
       "      <td>AAPL</td>\n",
       "      <td>1980-12-18</td>\n",
       "      <td>0.475446</td>\n",
       "      <td>0.477679</td>\n",
       "      <td>0.475446</td>\n",
       "      <td>0.475446</td>\n",
       "      <td>0.021398</td>\n",
       "      <td>18362400</td>\n",
       "    </tr>\n",
       "    <tr>\n",
       "      <th>...</th>\n",
       "      <td>...</td>\n",
       "      <td>...</td>\n",
       "      <td>...</td>\n",
       "      <td>...</td>\n",
       "      <td>...</td>\n",
       "      <td>...</td>\n",
       "      <td>...</td>\n",
       "      <td>...</td>\n",
       "    </tr>\n",
       "    <tr>\n",
       "      <th>23100</th>\n",
       "      <td>GOOG</td>\n",
       "      <td>2018-12-10</td>\n",
       "      <td>1035.050049</td>\n",
       "      <td>1048.449951</td>\n",
       "      <td>1023.289978</td>\n",
       "      <td>1039.550049</td>\n",
       "      <td>1039.550049</td>\n",
       "      <td>1807700</td>\n",
       "    </tr>\n",
       "    <tr>\n",
       "      <th>23101</th>\n",
       "      <td>GOOG</td>\n",
       "      <td>2018-12-11</td>\n",
       "      <td>1056.489990</td>\n",
       "      <td>1060.599976</td>\n",
       "      <td>1039.839966</td>\n",
       "      <td>1051.750000</td>\n",
       "      <td>1051.750000</td>\n",
       "      <td>1394700</td>\n",
       "    </tr>\n",
       "    <tr>\n",
       "      <th>23102</th>\n",
       "      <td>GOOG</td>\n",
       "      <td>2018-12-12</td>\n",
       "      <td>1068.000000</td>\n",
       "      <td>1081.650024</td>\n",
       "      <td>1062.790039</td>\n",
       "      <td>1063.680054</td>\n",
       "      <td>1063.680054</td>\n",
       "      <td>1523800</td>\n",
       "    </tr>\n",
       "    <tr>\n",
       "      <th>23103</th>\n",
       "      <td>GOOG</td>\n",
       "      <td>2018-12-13</td>\n",
       "      <td>1068.069946</td>\n",
       "      <td>1079.760010</td>\n",
       "      <td>1053.930054</td>\n",
       "      <td>1061.900024</td>\n",
       "      <td>1061.900024</td>\n",
       "      <td>1329800</td>\n",
       "    </tr>\n",
       "    <tr>\n",
       "      <th>23104</th>\n",
       "      <td>GOOG</td>\n",
       "      <td>2018-12-14</td>\n",
       "      <td>1049.979980</td>\n",
       "      <td>1062.599976</td>\n",
       "      <td>1040.790039</td>\n",
       "      <td>1042.099976</td>\n",
       "      <td>1042.099976</td>\n",
       "      <td>1685900</td>\n",
       "    </tr>\n",
       "  </tbody>\n",
       "</table>\n",
       "<p>23105 rows × 8 columns</p>\n",
       "</div>"
      ],
      "text/plain": [
       "      Symbol        Date         Open         High          Low        Close  \\\n",
       "0       AAPL  1980-12-12     0.513393     0.515625     0.513393     0.513393   \n",
       "1       AAPL  1980-12-15     0.488839     0.488839     0.486607     0.486607   \n",
       "2       AAPL  1980-12-16     0.453125     0.453125     0.450893     0.450893   \n",
       "3       AAPL  1980-12-17     0.462054     0.464286     0.462054     0.462054   \n",
       "4       AAPL  1980-12-18     0.475446     0.477679     0.475446     0.475446   \n",
       "...      ...         ...          ...          ...          ...          ...   \n",
       "23100   GOOG  2018-12-10  1035.050049  1048.449951  1023.289978  1039.550049   \n",
       "23101   GOOG  2018-12-11  1056.489990  1060.599976  1039.839966  1051.750000   \n",
       "23102   GOOG  2018-12-12  1068.000000  1081.650024  1062.790039  1063.680054   \n",
       "23103   GOOG  2018-12-13  1068.069946  1079.760010  1053.930054  1061.900024   \n",
       "23104   GOOG  2018-12-14  1049.979980  1062.599976  1040.790039  1042.099976   \n",
       "\n",
       "         Adj Close     Volume  \n",
       "0         0.023106  117258400  \n",
       "1         0.021900   43971200  \n",
       "2         0.020293   26432000  \n",
       "3         0.020795   21610400  \n",
       "4         0.021398   18362400  \n",
       "...            ...        ...  \n",
       "23100  1039.550049    1807700  \n",
       "23101  1051.750000    1394700  \n",
       "23102  1063.680054    1523800  \n",
       "23103  1061.900024    1329800  \n",
       "23104  1042.099976    1685900  \n",
       "\n",
       "[23105 rows x 8 columns]"
      ]
     },
     "execution_count": 89,
     "metadata": {},
     "output_type": "execute_result"
    }
   ],
   "source": [
    "import pandas as pd\n",
    "\n",
    "df = pd.read_csv(r'D:\\Git\\Python\\06 - Dicas\\dados\\stocks.csv')\n",
    "df"
   ]
  },
  {
   "cell_type": "code",
   "execution_count": null,
   "id": "32038a16",
   "metadata": {},
   "outputs": [],
   "source": []
  },
  {
   "cell_type": "code",
   "execution_count": 33,
   "id": "a0835349",
   "metadata": {},
   "outputs": [],
   "source": [
    "import os\n",
    "pathname = os.path.abspath(os.getcwd())"
   ]
  },
  {
   "cell_type": "code",
   "execution_count": 34,
   "id": "013d0cf8",
   "metadata": {},
   "outputs": [
    {
     "data": {
      "text/plain": [
       "[]"
      ]
     },
     "execution_count": 34,
     "metadata": {},
     "output_type": "execute_result"
    }
   ],
   "source": [
    "glob.glob('**/*.', recursive=False)"
   ]
  },
  {
   "cell_type": "code",
   "execution_count": 54,
   "id": "11e2b9c5",
   "metadata": {},
   "outputs": [
    {
     "data": {
      "text/plain": [
       "[]"
      ]
     },
     "execution_count": 54,
     "metadata": {},
     "output_type": "execute_result"
    }
   ],
   "source": [
    "glob.glob( + \"*.*\")"
   ]
  },
  {
   "cell_type": "code",
   "execution_count": 53,
   "id": "450dffc5",
   "metadata": {},
   "outputs": [
    {
     "data": {
      "text/plain": [
       "'D:\\\\Git\\\\Python\\\\06 - Dicas'"
      ]
     },
     "execution_count": 53,
     "metadata": {},
     "output_type": "execute_result"
    }
   ],
   "source": [
    "pathname.__str__()"
   ]
  },
  {
   "cell_type": "code",
   "execution_count": 65,
   "id": "d1db957c",
   "metadata": {},
   "outputs": [
    {
     "data": {
      "text/plain": [
       "'D:\\\\Git\\\\Python\\\\06 - Dicas\\\\dados/*.*'"
      ]
     },
     "execution_count": 65,
     "metadata": {},
     "output_type": "execute_result"
    }
   ],
   "source": [
    "\n",
    "os.path.join(pathname,'dados/*.*')"
   ]
  },
  {
   "cell_type": "code",
   "execution_count": null,
   "id": "a2a681dc",
   "metadata": {},
   "outputs": [],
   "source": []
  }
 ],
 "metadata": {
  "hide_input": false,
  "kernelspec": {
   "display_name": "Python 3",
   "language": "python",
   "name": "python3"
  },
  "language_info": {
   "codemirror_mode": {
    "name": "ipython",
    "version": 3
   },
   "file_extension": ".py",
   "mimetype": "text/x-python",
   "name": "python",
   "nbconvert_exporter": "python",
   "pygments_lexer": "ipython3",
   "version": "3.8.8"
  },
  "varInspector": {
   "cols": {
    "lenName": 16,
    "lenType": 16,
    "lenVar": 40
   },
   "kernels_config": {
    "python": {
     "delete_cmd_postfix": "",
     "delete_cmd_prefix": "del ",
     "library": "var_list.py",
     "varRefreshCmd": "print(var_dic_list())"
    },
    "r": {
     "delete_cmd_postfix": ") ",
     "delete_cmd_prefix": "rm(",
     "library": "var_list.r",
     "varRefreshCmd": "cat(var_dic_list()) "
    }
   },
   "types_to_exclude": [
    "module",
    "function",
    "builtin_function_or_method",
    "instance",
    "_Feature"
   ],
   "window_display": false
  }
 },
 "nbformat": 4,
 "nbformat_minor": 5
}
