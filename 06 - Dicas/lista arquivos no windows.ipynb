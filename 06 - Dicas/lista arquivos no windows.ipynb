{
 "cells": [
  {
   "cell_type": "code",
   "execution_count": 9,
   "id": "0c75b503",
   "metadata": {},
   "outputs": [],
   "source": [
    "from pathlib import Path\n",
    "result = list(Path(\".\").rglob(\"*.*\"))"
   ]
  },
  {
   "cell_type": "code",
   "execution_count": 10,
   "id": "864b6035",
   "metadata": {},
   "outputs": [
    {
     "data": {
      "text/plain": [
       "[WindowsPath('.ipynb_checkpoints'),\n",
       " WindowsPath('01 - Base.ipynb'),\n",
       " WindowsPath('Beep on Windows.ipynb'),\n",
       " WindowsPath('Untitled.ipynb'),\n",
       " WindowsPath('.ipynb_checkpoints/01 - Base-checkpoint.ipynb'),\n",
       " WindowsPath('.ipynb_checkpoints/Beep on Windows-checkpoint.ipynb'),\n",
       " WindowsPath('.ipynb_checkpoints/Untitled-checkpoint.ipynb')]"
      ]
     },
     "execution_count": 10,
     "metadata": {},
     "output_type": "execute_result"
    }
   ],
   "source": [
    "result"
   ]
  },
  {
   "cell_type": "code",
   "execution_count": 17,
   "id": "d4da900b",
   "metadata": {},
   "outputs": [
    {
     "name": "stdout",
     "output_type": "stream",
     "text": [
      "['..\\\\README.md']\n"
     ]
    }
   ],
   "source": [
    "import glob\n",
    "print(glob.glob(\"../*.*\"))"
   ]
  },
  {
   "cell_type": "code",
   "execution_count": 14,
   "id": "17f0462b",
   "metadata": {},
   "outputs": [
    {
     "name": "stdout",
     "output_type": "stream",
     "text": [
      "['D:\\\\Git\\\\Python\\\\06 - Dicas\\\\01 - Base.ipynb', 'D:\\\\Git\\\\Python\\\\06 - Dicas\\\\Beep on Windows.ipynb', 'D:\\\\Git\\\\Python\\\\06 - Dicas\\\\Untitled.ipynb']\n"
     ]
    }
   ],
   "source": [
    "import os\n",
    "from os import listdir\n",
    "from os.path import isfile, join\n",
    "\n",
    "cwd = os.getcwd()\n",
    "onlyfiles = [os.path.join(cwd, f) for f in os.listdir(cwd) if \n",
    "os.path.isfile(os.path.join(cwd, f))]\n",
    "print(onlyfiles) "
   ]
  },
  {
   "cell_type": "code",
   "execution_count": null,
   "id": "d4ffb450",
   "metadata": {},
   "outputs": [],
   "source": []
  }
 ],
 "metadata": {
  "hide_input": false,
  "kernelspec": {
   "display_name": "Python 3",
   "language": "python",
   "name": "python3"
  },
  "language_info": {
   "codemirror_mode": {
    "name": "ipython",
    "version": 3
   },
   "file_extension": ".py",
   "mimetype": "text/x-python",
   "name": "python",
   "nbconvert_exporter": "python",
   "pygments_lexer": "ipython3",
   "version": "3.8.8"
  },
  "varInspector": {
   "cols": {
    "lenName": 16,
    "lenType": 16,
    "lenVar": 40
   },
   "kernels_config": {
    "python": {
     "delete_cmd_postfix": "",
     "delete_cmd_prefix": "del ",
     "library": "var_list.py",
     "varRefreshCmd": "print(var_dic_list())"
    },
    "r": {
     "delete_cmd_postfix": ") ",
     "delete_cmd_prefix": "rm(",
     "library": "var_list.r",
     "varRefreshCmd": "cat(var_dic_list()) "
    }
   },
   "types_to_exclude": [
    "module",
    "function",
    "builtin_function_or_method",
    "instance",
    "_Feature"
   ],
   "window_display": false
  }
 },
 "nbformat": 4,
 "nbformat_minor": 5
}
