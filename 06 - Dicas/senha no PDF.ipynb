{
 "cells": [
  {
   "cell_type": "code",
   "execution_count": 3,
   "id": "fd64f474",
   "metadata": {},
   "outputs": [],
   "source": [
    "from PyPDF2 import  PdfFileReader, PdfFileWriter"
   ]
  },
  {
   "cell_type": "code",
   "execution_count": 4,
   "id": "41e900c1",
   "metadata": {},
   "outputs": [
    {
     "name": "stdout",
     "output_type": "stream",
     "text": [
      "{'/CreationDate': \"D:20210414144726-03'00'\", '/ModDate': \"D:20210414144726-03'00'\", '/Producer': 'Skia/PDF m91'}\n"
     ]
    }
   ],
   "source": [
    "def get_info(path):\n",
    "    with open(path, 'rb') as f:\n",
    "        pdf = PdfFileReader(f)\n",
    "        info = pdf.getDocumentInfo()\n",
    "        number_of_pages = pdf.getNumPages()\n",
    "    \n",
    "    print(info)\n",
    "    author = info.author\n",
    "    creator = info.creator\n",
    "    producer = info.producer\n",
    "    subject = info.subject\n",
    "    title = info.title\n",
    "if __name__ == '__main__':\n",
    "    path = 'Roteiro dos Ciclos de Modelagem Assistidos - v03.pdf'\n",
    "    get_info(path)"
   ]
  },
  {
   "cell_type": "code",
   "execution_count": 6,
   "id": "3f4abdce",
   "metadata": {},
   "outputs": [],
   "source": [
    "\n",
    "def encrypt(input_pdf, output_pdf, password):\n",
    "    pdf_writer = PdfFileWriter()\n",
    "    pdf_reader = PdfFileReader(input_pdf)\n",
    "    \n",
    "    for page in range(pdf_reader.getNumPages()):\n",
    "        pdf_writer.addPage(pdf_reader.getPage(page))\n",
    "        \n",
    "    pdf_writer.encrypt(user_pwd=password, owner_pwd=password, \n",
    "                       use_128bit=True)\n",
    "    with open(output_pdf, 'wb') as fh:\n",
    "        pdf_writer.write(fh)\n",
    "        \n",
    "if __name__ == '__main__':\n",
    "    encrypt(input_pdf='Roteiro dos Ciclos de Modelagem Assistidos - v03.pdf',\n",
    "            output_pdf='encrypted.pdf',\n",
    "            password='senha')"
   ]
  },
  {
   "cell_type": "code",
   "execution_count": null,
   "id": "ffa2e639",
   "metadata": {},
   "outputs": [],
   "source": []
  }
 ],
 "metadata": {
  "hide_input": false,
  "kernelspec": {
   "display_name": "Python 3",
   "language": "python",
   "name": "python3"
  },
  "language_info": {
   "codemirror_mode": {
    "name": "ipython",
    "version": 3
   },
   "file_extension": ".py",
   "mimetype": "text/x-python",
   "name": "python",
   "nbconvert_exporter": "python",
   "pygments_lexer": "ipython3",
   "version": "3.8.8"
  },
  "varInspector": {
   "cols": {
    "lenName": 16,
    "lenType": 16,
    "lenVar": 40
   },
   "kernels_config": {
    "python": {
     "delete_cmd_postfix": "",
     "delete_cmd_prefix": "del ",
     "library": "var_list.py",
     "varRefreshCmd": "print(var_dic_list())"
    },
    "r": {
     "delete_cmd_postfix": ") ",
     "delete_cmd_prefix": "rm(",
     "library": "var_list.r",
     "varRefreshCmd": "cat(var_dic_list()) "
    }
   },
   "types_to_exclude": [
    "module",
    "function",
    "builtin_function_or_method",
    "instance",
    "_Feature"
   ],
   "window_display": false
  }
 },
 "nbformat": 4,
 "nbformat_minor": 5
}
