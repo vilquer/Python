{
 "cells": [
  {
   "cell_type": "markdown",
   "metadata": {},
   "source": [
    "![](https://miro.medium.com/max/1080/1*fUO28EIHi1bkZPhjZ451tQ.jpeg)"
   ]
  },
  {
   "cell_type": "code",
   "execution_count": null,
   "metadata": {},
   "outputs": [],
   "source": [
    "conda install ipywidgets"
   ]
  },
  {
   "cell_type": "code",
   "execution_count": null,
   "metadata": {},
   "outputs": [],
   "source": [
    "conda install seaborn"
   ]
  },
  {
   "cell_type": "code",
   "execution_count": 5,
   "metadata": {},
   "outputs": [],
   "source": [
    "import numpy as np\n",
    "import pandas as pd\n",
    "import seaborn as sns\n",
    "import matplotlib.pyplot as plt\n",
    "\n",
    "from ipywidgets import widgets\n",
    "from ipywidgets import interact, interactive"
   ]
  },
  {
   "cell_type": "markdown",
   "metadata": {
    "heading_collapsed": true
   },
   "source": [
    "# Carregar na memória os dataframes da aula anterior\n",
    "\n",
    "* AtivoCarteira.csv\n",
    "* AtivoPrecoUnidade.csv\n",
    "* AtivoTabelaPreco.csv"
   ]
  },
  {
   "cell_type": "code",
   "execution_count": 6,
   "metadata": {
    "hidden": true
   },
   "outputs": [
    {
     "data": {
      "text/html": [
       "<div>\n",
       "<style scoped>\n",
       "    .dataframe tbody tr th:only-of-type {\n",
       "        vertical-align: middle;\n",
       "    }\n",
       "\n",
       "    .dataframe tbody tr th {\n",
       "        vertical-align: top;\n",
       "    }\n",
       "\n",
       "    .dataframe thead th {\n",
       "        text-align: right;\n",
       "    }\n",
       "</style>\n",
       "<table border=\"1\" class=\"dataframe\">\n",
       "  <thead>\n",
       "    <tr style=\"text-align: right;\">\n",
       "      <th></th>\n",
       "      <th>ativos</th>\n",
       "      <th>qtd</th>\n",
       "    </tr>\n",
       "  </thead>\n",
       "  <tbody>\n",
       "    <tr>\n",
       "      <th>0</th>\n",
       "      <td>A</td>\n",
       "      <td>15</td>\n",
       "    </tr>\n",
       "    <tr>\n",
       "      <th>1</th>\n",
       "      <td>C</td>\n",
       "      <td>38</td>\n",
       "    </tr>\n",
       "    <tr>\n",
       "      <th>2</th>\n",
       "      <td>E</td>\n",
       "      <td>101</td>\n",
       "    </tr>\n",
       "  </tbody>\n",
       "</table>\n",
       "</div>"
      ],
      "text/plain": [
       "  ativos  qtd\n",
       "0      A   15\n",
       "1      C   38\n",
       "2      E  101"
      ]
     },
     "execution_count": 6,
     "metadata": {},
     "output_type": "execute_result"
    }
   ],
   "source": [
    "carteira_df = pd.read_csv('AtivoCarteira.csv')\n",
    "carteira_df.head()"
   ]
  },
  {
   "cell_type": "code",
   "execution_count": 7,
   "metadata": {
    "hidden": true
   },
   "outputs": [
    {
     "data": {
      "text/html": [
       "<div>\n",
       "<style scoped>\n",
       "    .dataframe tbody tr th:only-of-type {\n",
       "        vertical-align: middle;\n",
       "    }\n",
       "\n",
       "    .dataframe tbody tr th {\n",
       "        vertical-align: top;\n",
       "    }\n",
       "\n",
       "    .dataframe thead th {\n",
       "        text-align: right;\n",
       "    }\n",
       "</style>\n",
       "<table border=\"1\" class=\"dataframe\">\n",
       "  <thead>\n",
       "    <tr style=\"text-align: right;\">\n",
       "      <th></th>\n",
       "      <th>preco_unidade</th>\n",
       "    </tr>\n",
       "    <tr>\n",
       "      <th>ativo</th>\n",
       "      <th></th>\n",
       "    </tr>\n",
       "  </thead>\n",
       "  <tbody>\n",
       "    <tr>\n",
       "      <th>A</th>\n",
       "      <td>14</td>\n",
       "    </tr>\n",
       "    <tr>\n",
       "      <th>B</th>\n",
       "      <td>32</td>\n",
       "    </tr>\n",
       "    <tr>\n",
       "      <th>C</th>\n",
       "      <td>12</td>\n",
       "    </tr>\n",
       "    <tr>\n",
       "      <th>D</th>\n",
       "      <td>13</td>\n",
       "    </tr>\n",
       "    <tr>\n",
       "      <th>E</th>\n",
       "      <td>31</td>\n",
       "    </tr>\n",
       "  </tbody>\n",
       "</table>\n",
       "</div>"
      ],
      "text/plain": [
       "       preco_unidade\n",
       "ativo               \n",
       "A                 14\n",
       "B                 32\n",
       "C                 12\n",
       "D                 13\n",
       "E                 31"
      ]
     },
     "execution_count": 7,
     "metadata": {},
     "output_type": "execute_result"
    }
   ],
   "source": [
    "preco_df = pd.read_csv('AtivoPrecoUnidade.csv', index_col='ativo')\n",
    "preco_df.head()"
   ]
  },
  {
   "cell_type": "code",
   "execution_count": 8,
   "metadata": {
    "hidden": true,
    "scrolled": true
   },
   "outputs": [
    {
     "data": {
      "text/html": [
       "<div>\n",
       "<style scoped>\n",
       "    .dataframe tbody tr th:only-of-type {\n",
       "        vertical-align: middle;\n",
       "    }\n",
       "\n",
       "    .dataframe tbody tr th {\n",
       "        vertical-align: top;\n",
       "    }\n",
       "\n",
       "    .dataframe thead th {\n",
       "        text-align: right;\n",
       "    }\n",
       "</style>\n",
       "<table border=\"1\" class=\"dataframe\">\n",
       "  <thead>\n",
       "    <tr style=\"text-align: right;\">\n",
       "      <th></th>\n",
       "      <th>A</th>\n",
       "      <th>B</th>\n",
       "      <th>C</th>\n",
       "      <th>D</th>\n",
       "      <th>E</th>\n",
       "    </tr>\n",
       "    <tr>\n",
       "      <th>DATA</th>\n",
       "      <th></th>\n",
       "      <th></th>\n",
       "      <th></th>\n",
       "      <th></th>\n",
       "      <th></th>\n",
       "    </tr>\n",
       "  </thead>\n",
       "  <tbody>\n",
       "    <tr>\n",
       "      <th>2017-04-05</th>\n",
       "      <td>0.002811</td>\n",
       "      <td>-0.018013</td>\n",
       "      <td>0.032058</td>\n",
       "      <td>0.030823</td>\n",
       "      <td>0.048951</td>\n",
       "    </tr>\n",
       "    <tr>\n",
       "      <th>2017-04-06</th>\n",
       "      <td>0.037022</td>\n",
       "      <td>0.041341</td>\n",
       "      <td>0.015483</td>\n",
       "      <td>0.048944</td>\n",
       "      <td>-0.030685</td>\n",
       "    </tr>\n",
       "    <tr>\n",
       "      <th>2017-04-07</th>\n",
       "      <td>-0.010763</td>\n",
       "      <td>-0.047160</td>\n",
       "      <td>0.023805</td>\n",
       "      <td>0.002283</td>\n",
       "      <td>-0.049531</td>\n",
       "    </tr>\n",
       "    <tr>\n",
       "      <th>2017-04-08</th>\n",
       "      <td>-0.030180</td>\n",
       "      <td>0.035305</td>\n",
       "      <td>-0.028110</td>\n",
       "      <td>0.041066</td>\n",
       "      <td>0.004722</td>\n",
       "    </tr>\n",
       "    <tr>\n",
       "      <th>2017-04-09</th>\n",
       "      <td>-0.031515</td>\n",
       "      <td>0.024788</td>\n",
       "      <td>-0.046728</td>\n",
       "      <td>-0.004896</td>\n",
       "      <td>0.042614</td>\n",
       "    </tr>\n",
       "  </tbody>\n",
       "</table>\n",
       "</div>"
      ],
      "text/plain": [
       "                   A         B         C         D         E\n",
       "DATA                                                        \n",
       "2017-04-05  0.002811 -0.018013  0.032058  0.030823  0.048951\n",
       "2017-04-06  0.037022  0.041341  0.015483  0.048944 -0.030685\n",
       "2017-04-07 -0.010763 -0.047160  0.023805  0.002283 -0.049531\n",
       "2017-04-08 -0.030180  0.035305 -0.028110  0.041066  0.004722\n",
       "2017-04-09 -0.031515  0.024788 -0.046728 -0.004896  0.042614"
      ]
     },
     "execution_count": 8,
     "metadata": {},
     "output_type": "execute_result"
    }
   ],
   "source": [
    "tabela_df= pd.read_csv('AtivoTabelaPreco.csv', index_col='DATA')\n",
    "tabela_df.head()"
   ]
  },
  {
   "cell_type": "markdown",
   "metadata": {
    "heading_collapsed": true
   },
   "source": [
    "# Quais colunas apresentam pelo menos um valor acima de 0.04995"
   ]
  },
  {
   "cell_type": "code",
   "execution_count": 9,
   "metadata": {
    "hidden": true
   },
   "outputs": [
    {
     "data": {
      "text/plain": [
       "['C', 'D']"
      ]
     },
     "execution_count": 9,
     "metadata": {},
     "output_type": "execute_result"
    }
   ],
   "source": [
    "acima_do_valor = []\n",
    "for ativo in tabela_df.columns:\n",
    "    if np.any(tabela_df[ativo] > 0.04995):\n",
    "        acima_do_valor.append(ativo)\n",
    "acima_do_valor"
   ]
  },
  {
   "cell_type": "markdown",
   "metadata": {
    "hidden": true
   },
   "source": [
    "Usando o apply ou o any com axis!"
   ]
  },
  {
   "cell_type": "code",
   "execution_count": 10,
   "metadata": {
    "hidden": true
   },
   "outputs": [
    {
     "data": {
      "text/html": [
       "<div>\n",
       "<style scoped>\n",
       "    .dataframe tbody tr th:only-of-type {\n",
       "        vertical-align: middle;\n",
       "    }\n",
       "\n",
       "    .dataframe tbody tr th {\n",
       "        vertical-align: top;\n",
       "    }\n",
       "\n",
       "    .dataframe thead th {\n",
       "        text-align: right;\n",
       "    }\n",
       "</style>\n",
       "<table border=\"1\" class=\"dataframe\">\n",
       "  <thead>\n",
       "    <tr style=\"text-align: right;\">\n",
       "      <th></th>\n",
       "      <th>A</th>\n",
       "      <th>B</th>\n",
       "      <th>C</th>\n",
       "      <th>D</th>\n",
       "      <th>E</th>\n",
       "    </tr>\n",
       "    <tr>\n",
       "      <th>DATA</th>\n",
       "      <th></th>\n",
       "      <th></th>\n",
       "      <th></th>\n",
       "      <th></th>\n",
       "      <th></th>\n",
       "    </tr>\n",
       "  </thead>\n",
       "  <tbody>\n",
       "    <tr>\n",
       "      <th>2017-04-05</th>\n",
       "      <td>False</td>\n",
       "      <td>False</td>\n",
       "      <td>False</td>\n",
       "      <td>False</td>\n",
       "      <td>False</td>\n",
       "    </tr>\n",
       "    <tr>\n",
       "      <th>2017-04-06</th>\n",
       "      <td>False</td>\n",
       "      <td>False</td>\n",
       "      <td>False</td>\n",
       "      <td>False</td>\n",
       "      <td>False</td>\n",
       "    </tr>\n",
       "    <tr>\n",
       "      <th>2017-04-07</th>\n",
       "      <td>False</td>\n",
       "      <td>False</td>\n",
       "      <td>False</td>\n",
       "      <td>False</td>\n",
       "      <td>False</td>\n",
       "    </tr>\n",
       "    <tr>\n",
       "      <th>2017-04-08</th>\n",
       "      <td>False</td>\n",
       "      <td>False</td>\n",
       "      <td>False</td>\n",
       "      <td>False</td>\n",
       "      <td>False</td>\n",
       "    </tr>\n",
       "    <tr>\n",
       "      <th>2017-04-09</th>\n",
       "      <td>False</td>\n",
       "      <td>False</td>\n",
       "      <td>False</td>\n",
       "      <td>False</td>\n",
       "      <td>False</td>\n",
       "    </tr>\n",
       "    <tr>\n",
       "      <th>...</th>\n",
       "      <td>...</td>\n",
       "      <td>...</td>\n",
       "      <td>...</td>\n",
       "      <td>...</td>\n",
       "      <td>...</td>\n",
       "    </tr>\n",
       "    <tr>\n",
       "      <th>2019-12-26</th>\n",
       "      <td>False</td>\n",
       "      <td>False</td>\n",
       "      <td>False</td>\n",
       "      <td>False</td>\n",
       "      <td>False</td>\n",
       "    </tr>\n",
       "    <tr>\n",
       "      <th>2019-12-27</th>\n",
       "      <td>False</td>\n",
       "      <td>False</td>\n",
       "      <td>False</td>\n",
       "      <td>False</td>\n",
       "      <td>False</td>\n",
       "    </tr>\n",
       "    <tr>\n",
       "      <th>2019-12-28</th>\n",
       "      <td>False</td>\n",
       "      <td>False</td>\n",
       "      <td>False</td>\n",
       "      <td>False</td>\n",
       "      <td>False</td>\n",
       "    </tr>\n",
       "    <tr>\n",
       "      <th>2019-12-29</th>\n",
       "      <td>False</td>\n",
       "      <td>False</td>\n",
       "      <td>False</td>\n",
       "      <td>False</td>\n",
       "      <td>False</td>\n",
       "    </tr>\n",
       "    <tr>\n",
       "      <th>2019-12-30</th>\n",
       "      <td>False</td>\n",
       "      <td>False</td>\n",
       "      <td>False</td>\n",
       "      <td>False</td>\n",
       "      <td>False</td>\n",
       "    </tr>\n",
       "  </tbody>\n",
       "</table>\n",
       "<p>1000 rows × 5 columns</p>\n",
       "</div>"
      ],
      "text/plain": [
       "                A      B      C      D      E\n",
       "DATA                                         \n",
       "2017-04-05  False  False  False  False  False\n",
       "2017-04-06  False  False  False  False  False\n",
       "2017-04-07  False  False  False  False  False\n",
       "2017-04-08  False  False  False  False  False\n",
       "2017-04-09  False  False  False  False  False\n",
       "...           ...    ...    ...    ...    ...\n",
       "2019-12-26  False  False  False  False  False\n",
       "2019-12-27  False  False  False  False  False\n",
       "2019-12-28  False  False  False  False  False\n",
       "2019-12-29  False  False  False  False  False\n",
       "2019-12-30  False  False  False  False  False\n",
       "\n",
       "[1000 rows x 5 columns]"
      ]
     },
     "execution_count": 10,
     "metadata": {},
     "output_type": "execute_result"
    }
   ],
   "source": [
    "tabela_df > 0.04995"
   ]
  },
  {
   "cell_type": "code",
   "execution_count": 11,
   "metadata": {
    "hidden": true
   },
   "outputs": [
    {
     "data": {
      "text/plain": [
       "A    False\n",
       "B    False\n",
       "C     True\n",
       "D     True\n",
       "E    False\n",
       "dtype: bool"
      ]
     },
     "execution_count": 11,
     "metadata": {},
     "output_type": "execute_result"
    }
   ],
   "source": [
    "(tabela_df > 0.04995).apply(np.any)"
   ]
  },
  {
   "cell_type": "code",
   "execution_count": 12,
   "metadata": {
    "hidden": true
   },
   "outputs": [
    {
     "data": {
      "text/plain": [
       "A    False\n",
       "B    False\n",
       "C     True\n",
       "D     True\n",
       "E    False\n",
       "dtype: bool"
      ]
     },
     "execution_count": 12,
     "metadata": {},
     "output_type": "execute_result"
    }
   ],
   "source": [
    "np.any(tabela_df > 0.04995, axis=0)"
   ]
  },
  {
   "cell_type": "markdown",
   "metadata": {
    "heading_collapsed": true
   },
   "source": [
    "# Calculando o acompanhamento diário"
   ]
  },
  {
   "cell_type": "markdown",
   "metadata": {
    "hidden": true
   },
   "source": [
    "Aula passada usamos o laço \"for\"."
   ]
  },
  {
   "cell_type": "code",
   "execution_count": 13,
   "metadata": {
    "hidden": true
   },
   "outputs": [],
   "source": [
    "ativos = tabela_df.columns"
   ]
  },
  {
   "cell_type": "code",
   "execution_count": 14,
   "metadata": {
    "hidden": true
   },
   "outputs": [
    {
     "data": {
      "text/html": [
       "<div>\n",
       "<style scoped>\n",
       "    .dataframe tbody tr th:only-of-type {\n",
       "        vertical-align: middle;\n",
       "    }\n",
       "\n",
       "    .dataframe tbody tr th {\n",
       "        vertical-align: top;\n",
       "    }\n",
       "\n",
       "    .dataframe thead th {\n",
       "        text-align: right;\n",
       "    }\n",
       "</style>\n",
       "<table border=\"1\" class=\"dataframe\">\n",
       "  <thead>\n",
       "    <tr style=\"text-align: right;\">\n",
       "      <th></th>\n",
       "      <th>A</th>\n",
       "      <th>B</th>\n",
       "      <th>C</th>\n",
       "      <th>D</th>\n",
       "      <th>E</th>\n",
       "      <th>A_cumprod</th>\n",
       "      <th>B_cumprod</th>\n",
       "      <th>C_cumprod</th>\n",
       "      <th>D_cumprod</th>\n",
       "      <th>E_cumprod</th>\n",
       "    </tr>\n",
       "    <tr>\n",
       "      <th>DATA</th>\n",
       "      <th></th>\n",
       "      <th></th>\n",
       "      <th></th>\n",
       "      <th></th>\n",
       "      <th></th>\n",
       "      <th></th>\n",
       "      <th></th>\n",
       "      <th></th>\n",
       "      <th></th>\n",
       "      <th></th>\n",
       "    </tr>\n",
       "  </thead>\n",
       "  <tbody>\n",
       "    <tr>\n",
       "      <th>2017-04-05</th>\n",
       "      <td>0.002811</td>\n",
       "      <td>-0.018013</td>\n",
       "      <td>0.032058</td>\n",
       "      <td>0.030823</td>\n",
       "      <td>0.048951</td>\n",
       "      <td>1.002811</td>\n",
       "      <td>0.981987</td>\n",
       "      <td>1.032058</td>\n",
       "      <td>1.030823</td>\n",
       "      <td>1.048951</td>\n",
       "    </tr>\n",
       "    <tr>\n",
       "      <th>2017-04-06</th>\n",
       "      <td>0.037022</td>\n",
       "      <td>0.041341</td>\n",
       "      <td>0.015483</td>\n",
       "      <td>0.048944</td>\n",
       "      <td>-0.030685</td>\n",
       "      <td>1.039938</td>\n",
       "      <td>1.022584</td>\n",
       "      <td>1.048037</td>\n",
       "      <td>1.081275</td>\n",
       "      <td>1.016764</td>\n",
       "    </tr>\n",
       "    <tr>\n",
       "      <th>2017-04-07</th>\n",
       "      <td>-0.010763</td>\n",
       "      <td>-0.047160</td>\n",
       "      <td>0.023805</td>\n",
       "      <td>0.002283</td>\n",
       "      <td>-0.049531</td>\n",
       "      <td>1.028745</td>\n",
       "      <td>0.974359</td>\n",
       "      <td>1.072986</td>\n",
       "      <td>1.083743</td>\n",
       "      <td>0.966403</td>\n",
       "    </tr>\n",
       "    <tr>\n",
       "      <th>2017-04-08</th>\n",
       "      <td>-0.030180</td>\n",
       "      <td>0.035305</td>\n",
       "      <td>-0.028110</td>\n",
       "      <td>0.041066</td>\n",
       "      <td>0.004722</td>\n",
       "      <td>0.997697</td>\n",
       "      <td>1.008758</td>\n",
       "      <td>1.042825</td>\n",
       "      <td>1.128248</td>\n",
       "      <td>0.970966</td>\n",
       "    </tr>\n",
       "    <tr>\n",
       "      <th>2017-04-09</th>\n",
       "      <td>-0.031515</td>\n",
       "      <td>0.024788</td>\n",
       "      <td>-0.046728</td>\n",
       "      <td>-0.004896</td>\n",
       "      <td>0.042614</td>\n",
       "      <td>0.966254</td>\n",
       "      <td>1.033763</td>\n",
       "      <td>0.994096</td>\n",
       "      <td>1.122725</td>\n",
       "      <td>1.012343</td>\n",
       "    </tr>\n",
       "    <tr>\n",
       "      <th>...</th>\n",
       "      <td>...</td>\n",
       "      <td>...</td>\n",
       "      <td>...</td>\n",
       "      <td>...</td>\n",
       "      <td>...</td>\n",
       "      <td>...</td>\n",
       "      <td>...</td>\n",
       "      <td>...</td>\n",
       "      <td>...</td>\n",
       "      <td>...</td>\n",
       "    </tr>\n",
       "    <tr>\n",
       "      <th>2019-12-26</th>\n",
       "      <td>-0.031635</td>\n",
       "      <td>0.039970</td>\n",
       "      <td>-0.037060</td>\n",
       "      <td>-0.035755</td>\n",
       "      <td>0.032632</td>\n",
       "      <td>2.449419</td>\n",
       "      <td>0.262362</td>\n",
       "      <td>0.450427</td>\n",
       "      <td>0.571912</td>\n",
       "      <td>0.766283</td>\n",
       "    </tr>\n",
       "    <tr>\n",
       "      <th>2019-12-27</th>\n",
       "      <td>-0.024977</td>\n",
       "      <td>-0.031029</td>\n",
       "      <td>0.048233</td>\n",
       "      <td>0.038002</td>\n",
       "      <td>0.045246</td>\n",
       "      <td>2.388240</td>\n",
       "      <td>0.254221</td>\n",
       "      <td>0.472152</td>\n",
       "      <td>0.593646</td>\n",
       "      <td>0.800954</td>\n",
       "    </tr>\n",
       "    <tr>\n",
       "      <th>2019-12-28</th>\n",
       "      <td>0.038493</td>\n",
       "      <td>0.012398</td>\n",
       "      <td>-0.045488</td>\n",
       "      <td>-0.004896</td>\n",
       "      <td>0.041029</td>\n",
       "      <td>2.480171</td>\n",
       "      <td>0.257373</td>\n",
       "      <td>0.450675</td>\n",
       "      <td>0.590739</td>\n",
       "      <td>0.833816</td>\n",
       "    </tr>\n",
       "    <tr>\n",
       "      <th>2019-12-29</th>\n",
       "      <td>-0.009203</td>\n",
       "      <td>-0.043832</td>\n",
       "      <td>0.028211</td>\n",
       "      <td>-0.048818</td>\n",
       "      <td>0.025187</td>\n",
       "      <td>2.457345</td>\n",
       "      <td>0.246092</td>\n",
       "      <td>0.463389</td>\n",
       "      <td>0.561901</td>\n",
       "      <td>0.854818</td>\n",
       "    </tr>\n",
       "    <tr>\n",
       "      <th>2019-12-30</th>\n",
       "      <td>0.047144</td>\n",
       "      <td>0.019155</td>\n",
       "      <td>-0.017805</td>\n",
       "      <td>0.017859</td>\n",
       "      <td>0.009428</td>\n",
       "      <td>2.573193</td>\n",
       "      <td>0.250806</td>\n",
       "      <td>0.455139</td>\n",
       "      <td>0.571936</td>\n",
       "      <td>0.862877</td>\n",
       "    </tr>\n",
       "  </tbody>\n",
       "</table>\n",
       "<p>1000 rows × 10 columns</p>\n",
       "</div>"
      ],
      "text/plain": [
       "                   A         B         C         D         E  A_cumprod  \\\n",
       "DATA                                                                      \n",
       "2017-04-05  0.002811 -0.018013  0.032058  0.030823  0.048951   1.002811   \n",
       "2017-04-06  0.037022  0.041341  0.015483  0.048944 -0.030685   1.039938   \n",
       "2017-04-07 -0.010763 -0.047160  0.023805  0.002283 -0.049531   1.028745   \n",
       "2017-04-08 -0.030180  0.035305 -0.028110  0.041066  0.004722   0.997697   \n",
       "2017-04-09 -0.031515  0.024788 -0.046728 -0.004896  0.042614   0.966254   \n",
       "...              ...       ...       ...       ...       ...        ...   \n",
       "2019-12-26 -0.031635  0.039970 -0.037060 -0.035755  0.032632   2.449419   \n",
       "2019-12-27 -0.024977 -0.031029  0.048233  0.038002  0.045246   2.388240   \n",
       "2019-12-28  0.038493  0.012398 -0.045488 -0.004896  0.041029   2.480171   \n",
       "2019-12-29 -0.009203 -0.043832  0.028211 -0.048818  0.025187   2.457345   \n",
       "2019-12-30  0.047144  0.019155 -0.017805  0.017859  0.009428   2.573193   \n",
       "\n",
       "            B_cumprod  C_cumprod  D_cumprod  E_cumprod  \n",
       "DATA                                                    \n",
       "2017-04-05   0.981987   1.032058   1.030823   1.048951  \n",
       "2017-04-06   1.022584   1.048037   1.081275   1.016764  \n",
       "2017-04-07   0.974359   1.072986   1.083743   0.966403  \n",
       "2017-04-08   1.008758   1.042825   1.128248   0.970966  \n",
       "2017-04-09   1.033763   0.994096   1.122725   1.012343  \n",
       "...               ...        ...        ...        ...  \n",
       "2019-12-26   0.262362   0.450427   0.571912   0.766283  \n",
       "2019-12-27   0.254221   0.472152   0.593646   0.800954  \n",
       "2019-12-28   0.257373   0.450675   0.590739   0.833816  \n",
       "2019-12-29   0.246092   0.463389   0.561901   0.854818  \n",
       "2019-12-30   0.250806   0.455139   0.571936   0.862877  \n",
       "\n",
       "[1000 rows x 10 columns]"
      ]
     },
     "execution_count": 14,
     "metadata": {},
     "output_type": "execute_result"
    }
   ],
   "source": [
    "for ativo in ativos:\n",
    "    tabela_df[f'{ativo}_cumprod'] = (tabela_df[ativo] + 1).cumprod()\n",
    "tabela_df"
   ]
  },
  {
   "cell_type": "markdown",
   "metadata": {
    "hidden": true
   },
   "source": [
    "Mas tem uma maneira mais interessante. Vamos dropar os cumprods para recalculá-los. "
   ]
  },
  {
   "cell_type": "code",
   "execution_count": 15,
   "metadata": {
    "hidden": true
   },
   "outputs": [
    {
     "data": {
      "text/html": [
       "<div>\n",
       "<style scoped>\n",
       "    .dataframe tbody tr th:only-of-type {\n",
       "        vertical-align: middle;\n",
       "    }\n",
       "\n",
       "    .dataframe tbody tr th {\n",
       "        vertical-align: top;\n",
       "    }\n",
       "\n",
       "    .dataframe thead th {\n",
       "        text-align: right;\n",
       "    }\n",
       "</style>\n",
       "<table border=\"1\" class=\"dataframe\">\n",
       "  <thead>\n",
       "    <tr style=\"text-align: right;\">\n",
       "      <th></th>\n",
       "      <th>A</th>\n",
       "      <th>B</th>\n",
       "      <th>C</th>\n",
       "      <th>D</th>\n",
       "      <th>E</th>\n",
       "    </tr>\n",
       "    <tr>\n",
       "      <th>DATA</th>\n",
       "      <th></th>\n",
       "      <th></th>\n",
       "      <th></th>\n",
       "      <th></th>\n",
       "      <th></th>\n",
       "    </tr>\n",
       "  </thead>\n",
       "  <tbody>\n",
       "    <tr>\n",
       "      <th>2017-04-05</th>\n",
       "      <td>0.002811</td>\n",
       "      <td>-0.018013</td>\n",
       "      <td>0.032058</td>\n",
       "      <td>0.030823</td>\n",
       "      <td>0.048951</td>\n",
       "    </tr>\n",
       "    <tr>\n",
       "      <th>2017-04-06</th>\n",
       "      <td>0.037022</td>\n",
       "      <td>0.041341</td>\n",
       "      <td>0.015483</td>\n",
       "      <td>0.048944</td>\n",
       "      <td>-0.030685</td>\n",
       "    </tr>\n",
       "    <tr>\n",
       "      <th>2017-04-07</th>\n",
       "      <td>-0.010763</td>\n",
       "      <td>-0.047160</td>\n",
       "      <td>0.023805</td>\n",
       "      <td>0.002283</td>\n",
       "      <td>-0.049531</td>\n",
       "    </tr>\n",
       "    <tr>\n",
       "      <th>2017-04-08</th>\n",
       "      <td>-0.030180</td>\n",
       "      <td>0.035305</td>\n",
       "      <td>-0.028110</td>\n",
       "      <td>0.041066</td>\n",
       "      <td>0.004722</td>\n",
       "    </tr>\n",
       "    <tr>\n",
       "      <th>2017-04-09</th>\n",
       "      <td>-0.031515</td>\n",
       "      <td>0.024788</td>\n",
       "      <td>-0.046728</td>\n",
       "      <td>-0.004896</td>\n",
       "      <td>0.042614</td>\n",
       "    </tr>\n",
       "  </tbody>\n",
       "</table>\n",
       "</div>"
      ],
      "text/plain": [
       "                   A         B         C         D         E\n",
       "DATA                                                        \n",
       "2017-04-05  0.002811 -0.018013  0.032058  0.030823  0.048951\n",
       "2017-04-06  0.037022  0.041341  0.015483  0.048944 -0.030685\n",
       "2017-04-07 -0.010763 -0.047160  0.023805  0.002283 -0.049531\n",
       "2017-04-08 -0.030180  0.035305 -0.028110  0.041066  0.004722\n",
       "2017-04-09 -0.031515  0.024788 -0.046728 -0.004896  0.042614"
      ]
     },
     "execution_count": 15,
     "metadata": {},
     "output_type": "execute_result"
    }
   ],
   "source": [
    "ativos_cumprod = [f'{ativo}_cumprod' for ativo in ativos]\n",
    "tabela_df.drop(columns=ativos_cumprod, inplace=True)\n",
    "tabela_df.head()"
   ]
  },
  {
   "cell_type": "markdown",
   "metadata": {
    "hidden": true
   },
   "source": [
    "Usando o apply!"
   ]
  },
  {
   "cell_type": "code",
   "execution_count": 16,
   "metadata": {
    "hidden": true
   },
   "outputs": [
    {
     "data": {
      "text/html": [
       "<div>\n",
       "<style scoped>\n",
       "    .dataframe tbody tr th:only-of-type {\n",
       "        vertical-align: middle;\n",
       "    }\n",
       "\n",
       "    .dataframe tbody tr th {\n",
       "        vertical-align: top;\n",
       "    }\n",
       "\n",
       "    .dataframe thead th {\n",
       "        text-align: right;\n",
       "    }\n",
       "</style>\n",
       "<table border=\"1\" class=\"dataframe\">\n",
       "  <thead>\n",
       "    <tr style=\"text-align: right;\">\n",
       "      <th></th>\n",
       "      <th>A</th>\n",
       "      <th>B</th>\n",
       "      <th>C</th>\n",
       "      <th>D</th>\n",
       "      <th>E</th>\n",
       "    </tr>\n",
       "    <tr>\n",
       "      <th>DATA</th>\n",
       "      <th></th>\n",
       "      <th></th>\n",
       "      <th></th>\n",
       "      <th></th>\n",
       "      <th></th>\n",
       "    </tr>\n",
       "  </thead>\n",
       "  <tbody>\n",
       "    <tr>\n",
       "      <th>2017-04-05</th>\n",
       "      <td>1.002811</td>\n",
       "      <td>0.981987</td>\n",
       "      <td>1.032058</td>\n",
       "      <td>1.030823</td>\n",
       "      <td>1.048951</td>\n",
       "    </tr>\n",
       "    <tr>\n",
       "      <th>2017-04-06</th>\n",
       "      <td>1.039938</td>\n",
       "      <td>1.022584</td>\n",
       "      <td>1.048037</td>\n",
       "      <td>1.081275</td>\n",
       "      <td>1.016764</td>\n",
       "    </tr>\n",
       "    <tr>\n",
       "      <th>2017-04-07</th>\n",
       "      <td>1.028745</td>\n",
       "      <td>0.974359</td>\n",
       "      <td>1.072986</td>\n",
       "      <td>1.083743</td>\n",
       "      <td>0.966403</td>\n",
       "    </tr>\n",
       "    <tr>\n",
       "      <th>2017-04-08</th>\n",
       "      <td>0.997697</td>\n",
       "      <td>1.008758</td>\n",
       "      <td>1.042825</td>\n",
       "      <td>1.128248</td>\n",
       "      <td>0.970966</td>\n",
       "    </tr>\n",
       "    <tr>\n",
       "      <th>2017-04-09</th>\n",
       "      <td>0.966254</td>\n",
       "      <td>1.033763</td>\n",
       "      <td>0.994096</td>\n",
       "      <td>1.122725</td>\n",
       "      <td>1.012343</td>\n",
       "    </tr>\n",
       "    <tr>\n",
       "      <th>...</th>\n",
       "      <td>...</td>\n",
       "      <td>...</td>\n",
       "      <td>...</td>\n",
       "      <td>...</td>\n",
       "      <td>...</td>\n",
       "    </tr>\n",
       "    <tr>\n",
       "      <th>2019-12-26</th>\n",
       "      <td>2.449419</td>\n",
       "      <td>0.262362</td>\n",
       "      <td>0.450427</td>\n",
       "      <td>0.571912</td>\n",
       "      <td>0.766283</td>\n",
       "    </tr>\n",
       "    <tr>\n",
       "      <th>2019-12-27</th>\n",
       "      <td>2.388240</td>\n",
       "      <td>0.254221</td>\n",
       "      <td>0.472152</td>\n",
       "      <td>0.593646</td>\n",
       "      <td>0.800954</td>\n",
       "    </tr>\n",
       "    <tr>\n",
       "      <th>2019-12-28</th>\n",
       "      <td>2.480171</td>\n",
       "      <td>0.257373</td>\n",
       "      <td>0.450675</td>\n",
       "      <td>0.590739</td>\n",
       "      <td>0.833816</td>\n",
       "    </tr>\n",
       "    <tr>\n",
       "      <th>2019-12-29</th>\n",
       "      <td>2.457345</td>\n",
       "      <td>0.246092</td>\n",
       "      <td>0.463389</td>\n",
       "      <td>0.561901</td>\n",
       "      <td>0.854818</td>\n",
       "    </tr>\n",
       "    <tr>\n",
       "      <th>2019-12-30</th>\n",
       "      <td>2.573193</td>\n",
       "      <td>0.250806</td>\n",
       "      <td>0.455139</td>\n",
       "      <td>0.571936</td>\n",
       "      <td>0.862877</td>\n",
       "    </tr>\n",
       "  </tbody>\n",
       "</table>\n",
       "<p>1000 rows × 5 columns</p>\n",
       "</div>"
      ],
      "text/plain": [
       "                   A         B         C         D         E\n",
       "DATA                                                        \n",
       "2017-04-05  1.002811  0.981987  1.032058  1.030823  1.048951\n",
       "2017-04-06  1.039938  1.022584  1.048037  1.081275  1.016764\n",
       "2017-04-07  1.028745  0.974359  1.072986  1.083743  0.966403\n",
       "2017-04-08  0.997697  1.008758  1.042825  1.128248  0.970966\n",
       "2017-04-09  0.966254  1.033763  0.994096  1.122725  1.012343\n",
       "...              ...       ...       ...       ...       ...\n",
       "2019-12-26  2.449419  0.262362  0.450427  0.571912  0.766283\n",
       "2019-12-27  2.388240  0.254221  0.472152  0.593646  0.800954\n",
       "2019-12-28  2.480171  0.257373  0.450675  0.590739  0.833816\n",
       "2019-12-29  2.457345  0.246092  0.463389  0.561901  0.854818\n",
       "2019-12-30  2.573193  0.250806  0.455139  0.571936  0.862877\n",
       "\n",
       "[1000 rows x 5 columns]"
      ]
     },
     "execution_count": 16,
     "metadata": {},
     "output_type": "execute_result"
    }
   ],
   "source": [
    "tabela_df.apply(lambda d: (d + 1).cumprod())"
   ]
  },
  {
   "cell_type": "code",
   "execution_count": 17,
   "metadata": {
    "hidden": true
   },
   "outputs": [
    {
     "data": {
      "text/html": [
       "<div>\n",
       "<style scoped>\n",
       "    .dataframe tbody tr th:only-of-type {\n",
       "        vertical-align: middle;\n",
       "    }\n",
       "\n",
       "    .dataframe tbody tr th {\n",
       "        vertical-align: top;\n",
       "    }\n",
       "\n",
       "    .dataframe thead th {\n",
       "        text-align: right;\n",
       "    }\n",
       "</style>\n",
       "<table border=\"1\" class=\"dataframe\">\n",
       "  <thead>\n",
       "    <tr style=\"text-align: right;\">\n",
       "      <th></th>\n",
       "      <th>A</th>\n",
       "      <th>B</th>\n",
       "      <th>C</th>\n",
       "      <th>D</th>\n",
       "      <th>E</th>\n",
       "    </tr>\n",
       "    <tr>\n",
       "      <th>DATA</th>\n",
       "      <th></th>\n",
       "      <th></th>\n",
       "      <th></th>\n",
       "      <th></th>\n",
       "      <th></th>\n",
       "    </tr>\n",
       "  </thead>\n",
       "  <tbody>\n",
       "    <tr>\n",
       "      <th>2017-04-05</th>\n",
       "      <td>1.002811</td>\n",
       "      <td>0.981987</td>\n",
       "      <td>1.032058</td>\n",
       "      <td>1.030823</td>\n",
       "      <td>1.048951</td>\n",
       "    </tr>\n",
       "    <tr>\n",
       "      <th>2017-04-06</th>\n",
       "      <td>1.039938</td>\n",
       "      <td>1.022584</td>\n",
       "      <td>1.048037</td>\n",
       "      <td>1.081275</td>\n",
       "      <td>1.016764</td>\n",
       "    </tr>\n",
       "    <tr>\n",
       "      <th>2017-04-07</th>\n",
       "      <td>1.028745</td>\n",
       "      <td>0.974359</td>\n",
       "      <td>1.072986</td>\n",
       "      <td>1.083743</td>\n",
       "      <td>0.966403</td>\n",
       "    </tr>\n",
       "    <tr>\n",
       "      <th>2017-04-08</th>\n",
       "      <td>0.997697</td>\n",
       "      <td>1.008758</td>\n",
       "      <td>1.042825</td>\n",
       "      <td>1.128248</td>\n",
       "      <td>0.970966</td>\n",
       "    </tr>\n",
       "    <tr>\n",
       "      <th>2017-04-09</th>\n",
       "      <td>0.966254</td>\n",
       "      <td>1.033763</td>\n",
       "      <td>0.994096</td>\n",
       "      <td>1.122725</td>\n",
       "      <td>1.012343</td>\n",
       "    </tr>\n",
       "    <tr>\n",
       "      <th>...</th>\n",
       "      <td>...</td>\n",
       "      <td>...</td>\n",
       "      <td>...</td>\n",
       "      <td>...</td>\n",
       "      <td>...</td>\n",
       "    </tr>\n",
       "    <tr>\n",
       "      <th>2019-12-26</th>\n",
       "      <td>2.449419</td>\n",
       "      <td>0.262362</td>\n",
       "      <td>0.450427</td>\n",
       "      <td>0.571912</td>\n",
       "      <td>0.766283</td>\n",
       "    </tr>\n",
       "    <tr>\n",
       "      <th>2019-12-27</th>\n",
       "      <td>2.388240</td>\n",
       "      <td>0.254221</td>\n",
       "      <td>0.472152</td>\n",
       "      <td>0.593646</td>\n",
       "      <td>0.800954</td>\n",
       "    </tr>\n",
       "    <tr>\n",
       "      <th>2019-12-28</th>\n",
       "      <td>2.480171</td>\n",
       "      <td>0.257373</td>\n",
       "      <td>0.450675</td>\n",
       "      <td>0.590739</td>\n",
       "      <td>0.833816</td>\n",
       "    </tr>\n",
       "    <tr>\n",
       "      <th>2019-12-29</th>\n",
       "      <td>2.457345</td>\n",
       "      <td>0.246092</td>\n",
       "      <td>0.463389</td>\n",
       "      <td>0.561901</td>\n",
       "      <td>0.854818</td>\n",
       "    </tr>\n",
       "    <tr>\n",
       "      <th>2019-12-30</th>\n",
       "      <td>2.573193</td>\n",
       "      <td>0.250806</td>\n",
       "      <td>0.455139</td>\n",
       "      <td>0.571936</td>\n",
       "      <td>0.862877</td>\n",
       "    </tr>\n",
       "  </tbody>\n",
       "</table>\n",
       "<p>1000 rows × 5 columns</p>\n",
       "</div>"
      ],
      "text/plain": [
       "                   A         B         C         D         E\n",
       "DATA                                                        \n",
       "2017-04-05  1.002811  0.981987  1.032058  1.030823  1.048951\n",
       "2017-04-06  1.039938  1.022584  1.048037  1.081275  1.016764\n",
       "2017-04-07  1.028745  0.974359  1.072986  1.083743  0.966403\n",
       "2017-04-08  0.997697  1.008758  1.042825  1.128248  0.970966\n",
       "2017-04-09  0.966254  1.033763  0.994096  1.122725  1.012343\n",
       "...              ...       ...       ...       ...       ...\n",
       "2019-12-26  2.449419  0.262362  0.450427  0.571912  0.766283\n",
       "2019-12-27  2.388240  0.254221  0.472152  0.593646  0.800954\n",
       "2019-12-28  2.480171  0.257373  0.450675  0.590739  0.833816\n",
       "2019-12-29  2.457345  0.246092  0.463389  0.561901  0.854818\n",
       "2019-12-30  2.573193  0.250806  0.455139  0.571936  0.862877\n",
       "\n",
       "[1000 rows x 5 columns]"
      ]
     },
     "execution_count": 17,
     "metadata": {},
     "output_type": "execute_result"
    }
   ],
   "source": [
    "cumprods = tabela_df.apply(lambda d: (d + 1).cumprod())\n",
    "cumprods"
   ]
  },
  {
   "cell_type": "markdown",
   "metadata": {
    "hidden": true
   },
   "source": [
    "E para calcular o valor final diário podemos usar multiplicação ponto a ponto das matrizes."
   ]
  },
  {
   "cell_type": "code",
   "execution_count": 18,
   "metadata": {
    "hidden": true
   },
   "outputs": [
    {
     "data": {
      "text/html": [
       "<div>\n",
       "<style scoped>\n",
       "    .dataframe tbody tr th:only-of-type {\n",
       "        vertical-align: middle;\n",
       "    }\n",
       "\n",
       "    .dataframe tbody tr th {\n",
       "        vertical-align: top;\n",
       "    }\n",
       "\n",
       "    .dataframe thead th {\n",
       "        text-align: right;\n",
       "    }\n",
       "</style>\n",
       "<table border=\"1\" class=\"dataframe\">\n",
       "  <thead>\n",
       "    <tr style=\"text-align: right;\">\n",
       "      <th></th>\n",
       "      <th>preco_unidade</th>\n",
       "    </tr>\n",
       "    <tr>\n",
       "      <th>ativo</th>\n",
       "      <th></th>\n",
       "    </tr>\n",
       "  </thead>\n",
       "  <tbody>\n",
       "    <tr>\n",
       "      <th>A</th>\n",
       "      <td>14</td>\n",
       "    </tr>\n",
       "    <tr>\n",
       "      <th>B</th>\n",
       "      <td>32</td>\n",
       "    </tr>\n",
       "    <tr>\n",
       "      <th>C</th>\n",
       "      <td>12</td>\n",
       "    </tr>\n",
       "    <tr>\n",
       "      <th>D</th>\n",
       "      <td>13</td>\n",
       "    </tr>\n",
       "    <tr>\n",
       "      <th>E</th>\n",
       "      <td>31</td>\n",
       "    </tr>\n",
       "  </tbody>\n",
       "</table>\n",
       "</div>"
      ],
      "text/plain": [
       "       preco_unidade\n",
       "ativo               \n",
       "A                 14\n",
       "B                 32\n",
       "C                 12\n",
       "D                 13\n",
       "E                 31"
      ]
     },
     "execution_count": 18,
     "metadata": {},
     "output_type": "execute_result"
    }
   ],
   "source": [
    "preco_df"
   ]
  },
  {
   "cell_type": "code",
   "execution_count": 19,
   "metadata": {
    "hidden": true
   },
   "outputs": [
    {
     "data": {
      "text/html": [
       "<div>\n",
       "<style scoped>\n",
       "    .dataframe tbody tr th:only-of-type {\n",
       "        vertical-align: middle;\n",
       "    }\n",
       "\n",
       "    .dataframe tbody tr th {\n",
       "        vertical-align: top;\n",
       "    }\n",
       "\n",
       "    .dataframe thead th {\n",
       "        text-align: right;\n",
       "    }\n",
       "</style>\n",
       "<table border=\"1\" class=\"dataframe\">\n",
       "  <thead>\n",
       "    <tr style=\"text-align: right;\">\n",
       "      <th>ativo</th>\n",
       "      <th>A</th>\n",
       "      <th>B</th>\n",
       "      <th>C</th>\n",
       "      <th>D</th>\n",
       "      <th>E</th>\n",
       "    </tr>\n",
       "  </thead>\n",
       "  <tbody>\n",
       "    <tr>\n",
       "      <th>preco_unidade</th>\n",
       "      <td>14</td>\n",
       "      <td>32</td>\n",
       "      <td>12</td>\n",
       "      <td>13</td>\n",
       "      <td>31</td>\n",
       "    </tr>\n",
       "  </tbody>\n",
       "</table>\n",
       "</div>"
      ],
      "text/plain": [
       "ativo           A   B   C   D   E\n",
       "preco_unidade  14  32  12  13  31"
      ]
     },
     "execution_count": 19,
     "metadata": {},
     "output_type": "execute_result"
    }
   ],
   "source": [
    "preco_df.T"
   ]
  },
  {
   "cell_type": "code",
   "execution_count": 20,
   "metadata": {
    "hidden": true
   },
   "outputs": [
    {
     "data": {
      "text/plain": [
       "array([[14, 32, 12, 13, 31]], dtype=int64)"
      ]
     },
     "execution_count": 20,
     "metadata": {},
     "output_type": "execute_result"
    }
   ],
   "source": [
    "preco_df.T.values"
   ]
  },
  {
   "cell_type": "code",
   "execution_count": 21,
   "metadata": {
    "hidden": true
   },
   "outputs": [
    {
     "data": {
      "text/html": [
       "<div>\n",
       "<style scoped>\n",
       "    .dataframe tbody tr th:only-of-type {\n",
       "        vertical-align: middle;\n",
       "    }\n",
       "\n",
       "    .dataframe tbody tr th {\n",
       "        vertical-align: top;\n",
       "    }\n",
       "\n",
       "    .dataframe thead th {\n",
       "        text-align: right;\n",
       "    }\n",
       "</style>\n",
       "<table border=\"1\" class=\"dataframe\">\n",
       "  <thead>\n",
       "    <tr style=\"text-align: right;\">\n",
       "      <th></th>\n",
       "      <th>A</th>\n",
       "      <th>B</th>\n",
       "      <th>C</th>\n",
       "      <th>D</th>\n",
       "      <th>E</th>\n",
       "    </tr>\n",
       "    <tr>\n",
       "      <th>DATA</th>\n",
       "      <th></th>\n",
       "      <th></th>\n",
       "      <th></th>\n",
       "      <th></th>\n",
       "      <th></th>\n",
       "    </tr>\n",
       "  </thead>\n",
       "  <tbody>\n",
       "    <tr>\n",
       "      <th>2017-04-05</th>\n",
       "      <td>14.039357</td>\n",
       "      <td>31.423599</td>\n",
       "      <td>12.384701</td>\n",
       "      <td>13.400694</td>\n",
       "      <td>32.517493</td>\n",
       "    </tr>\n",
       "    <tr>\n",
       "      <th>2017-04-06</th>\n",
       "      <td>14.559127</td>\n",
       "      <td>32.722675</td>\n",
       "      <td>12.576448</td>\n",
       "      <td>14.056574</td>\n",
       "      <td>31.519695</td>\n",
       "    </tr>\n",
       "    <tr>\n",
       "      <th>2017-04-07</th>\n",
       "      <td>14.402427</td>\n",
       "      <td>31.179484</td>\n",
       "      <td>12.875828</td>\n",
       "      <td>14.088664</td>\n",
       "      <td>29.958482</td>\n",
       "    </tr>\n",
       "    <tr>\n",
       "      <th>2017-04-08</th>\n",
       "      <td>13.967761</td>\n",
       "      <td>32.280271</td>\n",
       "      <td>12.513894</td>\n",
       "      <td>14.667222</td>\n",
       "      <td>30.099958</td>\n",
       "    </tr>\n",
       "    <tr>\n",
       "      <th>2017-04-09</th>\n",
       "      <td>13.527560</td>\n",
       "      <td>33.080424</td>\n",
       "      <td>11.929149</td>\n",
       "      <td>14.595419</td>\n",
       "      <td>31.382635</td>\n",
       "    </tr>\n",
       "    <tr>\n",
       "      <th>...</th>\n",
       "      <td>...</td>\n",
       "      <td>...</td>\n",
       "      <td>...</td>\n",
       "      <td>...</td>\n",
       "      <td>...</td>\n",
       "    </tr>\n",
       "    <tr>\n",
       "      <th>2019-12-26</th>\n",
       "      <td>34.291865</td>\n",
       "      <td>8.395594</td>\n",
       "      <td>5.405122</td>\n",
       "      <td>7.434858</td>\n",
       "      <td>23.754771</td>\n",
       "    </tr>\n",
       "    <tr>\n",
       "      <th>2019-12-27</th>\n",
       "      <td>33.435358</td>\n",
       "      <td>8.135087</td>\n",
       "      <td>5.665829</td>\n",
       "      <td>7.717393</td>\n",
       "      <td>24.829573</td>\n",
       "    </tr>\n",
       "    <tr>\n",
       "      <th>2019-12-28</th>\n",
       "      <td>34.722397</td>\n",
       "      <td>8.235942</td>\n",
       "      <td>5.408104</td>\n",
       "      <td>7.679611</td>\n",
       "      <td>25.848309</td>\n",
       "    </tr>\n",
       "    <tr>\n",
       "      <th>2019-12-29</th>\n",
       "      <td>34.402832</td>\n",
       "      <td>7.874941</td>\n",
       "      <td>5.560674</td>\n",
       "      <td>7.304709</td>\n",
       "      <td>26.499358</td>\n",
       "    </tr>\n",
       "    <tr>\n",
       "      <th>2019-12-30</th>\n",
       "      <td>36.024703</td>\n",
       "      <td>8.025782</td>\n",
       "      <td>5.461668</td>\n",
       "      <td>7.435165</td>\n",
       "      <td>26.749200</td>\n",
       "    </tr>\n",
       "  </tbody>\n",
       "</table>\n",
       "<p>1000 rows × 5 columns</p>\n",
       "</div>"
      ],
      "text/plain": [
       "                    A          B          C          D          E\n",
       "DATA                                                             \n",
       "2017-04-05  14.039357  31.423599  12.384701  13.400694  32.517493\n",
       "2017-04-06  14.559127  32.722675  12.576448  14.056574  31.519695\n",
       "2017-04-07  14.402427  31.179484  12.875828  14.088664  29.958482\n",
       "2017-04-08  13.967761  32.280271  12.513894  14.667222  30.099958\n",
       "2017-04-09  13.527560  33.080424  11.929149  14.595419  31.382635\n",
       "...               ...        ...        ...        ...        ...\n",
       "2019-12-26  34.291865   8.395594   5.405122   7.434858  23.754771\n",
       "2019-12-27  33.435358   8.135087   5.665829   7.717393  24.829573\n",
       "2019-12-28  34.722397   8.235942   5.408104   7.679611  25.848309\n",
       "2019-12-29  34.402832   7.874941   5.560674   7.304709  26.499358\n",
       "2019-12-30  36.024703   8.025782   5.461668   7.435165  26.749200\n",
       "\n",
       "[1000 rows x 5 columns]"
      ]
     },
     "execution_count": 21,
     "metadata": {},
     "output_type": "execute_result"
    }
   ],
   "source": [
    "cumprods * preco_df.T.values"
   ]
  },
  {
   "cell_type": "code",
   "execution_count": 22,
   "metadata": {
    "hidden": true
   },
   "outputs": [],
   "source": [
    "acompanhamento = cumprods * preco_df.T.values"
   ]
  },
  {
   "cell_type": "markdown",
   "metadata": {
    "heading_collapsed": true
   },
   "source": [
    "# Sumarizando"
   ]
  },
  {
   "cell_type": "markdown",
   "metadata": {
    "heading_collapsed": true,
    "hidden": true
   },
   "source": [
    "## Jeito 1"
   ]
  },
  {
   "cell_type": "code",
   "execution_count": 23,
   "metadata": {
    "hidden": true
   },
   "outputs": [
    {
     "data": {
      "text/html": [
       "<div>\n",
       "<style scoped>\n",
       "    .dataframe tbody tr th:only-of-type {\n",
       "        vertical-align: middle;\n",
       "    }\n",
       "\n",
       "    .dataframe tbody tr th {\n",
       "        vertical-align: top;\n",
       "    }\n",
       "\n",
       "    .dataframe thead th {\n",
       "        text-align: right;\n",
       "    }\n",
       "</style>\n",
       "<table border=\"1\" class=\"dataframe\">\n",
       "  <thead>\n",
       "    <tr style=\"text-align: right;\">\n",
       "      <th></th>\n",
       "      <th>A</th>\n",
       "      <th>B</th>\n",
       "      <th>C</th>\n",
       "      <th>D</th>\n",
       "      <th>E</th>\n",
       "      <th>A_cumprod</th>\n",
       "      <th>B_cumprod</th>\n",
       "      <th>C_cumprod</th>\n",
       "      <th>D_cumprod</th>\n",
       "      <th>E_cumprod</th>\n",
       "    </tr>\n",
       "    <tr>\n",
       "      <th>DATA</th>\n",
       "      <th></th>\n",
       "      <th></th>\n",
       "      <th></th>\n",
       "      <th></th>\n",
       "      <th></th>\n",
       "      <th></th>\n",
       "      <th></th>\n",
       "      <th></th>\n",
       "      <th></th>\n",
       "      <th></th>\n",
       "    </tr>\n",
       "  </thead>\n",
       "  <tbody>\n",
       "    <tr>\n",
       "      <th>2017-04-05</th>\n",
       "      <td>0.002811</td>\n",
       "      <td>-0.018013</td>\n",
       "      <td>0.032058</td>\n",
       "      <td>0.030823</td>\n",
       "      <td>0.048951</td>\n",
       "      <td>1.002811</td>\n",
       "      <td>0.981987</td>\n",
       "      <td>1.032058</td>\n",
       "      <td>1.030823</td>\n",
       "      <td>1.048951</td>\n",
       "    </tr>\n",
       "    <tr>\n",
       "      <th>2017-04-06</th>\n",
       "      <td>0.037022</td>\n",
       "      <td>0.041341</td>\n",
       "      <td>0.015483</td>\n",
       "      <td>0.048944</td>\n",
       "      <td>-0.030685</td>\n",
       "      <td>1.039938</td>\n",
       "      <td>1.022584</td>\n",
       "      <td>1.048037</td>\n",
       "      <td>1.081275</td>\n",
       "      <td>1.016764</td>\n",
       "    </tr>\n",
       "    <tr>\n",
       "      <th>2017-04-07</th>\n",
       "      <td>-0.010763</td>\n",
       "      <td>-0.047160</td>\n",
       "      <td>0.023805</td>\n",
       "      <td>0.002283</td>\n",
       "      <td>-0.049531</td>\n",
       "      <td>1.028745</td>\n",
       "      <td>0.974359</td>\n",
       "      <td>1.072986</td>\n",
       "      <td>1.083743</td>\n",
       "      <td>0.966403</td>\n",
       "    </tr>\n",
       "    <tr>\n",
       "      <th>2017-04-08</th>\n",
       "      <td>-0.030180</td>\n",
       "      <td>0.035305</td>\n",
       "      <td>-0.028110</td>\n",
       "      <td>0.041066</td>\n",
       "      <td>0.004722</td>\n",
       "      <td>0.997697</td>\n",
       "      <td>1.008758</td>\n",
       "      <td>1.042825</td>\n",
       "      <td>1.128248</td>\n",
       "      <td>0.970966</td>\n",
       "    </tr>\n",
       "    <tr>\n",
       "      <th>2017-04-09</th>\n",
       "      <td>-0.031515</td>\n",
       "      <td>0.024788</td>\n",
       "      <td>-0.046728</td>\n",
       "      <td>-0.004896</td>\n",
       "      <td>0.042614</td>\n",
       "      <td>0.966254</td>\n",
       "      <td>1.033763</td>\n",
       "      <td>0.994096</td>\n",
       "      <td>1.122725</td>\n",
       "      <td>1.012343</td>\n",
       "    </tr>\n",
       "  </tbody>\n",
       "</table>\n",
       "</div>"
      ],
      "text/plain": [
       "                   A         B         C         D         E  A_cumprod  \\\n",
       "DATA                                                                      \n",
       "2017-04-05  0.002811 -0.018013  0.032058  0.030823  0.048951   1.002811   \n",
       "2017-04-06  0.037022  0.041341  0.015483  0.048944 -0.030685   1.039938   \n",
       "2017-04-07 -0.010763 -0.047160  0.023805  0.002283 -0.049531   1.028745   \n",
       "2017-04-08 -0.030180  0.035305 -0.028110  0.041066  0.004722   0.997697   \n",
       "2017-04-09 -0.031515  0.024788 -0.046728 -0.004896  0.042614   0.966254   \n",
       "\n",
       "            B_cumprod  C_cumprod  D_cumprod  E_cumprod  \n",
       "DATA                                                    \n",
       "2017-04-05   0.981987   1.032058   1.030823   1.048951  \n",
       "2017-04-06   1.022584   1.048037   1.081275   1.016764  \n",
       "2017-04-07   0.974359   1.072986   1.083743   0.966403  \n",
       "2017-04-08   1.008758   1.042825   1.128248   0.970966  \n",
       "2017-04-09   1.033763   0.994096   1.122725   1.012343  "
      ]
     },
     "metadata": {},
     "output_type": "display_data"
    },
    {
     "data": {
      "text/html": [
       "<div>\n",
       "<style scoped>\n",
       "    .dataframe tbody tr th:only-of-type {\n",
       "        vertical-align: middle;\n",
       "    }\n",
       "\n",
       "    .dataframe tbody tr th {\n",
       "        vertical-align: top;\n",
       "    }\n",
       "\n",
       "    .dataframe thead th {\n",
       "        text-align: right;\n",
       "    }\n",
       "</style>\n",
       "<table border=\"1\" class=\"dataframe\">\n",
       "  <thead>\n",
       "    <tr style=\"text-align: right;\">\n",
       "      <th></th>\n",
       "      <th>A</th>\n",
       "      <th>B</th>\n",
       "      <th>C</th>\n",
       "      <th>D</th>\n",
       "      <th>E</th>\n",
       "      <th>A_cumprod</th>\n",
       "      <th>B_cumprod</th>\n",
       "      <th>C_cumprod</th>\n",
       "      <th>D_cumprod</th>\n",
       "      <th>E_cumprod</th>\n",
       "      <th>A_valor_diario</th>\n",
       "      <th>B_valor_diario</th>\n",
       "      <th>C_valor_diario</th>\n",
       "      <th>D_valor_diario</th>\n",
       "      <th>E_valor_diario</th>\n",
       "    </tr>\n",
       "    <tr>\n",
       "      <th>DATA</th>\n",
       "      <th></th>\n",
       "      <th></th>\n",
       "      <th></th>\n",
       "      <th></th>\n",
       "      <th></th>\n",
       "      <th></th>\n",
       "      <th></th>\n",
       "      <th></th>\n",
       "      <th></th>\n",
       "      <th></th>\n",
       "      <th></th>\n",
       "      <th></th>\n",
       "      <th></th>\n",
       "      <th></th>\n",
       "      <th></th>\n",
       "    </tr>\n",
       "  </thead>\n",
       "  <tbody>\n",
       "    <tr>\n",
       "      <th>2017-04-05</th>\n",
       "      <td>0.002811</td>\n",
       "      <td>-0.018013</td>\n",
       "      <td>0.032058</td>\n",
       "      <td>0.030823</td>\n",
       "      <td>0.048951</td>\n",
       "      <td>1.002811</td>\n",
       "      <td>0.981987</td>\n",
       "      <td>1.032058</td>\n",
       "      <td>1.030823</td>\n",
       "      <td>1.048951</td>\n",
       "      <td>14.039357</td>\n",
       "      <td>31.423599</td>\n",
       "      <td>12.384701</td>\n",
       "      <td>13.400694</td>\n",
       "      <td>32.517493</td>\n",
       "    </tr>\n",
       "    <tr>\n",
       "      <th>2017-04-06</th>\n",
       "      <td>0.037022</td>\n",
       "      <td>0.041341</td>\n",
       "      <td>0.015483</td>\n",
       "      <td>0.048944</td>\n",
       "      <td>-0.030685</td>\n",
       "      <td>1.039938</td>\n",
       "      <td>1.022584</td>\n",
       "      <td>1.048037</td>\n",
       "      <td>1.081275</td>\n",
       "      <td>1.016764</td>\n",
       "      <td>14.559127</td>\n",
       "      <td>32.722675</td>\n",
       "      <td>12.576448</td>\n",
       "      <td>14.056574</td>\n",
       "      <td>31.519695</td>\n",
       "    </tr>\n",
       "    <tr>\n",
       "      <th>2017-04-07</th>\n",
       "      <td>-0.010763</td>\n",
       "      <td>-0.047160</td>\n",
       "      <td>0.023805</td>\n",
       "      <td>0.002283</td>\n",
       "      <td>-0.049531</td>\n",
       "      <td>1.028745</td>\n",
       "      <td>0.974359</td>\n",
       "      <td>1.072986</td>\n",
       "      <td>1.083743</td>\n",
       "      <td>0.966403</td>\n",
       "      <td>14.402427</td>\n",
       "      <td>31.179484</td>\n",
       "      <td>12.875828</td>\n",
       "      <td>14.088664</td>\n",
       "      <td>29.958482</td>\n",
       "    </tr>\n",
       "    <tr>\n",
       "      <th>2017-04-08</th>\n",
       "      <td>-0.030180</td>\n",
       "      <td>0.035305</td>\n",
       "      <td>-0.028110</td>\n",
       "      <td>0.041066</td>\n",
       "      <td>0.004722</td>\n",
       "      <td>0.997697</td>\n",
       "      <td>1.008758</td>\n",
       "      <td>1.042825</td>\n",
       "      <td>1.128248</td>\n",
       "      <td>0.970966</td>\n",
       "      <td>13.967761</td>\n",
       "      <td>32.280271</td>\n",
       "      <td>12.513894</td>\n",
       "      <td>14.667222</td>\n",
       "      <td>30.099958</td>\n",
       "    </tr>\n",
       "    <tr>\n",
       "      <th>2017-04-09</th>\n",
       "      <td>-0.031515</td>\n",
       "      <td>0.024788</td>\n",
       "      <td>-0.046728</td>\n",
       "      <td>-0.004896</td>\n",
       "      <td>0.042614</td>\n",
       "      <td>0.966254</td>\n",
       "      <td>1.033763</td>\n",
       "      <td>0.994096</td>\n",
       "      <td>1.122725</td>\n",
       "      <td>1.012343</td>\n",
       "      <td>13.527560</td>\n",
       "      <td>33.080424</td>\n",
       "      <td>11.929149</td>\n",
       "      <td>14.595419</td>\n",
       "      <td>31.382635</td>\n",
       "    </tr>\n",
       "  </tbody>\n",
       "</table>\n",
       "</div>"
      ],
      "text/plain": [
       "                   A         B         C         D         E  A_cumprod  \\\n",
       "DATA                                                                      \n",
       "2017-04-05  0.002811 -0.018013  0.032058  0.030823  0.048951   1.002811   \n",
       "2017-04-06  0.037022  0.041341  0.015483  0.048944 -0.030685   1.039938   \n",
       "2017-04-07 -0.010763 -0.047160  0.023805  0.002283 -0.049531   1.028745   \n",
       "2017-04-08 -0.030180  0.035305 -0.028110  0.041066  0.004722   0.997697   \n",
       "2017-04-09 -0.031515  0.024788 -0.046728 -0.004896  0.042614   0.966254   \n",
       "\n",
       "            B_cumprod  C_cumprod  D_cumprod  E_cumprod  A_valor_diario  \\\n",
       "DATA                                                                     \n",
       "2017-04-05   0.981987   1.032058   1.030823   1.048951       14.039357   \n",
       "2017-04-06   1.022584   1.048037   1.081275   1.016764       14.559127   \n",
       "2017-04-07   0.974359   1.072986   1.083743   0.966403       14.402427   \n",
       "2017-04-08   1.008758   1.042825   1.128248   0.970966       13.967761   \n",
       "2017-04-09   1.033763   0.994096   1.122725   1.012343       13.527560   \n",
       "\n",
       "            B_valor_diario  C_valor_diario  D_valor_diario  E_valor_diario  \n",
       "DATA                                                                        \n",
       "2017-04-05       31.423599       12.384701       13.400694       32.517493  \n",
       "2017-04-06       32.722675       12.576448       14.056574       31.519695  \n",
       "2017-04-07       31.179484       12.875828       14.088664       29.958482  \n",
       "2017-04-08       32.280271       12.513894       14.667222       30.099958  \n",
       "2017-04-09       33.080424       11.929149       14.595419       31.382635  "
      ]
     },
     "metadata": {},
     "output_type": "display_data"
    }
   ],
   "source": [
    "# Salvando o nome dos ativos, já que nossa tabela vai crescer.\n",
    "ativos = tabela_df.columns\n",
    "\n",
    "# Calculando o cumprod\n",
    "for ativo in ativos:\n",
    "    cumprod = (tabela_df[ativo] + 1).cumprod()\n",
    "    tabela_df[f'{ativo}_cumprod'] = cumprod\n",
    "display(tabela_df.head())\n",
    "\n",
    "# Fazendo a multiplicação\n",
    "for ativo in ativos:\n",
    "    preco = preco_df.loc[ativo, 'preco_unidade']\n",
    "    valores_diarios = tabela_df[f'{ativo}_cumprod'] * preco\n",
    "    tabela_df[f'{ativo}_valor_diario'] = valores_diarios\n",
    "display(tabela_df.head())\n"
   ]
  },
  {
   "cell_type": "markdown",
   "metadata": {
    "heading_collapsed": true,
    "hidden": true
   },
   "source": [
    "## Limpando o dataframe"
   ]
  },
  {
   "cell_type": "code",
   "execution_count": 24,
   "metadata": {
    "hidden": true
   },
   "outputs": [],
   "source": [
    "tabela_df.drop(columns=[f'{ativo}_cumprod' for ativo in ativos], inplace=True)\n",
    "tabela_df.drop(columns=[f'{ativo}_valor_diario' for ativo in ativos], inplace=True)"
   ]
  },
  {
   "cell_type": "markdown",
   "metadata": {
    "heading_collapsed": true,
    "hidden": true
   },
   "source": [
    "## Jeito 2"
   ]
  },
  {
   "cell_type": "code",
   "execution_count": 25,
   "metadata": {
    "hidden": true
   },
   "outputs": [
    {
     "data": {
      "text/html": [
       "<div>\n",
       "<style scoped>\n",
       "    .dataframe tbody tr th:only-of-type {\n",
       "        vertical-align: middle;\n",
       "    }\n",
       "\n",
       "    .dataframe tbody tr th {\n",
       "        vertical-align: top;\n",
       "    }\n",
       "\n",
       "    .dataframe thead th {\n",
       "        text-align: right;\n",
       "    }\n",
       "</style>\n",
       "<table border=\"1\" class=\"dataframe\">\n",
       "  <thead>\n",
       "    <tr style=\"text-align: right;\">\n",
       "      <th></th>\n",
       "      <th>A</th>\n",
       "      <th>B</th>\n",
       "      <th>C</th>\n",
       "      <th>D</th>\n",
       "      <th>E</th>\n",
       "    </tr>\n",
       "    <tr>\n",
       "      <th>DATA</th>\n",
       "      <th></th>\n",
       "      <th></th>\n",
       "      <th></th>\n",
       "      <th></th>\n",
       "      <th></th>\n",
       "    </tr>\n",
       "  </thead>\n",
       "  <tbody>\n",
       "    <tr>\n",
       "      <th>2017-04-05</th>\n",
       "      <td>14.039357</td>\n",
       "      <td>31.423599</td>\n",
       "      <td>12.384701</td>\n",
       "      <td>13.400694</td>\n",
       "      <td>32.517493</td>\n",
       "    </tr>\n",
       "    <tr>\n",
       "      <th>2017-04-06</th>\n",
       "      <td>14.559127</td>\n",
       "      <td>32.722675</td>\n",
       "      <td>12.576448</td>\n",
       "      <td>14.056574</td>\n",
       "      <td>31.519695</td>\n",
       "    </tr>\n",
       "    <tr>\n",
       "      <th>2017-04-07</th>\n",
       "      <td>14.402427</td>\n",
       "      <td>31.179484</td>\n",
       "      <td>12.875828</td>\n",
       "      <td>14.088664</td>\n",
       "      <td>29.958482</td>\n",
       "    </tr>\n",
       "    <tr>\n",
       "      <th>2017-04-08</th>\n",
       "      <td>13.967761</td>\n",
       "      <td>32.280271</td>\n",
       "      <td>12.513894</td>\n",
       "      <td>14.667222</td>\n",
       "      <td>30.099958</td>\n",
       "    </tr>\n",
       "    <tr>\n",
       "      <th>2017-04-09</th>\n",
       "      <td>13.527560</td>\n",
       "      <td>33.080424</td>\n",
       "      <td>11.929149</td>\n",
       "      <td>14.595419</td>\n",
       "      <td>31.382635</td>\n",
       "    </tr>\n",
       "    <tr>\n",
       "      <th>...</th>\n",
       "      <td>...</td>\n",
       "      <td>...</td>\n",
       "      <td>...</td>\n",
       "      <td>...</td>\n",
       "      <td>...</td>\n",
       "    </tr>\n",
       "    <tr>\n",
       "      <th>2019-12-26</th>\n",
       "      <td>34.291865</td>\n",
       "      <td>8.395594</td>\n",
       "      <td>5.405122</td>\n",
       "      <td>7.434858</td>\n",
       "      <td>23.754771</td>\n",
       "    </tr>\n",
       "    <tr>\n",
       "      <th>2019-12-27</th>\n",
       "      <td>33.435358</td>\n",
       "      <td>8.135087</td>\n",
       "      <td>5.665829</td>\n",
       "      <td>7.717393</td>\n",
       "      <td>24.829573</td>\n",
       "    </tr>\n",
       "    <tr>\n",
       "      <th>2019-12-28</th>\n",
       "      <td>34.722397</td>\n",
       "      <td>8.235942</td>\n",
       "      <td>5.408104</td>\n",
       "      <td>7.679611</td>\n",
       "      <td>25.848309</td>\n",
       "    </tr>\n",
       "    <tr>\n",
       "      <th>2019-12-29</th>\n",
       "      <td>34.402832</td>\n",
       "      <td>7.874941</td>\n",
       "      <td>5.560674</td>\n",
       "      <td>7.304709</td>\n",
       "      <td>26.499358</td>\n",
       "    </tr>\n",
       "    <tr>\n",
       "      <th>2019-12-30</th>\n",
       "      <td>36.024703</td>\n",
       "      <td>8.025782</td>\n",
       "      <td>5.461668</td>\n",
       "      <td>7.435165</td>\n",
       "      <td>26.749200</td>\n",
       "    </tr>\n",
       "  </tbody>\n",
       "</table>\n",
       "<p>1000 rows × 5 columns</p>\n",
       "</div>"
      ],
      "text/plain": [
       "                    A          B          C          D          E\n",
       "DATA                                                             \n",
       "2017-04-05  14.039357  31.423599  12.384701  13.400694  32.517493\n",
       "2017-04-06  14.559127  32.722675  12.576448  14.056574  31.519695\n",
       "2017-04-07  14.402427  31.179484  12.875828  14.088664  29.958482\n",
       "2017-04-08  13.967761  32.280271  12.513894  14.667222  30.099958\n",
       "2017-04-09  13.527560  33.080424  11.929149  14.595419  31.382635\n",
       "...               ...        ...        ...        ...        ...\n",
       "2019-12-26  34.291865   8.395594   5.405122   7.434858  23.754771\n",
       "2019-12-27  33.435358   8.135087   5.665829   7.717393  24.829573\n",
       "2019-12-28  34.722397   8.235942   5.408104   7.679611  25.848309\n",
       "2019-12-29  34.402832   7.874941   5.560674   7.304709  26.499358\n",
       "2019-12-30  36.024703   8.025782   5.461668   7.435165  26.749200\n",
       "\n",
       "[1000 rows x 5 columns]"
      ]
     },
     "execution_count": 25,
     "metadata": {},
     "output_type": "execute_result"
    }
   ],
   "source": [
    "cumprods = (tabela_df + 1).cumprod()\n",
    "acompanhamento = cumprods * preco_df.T.values\n",
    "acompanhamento"
   ]
  },
  {
   "cell_type": "code",
   "execution_count": 26,
   "metadata": {
    "hidden": true
   },
   "outputs": [
    {
     "data": {
      "text/plain": [
       "<matplotlib.axes._subplots.AxesSubplot at 0x27a2b841d90>"
      ]
     },
     "execution_count": 26,
     "metadata": {},
     "output_type": "execute_result"
    },
    {
     "data": {
      "image/png": "[encoded data removed]",
      "text/plain": [
       "<Figure size 432x288 with 1 Axes>"
      ]
     },
     "metadata": {
      "needs_background": "light"
     },
     "output_type": "display_data"
    }
   ],
   "source": [
    "acompanhamento.plot()"
   ]
  },
  {
   "cell_type": "markdown",
   "metadata": {
    "heading_collapsed": true
   },
   "source": [
    "# Pandas: onde a mágica acontece"
   ]
  },
  {
   "cell_type": "code",
   "execution_count": 27,
   "metadata": {
    "hidden": true
   },
   "outputs": [
    {
     "data": {
      "image/png": "[encoded data removed]",
      "text/plain": [
       "<Figure size 432x288 with 1 Axes>"
      ]
     },
     "metadata": {
      "needs_background": "light"
     },
     "output_type": "display_data"
    }
   ],
   "source": [
    "a = acompanhamento.plot()"
   ]
  },
  {
   "cell_type": "code",
   "execution_count": 28,
   "metadata": {
    "hidden": true
   },
   "outputs": [
    {
     "data": {
      "text/plain": [
       "[Text(0, 0.5, 'Preço')]"
      ]
     },
     "execution_count": 28,
     "metadata": {},
     "output_type": "execute_result"
    },
    {
     "data": {
      "image/png": "[encoded data removed]",
      "text/plain": [
       "<Figure size 576x432 with 1 Axes>"
      ]
     },
     "metadata": {
      "needs_background": "light"
     },
     "output_type": "display_data"
    }
   ],
   "source": [
    "acompanhamento.plot(title='Preço - acompanhamento', figsize=(8, 6), grid=True).set(ylabel='Preço')"
   ]
  },
  {
   "cell_type": "code",
   "execution_count": 29,
   "metadata": {
    "hidden": true
   },
   "outputs": [
    {
     "data": {
      "image/png": "[encoded data removed]",
      "text/plain": [
       "<Figure size 576x432 with 1 Axes>"
      ]
     },
     "metadata": {
      "needs_background": "light"
     },
     "output_type": "display_data"
    },
    {
     "data": {
      "text/plain": [
       "<function __main__.plota_ativo(label)>"
      ]
     },
     "execution_count": 29,
     "metadata": {},
     "output_type": "execute_result"
    }
   ],
   "source": [
    "def plota_ativo(label):\n",
    "    m = acompanhamento.max().max()\n",
    "    acompanhamento[label].plot(title='Preço - acompanhamento', figsize=(8, 6), grid=True).set(ylim=(0, m))\n",
    "interact(plota_ativo, label=ativos)"
   ]
  },
  {
   "cell_type": "code",
   "execution_count": 30,
   "metadata": {
    "hidden": true
   },
   "outputs": [
    {
     "data": {
      "text/plain": [
       "['A', 'B', 'C', 'D', 'E']"
      ]
     },
     "execution_count": 30,
     "metadata": {},
     "output_type": "execute_result"
    }
   ],
   "source": [
    "ativos.tolist()"
   ]
  },
  {
   "cell_type": "code",
   "execution_count": 31,
   "metadata": {
    "hidden": true
   },
   "outputs": [],
   "source": [
    "multi = widgets.SelectMultiple(\n",
    "    options=ativos,\n",
    "    value=ativos.tolist(),\n",
    "    description='Ativos',\n",
    ")"
   ]
  },
  {
   "cell_type": "code",
   "execution_count": 32,
   "metadata": {
    "hidden": true
   },
   "outputs": [
    {
     "data": {
      "image/png": "[encoded data removed]",
      "text/plain": [
       "<Figure size 576x432 with 1 Axes>"
      ]
     },
     "metadata": {
      "needs_background": "light"
     },
     "output_type": "display_data"
    },
    {
     "data": {
      "text/plain": [
       "<function __main__.plota_ativo(label)>"
      ]
     },
     "execution_count": 32,
     "metadata": {},
     "output_type": "execute_result"
    }
   ],
   "source": [
    "def plota_ativo(label):\n",
    "    m = acompanhamento.max().max()\n",
    "    acompanhamento[list(label)].plot(title='Preço - acompanhamento', figsize=(8, 6), grid=True).set(ylim=(0, m))\n",
    "\n",
    "interact(plota_ativo, label=multi)"
   ]
  },
  {
   "cell_type": "markdown",
   "metadata": {
    "heading_collapsed": true
   },
   "source": [
    "# Janelamento + Pontos de corte"
   ]
  },
  {
   "cell_type": "code",
   "execution_count": 33,
   "metadata": {
    "hidden": true
   },
   "outputs": [
    {
     "data": {
      "text/html": [
       "<div>\n",
       "<style scoped>\n",
       "    .dataframe tbody tr th:only-of-type {\n",
       "        vertical-align: middle;\n",
       "    }\n",
       "\n",
       "    .dataframe tbody tr th {\n",
       "        vertical-align: top;\n",
       "    }\n",
       "\n",
       "    .dataframe thead th {\n",
       "        text-align: right;\n",
       "    }\n",
       "</style>\n",
       "<table border=\"1\" class=\"dataframe\">\n",
       "  <thead>\n",
       "    <tr style=\"text-align: right;\">\n",
       "      <th></th>\n",
       "      <th>A</th>\n",
       "      <th>B</th>\n",
       "      <th>C</th>\n",
       "      <th>D</th>\n",
       "      <th>E</th>\n",
       "    </tr>\n",
       "    <tr>\n",
       "      <th>DATA</th>\n",
       "      <th></th>\n",
       "      <th></th>\n",
       "      <th></th>\n",
       "      <th></th>\n",
       "      <th></th>\n",
       "    </tr>\n",
       "  </thead>\n",
       "  <tbody>\n",
       "    <tr>\n",
       "      <th>2017-04-05</th>\n",
       "      <td>14.039357</td>\n",
       "      <td>31.423599</td>\n",
       "      <td>12.384701</td>\n",
       "      <td>13.400694</td>\n",
       "      <td>32.517493</td>\n",
       "    </tr>\n",
       "    <tr>\n",
       "      <th>2017-04-06</th>\n",
       "      <td>14.559127</td>\n",
       "      <td>32.722675</td>\n",
       "      <td>12.576448</td>\n",
       "      <td>14.056574</td>\n",
       "      <td>31.519695</td>\n",
       "    </tr>\n",
       "    <tr>\n",
       "      <th>2017-04-07</th>\n",
       "      <td>14.402427</td>\n",
       "      <td>31.179484</td>\n",
       "      <td>12.875828</td>\n",
       "      <td>14.088664</td>\n",
       "      <td>29.958482</td>\n",
       "    </tr>\n",
       "    <tr>\n",
       "      <th>2017-04-08</th>\n",
       "      <td>13.967761</td>\n",
       "      <td>32.280271</td>\n",
       "      <td>12.513894</td>\n",
       "      <td>14.667222</td>\n",
       "      <td>30.099958</td>\n",
       "    </tr>\n",
       "    <tr>\n",
       "      <th>2017-04-09</th>\n",
       "      <td>13.527560</td>\n",
       "      <td>33.080424</td>\n",
       "      <td>11.929149</td>\n",
       "      <td>14.595419</td>\n",
       "      <td>31.382635</td>\n",
       "    </tr>\n",
       "    <tr>\n",
       "      <th>...</th>\n",
       "      <td>...</td>\n",
       "      <td>...</td>\n",
       "      <td>...</td>\n",
       "      <td>...</td>\n",
       "      <td>...</td>\n",
       "    </tr>\n",
       "    <tr>\n",
       "      <th>2019-12-26</th>\n",
       "      <td>34.291865</td>\n",
       "      <td>8.395594</td>\n",
       "      <td>5.405122</td>\n",
       "      <td>7.434858</td>\n",
       "      <td>23.754771</td>\n",
       "    </tr>\n",
       "    <tr>\n",
       "      <th>2019-12-27</th>\n",
       "      <td>33.435358</td>\n",
       "      <td>8.135087</td>\n",
       "      <td>5.665829</td>\n",
       "      <td>7.717393</td>\n",
       "      <td>24.829573</td>\n",
       "    </tr>\n",
       "    <tr>\n",
       "      <th>2019-12-28</th>\n",
       "      <td>34.722397</td>\n",
       "      <td>8.235942</td>\n",
       "      <td>5.408104</td>\n",
       "      <td>7.679611</td>\n",
       "      <td>25.848309</td>\n",
       "    </tr>\n",
       "    <tr>\n",
       "      <th>2019-12-29</th>\n",
       "      <td>34.402832</td>\n",
       "      <td>7.874941</td>\n",
       "      <td>5.560674</td>\n",
       "      <td>7.304709</td>\n",
       "      <td>26.499358</td>\n",
       "    </tr>\n",
       "    <tr>\n",
       "      <th>2019-12-30</th>\n",
       "      <td>36.024703</td>\n",
       "      <td>8.025782</td>\n",
       "      <td>5.461668</td>\n",
       "      <td>7.435165</td>\n",
       "      <td>26.749200</td>\n",
       "    </tr>\n",
       "  </tbody>\n",
       "</table>\n",
       "<p>1000 rows × 5 columns</p>\n",
       "</div>"
      ],
      "text/plain": [
       "                    A          B          C          D          E\n",
       "DATA                                                             \n",
       "2017-04-05  14.039357  31.423599  12.384701  13.400694  32.517493\n",
       "2017-04-06  14.559127  32.722675  12.576448  14.056574  31.519695\n",
       "2017-04-07  14.402427  31.179484  12.875828  14.088664  29.958482\n",
       "2017-04-08  13.967761  32.280271  12.513894  14.667222  30.099958\n",
       "2017-04-09  13.527560  33.080424  11.929149  14.595419  31.382635\n",
       "...               ...        ...        ...        ...        ...\n",
       "2019-12-26  34.291865   8.395594   5.405122   7.434858  23.754771\n",
       "2019-12-27  33.435358   8.135087   5.665829   7.717393  24.829573\n",
       "2019-12-28  34.722397   8.235942   5.408104   7.679611  25.848309\n",
       "2019-12-29  34.402832   7.874941   5.560674   7.304709  26.499358\n",
       "2019-12-30  36.024703   8.025782   5.461668   7.435165  26.749200\n",
       "\n",
       "[1000 rows x 5 columns]"
      ]
     },
     "execution_count": 33,
     "metadata": {},
     "output_type": "execute_result"
    }
   ],
   "source": [
    "acompanhamento"
   ]
  },
  {
   "cell_type": "code",
   "execution_count": 34,
   "metadata": {
    "hidden": true
   },
   "outputs": [
    {
     "data": {
      "text/html": [
       "<div>\n",
       "<style scoped>\n",
       "    .dataframe tbody tr th:only-of-type {\n",
       "        vertical-align: middle;\n",
       "    }\n",
       "\n",
       "    .dataframe tbody tr th {\n",
       "        vertical-align: top;\n",
       "    }\n",
       "\n",
       "    .dataframe thead th {\n",
       "        text-align: right;\n",
       "    }\n",
       "</style>\n",
       "<table border=\"1\" class=\"dataframe\">\n",
       "  <thead>\n",
       "    <tr style=\"text-align: right;\">\n",
       "      <th></th>\n",
       "      <th>A</th>\n",
       "      <th>B</th>\n",
       "      <th>C</th>\n",
       "      <th>D</th>\n",
       "      <th>E</th>\n",
       "    </tr>\n",
       "    <tr>\n",
       "      <th>DATA</th>\n",
       "      <th></th>\n",
       "      <th></th>\n",
       "      <th></th>\n",
       "      <th></th>\n",
       "      <th></th>\n",
       "    </tr>\n",
       "  </thead>\n",
       "  <tbody>\n",
       "    <tr>\n",
       "      <th>2017-04-05</th>\n",
       "      <td>NaN</td>\n",
       "      <td>NaN</td>\n",
       "      <td>NaN</td>\n",
       "      <td>NaN</td>\n",
       "      <td>NaN</td>\n",
       "    </tr>\n",
       "    <tr>\n",
       "      <th>2017-04-06</th>\n",
       "      <td>NaN</td>\n",
       "      <td>NaN</td>\n",
       "      <td>NaN</td>\n",
       "      <td>NaN</td>\n",
       "      <td>NaN</td>\n",
       "    </tr>\n",
       "    <tr>\n",
       "      <th>2017-04-07</th>\n",
       "      <td>NaN</td>\n",
       "      <td>NaN</td>\n",
       "      <td>NaN</td>\n",
       "      <td>NaN</td>\n",
       "      <td>NaN</td>\n",
       "    </tr>\n",
       "    <tr>\n",
       "      <th>2017-04-08</th>\n",
       "      <td>14.242168</td>\n",
       "      <td>31.901507</td>\n",
       "      <td>12.587718</td>\n",
       "      <td>14.053289</td>\n",
       "      <td>31.023907</td>\n",
       "    </tr>\n",
       "    <tr>\n",
       "      <th>2017-04-09</th>\n",
       "      <td>14.114219</td>\n",
       "      <td>32.315713</td>\n",
       "      <td>12.473830</td>\n",
       "      <td>14.351970</td>\n",
       "      <td>30.740192</td>\n",
       "    </tr>\n",
       "    <tr>\n",
       "      <th>...</th>\n",
       "      <td>...</td>\n",
       "      <td>...</td>\n",
       "      <td>...</td>\n",
       "      <td>...</td>\n",
       "      <td>...</td>\n",
       "    </tr>\n",
       "    <tr>\n",
       "      <th>2019-12-26</th>\n",
       "      <td>34.647075</td>\n",
       "      <td>8.054611</td>\n",
       "      <td>5.504914</td>\n",
       "      <td>7.513447</td>\n",
       "      <td>23.120718</td>\n",
       "    </tr>\n",
       "    <tr>\n",
       "      <th>2019-12-27</th>\n",
       "      <td>34.322520</td>\n",
       "      <td>8.124639</td>\n",
       "      <td>5.544129</td>\n",
       "      <td>7.617585</td>\n",
       "      <td>23.654621</td>\n",
       "    </tr>\n",
       "    <tr>\n",
       "      <th>2019-12-28</th>\n",
       "      <td>34.465441</td>\n",
       "      <td>8.209887</td>\n",
       "      <td>5.523050</td>\n",
       "      <td>7.635602</td>\n",
       "      <td>24.359187</td>\n",
       "    </tr>\n",
       "    <tr>\n",
       "      <th>2019-12-29</th>\n",
       "      <td>34.213113</td>\n",
       "      <td>8.160391</td>\n",
       "      <td>5.509932</td>\n",
       "      <td>7.534143</td>\n",
       "      <td>25.233003</td>\n",
       "    </tr>\n",
       "    <tr>\n",
       "      <th>2019-12-30</th>\n",
       "      <td>34.646322</td>\n",
       "      <td>8.067938</td>\n",
       "      <td>5.524069</td>\n",
       "      <td>7.534220</td>\n",
       "      <td>25.981610</td>\n",
       "    </tr>\n",
       "  </tbody>\n",
       "</table>\n",
       "<p>1000 rows × 5 columns</p>\n",
       "</div>"
      ],
      "text/plain": [
       "                    A          B          C          D          E\n",
       "DATA                                                             \n",
       "2017-04-05        NaN        NaN        NaN        NaN        NaN\n",
       "2017-04-06        NaN        NaN        NaN        NaN        NaN\n",
       "2017-04-07        NaN        NaN        NaN        NaN        NaN\n",
       "2017-04-08  14.242168  31.901507  12.587718  14.053289  31.023907\n",
       "2017-04-09  14.114219  32.315713  12.473830  14.351970  30.740192\n",
       "...               ...        ...        ...        ...        ...\n",
       "2019-12-26  34.647075   8.054611   5.504914   7.513447  23.120718\n",
       "2019-12-27  34.322520   8.124639   5.544129   7.617585  23.654621\n",
       "2019-12-28  34.465441   8.209887   5.523050   7.635602  24.359187\n",
       "2019-12-29  34.213113   8.160391   5.509932   7.534143  25.233003\n",
       "2019-12-30  34.646322   8.067938   5.524069   7.534220  25.981610\n",
       "\n",
       "[1000 rows x 5 columns]"
      ]
     },
     "execution_count": 34,
     "metadata": {},
     "output_type": "execute_result"
    }
   ],
   "source": [
    "acompanhamento.rolling(4).mean()"
   ]
  },
  {
   "cell_type": "code",
   "execution_count": 35,
   "metadata": {
    "hidden": true
   },
   "outputs": [],
   "source": [
    "slider = widgets.IntRangeSlider(\n",
    "    value=[0, len(acompanhamento)],\n",
    "    min=0,\n",
    "    max=len(acompanhamento),\n",
    "    step=1,\n",
    "    description='Dias:',\n",
    "    disabled=False,\n",
    "    continuous_update=False,\n",
    "    orientation='horizontal',\n",
    "    readout=True,\n",
    "    readout_format='d',\n",
    ")"
   ]
  },
  {
   "cell_type": "code",
   "execution_count": 36,
   "metadata": {
    "hidden": true
   },
   "outputs": [
    {
     "data": {
      "image/png": "[encoded data removed]",
      "text/plain": [
       "<Figure size 864x576 with 1 Axes>"
      ]
     },
     "metadata": {
      "needs_background": "light"
     },
     "output_type": "display_data"
    },
    {
     "data": {
      "text/plain": [
       "<function __main__.plota_ativo(label, dias)>"
      ]
     },
     "execution_count": 36,
     "metadata": {},
     "output_type": "execute_result"
    }
   ],
   "source": [
    "def plota_ativo(label, dias):\n",
    "    window = acompanhamento[label][dias[0]: dias[1]].rolling(4)\n",
    "    data = {\n",
    "        label: acompanhamento[label][dias[0]: dias[1]],\n",
    "        'corte superior': window.mean() + window.std(),\n",
    "        'corte inferior': window.mean() - window.std()\n",
    "    }\n",
    "    plot_df = pd.DataFrame(data).plot(title='Preço - acompanhamento', figsize=(12, 8), grid=True)\n",
    "    \n",
    "interact(plota_ativo, label=ativos, dias=slider)"
   ]
  },
  {
   "cell_type": "markdown",
   "metadata": {
    "heading_collapsed": true
   },
   "source": [
    "# .groupby"
   ]
  },
  {
   "cell_type": "markdown",
   "metadata": {
    "heading_collapsed": true,
    "hidden": true
   },
   "source": [
    "## Carregar o dataframe de \"pessoas.csv\""
   ]
  },
  {
   "cell_type": "code",
   "execution_count": 37,
   "metadata": {
    "hidden": true
   },
   "outputs": [
    {
     "data": {
      "text/html": [
       "<div>\n",
       "<style scoped>\n",
       "    .dataframe tbody tr th:only-of-type {\n",
       "        vertical-align: middle;\n",
       "    }\n",
       "\n",
       "    .dataframe tbody tr th {\n",
       "        vertical-align: top;\n",
       "    }\n",
       "\n",
       "    .dataframe thead th {\n",
       "        text-align: right;\n",
       "    }\n",
       "</style>\n",
       "<table border=\"1\" class=\"dataframe\">\n",
       "  <thead>\n",
       "    <tr style=\"text-align: right;\">\n",
       "      <th></th>\n",
       "      <th>idade</th>\n",
       "      <th>data_nasc</th>\n",
       "      <th>signo</th>\n",
       "      <th>bairro</th>\n",
       "      <th>cidade</th>\n",
       "      <th>altura</th>\n",
       "      <th>peso</th>\n",
       "      <th>tipo_sanguineo</th>\n",
       "      <th>cor</th>\n",
       "      <th>salario</th>\n",
       "    </tr>\n",
       "  </thead>\n",
       "  <tbody>\n",
       "    <tr>\n",
       "      <th>141</th>\n",
       "      <td>20</td>\n",
       "      <td>24/08/2000</td>\n",
       "      <td>Virgem</td>\n",
       "      <td>Boa Saúde</td>\n",
       "      <td>Novo Hamburgo</td>\n",
       "      <td>1,78</td>\n",
       "      <td>68</td>\n",
       "      <td>A+</td>\n",
       "      <td>vermelho</td>\n",
       "      <td>6565.767966</td>\n",
       "    </tr>\n",
       "    <tr>\n",
       "      <th>83</th>\n",
       "      <td>78</td>\n",
       "      <td>17/09/1942</td>\n",
       "      <td>Virgem</td>\n",
       "      <td>Boa Vista</td>\n",
       "      <td>Novo Hamburgo</td>\n",
       "      <td>1,65</td>\n",
       "      <td>56</td>\n",
       "      <td>A-</td>\n",
       "      <td>laranja</td>\n",
       "      <td>470.213205</td>\n",
       "    </tr>\n",
       "    <tr>\n",
       "      <th>231</th>\n",
       "      <td>60</td>\n",
       "      <td>27/11/1960</td>\n",
       "      <td>Sagitário</td>\n",
       "      <td>Jardim</td>\n",
       "      <td>Sapucaia do Sul</td>\n",
       "      <td>1,76</td>\n",
       "      <td>60</td>\n",
       "      <td>O-</td>\n",
       "      <td>vermelho</td>\n",
       "      <td>292.091427</td>\n",
       "    </tr>\n",
       "    <tr>\n",
       "      <th>55</th>\n",
       "      <td>50</td>\n",
       "      <td>14/02/1970</td>\n",
       "      <td>Aquário</td>\n",
       "      <td>São Sebastião</td>\n",
       "      <td>Porto Alegre</td>\n",
       "      <td>1,64</td>\n",
       "      <td>77</td>\n",
       "      <td>A-</td>\n",
       "      <td>amarelo</td>\n",
       "      <td>6256.640702</td>\n",
       "    </tr>\n",
       "    <tr>\n",
       "      <th>52</th>\n",
       "      <td>71</td>\n",
       "      <td>27/06/1949</td>\n",
       "      <td>Câncer</td>\n",
       "      <td>Harmonia</td>\n",
       "      <td>Canoas</td>\n",
       "      <td>1,74</td>\n",
       "      <td>48</td>\n",
       "      <td>AB+</td>\n",
       "      <td>preto</td>\n",
       "      <td>613.707902</td>\n",
       "    </tr>\n",
       "  </tbody>\n",
       "</table>\n",
       "</div>"
      ],
      "text/plain": [
       "     idade   data_nasc      signo         bairro           cidade altura  \\\n",
       "141     20  24/08/2000     Virgem      Boa Saúde    Novo Hamburgo   1,78   \n",
       "83      78  17/09/1942     Virgem      Boa Vista    Novo Hamburgo   1,65   \n",
       "231     60  27/11/1960  Sagitário         Jardim  Sapucaia do Sul   1,76   \n",
       "55      50  14/02/1970    Aquário  São Sebastião     Porto Alegre   1,64   \n",
       "52      71  27/06/1949     Câncer       Harmonia           Canoas   1,74   \n",
       "\n",
       "     peso tipo_sanguineo       cor      salario  \n",
       "141    68             A+  vermelho  6565.767966  \n",
       "83     56             A-   laranja   470.213205  \n",
       "231    60             O-  vermelho   292.091427  \n",
       "55     77             A-   amarelo  6256.640702  \n",
       "52     48            AB+     preto   613.707902  "
      ]
     },
     "execution_count": 37,
     "metadata": {},
     "output_type": "execute_result"
    }
   ],
   "source": [
    "pdf = pd.read_csv('pessoas.csv')\n",
    "pdf.sample(5)"
   ]
  },
  {
   "cell_type": "markdown",
   "metadata": {
    "heading_collapsed": true,
    "hidden": true
   },
   "source": [
    "## Convertendo data_nasc para datetime"
   ]
  },
  {
   "cell_type": "code",
   "execution_count": 39,
   "metadata": {
    "hidden": true
   },
   "outputs": [
    {
     "data": {
      "text/plain": [
       "DatetimeIndex(['1940-06-12', '1977-09-10', '1977-05-24', '1946-08-24',\n",
       "               '1978-02-13', '1989-08-23', '1982-01-15', '1953-09-16',\n",
       "               '1977-08-19', '1978-09-10',\n",
       "               ...\n",
       "               '1998-10-08', '1976-10-05', '1989-12-22', '1976-11-11',\n",
       "               '1973-03-08', '1990-08-21', '1996-04-05', '2002-10-08',\n",
       "               '1956-04-19', '1966-04-17'],\n",
       "              dtype='datetime64[ns]', length=300, freq=None)"
      ]
     },
     "execution_count": 39,
     "metadata": {},
     "output_type": "execute_result"
    }
   ],
   "source": [
    "convertido = pd.to_datetime(pdf['data_nasc'].tolist(), infer_datetime_format=True)\n",
    "convertido"
   ]
  },
  {
   "cell_type": "code",
   "execution_count": 40,
   "metadata": {
    "hidden": true
   },
   "outputs": [],
   "source": [
    "pdf['data_nasc'] = convertido"
   ]
  },
  {
   "cell_type": "markdown",
   "metadata": {
    "heading_collapsed": true,
    "hidden": true
   },
   "source": [
    "## O objeto agrupado"
   ]
  },
  {
   "cell_type": "code",
   "execution_count": 41,
   "metadata": {
    "hidden": true
   },
   "outputs": [],
   "source": [
    "agrupado = pdf.groupby('signo')"
   ]
  },
  {
   "cell_type": "code",
   "execution_count": 42,
   "metadata": {
    "hidden": true
   },
   "outputs": [
    {
     "data": {
      "text/html": [
       "<div>\n",
       "<style scoped>\n",
       "    .dataframe tbody tr th:only-of-type {\n",
       "        vertical-align: middle;\n",
       "    }\n",
       "\n",
       "    .dataframe tbody tr th {\n",
       "        vertical-align: top;\n",
       "    }\n",
       "\n",
       "    .dataframe thead th {\n",
       "        text-align: right;\n",
       "    }\n",
       "</style>\n",
       "<table border=\"1\" class=\"dataframe\">\n",
       "  <thead>\n",
       "    <tr style=\"text-align: right;\">\n",
       "      <th></th>\n",
       "      <th>idade</th>\n",
       "      <th>data_nasc</th>\n",
       "      <th>signo</th>\n",
       "      <th>bairro</th>\n",
       "      <th>cidade</th>\n",
       "      <th>altura</th>\n",
       "      <th>peso</th>\n",
       "      <th>tipo_sanguineo</th>\n",
       "      <th>cor</th>\n",
       "      <th>salario</th>\n",
       "    </tr>\n",
       "  </thead>\n",
       "  <tbody>\n",
       "    <tr>\n",
       "      <th>4</th>\n",
       "      <td>42</td>\n",
       "      <td>1978-02-13</td>\n",
       "      <td>Aquário</td>\n",
       "      <td>Quinta</td>\n",
       "      <td>Rio Grande</td>\n",
       "      <td>1,60</td>\n",
       "      <td>110</td>\n",
       "      <td>B-</td>\n",
       "      <td>amarelo</td>\n",
       "      <td>3803.589907</td>\n",
       "    </tr>\n",
       "    <tr>\n",
       "      <th>38</th>\n",
       "      <td>56</td>\n",
       "      <td>1964-02-14</td>\n",
       "      <td>Aquário</td>\n",
       "      <td>Kayser</td>\n",
       "      <td>Caxias do Sul</td>\n",
       "      <td>1,65</td>\n",
       "      <td>95</td>\n",
       "      <td>A+</td>\n",
       "      <td>amarelo</td>\n",
       "      <td>3372.522150</td>\n",
       "    </tr>\n",
       "    <tr>\n",
       "      <th>44</th>\n",
       "      <td>48</td>\n",
       "      <td>1972-08-02</td>\n",
       "      <td>Aquário</td>\n",
       "      <td>Azenha</td>\n",
       "      <td>Porto Alegre</td>\n",
       "      <td>1,87</td>\n",
       "      <td>65</td>\n",
       "      <td>B+</td>\n",
       "      <td>roxo</td>\n",
       "      <td>6562.458787</td>\n",
       "    </tr>\n",
       "    <tr>\n",
       "      <th>53</th>\n",
       "      <td>54</td>\n",
       "      <td>1966-04-02</td>\n",
       "      <td>Aquário</td>\n",
       "      <td>Cassino</td>\n",
       "      <td>Rio Grande</td>\n",
       "      <td>1,66</td>\n",
       "      <td>51</td>\n",
       "      <td>B-</td>\n",
       "      <td>vermelho</td>\n",
       "      <td>6160.701251</td>\n",
       "    </tr>\n",
       "    <tr>\n",
       "      <th>55</th>\n",
       "      <td>50</td>\n",
       "      <td>1970-02-14</td>\n",
       "      <td>Aquário</td>\n",
       "      <td>São Sebastião</td>\n",
       "      <td>Porto Alegre</td>\n",
       "      <td>1,64</td>\n",
       "      <td>77</td>\n",
       "      <td>A-</td>\n",
       "      <td>amarelo</td>\n",
       "      <td>6256.640702</td>\n",
       "    </tr>\n",
       "    <tr>\n",
       "      <th>66</th>\n",
       "      <td>40</td>\n",
       "      <td>1980-02-02</td>\n",
       "      <td>Aquário</td>\n",
       "      <td>Centro</td>\n",
       "      <td>Pinhal</td>\n",
       "      <td>1,76</td>\n",
       "      <td>71</td>\n",
       "      <td>AB-</td>\n",
       "      <td>vermelho</td>\n",
       "      <td>6057.216990</td>\n",
       "    </tr>\n",
       "    <tr>\n",
       "      <th>71</th>\n",
       "      <td>72</td>\n",
       "      <td>1948-02-19</td>\n",
       "      <td>Aquário</td>\n",
       "      <td>Boa Vista</td>\n",
       "      <td>Porto Alegre</td>\n",
       "      <td>1,68</td>\n",
       "      <td>104</td>\n",
       "      <td>AB+</td>\n",
       "      <td>azul</td>\n",
       "      <td>6706.262082</td>\n",
       "    </tr>\n",
       "    <tr>\n",
       "      <th>79</th>\n",
       "      <td>31</td>\n",
       "      <td>1989-01-23</td>\n",
       "      <td>Aquário</td>\n",
       "      <td>Sete</td>\n",
       "      <td>Sapucaia do Sul</td>\n",
       "      <td>1,73</td>\n",
       "      <td>86</td>\n",
       "      <td>B-</td>\n",
       "      <td>amarelo</td>\n",
       "      <td>2983.147423</td>\n",
       "    </tr>\n",
       "    <tr>\n",
       "      <th>118</th>\n",
       "      <td>54</td>\n",
       "      <td>1966-01-27</td>\n",
       "      <td>Aquário</td>\n",
       "      <td>Planaltina</td>\n",
       "      <td>Passo Fundo</td>\n",
       "      <td>1,69</td>\n",
       "      <td>84</td>\n",
       "      <td>O-</td>\n",
       "      <td>verde</td>\n",
       "      <td>3288.356988</td>\n",
       "    </tr>\n",
       "    <tr>\n",
       "      <th>124</th>\n",
       "      <td>60</td>\n",
       "      <td>1960-11-02</td>\n",
       "      <td>Aquário</td>\n",
       "      <td>Scharlau</td>\n",
       "      <td>São Leopoldo</td>\n",
       "      <td>1,80</td>\n",
       "      <td>69</td>\n",
       "      <td>B-</td>\n",
       "      <td>vermelho</td>\n",
       "      <td>5134.843116</td>\n",
       "    </tr>\n",
       "    <tr>\n",
       "      <th>128</th>\n",
       "      <td>39</td>\n",
       "      <td>1981-02-02</td>\n",
       "      <td>Aquário</td>\n",
       "      <td>Bom Jesus</td>\n",
       "      <td>Porto Alegre</td>\n",
       "      <td>1,61</td>\n",
       "      <td>85</td>\n",
       "      <td>A-</td>\n",
       "      <td>amarelo</td>\n",
       "      <td>2334.246685</td>\n",
       "    </tr>\n",
       "    <tr>\n",
       "      <th>136</th>\n",
       "      <td>48</td>\n",
       "      <td>1972-01-02</td>\n",
       "      <td>Aquário</td>\n",
       "      <td>Schettert</td>\n",
       "      <td>Cruz Alta</td>\n",
       "      <td>1,80</td>\n",
       "      <td>82</td>\n",
       "      <td>AB+</td>\n",
       "      <td>vermelho</td>\n",
       "      <td>2737.197818</td>\n",
       "    </tr>\n",
       "    <tr>\n",
       "      <th>216</th>\n",
       "      <td>43</td>\n",
       "      <td>1977-02-15</td>\n",
       "      <td>Aquário</td>\n",
       "      <td>Santo Onofre</td>\n",
       "      <td>Viamão</td>\n",
       "      <td>1,93</td>\n",
       "      <td>68</td>\n",
       "      <td>AB+</td>\n",
       "      <td>verde</td>\n",
       "      <td>7134.824124</td>\n",
       "    </tr>\n",
       "    <tr>\n",
       "      <th>220</th>\n",
       "      <td>44</td>\n",
       "      <td>1976-01-24</td>\n",
       "      <td>Aquário</td>\n",
       "      <td>Esplanada</td>\n",
       "      <td>Caxias do Sul</td>\n",
       "      <td>1,72</td>\n",
       "      <td>75</td>\n",
       "      <td>B+</td>\n",
       "      <td>laranja</td>\n",
       "      <td>551.049650</td>\n",
       "    </tr>\n",
       "    <tr>\n",
       "      <th>225</th>\n",
       "      <td>73</td>\n",
       "      <td>1947-08-02</td>\n",
       "      <td>Aquário</td>\n",
       "      <td>Protásio Alves</td>\n",
       "      <td>Porto Alegre</td>\n",
       "      <td>1,64</td>\n",
       "      <td>75</td>\n",
       "      <td>AB-</td>\n",
       "      <td>vermelho</td>\n",
       "      <td>6024.635620</td>\n",
       "    </tr>\n",
       "    <tr>\n",
       "      <th>238</th>\n",
       "      <td>33</td>\n",
       "      <td>1987-12-02</td>\n",
       "      <td>Aquário</td>\n",
       "      <td>Vila Mattos</td>\n",
       "      <td>Passo Fundo</td>\n",
       "      <td>1,55</td>\n",
       "      <td>79</td>\n",
       "      <td>O+</td>\n",
       "      <td>azul</td>\n",
       "      <td>1189.867735</td>\n",
       "    </tr>\n",
       "    <tr>\n",
       "      <th>240</th>\n",
       "      <td>30</td>\n",
       "      <td>1990-08-02</td>\n",
       "      <td>Aquário</td>\n",
       "      <td>Igara</td>\n",
       "      <td>Canoas</td>\n",
       "      <td>1,55</td>\n",
       "      <td>76</td>\n",
       "      <td>A-</td>\n",
       "      <td>roxo</td>\n",
       "      <td>829.374564</td>\n",
       "    </tr>\n",
       "    <tr>\n",
       "      <th>244</th>\n",
       "      <td>30</td>\n",
       "      <td>1990-04-02</td>\n",
       "      <td>Aquário</td>\n",
       "      <td>Parque Ipiranga</td>\n",
       "      <td>Gravataí</td>\n",
       "      <td>1,51</td>\n",
       "      <td>85</td>\n",
       "      <td>AB+</td>\n",
       "      <td>verde</td>\n",
       "      <td>2356.278358</td>\n",
       "    </tr>\n",
       "    <tr>\n",
       "      <th>246</th>\n",
       "      <td>74</td>\n",
       "      <td>1946-02-13</td>\n",
       "      <td>Aquário</td>\n",
       "      <td>Cruzeiro</td>\n",
       "      <td>Caxias do Sul</td>\n",
       "      <td>1,71</td>\n",
       "      <td>85</td>\n",
       "      <td>AB+</td>\n",
       "      <td>preto</td>\n",
       "      <td>6570.372225</td>\n",
       "    </tr>\n",
       "    <tr>\n",
       "      <th>248</th>\n",
       "      <td>35</td>\n",
       "      <td>1985-02-17</td>\n",
       "      <td>Aquário</td>\n",
       "      <td>Aberta dos Morros</td>\n",
       "      <td>Porto Alegre</td>\n",
       "      <td>1,75</td>\n",
       "      <td>78</td>\n",
       "      <td>A+</td>\n",
       "      <td>vermelho</td>\n",
       "      <td>2973.202602</td>\n",
       "    </tr>\n",
       "    <tr>\n",
       "      <th>271</th>\n",
       "      <td>24</td>\n",
       "      <td>1996-01-24</td>\n",
       "      <td>Aquário</td>\n",
       "      <td>Camobi</td>\n",
       "      <td>Santa Maria</td>\n",
       "      <td>1,99</td>\n",
       "      <td>58</td>\n",
       "      <td>AB+</td>\n",
       "      <td>amarelo</td>\n",
       "      <td>2797.946767</td>\n",
       "    </tr>\n",
       "    <tr>\n",
       "      <th>281</th>\n",
       "      <td>75</td>\n",
       "      <td>1945-02-14</td>\n",
       "      <td>Aquário</td>\n",
       "      <td>Serrano</td>\n",
       "      <td>Caxias do Sul</td>\n",
       "      <td>1,91</td>\n",
       "      <td>56</td>\n",
       "      <td>B-</td>\n",
       "      <td>preto</td>\n",
       "      <td>5379.200243</td>\n",
       "    </tr>\n",
       "  </tbody>\n",
       "</table>\n",
       "</div>"
      ],
      "text/plain": [
       "     idade  data_nasc    signo             bairro           cidade altura  \\\n",
       "4       42 1978-02-13  Aquário             Quinta       Rio Grande   1,60   \n",
       "38      56 1964-02-14  Aquário             Kayser    Caxias do Sul   1,65   \n",
       "44      48 1972-08-02  Aquário             Azenha     Porto Alegre   1,87   \n",
       "53      54 1966-04-02  Aquário            Cassino       Rio Grande   1,66   \n",
       "55      50 1970-02-14  Aquário      São Sebastião     Porto Alegre   1,64   \n",
       "66      40 1980-02-02  Aquário             Centro           Pinhal   1,76   \n",
       "71      72 1948-02-19  Aquário          Boa Vista     Porto Alegre   1,68   \n",
       "79      31 1989-01-23  Aquário               Sete  Sapucaia do Sul   1,73   \n",
       "118     54 1966-01-27  Aquário         Planaltina      Passo Fundo   1,69   \n",
       "124     60 1960-11-02  Aquário           Scharlau     São Leopoldo   1,80   \n",
       "128     39 1981-02-02  Aquário          Bom Jesus     Porto Alegre   1,61   \n",
       "136     48 1972-01-02  Aquário          Schettert        Cruz Alta   1,80   \n",
       "216     43 1977-02-15  Aquário       Santo Onofre           Viamão   1,93   \n",
       "220     44 1976-01-24  Aquário          Esplanada    Caxias do Sul   1,72   \n",
       "225     73 1947-08-02  Aquário     Protásio Alves     Porto Alegre   1,64   \n",
       "238     33 1987-12-02  Aquário        Vila Mattos      Passo Fundo   1,55   \n",
       "240     30 1990-08-02  Aquário              Igara           Canoas   1,55   \n",
       "244     30 1990-04-02  Aquário    Parque Ipiranga         Gravataí   1,51   \n",
       "246     74 1946-02-13  Aquário           Cruzeiro    Caxias do Sul   1,71   \n",
       "248     35 1985-02-17  Aquário  Aberta dos Morros     Porto Alegre   1,75   \n",
       "271     24 1996-01-24  Aquário             Camobi      Santa Maria   1,99   \n",
       "281     75 1945-02-14  Aquário            Serrano    Caxias do Sul   1,91   \n",
       "\n",
       "     peso tipo_sanguineo       cor      salario  \n",
       "4     110             B-   amarelo  3803.589907  \n",
       "38     95             A+   amarelo  3372.522150  \n",
       "44     65             B+      roxo  6562.458787  \n",
       "53     51             B-  vermelho  6160.701251  \n",
       "55     77             A-   amarelo  6256.640702  \n",
       "66     71            AB-  vermelho  6057.216990  \n",
       "71    104            AB+      azul  6706.262082  \n",
       "79     86             B-   amarelo  2983.147423  \n",
       "118    84             O-     verde  3288.356988  \n",
       "124    69             B-  vermelho  5134.843116  \n",
       "128    85             A-   amarelo  2334.246685  \n",
       "136    82            AB+  vermelho  2737.197818  \n",
       "216    68            AB+     verde  7134.824124  \n",
       "220    75             B+   laranja   551.049650  \n",
       "225    75            AB-  vermelho  6024.635620  \n",
       "238    79             O+      azul  1189.867735  \n",
       "240    76             A-      roxo   829.374564  \n",
       "244    85            AB+     verde  2356.278358  \n",
       "246    85            AB+     preto  6570.372225  \n",
       "248    78             A+  vermelho  2973.202602  \n",
       "271    58            AB+   amarelo  2797.946767  \n",
       "281    56             B-     preto  5379.200243  "
      ]
     },
     "execution_count": 42,
     "metadata": {},
     "output_type": "execute_result"
    }
   ],
   "source": [
    "agrupado.get_group('Aquário')"
   ]
  },
  {
   "cell_type": "code",
   "execution_count": 43,
   "metadata": {
    "hidden": true
   },
   "outputs": [
    {
     "data": {
      "text/html": [
       "<div>\n",
       "<style scoped>\n",
       "    .dataframe tbody tr th:only-of-type {\n",
       "        vertical-align: middle;\n",
       "    }\n",
       "\n",
       "    .dataframe tbody tr th {\n",
       "        vertical-align: top;\n",
       "    }\n",
       "\n",
       "    .dataframe thead th {\n",
       "        text-align: right;\n",
       "    }\n",
       "</style>\n",
       "<table border=\"1\" class=\"dataframe\">\n",
       "  <thead>\n",
       "    <tr style=\"text-align: right;\">\n",
       "      <th></th>\n",
       "      <th>idade</th>\n",
       "      <th>data_nasc</th>\n",
       "      <th>signo</th>\n",
       "      <th>bairro</th>\n",
       "      <th>cidade</th>\n",
       "      <th>altura</th>\n",
       "      <th>peso</th>\n",
       "      <th>tipo_sanguineo</th>\n",
       "      <th>cor</th>\n",
       "      <th>salario</th>\n",
       "    </tr>\n",
       "  </thead>\n",
       "  <tbody>\n",
       "    <tr>\n",
       "      <th>0</th>\n",
       "      <td>80</td>\n",
       "      <td>1940-06-12</td>\n",
       "      <td>Sagitário</td>\n",
       "      <td>Passo da Areia</td>\n",
       "      <td>Porto Alegre</td>\n",
       "      <td>1,78</td>\n",
       "      <td>59</td>\n",
       "      <td>O+</td>\n",
       "      <td>verde</td>\n",
       "      <td>4575.597484</td>\n",
       "    </tr>\n",
       "    <tr>\n",
       "      <th>11</th>\n",
       "      <td>19</td>\n",
       "      <td>2001-11-27</td>\n",
       "      <td>Sagitário</td>\n",
       "      <td>Belvedere</td>\n",
       "      <td>Santa Cruz do Sul</td>\n",
       "      <td>1,64</td>\n",
       "      <td>79</td>\n",
       "      <td>AB-</td>\n",
       "      <td>verde</td>\n",
       "      <td>2165.483886</td>\n",
       "    </tr>\n",
       "    <tr>\n",
       "      <th>15</th>\n",
       "      <td>70</td>\n",
       "      <td>1950-03-12</td>\n",
       "      <td>Sagitário</td>\n",
       "      <td>União das Vilas</td>\n",
       "      <td>Uruguaiana</td>\n",
       "      <td>2,00</td>\n",
       "      <td>97</td>\n",
       "      <td>AB-</td>\n",
       "      <td>vermelho</td>\n",
       "      <td>5905.051627</td>\n",
       "    </tr>\n",
       "    <tr>\n",
       "      <th>29</th>\n",
       "      <td>46</td>\n",
       "      <td>1974-06-12</td>\n",
       "      <td>Sagitário</td>\n",
       "      <td>Guajuviras</td>\n",
       "      <td>Canoas</td>\n",
       "      <td>1,81</td>\n",
       "      <td>61</td>\n",
       "      <td>AB+</td>\n",
       "      <td>azul</td>\n",
       "      <td>3084.671946</td>\n",
       "    </tr>\n",
       "    <tr>\n",
       "      <th>39</th>\n",
       "      <td>55</td>\n",
       "      <td>1965-12-12</td>\n",
       "      <td>Sagitário</td>\n",
       "      <td>Sarandi</td>\n",
       "      <td>Porto Alegre</td>\n",
       "      <td>1,65</td>\n",
       "      <td>56</td>\n",
       "      <td>AB-</td>\n",
       "      <td>preto</td>\n",
       "      <td>4115.111976</td>\n",
       "    </tr>\n",
       "    <tr>\n",
       "      <th>46</th>\n",
       "      <td>31</td>\n",
       "      <td>1989-05-12</td>\n",
       "      <td>Sagitário</td>\n",
       "      <td>Centro</td>\n",
       "      <td>Pouso Novo</td>\n",
       "      <td>1,72</td>\n",
       "      <td>91</td>\n",
       "      <td>A-</td>\n",
       "      <td>verde</td>\n",
       "      <td>6447.873347</td>\n",
       "    </tr>\n",
       "    <tr>\n",
       "      <th>63</th>\n",
       "      <td>33</td>\n",
       "      <td>1987-11-25</td>\n",
       "      <td>Sagitário</td>\n",
       "      <td>Estalagem</td>\n",
       "      <td>Viamão</td>\n",
       "      <td>1,80</td>\n",
       "      <td>73</td>\n",
       "      <td>O-</td>\n",
       "      <td>preto</td>\n",
       "      <td>2848.020998</td>\n",
       "    </tr>\n",
       "    <tr>\n",
       "      <th>69</th>\n",
       "      <td>26</td>\n",
       "      <td>1994-12-14</td>\n",
       "      <td>Sagitário</td>\n",
       "      <td>Mário Quintana</td>\n",
       "      <td>Porto Alegre</td>\n",
       "      <td>1,75</td>\n",
       "      <td>45</td>\n",
       "      <td>O+</td>\n",
       "      <td>vermelho</td>\n",
       "      <td>4781.284073</td>\n",
       "    </tr>\n",
       "    <tr>\n",
       "      <th>78</th>\n",
       "      <td>77</td>\n",
       "      <td>1943-11-22</td>\n",
       "      <td>Sagitário</td>\n",
       "      <td>Jardim Krahe</td>\n",
       "      <td>Viamão</td>\n",
       "      <td>1,64</td>\n",
       "      <td>74</td>\n",
       "      <td>B-</td>\n",
       "      <td>azul</td>\n",
       "      <td>5519.091206</td>\n",
       "    </tr>\n",
       "    <tr>\n",
       "      <th>84</th>\n",
       "      <td>51</td>\n",
       "      <td>1969-02-12</td>\n",
       "      <td>Sagitário</td>\n",
       "      <td>Nossa Senhora das Graças</td>\n",
       "      <td>Caxias do Sul</td>\n",
       "      <td>1,66</td>\n",
       "      <td>83</td>\n",
       "      <td>B+</td>\n",
       "      <td>azul</td>\n",
       "      <td>2295.660611</td>\n",
       "    </tr>\n",
       "    <tr>\n",
       "      <th>91</th>\n",
       "      <td>61</td>\n",
       "      <td>1959-12-15</td>\n",
       "      <td>Sagitário</td>\n",
       "      <td>Partenon</td>\n",
       "      <td>Porto Alegre</td>\n",
       "      <td>1,88</td>\n",
       "      <td>68</td>\n",
       "      <td>AB-</td>\n",
       "      <td>preto</td>\n",
       "      <td>4978.908333</td>\n",
       "    </tr>\n",
       "    <tr>\n",
       "      <th>116</th>\n",
       "      <td>51</td>\n",
       "      <td>1969-03-12</td>\n",
       "      <td>Sagitário</td>\n",
       "      <td>Praia de Belas</td>\n",
       "      <td>Porto Alegre</td>\n",
       "      <td>1,54</td>\n",
       "      <td>81</td>\n",
       "      <td>A+</td>\n",
       "      <td>amarelo</td>\n",
       "      <td>74.298936</td>\n",
       "    </tr>\n",
       "    <tr>\n",
       "      <th>121</th>\n",
       "      <td>75</td>\n",
       "      <td>1945-11-23</td>\n",
       "      <td>Sagitário</td>\n",
       "      <td>Carvalho</td>\n",
       "      <td>Cachoeira do Sul</td>\n",
       "      <td>1,96</td>\n",
       "      <td>110</td>\n",
       "      <td>O+</td>\n",
       "      <td>vermelho</td>\n",
       "      <td>4281.471828</td>\n",
       "    </tr>\n",
       "    <tr>\n",
       "      <th>127</th>\n",
       "      <td>24</td>\n",
       "      <td>1996-12-18</td>\n",
       "      <td>Sagitário</td>\n",
       "      <td>Centro</td>\n",
       "      <td>Marcorama</td>\n",
       "      <td>1,76</td>\n",
       "      <td>85</td>\n",
       "      <td>A+</td>\n",
       "      <td>amarelo</td>\n",
       "      <td>5003.663782</td>\n",
       "    </tr>\n",
       "    <tr>\n",
       "      <th>143</th>\n",
       "      <td>54</td>\n",
       "      <td>1966-12-14</td>\n",
       "      <td>Sagitário</td>\n",
       "      <td>Passo das Pedras</td>\n",
       "      <td>Porto Alegre</td>\n",
       "      <td>1,82</td>\n",
       "      <td>60</td>\n",
       "      <td>B+</td>\n",
       "      <td>roxo</td>\n",
       "      <td>287.962314</td>\n",
       "    </tr>\n",
       "    <tr>\n",
       "      <th>147</th>\n",
       "      <td>55</td>\n",
       "      <td>1965-11-12</td>\n",
       "      <td>Sagitário</td>\n",
       "      <td>Arroio Grande</td>\n",
       "      <td>Santa Cruz do Sul</td>\n",
       "      <td>1,64</td>\n",
       "      <td>89</td>\n",
       "      <td>B-</td>\n",
       "      <td>azul</td>\n",
       "      <td>4196.258576</td>\n",
       "    </tr>\n",
       "    <tr>\n",
       "      <th>159</th>\n",
       "      <td>38</td>\n",
       "      <td>1982-02-12</td>\n",
       "      <td>Sagitário</td>\n",
       "      <td>Progresso</td>\n",
       "      <td>Alegrete</td>\n",
       "      <td>1,64</td>\n",
       "      <td>77</td>\n",
       "      <td>O+</td>\n",
       "      <td>vermelho</td>\n",
       "      <td>6581.686889</td>\n",
       "    </tr>\n",
       "    <tr>\n",
       "      <th>161</th>\n",
       "      <td>72</td>\n",
       "      <td>1948-03-12</td>\n",
       "      <td>Sagitário</td>\n",
       "      <td>São João</td>\n",
       "      <td>Porto Alegre</td>\n",
       "      <td>1,76</td>\n",
       "      <td>60</td>\n",
       "      <td>A-</td>\n",
       "      <td>verde</td>\n",
       "      <td>6492.511315</td>\n",
       "    </tr>\n",
       "    <tr>\n",
       "      <th>164</th>\n",
       "      <td>41</td>\n",
       "      <td>1979-11-26</td>\n",
       "      <td>Sagitário</td>\n",
       "      <td>Centro</td>\n",
       "      <td>Santana do Livramento</td>\n",
       "      <td>1,68</td>\n",
       "      <td>75</td>\n",
       "      <td>AB+</td>\n",
       "      <td>verde</td>\n",
       "      <td>2755.695684</td>\n",
       "    </tr>\n",
       "    <tr>\n",
       "      <th>188</th>\n",
       "      <td>48</td>\n",
       "      <td>1972-08-12</td>\n",
       "      <td>Sagitário</td>\n",
       "      <td>Jardim Universitário</td>\n",
       "      <td>Viamão</td>\n",
       "      <td>1,60</td>\n",
       "      <td>102</td>\n",
       "      <td>B+</td>\n",
       "      <td>vermelho</td>\n",
       "      <td>3814.228288</td>\n",
       "    </tr>\n",
       "    <tr>\n",
       "      <th>191</th>\n",
       "      <td>53</td>\n",
       "      <td>1967-11-27</td>\n",
       "      <td>Sagitário</td>\n",
       "      <td>Tabajara Brites</td>\n",
       "      <td>Uruguaiana</td>\n",
       "      <td>1,61</td>\n",
       "      <td>90</td>\n",
       "      <td>B-</td>\n",
       "      <td>verde</td>\n",
       "      <td>5041.999810</td>\n",
       "    </tr>\n",
       "    <tr>\n",
       "      <th>195</th>\n",
       "      <td>65</td>\n",
       "      <td>1955-01-12</td>\n",
       "      <td>Sagitário</td>\n",
       "      <td>Petrópolis</td>\n",
       "      <td>Novo Hamburgo</td>\n",
       "      <td>1,63</td>\n",
       "      <td>79</td>\n",
       "      <td>O+</td>\n",
       "      <td>vermelho</td>\n",
       "      <td>6980.080813</td>\n",
       "    </tr>\n",
       "    <tr>\n",
       "      <th>196</th>\n",
       "      <td>36</td>\n",
       "      <td>1984-05-12</td>\n",
       "      <td>Sagitário</td>\n",
       "      <td>Arroio da Manteiga</td>\n",
       "      <td>São Leopoldo</td>\n",
       "      <td>1,54</td>\n",
       "      <td>62</td>\n",
       "      <td>A-</td>\n",
       "      <td>vermelho</td>\n",
       "      <td>2135.319344</td>\n",
       "    </tr>\n",
       "    <tr>\n",
       "      <th>198</th>\n",
       "      <td>68</td>\n",
       "      <td>1952-11-22</td>\n",
       "      <td>Sagitário</td>\n",
       "      <td>Niterói</td>\n",
       "      <td>Canoas</td>\n",
       "      <td>1,84</td>\n",
       "      <td>75</td>\n",
       "      <td>B+</td>\n",
       "      <td>preto</td>\n",
       "      <td>1416.594081</td>\n",
       "    </tr>\n",
       "    <tr>\n",
       "      <th>218</th>\n",
       "      <td>34</td>\n",
       "      <td>1986-11-23</td>\n",
       "      <td>Sagitário</td>\n",
       "      <td>Aliança</td>\n",
       "      <td>Santo Ângelo</td>\n",
       "      <td>1,92</td>\n",
       "      <td>104</td>\n",
       "      <td>B+</td>\n",
       "      <td>laranja</td>\n",
       "      <td>3738.766098</td>\n",
       "    </tr>\n",
       "    <tr>\n",
       "      <th>222</th>\n",
       "      <td>53</td>\n",
       "      <td>1967-12-21</td>\n",
       "      <td>Sagitário</td>\n",
       "      <td>Vargas</td>\n",
       "      <td>Sapucaia do Sul</td>\n",
       "      <td>1,66</td>\n",
       "      <td>102</td>\n",
       "      <td>O+</td>\n",
       "      <td>azul</td>\n",
       "      <td>837.549018</td>\n",
       "    </tr>\n",
       "    <tr>\n",
       "      <th>231</th>\n",
       "      <td>60</td>\n",
       "      <td>1960-11-27</td>\n",
       "      <td>Sagitário</td>\n",
       "      <td>Jardim</td>\n",
       "      <td>Sapucaia do Sul</td>\n",
       "      <td>1,76</td>\n",
       "      <td>60</td>\n",
       "      <td>O-</td>\n",
       "      <td>vermelho</td>\n",
       "      <td>292.091427</td>\n",
       "    </tr>\n",
       "    <tr>\n",
       "      <th>232</th>\n",
       "      <td>50</td>\n",
       "      <td>1970-01-12</td>\n",
       "      <td>Sagitário</td>\n",
       "      <td>Porto</td>\n",
       "      <td>Pelotas</td>\n",
       "      <td>1,62</td>\n",
       "      <td>61</td>\n",
       "      <td>B-</td>\n",
       "      <td>laranja</td>\n",
       "      <td>3737.548260</td>\n",
       "    </tr>\n",
       "    <tr>\n",
       "      <th>234</th>\n",
       "      <td>21</td>\n",
       "      <td>1999-09-12</td>\n",
       "      <td>Sagitário</td>\n",
       "      <td>Cristal</td>\n",
       "      <td>Erechim</td>\n",
       "      <td>1,66</td>\n",
       "      <td>45</td>\n",
       "      <td>O-</td>\n",
       "      <td>azul</td>\n",
       "      <td>4482.170755</td>\n",
       "    </tr>\n",
       "    <tr>\n",
       "      <th>236</th>\n",
       "      <td>53</td>\n",
       "      <td>1967-11-24</td>\n",
       "      <td>Sagitário</td>\n",
       "      <td>Triângulo</td>\n",
       "      <td>Erechim</td>\n",
       "      <td>1,53</td>\n",
       "      <td>82</td>\n",
       "      <td>B-</td>\n",
       "      <td>amarelo</td>\n",
       "      <td>2266.956221</td>\n",
       "    </tr>\n",
       "    <tr>\n",
       "      <th>268</th>\n",
       "      <td>74</td>\n",
       "      <td>1946-02-12</td>\n",
       "      <td>Sagitário</td>\n",
       "      <td>Medianeira</td>\n",
       "      <td>Porto Alegre</td>\n",
       "      <td>1,76</td>\n",
       "      <td>78</td>\n",
       "      <td>B-</td>\n",
       "      <td>laranja</td>\n",
       "      <td>6234.853921</td>\n",
       "    </tr>\n",
       "    <tr>\n",
       "      <th>270</th>\n",
       "      <td>44</td>\n",
       "      <td>1976-12-13</td>\n",
       "      <td>Sagitário</td>\n",
       "      <td>Divisa</td>\n",
       "      <td>Santana do Livramento</td>\n",
       "      <td>1,67</td>\n",
       "      <td>81</td>\n",
       "      <td>O+</td>\n",
       "      <td>vermelho</td>\n",
       "      <td>5991.052663</td>\n",
       "    </tr>\n",
       "    <tr>\n",
       "      <th>272</th>\n",
       "      <td>70</td>\n",
       "      <td>1950-09-12</td>\n",
       "      <td>Sagitário</td>\n",
       "      <td>Centro</td>\n",
       "      <td>Passo Fundo</td>\n",
       "      <td>1,83</td>\n",
       "      <td>84</td>\n",
       "      <td>B-</td>\n",
       "      <td>preto</td>\n",
       "      <td>5818.711355</td>\n",
       "    </tr>\n",
       "    <tr>\n",
       "      <th>276</th>\n",
       "      <td>52</td>\n",
       "      <td>1968-12-13</td>\n",
       "      <td>Sagitário</td>\n",
       "      <td>Vera Cruz</td>\n",
       "      <td>Alegrete</td>\n",
       "      <td>1,80</td>\n",
       "      <td>79</td>\n",
       "      <td>O-</td>\n",
       "      <td>vermelho</td>\n",
       "      <td>3692.376018</td>\n",
       "    </tr>\n",
       "  </tbody>\n",
       "</table>\n",
       "</div>"
      ],
      "text/plain": [
       "     idade  data_nasc      signo                    bairro  \\\n",
       "0       80 1940-06-12  Sagitário            Passo da Areia   \n",
       "11      19 2001-11-27  Sagitário                 Belvedere   \n",
       "15      70 1950-03-12  Sagitário           União das Vilas   \n",
       "29      46 1974-06-12  Sagitário                Guajuviras   \n",
       "39      55 1965-12-12  Sagitário                   Sarandi   \n",
       "46      31 1989-05-12  Sagitário                    Centro   \n",
       "63      33 1987-11-25  Sagitário                 Estalagem   \n",
       "69      26 1994-12-14  Sagitário            Mário Quintana   \n",
       "78      77 1943-11-22  Sagitário              Jardim Krahe   \n",
       "84      51 1969-02-12  Sagitário  Nossa Senhora das Graças   \n",
       "91      61 1959-12-15  Sagitário                  Partenon   \n",
       "116     51 1969-03-12  Sagitário            Praia de Belas   \n",
       "121     75 1945-11-23  Sagitário                  Carvalho   \n",
       "127     24 1996-12-18  Sagitário                    Centro   \n",
       "143     54 1966-12-14  Sagitário          Passo das Pedras   \n",
       "147     55 1965-11-12  Sagitário             Arroio Grande   \n",
       "159     38 1982-02-12  Sagitário                 Progresso   \n",
       "161     72 1948-03-12  Sagitário                  São João   \n",
       "164     41 1979-11-26  Sagitário                    Centro   \n",
       "188     48 1972-08-12  Sagitário      Jardim Universitário   \n",
       "191     53 1967-11-27  Sagitário           Tabajara Brites   \n",
       "195     65 1955-01-12  Sagitário                Petrópolis   \n",
       "196     36 1984-05-12  Sagitário        Arroio da Manteiga   \n",
       "198     68 1952-11-22  Sagitário                   Niterói   \n",
       "218     34 1986-11-23  Sagitário                   Aliança   \n",
       "222     53 1967-12-21  Sagitário                    Vargas   \n",
       "231     60 1960-11-27  Sagitário                    Jardim   \n",
       "232     50 1970-01-12  Sagitário                     Porto   \n",
       "234     21 1999-09-12  Sagitário                   Cristal   \n",
       "236     53 1967-11-24  Sagitário                 Triângulo   \n",
       "268     74 1946-02-12  Sagitário                Medianeira   \n",
       "270     44 1976-12-13  Sagitário                    Divisa   \n",
       "272     70 1950-09-12  Sagitário                    Centro   \n",
       "276     52 1968-12-13  Sagitário                 Vera Cruz   \n",
       "\n",
       "                    cidade altura  peso tipo_sanguineo       cor      salario  \n",
       "0             Porto Alegre   1,78    59             O+     verde  4575.597484  \n",
       "11       Santa Cruz do Sul   1,64    79            AB-     verde  2165.483886  \n",
       "15              Uruguaiana   2,00    97            AB-  vermelho  5905.051627  \n",
       "29                  Canoas   1,81    61            AB+      azul  3084.671946  \n",
       "39            Porto Alegre   1,65    56            AB-     preto  4115.111976  \n",
       "46              Pouso Novo   1,72    91             A-     verde  6447.873347  \n",
       "63                  Viamão   1,80    73             O-     preto  2848.020998  \n",
       "69            Porto Alegre   1,75    45             O+  vermelho  4781.284073  \n",
       "78                  Viamão   1,64    74             B-      azul  5519.091206  \n",
       "84           Caxias do Sul   1,66    83             B+      azul  2295.660611  \n",
       "91            Porto Alegre   1,88    68            AB-     preto  4978.908333  \n",
       "116           Porto Alegre   1,54    81             A+   amarelo    74.298936  \n",
       "121       Cachoeira do Sul   1,96   110             O+  vermelho  4281.471828  \n",
       "127              Marcorama   1,76    85             A+   amarelo  5003.663782  \n",
       "143           Porto Alegre   1,82    60             B+      roxo   287.962314  \n",
       "147      Santa Cruz do Sul   1,64    89             B-      azul  4196.258576  \n",
       "159               Alegrete   1,64    77             O+  vermelho  6581.686889  \n",
       "161           Porto Alegre   1,76    60             A-     verde  6492.511315  \n",
       "164  Santana do Livramento   1,68    75            AB+     verde  2755.695684  \n",
       "188                 Viamão   1,60   102             B+  vermelho  3814.228288  \n",
       "191             Uruguaiana   1,61    90             B-     verde  5041.999810  \n",
       "195          Novo Hamburgo   1,63    79             O+  vermelho  6980.080813  \n",
       "196           São Leopoldo   1,54    62             A-  vermelho  2135.319344  \n",
       "198                 Canoas   1,84    75             B+     preto  1416.594081  \n",
       "218           Santo Ângelo   1,92   104             B+   laranja  3738.766098  \n",
       "222        Sapucaia do Sul   1,66   102             O+      azul   837.549018  \n",
       "231        Sapucaia do Sul   1,76    60             O-  vermelho   292.091427  \n",
       "232                Pelotas   1,62    61             B-   laranja  3737.548260  \n",
       "234                Erechim   1,66    45             O-      azul  4482.170755  \n",
       "236                Erechim   1,53    82             B-   amarelo  2266.956221  \n",
       "268           Porto Alegre   1,76    78             B-   laranja  6234.853921  \n",
       "270  Santana do Livramento   1,67    81             O+  vermelho  5991.052663  \n",
       "272            Passo Fundo   1,83    84             B-     preto  5818.711355  \n",
       "276               Alegrete   1,80    79             O-  vermelho  3692.376018  "
      ]
     },
     "metadata": {},
     "output_type": "display_data"
    }
   ],
   "source": [
    "@interact\n",
    "def select_signo(signo=pdf['signo'].unique()):\n",
    "    display(agrupado.get_group(signo))"
   ]
  },
  {
   "cell_type": "code",
   "execution_count": 44,
   "metadata": {
    "hidden": true
   },
   "outputs": [
    {
     "data": {
      "text/html": [
       "<div>\n",
       "<style scoped>\n",
       "    .dataframe tbody tr th:only-of-type {\n",
       "        vertical-align: middle;\n",
       "    }\n",
       "\n",
       "    .dataframe tbody tr th {\n",
       "        vertical-align: top;\n",
       "    }\n",
       "\n",
       "    .dataframe thead th {\n",
       "        text-align: right;\n",
       "    }\n",
       "</style>\n",
       "<table border=\"1\" class=\"dataframe\">\n",
       "  <thead>\n",
       "    <tr style=\"text-align: right;\">\n",
       "      <th></th>\n",
       "      <th>idade</th>\n",
       "      <th>data_nasc</th>\n",
       "      <th>signo</th>\n",
       "      <th>bairro</th>\n",
       "      <th>cidade</th>\n",
       "      <th>altura</th>\n",
       "      <th>peso</th>\n",
       "      <th>tipo_sanguineo</th>\n",
       "      <th>cor</th>\n",
       "      <th>salario</th>\n",
       "    </tr>\n",
       "  </thead>\n",
       "  <tbody>\n",
       "    <tr>\n",
       "      <th>33</th>\n",
       "      <td>18</td>\n",
       "      <td>2002-01-15</td>\n",
       "      <td>Capricórnio</td>\n",
       "      <td>Medianeira</td>\n",
       "      <td>Cachoeira do Sul</td>\n",
       "      <td>1,72</td>\n",
       "      <td>57</td>\n",
       "      <td>B+</td>\n",
       "      <td>preto</td>\n",
       "      <td>42.783992</td>\n",
       "    </tr>\n",
       "    <tr>\n",
       "      <th>68</th>\n",
       "      <td>18</td>\n",
       "      <td>2002-02-03</td>\n",
       "      <td>Peixes</td>\n",
       "      <td>Medianeira</td>\n",
       "      <td>Porto Alegre</td>\n",
       "      <td>1,66</td>\n",
       "      <td>79</td>\n",
       "      <td>O+</td>\n",
       "      <td>vermelho</td>\n",
       "      <td>3639.942503</td>\n",
       "    </tr>\n",
       "    <tr>\n",
       "      <th>96</th>\n",
       "      <td>18</td>\n",
       "      <td>2002-08-07</td>\n",
       "      <td>Câncer</td>\n",
       "      <td>Vila Jardim</td>\n",
       "      <td>Porto Alegre</td>\n",
       "      <td>1,70</td>\n",
       "      <td>50</td>\n",
       "      <td>A-</td>\n",
       "      <td>vermelho</td>\n",
       "      <td>970.919645</td>\n",
       "    </tr>\n",
       "    <tr>\n",
       "      <th>171</th>\n",
       "      <td>18</td>\n",
       "      <td>2002-04-15</td>\n",
       "      <td>Áries</td>\n",
       "      <td>Campestre do Menino Deus</td>\n",
       "      <td>Santa Maria</td>\n",
       "      <td>1,87</td>\n",
       "      <td>101</td>\n",
       "      <td>O-</td>\n",
       "      <td>roxo</td>\n",
       "      <td>6546.638926</td>\n",
       "    </tr>\n",
       "    <tr>\n",
       "      <th>208</th>\n",
       "      <td>18</td>\n",
       "      <td>2002-12-24</td>\n",
       "      <td>Capricórnio</td>\n",
       "      <td>Boqueirão</td>\n",
       "      <td>Passo Fundo</td>\n",
       "      <td>1,66</td>\n",
       "      <td>88</td>\n",
       "      <td>AB-</td>\n",
       "      <td>verde</td>\n",
       "      <td>3884.001298</td>\n",
       "    </tr>\n",
       "    <tr>\n",
       "      <th>215</th>\n",
       "      <td>18</td>\n",
       "      <td>2002-05-27</td>\n",
       "      <td>Gêmeos</td>\n",
       "      <td>Santana</td>\n",
       "      <td>Porto Alegre</td>\n",
       "      <td>1,56</td>\n",
       "      <td>79</td>\n",
       "      <td>AB+</td>\n",
       "      <td>vermelho</td>\n",
       "      <td>3015.617308</td>\n",
       "    </tr>\n",
       "    <tr>\n",
       "      <th>285</th>\n",
       "      <td>18</td>\n",
       "      <td>2002-11-03</td>\n",
       "      <td>Peixes</td>\n",
       "      <td>Progresso</td>\n",
       "      <td>Alegrete</td>\n",
       "      <td>2,00</td>\n",
       "      <td>64</td>\n",
       "      <td>B+</td>\n",
       "      <td>roxo</td>\n",
       "      <td>6476.468792</td>\n",
       "    </tr>\n",
       "    <tr>\n",
       "      <th>297</th>\n",
       "      <td>18</td>\n",
       "      <td>2002-10-08</td>\n",
       "      <td>Leão</td>\n",
       "      <td>Cidade de Águeda</td>\n",
       "      <td>Rio Grande</td>\n",
       "      <td>1,67</td>\n",
       "      <td>78</td>\n",
       "      <td>AB-</td>\n",
       "      <td>verde</td>\n",
       "      <td>2270.466590</td>\n",
       "    </tr>\n",
       "  </tbody>\n",
       "</table>\n",
       "</div>"
      ],
      "text/plain": [
       "     idade  data_nasc        signo                    bairro  \\\n",
       "33      18 2002-01-15  Capricórnio                Medianeira   \n",
       "68      18 2002-02-03       Peixes                Medianeira   \n",
       "96      18 2002-08-07       Câncer               Vila Jardim   \n",
       "171     18 2002-04-15        Áries  Campestre do Menino Deus   \n",
       "208     18 2002-12-24  Capricórnio                 Boqueirão   \n",
       "215     18 2002-05-27       Gêmeos                   Santana   \n",
       "285     18 2002-11-03       Peixes                 Progresso   \n",
       "297     18 2002-10-08         Leão          Cidade de Águeda   \n",
       "\n",
       "               cidade altura  peso tipo_sanguineo       cor      salario  \n",
       "33   Cachoeira do Sul   1,72    57             B+     preto    42.783992  \n",
       "68       Porto Alegre   1,66    79             O+  vermelho  3639.942503  \n",
       "96       Porto Alegre   1,70    50             A-  vermelho   970.919645  \n",
       "171       Santa Maria   1,87   101             O-      roxo  6546.638926  \n",
       "208       Passo Fundo   1,66    88            AB-     verde  3884.001298  \n",
       "215      Porto Alegre   1,56    79            AB+  vermelho  3015.617308  \n",
       "285          Alegrete   2,00    64             B+      roxo  6476.468792  \n",
       "297        Rio Grande   1,67    78            AB-     verde  2270.466590  "
      ]
     },
     "metadata": {},
     "output_type": "display_data"
    }
   ],
   "source": [
    "@interact\n",
    "def agrupa(column=pdf.columns):\n",
    "    agrupado = pdf.groupby(column)\n",
    "    lista_de_possibilidades = pdf[column].unique()\n",
    "    lista_de_possibilidades.sort()\n",
    "    \n",
    "    @interact\n",
    "    def seleciona(label=lista_de_possibilidades):\n",
    "        display(agrupado.get_group(label))"
   ]
  },
  {
   "cell_type": "code",
   "execution_count": 45,
   "metadata": {
    "hidden": true
   },
   "outputs": [],
   "source": [
    "agrupado = pdf.groupby('signo')"
   ]
  },
  {
   "cell_type": "code",
   "execution_count": 46,
   "metadata": {
    "hidden": true
   },
   "outputs": [
    {
     "data": {
      "text/plain": [
       "signo\n",
       "Aquário        22\n",
       "Capricórnio    25\n",
       "Câncer         26\n",
       "Escorpião      24\n",
       "Gêmeos         25\n",
       "Leão           23\n",
       "Libra          21\n",
       "Peixes         29\n",
       "Sagitário      34\n",
       "Touro          19\n",
       "Virgem         21\n",
       "Áries          31\n",
       "dtype: int64"
      ]
     },
     "execution_count": 46,
     "metadata": {},
     "output_type": "execute_result"
    }
   ],
   "source": [
    "agrupado.size()"
   ]
  },
  {
   "cell_type": "markdown",
   "metadata": {
    "heading_collapsed": true,
    "hidden": true
   },
   "source": [
    "## Agrupando por quantils\n",
    "\n",
    "1. Faz o corte de quantils usando o pd.qcut\n",
    "2. Usa o resultado como argumento do groupy"
   ]
  },
  {
   "cell_type": "code",
   "execution_count": 47,
   "metadata": {
    "hidden": true
   },
   "outputs": [],
   "source": [
    "quintil_corte = pd.qcut(x=pdf['salario'], q=5)\n",
    "quintils = pdf.groupby(quintil_corte)"
   ]
  },
  {
   "cell_type": "code",
   "execution_count": 48,
   "metadata": {
    "hidden": true
   },
   "outputs": [
    {
     "data": {
      "text/plain": [
       "{Interval(23.962999999999997, 1868.834, closed='right'): Int64Index([  3,   7,   9,  17,  30,  33,  34,  35,  45,  52,  54,  65,  72,\n",
       "              76,  83,  85,  88,  90,  95,  96,  98, 100, 112, 113, 115, 116,\n",
       "             120, 133, 135, 143, 144, 151, 152, 162, 166, 174, 182, 190, 192,\n",
       "             194, 198, 203, 204, 212, 213, 217, 220, 222, 227, 231, 235, 238,\n",
       "             239, 240, 245, 255, 258, 280, 284, 290],\n",
       "            dtype='int64'),\n",
       " Interval(1868.834, 3035.92, closed='right'): Int64Index([ 10,  11,  23,  28,  56,  58,  60,  61,  63,  67,  70,  74,  75,\n",
       "              77,  79,  84,  86, 123, 125, 128, 136, 138, 140, 142, 153, 154,\n",
       "             156, 158, 164, 169, 170, 173, 180, 181, 183, 185, 187, 196, 205,\n",
       "             207, 214, 215, 226, 230, 233, 236, 244, 248, 254, 256, 257, 266,\n",
       "             267, 271, 273, 275, 287, 296, 297, 298],\n",
       "            dtype='int64'),\n",
       " Interval(3035.92, 4141.761, closed='right'): Int64Index([  1,   4,   6,  14,  18,  20,  24,  26,  27,  29,  38,  39,  40,\n",
       "              41,  42,  50,  59,  62,  68,  80,  92,  97, 106, 107, 109, 117,\n",
       "             118, 119, 130, 134, 139, 146, 165, 178, 179, 186, 188, 193, 200,\n",
       "             208, 218, 223, 224, 232, 242, 250, 253, 261, 262, 264, 265, 269,\n",
       "             276, 277, 278, 288, 291, 293, 295, 299],\n",
       "            dtype='int64'),\n",
       " Interval(4141.761, 5648.161, closed='right'): Int64Index([  0,   5,  13,  21,  22,  25,  31,  37,  43,  47,  48,  51,  57,\n",
       "              69,  78,  81,  82,  87,  89,  91,  93,  94, 101, 102, 104, 105,\n",
       "             111, 114, 121, 122, 124, 126, 127, 131, 145, 147, 149, 150, 155,\n",
       "             163, 167, 172, 176, 191, 202, 206, 210, 228, 229, 234, 237, 241,\n",
       "             243, 249, 252, 259, 260, 281, 282, 286],\n",
       "            dtype='int64'),\n",
       " Interval(5648.161, 7177.359, closed='right'): Int64Index([  2,   8,  12,  15,  16,  19,  32,  36,  44,  46,  49,  53,  55,\n",
       "              64,  66,  71,  73,  99, 103, 108, 110, 129, 132, 137, 141, 148,\n",
       "             157, 159, 160, 161, 168, 171, 175, 177, 184, 189, 195, 197, 199,\n",
       "             201, 209, 211, 216, 219, 221, 225, 246, 247, 251, 263, 268, 270,\n",
       "             272, 274, 279, 283, 285, 289, 292, 294],\n",
       "            dtype='int64')}"
      ]
     },
     "execution_count": 48,
     "metadata": {},
     "output_type": "execute_result"
    }
   ],
   "source": [
    "quintils.groups"
   ]
  },
  {
   "cell_type": "code",
   "execution_count": 49,
   "metadata": {
    "hidden": true
   },
   "outputs": [
    {
     "data": {
      "text/plain": [
       "salario\n",
       "(23.962999999999997, 1868.834]    60\n",
       "(1868.834, 3035.92]               60\n",
       "(3035.92, 4141.761]               60\n",
       "(4141.761, 5648.161]              60\n",
       "(5648.161, 7177.359]              60\n",
       "dtype: int64"
      ]
     },
     "execution_count": 49,
     "metadata": {},
     "output_type": "execute_result"
    }
   ],
   "source": [
    "quintils.size()"
   ]
  },
  {
   "cell_type": "markdown",
   "metadata": {
    "heading_collapsed": true,
    "hidden": true
   },
   "source": [
    "## Usando o grouper"
   ]
  },
  {
   "cell_type": "code",
   "execution_count": 50,
   "metadata": {
    "hidden": true
   },
   "outputs": [
    {
     "data": {
      "text/plain": [
       "data_nasc\n",
       "1940-12-31    4\n",
       "1941-12-31    1\n",
       "1942-12-31    6\n",
       "1943-12-31    1\n",
       "1944-12-31    4\n",
       "             ..\n",
       "1998-12-31    4\n",
       "1999-12-31    5\n",
       "2000-12-31    3\n",
       "2001-12-31    5\n",
       "2002-12-31    8\n",
       "Freq: A-DEC, Length: 63, dtype: int64"
      ]
     },
     "execution_count": 50,
     "metadata": {},
     "output_type": "execute_result"
    }
   ],
   "source": [
    "por_ano = pdf.groupby(pd.Grouper(key='data_nasc', freq='Y'))\n",
    "por_ano.size()"
   ]
  },
  {
   "cell_type": "code",
   "execution_count": 51,
   "metadata": {
    "hidden": true
   },
   "outputs": [
    {
     "data": {
      "text/plain": [
       "data_nasc\n",
       "1940-12-31    4097.254842\n",
       "1941-12-31    2005.859257\n",
       "1942-12-31    3505.410046\n",
       "1943-12-31    5519.091206\n",
       "1944-12-31    4007.916318\n",
       "                 ...     \n",
       "1998-12-31    2624.038162\n",
       "1999-12-31    3717.451444\n",
       "2000-12-31    6766.676511\n",
       "2001-12-31    3765.351826\n",
       "2002-12-31    3355.854882\n",
       "Freq: A-DEC, Name: salario, Length: 63, dtype: float64"
      ]
     },
     "execution_count": 51,
     "metadata": {},
     "output_type": "execute_result"
    }
   ],
   "source": [
    "por_ano['salario'].mean()"
   ]
  },
  {
   "cell_type": "code",
   "execution_count": 52,
   "metadata": {
    "hidden": true
   },
   "outputs": [
    {
     "data": {
      "text/plain": [
       "<matplotlib.axes._subplots.AxesSubplot at 0x27a2bed7910>"
      ]
     },
     "execution_count": 52,
     "metadata": {},
     "output_type": "execute_result"
    },
    {
     "data": {
      "image/png": "[encoded data removed]",
      "text/plain": [
       "<Figure size 432x288 with 1 Axes>"
      ]
     },
     "metadata": {
      "needs_background": "light"
     },
     "output_type": "display_data"
    }
   ],
   "source": [
    "por_ano['salario'].mean().plot()"
   ]
  },
  {
   "cell_type": "markdown",
   "metadata": {
    "heading_collapsed": true
   },
   "source": [
    "# .agg"
   ]
  },
  {
   "cell_type": "code",
   "execution_count": 53,
   "metadata": {
    "hidden": true
   },
   "outputs": [
    {
     "data": {
      "text/html": [
       "<div>\n",
       "<style scoped>\n",
       "    .dataframe tbody tr th:only-of-type {\n",
       "        vertical-align: middle;\n",
       "    }\n",
       "\n",
       "    .dataframe tbody tr th {\n",
       "        vertical-align: top;\n",
       "    }\n",
       "\n",
       "    .dataframe thead tr th {\n",
       "        text-align: left;\n",
       "    }\n",
       "\n",
       "    .dataframe thead tr:last-of-type th {\n",
       "        text-align: right;\n",
       "    }\n",
       "</style>\n",
       "<table border=\"1\" class=\"dataframe\">\n",
       "  <thead>\n",
       "    <tr>\n",
       "      <th></th>\n",
       "      <th>idade</th>\n",
       "      <th colspan=\"4\" halign=\"left\">salario</th>\n",
       "      <th>cidade</th>\n",
       "      <th>tipo_sanguineo</th>\n",
       "    </tr>\n",
       "    <tr>\n",
       "      <th></th>\n",
       "      <th>mean</th>\n",
       "      <th>min</th>\n",
       "      <th>mean</th>\n",
       "      <th>max</th>\n",
       "      <th>std</th>\n",
       "      <th>size</th>\n",
       "      <th>size</th>\n",
       "    </tr>\n",
       "    <tr>\n",
       "      <th>signo</th>\n",
       "      <th></th>\n",
       "      <th></th>\n",
       "      <th></th>\n",
       "      <th></th>\n",
       "      <th></th>\n",
       "      <th></th>\n",
       "      <th></th>\n",
       "    </tr>\n",
       "  </thead>\n",
       "  <tbody>\n",
       "    <tr>\n",
       "      <th>Aquário</th>\n",
       "      <td>47.954545</td>\n",
       "      <td>551.049650</td>\n",
       "      <td>4145.633445</td>\n",
       "      <td>7134.824124</td>\n",
       "      <td>2099.069663</td>\n",
       "      <td>22</td>\n",
       "      <td>22</td>\n",
       "    </tr>\n",
       "    <tr>\n",
       "      <th>Capricórnio</th>\n",
       "      <td>42.320000</td>\n",
       "      <td>42.783992</td>\n",
       "      <td>3644.838354</td>\n",
       "      <td>6854.941080</td>\n",
       "      <td>1913.465037</td>\n",
       "      <td>25</td>\n",
       "      <td>25</td>\n",
       "    </tr>\n",
       "    <tr>\n",
       "      <th>Câncer</th>\n",
       "      <td>48.615385</td>\n",
       "      <td>198.562668</td>\n",
       "      <td>3153.202881</td>\n",
       "      <td>7163.209304</td>\n",
       "      <td>2309.044763</td>\n",
       "      <td>26</td>\n",
       "      <td>26</td>\n",
       "    </tr>\n",
       "    <tr>\n",
       "      <th>Escorpião</th>\n",
       "      <td>49.791667</td>\n",
       "      <td>264.741703</td>\n",
       "      <td>3182.941348</td>\n",
       "      <td>6175.091873</td>\n",
       "      <td>1605.288354</td>\n",
       "      <td>24</td>\n",
       "      <td>24</td>\n",
       "    </tr>\n",
       "    <tr>\n",
       "      <th>Gêmeos</th>\n",
       "      <td>49.840000</td>\n",
       "      <td>573.977681</td>\n",
       "      <td>3595.664410</td>\n",
       "      <td>6992.077974</td>\n",
       "      <td>1745.325198</td>\n",
       "      <td>25</td>\n",
       "      <td>25</td>\n",
       "    </tr>\n",
       "    <tr>\n",
       "      <th>Leão</th>\n",
       "      <td>45.304348</td>\n",
       "      <td>214.559990</td>\n",
       "      <td>3177.920544</td>\n",
       "      <td>6179.475333</td>\n",
       "      <td>1921.020549</td>\n",
       "      <td>23</td>\n",
       "      <td>23</td>\n",
       "    </tr>\n",
       "    <tr>\n",
       "      <th>Libra</th>\n",
       "      <td>47.428571</td>\n",
       "      <td>23.963540</td>\n",
       "      <td>3540.819827</td>\n",
       "      <td>7174.038878</td>\n",
       "      <td>2010.890443</td>\n",
       "      <td>21</td>\n",
       "      <td>21</td>\n",
       "    </tr>\n",
       "    <tr>\n",
       "      <th>Peixes</th>\n",
       "      <td>50.448276</td>\n",
       "      <td>211.474858</td>\n",
       "      <td>3818.083595</td>\n",
       "      <td>6571.052262</td>\n",
       "      <td>1936.651364</td>\n",
       "      <td>29</td>\n",
       "      <td>29</td>\n",
       "    </tr>\n",
       "    <tr>\n",
       "      <th>Sagitário</th>\n",
       "      <td>51.176471</td>\n",
       "      <td>74.298936</td>\n",
       "      <td>3907.958908</td>\n",
       "      <td>6980.080813</td>\n",
       "      <td>1956.859050</td>\n",
       "      <td>34</td>\n",
       "      <td>34</td>\n",
       "    </tr>\n",
       "    <tr>\n",
       "      <th>Touro</th>\n",
       "      <td>50.684211</td>\n",
       "      <td>796.711090</td>\n",
       "      <td>4234.141045</td>\n",
       "      <td>7177.359384</td>\n",
       "      <td>1962.493357</td>\n",
       "      <td>19</td>\n",
       "      <td>19</td>\n",
       "    </tr>\n",
       "    <tr>\n",
       "      <th>Virgem</th>\n",
       "      <td>46.238095</td>\n",
       "      <td>470.213205</td>\n",
       "      <td>3196.868180</td>\n",
       "      <td>6565.767966</td>\n",
       "      <td>2136.697290</td>\n",
       "      <td>21</td>\n",
       "      <td>21</td>\n",
       "    </tr>\n",
       "    <tr>\n",
       "      <th>Áries</th>\n",
       "      <td>49.967742</td>\n",
       "      <td>1284.862300</td>\n",
       "      <td>4237.205054</td>\n",
       "      <td>6978.286174</td>\n",
       "      <td>1458.531531</td>\n",
       "      <td>31</td>\n",
       "      <td>31</td>\n",
       "    </tr>\n",
       "  </tbody>\n",
       "</table>\n",
       "</div>"
      ],
      "text/plain": [
       "                 idade      salario                                         \\\n",
       "                  mean          min         mean          max          std   \n",
       "signo                                                                        \n",
       "Aquário      47.954545   551.049650  4145.633445  7134.824124  2099.069663   \n",
       "Capricórnio  42.320000    42.783992  3644.838354  6854.941080  1913.465037   \n",
       "Câncer       48.615385   198.562668  3153.202881  7163.209304  2309.044763   \n",
       "Escorpião    49.791667   264.741703  3182.941348  6175.091873  1605.288354   \n",
       "Gêmeos       49.840000   573.977681  3595.664410  6992.077974  1745.325198   \n",
       "Leão         45.304348   214.559990  3177.920544  6179.475333  1921.020549   \n",
       "Libra        47.428571    23.963540  3540.819827  7174.038878  2010.890443   \n",
       "Peixes       50.448276   211.474858  3818.083595  6571.052262  1936.651364   \n",
       "Sagitário    51.176471    74.298936  3907.958908  6980.080813  1956.859050   \n",
       "Touro        50.684211   796.711090  4234.141045  7177.359384  1962.493357   \n",
       "Virgem       46.238095   470.213205  3196.868180  6565.767966  2136.697290   \n",
       "Áries        49.967742  1284.862300  4237.205054  6978.286174  1458.531531   \n",
       "\n",
       "            cidade tipo_sanguineo  \n",
       "              size           size  \n",
       "signo                              \n",
       "Aquário         22             22  \n",
       "Capricórnio     25             25  \n",
       "Câncer          26             26  \n",
       "Escorpião       24             24  \n",
       "Gêmeos          25             25  \n",
       "Leão            23             23  \n",
       "Libra           21             21  \n",
       "Peixes          29             29  \n",
       "Sagitário       34             34  \n",
       "Touro           19             19  \n",
       "Virgem          21             21  \n",
       "Áries           31             31  "
      ]
     },
     "execution_count": 53,
     "metadata": {},
     "output_type": "execute_result"
    }
   ],
   "source": [
    "agregado = pdf.groupby('signo').agg({ \n",
    "    'idade':'mean',\n",
    "    'salario':['min','mean', 'max', 'std'],\n",
    "    'cidade':'size',\n",
    "    'tipo_sanguineo': 'size'\n",
    "})\n",
    "agregado"
   ]
  },
  {
   "cell_type": "code",
   "execution_count": 54,
   "metadata": {
    "hidden": true
   },
   "outputs": [
    {
     "data": {
      "text/html": [
       "<div>\n",
       "<style scoped>\n",
       "    .dataframe tbody tr th:only-of-type {\n",
       "        vertical-align: middle;\n",
       "    }\n",
       "\n",
       "    .dataframe tbody tr th {\n",
       "        vertical-align: top;\n",
       "    }\n",
       "\n",
       "    .dataframe thead tr th {\n",
       "        text-align: left;\n",
       "    }\n",
       "\n",
       "    .dataframe thead tr:last-of-type th {\n",
       "        text-align: right;\n",
       "    }\n",
       "</style>\n",
       "<table border=\"1\" class=\"dataframe\">\n",
       "  <thead>\n",
       "    <tr>\n",
       "      <th></th>\n",
       "      <th>salario</th>\n",
       "      <th>cidade</th>\n",
       "      <th colspan=\"2\" halign=\"left\">cor</th>\n",
       "    </tr>\n",
       "    <tr>\n",
       "      <th></th>\n",
       "      <th>max</th>\n",
       "      <th>size</th>\n",
       "      <th>size</th>\n",
       "      <th>first</th>\n",
       "    </tr>\n",
       "    <tr>\n",
       "      <th>idade</th>\n",
       "      <th></th>\n",
       "      <th></th>\n",
       "      <th></th>\n",
       "      <th></th>\n",
       "    </tr>\n",
       "  </thead>\n",
       "  <tbody>\n",
       "    <tr>\n",
       "      <th>18</th>\n",
       "      <td>6546.638926</td>\n",
       "      <td>8</td>\n",
       "      <td>8</td>\n",
       "      <td>preto</td>\n",
       "    </tr>\n",
       "    <tr>\n",
       "      <th>19</th>\n",
       "      <td>6562.905064</td>\n",
       "      <td>5</td>\n",
       "      <td>5</td>\n",
       "      <td>verde</td>\n",
       "    </tr>\n",
       "    <tr>\n",
       "      <th>20</th>\n",
       "      <td>7163.209304</td>\n",
       "      <td>3</td>\n",
       "      <td>3</td>\n",
       "      <td>vermelho</td>\n",
       "    </tr>\n",
       "    <tr>\n",
       "      <th>21</th>\n",
       "      <td>5088.907623</td>\n",
       "      <td>5</td>\n",
       "      <td>5</td>\n",
       "      <td>preto</td>\n",
       "    </tr>\n",
       "    <tr>\n",
       "      <th>22</th>\n",
       "      <td>5584.391295</td>\n",
       "      <td>4</td>\n",
       "      <td>4</td>\n",
       "      <td>laranja</td>\n",
       "    </tr>\n",
       "    <tr>\n",
       "      <th>...</th>\n",
       "      <td>...</td>\n",
       "      <td>...</td>\n",
       "      <td>...</td>\n",
       "      <td>...</td>\n",
       "    </tr>\n",
       "    <tr>\n",
       "      <th>76</th>\n",
       "      <td>7177.359384</td>\n",
       "      <td>4</td>\n",
       "      <td>4</td>\n",
       "      <td>vermelho</td>\n",
       "    </tr>\n",
       "    <tr>\n",
       "      <th>77</th>\n",
       "      <td>5519.091206</td>\n",
       "      <td>1</td>\n",
       "      <td>1</td>\n",
       "      <td>azul</td>\n",
       "    </tr>\n",
       "    <tr>\n",
       "      <th>78</th>\n",
       "      <td>6028.660536</td>\n",
       "      <td>6</td>\n",
       "      <td>6</td>\n",
       "      <td>verde</td>\n",
       "    </tr>\n",
       "    <tr>\n",
       "      <th>79</th>\n",
       "      <td>2005.859257</td>\n",
       "      <td>1</td>\n",
       "      <td>1</td>\n",
       "      <td>laranja</td>\n",
       "    </tr>\n",
       "    <tr>\n",
       "      <th>80</th>\n",
       "      <td>6518.733434</td>\n",
       "      <td>4</td>\n",
       "      <td>4</td>\n",
       "      <td>verde</td>\n",
       "    </tr>\n",
       "  </tbody>\n",
       "</table>\n",
       "<p>63 rows × 4 columns</p>\n",
       "</div>"
      ],
      "text/plain": [
       "           salario cidade  cor          \n",
       "               max   size size     first\n",
       "idade                                   \n",
       "18     6546.638926      8    8     preto\n",
       "19     6562.905064      5    5     verde\n",
       "20     7163.209304      3    3  vermelho\n",
       "21     5088.907623      5    5     preto\n",
       "22     5584.391295      4    4   laranja\n",
       "...            ...    ...  ...       ...\n",
       "76     7177.359384      4    4  vermelho\n",
       "77     5519.091206      1    1      azul\n",
       "78     6028.660536      6    6     verde\n",
       "79     2005.859257      1    1   laranja\n",
       "80     6518.733434      4    4     verde\n",
       "\n",
       "[63 rows x 4 columns]"
      ]
     },
     "execution_count": 54,
     "metadata": {},
     "output_type": "execute_result"
    }
   ],
   "source": [
    "pdf.groupby('idade').agg({\n",
    "    'salario': 'max',\n",
    "    'cidade': 'size',\n",
    "    'cor': ['size', 'first']\n",
    "})"
   ]
  },
  {
   "cell_type": "code",
   "execution_count": 55,
   "metadata": {
    "hidden": true
   },
   "outputs": [
    {
     "data": {
      "text/plain": [
       "min       23.963540\n",
       "mean    3540.819827\n",
       "max     7174.038878\n",
       "std     2010.890443\n",
       "Name: Libra, dtype: float64"
      ]
     },
     "execution_count": 55,
     "metadata": {},
     "output_type": "execute_result"
    }
   ],
   "source": [
    "agregado.loc['Libra', 'salario']"
   ]
  },
  {
   "cell_type": "code",
   "execution_count": 56,
   "metadata": {
    "hidden": true
   },
   "outputs": [
    {
     "data": {
      "text/plain": [
       "23.96354033476501"
      ]
     },
     "execution_count": 56,
     "metadata": {},
     "output_type": "execute_result"
    }
   ],
   "source": [
    "agregado.loc['Libra', ('salario', 'min')]"
   ]
  },
  {
   "cell_type": "markdown",
   "metadata": {
    "heading_collapsed": true
   },
   "source": [
    "# .fillna"
   ]
  },
  {
   "cell_type": "markdown",
   "metadata": {
    "heading_collapsed": true,
    "hidden": true
   },
   "source": [
    "## Carregar o DataFrame \"pesos.csv\"."
   ]
  },
  {
   "cell_type": "code",
   "execution_count": 57,
   "metadata": {
    "hidden": true
   },
   "outputs": [
    {
     "data": {
      "text/html": [
       "<div>\n",
       "<style scoped>\n",
       "    .dataframe tbody tr th:only-of-type {\n",
       "        vertical-align: middle;\n",
       "    }\n",
       "\n",
       "    .dataframe tbody tr th {\n",
       "        vertical-align: top;\n",
       "    }\n",
       "\n",
       "    .dataframe thead th {\n",
       "        text-align: right;\n",
       "    }\n",
       "</style>\n",
       "<table border=\"1\" class=\"dataframe\">\n",
       "  <thead>\n",
       "    <tr style=\"text-align: right;\">\n",
       "      <th></th>\n",
       "      <th>peso</th>\n",
       "      <th>sexo</th>\n",
       "      <th>idade</th>\n",
       "    </tr>\n",
       "  </thead>\n",
       "  <tbody>\n",
       "    <tr>\n",
       "      <th>633</th>\n",
       "      <td>51.535722</td>\n",
       "      <td>f</td>\n",
       "      <td>49</td>\n",
       "    </tr>\n",
       "    <tr>\n",
       "      <th>476</th>\n",
       "      <td>65.427075</td>\n",
       "      <td>m</td>\n",
       "      <td>24</td>\n",
       "    </tr>\n",
       "    <tr>\n",
       "      <th>333</th>\n",
       "      <td>46.685722</td>\n",
       "      <td>f</td>\n",
       "      <td>43</td>\n",
       "    </tr>\n",
       "    <tr>\n",
       "      <th>1989</th>\n",
       "      <td>50.225775</td>\n",
       "      <td>f</td>\n",
       "      <td>53</td>\n",
       "    </tr>\n",
       "    <tr>\n",
       "      <th>1104</th>\n",
       "      <td>47.089619</td>\n",
       "      <td>f</td>\n",
       "      <td>46</td>\n",
       "    </tr>\n",
       "  </tbody>\n",
       "</table>\n",
       "</div>"
      ],
      "text/plain": [
       "           peso sexo  idade\n",
       "633   51.535722    f     49\n",
       "476   65.427075    m     24\n",
       "333   46.685722    f     43\n",
       "1989  50.225775    f     53\n",
       "1104  47.089619    f     46"
      ]
     },
     "execution_count": 57,
     "metadata": {},
     "output_type": "execute_result"
    }
   ],
   "source": [
    "df = pd.read_csv('pesos.csv')\n",
    "df.sample(5)"
   ]
  },
  {
   "cell_type": "markdown",
   "metadata": {
    "heading_collapsed": true,
    "hidden": true
   },
   "source": [
    "## O dataset veio inteiro?"
   ]
  },
  {
   "cell_type": "code",
   "execution_count": 58,
   "metadata": {
    "hidden": true
   },
   "outputs": [
    {
     "data": {
      "text/plain": [
       "peso     93\n",
       "sexo      0\n",
       "idade     0\n",
       "dtype: int64"
      ]
     },
     "execution_count": 58,
     "metadata": {},
     "output_type": "execute_result"
    }
   ],
   "source": [
    "df.isnull().sum()"
   ]
  },
  {
   "cell_type": "markdown",
   "metadata": {
    "hidden": true
   },
   "source": [
    "Primeiro chute: TACA A MÉDIA"
   ]
  },
  {
   "cell_type": "code",
   "execution_count": 59,
   "metadata": {
    "hidden": true
   },
   "outputs": [],
   "source": [
    "df.fillna(df['peso'].mean(), inplace=True)"
   ]
  },
  {
   "cell_type": "markdown",
   "metadata": {
    "heading_collapsed": true,
    "hidden": true
   },
   "source": [
    "## Agrupar por sexo e contar."
   ]
  },
  {
   "cell_type": "code",
   "execution_count": 60,
   "metadata": {
    "hidden": true
   },
   "outputs": [
    {
     "data": {
      "text/plain": [
       "sexo\n",
       "f    1000\n",
       "m    1000\n",
       "dtype: int64"
      ]
     },
     "execution_count": 60,
     "metadata": {},
     "output_type": "execute_result"
    }
   ],
   "source": [
    "df.groupby('sexo').size()"
   ]
  },
  {
   "cell_type": "markdown",
   "metadata": {
    "heading_collapsed": true,
    "hidden": true
   },
   "source": [
    "## Agrupar por sexo e agregar média, desvio padrão, min, max da idade e do peso."
   ]
  },
  {
   "cell_type": "code",
   "execution_count": 61,
   "metadata": {
    "hidden": true
   },
   "outputs": [],
   "source": [
    "ops = ['min', 'mean', 'max', 'std']"
   ]
  },
  {
   "cell_type": "code",
   "execution_count": 62,
   "metadata": {
    "hidden": true
   },
   "outputs": [
    {
     "data": {
      "text/html": [
       "<div>\n",
       "<style scoped>\n",
       "    .dataframe tbody tr th:only-of-type {\n",
       "        vertical-align: middle;\n",
       "    }\n",
       "\n",
       "    .dataframe tbody tr th {\n",
       "        vertical-align: top;\n",
       "    }\n",
       "\n",
       "    .dataframe thead tr th {\n",
       "        text-align: left;\n",
       "    }\n",
       "\n",
       "    .dataframe thead tr:last-of-type th {\n",
       "        text-align: right;\n",
       "    }\n",
       "</style>\n",
       "<table border=\"1\" class=\"dataframe\">\n",
       "  <thead>\n",
       "    <tr>\n",
       "      <th></th>\n",
       "      <th colspan=\"4\" halign=\"left\">idade</th>\n",
       "      <th colspan=\"4\" halign=\"left\">peso</th>\n",
       "    </tr>\n",
       "    <tr>\n",
       "      <th></th>\n",
       "      <th>min</th>\n",
       "      <th>mean</th>\n",
       "      <th>max</th>\n",
       "      <th>std</th>\n",
       "      <th>min</th>\n",
       "      <th>mean</th>\n",
       "      <th>max</th>\n",
       "      <th>std</th>\n",
       "    </tr>\n",
       "    <tr>\n",
       "      <th>sexo</th>\n",
       "      <th></th>\n",
       "      <th></th>\n",
       "      <th></th>\n",
       "      <th></th>\n",
       "      <th></th>\n",
       "      <th></th>\n",
       "      <th></th>\n",
       "      <th></th>\n",
       "    </tr>\n",
       "  </thead>\n",
       "  <tbody>\n",
       "    <tr>\n",
       "      <th>f</th>\n",
       "      <td>16</td>\n",
       "      <td>37.848</td>\n",
       "      <td>59</td>\n",
       "      <td>12.519010</td>\n",
       "      <td>41.476696</td>\n",
       "      <td>51.030906</td>\n",
       "      <td>61.407399</td>\n",
       "      <td>4.174569</td>\n",
       "    </tr>\n",
       "    <tr>\n",
       "      <th>m</th>\n",
       "      <td>16</td>\n",
       "      <td>37.483</td>\n",
       "      <td>59</td>\n",
       "      <td>12.688763</td>\n",
       "      <td>55.787034</td>\n",
       "      <td>69.894786</td>\n",
       "      <td>90.585326</td>\n",
       "      <td>5.121478</td>\n",
       "    </tr>\n",
       "  </tbody>\n",
       "</table>\n",
       "</div>"
      ],
      "text/plain": [
       "     idade                              peso                                \n",
       "       min    mean max        std        min       mean        max       std\n",
       "sexo                                                                        \n",
       "f       16  37.848  59  12.519010  41.476696  51.030906  61.407399  4.174569\n",
       "m       16  37.483  59  12.688763  55.787034  69.894786  90.585326  5.121478"
      ]
     },
     "execution_count": 62,
     "metadata": {},
     "output_type": "execute_result"
    }
   ],
   "source": [
    "df.groupby('sexo').agg({'idade': ops, 'peso': ops})"
   ]
  },
  {
   "cell_type": "code",
   "execution_count": 63,
   "metadata": {
    "hidden": true
   },
   "outputs": [
    {
     "data": {
      "text/html": [
       "<div>\n",
       "<style scoped>\n",
       "    .dataframe tbody tr th:only-of-type {\n",
       "        vertical-align: middle;\n",
       "    }\n",
       "\n",
       "    .dataframe tbody tr th {\n",
       "        vertical-align: top;\n",
       "    }\n",
       "\n",
       "    .dataframe thead th {\n",
       "        text-align: right;\n",
       "    }\n",
       "</style>\n",
       "<table border=\"1\" class=\"dataframe\">\n",
       "  <thead>\n",
       "    <tr style=\"text-align: right;\">\n",
       "      <th></th>\n",
       "      <th>peso</th>\n",
       "      <th>sexo</th>\n",
       "      <th>idade</th>\n",
       "    </tr>\n",
       "  </thead>\n",
       "  <tbody>\n",
       "    <tr>\n",
       "      <th>0</th>\n",
       "      <td>47.752317</td>\n",
       "      <td>f</td>\n",
       "      <td>18</td>\n",
       "    </tr>\n",
       "    <tr>\n",
       "      <th>1</th>\n",
       "      <td>63.697299</td>\n",
       "      <td>m</td>\n",
       "      <td>42</td>\n",
       "    </tr>\n",
       "    <tr>\n",
       "      <th>2</th>\n",
       "      <td>50.311009</td>\n",
       "      <td>f</td>\n",
       "      <td>30</td>\n",
       "    </tr>\n",
       "    <tr>\n",
       "      <th>3</th>\n",
       "      <td>52.309438</td>\n",
       "      <td>f</td>\n",
       "      <td>45</td>\n",
       "    </tr>\n",
       "    <tr>\n",
       "      <th>4</th>\n",
       "      <td>67.000687</td>\n",
       "      <td>m</td>\n",
       "      <td>31</td>\n",
       "    </tr>\n",
       "    <tr>\n",
       "      <th>...</th>\n",
       "      <td>...</td>\n",
       "      <td>...</td>\n",
       "      <td>...</td>\n",
       "    </tr>\n",
       "    <tr>\n",
       "      <th>1995</th>\n",
       "      <td>67.069968</td>\n",
       "      <td>m</td>\n",
       "      <td>56</td>\n",
       "    </tr>\n",
       "    <tr>\n",
       "      <th>1996</th>\n",
       "      <td>48.761862</td>\n",
       "      <td>f</td>\n",
       "      <td>22</td>\n",
       "    </tr>\n",
       "    <tr>\n",
       "      <th>1997</th>\n",
       "      <td>50.813061</td>\n",
       "      <td>f</td>\n",
       "      <td>52</td>\n",
       "    </tr>\n",
       "    <tr>\n",
       "      <th>1998</th>\n",
       "      <td>76.785077</td>\n",
       "      <td>m</td>\n",
       "      <td>43</td>\n",
       "    </tr>\n",
       "    <tr>\n",
       "      <th>1999</th>\n",
       "      <td>77.327759</td>\n",
       "      <td>m</td>\n",
       "      <td>48</td>\n",
       "    </tr>\n",
       "  </tbody>\n",
       "</table>\n",
       "<p>2000 rows × 3 columns</p>\n",
       "</div>"
      ],
      "text/plain": [
       "           peso sexo  idade\n",
       "0     47.752317    f     18\n",
       "1     63.697299    m     42\n",
       "2     50.311009    f     30\n",
       "3     52.309438    f     45\n",
       "4     67.000687    m     31\n",
       "...         ...  ...    ...\n",
       "1995  67.069968    m     56\n",
       "1996  48.761862    f     22\n",
       "1997  50.813061    f     52\n",
       "1998  76.785077    m     43\n",
       "1999  77.327759    m     48\n",
       "\n",
       "[2000 rows x 3 columns]"
      ]
     },
     "execution_count": 63,
     "metadata": {},
     "output_type": "execute_result"
    }
   ],
   "source": [
    "df"
   ]
  },
  {
   "cell_type": "markdown",
   "metadata": {
    "heading_collapsed": true,
    "hidden": true
   },
   "source": [
    "## Separar o df em dois: \n",
    "* mdf: contendo só o recorte de sexo == 'm'\n",
    "* fdf: contendo só o recorte de sexo == 'f'"
   ]
  },
  {
   "cell_type": "code",
   "execution_count": 64,
   "metadata": {
    "hidden": true
   },
   "outputs": [],
   "source": [
    "mask_m = df['sexo'] == 'm'\n",
    "mask_f = df['sexo'] == 'f'"
   ]
  },
  {
   "cell_type": "code",
   "execution_count": 65,
   "metadata": {
    "hidden": true
   },
   "outputs": [],
   "source": [
    "mdf = df[mask_m]\n",
    "fdf = df[mask_f]"
   ]
  },
  {
   "cell_type": "markdown",
   "metadata": {
    "heading_collapsed": true,
    "hidden": true
   },
   "source": [
    "## Plotando a distribuição"
   ]
  },
  {
   "cell_type": "code",
   "execution_count": 66,
   "metadata": {
    "hidden": true
   },
   "outputs": [
    {
     "data": {
      "text/plain": [
       "<matplotlib.legend.Legend at 0x27a2bf439d0>"
      ]
     },
     "execution_count": 66,
     "metadata": {},
     "output_type": "execute_result"
    },
    {
     "data": {
      "image/png": "[encoded data removed]",
      "text/plain": [
       "<Figure size 432x288 with 1 Axes>"
      ]
     },
     "metadata": {
      "needs_background": "light"
     },
     "output_type": "display_data"
    }
   ],
   "source": [
    "sns.distplot(mdf['peso'], label='M')\n",
    "sns.distplot(fdf['peso'], label='F')\n",
    "plt.legend()"
   ]
  },
  {
   "cell_type": "markdown",
   "metadata": {
    "hidden": true
   },
   "source": [
    "Olha aquela ponta ali..."
   ]
  },
  {
   "cell_type": "markdown",
   "metadata": {
    "heading_collapsed": true,
    "hidden": true
   },
   "source": [
    "## Identificando o grupo."
   ]
  },
  {
   "cell_type": "code",
   "execution_count": 67,
   "metadata": {
    "hidden": true
   },
   "outputs": [],
   "source": [
    "df = pd.read_csv('pesos.csv')\n",
    "mdf = df[df['sexo'] == 'm'].copy()\n",
    "fdf = df[df['sexo'] == 'f'].copy()\n"
   ]
  },
  {
   "cell_type": "code",
   "execution_count": 68,
   "metadata": {
    "hidden": true
   },
   "outputs": [
    {
     "data": {
      "text/plain": [
       "peso     0\n",
       "sexo     0\n",
       "idade    0\n",
       "dtype: int64"
      ]
     },
     "execution_count": 68,
     "metadata": {},
     "output_type": "execute_result"
    }
   ],
   "source": [
    "mdf.isnull().sum()"
   ]
  },
  {
   "cell_type": "code",
   "execution_count": 69,
   "metadata": {
    "hidden": true
   },
   "outputs": [
    {
     "data": {
      "text/plain": [
       "peso     93\n",
       "sexo      0\n",
       "idade     0\n",
       "dtype: int64"
      ]
     },
     "execution_count": 69,
     "metadata": {},
     "output_type": "execute_result"
    }
   ],
   "source": [
    "fdf.isnull().sum()"
   ]
  },
  {
   "cell_type": "code",
   "execution_count": 70,
   "metadata": {
    "hidden": true
   },
   "outputs": [],
   "source": [
    "fdf.fillna(fdf['peso'].mean(), inplace=True)"
   ]
  },
  {
   "cell_type": "code",
   "execution_count": 71,
   "metadata": {
    "hidden": true
   },
   "outputs": [
    {
     "data": {
      "text/plain": [
       "<matplotlib.legend.Legend at 0x27a2c016e80>"
      ]
     },
     "execution_count": 71,
     "metadata": {},
     "output_type": "execute_result"
    },
    {
     "data": {
      "image/png": "[encoded data removed]",
      "text/plain": [
       "<Figure size 432x288 with 1 Axes>"
      ]
     },
     "metadata": {
      "needs_background": "light"
     },
     "output_type": "display_data"
    }
   ],
   "source": [
    "sns.distplot(mdf['peso'], label='M')\n",
    "sns.distplot(fdf['peso'], label='F')\n",
    "plt.legend()"
   ]
  },
  {
   "cell_type": "markdown",
   "metadata": {
    "heading_collapsed": true,
    "hidden": true
   },
   "source": [
    "## Ainda existem possibilidades para o fillna\n",
    "\n",
    "* method='ffill'\n",
    "* method='bfill'"
   ]
  },
  {
   "cell_type": "code",
   "execution_count": 152,
   "metadata": {
    "hidden": true
   },
   "outputs": [
    {
     "data": {
      "text/html": [
       "<div>\n",
       "<style scoped>\n",
       "    .dataframe tbody tr th:only-of-type {\n",
       "        vertical-align: middle;\n",
       "    }\n",
       "\n",
       "    .dataframe tbody tr th {\n",
       "        vertical-align: top;\n",
       "    }\n",
       "\n",
       "    .dataframe thead th {\n",
       "        text-align: right;\n",
       "    }\n",
       "</style>\n",
       "<table border=\"1\" class=\"dataframe\">\n",
       "  <thead>\n",
       "    <tr style=\"text-align: right;\">\n",
       "      <th></th>\n",
       "      <th>A</th>\n",
       "    </tr>\n",
       "  </thead>\n",
       "  <tbody>\n",
       "    <tr>\n",
       "      <th>0</th>\n",
       "      <td>0.0</td>\n",
       "    </tr>\n",
       "    <tr>\n",
       "      <th>1</th>\n",
       "      <td>1.0</td>\n",
       "    </tr>\n",
       "    <tr>\n",
       "      <th>2</th>\n",
       "      <td>2.0</td>\n",
       "    </tr>\n",
       "    <tr>\n",
       "      <th>3</th>\n",
       "      <td>NaN</td>\n",
       "    </tr>\n",
       "    <tr>\n",
       "      <th>4</th>\n",
       "      <td>NaN</td>\n",
       "    </tr>\n",
       "    <tr>\n",
       "      <th>5</th>\n",
       "      <td>NaN</td>\n",
       "    </tr>\n",
       "    <tr>\n",
       "      <th>6</th>\n",
       "      <td>6.0</td>\n",
       "    </tr>\n",
       "    <tr>\n",
       "      <th>7</th>\n",
       "      <td>7.0</td>\n",
       "    </tr>\n",
       "    <tr>\n",
       "      <th>8</th>\n",
       "      <td>8.0</td>\n",
       "    </tr>\n",
       "    <tr>\n",
       "      <th>9</th>\n",
       "      <td>9.0</td>\n",
       "    </tr>\n",
       "  </tbody>\n",
       "</table>\n",
       "</div>"
      ],
      "text/plain": [
       "     A\n",
       "0  0.0\n",
       "1  1.0\n",
       "2  2.0\n",
       "3  NaN\n",
       "4  NaN\n",
       "5  NaN\n",
       "6  6.0\n",
       "7  7.0\n",
       "8  8.0\n",
       "9  9.0"
      ]
     },
     "execution_count": 152,
     "metadata": {},
     "output_type": "execute_result"
    }
   ],
   "source": [
    "a = pd.DataFrame(np.arange(10), columns=['A'])\n",
    "a.loc[3:5] = None\n",
    "a"
   ]
  },
  {
   "cell_type": "code",
   "execution_count": 154,
   "metadata": {
    "hidden": true
   },
   "outputs": [
    {
     "data": {
      "text/html": [
       "<div>\n",
       "<style scoped>\n",
       "    .dataframe tbody tr th:only-of-type {\n",
       "        vertical-align: middle;\n",
       "    }\n",
       "\n",
       "    .dataframe tbody tr th {\n",
       "        vertical-align: top;\n",
       "    }\n",
       "\n",
       "    .dataframe thead th {\n",
       "        text-align: right;\n",
       "    }\n",
       "</style>\n",
       "<table border=\"1\" class=\"dataframe\">\n",
       "  <thead>\n",
       "    <tr style=\"text-align: right;\">\n",
       "      <th></th>\n",
       "      <th>A</th>\n",
       "    </tr>\n",
       "  </thead>\n",
       "  <tbody>\n",
       "    <tr>\n",
       "      <th>0</th>\n",
       "      <td>0.0</td>\n",
       "    </tr>\n",
       "    <tr>\n",
       "      <th>1</th>\n",
       "      <td>1.0</td>\n",
       "    </tr>\n",
       "    <tr>\n",
       "      <th>2</th>\n",
       "      <td>2.0</td>\n",
       "    </tr>\n",
       "    <tr>\n",
       "      <th>3</th>\n",
       "      <td>2.0</td>\n",
       "    </tr>\n",
       "    <tr>\n",
       "      <th>4</th>\n",
       "      <td>2.0</td>\n",
       "    </tr>\n",
       "    <tr>\n",
       "      <th>5</th>\n",
       "      <td>2.0</td>\n",
       "    </tr>\n",
       "    <tr>\n",
       "      <th>6</th>\n",
       "      <td>6.0</td>\n",
       "    </tr>\n",
       "    <tr>\n",
       "      <th>7</th>\n",
       "      <td>7.0</td>\n",
       "    </tr>\n",
       "    <tr>\n",
       "      <th>8</th>\n",
       "      <td>8.0</td>\n",
       "    </tr>\n",
       "    <tr>\n",
       "      <th>9</th>\n",
       "      <td>9.0</td>\n",
       "    </tr>\n",
       "  </tbody>\n",
       "</table>\n",
       "</div>"
      ],
      "text/plain": [
       "     A\n",
       "0  0.0\n",
       "1  1.0\n",
       "2  2.0\n",
       "3  2.0\n",
       "4  2.0\n",
       "5  2.0\n",
       "6  6.0\n",
       "7  7.0\n",
       "8  8.0\n",
       "9  9.0"
      ]
     },
     "execution_count": 154,
     "metadata": {},
     "output_type": "execute_result"
    }
   ],
   "source": [
    "a.fillna(method='ffill')"
   ]
  },
  {
   "cell_type": "code",
   "execution_count": 155,
   "metadata": {
    "hidden": true
   },
   "outputs": [
    {
     "data": {
      "text/html": [
       "<div>\n",
       "<style scoped>\n",
       "    .dataframe tbody tr th:only-of-type {\n",
       "        vertical-align: middle;\n",
       "    }\n",
       "\n",
       "    .dataframe tbody tr th {\n",
       "        vertical-align: top;\n",
       "    }\n",
       "\n",
       "    .dataframe thead th {\n",
       "        text-align: right;\n",
       "    }\n",
       "</style>\n",
       "<table border=\"1\" class=\"dataframe\">\n",
       "  <thead>\n",
       "    <tr style=\"text-align: right;\">\n",
       "      <th></th>\n",
       "      <th>A</th>\n",
       "    </tr>\n",
       "  </thead>\n",
       "  <tbody>\n",
       "    <tr>\n",
       "      <th>0</th>\n",
       "      <td>0.0</td>\n",
       "    </tr>\n",
       "    <tr>\n",
       "      <th>1</th>\n",
       "      <td>1.0</td>\n",
       "    </tr>\n",
       "    <tr>\n",
       "      <th>2</th>\n",
       "      <td>2.0</td>\n",
       "    </tr>\n",
       "    <tr>\n",
       "      <th>3</th>\n",
       "      <td>6.0</td>\n",
       "    </tr>\n",
       "    <tr>\n",
       "      <th>4</th>\n",
       "      <td>6.0</td>\n",
       "    </tr>\n",
       "    <tr>\n",
       "      <th>5</th>\n",
       "      <td>6.0</td>\n",
       "    </tr>\n",
       "    <tr>\n",
       "      <th>6</th>\n",
       "      <td>6.0</td>\n",
       "    </tr>\n",
       "    <tr>\n",
       "      <th>7</th>\n",
       "      <td>7.0</td>\n",
       "    </tr>\n",
       "    <tr>\n",
       "      <th>8</th>\n",
       "      <td>8.0</td>\n",
       "    </tr>\n",
       "    <tr>\n",
       "      <th>9</th>\n",
       "      <td>9.0</td>\n",
       "    </tr>\n",
       "  </tbody>\n",
       "</table>\n",
       "</div>"
      ],
      "text/plain": [
       "     A\n",
       "0  0.0\n",
       "1  1.0\n",
       "2  2.0\n",
       "3  6.0\n",
       "4  6.0\n",
       "5  6.0\n",
       "6  6.0\n",
       "7  7.0\n",
       "8  8.0\n",
       "9  9.0"
      ]
     },
     "execution_count": 155,
     "metadata": {},
     "output_type": "execute_result"
    }
   ],
   "source": [
    "a.fillna(method='bfill')"
   ]
  },
  {
   "cell_type": "code",
   "execution_count": null,
   "metadata": {
    "hidden": true
   },
   "outputs": [],
   "source": []
  }
 ],
 "metadata": {
  "kernelspec": {
   "display_name": "Python 3",
   "language": "python",
   "name": "python3"
  },
  "language_info": {
   "codemirror_mode": {
    "name": "ipython",
    "version": 3
   },
   "file_extension": ".py",
   "mimetype": "text/x-python",
   "name": "python",
   "nbconvert_exporter": "python",
   "pygments_lexer": "ipython3",
   "version": "3.8.2"
  },
  "toc": {
   "base_numbering": 1,
   "nav_menu": {},
   "number_sections": true,
   "sideBar": true,
   "skip_h1_title": false,
   "title_cell": "Table of Contents",
   "title_sidebar": "Contents",
   "toc_cell": false,
   "toc_position": {},
   "toc_section_display": true,
   "toc_window_display": false
  }
 },
 "nbformat": 4,
 "nbformat_minor": 4
}
