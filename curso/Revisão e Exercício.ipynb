{
 "cells": [
  {
   "cell_type": "markdown",
   "metadata": {},
   "source": [
    "![](https://miro.medium.com/max/1080/1*fUO28EIHi1bkZPhjZ451tQ.jpeg)"
   ]
  },
  {
   "cell_type": "code",
   "execution_count": 1,
   "metadata": {},
   "outputs": [],
   "source": [
    "import numpy as np\n",
    "import pandas as pd\n",
    "import matplotlib.pyplot as plt"
   ]
  },
  {
   "cell_type": "markdown",
   "metadata": {},
   "source": [
    "# Máscara para Busca de Strings"
   ]
  },
  {
   "cell_type": "code",
   "execution_count": 2,
   "metadata": {},
   "outputs": [
    {
     "data": {
      "text/html": [
       "<div>\n",
       "<style scoped>\n",
       "    .dataframe tbody tr th:only-of-type {\n",
       "        vertical-align: middle;\n",
       "    }\n",
       "\n",
       "    .dataframe tbody tr th {\n",
       "        vertical-align: top;\n",
       "    }\n",
       "\n",
       "    .dataframe thead th {\n",
       "        text-align: right;\n",
       "    }\n",
       "</style>\n",
       "<table border=\"1\" class=\"dataframe\">\n",
       "  <thead>\n",
       "    <tr style=\"text-align: right;\">\n",
       "      <th></th>\n",
       "      <th>nomes</th>\n",
       "      <th>idades</th>\n",
       "      <th>cidade</th>\n",
       "    </tr>\n",
       "  </thead>\n",
       "  <tbody>\n",
       "    <tr>\n",
       "      <th>0</th>\n",
       "      <td>Augusta da Silva</td>\n",
       "      <td>28</td>\n",
       "      <td>Boqueirão do Leão</td>\n",
       "    </tr>\n",
       "    <tr>\n",
       "      <th>1</th>\n",
       "      <td>Angústia Tássida</td>\n",
       "      <td>38</td>\n",
       "      <td>Palmitinho</td>\n",
       "    </tr>\n",
       "    <tr>\n",
       "      <th>2</th>\n",
       "      <td>Maurio Silva</td>\n",
       "      <td>15</td>\n",
       "      <td>Faxinal do Soturno</td>\n",
       "    </tr>\n",
       "    <tr>\n",
       "      <th>3</th>\n",
       "      <td>Critéria Elevada</td>\n",
       "      <td>64</td>\n",
       "      <td>Pinto Bandeira</td>\n",
       "    </tr>\n",
       "    <tr>\n",
       "      <th>4</th>\n",
       "      <td>Cândido Diase de Silva</td>\n",
       "      <td>91</td>\n",
       "      <td>Faxinalzinho</td>\n",
       "    </tr>\n",
       "  </tbody>\n",
       "</table>\n",
       "</div>"
      ],
      "text/plain": [
       "                    nomes  idades              cidade\n",
       "0        Augusta da Silva      28   Boqueirão do Leão\n",
       "1        Angústia Tássida      38          Palmitinho\n",
       "2            Maurio Silva      15  Faxinal do Soturno\n",
       "3        Critéria Elevada      64      Pinto Bandeira\n",
       "4  Cândido Diase de Silva      91        Faxinalzinho"
      ]
     },
     "execution_count": 2,
     "metadata": {},
     "output_type": "execute_result"
    }
   ],
   "source": [
    "data = {\n",
    "    'nomes':['Augusta da Silva', 'Angústia Tássida',\n",
    "             'Maurio Silva', 'Critéria Elevada',\n",
    "             'Cândido Diase de Silva'],\n",
    "    'idades': [28, 38, 15, 64, 91],\n",
    "    'cidade': ['Boqueirão do Leão', 'Palmitinho', 'Faxinal do Soturno', 'Pinto Bandeira', 'Faxinalzinho']\n",
    "}\n",
    "df = pd.DataFrame(data)\n",
    "df"
   ]
  },
  {
   "cell_type": "code",
   "execution_count": 3,
   "metadata": {},
   "outputs": [],
   "source": [
    "mask_silva = df['nomes'].str.contains('Silva')"
   ]
  },
  {
   "cell_type": "code",
   "execution_count": 4,
   "metadata": {},
   "outputs": [
    {
     "data": {
      "text/plain": [
       "0     True\n",
       "1    False\n",
       "2     True\n",
       "3    False\n",
       "4     True\n",
       "Name: nomes, dtype: bool"
      ]
     },
     "execution_count": 4,
     "metadata": {},
     "output_type": "execute_result"
    }
   ],
   "source": [
    "mask_silva"
   ]
  },
  {
   "cell_type": "code",
   "execution_count": 5,
   "metadata": {},
   "outputs": [
    {
     "data": {
      "text/html": [
       "<div>\n",
       "<style scoped>\n",
       "    .dataframe tbody tr th:only-of-type {\n",
       "        vertical-align: middle;\n",
       "    }\n",
       "\n",
       "    .dataframe tbody tr th {\n",
       "        vertical-align: top;\n",
       "    }\n",
       "\n",
       "    .dataframe thead th {\n",
       "        text-align: right;\n",
       "    }\n",
       "</style>\n",
       "<table border=\"1\" class=\"dataframe\">\n",
       "  <thead>\n",
       "    <tr style=\"text-align: right;\">\n",
       "      <th></th>\n",
       "      <th>nomes</th>\n",
       "      <th>idades</th>\n",
       "      <th>cidade</th>\n",
       "    </tr>\n",
       "  </thead>\n",
       "  <tbody>\n",
       "    <tr>\n",
       "      <th>0</th>\n",
       "      <td>Augusta da Silva</td>\n",
       "      <td>28</td>\n",
       "      <td>Boqueirão do Leão</td>\n",
       "    </tr>\n",
       "    <tr>\n",
       "      <th>2</th>\n",
       "      <td>Maurio Silva</td>\n",
       "      <td>15</td>\n",
       "      <td>Faxinal do Soturno</td>\n",
       "    </tr>\n",
       "    <tr>\n",
       "      <th>4</th>\n",
       "      <td>Cândido Diase de Silva</td>\n",
       "      <td>91</td>\n",
       "      <td>Faxinalzinho</td>\n",
       "    </tr>\n",
       "  </tbody>\n",
       "</table>\n",
       "</div>"
      ],
      "text/plain": [
       "                    nomes  idades              cidade\n",
       "0        Augusta da Silva      28   Boqueirão do Leão\n",
       "2            Maurio Silva      15  Faxinal do Soturno\n",
       "4  Cândido Diase de Silva      91        Faxinalzinho"
      ]
     },
     "execution_count": 5,
     "metadata": {},
     "output_type": "execute_result"
    }
   ],
   "source": [
    "df[mask_silva]"
   ]
  },
  {
   "cell_type": "code",
   "execution_count": 6,
   "metadata": {},
   "outputs": [
    {
     "data": {
      "text/plain": [
       "'AAAAAAAAAAAAAA'"
      ]
     },
     "execution_count": 6,
     "metadata": {},
     "output_type": "execute_result"
    }
   ],
   "source": [
    "'AAAAAAaaaaAAAA'.upper()"
   ]
  },
  {
   "cell_type": "code",
   "execution_count": 7,
   "metadata": {},
   "outputs": [
    {
     "data": {
      "text/plain": [
       "0          augusta da silva\n",
       "1          angústia tássida\n",
       "2              maurio silva\n",
       "3          critéria elevada\n",
       "4    cândido diase de silva\n",
       "Name: nomes, dtype: object"
      ]
     },
     "execution_count": 7,
     "metadata": {},
     "output_type": "execute_result"
    }
   ],
   "source": [
    "df['nomes'].apply(lambda d: d.lower())"
   ]
  },
  {
   "cell_type": "code",
   "execution_count": 8,
   "metadata": {},
   "outputs": [],
   "source": [
    "def to_lower(string):\n",
    "    return string.lower()"
   ]
  },
  {
   "cell_type": "code",
   "execution_count": 9,
   "metadata": {},
   "outputs": [
    {
     "data": {
      "text/html": [
       "<div>\n",
       "<style scoped>\n",
       "    .dataframe tbody tr th:only-of-type {\n",
       "        vertical-align: middle;\n",
       "    }\n",
       "\n",
       "    .dataframe tbody tr th {\n",
       "        vertical-align: top;\n",
       "    }\n",
       "\n",
       "    .dataframe thead th {\n",
       "        text-align: right;\n",
       "    }\n",
       "</style>\n",
       "<table border=\"1\" class=\"dataframe\">\n",
       "  <thead>\n",
       "    <tr style=\"text-align: right;\">\n",
       "      <th></th>\n",
       "      <th>nomes</th>\n",
       "      <th>idades</th>\n",
       "      <th>cidade</th>\n",
       "    </tr>\n",
       "  </thead>\n",
       "  <tbody>\n",
       "    <tr>\n",
       "      <th>0</th>\n",
       "      <td>Augusta da Silva</td>\n",
       "      <td>28</td>\n",
       "      <td>Boqueirão do Leão</td>\n",
       "    </tr>\n",
       "    <tr>\n",
       "      <th>2</th>\n",
       "      <td>Maurio Silva</td>\n",
       "      <td>15</td>\n",
       "      <td>Faxinal do Soturno</td>\n",
       "    </tr>\n",
       "    <tr>\n",
       "      <th>4</th>\n",
       "      <td>Cândido Diase de Silva</td>\n",
       "      <td>91</td>\n",
       "      <td>Faxinalzinho</td>\n",
       "    </tr>\n",
       "  </tbody>\n",
       "</table>\n",
       "</div>"
      ],
      "text/plain": [
       "                    nomes  idades              cidade\n",
       "0        Augusta da Silva      28   Boqueirão do Leão\n",
       "2            Maurio Silva      15  Faxinal do Soturno\n",
       "4  Cândido Diase de Silva      91        Faxinalzinho"
      ]
     },
     "execution_count": 9,
     "metadata": {},
     "output_type": "execute_result"
    }
   ],
   "source": [
    "df[df['nomes'].apply(to_lower).str.contains('silva'.lower())]"
   ]
  },
  {
   "cell_type": "markdown",
   "metadata": {},
   "source": [
    "## Caso bizarro"
   ]
  },
  {
   "cell_type": "code",
   "execution_count": 11,
   "metadata": {},
   "outputs": [
    {
     "name": "stdout",
     "output_type": "stream",
     "text": [
      "Collecting package metadata (current_repodata.json): ...working... done\n",
      "Solving environment: ...working... done\n",
      "\n",
      "## Package Plan ##\n",
      "\n",
      "Note: you may need to restart the kernel to use updated packages.\n",
      "\n",
      "  environment location: C:\\Users\\Vilquer\\anaconda3\\envs\\oracle\n",
      "\n",
      "  added / updated specs:\n",
      "    - unidecode\n",
      "\n",
      "\n",
      "The following packages will be downloaded:\n",
      "\n",
      "    package                    |            build\n",
      "    ---------------------------|-----------------\n",
      "    unidecode-1.1.1            |             py_0         155 KB\n",
      "    ------------------------------------------------------------\n",
      "                                           Total:         155 KB\n",
      "\n",
      "The following NEW packages will be INSTALLED:\n",
      "\n",
      "  unidecode          pkgs/main/noarch::unidecode-1.1.1-py_0\n",
      "\n",
      "\n",
      "\n",
      "Downloading and Extracting Packages\n",
      "\n",
      "unidecode-1.1.1      | 155 KB    |            |   0% \n",
      "unidecode-1.1.1      | 155 KB    | #          |  10% \n",
      "unidecode-1.1.1      | 155 KB    | ########## | 100% \n",
      "Preparing transaction: ...working... done\n",
      "Verifying transaction: ...working... done\n",
      "Executing transaction: ...working... done\n"
     ]
    }
   ],
   "source": [
    "conda install unidecode"
   ]
  },
  {
   "cell_type": "code",
   "execution_count": 12,
   "metadata": {},
   "outputs": [],
   "source": [
    "from unidecode import unidecode"
   ]
  },
  {
   "cell_type": "code",
   "execution_count": 13,
   "metadata": {},
   "outputs": [],
   "source": [
    "def preprocessa(string):\n",
    "    string = string.lower()\n",
    "    string = unidecode(string)\n",
    "    return string"
   ]
  },
  {
   "cell_type": "code",
   "execution_count": 14,
   "metadata": {},
   "outputs": [
    {
     "data": {
      "text/plain": [
       "'khefercao'"
      ]
     },
     "execution_count": 14,
     "metadata": {},
     "output_type": "execute_result"
    }
   ],
   "source": [
    "string_de_busca = 'KhÉfÉrÇãO'\n",
    "preprocessa(string_de_busca)"
   ]
  },
  {
   "cell_type": "code",
   "execution_count": 20,
   "metadata": {},
   "outputs": [
    {
     "name": "stdin",
     "output_type": "stream",
     "text": [
      " sss\n"
     ]
    },
    {
     "data": {
      "text/html": [
       "<div>\n",
       "<style scoped>\n",
       "    .dataframe tbody tr th:only-of-type {\n",
       "        vertical-align: middle;\n",
       "    }\n",
       "\n",
       "    .dataframe tbody tr th {\n",
       "        vertical-align: top;\n",
       "    }\n",
       "\n",
       "    .dataframe thead th {\n",
       "        text-align: right;\n",
       "    }\n",
       "</style>\n",
       "<table border=\"1\" class=\"dataframe\">\n",
       "  <thead>\n",
       "    <tr style=\"text-align: right;\">\n",
       "      <th></th>\n",
       "      <th>nomes</th>\n",
       "      <th>idades</th>\n",
       "      <th>cidade</th>\n",
       "    </tr>\n",
       "  </thead>\n",
       "  <tbody>\n",
       "  </tbody>\n",
       "</table>\n",
       "</div>"
      ],
      "text/plain": [
       "Empty DataFrame\n",
       "Columns: [nomes, idades, cidade]\n",
       "Index: []"
      ]
     },
     "execution_count": 20,
     "metadata": {},
     "output_type": "execute_result"
    }
   ],
   "source": [
    "mask = df['nomes'].apply(preprocessa).str.contains(preprocessa(input()))\n",
    "df[mask]"
   ]
  },
  {
   "cell_type": "markdown",
   "metadata": {},
   "source": [
    "# .to_brazuca  (.to_csv)"
   ]
  },
  {
   "cell_type": "code",
   "execution_count": 21,
   "metadata": {},
   "outputs": [],
   "source": [
    "df['salario'] = 5 * np.random.rand(5) * 1031.00"
   ]
  },
  {
   "cell_type": "markdown",
   "metadata": {},
   "source": [
    "## Para escrever"
   ]
  },
  {
   "cell_type": "code",
   "execution_count": 22,
   "metadata": {},
   "outputs": [],
   "source": [
    "df.to_csv('nomes.csv', sep=';', decimal=',', index=False)"
   ]
  },
  {
   "cell_type": "markdown",
   "metadata": {},
   "source": [
    "## Para ler"
   ]
  },
  {
   "cell_type": "code",
   "execution_count": 23,
   "metadata": {},
   "outputs": [
    {
     "data": {
      "text/html": [
       "<div>\n",
       "<style scoped>\n",
       "    .dataframe tbody tr th:only-of-type {\n",
       "        vertical-align: middle;\n",
       "    }\n",
       "\n",
       "    .dataframe tbody tr th {\n",
       "        vertical-align: top;\n",
       "    }\n",
       "\n",
       "    .dataframe thead th {\n",
       "        text-align: right;\n",
       "    }\n",
       "</style>\n",
       "<table border=\"1\" class=\"dataframe\">\n",
       "  <thead>\n",
       "    <tr style=\"text-align: right;\">\n",
       "      <th></th>\n",
       "      <th>nomes</th>\n",
       "      <th>idades</th>\n",
       "      <th>cidade</th>\n",
       "      <th>salario</th>\n",
       "    </tr>\n",
       "  </thead>\n",
       "  <tbody>\n",
       "    <tr>\n",
       "      <th>0</th>\n",
       "      <td>Augusta da Silva</td>\n",
       "      <td>28</td>\n",
       "      <td>Boqueirão do Leão</td>\n",
       "      <td>2394.909523</td>\n",
       "    </tr>\n",
       "    <tr>\n",
       "      <th>1</th>\n",
       "      <td>Angústia Tássida</td>\n",
       "      <td>38</td>\n",
       "      <td>Palmitinho</td>\n",
       "      <td>1998.694403</td>\n",
       "    </tr>\n",
       "    <tr>\n",
       "      <th>2</th>\n",
       "      <td>Maurio Silva</td>\n",
       "      <td>15</td>\n",
       "      <td>Faxinal do Soturno</td>\n",
       "      <td>984.925221</td>\n",
       "    </tr>\n",
       "    <tr>\n",
       "      <th>3</th>\n",
       "      <td>Critéria Elevada</td>\n",
       "      <td>64</td>\n",
       "      <td>Pinto Bandeira</td>\n",
       "      <td>171.189687</td>\n",
       "    </tr>\n",
       "    <tr>\n",
       "      <th>4</th>\n",
       "      <td>Cândido Diase de Silva</td>\n",
       "      <td>91</td>\n",
       "      <td>Faxinalzinho</td>\n",
       "      <td>199.735861</td>\n",
       "    </tr>\n",
       "  </tbody>\n",
       "</table>\n",
       "</div>"
      ],
      "text/plain": [
       "                    nomes  idades              cidade      salario\n",
       "0        Augusta da Silva      28   Boqueirão do Leão  2394.909523\n",
       "1        Angústia Tássida      38          Palmitinho  1998.694403\n",
       "2            Maurio Silva      15  Faxinal do Soturno   984.925221\n",
       "3        Critéria Elevada      64      Pinto Bandeira   171.189687\n",
       "4  Cândido Diase de Silva      91        Faxinalzinho   199.735861"
      ]
     },
     "execution_count": 23,
     "metadata": {},
     "output_type": "execute_result"
    }
   ],
   "source": [
    "pd.read_csv('nomes.csv', decimal=',', sep=';')"
   ]
  },
  {
   "cell_type": "markdown",
   "metadata": {},
   "source": [
    "# Revisão"
   ]
  },
  {
   "cell_type": "markdown",
   "metadata": {},
   "source": [
    "## Criar um DataFrame a partir do dicionário que contenha:\n",
    "\n",
    "* 'A': array de 100 números aleatórios variando entre 1 a 5\n",
    "* 'B': array de 100 números aleatórios entre 0 e 1"
   ]
  },
  {
   "cell_type": "code",
   "execution_count": 24,
   "metadata": {},
   "outputs": [
    {
     "data": {
      "text/html": [
       "<div>\n",
       "<style scoped>\n",
       "    .dataframe tbody tr th:only-of-type {\n",
       "        vertical-align: middle;\n",
       "    }\n",
       "\n",
       "    .dataframe tbody tr th {\n",
       "        vertical-align: top;\n",
       "    }\n",
       "\n",
       "    .dataframe thead th {\n",
       "        text-align: right;\n",
       "    }\n",
       "</style>\n",
       "<table border=\"1\" class=\"dataframe\">\n",
       "  <thead>\n",
       "    <tr style=\"text-align: right;\">\n",
       "      <th></th>\n",
       "      <th>A</th>\n",
       "      <th>B</th>\n",
       "    </tr>\n",
       "  </thead>\n",
       "  <tbody>\n",
       "    <tr>\n",
       "      <th>0</th>\n",
       "      <td>1</td>\n",
       "      <td>0.805533</td>\n",
       "    </tr>\n",
       "    <tr>\n",
       "      <th>1</th>\n",
       "      <td>1</td>\n",
       "      <td>0.018777</td>\n",
       "    </tr>\n",
       "    <tr>\n",
       "      <th>2</th>\n",
       "      <td>1</td>\n",
       "      <td>0.338547</td>\n",
       "    </tr>\n",
       "    <tr>\n",
       "      <th>3</th>\n",
       "      <td>3</td>\n",
       "      <td>0.567203</td>\n",
       "    </tr>\n",
       "    <tr>\n",
       "      <th>4</th>\n",
       "      <td>2</td>\n",
       "      <td>0.584712</td>\n",
       "    </tr>\n",
       "    <tr>\n",
       "      <th>...</th>\n",
       "      <td>...</td>\n",
       "      <td>...</td>\n",
       "    </tr>\n",
       "    <tr>\n",
       "      <th>95</th>\n",
       "      <td>2</td>\n",
       "      <td>0.609506</td>\n",
       "    </tr>\n",
       "    <tr>\n",
       "      <th>96</th>\n",
       "      <td>4</td>\n",
       "      <td>0.491232</td>\n",
       "    </tr>\n",
       "    <tr>\n",
       "      <th>97</th>\n",
       "      <td>1</td>\n",
       "      <td>0.371002</td>\n",
       "    </tr>\n",
       "    <tr>\n",
       "      <th>98</th>\n",
       "      <td>1</td>\n",
       "      <td>0.196141</td>\n",
       "    </tr>\n",
       "    <tr>\n",
       "      <th>99</th>\n",
       "      <td>2</td>\n",
       "      <td>0.948202</td>\n",
       "    </tr>\n",
       "  </tbody>\n",
       "</table>\n",
       "<p>100 rows × 2 columns</p>\n",
       "</div>"
      ],
      "text/plain": [
       "    A         B\n",
       "0   1  0.805533\n",
       "1   1  0.018777\n",
       "2   1  0.338547\n",
       "3   3  0.567203\n",
       "4   2  0.584712\n",
       ".. ..       ...\n",
       "95  2  0.609506\n",
       "96  4  0.491232\n",
       "97  1  0.371002\n",
       "98  1  0.196141\n",
       "99  2  0.948202\n",
       "\n",
       "[100 rows x 2 columns]"
      ]
     },
     "execution_count": 24,
     "metadata": {},
     "output_type": "execute_result"
    }
   ],
   "source": [
    "data = {\n",
    "    'A': np.random.randint(1, 5, 100),\n",
    "    'B': np.random.rand(100)\n",
    "}\n",
    "df = pd.DataFrame(data)\n",
    "df"
   ]
  },
  {
   "cell_type": "markdown",
   "metadata": {},
   "source": [
    "## Acessar e modificar:\n",
    "\n",
    "* Index de 10 a 20, valores de \"A\" para 101\n",
    "* Index 87, valor de \"B\" para 1.2"
   ]
  },
  {
   "cell_type": "code",
   "execution_count": 25,
   "metadata": {},
   "outputs": [
    {
     "data": {
      "text/plain": [
       "A    1.000000\n",
       "B    0.406814\n",
       "Name: 87, dtype: float64"
      ]
     },
     "execution_count": 25,
     "metadata": {},
     "output_type": "execute_result"
    }
   ],
   "source": [
    "df.iloc[87]"
   ]
  },
  {
   "cell_type": "code",
   "execution_count": 26,
   "metadata": {},
   "outputs": [],
   "source": [
    "pd.options.display.max_rows = 10"
   ]
  },
  {
   "cell_type": "code",
   "execution_count": 27,
   "metadata": {},
   "outputs": [
    {
     "data": {
      "text/html": [
       "<div>\n",
       "<style scoped>\n",
       "    .dataframe tbody tr th:only-of-type {\n",
       "        vertical-align: middle;\n",
       "    }\n",
       "\n",
       "    .dataframe tbody tr th {\n",
       "        vertical-align: top;\n",
       "    }\n",
       "\n",
       "    .dataframe thead th {\n",
       "        text-align: right;\n",
       "    }\n",
       "</style>\n",
       "<table border=\"1\" class=\"dataframe\">\n",
       "  <thead>\n",
       "    <tr style=\"text-align: right;\">\n",
       "      <th></th>\n",
       "      <th>A</th>\n",
       "      <th>B</th>\n",
       "    </tr>\n",
       "  </thead>\n",
       "  <tbody>\n",
       "    <tr>\n",
       "      <th>0</th>\n",
       "      <td>1</td>\n",
       "      <td>0.805533</td>\n",
       "    </tr>\n",
       "    <tr>\n",
       "      <th>1</th>\n",
       "      <td>1</td>\n",
       "      <td>0.018777</td>\n",
       "    </tr>\n",
       "    <tr>\n",
       "      <th>2</th>\n",
       "      <td>1</td>\n",
       "      <td>0.338547</td>\n",
       "    </tr>\n",
       "    <tr>\n",
       "      <th>3</th>\n",
       "      <td>3</td>\n",
       "      <td>0.567203</td>\n",
       "    </tr>\n",
       "    <tr>\n",
       "      <th>4</th>\n",
       "      <td>2</td>\n",
       "      <td>0.584712</td>\n",
       "    </tr>\n",
       "    <tr>\n",
       "      <th>...</th>\n",
       "      <td>...</td>\n",
       "      <td>...</td>\n",
       "    </tr>\n",
       "    <tr>\n",
       "      <th>95</th>\n",
       "      <td>2</td>\n",
       "      <td>0.609506</td>\n",
       "    </tr>\n",
       "    <tr>\n",
       "      <th>96</th>\n",
       "      <td>4</td>\n",
       "      <td>0.491232</td>\n",
       "    </tr>\n",
       "    <tr>\n",
       "      <th>97</th>\n",
       "      <td>1</td>\n",
       "      <td>0.371002</td>\n",
       "    </tr>\n",
       "    <tr>\n",
       "      <th>98</th>\n",
       "      <td>1</td>\n",
       "      <td>0.196141</td>\n",
       "    </tr>\n",
       "    <tr>\n",
       "      <th>99</th>\n",
       "      <td>2</td>\n",
       "      <td>0.948202</td>\n",
       "    </tr>\n",
       "  </tbody>\n",
       "</table>\n",
       "<p>100 rows × 2 columns</p>\n",
       "</div>"
      ],
      "text/plain": [
       "    A         B\n",
       "0   1  0.805533\n",
       "1   1  0.018777\n",
       "2   1  0.338547\n",
       "3   3  0.567203\n",
       "4   2  0.584712\n",
       ".. ..       ...\n",
       "95  2  0.609506\n",
       "96  4  0.491232\n",
       "97  1  0.371002\n",
       "98  1  0.196141\n",
       "99  2  0.948202\n",
       "\n",
       "[100 rows x 2 columns]"
      ]
     },
     "execution_count": 27,
     "metadata": {},
     "output_type": "execute_result"
    }
   ],
   "source": [
    "df"
   ]
  },
  {
   "cell_type": "code",
   "execution_count": 28,
   "metadata": {},
   "outputs": [],
   "source": [
    "df.loc[10:20, 'A'] = 101"
   ]
  },
  {
   "cell_type": "code",
   "execution_count": 29,
   "metadata": {},
   "outputs": [],
   "source": [
    "df.loc[87, 'B'] = 1.2"
   ]
  },
  {
   "cell_type": "markdown",
   "metadata": {},
   "source": [
    "## Criar as colunas:\n",
    "\n",
    "* \"C\" que é o resultado do produto entre \"A\" e \"B\"\n",
    "* \"D\" que é o resultado de \"C\" com \"B\"\n",
    "* \"E\" que é o resultado de \"D\" com \"C\""
   ]
  },
  {
   "cell_type": "code",
   "execution_count": 30,
   "metadata": {},
   "outputs": [
    {
     "data": {
      "text/html": [
       "<div>\n",
       "<style scoped>\n",
       "    .dataframe tbody tr th:only-of-type {\n",
       "        vertical-align: middle;\n",
       "    }\n",
       "\n",
       "    .dataframe tbody tr th {\n",
       "        vertical-align: top;\n",
       "    }\n",
       "\n",
       "    .dataframe thead th {\n",
       "        text-align: right;\n",
       "    }\n",
       "</style>\n",
       "<table border=\"1\" class=\"dataframe\">\n",
       "  <thead>\n",
       "    <tr style=\"text-align: right;\">\n",
       "      <th></th>\n",
       "      <th>A</th>\n",
       "      <th>B</th>\n",
       "      <th>C</th>\n",
       "      <th>D</th>\n",
       "      <th>E</th>\n",
       "    </tr>\n",
       "  </thead>\n",
       "  <tbody>\n",
       "    <tr>\n",
       "      <th>0</th>\n",
       "      <td>1</td>\n",
       "      <td>0.805533</td>\n",
       "      <td>0.805533</td>\n",
       "      <td>0.648884</td>\n",
       "      <td>0.522698</td>\n",
       "    </tr>\n",
       "    <tr>\n",
       "      <th>1</th>\n",
       "      <td>1</td>\n",
       "      <td>0.018777</td>\n",
       "      <td>0.018777</td>\n",
       "      <td>0.000353</td>\n",
       "      <td>0.000007</td>\n",
       "    </tr>\n",
       "    <tr>\n",
       "      <th>2</th>\n",
       "      <td>1</td>\n",
       "      <td>0.338547</td>\n",
       "      <td>0.338547</td>\n",
       "      <td>0.114614</td>\n",
       "      <td>0.038802</td>\n",
       "    </tr>\n",
       "    <tr>\n",
       "      <th>3</th>\n",
       "      <td>3</td>\n",
       "      <td>0.567203</td>\n",
       "      <td>1.701608</td>\n",
       "      <td>0.965157</td>\n",
       "      <td>1.642319</td>\n",
       "    </tr>\n",
       "    <tr>\n",
       "      <th>4</th>\n",
       "      <td>2</td>\n",
       "      <td>0.584712</td>\n",
       "      <td>1.169425</td>\n",
       "      <td>0.683777</td>\n",
       "      <td>0.799625</td>\n",
       "    </tr>\n",
       "    <tr>\n",
       "      <th>...</th>\n",
       "      <td>...</td>\n",
       "      <td>...</td>\n",
       "      <td>...</td>\n",
       "      <td>...</td>\n",
       "      <td>...</td>\n",
       "    </tr>\n",
       "    <tr>\n",
       "      <th>95</th>\n",
       "      <td>2</td>\n",
       "      <td>0.609506</td>\n",
       "      <td>1.219013</td>\n",
       "      <td>0.742996</td>\n",
       "      <td>0.905721</td>\n",
       "    </tr>\n",
       "    <tr>\n",
       "      <th>96</th>\n",
       "      <td>4</td>\n",
       "      <td>0.491232</td>\n",
       "      <td>1.964926</td>\n",
       "      <td>0.965234</td>\n",
       "      <td>1.896614</td>\n",
       "    </tr>\n",
       "    <tr>\n",
       "      <th>97</th>\n",
       "      <td>1</td>\n",
       "      <td>0.371002</td>\n",
       "      <td>0.371002</td>\n",
       "      <td>0.137642</td>\n",
       "      <td>0.051066</td>\n",
       "    </tr>\n",
       "    <tr>\n",
       "      <th>98</th>\n",
       "      <td>1</td>\n",
       "      <td>0.196141</td>\n",
       "      <td>0.196141</td>\n",
       "      <td>0.038471</td>\n",
       "      <td>0.007546</td>\n",
       "    </tr>\n",
       "    <tr>\n",
       "      <th>99</th>\n",
       "      <td>2</td>\n",
       "      <td>0.948202</td>\n",
       "      <td>1.896404</td>\n",
       "      <td>1.798175</td>\n",
       "      <td>3.410067</td>\n",
       "    </tr>\n",
       "  </tbody>\n",
       "</table>\n",
       "<p>100 rows × 5 columns</p>\n",
       "</div>"
      ],
      "text/plain": [
       "    A         B         C         D         E\n",
       "0   1  0.805533  0.805533  0.648884  0.522698\n",
       "1   1  0.018777  0.018777  0.000353  0.000007\n",
       "2   1  0.338547  0.338547  0.114614  0.038802\n",
       "3   3  0.567203  1.701608  0.965157  1.642319\n",
       "4   2  0.584712  1.169425  0.683777  0.799625\n",
       ".. ..       ...       ...       ...       ...\n",
       "95  2  0.609506  1.219013  0.742996  0.905721\n",
       "96  4  0.491232  1.964926  0.965234  1.896614\n",
       "97  1  0.371002  0.371002  0.137642  0.051066\n",
       "98  1  0.196141  0.196141  0.038471  0.007546\n",
       "99  2  0.948202  1.896404  1.798175  3.410067\n",
       "\n",
       "[100 rows x 5 columns]"
      ]
     },
     "execution_count": 30,
     "metadata": {},
     "output_type": "execute_result"
    }
   ],
   "source": [
    "df['C'] = df['A'] * df['B']\n",
    "df['D'] = df['B'] * df['C']\n",
    "df['E'] = df['C'] * df['D']\n",
    "df"
   ]
  },
  {
   "cell_type": "markdown",
   "metadata": {},
   "source": [
    "## Dropar:\n",
    "* as linhas 2, 6 e 98\n",
    "* as colunas \"C\" e \"E\""
   ]
  },
  {
   "cell_type": "code",
   "execution_count": 31,
   "metadata": {},
   "outputs": [
    {
     "data": {
      "text/plain": [
       "RangeIndex(start=0, stop=100, step=1)"
      ]
     },
     "execution_count": 31,
     "metadata": {},
     "output_type": "execute_result"
    }
   ],
   "source": [
    "df.index"
   ]
  },
  {
   "cell_type": "code",
   "execution_count": 32,
   "metadata": {},
   "outputs": [],
   "source": [
    "bu = df.copy()"
   ]
  },
  {
   "cell_type": "code",
   "execution_count": 33,
   "metadata": {},
   "outputs": [],
   "source": [
    "df = df.drop(index=df.index[[2, 6, 98]])"
   ]
  },
  {
   "cell_type": "code",
   "execution_count": 34,
   "metadata": {},
   "outputs": [
    {
     "data": {
      "text/html": [
       "<div>\n",
       "<style scoped>\n",
       "    .dataframe tbody tr th:only-of-type {\n",
       "        vertical-align: middle;\n",
       "    }\n",
       "\n",
       "    .dataframe tbody tr th {\n",
       "        vertical-align: top;\n",
       "    }\n",
       "\n",
       "    .dataframe thead th {\n",
       "        text-align: right;\n",
       "    }\n",
       "</style>\n",
       "<table border=\"1\" class=\"dataframe\">\n",
       "  <thead>\n",
       "    <tr style=\"text-align: right;\">\n",
       "      <th></th>\n",
       "      <th>A</th>\n",
       "      <th>B</th>\n",
       "      <th>C</th>\n",
       "      <th>D</th>\n",
       "      <th>E</th>\n",
       "    </tr>\n",
       "  </thead>\n",
       "  <tbody>\n",
       "    <tr>\n",
       "      <th>0</th>\n",
       "      <td>1</td>\n",
       "      <td>0.805533</td>\n",
       "      <td>0.805533</td>\n",
       "      <td>0.648884</td>\n",
       "      <td>0.522698</td>\n",
       "    </tr>\n",
       "    <tr>\n",
       "      <th>1</th>\n",
       "      <td>1</td>\n",
       "      <td>0.018777</td>\n",
       "      <td>0.018777</td>\n",
       "      <td>0.000353</td>\n",
       "      <td>0.000007</td>\n",
       "    </tr>\n",
       "    <tr>\n",
       "      <th>3</th>\n",
       "      <td>3</td>\n",
       "      <td>0.567203</td>\n",
       "      <td>1.701608</td>\n",
       "      <td>0.965157</td>\n",
       "      <td>1.642319</td>\n",
       "    </tr>\n",
       "    <tr>\n",
       "      <th>4</th>\n",
       "      <td>2</td>\n",
       "      <td>0.584712</td>\n",
       "      <td>1.169425</td>\n",
       "      <td>0.683777</td>\n",
       "      <td>0.799625</td>\n",
       "    </tr>\n",
       "    <tr>\n",
       "      <th>5</th>\n",
       "      <td>1</td>\n",
       "      <td>0.038064</td>\n",
       "      <td>0.038064</td>\n",
       "      <td>0.001449</td>\n",
       "      <td>0.000055</td>\n",
       "    </tr>\n",
       "    <tr>\n",
       "      <th>...</th>\n",
       "      <td>...</td>\n",
       "      <td>...</td>\n",
       "      <td>...</td>\n",
       "      <td>...</td>\n",
       "      <td>...</td>\n",
       "    </tr>\n",
       "    <tr>\n",
       "      <th>94</th>\n",
       "      <td>1</td>\n",
       "      <td>0.699690</td>\n",
       "      <td>0.699690</td>\n",
       "      <td>0.489566</td>\n",
       "      <td>0.342545</td>\n",
       "    </tr>\n",
       "    <tr>\n",
       "      <th>95</th>\n",
       "      <td>2</td>\n",
       "      <td>0.609506</td>\n",
       "      <td>1.219013</td>\n",
       "      <td>0.742996</td>\n",
       "      <td>0.905721</td>\n",
       "    </tr>\n",
       "    <tr>\n",
       "      <th>96</th>\n",
       "      <td>4</td>\n",
       "      <td>0.491232</td>\n",
       "      <td>1.964926</td>\n",
       "      <td>0.965234</td>\n",
       "      <td>1.896614</td>\n",
       "    </tr>\n",
       "    <tr>\n",
       "      <th>97</th>\n",
       "      <td>1</td>\n",
       "      <td>0.371002</td>\n",
       "      <td>0.371002</td>\n",
       "      <td>0.137642</td>\n",
       "      <td>0.051066</td>\n",
       "    </tr>\n",
       "    <tr>\n",
       "      <th>99</th>\n",
       "      <td>2</td>\n",
       "      <td>0.948202</td>\n",
       "      <td>1.896404</td>\n",
       "      <td>1.798175</td>\n",
       "      <td>3.410067</td>\n",
       "    </tr>\n",
       "  </tbody>\n",
       "</table>\n",
       "<p>97 rows × 5 columns</p>\n",
       "</div>"
      ],
      "text/plain": [
       "    A         B         C         D         E\n",
       "0   1  0.805533  0.805533  0.648884  0.522698\n",
       "1   1  0.018777  0.018777  0.000353  0.000007\n",
       "3   3  0.567203  1.701608  0.965157  1.642319\n",
       "4   2  0.584712  1.169425  0.683777  0.799625\n",
       "5   1  0.038064  0.038064  0.001449  0.000055\n",
       ".. ..       ...       ...       ...       ...\n",
       "94  1  0.699690  0.699690  0.489566  0.342545\n",
       "95  2  0.609506  1.219013  0.742996  0.905721\n",
       "96  4  0.491232  1.964926  0.965234  1.896614\n",
       "97  1  0.371002  0.371002  0.137642  0.051066\n",
       "99  2  0.948202  1.896404  1.798175  3.410067\n",
       "\n",
       "[97 rows x 5 columns]"
      ]
     },
     "execution_count": 34,
     "metadata": {},
     "output_type": "execute_result"
    }
   ],
   "source": [
    "df"
   ]
  },
  {
   "cell_type": "code",
   "execution_count": 35,
   "metadata": {},
   "outputs": [
    {
     "data": {
      "text/html": [
       "<div>\n",
       "<style scoped>\n",
       "    .dataframe tbody tr th:only-of-type {\n",
       "        vertical-align: middle;\n",
       "    }\n",
       "\n",
       "    .dataframe tbody tr th {\n",
       "        vertical-align: top;\n",
       "    }\n",
       "\n",
       "    .dataframe thead th {\n",
       "        text-align: right;\n",
       "    }\n",
       "</style>\n",
       "<table border=\"1\" class=\"dataframe\">\n",
       "  <thead>\n",
       "    <tr style=\"text-align: right;\">\n",
       "      <th></th>\n",
       "      <th>A</th>\n",
       "      <th>B</th>\n",
       "      <th>D</th>\n",
       "    </tr>\n",
       "  </thead>\n",
       "  <tbody>\n",
       "    <tr>\n",
       "      <th>0</th>\n",
       "      <td>1</td>\n",
       "      <td>0.805533</td>\n",
       "      <td>0.648884</td>\n",
       "    </tr>\n",
       "    <tr>\n",
       "      <th>1</th>\n",
       "      <td>1</td>\n",
       "      <td>0.018777</td>\n",
       "      <td>0.000353</td>\n",
       "    </tr>\n",
       "    <tr>\n",
       "      <th>3</th>\n",
       "      <td>3</td>\n",
       "      <td>0.567203</td>\n",
       "      <td>0.965157</td>\n",
       "    </tr>\n",
       "    <tr>\n",
       "      <th>4</th>\n",
       "      <td>2</td>\n",
       "      <td>0.584712</td>\n",
       "      <td>0.683777</td>\n",
       "    </tr>\n",
       "    <tr>\n",
       "      <th>5</th>\n",
       "      <td>1</td>\n",
       "      <td>0.038064</td>\n",
       "      <td>0.001449</td>\n",
       "    </tr>\n",
       "    <tr>\n",
       "      <th>...</th>\n",
       "      <td>...</td>\n",
       "      <td>...</td>\n",
       "      <td>...</td>\n",
       "    </tr>\n",
       "    <tr>\n",
       "      <th>94</th>\n",
       "      <td>1</td>\n",
       "      <td>0.699690</td>\n",
       "      <td>0.489566</td>\n",
       "    </tr>\n",
       "    <tr>\n",
       "      <th>95</th>\n",
       "      <td>2</td>\n",
       "      <td>0.609506</td>\n",
       "      <td>0.742996</td>\n",
       "    </tr>\n",
       "    <tr>\n",
       "      <th>96</th>\n",
       "      <td>4</td>\n",
       "      <td>0.491232</td>\n",
       "      <td>0.965234</td>\n",
       "    </tr>\n",
       "    <tr>\n",
       "      <th>97</th>\n",
       "      <td>1</td>\n",
       "      <td>0.371002</td>\n",
       "      <td>0.137642</td>\n",
       "    </tr>\n",
       "    <tr>\n",
       "      <th>99</th>\n",
       "      <td>2</td>\n",
       "      <td>0.948202</td>\n",
       "      <td>1.798175</td>\n",
       "    </tr>\n",
       "  </tbody>\n",
       "</table>\n",
       "<p>97 rows × 3 columns</p>\n",
       "</div>"
      ],
      "text/plain": [
       "    A         B         D\n",
       "0   1  0.805533  0.648884\n",
       "1   1  0.018777  0.000353\n",
       "3   3  0.567203  0.965157\n",
       "4   2  0.584712  0.683777\n",
       "5   1  0.038064  0.001449\n",
       ".. ..       ...       ...\n",
       "94  1  0.699690  0.489566\n",
       "95  2  0.609506  0.742996\n",
       "96  4  0.491232  0.965234\n",
       "97  1  0.371002  0.137642\n",
       "99  2  0.948202  1.798175\n",
       "\n",
       "[97 rows x 3 columns]"
      ]
     },
     "execution_count": 35,
     "metadata": {},
     "output_type": "execute_result"
    }
   ],
   "source": [
    "df = df.drop(columns=[\"C\", \"E\"])\n",
    "df"
   ]
  },
  {
   "cell_type": "markdown",
   "metadata": {},
   "source": [
    "## Executar os seguintes recortes no dataframe:\n",
    "\n",
    "1. \"A\" tem valores [2, 4]\n",
    "1. \"B\" maior que 0.33\n",
    "1. Todos os a cima"
   ]
  },
  {
   "cell_type": "code",
   "execution_count": 36,
   "metadata": {},
   "outputs": [],
   "source": [
    "mask1 = df['A'].isin([2, 4])\n",
    "mask2 = df['B'] > 0.33\n",
    "mask3 = mask1 & mask2"
   ]
  },
  {
   "cell_type": "code",
   "execution_count": 37,
   "metadata": {},
   "outputs": [
    {
     "data": {
      "text/html": [
       "<div>\n",
       "<style scoped>\n",
       "    .dataframe tbody tr th:only-of-type {\n",
       "        vertical-align: middle;\n",
       "    }\n",
       "\n",
       "    .dataframe tbody tr th {\n",
       "        vertical-align: top;\n",
       "    }\n",
       "\n",
       "    .dataframe thead th {\n",
       "        text-align: right;\n",
       "    }\n",
       "</style>\n",
       "<table border=\"1\" class=\"dataframe\">\n",
       "  <thead>\n",
       "    <tr style=\"text-align: right;\">\n",
       "      <th></th>\n",
       "      <th>A</th>\n",
       "      <th>B</th>\n",
       "      <th>D</th>\n",
       "    </tr>\n",
       "  </thead>\n",
       "  <tbody>\n",
       "    <tr>\n",
       "      <th>4</th>\n",
       "      <td>2</td>\n",
       "      <td>0.584712</td>\n",
       "      <td>0.683777</td>\n",
       "    </tr>\n",
       "    <tr>\n",
       "      <th>9</th>\n",
       "      <td>2</td>\n",
       "      <td>0.116248</td>\n",
       "      <td>0.027027</td>\n",
       "    </tr>\n",
       "    <tr>\n",
       "      <th>21</th>\n",
       "      <td>4</td>\n",
       "      <td>0.467404</td>\n",
       "      <td>0.873865</td>\n",
       "    </tr>\n",
       "    <tr>\n",
       "      <th>23</th>\n",
       "      <td>4</td>\n",
       "      <td>0.242608</td>\n",
       "      <td>0.235435</td>\n",
       "    </tr>\n",
       "    <tr>\n",
       "      <th>24</th>\n",
       "      <td>4</td>\n",
       "      <td>0.259705</td>\n",
       "      <td>0.269788</td>\n",
       "    </tr>\n",
       "    <tr>\n",
       "      <th>...</th>\n",
       "      <td>...</td>\n",
       "      <td>...</td>\n",
       "      <td>...</td>\n",
       "    </tr>\n",
       "    <tr>\n",
       "      <th>89</th>\n",
       "      <td>4</td>\n",
       "      <td>0.293128</td>\n",
       "      <td>0.343696</td>\n",
       "    </tr>\n",
       "    <tr>\n",
       "      <th>92</th>\n",
       "      <td>2</td>\n",
       "      <td>0.219676</td>\n",
       "      <td>0.096515</td>\n",
       "    </tr>\n",
       "    <tr>\n",
       "      <th>95</th>\n",
       "      <td>2</td>\n",
       "      <td>0.609506</td>\n",
       "      <td>0.742996</td>\n",
       "    </tr>\n",
       "    <tr>\n",
       "      <th>96</th>\n",
       "      <td>4</td>\n",
       "      <td>0.491232</td>\n",
       "      <td>0.965234</td>\n",
       "    </tr>\n",
       "    <tr>\n",
       "      <th>99</th>\n",
       "      <td>2</td>\n",
       "      <td>0.948202</td>\n",
       "      <td>1.798175</td>\n",
       "    </tr>\n",
       "  </tbody>\n",
       "</table>\n",
       "<p>40 rows × 3 columns</p>\n",
       "</div>"
      ],
      "text/plain": [
       "    A         B         D\n",
       "4   2  0.584712  0.683777\n",
       "9   2  0.116248  0.027027\n",
       "21  4  0.467404  0.873865\n",
       "23  4  0.242608  0.235435\n",
       "24  4  0.259705  0.269788\n",
       ".. ..       ...       ...\n",
       "89  4  0.293128  0.343696\n",
       "92  2  0.219676  0.096515\n",
       "95  2  0.609506  0.742996\n",
       "96  4  0.491232  0.965234\n",
       "99  2  0.948202  1.798175\n",
       "\n",
       "[40 rows x 3 columns]"
      ]
     },
     "execution_count": 37,
     "metadata": {},
     "output_type": "execute_result"
    }
   ],
   "source": [
    "df[mask1]"
   ]
  },
  {
   "cell_type": "code",
   "execution_count": 38,
   "metadata": {},
   "outputs": [
    {
     "data": {
      "text/html": [
       "<div>\n",
       "<style scoped>\n",
       "    .dataframe tbody tr th:only-of-type {\n",
       "        vertical-align: middle;\n",
       "    }\n",
       "\n",
       "    .dataframe tbody tr th {\n",
       "        vertical-align: top;\n",
       "    }\n",
       "\n",
       "    .dataframe thead th {\n",
       "        text-align: right;\n",
       "    }\n",
       "</style>\n",
       "<table border=\"1\" class=\"dataframe\">\n",
       "  <thead>\n",
       "    <tr style=\"text-align: right;\">\n",
       "      <th></th>\n",
       "      <th>A</th>\n",
       "      <th>B</th>\n",
       "      <th>D</th>\n",
       "    </tr>\n",
       "  </thead>\n",
       "  <tbody>\n",
       "    <tr>\n",
       "      <th>0</th>\n",
       "      <td>1</td>\n",
       "      <td>0.805533</td>\n",
       "      <td>0.648884</td>\n",
       "    </tr>\n",
       "    <tr>\n",
       "      <th>3</th>\n",
       "      <td>3</td>\n",
       "      <td>0.567203</td>\n",
       "      <td>0.965157</td>\n",
       "    </tr>\n",
       "    <tr>\n",
       "      <th>4</th>\n",
       "      <td>2</td>\n",
       "      <td>0.584712</td>\n",
       "      <td>0.683777</td>\n",
       "    </tr>\n",
       "    <tr>\n",
       "      <th>8</th>\n",
       "      <td>1</td>\n",
       "      <td>0.838630</td>\n",
       "      <td>0.703301</td>\n",
       "    </tr>\n",
       "    <tr>\n",
       "      <th>10</th>\n",
       "      <td>101</td>\n",
       "      <td>0.789897</td>\n",
       "      <td>63.017623</td>\n",
       "    </tr>\n",
       "    <tr>\n",
       "      <th>...</th>\n",
       "      <td>...</td>\n",
       "      <td>...</td>\n",
       "      <td>...</td>\n",
       "    </tr>\n",
       "    <tr>\n",
       "      <th>94</th>\n",
       "      <td>1</td>\n",
       "      <td>0.699690</td>\n",
       "      <td>0.489566</td>\n",
       "    </tr>\n",
       "    <tr>\n",
       "      <th>95</th>\n",
       "      <td>2</td>\n",
       "      <td>0.609506</td>\n",
       "      <td>0.742996</td>\n",
       "    </tr>\n",
       "    <tr>\n",
       "      <th>96</th>\n",
       "      <td>4</td>\n",
       "      <td>0.491232</td>\n",
       "      <td>0.965234</td>\n",
       "    </tr>\n",
       "    <tr>\n",
       "      <th>97</th>\n",
       "      <td>1</td>\n",
       "      <td>0.371002</td>\n",
       "      <td>0.137642</td>\n",
       "    </tr>\n",
       "    <tr>\n",
       "      <th>99</th>\n",
       "      <td>2</td>\n",
       "      <td>0.948202</td>\n",
       "      <td>1.798175</td>\n",
       "    </tr>\n",
       "  </tbody>\n",
       "</table>\n",
       "<p>64 rows × 3 columns</p>\n",
       "</div>"
      ],
      "text/plain": [
       "      A         B          D\n",
       "0     1  0.805533   0.648884\n",
       "3     3  0.567203   0.965157\n",
       "4     2  0.584712   0.683777\n",
       "8     1  0.838630   0.703301\n",
       "10  101  0.789897  63.017623\n",
       "..  ...       ...        ...\n",
       "94    1  0.699690   0.489566\n",
       "95    2  0.609506   0.742996\n",
       "96    4  0.491232   0.965234\n",
       "97    1  0.371002   0.137642\n",
       "99    2  0.948202   1.798175\n",
       "\n",
       "[64 rows x 3 columns]"
      ]
     },
     "execution_count": 38,
     "metadata": {},
     "output_type": "execute_result"
    }
   ],
   "source": [
    "df[mask2]"
   ]
  },
  {
   "cell_type": "code",
   "execution_count": 39,
   "metadata": {},
   "outputs": [
    {
     "data": {
      "text/html": [
       "<div>\n",
       "<style scoped>\n",
       "    .dataframe tbody tr th:only-of-type {\n",
       "        vertical-align: middle;\n",
       "    }\n",
       "\n",
       "    .dataframe tbody tr th {\n",
       "        vertical-align: top;\n",
       "    }\n",
       "\n",
       "    .dataframe thead th {\n",
       "        text-align: right;\n",
       "    }\n",
       "</style>\n",
       "<table border=\"1\" class=\"dataframe\">\n",
       "  <thead>\n",
       "    <tr style=\"text-align: right;\">\n",
       "      <th></th>\n",
       "      <th>A</th>\n",
       "      <th>B</th>\n",
       "      <th>D</th>\n",
       "    </tr>\n",
       "  </thead>\n",
       "  <tbody>\n",
       "    <tr>\n",
       "      <th>0</th>\n",
       "      <td>1</td>\n",
       "      <td>0.805533</td>\n",
       "      <td>0.648884</td>\n",
       "    </tr>\n",
       "    <tr>\n",
       "      <th>3</th>\n",
       "      <td>3</td>\n",
       "      <td>0.567203</td>\n",
       "      <td>0.965157</td>\n",
       "    </tr>\n",
       "    <tr>\n",
       "      <th>4</th>\n",
       "      <td>2</td>\n",
       "      <td>0.584712</td>\n",
       "      <td>0.683777</td>\n",
       "    </tr>\n",
       "    <tr>\n",
       "      <th>8</th>\n",
       "      <td>1</td>\n",
       "      <td>0.838630</td>\n",
       "      <td>0.703301</td>\n",
       "    </tr>\n",
       "    <tr>\n",
       "      <th>9</th>\n",
       "      <td>2</td>\n",
       "      <td>0.116248</td>\n",
       "      <td>0.027027</td>\n",
       "    </tr>\n",
       "    <tr>\n",
       "      <th>...</th>\n",
       "      <td>...</td>\n",
       "      <td>...</td>\n",
       "      <td>...</td>\n",
       "    </tr>\n",
       "    <tr>\n",
       "      <th>94</th>\n",
       "      <td>1</td>\n",
       "      <td>0.699690</td>\n",
       "      <td>0.489566</td>\n",
       "    </tr>\n",
       "    <tr>\n",
       "      <th>95</th>\n",
       "      <td>2</td>\n",
       "      <td>0.609506</td>\n",
       "      <td>0.742996</td>\n",
       "    </tr>\n",
       "    <tr>\n",
       "      <th>96</th>\n",
       "      <td>4</td>\n",
       "      <td>0.491232</td>\n",
       "      <td>0.965234</td>\n",
       "    </tr>\n",
       "    <tr>\n",
       "      <th>97</th>\n",
       "      <td>1</td>\n",
       "      <td>0.371002</td>\n",
       "      <td>0.137642</td>\n",
       "    </tr>\n",
       "    <tr>\n",
       "      <th>99</th>\n",
       "      <td>2</td>\n",
       "      <td>0.948202</td>\n",
       "      <td>1.798175</td>\n",
       "    </tr>\n",
       "  </tbody>\n",
       "</table>\n",
       "<p>83 rows × 3 columns</p>\n",
       "</div>"
      ],
      "text/plain": [
       "    A         B         D\n",
       "0   1  0.805533  0.648884\n",
       "3   3  0.567203  0.965157\n",
       "4   2  0.584712  0.683777\n",
       "8   1  0.838630  0.703301\n",
       "9   2  0.116248  0.027027\n",
       ".. ..       ...       ...\n",
       "94  1  0.699690  0.489566\n",
       "95  2  0.609506  0.742996\n",
       "96  4  0.491232  0.965234\n",
       "97  1  0.371002  0.137642\n",
       "99  2  0.948202  1.798175\n",
       "\n",
       "[83 rows x 3 columns]"
      ]
     },
     "execution_count": 39,
     "metadata": {},
     "output_type": "execute_result"
    }
   ],
   "source": [
    "df[mask1 | mask2]"
   ]
  },
  {
   "cell_type": "markdown",
   "metadata": {},
   "source": [
    "# Interactive"
   ]
  },
  {
   "cell_type": "code",
   "execution_count": 40,
   "metadata": {},
   "outputs": [],
   "source": [
    "from ipywidgets import interact, interactive"
   ]
  },
  {
   "cell_type": "markdown",
   "metadata": {},
   "source": [
    "## Entrando no play"
   ]
  },
  {
   "cell_type": "code",
   "execution_count": 41,
   "metadata": {},
   "outputs": [],
   "source": [
    "def funcao(pam):\n",
    "    display(pam)"
   ]
  },
  {
   "cell_type": "code",
   "execution_count": 42,
   "metadata": {},
   "outputs": [
    {
     "data": {
      "text/plain": [
       "10"
      ]
     },
     "metadata": {},
     "output_type": "display_data"
    },
    {
     "data": {
      "text/plain": [
       "<function __main__.funcao(pam)>"
      ]
     },
     "execution_count": 42,
     "metadata": {},
     "output_type": "execute_result"
    }
   ],
   "source": [
    "interact(funcao, pam=10)"
   ]
  },
  {
   "cell_type": "code",
   "execution_count": 43,
   "metadata": {},
   "outputs": [
    {
     "data": {
      "text/plain": [
       "'PAN'"
      ]
     },
     "metadata": {},
     "output_type": "display_data"
    },
    {
     "data": {
      "text/plain": [
       "<function __main__.funcao(pam)>"
      ]
     },
     "execution_count": 43,
     "metadata": {},
     "output_type": "execute_result"
    }
   ],
   "source": [
    "interact(funcao, pam='PAN')"
   ]
  },
  {
   "cell_type": "code",
   "execution_count": 44,
   "metadata": {},
   "outputs": [
    {
     "data": {
      "text/plain": [
       "'opção1'"
      ]
     },
     "metadata": {},
     "output_type": "display_data"
    },
    {
     "data": {
      "text/plain": [
       "<function __main__.funcao(pam)>"
      ]
     },
     "execution_count": 44,
     "metadata": {},
     "output_type": "execute_result"
    }
   ],
   "source": [
    "interact(funcao, pam=['opção1', 'opção2'])"
   ]
  },
  {
   "cell_type": "markdown",
   "metadata": {},
   "source": [
    "## Widgets"
   ]
  },
  {
   "cell_type": "markdown",
   "metadata": {},
   "source": [
    "```python\n",
    "widgets.IntSlider(\n",
    "    value=7,\n",
    "    min=0,\n",
    "    max=10,\n",
    "    step=1,\n",
    "    description='Test:',\n",
    "    orientation='horizontal',\n",
    ")\n",
    "\n",
    "widgets.FloatSlider(\n",
    "    value=7.5,\n",
    "    min=0,\n",
    "    max=10.0,\n",
    "    step=0.1,\n",
    "    description='Test:',\n",
    "    orientation='vertical',\n",
    ")\n",
    "\n",
    "widgets.Dropdown(\n",
    "    options=['1', '2', '3'],\n",
    "    value='2',\n",
    "    description='Number:',\n",
    "    disabled=False,\n",
    ")\n",
    "\n",
    "widgets.Select(\n",
    "    options=['Linux', 'Windows', 'OSX'],\n",
    "    value='OSX',\n",
    "    # rows=10,\n",
    "    description='OS:',\n",
    "    disabled=False\n",
    ")\n",
    "\n",
    "widgets.Text(\n",
    "    value='Hello World',\n",
    "    placeholder='Type something',\n",
    "    description='String:',\n",
    "    disabled=False\n",
    ")\n",
    "\n",
    "widgets.SelectMultiple(\n",
    "    options=['Apples', 'Oranges', 'Pears'],\n",
    "    value=['Oranges'],\n",
    "    #rows=10,\n",
    "    description='Fruits',\n",
    "    disabled=False\n",
    ")\n",
    "\n",
    "```"
   ]
  },
  {
   "cell_type": "markdown",
   "metadata": {},
   "source": [
    "## Vamos brincar de verdade agora?"
   ]
  },
  {
   "cell_type": "markdown",
   "metadata": {},
   "source": [
    "### Carrega tua base"
   ]
  },
  {
   "cell_type": "code",
   "execution_count": 45,
   "metadata": {},
   "outputs": [
    {
     "ename": "NameError",
     "evalue": "name 'nomes' is not defined",
     "output_type": "error",
     "traceback": [
      "\u001b[1;31m---------------------------------------------------------------------------\u001b[0m",
      "\u001b[1;31mNameError\u001b[0m                                 Traceback (most recent call last)",
      "\u001b[1;32m<ipython-input-45-c63d34c42488>\u001b[0m in \u001b[0;36m<module>\u001b[1;34m\u001b[0m\n\u001b[1;32m----> 1\u001b[1;33m \u001b[0mnomes\u001b[0m \u001b[1;33m=\u001b[0m \u001b[0mnomes\u001b[0m\u001b[1;33m.\u001b[0m\u001b[0miloc\u001b[0m\u001b[1;33m[\u001b[0m\u001b[1;33m:\u001b[0m\u001b[1;36m800\u001b[0m\u001b[1;33m]\u001b[0m\u001b[1;33m\u001b[0m\u001b[1;33m\u001b[0m\u001b[0m\n\u001b[0m",
      "\u001b[1;31mNameError\u001b[0m: name 'nomes' is not defined"
     ]
    }
   ],
   "source": [
    "nomes = nomes.iloc[:800]"
   ]
  },
  {
   "cell_type": "code",
   "execution_count": 46,
   "metadata": {},
   "outputs": [
    {
     "ename": "FileNotFoundError",
     "evalue": "[Errno 2] File grande.csv does not exist: 'grande.csv'",
     "output_type": "error",
     "traceback": [
      "\u001b[1;31m---------------------------------------------------------------------------\u001b[0m",
      "\u001b[1;31mFileNotFoundError\u001b[0m                         Traceback (most recent call last)",
      "\u001b[1;32m<ipython-input-46-03596aa95d7a>\u001b[0m in \u001b[0;36m<module>\u001b[1;34m\u001b[0m\n\u001b[1;32m----> 1\u001b[1;33m \u001b[0mnomes\u001b[0m \u001b[1;33m=\u001b[0m \u001b[0mpd\u001b[0m\u001b[1;33m.\u001b[0m\u001b[0mread_csv\u001b[0m\u001b[1;33m(\u001b[0m\u001b[1;34m'grande.csv'\u001b[0m\u001b[1;33m)\u001b[0m\u001b[1;33m\u001b[0m\u001b[1;33m\u001b[0m\u001b[0m\n\u001b[0m\u001b[0;32m      2\u001b[0m \u001b[0mnomes\u001b[0m\u001b[1;33m\u001b[0m\u001b[1;33m\u001b[0m\u001b[0m\n",
      "\u001b[1;32m~\\anaconda3\\envs\\oracle\\lib\\site-packages\\pandas\\io\\parsers.py\u001b[0m in \u001b[0;36mparser_f\u001b[1;34m(filepath_or_buffer, sep, delimiter, header, names, index_col, usecols, squeeze, prefix, mangle_dupe_cols, dtype, engine, converters, true_values, false_values, skipinitialspace, skiprows, skipfooter, nrows, na_values, keep_default_na, na_filter, verbose, skip_blank_lines, parse_dates, infer_datetime_format, keep_date_col, date_parser, dayfirst, cache_dates, iterator, chunksize, compression, thousands, decimal, lineterminator, quotechar, quoting, doublequote, escapechar, comment, encoding, dialect, error_bad_lines, warn_bad_lines, delim_whitespace, low_memory, memory_map, float_precision)\u001b[0m\n\u001b[0;32m    674\u001b[0m         )\n\u001b[0;32m    675\u001b[0m \u001b[1;33m\u001b[0m\u001b[0m\n\u001b[1;32m--> 676\u001b[1;33m         \u001b[1;32mreturn\u001b[0m \u001b[0m_read\u001b[0m\u001b[1;33m(\u001b[0m\u001b[0mfilepath_or_buffer\u001b[0m\u001b[1;33m,\u001b[0m \u001b[0mkwds\u001b[0m\u001b[1;33m)\u001b[0m\u001b[1;33m\u001b[0m\u001b[1;33m\u001b[0m\u001b[0m\n\u001b[0m\u001b[0;32m    677\u001b[0m \u001b[1;33m\u001b[0m\u001b[0m\n\u001b[0;32m    678\u001b[0m     \u001b[0mparser_f\u001b[0m\u001b[1;33m.\u001b[0m\u001b[0m__name__\u001b[0m \u001b[1;33m=\u001b[0m \u001b[0mname\u001b[0m\u001b[1;33m\u001b[0m\u001b[1;33m\u001b[0m\u001b[0m\n",
      "\u001b[1;32m~\\anaconda3\\envs\\oracle\\lib\\site-packages\\pandas\\io\\parsers.py\u001b[0m in \u001b[0;36m_read\u001b[1;34m(filepath_or_buffer, kwds)\u001b[0m\n\u001b[0;32m    446\u001b[0m \u001b[1;33m\u001b[0m\u001b[0m\n\u001b[0;32m    447\u001b[0m     \u001b[1;31m# Create the parser.\u001b[0m\u001b[1;33m\u001b[0m\u001b[1;33m\u001b[0m\u001b[1;33m\u001b[0m\u001b[0m\n\u001b[1;32m--> 448\u001b[1;33m     \u001b[0mparser\u001b[0m \u001b[1;33m=\u001b[0m \u001b[0mTextFileReader\u001b[0m\u001b[1;33m(\u001b[0m\u001b[0mfp_or_buf\u001b[0m\u001b[1;33m,\u001b[0m \u001b[1;33m**\u001b[0m\u001b[0mkwds\u001b[0m\u001b[1;33m)\u001b[0m\u001b[1;33m\u001b[0m\u001b[1;33m\u001b[0m\u001b[0m\n\u001b[0m\u001b[0;32m    449\u001b[0m \u001b[1;33m\u001b[0m\u001b[0m\n\u001b[0;32m    450\u001b[0m     \u001b[1;32mif\u001b[0m \u001b[0mchunksize\u001b[0m \u001b[1;32mor\u001b[0m \u001b[0miterator\u001b[0m\u001b[1;33m:\u001b[0m\u001b[1;33m\u001b[0m\u001b[1;33m\u001b[0m\u001b[0m\n",
      "\u001b[1;32m~\\anaconda3\\envs\\oracle\\lib\\site-packages\\pandas\\io\\parsers.py\u001b[0m in \u001b[0;36m__init__\u001b[1;34m(self, f, engine, **kwds)\u001b[0m\n\u001b[0;32m    878\u001b[0m             \u001b[0mself\u001b[0m\u001b[1;33m.\u001b[0m\u001b[0moptions\u001b[0m\u001b[1;33m[\u001b[0m\u001b[1;34m\"has_index_names\"\u001b[0m\u001b[1;33m]\u001b[0m \u001b[1;33m=\u001b[0m \u001b[0mkwds\u001b[0m\u001b[1;33m[\u001b[0m\u001b[1;34m\"has_index_names\"\u001b[0m\u001b[1;33m]\u001b[0m\u001b[1;33m\u001b[0m\u001b[1;33m\u001b[0m\u001b[0m\n\u001b[0;32m    879\u001b[0m \u001b[1;33m\u001b[0m\u001b[0m\n\u001b[1;32m--> 880\u001b[1;33m         \u001b[0mself\u001b[0m\u001b[1;33m.\u001b[0m\u001b[0m_make_engine\u001b[0m\u001b[1;33m(\u001b[0m\u001b[0mself\u001b[0m\u001b[1;33m.\u001b[0m\u001b[0mengine\u001b[0m\u001b[1;33m)\u001b[0m\u001b[1;33m\u001b[0m\u001b[1;33m\u001b[0m\u001b[0m\n\u001b[0m\u001b[0;32m    881\u001b[0m \u001b[1;33m\u001b[0m\u001b[0m\n\u001b[0;32m    882\u001b[0m     \u001b[1;32mdef\u001b[0m \u001b[0mclose\u001b[0m\u001b[1;33m(\u001b[0m\u001b[0mself\u001b[0m\u001b[1;33m)\u001b[0m\u001b[1;33m:\u001b[0m\u001b[1;33m\u001b[0m\u001b[1;33m\u001b[0m\u001b[0m\n",
      "\u001b[1;32m~\\anaconda3\\envs\\oracle\\lib\\site-packages\\pandas\\io\\parsers.py\u001b[0m in \u001b[0;36m_make_engine\u001b[1;34m(self, engine)\u001b[0m\n\u001b[0;32m   1112\u001b[0m     \u001b[1;32mdef\u001b[0m \u001b[0m_make_engine\u001b[0m\u001b[1;33m(\u001b[0m\u001b[0mself\u001b[0m\u001b[1;33m,\u001b[0m \u001b[0mengine\u001b[0m\u001b[1;33m=\u001b[0m\u001b[1;34m\"c\"\u001b[0m\u001b[1;33m)\u001b[0m\u001b[1;33m:\u001b[0m\u001b[1;33m\u001b[0m\u001b[1;33m\u001b[0m\u001b[0m\n\u001b[0;32m   1113\u001b[0m         \u001b[1;32mif\u001b[0m \u001b[0mengine\u001b[0m \u001b[1;33m==\u001b[0m \u001b[1;34m\"c\"\u001b[0m\u001b[1;33m:\u001b[0m\u001b[1;33m\u001b[0m\u001b[1;33m\u001b[0m\u001b[0m\n\u001b[1;32m-> 1114\u001b[1;33m             \u001b[0mself\u001b[0m\u001b[1;33m.\u001b[0m\u001b[0m_engine\u001b[0m \u001b[1;33m=\u001b[0m \u001b[0mCParserWrapper\u001b[0m\u001b[1;33m(\u001b[0m\u001b[0mself\u001b[0m\u001b[1;33m.\u001b[0m\u001b[0mf\u001b[0m\u001b[1;33m,\u001b[0m \u001b[1;33m**\u001b[0m\u001b[0mself\u001b[0m\u001b[1;33m.\u001b[0m\u001b[0moptions\u001b[0m\u001b[1;33m)\u001b[0m\u001b[1;33m\u001b[0m\u001b[1;33m\u001b[0m\u001b[0m\n\u001b[0m\u001b[0;32m   1115\u001b[0m         \u001b[1;32melse\u001b[0m\u001b[1;33m:\u001b[0m\u001b[1;33m\u001b[0m\u001b[1;33m\u001b[0m\u001b[0m\n\u001b[0;32m   1116\u001b[0m             \u001b[1;32mif\u001b[0m \u001b[0mengine\u001b[0m \u001b[1;33m==\u001b[0m \u001b[1;34m\"python\"\u001b[0m\u001b[1;33m:\u001b[0m\u001b[1;33m\u001b[0m\u001b[1;33m\u001b[0m\u001b[0m\n",
      "\u001b[1;32m~\\anaconda3\\envs\\oracle\\lib\\site-packages\\pandas\\io\\parsers.py\u001b[0m in \u001b[0;36m__init__\u001b[1;34m(self, src, **kwds)\u001b[0m\n\u001b[0;32m   1889\u001b[0m         \u001b[0mkwds\u001b[0m\u001b[1;33m[\u001b[0m\u001b[1;34m\"usecols\"\u001b[0m\u001b[1;33m]\u001b[0m \u001b[1;33m=\u001b[0m \u001b[0mself\u001b[0m\u001b[1;33m.\u001b[0m\u001b[0musecols\u001b[0m\u001b[1;33m\u001b[0m\u001b[1;33m\u001b[0m\u001b[0m\n\u001b[0;32m   1890\u001b[0m \u001b[1;33m\u001b[0m\u001b[0m\n\u001b[1;32m-> 1891\u001b[1;33m         \u001b[0mself\u001b[0m\u001b[1;33m.\u001b[0m\u001b[0m_reader\u001b[0m \u001b[1;33m=\u001b[0m \u001b[0mparsers\u001b[0m\u001b[1;33m.\u001b[0m\u001b[0mTextReader\u001b[0m\u001b[1;33m(\u001b[0m\u001b[0msrc\u001b[0m\u001b[1;33m,\u001b[0m \u001b[1;33m**\u001b[0m\u001b[0mkwds\u001b[0m\u001b[1;33m)\u001b[0m\u001b[1;33m\u001b[0m\u001b[1;33m\u001b[0m\u001b[0m\n\u001b[0m\u001b[0;32m   1892\u001b[0m         \u001b[0mself\u001b[0m\u001b[1;33m.\u001b[0m\u001b[0munnamed_cols\u001b[0m \u001b[1;33m=\u001b[0m \u001b[0mself\u001b[0m\u001b[1;33m.\u001b[0m\u001b[0m_reader\u001b[0m\u001b[1;33m.\u001b[0m\u001b[0munnamed_cols\u001b[0m\u001b[1;33m\u001b[0m\u001b[1;33m\u001b[0m\u001b[0m\n\u001b[0;32m   1893\u001b[0m \u001b[1;33m\u001b[0m\u001b[0m\n",
      "\u001b[1;32mpandas\\_libs\\parsers.pyx\u001b[0m in \u001b[0;36mpandas._libs.parsers.TextReader.__cinit__\u001b[1;34m()\u001b[0m\n",
      "\u001b[1;32mpandas\\_libs\\parsers.pyx\u001b[0m in \u001b[0;36mpandas._libs.parsers.TextReader._setup_parser_source\u001b[1;34m()\u001b[0m\n",
      "\u001b[1;31mFileNotFoundError\u001b[0m: [Errno 2] File grande.csv does not exist: 'grande.csv'"
     ]
    }
   ],
   "source": [
    "nomes = pd.read_csv('grande.csv')\n",
    "nomes"
   ]
  },
  {
   "cell_type": "markdown",
   "metadata": {},
   "source": [
    "### Monta uma função bem legal de filtragem"
   ]
  },
  {
   "cell_type": "code",
   "execution_count": 47,
   "metadata": {},
   "outputs": [],
   "source": [
    "def filtragem_violenta(pedaco_nome, idade, cidades, salario):\n",
    "    mask_nome = nomes['nomes'].apply(lambda d: d.lower()).str.contains(pedaco_nome.lower())\n",
    "    mask_cidade = nomes['cidade'].isin(cidades)\n",
    "    mask_salario = nomes['salario'] >= salario\n",
    "    mask_idade = nomes['idades'] >= idade\n",
    "    mask_total = mask_nome & mask_cidade & mask_salario & mask_idade\n",
    "    display(nomes[mask_total])"
   ]
  },
  {
   "cell_type": "code",
   "execution_count": 48,
   "metadata": {},
   "outputs": [
    {
     "ename": "NameError",
     "evalue": "name 'nomes' is not defined",
     "output_type": "error",
     "traceback": [
      "\u001b[1;31m---------------------------------------------------------------------------\u001b[0m",
      "\u001b[1;31mNameError\u001b[0m                                 Traceback (most recent call last)",
      "\u001b[1;32m<ipython-input-48-b19611291408>\u001b[0m in \u001b[0;36m<module>\u001b[1;34m\u001b[0m\n\u001b[1;32m----> 1\u001b[1;33m \u001b[0mnomes\u001b[0m\u001b[1;33m[\u001b[0m\u001b[1;34m'cidade'\u001b[0m\u001b[1;33m]\u001b[0m\u001b[1;33m.\u001b[0m\u001b[0munique\u001b[0m\u001b[1;33m(\u001b[0m\u001b[1;33m)\u001b[0m\u001b[1;33m\u001b[0m\u001b[1;33m\u001b[0m\u001b[0m\n\u001b[0m",
      "\u001b[1;31mNameError\u001b[0m: name 'nomes' is not defined"
     ]
    }
   ],
   "source": [
    "nomes['cidade'].unique()"
   ]
  },
  {
   "cell_type": "code",
   "execution_count": 49,
   "metadata": {},
   "outputs": [
    {
     "ename": "NameError",
     "evalue": "name 'nomes' is not defined",
     "output_type": "error",
     "traceback": [
      "\u001b[1;31m---------------------------------------------------------------------------\u001b[0m",
      "\u001b[1;31mNameError\u001b[0m                                 Traceback (most recent call last)",
      "\u001b[1;32m<ipython-input-49-36de215f37ea>\u001b[0m in \u001b[0;36m<module>\u001b[1;34m\u001b[0m\n\u001b[1;32m----> 1\u001b[1;33m \u001b[0mfiltragem_violenta\u001b[0m\u001b[1;33m(\u001b[0m\u001b[1;34m'Silva'\u001b[0m\u001b[1;33m,\u001b[0m \u001b[1;36m0\u001b[0m\u001b[1;33m,\u001b[0m \u001b[0mnomes\u001b[0m\u001b[1;33m[\u001b[0m\u001b[1;34m'cidade'\u001b[0m\u001b[1;33m]\u001b[0m\u001b[1;33m.\u001b[0m\u001b[0munique\u001b[0m\u001b[1;33m(\u001b[0m\u001b[1;33m)\u001b[0m\u001b[1;33m,\u001b[0m \u001b[1;36m0\u001b[0m\u001b[1;33m)\u001b[0m\u001b[1;33m\u001b[0m\u001b[1;33m\u001b[0m\u001b[0m\n\u001b[0m",
      "\u001b[1;31mNameError\u001b[0m: name 'nomes' is not defined"
     ]
    }
   ],
   "source": [
    "filtragem_violenta('Silva', 0, nomes['cidade'].unique(), 0)"
   ]
  },
  {
   "cell_type": "markdown",
   "metadata": {},
   "source": [
    "### Prepara teus widgets"
   ]
  },
  {
   "cell_type": "code",
   "execution_count": 50,
   "metadata": {},
   "outputs": [],
   "source": [
    "from ipywidgets import widgets"
   ]
  },
  {
   "cell_type": "code",
   "execution_count": 51,
   "metadata": {},
   "outputs": [
    {
     "ename": "NameError",
     "evalue": "name 'nomes' is not defined",
     "output_type": "error",
     "traceback": [
      "\u001b[1;31m---------------------------------------------------------------------------\u001b[0m",
      "\u001b[1;31mNameError\u001b[0m                                 Traceback (most recent call last)",
      "\u001b[1;32m<ipython-input-51-8f5378c5d55f>\u001b[0m in \u001b[0;36m<module>\u001b[1;34m\u001b[0m\n\u001b[0;32m      5\u001b[0m \u001b[1;33m\u001b[0m\u001b[0m\n\u001b[0;32m      6\u001b[0m idade_widget = widgets.IntSlider(\n\u001b[1;32m----> 7\u001b[1;33m     \u001b[0mvalue\u001b[0m\u001b[1;33m=\u001b[0m\u001b[0mnomes\u001b[0m\u001b[1;33m[\u001b[0m\u001b[1;34m'idades'\u001b[0m\u001b[1;33m]\u001b[0m\u001b[1;33m.\u001b[0m\u001b[0mmin\u001b[0m\u001b[1;33m(\u001b[0m\u001b[1;33m)\u001b[0m \u001b[1;33m-\u001b[0m \u001b[1;36m1\u001b[0m\u001b[1;33m,\u001b[0m\u001b[1;33m\u001b[0m\u001b[1;33m\u001b[0m\u001b[0m\n\u001b[0m\u001b[0;32m      8\u001b[0m     \u001b[0mmin\u001b[0m\u001b[1;33m=\u001b[0m\u001b[0mnomes\u001b[0m\u001b[1;33m[\u001b[0m\u001b[1;34m'idades'\u001b[0m\u001b[1;33m]\u001b[0m\u001b[1;33m.\u001b[0m\u001b[0mmin\u001b[0m\u001b[1;33m(\u001b[0m\u001b[1;33m)\u001b[0m \u001b[1;33m-\u001b[0m \u001b[1;36m1\u001b[0m\u001b[1;33m,\u001b[0m\u001b[1;33m\u001b[0m\u001b[1;33m\u001b[0m\u001b[0m\n\u001b[0;32m      9\u001b[0m     \u001b[0mmax\u001b[0m\u001b[1;33m=\u001b[0m\u001b[0mnomes\u001b[0m\u001b[1;33m[\u001b[0m\u001b[1;34m'idades'\u001b[0m\u001b[1;33m]\u001b[0m\u001b[1;33m.\u001b[0m\u001b[0mmax\u001b[0m\u001b[1;33m(\u001b[0m\u001b[1;33m)\u001b[0m \u001b[1;33m+\u001b[0m \u001b[1;36m1\u001b[0m\u001b[1;33m,\u001b[0m\u001b[1;33m\u001b[0m\u001b[1;33m\u001b[0m\u001b[0m\n",
      "\u001b[1;31mNameError\u001b[0m: name 'nomes' is not defined"
     ]
    }
   ],
   "source": [
    "pedaco_de_nome_widget = widgets.Text(\n",
    "    value='',\n",
    "    description='Pedaço de Nome:',\n",
    ")\n",
    "\n",
    "idade_widget = widgets.IntSlider(\n",
    "    value=nomes['idades'].min() - 1,\n",
    "    min=nomes['idades'].min() - 1,\n",
    "    max=nomes['idades'].max() + 1,\n",
    "    step=1,\n",
    "    description='Idade maior que:',\n",
    "    orientation='horizontal',\n",
    ")\n",
    "\n",
    "cidade_widget = widgets.SelectMultiple(\n",
    "    options=nomes['cidade'].unique().tolist(),\n",
    "    value=nomes['cidade'].unique().tolist(),\n",
    "    #rows=10,\n",
    "    description='Cidades:'\n",
    ")\n",
    "salario_widget = widgets.FloatSlider(\n",
    "    value=nomes['salario'].min() - 10,\n",
    "    min=nomes['salario'].min() - 10,\n",
    "    max=nomes['salario'].max() + 10,\n",
    "    step=nomes['salario'].mean() / 100,\n",
    "    description='Salario maior que:',\n",
    "    orientation='horizontal'\n",
    ")"
   ]
  },
  {
   "cell_type": "markdown",
   "metadata": {},
   "source": [
    "### Joga eles dentro do interact junto com a função"
   ]
  },
  {
   "cell_type": "markdown",
   "metadata": {},
   "source": [
    "pedaco_nome, idade, cidades, salario"
   ]
  },
  {
   "cell_type": "code",
   "execution_count": 107,
   "metadata": {},
   "outputs": [
    {
     "data": {
      "application/vnd.jupyter.widget-view+json": {
       "model_id": "f7f0a9a983824c0888e61faf7d0a0560",
       "version_major": 2,
       "version_minor": 0
      },
      "text/plain": [
       "interactive(children=(Text(value='', description='Pedaço de Nome:'), IntSlider(value=4, description='Idade mai…"
      ]
     },
     "metadata": {},
     "output_type": "display_data"
    },
    {
     "data": {
      "text/plain": [
       "<function __main__.filtragem_violenta(pedaco_nome, idade, cidades, salario)>"
      ]
     },
     "execution_count": 107,
     "metadata": {},
     "output_type": "execute_result"
    }
   ],
   "source": [
    "interact(\n",
    "    filtragem_violenta,\n",
    "    pedaco_nome=pedaco_de_nome_widget,\n",
    "    idade=idade_widget,\n",
    "    cidades=cidade_widget,\n",
    "    salario=salario_widget\n",
    "    )"
   ]
  },
  {
   "cell_type": "code",
   "execution_count": 114,
   "metadata": {},
   "outputs": [],
   "source": [
    "x = np.linspace(0, 5, 501)"
   ]
  },
  {
   "cell_type": "code",
   "execution_count": 116,
   "metadata": {},
   "outputs": [
    {
     "ename": "NameError",
     "evalue": "name 'param' is not defined",
     "output_type": "error",
     "traceback": [
      "\u001b[1;31m---------------------------------------------------------------------------\u001b[0m",
      "\u001b[1;31mNameError\u001b[0m                                 Traceback (most recent call last)",
      "\u001b[1;32m<ipython-input-116-a2d509711629>\u001b[0m in \u001b[0;36m<module>\u001b[1;34m\u001b[0m\n\u001b[1;32m----> 1\u001b[1;33m \u001b[0mnp\u001b[0m\u001b[1;33m.\u001b[0m\u001b[0msin\u001b[0m\u001b[1;33m(\u001b[0m\u001b[0mx\u001b[0m\u001b[1;33m*\u001b[0m\u001b[0mnp\u001b[0m\u001b[1;33m.\u001b[0m\u001b[0mpi\u001b[0m\u001b[1;33m*\u001b[0m\u001b[0mparam\u001b[0m\u001b[1;33m)\u001b[0m\u001b[1;33m\u001b[0m\u001b[1;33m\u001b[0m\u001b[0m\n\u001b[0m",
      "\u001b[1;31mNameError\u001b[0m: name 'param' is not defined"
     ]
    }
   ],
   "source": []
  },
  {
   "cell_type": "code",
   "execution_count": 117,
   "metadata": {},
   "outputs": [],
   "source": [
    "def plotagem(param):\n",
    "    plt.figure(figsize=(8, 6))\n",
    "    x = np.linspace(0, 5, 501)\n",
    "    plt.plot(x, np.sin(x*np.pi*param))\n",
    "    plt.show()"
   ]
  },
  {
   "cell_type": "code",
   "execution_count": 118,
   "metadata": {},
   "outputs": [
    {
     "data": {
      "image/png": "[encoded data removed]",
      "text/plain": [
       "<Figure size 576x432 with 1 Axes>"
      ]
     },
     "metadata": {
      "needs_background": "light"
     },
     "output_type": "display_data"
    }
   ],
   "source": [
    "plotagem(-1)"
   ]
  },
  {
   "cell_type": "code",
   "execution_count": 119,
   "metadata": {},
   "outputs": [
    {
     "data": {
      "application/vnd.jupyter.widget-view+json": {
       "model_id": "9feeb491cae14949b74685a54076ffad",
       "version_major": 2,
       "version_minor": 0
      },
      "text/plain": [
       "interactive(children=(IntSlider(value=2, description='param', max=6, min=-2), Output()), _dom_classes=('widget…"
      ]
     },
     "metadata": {},
     "output_type": "display_data"
    },
    {
     "data": {
      "text/plain": [
       "<function __main__.plotagem(param)>"
      ]
     },
     "execution_count": 119,
     "metadata": {},
     "output_type": "execute_result"
    }
   ],
   "source": [
    "interact(plotagem, param=2)"
   ]
  },
  {
   "cell_type": "markdown",
   "metadata": {},
   "source": [
    "# Prática"
   ]
  },
  {
   "cell_type": "markdown",
   "metadata": {},
   "source": [
    "## Carregar os 3 csvs em dataframes:\n",
    "\n",
    "* AtivoCarteira.csv\n",
    "* AtivoTabelaPreco.csv\n",
    "* AtivoPrecoUnidade.csv"
   ]
  },
  {
   "cell_type": "code",
   "execution_count": 52,
   "metadata": {},
   "outputs": [
    {
     "data": {
      "text/html": [
       "<div>\n",
       "<style scoped>\n",
       "    .dataframe tbody tr th:only-of-type {\n",
       "        vertical-align: middle;\n",
       "    }\n",
       "\n",
       "    .dataframe tbody tr th {\n",
       "        vertical-align: top;\n",
       "    }\n",
       "\n",
       "    .dataframe thead th {\n",
       "        text-align: right;\n",
       "    }\n",
       "</style>\n",
       "<table border=\"1\" class=\"dataframe\">\n",
       "  <thead>\n",
       "    <tr style=\"text-align: right;\">\n",
       "      <th></th>\n",
       "      <th>ativos</th>\n",
       "      <th>qtd</th>\n",
       "    </tr>\n",
       "  </thead>\n",
       "  <tbody>\n",
       "    <tr>\n",
       "      <th>0</th>\n",
       "      <td>A</td>\n",
       "      <td>15</td>\n",
       "    </tr>\n",
       "    <tr>\n",
       "      <th>1</th>\n",
       "      <td>C</td>\n",
       "      <td>38</td>\n",
       "    </tr>\n",
       "    <tr>\n",
       "      <th>2</th>\n",
       "      <td>E</td>\n",
       "      <td>101</td>\n",
       "    </tr>\n",
       "  </tbody>\n",
       "</table>\n",
       "</div>"
      ],
      "text/plain": [
       "  ativos  qtd\n",
       "0      A   15\n",
       "1      C   38\n",
       "2      E  101"
      ]
     },
     "execution_count": 52,
     "metadata": {},
     "output_type": "execute_result"
    }
   ],
   "source": [
    "ativo_carteira_df = pd.read_csv('AtivoCarteira.csv')\n",
    "ativo_carteira_df"
   ]
  },
  {
   "cell_type": "code",
   "execution_count": 53,
   "metadata": {},
   "outputs": [
    {
     "data": {
      "text/html": [
       "<div>\n",
       "<style scoped>\n",
       "    .dataframe tbody tr th:only-of-type {\n",
       "        vertical-align: middle;\n",
       "    }\n",
       "\n",
       "    .dataframe tbody tr th {\n",
       "        vertical-align: top;\n",
       "    }\n",
       "\n",
       "    .dataframe thead th {\n",
       "        text-align: right;\n",
       "    }\n",
       "</style>\n",
       "<table border=\"1\" class=\"dataframe\">\n",
       "  <thead>\n",
       "    <tr style=\"text-align: right;\">\n",
       "      <th></th>\n",
       "      <th>DATA</th>\n",
       "      <th>A</th>\n",
       "      <th>B</th>\n",
       "      <th>C</th>\n",
       "      <th>D</th>\n",
       "      <th>E</th>\n",
       "    </tr>\n",
       "  </thead>\n",
       "  <tbody>\n",
       "    <tr>\n",
       "      <th>0</th>\n",
       "      <td>2017-04-05</td>\n",
       "      <td>0.002811</td>\n",
       "      <td>-0.018013</td>\n",
       "      <td>0.032058</td>\n",
       "      <td>0.030823</td>\n",
       "      <td>0.048951</td>\n",
       "    </tr>\n",
       "    <tr>\n",
       "      <th>1</th>\n",
       "      <td>2017-04-06</td>\n",
       "      <td>0.037022</td>\n",
       "      <td>0.041341</td>\n",
       "      <td>0.015483</td>\n",
       "      <td>0.048944</td>\n",
       "      <td>-0.030685</td>\n",
       "    </tr>\n",
       "    <tr>\n",
       "      <th>2</th>\n",
       "      <td>2017-04-07</td>\n",
       "      <td>-0.010763</td>\n",
       "      <td>-0.047160</td>\n",
       "      <td>0.023805</td>\n",
       "      <td>0.002283</td>\n",
       "      <td>-0.049531</td>\n",
       "    </tr>\n",
       "    <tr>\n",
       "      <th>3</th>\n",
       "      <td>2017-04-08</td>\n",
       "      <td>-0.030180</td>\n",
       "      <td>0.035305</td>\n",
       "      <td>-0.028110</td>\n",
       "      <td>0.041066</td>\n",
       "      <td>0.004722</td>\n",
       "    </tr>\n",
       "    <tr>\n",
       "      <th>4</th>\n",
       "      <td>2017-04-09</td>\n",
       "      <td>-0.031515</td>\n",
       "      <td>0.024788</td>\n",
       "      <td>-0.046728</td>\n",
       "      <td>-0.004896</td>\n",
       "      <td>0.042614</td>\n",
       "    </tr>\n",
       "    <tr>\n",
       "      <th>...</th>\n",
       "      <td>...</td>\n",
       "      <td>...</td>\n",
       "      <td>...</td>\n",
       "      <td>...</td>\n",
       "      <td>...</td>\n",
       "      <td>...</td>\n",
       "    </tr>\n",
       "    <tr>\n",
       "      <th>995</th>\n",
       "      <td>2019-12-26</td>\n",
       "      <td>-0.031635</td>\n",
       "      <td>0.039970</td>\n",
       "      <td>-0.037060</td>\n",
       "      <td>-0.035755</td>\n",
       "      <td>0.032632</td>\n",
       "    </tr>\n",
       "    <tr>\n",
       "      <th>996</th>\n",
       "      <td>2019-12-27</td>\n",
       "      <td>-0.024977</td>\n",
       "      <td>-0.031029</td>\n",
       "      <td>0.048233</td>\n",
       "      <td>0.038002</td>\n",
       "      <td>0.045246</td>\n",
       "    </tr>\n",
       "    <tr>\n",
       "      <th>997</th>\n",
       "      <td>2019-12-28</td>\n",
       "      <td>0.038493</td>\n",
       "      <td>0.012398</td>\n",
       "      <td>-0.045488</td>\n",
       "      <td>-0.004896</td>\n",
       "      <td>0.041029</td>\n",
       "    </tr>\n",
       "    <tr>\n",
       "      <th>998</th>\n",
       "      <td>2019-12-29</td>\n",
       "      <td>-0.009203</td>\n",
       "      <td>-0.043832</td>\n",
       "      <td>0.028211</td>\n",
       "      <td>-0.048818</td>\n",
       "      <td>0.025187</td>\n",
       "    </tr>\n",
       "    <tr>\n",
       "      <th>999</th>\n",
       "      <td>2019-12-30</td>\n",
       "      <td>0.047144</td>\n",
       "      <td>0.019155</td>\n",
       "      <td>-0.017805</td>\n",
       "      <td>0.017859</td>\n",
       "      <td>0.009428</td>\n",
       "    </tr>\n",
       "  </tbody>\n",
       "</table>\n",
       "<p>1000 rows × 6 columns</p>\n",
       "</div>"
      ],
      "text/plain": [
       "           DATA         A         B         C         D         E\n",
       "0    2017-04-05  0.002811 -0.018013  0.032058  0.030823  0.048951\n",
       "1    2017-04-06  0.037022  0.041341  0.015483  0.048944 -0.030685\n",
       "2    2017-04-07 -0.010763 -0.047160  0.023805  0.002283 -0.049531\n",
       "3    2017-04-08 -0.030180  0.035305 -0.028110  0.041066  0.004722\n",
       "4    2017-04-09 -0.031515  0.024788 -0.046728 -0.004896  0.042614\n",
       "..          ...       ...       ...       ...       ...       ...\n",
       "995  2019-12-26 -0.031635  0.039970 -0.037060 -0.035755  0.032632\n",
       "996  2019-12-27 -0.024977 -0.031029  0.048233  0.038002  0.045246\n",
       "997  2019-12-28  0.038493  0.012398 -0.045488 -0.004896  0.041029\n",
       "998  2019-12-29 -0.009203 -0.043832  0.028211 -0.048818  0.025187\n",
       "999  2019-12-30  0.047144  0.019155 -0.017805  0.017859  0.009428\n",
       "\n",
       "[1000 rows x 6 columns]"
      ]
     },
     "execution_count": 53,
     "metadata": {},
     "output_type": "execute_result"
    }
   ],
   "source": [
    "ativo_tabela_preco_df = pd.read_csv('AtivoTabelaPreco.csv')\n",
    "ativo_tabela_preco_df"
   ]
  },
  {
   "cell_type": "code",
   "execution_count": 54,
   "metadata": {},
   "outputs": [
    {
     "data": {
      "text/html": [
       "<div>\n",
       "<style scoped>\n",
       "    .dataframe tbody tr th:only-of-type {\n",
       "        vertical-align: middle;\n",
       "    }\n",
       "\n",
       "    .dataframe tbody tr th {\n",
       "        vertical-align: top;\n",
       "    }\n",
       "\n",
       "    .dataframe thead th {\n",
       "        text-align: right;\n",
       "    }\n",
       "</style>\n",
       "<table border=\"1\" class=\"dataframe\">\n",
       "  <thead>\n",
       "    <tr style=\"text-align: right;\">\n",
       "      <th></th>\n",
       "      <th>ativo</th>\n",
       "      <th>preco_unidade</th>\n",
       "    </tr>\n",
       "  </thead>\n",
       "  <tbody>\n",
       "    <tr>\n",
       "      <th>0</th>\n",
       "      <td>A</td>\n",
       "      <td>14</td>\n",
       "    </tr>\n",
       "    <tr>\n",
       "      <th>1</th>\n",
       "      <td>B</td>\n",
       "      <td>32</td>\n",
       "    </tr>\n",
       "    <tr>\n",
       "      <th>2</th>\n",
       "      <td>C</td>\n",
       "      <td>12</td>\n",
       "    </tr>\n",
       "    <tr>\n",
       "      <th>3</th>\n",
       "      <td>D</td>\n",
       "      <td>13</td>\n",
       "    </tr>\n",
       "    <tr>\n",
       "      <th>4</th>\n",
       "      <td>E</td>\n",
       "      <td>31</td>\n",
       "    </tr>\n",
       "  </tbody>\n",
       "</table>\n",
       "</div>"
      ],
      "text/plain": [
       "  ativo  preco_unidade\n",
       "0     A             14\n",
       "1     B             32\n",
       "2     C             12\n",
       "3     D             13\n",
       "4     E             31"
      ]
     },
     "execution_count": 54,
     "metadata": {},
     "output_type": "execute_result"
    }
   ],
   "source": [
    "ativo_preco_unidade_df = pd.read_csv('AtivoPrecoUnidade.csv')\n",
    "ativo_preco_unidade_df"
   ]
  },
  {
   "cell_type": "markdown",
   "metadata": {},
   "source": [
    "## Incluir no dataframe da carteira o preço de seus ativos"
   ]
  },
  {
   "cell_type": "code",
   "execution_count": 123,
   "metadata": {},
   "outputs": [
    {
     "data": {
      "text/html": [
       "<div>\n",
       "<style scoped>\n",
       "    .dataframe tbody tr th:only-of-type {\n",
       "        vertical-align: middle;\n",
       "    }\n",
       "\n",
       "    .dataframe tbody tr th {\n",
       "        vertical-align: top;\n",
       "    }\n",
       "\n",
       "    .dataframe thead th {\n",
       "        text-align: right;\n",
       "    }\n",
       "</style>\n",
       "<table border=\"1\" class=\"dataframe\">\n",
       "  <thead>\n",
       "    <tr style=\"text-align: right;\">\n",
       "      <th></th>\n",
       "      <th>ativos</th>\n",
       "      <th>qtd</th>\n",
       "      <th>ativo</th>\n",
       "      <th>preco_unidade</th>\n",
       "    </tr>\n",
       "  </thead>\n",
       "  <tbody>\n",
       "    <tr>\n",
       "      <th>0</th>\n",
       "      <td>A</td>\n",
       "      <td>15</td>\n",
       "      <td>A</td>\n",
       "      <td>14</td>\n",
       "    </tr>\n",
       "    <tr>\n",
       "      <th>1</th>\n",
       "      <td>C</td>\n",
       "      <td>38</td>\n",
       "      <td>C</td>\n",
       "      <td>12</td>\n",
       "    </tr>\n",
       "    <tr>\n",
       "      <th>2</th>\n",
       "      <td>E</td>\n",
       "      <td>101</td>\n",
       "      <td>E</td>\n",
       "      <td>31</td>\n",
       "    </tr>\n",
       "  </tbody>\n",
       "</table>\n",
       "</div>"
      ],
      "text/plain": [
       "  ativos  qtd ativo  preco_unidade\n",
       "0      A   15     A             14\n",
       "1      C   38     C             12\n",
       "2      E  101     E             31"
      ]
     },
     "execution_count": 123,
     "metadata": {},
     "output_type": "execute_result"
    }
   ],
   "source": [
    "ativo_carteira_df = ativo_carteira_df.merge(ativo_preco_unidade_df, left_on='ativos', right_on='ativo')\n",
    "ativo_carteira_df"
   ]
  },
  {
   "cell_type": "code",
   "execution_count": 124,
   "metadata": {},
   "outputs": [
    {
     "data": {
      "text/html": [
       "<div>\n",
       "<style scoped>\n",
       "    .dataframe tbody tr th:only-of-type {\n",
       "        vertical-align: middle;\n",
       "    }\n",
       "\n",
       "    .dataframe tbody tr th {\n",
       "        vertical-align: top;\n",
       "    }\n",
       "\n",
       "    .dataframe thead th {\n",
       "        text-align: right;\n",
       "    }\n",
       "</style>\n",
       "<table border=\"1\" class=\"dataframe\">\n",
       "  <thead>\n",
       "    <tr style=\"text-align: right;\">\n",
       "      <th></th>\n",
       "      <th>ativos</th>\n",
       "      <th>qtd</th>\n",
       "      <th>preco_unidade</th>\n",
       "    </tr>\n",
       "  </thead>\n",
       "  <tbody>\n",
       "    <tr>\n",
       "      <th>0</th>\n",
       "      <td>A</td>\n",
       "      <td>15</td>\n",
       "      <td>14</td>\n",
       "    </tr>\n",
       "    <tr>\n",
       "      <th>1</th>\n",
       "      <td>C</td>\n",
       "      <td>38</td>\n",
       "      <td>12</td>\n",
       "    </tr>\n",
       "    <tr>\n",
       "      <th>2</th>\n",
       "      <td>E</td>\n",
       "      <td>101</td>\n",
       "      <td>31</td>\n",
       "    </tr>\n",
       "  </tbody>\n",
       "</table>\n",
       "</div>"
      ],
      "text/plain": [
       "  ativos  qtd  preco_unidade\n",
       "0      A   15             14\n",
       "1      C   38             12\n",
       "2      E  101             31"
      ]
     },
     "execution_count": 124,
     "metadata": {},
     "output_type": "execute_result"
    }
   ],
   "source": [
    "ativo_carteira_df = ativo_carteira_df.drop(columns='ativo')\n",
    "ativo_carteira_df"
   ]
  },
  {
   "cell_type": "markdown",
   "metadata": {},
   "source": [
    "## Incluir na nossa carteira quanto dinheiro temos por ativo\n"
   ]
  },
  {
   "cell_type": "code",
   "execution_count": 125,
   "metadata": {},
   "outputs": [
    {
     "data": {
      "text/html": [
       "<div>\n",
       "<style scoped>\n",
       "    .dataframe tbody tr th:only-of-type {\n",
       "        vertical-align: middle;\n",
       "    }\n",
       "\n",
       "    .dataframe tbody tr th {\n",
       "        vertical-align: top;\n",
       "    }\n",
       "\n",
       "    .dataframe thead th {\n",
       "        text-align: right;\n",
       "    }\n",
       "</style>\n",
       "<table border=\"1\" class=\"dataframe\">\n",
       "  <thead>\n",
       "    <tr style=\"text-align: right;\">\n",
       "      <th></th>\n",
       "      <th>ativos</th>\n",
       "      <th>qtd</th>\n",
       "      <th>preco_unidade</th>\n",
       "      <th>valor</th>\n",
       "    </tr>\n",
       "  </thead>\n",
       "  <tbody>\n",
       "    <tr>\n",
       "      <th>0</th>\n",
       "      <td>A</td>\n",
       "      <td>15</td>\n",
       "      <td>14</td>\n",
       "      <td>210</td>\n",
       "    </tr>\n",
       "    <tr>\n",
       "      <th>1</th>\n",
       "      <td>C</td>\n",
       "      <td>38</td>\n",
       "      <td>12</td>\n",
       "      <td>456</td>\n",
       "    </tr>\n",
       "    <tr>\n",
       "      <th>2</th>\n",
       "      <td>E</td>\n",
       "      <td>101</td>\n",
       "      <td>31</td>\n",
       "      <td>3131</td>\n",
       "    </tr>\n",
       "  </tbody>\n",
       "</table>\n",
       "</div>"
      ],
      "text/plain": [
       "  ativos  qtd  preco_unidade  valor\n",
       "0      A   15             14    210\n",
       "1      C   38             12    456\n",
       "2      E  101             31   3131"
      ]
     },
     "execution_count": 125,
     "metadata": {},
     "output_type": "execute_result"
    }
   ],
   "source": [
    "ativo_carteira_df['valor'] = ativo_carteira_df['qtd'] * ativo_carteira_df['preco_unidade']\n",
    "ativo_carteira_df"
   ]
  },
  {
   "cell_type": "markdown",
   "metadata": {},
   "source": [
    "## Incluir na nossa tabela de rendimento por mês o valor dessas ações no dia"
   ]
  },
  {
   "cell_type": "code",
   "execution_count": 126,
   "metadata": {},
   "outputs": [
    {
     "data": {
      "text/html": [
       "<div>\n",
       "<style scoped>\n",
       "    .dataframe tbody tr th:only-of-type {\n",
       "        vertical-align: middle;\n",
       "    }\n",
       "\n",
       "    .dataframe tbody tr th {\n",
       "        vertical-align: top;\n",
       "    }\n",
       "\n",
       "    .dataframe thead th {\n",
       "        text-align: right;\n",
       "    }\n",
       "</style>\n",
       "<table border=\"1\" class=\"dataframe\">\n",
       "  <thead>\n",
       "    <tr style=\"text-align: right;\">\n",
       "      <th></th>\n",
       "      <th>A</th>\n",
       "      <th>B</th>\n",
       "      <th>C</th>\n",
       "      <th>D</th>\n",
       "      <th>E</th>\n",
       "    </tr>\n",
       "    <tr>\n",
       "      <th>DATA</th>\n",
       "      <th></th>\n",
       "      <th></th>\n",
       "      <th></th>\n",
       "      <th></th>\n",
       "      <th></th>\n",
       "    </tr>\n",
       "  </thead>\n",
       "  <tbody>\n",
       "    <tr>\n",
       "      <th>2017-04-05</th>\n",
       "      <td>0.002811</td>\n",
       "      <td>-0.018013</td>\n",
       "      <td>0.032058</td>\n",
       "      <td>0.030823</td>\n",
       "      <td>0.048951</td>\n",
       "    </tr>\n",
       "    <tr>\n",
       "      <th>2017-04-06</th>\n",
       "      <td>0.037022</td>\n",
       "      <td>0.041341</td>\n",
       "      <td>0.015483</td>\n",
       "      <td>0.048944</td>\n",
       "      <td>-0.030685</td>\n",
       "    </tr>\n",
       "    <tr>\n",
       "      <th>2017-04-07</th>\n",
       "      <td>-0.010763</td>\n",
       "      <td>-0.047160</td>\n",
       "      <td>0.023805</td>\n",
       "      <td>0.002283</td>\n",
       "      <td>-0.049531</td>\n",
       "    </tr>\n",
       "    <tr>\n",
       "      <th>2017-04-08</th>\n",
       "      <td>-0.030180</td>\n",
       "      <td>0.035305</td>\n",
       "      <td>-0.028110</td>\n",
       "      <td>0.041066</td>\n",
       "      <td>0.004722</td>\n",
       "    </tr>\n",
       "    <tr>\n",
       "      <th>2017-04-09</th>\n",
       "      <td>-0.031515</td>\n",
       "      <td>0.024788</td>\n",
       "      <td>-0.046728</td>\n",
       "      <td>-0.004896</td>\n",
       "      <td>0.042614</td>\n",
       "    </tr>\n",
       "    <tr>\n",
       "      <th>...</th>\n",
       "      <td>...</td>\n",
       "      <td>...</td>\n",
       "      <td>...</td>\n",
       "      <td>...</td>\n",
       "      <td>...</td>\n",
       "    </tr>\n",
       "    <tr>\n",
       "      <th>2019-12-26</th>\n",
       "      <td>-0.031635</td>\n",
       "      <td>0.039970</td>\n",
       "      <td>-0.037060</td>\n",
       "      <td>-0.035755</td>\n",
       "      <td>0.032632</td>\n",
       "    </tr>\n",
       "    <tr>\n",
       "      <th>2019-12-27</th>\n",
       "      <td>-0.024977</td>\n",
       "      <td>-0.031029</td>\n",
       "      <td>0.048233</td>\n",
       "      <td>0.038002</td>\n",
       "      <td>0.045246</td>\n",
       "    </tr>\n",
       "    <tr>\n",
       "      <th>2019-12-28</th>\n",
       "      <td>0.038493</td>\n",
       "      <td>0.012398</td>\n",
       "      <td>-0.045488</td>\n",
       "      <td>-0.004896</td>\n",
       "      <td>0.041029</td>\n",
       "    </tr>\n",
       "    <tr>\n",
       "      <th>2019-12-29</th>\n",
       "      <td>-0.009203</td>\n",
       "      <td>-0.043832</td>\n",
       "      <td>0.028211</td>\n",
       "      <td>-0.048818</td>\n",
       "      <td>0.025187</td>\n",
       "    </tr>\n",
       "    <tr>\n",
       "      <th>2019-12-30</th>\n",
       "      <td>0.047144</td>\n",
       "      <td>0.019155</td>\n",
       "      <td>-0.017805</td>\n",
       "      <td>0.017859</td>\n",
       "      <td>0.009428</td>\n",
       "    </tr>\n",
       "  </tbody>\n",
       "</table>\n",
       "<p>1000 rows × 5 columns</p>\n",
       "</div>"
      ],
      "text/plain": [
       "                   A         B         C         D         E\n",
       "DATA                                                        \n",
       "2017-04-05  0.002811 -0.018013  0.032058  0.030823  0.048951\n",
       "2017-04-06  0.037022  0.041341  0.015483  0.048944 -0.030685\n",
       "2017-04-07 -0.010763 -0.047160  0.023805  0.002283 -0.049531\n",
       "2017-04-08 -0.030180  0.035305 -0.028110  0.041066  0.004722\n",
       "2017-04-09 -0.031515  0.024788 -0.046728 -0.004896  0.042614\n",
       "...              ...       ...       ...       ...       ...\n",
       "2019-12-26 -0.031635  0.039970 -0.037060 -0.035755  0.032632\n",
       "2019-12-27 -0.024977 -0.031029  0.048233  0.038002  0.045246\n",
       "2019-12-28  0.038493  0.012398 -0.045488 -0.004896  0.041029\n",
       "2019-12-29 -0.009203 -0.043832  0.028211 -0.048818  0.025187\n",
       "2019-12-30  0.047144  0.019155 -0.017805  0.017859  0.009428\n",
       "\n",
       "[1000 rows x 5 columns]"
      ]
     },
     "execution_count": 126,
     "metadata": {},
     "output_type": "execute_result"
    }
   ],
   "source": [
    "ativo_tabela_preco_df.set_index('DATA', inplace=True)\n",
    "ativo_tabela_preco_df"
   ]
  },
  {
   "cell_type": "code",
   "execution_count": 164,
   "metadata": {},
   "outputs": [],
   "source": [
    "ativos = ativo_tabela_preco_df.columns"
   ]
  },
  {
   "cell_type": "code",
   "execution_count": 165,
   "metadata": {},
   "outputs": [
    {
     "data": {
      "text/plain": [
       "Index(['A', 'B', 'C', 'D', 'E'], dtype='object')"
      ]
     },
     "execution_count": 165,
     "metadata": {},
     "output_type": "execute_result"
    }
   ],
   "source": [
    "ativos"
   ]
  },
  {
   "cell_type": "markdown",
   "metadata": {},
   "source": [
    "## Calcula o cumprod"
   ]
  },
  {
   "cell_type": "code",
   "execution_count": 166,
   "metadata": {},
   "outputs": [],
   "source": [
    "for ativo in ativos:\n",
    "    cumprod = (ativo_tabela_preco_df[ativo] + 1).cumprod()\n",
    "    ativo_tabela_preco_df[f'{ativo}_cumprod'] = cumprod"
   ]
  },
  {
   "cell_type": "code",
   "execution_count": 167,
   "metadata": {},
   "outputs": [
    {
     "data": {
      "text/html": [
       "<div>\n",
       "<style scoped>\n",
       "    .dataframe tbody tr th:only-of-type {\n",
       "        vertical-align: middle;\n",
       "    }\n",
       "\n",
       "    .dataframe tbody tr th {\n",
       "        vertical-align: top;\n",
       "    }\n",
       "\n",
       "    .dataframe thead th {\n",
       "        text-align: right;\n",
       "    }\n",
       "</style>\n",
       "<table border=\"1\" class=\"dataframe\">\n",
       "  <thead>\n",
       "    <tr style=\"text-align: right;\">\n",
       "      <th></th>\n",
       "      <th>A</th>\n",
       "      <th>B</th>\n",
       "      <th>C</th>\n",
       "      <th>D</th>\n",
       "      <th>E</th>\n",
       "      <th>A_cumprod</th>\n",
       "      <th>B_cumprod</th>\n",
       "      <th>C_cumprod</th>\n",
       "      <th>D_cumprod</th>\n",
       "      <th>E_cumprod</th>\n",
       "    </tr>\n",
       "    <tr>\n",
       "      <th>DATA</th>\n",
       "      <th></th>\n",
       "      <th></th>\n",
       "      <th></th>\n",
       "      <th></th>\n",
       "      <th></th>\n",
       "      <th></th>\n",
       "      <th></th>\n",
       "      <th></th>\n",
       "      <th></th>\n",
       "      <th></th>\n",
       "    </tr>\n",
       "  </thead>\n",
       "  <tbody>\n",
       "    <tr>\n",
       "      <th>2017-04-05</th>\n",
       "      <td>0.002811</td>\n",
       "      <td>-0.018013</td>\n",
       "      <td>0.032058</td>\n",
       "      <td>0.030823</td>\n",
       "      <td>0.048951</td>\n",
       "      <td>1.002811</td>\n",
       "      <td>0.981987</td>\n",
       "      <td>1.032058</td>\n",
       "      <td>1.030823</td>\n",
       "      <td>1.048951</td>\n",
       "    </tr>\n",
       "    <tr>\n",
       "      <th>2017-04-06</th>\n",
       "      <td>0.037022</td>\n",
       "      <td>0.041341</td>\n",
       "      <td>0.015483</td>\n",
       "      <td>0.048944</td>\n",
       "      <td>-0.030685</td>\n",
       "      <td>1.039938</td>\n",
       "      <td>1.022584</td>\n",
       "      <td>1.048037</td>\n",
       "      <td>1.081275</td>\n",
       "      <td>1.016764</td>\n",
       "    </tr>\n",
       "    <tr>\n",
       "      <th>2017-04-07</th>\n",
       "      <td>-0.010763</td>\n",
       "      <td>-0.047160</td>\n",
       "      <td>0.023805</td>\n",
       "      <td>0.002283</td>\n",
       "      <td>-0.049531</td>\n",
       "      <td>1.028745</td>\n",
       "      <td>0.974359</td>\n",
       "      <td>1.072986</td>\n",
       "      <td>1.083743</td>\n",
       "      <td>0.966403</td>\n",
       "    </tr>\n",
       "    <tr>\n",
       "      <th>2017-04-08</th>\n",
       "      <td>-0.030180</td>\n",
       "      <td>0.035305</td>\n",
       "      <td>-0.028110</td>\n",
       "      <td>0.041066</td>\n",
       "      <td>0.004722</td>\n",
       "      <td>0.997697</td>\n",
       "      <td>1.008758</td>\n",
       "      <td>1.042825</td>\n",
       "      <td>1.128248</td>\n",
       "      <td>0.970966</td>\n",
       "    </tr>\n",
       "    <tr>\n",
       "      <th>2017-04-09</th>\n",
       "      <td>-0.031515</td>\n",
       "      <td>0.024788</td>\n",
       "      <td>-0.046728</td>\n",
       "      <td>-0.004896</td>\n",
       "      <td>0.042614</td>\n",
       "      <td>0.966254</td>\n",
       "      <td>1.033763</td>\n",
       "      <td>0.994096</td>\n",
       "      <td>1.122725</td>\n",
       "      <td>1.012343</td>\n",
       "    </tr>\n",
       "    <tr>\n",
       "      <th>...</th>\n",
       "      <td>...</td>\n",
       "      <td>...</td>\n",
       "      <td>...</td>\n",
       "      <td>...</td>\n",
       "      <td>...</td>\n",
       "      <td>...</td>\n",
       "      <td>...</td>\n",
       "      <td>...</td>\n",
       "      <td>...</td>\n",
       "      <td>...</td>\n",
       "    </tr>\n",
       "    <tr>\n",
       "      <th>2019-12-26</th>\n",
       "      <td>-0.031635</td>\n",
       "      <td>0.039970</td>\n",
       "      <td>-0.037060</td>\n",
       "      <td>-0.035755</td>\n",
       "      <td>0.032632</td>\n",
       "      <td>2.449419</td>\n",
       "      <td>0.262362</td>\n",
       "      <td>0.450427</td>\n",
       "      <td>0.571912</td>\n",
       "      <td>0.766283</td>\n",
       "    </tr>\n",
       "    <tr>\n",
       "      <th>2019-12-27</th>\n",
       "      <td>-0.024977</td>\n",
       "      <td>-0.031029</td>\n",
       "      <td>0.048233</td>\n",
       "      <td>0.038002</td>\n",
       "      <td>0.045246</td>\n",
       "      <td>2.388240</td>\n",
       "      <td>0.254221</td>\n",
       "      <td>0.472152</td>\n",
       "      <td>0.593646</td>\n",
       "      <td>0.800954</td>\n",
       "    </tr>\n",
       "    <tr>\n",
       "      <th>2019-12-28</th>\n",
       "      <td>0.038493</td>\n",
       "      <td>0.012398</td>\n",
       "      <td>-0.045488</td>\n",
       "      <td>-0.004896</td>\n",
       "      <td>0.041029</td>\n",
       "      <td>2.480171</td>\n",
       "      <td>0.257373</td>\n",
       "      <td>0.450675</td>\n",
       "      <td>0.590739</td>\n",
       "      <td>0.833816</td>\n",
       "    </tr>\n",
       "    <tr>\n",
       "      <th>2019-12-29</th>\n",
       "      <td>-0.009203</td>\n",
       "      <td>-0.043832</td>\n",
       "      <td>0.028211</td>\n",
       "      <td>-0.048818</td>\n",
       "      <td>0.025187</td>\n",
       "      <td>2.457345</td>\n",
       "      <td>0.246092</td>\n",
       "      <td>0.463389</td>\n",
       "      <td>0.561901</td>\n",
       "      <td>0.854818</td>\n",
       "    </tr>\n",
       "    <tr>\n",
       "      <th>2019-12-30</th>\n",
       "      <td>0.047144</td>\n",
       "      <td>0.019155</td>\n",
       "      <td>-0.017805</td>\n",
       "      <td>0.017859</td>\n",
       "      <td>0.009428</td>\n",
       "      <td>2.573193</td>\n",
       "      <td>0.250806</td>\n",
       "      <td>0.455139</td>\n",
       "      <td>0.571936</td>\n",
       "      <td>0.862877</td>\n",
       "    </tr>\n",
       "  </tbody>\n",
       "</table>\n",
       "<p>1000 rows × 10 columns</p>\n",
       "</div>"
      ],
      "text/plain": [
       "                   A         B         C         D         E  A_cumprod  \\\n",
       "DATA                                                                      \n",
       "2017-04-05  0.002811 -0.018013  0.032058  0.030823  0.048951   1.002811   \n",
       "2017-04-06  0.037022  0.041341  0.015483  0.048944 -0.030685   1.039938   \n",
       "2017-04-07 -0.010763 -0.047160  0.023805  0.002283 -0.049531   1.028745   \n",
       "2017-04-08 -0.030180  0.035305 -0.028110  0.041066  0.004722   0.997697   \n",
       "2017-04-09 -0.031515  0.024788 -0.046728 -0.004896  0.042614   0.966254   \n",
       "...              ...       ...       ...       ...       ...        ...   \n",
       "2019-12-26 -0.031635  0.039970 -0.037060 -0.035755  0.032632   2.449419   \n",
       "2019-12-27 -0.024977 -0.031029  0.048233  0.038002  0.045246   2.388240   \n",
       "2019-12-28  0.038493  0.012398 -0.045488 -0.004896  0.041029   2.480171   \n",
       "2019-12-29 -0.009203 -0.043832  0.028211 -0.048818  0.025187   2.457345   \n",
       "2019-12-30  0.047144  0.019155 -0.017805  0.017859  0.009428   2.573193   \n",
       "\n",
       "            B_cumprod  C_cumprod  D_cumprod  E_cumprod  \n",
       "DATA                                                    \n",
       "2017-04-05   0.981987   1.032058   1.030823   1.048951  \n",
       "2017-04-06   1.022584   1.048037   1.081275   1.016764  \n",
       "2017-04-07   0.974359   1.072986   1.083743   0.966403  \n",
       "2017-04-08   1.008758   1.042825   1.128248   0.970966  \n",
       "2017-04-09   1.033763   0.994096   1.122725   1.012343  \n",
       "...               ...        ...        ...        ...  \n",
       "2019-12-26   0.262362   0.450427   0.571912   0.766283  \n",
       "2019-12-27   0.254221   0.472152   0.593646   0.800954  \n",
       "2019-12-28   0.257373   0.450675   0.590739   0.833816  \n",
       "2019-12-29   0.246092   0.463389   0.561901   0.854818  \n",
       "2019-12-30   0.250806   0.455139   0.571936   0.862877  \n",
       "\n",
       "[1000 rows x 10 columns]"
      ]
     },
     "execution_count": 167,
     "metadata": {},
     "output_type": "execute_result"
    }
   ],
   "source": [
    "ativo_tabela_preco_df"
   ]
  },
  {
   "cell_type": "markdown",
   "metadata": {},
   "source": [
    "## Calcula o valor por dia"
   ]
  },
  {
   "cell_type": "code",
   "execution_count": 168,
   "metadata": {},
   "outputs": [
    {
     "data": {
      "text/html": [
       "<div>\n",
       "<style scoped>\n",
       "    .dataframe tbody tr th:only-of-type {\n",
       "        vertical-align: middle;\n",
       "    }\n",
       "\n",
       "    .dataframe tbody tr th {\n",
       "        vertical-align: top;\n",
       "    }\n",
       "\n",
       "    .dataframe thead th {\n",
       "        text-align: right;\n",
       "    }\n",
       "</style>\n",
       "<table border=\"1\" class=\"dataframe\">\n",
       "  <thead>\n",
       "    <tr style=\"text-align: right;\">\n",
       "      <th></th>\n",
       "      <th>preco_unidade</th>\n",
       "    </tr>\n",
       "    <tr>\n",
       "      <th>ativo</th>\n",
       "      <th></th>\n",
       "    </tr>\n",
       "  </thead>\n",
       "  <tbody>\n",
       "    <tr>\n",
       "      <th>A</th>\n",
       "      <td>14</td>\n",
       "    </tr>\n",
       "    <tr>\n",
       "      <th>B</th>\n",
       "      <td>32</td>\n",
       "    </tr>\n",
       "    <tr>\n",
       "      <th>C</th>\n",
       "      <td>12</td>\n",
       "    </tr>\n",
       "    <tr>\n",
       "      <th>D</th>\n",
       "      <td>13</td>\n",
       "    </tr>\n",
       "    <tr>\n",
       "      <th>E</th>\n",
       "      <td>31</td>\n",
       "    </tr>\n",
       "  </tbody>\n",
       "</table>\n",
       "</div>"
      ],
      "text/plain": [
       "       preco_unidade\n",
       "ativo               \n",
       "A                 14\n",
       "B                 32\n",
       "C                 12\n",
       "D                 13\n",
       "E                 31"
      ]
     },
     "execution_count": 168,
     "metadata": {},
     "output_type": "execute_result"
    }
   ],
   "source": [
    "ativo_preco_unidade_df.set_index('ativo', inplace=True)\n",
    "ativo_preco_unidade_df"
   ]
  },
  {
   "cell_type": "code",
   "execution_count": 169,
   "metadata": {},
   "outputs": [],
   "source": [
    "for ativo in ativos:\n",
    "    preco = ativo_preco_unidade_df.loc[ativo, 'preco_unidade']\n",
    "    valores_diarios = ativo_tabela_preco_df[f'{ativo}_cumprod'] * preco\n",
    "    ativo_tabela_preco_df[f'{ativo}_valor_diario'] = valores_diarios"
   ]
  },
  {
   "cell_type": "code",
   "execution_count": 171,
   "metadata": {},
   "outputs": [
    {
     "data": {
      "text/html": [
       "<div>\n",
       "<style scoped>\n",
       "    .dataframe tbody tr th:only-of-type {\n",
       "        vertical-align: middle;\n",
       "    }\n",
       "\n",
       "    .dataframe tbody tr th {\n",
       "        vertical-align: top;\n",
       "    }\n",
       "\n",
       "    .dataframe thead th {\n",
       "        text-align: right;\n",
       "    }\n",
       "</style>\n",
       "<table border=\"1\" class=\"dataframe\">\n",
       "  <thead>\n",
       "    <tr style=\"text-align: right;\">\n",
       "      <th></th>\n",
       "      <th>A</th>\n",
       "      <th>B</th>\n",
       "      <th>C</th>\n",
       "      <th>D</th>\n",
       "      <th>E</th>\n",
       "      <th>A_cumprod</th>\n",
       "      <th>B_cumprod</th>\n",
       "      <th>C_cumprod</th>\n",
       "      <th>D_cumprod</th>\n",
       "      <th>E_cumprod</th>\n",
       "      <th>A_valor_diario</th>\n",
       "      <th>B_valor_diario</th>\n",
       "      <th>C_valor_diario</th>\n",
       "      <th>D_valor_diario</th>\n",
       "      <th>E_valor_diario</th>\n",
       "    </tr>\n",
       "    <tr>\n",
       "      <th>DATA</th>\n",
       "      <th></th>\n",
       "      <th></th>\n",
       "      <th></th>\n",
       "      <th></th>\n",
       "      <th></th>\n",
       "      <th></th>\n",
       "      <th></th>\n",
       "      <th></th>\n",
       "      <th></th>\n",
       "      <th></th>\n",
       "      <th></th>\n",
       "      <th></th>\n",
       "      <th></th>\n",
       "      <th></th>\n",
       "      <th></th>\n",
       "    </tr>\n",
       "  </thead>\n",
       "  <tbody>\n",
       "    <tr>\n",
       "      <th>2017-04-05</th>\n",
       "      <td>0.002811</td>\n",
       "      <td>-0.018013</td>\n",
       "      <td>0.032058</td>\n",
       "      <td>0.030823</td>\n",
       "      <td>0.048951</td>\n",
       "      <td>1.002811</td>\n",
       "      <td>0.981987</td>\n",
       "      <td>1.032058</td>\n",
       "      <td>1.030823</td>\n",
       "      <td>1.048951</td>\n",
       "      <td>14.039357</td>\n",
       "      <td>31.423599</td>\n",
       "      <td>12.384701</td>\n",
       "      <td>13.400694</td>\n",
       "      <td>32.517493</td>\n",
       "    </tr>\n",
       "    <tr>\n",
       "      <th>2017-04-06</th>\n",
       "      <td>0.037022</td>\n",
       "      <td>0.041341</td>\n",
       "      <td>0.015483</td>\n",
       "      <td>0.048944</td>\n",
       "      <td>-0.030685</td>\n",
       "      <td>1.039938</td>\n",
       "      <td>1.022584</td>\n",
       "      <td>1.048037</td>\n",
       "      <td>1.081275</td>\n",
       "      <td>1.016764</td>\n",
       "      <td>14.559127</td>\n",
       "      <td>32.722675</td>\n",
       "      <td>12.576448</td>\n",
       "      <td>14.056574</td>\n",
       "      <td>31.519695</td>\n",
       "    </tr>\n",
       "    <tr>\n",
       "      <th>2017-04-07</th>\n",
       "      <td>-0.010763</td>\n",
       "      <td>-0.047160</td>\n",
       "      <td>0.023805</td>\n",
       "      <td>0.002283</td>\n",
       "      <td>-0.049531</td>\n",
       "      <td>1.028745</td>\n",
       "      <td>0.974359</td>\n",
       "      <td>1.072986</td>\n",
       "      <td>1.083743</td>\n",
       "      <td>0.966403</td>\n",
       "      <td>14.402427</td>\n",
       "      <td>31.179484</td>\n",
       "      <td>12.875828</td>\n",
       "      <td>14.088664</td>\n",
       "      <td>29.958482</td>\n",
       "    </tr>\n",
       "    <tr>\n",
       "      <th>2017-04-08</th>\n",
       "      <td>-0.030180</td>\n",
       "      <td>0.035305</td>\n",
       "      <td>-0.028110</td>\n",
       "      <td>0.041066</td>\n",
       "      <td>0.004722</td>\n",
       "      <td>0.997697</td>\n",
       "      <td>1.008758</td>\n",
       "      <td>1.042825</td>\n",
       "      <td>1.128248</td>\n",
       "      <td>0.970966</td>\n",
       "      <td>13.967761</td>\n",
       "      <td>32.280271</td>\n",
       "      <td>12.513894</td>\n",
       "      <td>14.667222</td>\n",
       "      <td>30.099958</td>\n",
       "    </tr>\n",
       "    <tr>\n",
       "      <th>2017-04-09</th>\n",
       "      <td>-0.031515</td>\n",
       "      <td>0.024788</td>\n",
       "      <td>-0.046728</td>\n",
       "      <td>-0.004896</td>\n",
       "      <td>0.042614</td>\n",
       "      <td>0.966254</td>\n",
       "      <td>1.033763</td>\n",
       "      <td>0.994096</td>\n",
       "      <td>1.122725</td>\n",
       "      <td>1.012343</td>\n",
       "      <td>13.527560</td>\n",
       "      <td>33.080424</td>\n",
       "      <td>11.929149</td>\n",
       "      <td>14.595419</td>\n",
       "      <td>31.382635</td>\n",
       "    </tr>\n",
       "    <tr>\n",
       "      <th>...</th>\n",
       "      <td>...</td>\n",
       "      <td>...</td>\n",
       "      <td>...</td>\n",
       "      <td>...</td>\n",
       "      <td>...</td>\n",
       "      <td>...</td>\n",
       "      <td>...</td>\n",
       "      <td>...</td>\n",
       "      <td>...</td>\n",
       "      <td>...</td>\n",
       "      <td>...</td>\n",
       "      <td>...</td>\n",
       "      <td>...</td>\n",
       "      <td>...</td>\n",
       "      <td>...</td>\n",
       "    </tr>\n",
       "    <tr>\n",
       "      <th>2019-12-26</th>\n",
       "      <td>-0.031635</td>\n",
       "      <td>0.039970</td>\n",
       "      <td>-0.037060</td>\n",
       "      <td>-0.035755</td>\n",
       "      <td>0.032632</td>\n",
       "      <td>2.449419</td>\n",
       "      <td>0.262362</td>\n",
       "      <td>0.450427</td>\n",
       "      <td>0.571912</td>\n",
       "      <td>0.766283</td>\n",
       "      <td>34.291865</td>\n",
       "      <td>8.395594</td>\n",
       "      <td>5.405122</td>\n",
       "      <td>7.434858</td>\n",
       "      <td>23.754771</td>\n",
       "    </tr>\n",
       "    <tr>\n",
       "      <th>2019-12-27</th>\n",
       "      <td>-0.024977</td>\n",
       "      <td>-0.031029</td>\n",
       "      <td>0.048233</td>\n",
       "      <td>0.038002</td>\n",
       "      <td>0.045246</td>\n",
       "      <td>2.388240</td>\n",
       "      <td>0.254221</td>\n",
       "      <td>0.472152</td>\n",
       "      <td>0.593646</td>\n",
       "      <td>0.800954</td>\n",
       "      <td>33.435358</td>\n",
       "      <td>8.135087</td>\n",
       "      <td>5.665829</td>\n",
       "      <td>7.717393</td>\n",
       "      <td>24.829573</td>\n",
       "    </tr>\n",
       "    <tr>\n",
       "      <th>2019-12-28</th>\n",
       "      <td>0.038493</td>\n",
       "      <td>0.012398</td>\n",
       "      <td>-0.045488</td>\n",
       "      <td>-0.004896</td>\n",
       "      <td>0.041029</td>\n",
       "      <td>2.480171</td>\n",
       "      <td>0.257373</td>\n",
       "      <td>0.450675</td>\n",
       "      <td>0.590739</td>\n",
       "      <td>0.833816</td>\n",
       "      <td>34.722397</td>\n",
       "      <td>8.235942</td>\n",
       "      <td>5.408104</td>\n",
       "      <td>7.679611</td>\n",
       "      <td>25.848309</td>\n",
       "    </tr>\n",
       "    <tr>\n",
       "      <th>2019-12-29</th>\n",
       "      <td>-0.009203</td>\n",
       "      <td>-0.043832</td>\n",
       "      <td>0.028211</td>\n",
       "      <td>-0.048818</td>\n",
       "      <td>0.025187</td>\n",
       "      <td>2.457345</td>\n",
       "      <td>0.246092</td>\n",
       "      <td>0.463389</td>\n",
       "      <td>0.561901</td>\n",
       "      <td>0.854818</td>\n",
       "      <td>34.402832</td>\n",
       "      <td>7.874941</td>\n",
       "      <td>5.560674</td>\n",
       "      <td>7.304709</td>\n",
       "      <td>26.499358</td>\n",
       "    </tr>\n",
       "    <tr>\n",
       "      <th>2019-12-30</th>\n",
       "      <td>0.047144</td>\n",
       "      <td>0.019155</td>\n",
       "      <td>-0.017805</td>\n",
       "      <td>0.017859</td>\n",
       "      <td>0.009428</td>\n",
       "      <td>2.573193</td>\n",
       "      <td>0.250806</td>\n",
       "      <td>0.455139</td>\n",
       "      <td>0.571936</td>\n",
       "      <td>0.862877</td>\n",
       "      <td>36.024703</td>\n",
       "      <td>8.025782</td>\n",
       "      <td>5.461668</td>\n",
       "      <td>7.435165</td>\n",
       "      <td>26.749200</td>\n",
       "    </tr>\n",
       "  </tbody>\n",
       "</table>\n",
       "<p>1000 rows × 15 columns</p>\n",
       "</div>"
      ],
      "text/plain": [
       "                   A         B         C         D         E  A_cumprod  \\\n",
       "DATA                                                                      \n",
       "2017-04-05  0.002811 -0.018013  0.032058  0.030823  0.048951   1.002811   \n",
       "2017-04-06  0.037022  0.041341  0.015483  0.048944 -0.030685   1.039938   \n",
       "2017-04-07 -0.010763 -0.047160  0.023805  0.002283 -0.049531   1.028745   \n",
       "2017-04-08 -0.030180  0.035305 -0.028110  0.041066  0.004722   0.997697   \n",
       "2017-04-09 -0.031515  0.024788 -0.046728 -0.004896  0.042614   0.966254   \n",
       "...              ...       ...       ...       ...       ...        ...   \n",
       "2019-12-26 -0.031635  0.039970 -0.037060 -0.035755  0.032632   2.449419   \n",
       "2019-12-27 -0.024977 -0.031029  0.048233  0.038002  0.045246   2.388240   \n",
       "2019-12-28  0.038493  0.012398 -0.045488 -0.004896  0.041029   2.480171   \n",
       "2019-12-29 -0.009203 -0.043832  0.028211 -0.048818  0.025187   2.457345   \n",
       "2019-12-30  0.047144  0.019155 -0.017805  0.017859  0.009428   2.573193   \n",
       "\n",
       "            B_cumprod  C_cumprod  D_cumprod  E_cumprod  A_valor_diario  \\\n",
       "DATA                                                                     \n",
       "2017-04-05   0.981987   1.032058   1.030823   1.048951       14.039357   \n",
       "2017-04-06   1.022584   1.048037   1.081275   1.016764       14.559127   \n",
       "2017-04-07   0.974359   1.072986   1.083743   0.966403       14.402427   \n",
       "2017-04-08   1.008758   1.042825   1.128248   0.970966       13.967761   \n",
       "2017-04-09   1.033763   0.994096   1.122725   1.012343       13.527560   \n",
       "...               ...        ...        ...        ...             ...   \n",
       "2019-12-26   0.262362   0.450427   0.571912   0.766283       34.291865   \n",
       "2019-12-27   0.254221   0.472152   0.593646   0.800954       33.435358   \n",
       "2019-12-28   0.257373   0.450675   0.590739   0.833816       34.722397   \n",
       "2019-12-29   0.246092   0.463389   0.561901   0.854818       34.402832   \n",
       "2019-12-30   0.250806   0.455139   0.571936   0.862877       36.024703   \n",
       "\n",
       "            B_valor_diario  C_valor_diario  D_valor_diario  E_valor_diario  \n",
       "DATA                                                                        \n",
       "2017-04-05       31.423599       12.384701       13.400694       32.517493  \n",
       "2017-04-06       32.722675       12.576448       14.056574       31.519695  \n",
       "2017-04-07       31.179484       12.875828       14.088664       29.958482  \n",
       "2017-04-08       32.280271       12.513894       14.667222       30.099958  \n",
       "2017-04-09       33.080424       11.929149       14.595419       31.382635  \n",
       "...                    ...             ...             ...             ...  \n",
       "2019-12-26        8.395594        5.405122        7.434858       23.754771  \n",
       "2019-12-27        8.135087        5.665829        7.717393       24.829573  \n",
       "2019-12-28        8.235942        5.408104        7.679611       25.848309  \n",
       "2019-12-29        7.874941        5.560674        7.304709       26.499358  \n",
       "2019-12-30        8.025782        5.461668        7.435165       26.749200  \n",
       "\n",
       "[1000 rows x 15 columns]"
      ]
     },
     "execution_count": 171,
     "metadata": {},
     "output_type": "execute_result"
    }
   ],
   "source": [
    "ativo_tabela_preco_df"
   ]
  },
  {
   "cell_type": "markdown",
   "metadata": {},
   "source": [
    "## Tan"
   ]
  },
  {
   "cell_type": "code",
   "execution_count": 172,
   "metadata": {},
   "outputs": [],
   "source": [
    "ativo_preco = [f'{ativo}_valor_diario' for ativo in ativos]"
   ]
  },
  {
   "cell_type": "code",
   "execution_count": 173,
   "metadata": {},
   "outputs": [
    {
     "data": {
      "text/plain": [
       "['A_valor_diario',\n",
       " 'B_valor_diario',\n",
       " 'C_valor_diario',\n",
       " 'D_valor_diario',\n",
       " 'E_valor_diario']"
      ]
     },
     "execution_count": 173,
     "metadata": {},
     "output_type": "execute_result"
    }
   ],
   "source": [
    "ativo_preco"
   ]
  },
  {
   "cell_type": "code",
   "execution_count": 175,
   "metadata": {},
   "outputs": [
    {
     "data": {
      "image/png": "[encoded data removed]",
      "text/plain": [
       "<Figure size 576x432 with 1 Axes>"
      ]
     },
     "metadata": {
      "needs_background": "light"
     },
     "output_type": "display_data"
    }
   ],
   "source": [
    "ativo_tabela_preco_df[ativo_preco].plot(\n",
    "    figsize=(8, 6),\n",
    "    title='Acompanhamento Ativos', grid=True).set(ylabel='Preço', xlabel='Dia')\n",
    "plt.show()"
   ]
  },
  {
   "cell_type": "code",
   "execution_count": 182,
   "metadata": {},
   "outputs": [],
   "source": [
    "plt.xticks?"
   ]
  },
  {
   "cell_type": "code",
   "execution_count": 184,
   "metadata": {},
   "outputs": [
    {
     "data": {
      "image/png": "[encoded data removed]",
      "text/plain": [
       "<Figure size 576x432 with 1 Axes>"
      ]
     },
     "metadata": {
      "needs_background": "light"
     },
     "output_type": "display_data"
    }
   ],
   "source": [
    "plt.figure(figsize=(8, 6))\n",
    "x = np.arange(len(ativo_tabela_preco_df))\n",
    "for ativo in ativo_preco:\n",
    "    plt.plot(x, ativo_tabela_preco_df[ativo].tolist(), label=ativo)\n",
    "plt.legend()\n",
    "plt.xticks(x[::50], ativo_tabela_preco_df.index[::50], rotation=70)\n",
    "plt.grid()\n",
    "plt.xlabel('Dia')\n",
    "plt.ylabel('Preço')\n",
    "plt.title('Acompanhamento Ativos')\n",
    "plt.show()"
   ]
  },
  {
   "cell_type": "code",
   "execution_count": null,
   "metadata": {},
   "outputs": [],
   "source": []
  }
 ],
 "metadata": {
  "kernelspec": {
   "display_name": "Python 3",
   "language": "python",
   "name": "python3"
  },
  "language_info": {
   "codemirror_mode": {
    "name": "ipython",
    "version": 3
   },
   "file_extension": ".py",
   "mimetype": "text/x-python",
   "name": "python",
   "nbconvert_exporter": "python",
   "pygments_lexer": "ipython3",
   "version": "3.8.2"
  },
  "toc": {
   "base_numbering": 1,
   "nav_menu": {},
   "number_sections": true,
   "sideBar": true,
   "skip_h1_title": false,
   "title_cell": "Table of Contents",
   "title_sidebar": "Contents",
   "toc_cell": false,
   "toc_position": {},
   "toc_section_display": true,
   "toc_window_display": false
  }
 },
 "nbformat": 4,
 "nbformat_minor": 4
}
