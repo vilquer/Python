{
 "cells": [
  {
   "cell_type": "code",
   "execution_count": 47,
   "metadata": {},
   "outputs": [],
   "source": [
    "%config IPCompleter.greedy=True"
   ]
  },
  {
   "cell_type": "code",
   "execution_count": 48,
   "metadata": {},
   "outputs": [],
   "source": [
    "users = [\n",
    "    {'id': 0, 'name': 'Hero'},\n",
    "    {'id': 1, 'name': 'Dunn'},\n",
    "    {'id': 2, 'name': 'Sue'},\n",
    "    {'id': 3, 'name': 'Chi'},\n",
    "    {'id': 4, 'name': 'Thor'},\n",
    "    {'id': 5, 'name': 'Clive'},\n",
    "    {'id': 6, 'name': 'Hicks'},\n",
    "    {'id': 7, 'name': 'Devin'},\n",
    "    {'id': 8, 'name': 'Kate'},\n",
    "    {'id': 9, 'name': 'Klein'}\n",
    "]"
   ]
  },
  {
   "cell_type": "code",
   "execution_count": 49,
   "metadata": {},
   "outputs": [],
   "source": [
    "friendships = [(0,1), (0,2), (1,2), (1,3), (2,3), (3,4), \n",
    "               (4,5), (5,6), (5,7), (6,8), (7,8), (8,9)]"
   ]
  },
  {
   "cell_type": "code",
   "execution_count": 50,
   "metadata": {},
   "outputs": [],
   "source": [
    "for user in users:\n",
    "    user['friends']=[]"
   ]
  },
  {
   "cell_type": "code",
   "execution_count": 51,
   "metadata": {},
   "outputs": [],
   "source": [
    "for i, j in friendships:\n",
    "    #isso funciona porque users[i] é o usuário cuja id é i\n",
    "    users[i]['friends'].append(users[j]) #adiciona i como amigo de j\n",
    "    users[j]['friends'].append(users[i]) #adiciona j como amigo de i\n"
   ]
  },
  {
   "cell_type": "code",
   "execution_count": 52,
   "metadata": {},
   "outputs": [],
   "source": [
    "def number_of_friends(user):\n",
    "    #quantos amigos cada um tem\n",
    "    return len(user['friends'])\n"
   ]
  },
  {
   "cell_type": "code",
   "execution_count": 53,
   "metadata": {},
   "outputs": [
    {
     "data": {
      "text/plain": [
       "{'id': 0,\n",
       " 'name': 'Hero',\n",
       " 'friends': [{'id': 1,\n",
       "   'name': 'Dunn',\n",
       "   'friends': [{...},\n",
       "    {'id': 2,\n",
       "     'name': 'Sue',\n",
       "     'friends': [{...},\n",
       "      {...},\n",
       "      {'id': 3,\n",
       "       'name': 'Chi',\n",
       "       'friends': [{...},\n",
       "        {...},\n",
       "        {'id': 4,\n",
       "         'name': 'Thor',\n",
       "         'friends': [{...},\n",
       "          {'id': 5,\n",
       "           'name': 'Clive',\n",
       "           'friends': [{...},\n",
       "            {'id': 6,\n",
       "             'name': 'Hicks',\n",
       "             'friends': [{...},\n",
       "              {'id': 8,\n",
       "               'name': 'Kate',\n",
       "               'friends': [{...},\n",
       "                {'id': 7, 'name': 'Devin', 'friends': [{...}, {...}]},\n",
       "                {'id': 9, 'name': 'Klein', 'friends': [{...}]}]}]},\n",
       "            {'id': 7,\n",
       "             'name': 'Devin',\n",
       "             'friends': [{...},\n",
       "              {'id': 8,\n",
       "               'name': 'Kate',\n",
       "               'friends': [{'id': 6,\n",
       "                 'name': 'Hicks',\n",
       "                 'friends': [{...}, {...}]},\n",
       "                {...},\n",
       "                {'id': 9, 'name': 'Klein', 'friends': [{...}]}]}]}]}]}]}]},\n",
       "    {'id': 3,\n",
       "     'name': 'Chi',\n",
       "     'friends': [{...},\n",
       "      {'id': 2, 'name': 'Sue', 'friends': [{...}, {...}, {...}]},\n",
       "      {'id': 4,\n",
       "       'name': 'Thor',\n",
       "       'friends': [{...},\n",
       "        {'id': 5,\n",
       "         'name': 'Clive',\n",
       "         'friends': [{...},\n",
       "          {'id': 6,\n",
       "           'name': 'Hicks',\n",
       "           'friends': [{...},\n",
       "            {'id': 8,\n",
       "             'name': 'Kate',\n",
       "             'friends': [{...},\n",
       "              {'id': 7, 'name': 'Devin', 'friends': [{...}, {...}]},\n",
       "              {'id': 9, 'name': 'Klein', 'friends': [{...}]}]}]},\n",
       "          {'id': 7,\n",
       "           'name': 'Devin',\n",
       "           'friends': [{...},\n",
       "            {'id': 8,\n",
       "             'name': 'Kate',\n",
       "             'friends': [{'id': 6, 'name': 'Hicks', 'friends': [{...}, {...}]},\n",
       "              {...},\n",
       "              {'id': 9, 'name': 'Klein', 'friends': [{...}]}]}]}]}]}]}]},\n",
       "  {'id': 2,\n",
       "   'name': 'Sue',\n",
       "   'friends': [{...},\n",
       "    {'id': 1,\n",
       "     'name': 'Dunn',\n",
       "     'friends': [{...},\n",
       "      {...},\n",
       "      {'id': 3,\n",
       "       'name': 'Chi',\n",
       "       'friends': [{...},\n",
       "        {...},\n",
       "        {'id': 4,\n",
       "         'name': 'Thor',\n",
       "         'friends': [{...},\n",
       "          {'id': 5,\n",
       "           'name': 'Clive',\n",
       "           'friends': [{...},\n",
       "            {'id': 6,\n",
       "             'name': 'Hicks',\n",
       "             'friends': [{...},\n",
       "              {'id': 8,\n",
       "               'name': 'Kate',\n",
       "               'friends': [{...},\n",
       "                {'id': 7, 'name': 'Devin', 'friends': [{...}, {...}]},\n",
       "                {'id': 9, 'name': 'Klein', 'friends': [{...}]}]}]},\n",
       "            {'id': 7,\n",
       "             'name': 'Devin',\n",
       "             'friends': [{...},\n",
       "              {'id': 8,\n",
       "               'name': 'Kate',\n",
       "               'friends': [{'id': 6,\n",
       "                 'name': 'Hicks',\n",
       "                 'friends': [{...}, {...}]},\n",
       "                {...},\n",
       "                {'id': 9, 'name': 'Klein', 'friends': [{...}]}]}]}]}]}]}]},\n",
       "    {'id': 3,\n",
       "     'name': 'Chi',\n",
       "     'friends': [{'id': 1, 'name': 'Dunn', 'friends': [{...}, {...}, {...}]},\n",
       "      {...},\n",
       "      {'id': 4,\n",
       "       'name': 'Thor',\n",
       "       'friends': [{...},\n",
       "        {'id': 5,\n",
       "         'name': 'Clive',\n",
       "         'friends': [{...},\n",
       "          {'id': 6,\n",
       "           'name': 'Hicks',\n",
       "           'friends': [{...},\n",
       "            {'id': 8,\n",
       "             'name': 'Kate',\n",
       "             'friends': [{...},\n",
       "              {'id': 7, 'name': 'Devin', 'friends': [{...}, {...}]},\n",
       "              {'id': 9, 'name': 'Klein', 'friends': [{...}]}]}]},\n",
       "          {'id': 7,\n",
       "           'name': 'Devin',\n",
       "           'friends': [{...},\n",
       "            {'id': 8,\n",
       "             'name': 'Kate',\n",
       "             'friends': [{'id': 6, 'name': 'Hicks', 'friends': [{...}, {...}]},\n",
       "              {...},\n",
       "              {'id': 9, 'name': 'Klein', 'friends': [{...}]}]}]}]}]}]}]}]}"
      ]
     },
     "execution_count": 53,
     "metadata": {},
     "output_type": "execute_result"
    }
   ],
   "source": [
    "users[0]"
   ]
  },
  {
   "cell_type": "code",
   "execution_count": 54,
   "metadata": {},
   "outputs": [],
   "source": [
    "total_connections = sum(number_of_friends(user)\n",
    "                       for user in users)"
   ]
  },
  {
   "cell_type": "code",
   "execution_count": 55,
   "metadata": {},
   "outputs": [
    {
     "data": {
      "text/plain": [
       "24"
      ]
     },
     "execution_count": 55,
     "metadata": {},
     "output_type": "execute_result"
    }
   ],
   "source": [
    "total_connections"
   ]
  },
  {
   "cell_type": "code",
   "execution_count": 56,
   "metadata": {},
   "outputs": [],
   "source": [
    "from __future__ import division\n",
    "num_users = len(users)\n",
    "avg_connections = total_connections / num_users"
   ]
  },
  {
   "cell_type": "code",
   "execution_count": 57,
   "metadata": {},
   "outputs": [],
   "source": [
    "num_friends_by_id = [(user[\"id\"], number_of_friends(user)) for user in users]\n"
   ]
  },
  {
   "cell_type": "code",
   "execution_count": 58,
   "metadata": {},
   "outputs": [
    {
     "ename": "SyntaxError",
     "evalue": "invalid syntax (<ipython-input-58-022ad7cb8b65>, line 1)",
     "output_type": "error",
     "traceback": [
      "\u001b[1;36m  File \u001b[1;32m\"<ipython-input-58-022ad7cb8b65>\"\u001b[1;36m, line \u001b[1;32m1\u001b[0m\n\u001b[1;33m    sorted(num_friends_by_id, key=lambda (user_id, num_friends): mum_friends, reverse=True)\u001b[0m\n\u001b[1;37m                                         ^\u001b[0m\n\u001b[1;31mSyntaxError\u001b[0m\u001b[1;31m:\u001b[0m invalid syntax\n"
     ]
    }
   ],
   "source": [
    "sorted(num_friends_by_id, key=lambda (user_id, num_friends): mum_friends, reverse=True)"
   ]
  },
  {
   "cell_type": "code",
   "execution_count": 59,
   "metadata": {},
   "outputs": [
    {
     "data": {
      "text/plain": [
       "\u001b[1;31mSignature:\u001b[0m \u001b[0msorted\u001b[0m\u001b[1;33m(\u001b[0m\u001b[0miterable\u001b[0m\u001b[1;33m,\u001b[0m \u001b[1;33m/\u001b[0m\u001b[1;33m,\u001b[0m \u001b[1;33m*\u001b[0m\u001b[1;33m,\u001b[0m \u001b[0mkey\u001b[0m\u001b[1;33m=\u001b[0m\u001b[1;32mNone\u001b[0m\u001b[1;33m,\u001b[0m \u001b[0mreverse\u001b[0m\u001b[1;33m=\u001b[0m\u001b[1;32mFalse\u001b[0m\u001b[1;33m)\u001b[0m\u001b[1;33m\u001b[0m\u001b[1;33m\u001b[0m\u001b[0m\n",
       "\u001b[1;31mDocstring:\u001b[0m\n",
       "Return a new list containing all items from the iterable in ascending order.\n",
       "\n",
       "A custom key function can be supplied to customize the sort order, and the\n",
       "reverse flag can be set to request the result in descending order.\n",
       "\u001b[1;31mType:\u001b[0m      builtin_function_or_method\n"
      ]
     },
     "metadata": {},
     "output_type": "display_data"
    }
   ],
   "source": [
    "?sorted\n"
   ]
  },
  {
   "cell_type": "code",
   "execution_count": 60,
   "metadata": {},
   "outputs": [
    {
     "data": {
      "text/plain": [
       "[(0, 2),\n",
       " (1, 3),\n",
       " (2, 3),\n",
       " (3, 3),\n",
       " (4, 2),\n",
       " (5, 3),\n",
       " (6, 2),\n",
       " (7, 2),\n",
       " (8, 3),\n",
       " (9, 1)]"
      ]
     },
     "execution_count": 60,
     "metadata": {},
     "output_type": "execute_result"
    }
   ],
   "source": [
    "num_friends_by_id"
   ]
  },
  {
   "cell_type": "code",
   "execution_count": 61,
   "metadata": {},
   "outputs": [
    {
     "data": {
      "text/plain": [
       "2"
      ]
     },
     "execution_count": 61,
     "metadata": {},
     "output_type": "execute_result"
    }
   ],
   "source": [
    "num_friends_by_id[0][1]"
   ]
  },
  {
   "cell_type": "code",
   "execution_count": 62,
   "metadata": {},
   "outputs": [
    {
     "data": {
      "text/plain": [
       "(9, 1)"
      ]
     },
     "execution_count": 62,
     "metadata": {},
     "output_type": "execute_result"
    }
   ],
   "source": [
    "num_friends_by_id[-1]"
   ]
  },
  {
   "cell_type": "code",
   "execution_count": 63,
   "metadata": {},
   "outputs": [],
   "source": [
    "def friends_of_friend_ids_bad(user):\n",
    "    return [foaf['id']\n",
    "           for friend in user['friends']\n",
    "           for foaf in friend['friends']]"
   ]
  },
  {
   "cell_type": "code",
   "execution_count": 64,
   "metadata": {},
   "outputs": [
    {
     "data": {
      "text/plain": [
       "[0, 2, 3, 0, 1, 3]"
      ]
     },
     "execution_count": 64,
     "metadata": {},
     "output_type": "execute_result"
    }
   ],
   "source": [
    "friends_of_friend_ids_bad(users[0])\n"
   ]
  },
  {
   "cell_type": "code",
   "execution_count": 65,
   "metadata": {},
   "outputs": [
    {
     "name": "stdout",
     "output_type": "stream",
     "text": [
      "[1, 2]\n",
      "[0, 2, 3]\n",
      "[0, 1, 3]\n"
     ]
    }
   ],
   "source": [
    "print ([friend['id'] for friend in users[0]['friends']]) # [1, 2]\n",
    "print ([friend['id'] for friend in users[1]['friends']]) # [0, 2, 3]\n",
    "print ([friend['id'] for friend in users[2]['friends']])  # [0, 1, 3]"
   ]
  },
  {
   "cell_type": "code",
   "execution_count": 68,
   "metadata": {},
   "outputs": [],
   "source": [
    "from collections import Counter"
   ]
  },
  {
   "cell_type": "code",
   "execution_count": 69,
   "metadata": {},
   "outputs": [],
   "source": [
    "def friends_of_friends(user):\n",
    "    user_id = user[\"id\"]\n",
    "    return Counter(\n",
    "        foaf_id\n",
    "        for friend_id in friendships[user_id]     # For each of my friends,\n",
    "        for foaf_id in friendships[friend_id]     # find their friends\n",
    "        if foaf_id != user_id                     # who aren't me\n",
    "        and foaf_id not in friendships[user_id]   # and aren't my friends.\n",
    "    )"
   ]
  },
  {
   "cell_type": "code",
   "execution_count": 70,
   "metadata": {},
   "outputs": [
    {
     "name": "stdout",
     "output_type": "stream",
     "text": [
      "Counter({0: 1, 2: 1})\n"
     ]
    }
   ],
   "source": [
    "print(friends_of_friends(users[3])) "
   ]
  },
  {
   "cell_type": "code",
   "execution_count": null,
   "metadata": {},
   "outputs": [],
   "source": []
  }
 ],
 "metadata": {
  "kernelspec": {
   "display_name": "Python 3",
   "language": "python",
   "name": "python3"
  },
  "language_info": {
   "codemirror_mode": {
    "name": "ipython",
    "version": 3
   },
   "file_extension": ".py",
   "mimetype": "text/x-python",
   "name": "python",
   "nbconvert_exporter": "python",
   "pygments_lexer": "ipython3",
   "version": "3.8.2"
  }
 },
 "nbformat": 4,
 "nbformat_minor": 4
}
