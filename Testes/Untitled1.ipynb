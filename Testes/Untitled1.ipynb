{
 "cells": [
  {
   "cell_type": "code",
   "execution_count": 1,
   "metadata": {},
   "outputs": [],
   "source": [
    "import pandas as pd\n",
    "import numpy as np\n",
    "import seaborn as sns\n",
    "import matplotlib.pyplot as plt"
   ]
  },
  {
   "cell_type": "code",
   "execution_count": 2,
   "metadata": {},
   "outputs": [],
   "source": [
    "from sklearn.datasets import load_wine\n",
    "vinhos = load_wine()\n",
    "#print(vinhos.DESCR)"
   ]
  },
  {
   "cell_type": "code",
   "execution_count": 19,
   "metadata": {},
   "outputs": [
    {
     "data": {
      "text/html": [
       "<div>\n",
       "<style scoped>\n",
       "    .dataframe tbody tr th:only-of-type {\n",
       "        vertical-align: middle;\n",
       "    }\n",
       "\n",
       "    .dataframe tbody tr th {\n",
       "        vertical-align: top;\n",
       "    }\n",
       "\n",
       "    .dataframe thead th {\n",
       "        text-align: right;\n",
       "    }\n",
       "</style>\n",
       "<table border=\"1\" class=\"dataframe\">\n",
       "  <thead>\n",
       "    <tr style=\"text-align: right;\">\n",
       "      <th></th>\n",
       "      <th>alcool</th>\n",
       "      <th>acido_malico</th>\n",
       "      <th>cinza</th>\n",
       "      <th>alcalinidade_cinzas</th>\n",
       "      <th>magnesio</th>\n",
       "      <th>feois_totais</th>\n",
       "      <th>flavanóides</th>\n",
       "      <th>fenois_nao_flavanoides</th>\n",
       "      <th>proantocianinas</th>\n",
       "      <th>intensidade_da_cor</th>\n",
       "      <th>matiz</th>\n",
       "      <th>OD280-OD315_de_vinhos_diluídos</th>\n",
       "      <th>proline</th>\n",
       "      <th>classe</th>\n",
       "    </tr>\n",
       "  </thead>\n",
       "  <tbody>\n",
       "    <tr>\n",
       "      <th>0</th>\n",
       "      <td>14.23</td>\n",
       "      <td>1.71</td>\n",
       "      <td>2.43</td>\n",
       "      <td>15.6</td>\n",
       "      <td>127.0</td>\n",
       "      <td>2.80</td>\n",
       "      <td>3.06</td>\n",
       "      <td>0.28</td>\n",
       "      <td>2.29</td>\n",
       "      <td>5.64</td>\n",
       "      <td>1.04</td>\n",
       "      <td>3.92</td>\n",
       "      <td>1065.0</td>\n",
       "      <td>0</td>\n",
       "    </tr>\n",
       "    <tr>\n",
       "      <th>1</th>\n",
       "      <td>13.20</td>\n",
       "      <td>1.78</td>\n",
       "      <td>2.14</td>\n",
       "      <td>11.2</td>\n",
       "      <td>100.0</td>\n",
       "      <td>2.65</td>\n",
       "      <td>2.76</td>\n",
       "      <td>0.26</td>\n",
       "      <td>1.28</td>\n",
       "      <td>4.38</td>\n",
       "      <td>1.05</td>\n",
       "      <td>3.40</td>\n",
       "      <td>1050.0</td>\n",
       "      <td>0</td>\n",
       "    </tr>\n",
       "    <tr>\n",
       "      <th>2</th>\n",
       "      <td>13.16</td>\n",
       "      <td>2.36</td>\n",
       "      <td>2.67</td>\n",
       "      <td>18.6</td>\n",
       "      <td>101.0</td>\n",
       "      <td>2.80</td>\n",
       "      <td>3.24</td>\n",
       "      <td>0.30</td>\n",
       "      <td>2.81</td>\n",
       "      <td>5.68</td>\n",
       "      <td>1.03</td>\n",
       "      <td>3.17</td>\n",
       "      <td>1185.0</td>\n",
       "      <td>0</td>\n",
       "    </tr>\n",
       "    <tr>\n",
       "      <th>3</th>\n",
       "      <td>14.37</td>\n",
       "      <td>1.95</td>\n",
       "      <td>2.50</td>\n",
       "      <td>16.8</td>\n",
       "      <td>113.0</td>\n",
       "      <td>3.85</td>\n",
       "      <td>3.49</td>\n",
       "      <td>0.24</td>\n",
       "      <td>2.18</td>\n",
       "      <td>7.80</td>\n",
       "      <td>0.86</td>\n",
       "      <td>3.45</td>\n",
       "      <td>1480.0</td>\n",
       "      <td>0</td>\n",
       "    </tr>\n",
       "    <tr>\n",
       "      <th>4</th>\n",
       "      <td>13.24</td>\n",
       "      <td>2.59</td>\n",
       "      <td>2.87</td>\n",
       "      <td>21.0</td>\n",
       "      <td>118.0</td>\n",
       "      <td>2.80</td>\n",
       "      <td>2.69</td>\n",
       "      <td>0.39</td>\n",
       "      <td>1.82</td>\n",
       "      <td>4.32</td>\n",
       "      <td>1.04</td>\n",
       "      <td>2.93</td>\n",
       "      <td>735.0</td>\n",
       "      <td>0</td>\n",
       "    </tr>\n",
       "  </tbody>\n",
       "</table>\n",
       "</div>"
      ],
      "text/plain": [
       "   alcool  acido_malico  cinza  alcalinidade_cinzas  magnesio  feois_totais  \\\n",
       "0   14.23          1.71   2.43                 15.6     127.0          2.80   \n",
       "1   13.20          1.78   2.14                 11.2     100.0          2.65   \n",
       "2   13.16          2.36   2.67                 18.6     101.0          2.80   \n",
       "3   14.37          1.95   2.50                 16.8     113.0          3.85   \n",
       "4   13.24          2.59   2.87                 21.0     118.0          2.80   \n",
       "\n",
       "   flavanóides  fenois_nao_flavanoides  proantocianinas  intensidade_da_cor  \\\n",
       "0         3.06                    0.28             2.29                5.64   \n",
       "1         2.76                    0.26             1.28                4.38   \n",
       "2         3.24                    0.30             2.81                5.68   \n",
       "3         3.49                    0.24             2.18                7.80   \n",
       "4         2.69                    0.39             1.82                4.32   \n",
       "\n",
       "   matiz  OD280-OD315_de_vinhos_diluídos  proline  classe  \n",
       "0   1.04                            3.92   1065.0       0  \n",
       "1   1.05                            3.40   1050.0       0  \n",
       "2   1.03                            3.17   1185.0       0  \n",
       "3   0.86                            3.45   1480.0       0  \n",
       "4   1.04                            2.93    735.0       0  "
      ]
     },
     "execution_count": 19,
     "metadata": {},
     "output_type": "execute_result"
    }
   ],
   "source": [
    "df = pd.DataFrame(vinhos.data , columns=[ 'alcool', 'acido_malico', 'cinza', 'alcalinidade_cinzas', 'magnesio', 'feois_totais', 'flavanóides', 'fenois_nao_flavanoides', 'proantocianinas',\n",
    "                                   'intensidade_da_cor', 'matiz', 'OD280-OD315_de_vinhos_diluídos', 'proline'])\n",
    "df['classe'] = vinhos.target\n",
    "df.head()"
   ]
  },
  {
   "cell_type": "code",
   "execution_count": 20,
   "metadata": {},
   "outputs": [
    {
     "name": "stdout",
     "output_type": "stream",
     "text": [
      "<class 'pandas.core.frame.DataFrame'>\n",
      "RangeIndex: 178 entries, 0 to 177\n",
      "Data columns (total 14 columns):\n",
      " #   Column                          Non-Null Count  Dtype  \n",
      "---  ------                          --------------  -----  \n",
      " 0   alcool                          178 non-null    float64\n",
      " 1   acido_malico                    178 non-null    float64\n",
      " 2   cinza                           178 non-null    float64\n",
      " 3   alcalinidade_cinzas             178 non-null    float64\n",
      " 4   magnesio                        178 non-null    float64\n",
      " 5   feois_totais                    178 non-null    float64\n",
      " 6   flavanóides                     178 non-null    float64\n",
      " 7   fenois_nao_flavanoides          178 non-null    float64\n",
      " 8   proantocianinas                 178 non-null    float64\n",
      " 9   intensidade_da_cor              178 non-null    float64\n",
      " 10  matiz                           178 non-null    float64\n",
      " 11  OD280-OD315_de_vinhos_diluídos  178 non-null    float64\n",
      " 12  proline                         178 non-null    float64\n",
      " 13  classe                          178 non-null    int32  \n",
      "dtypes: float64(13), int32(1)\n",
      "memory usage: 18.9 KB\n"
     ]
    }
   ],
   "source": [
    "df.info()"
   ]
  },
  {
   "cell_type": "code",
   "execution_count": 21,
   "metadata": {},
   "outputs": [
    {
     "data": {
      "text/plain": [
       "alcool                            0\n",
       "acido_malico                      0\n",
       "cinza                             0\n",
       "alcalinidade_cinzas               0\n",
       "magnesio                          0\n",
       "feois_totais                      0\n",
       "flavanóides                       0\n",
       "fenois_nao_flavanoides            0\n",
       "proantocianinas                   0\n",
       "intensidade_da_cor                0\n",
       "matiz                             0\n",
       "OD280-OD315_de_vinhos_diluídos    0\n",
       "proline                           0\n",
       "classe                            0\n",
       "dtype: int64"
      ]
     },
     "execution_count": 21,
     "metadata": {},
     "output_type": "execute_result"
    }
   ],
   "source": [
    "df.isnull().sum()"
   ]
  },
  {
   "cell_type": "code",
   "execution_count": 22,
   "metadata": {},
   "outputs": [
    {
     "data": {
      "text/html": [
       "<div>\n",
       "<style scoped>\n",
       "    .dataframe tbody tr th:only-of-type {\n",
       "        vertical-align: middle;\n",
       "    }\n",
       "\n",
       "    .dataframe tbody tr th {\n",
       "        vertical-align: top;\n",
       "    }\n",
       "\n",
       "    .dataframe thead th {\n",
       "        text-align: right;\n",
       "    }\n",
       "</style>\n",
       "<table border=\"1\" class=\"dataframe\">\n",
       "  <thead>\n",
       "    <tr style=\"text-align: right;\">\n",
       "      <th></th>\n",
       "      <th>alcool</th>\n",
       "      <th>acido_malico</th>\n",
       "      <th>cinza</th>\n",
       "      <th>alcalinidade_cinzas</th>\n",
       "      <th>magnesio</th>\n",
       "      <th>feois_totais</th>\n",
       "      <th>flavanóides</th>\n",
       "      <th>fenois_nao_flavanoides</th>\n",
       "      <th>proantocianinas</th>\n",
       "      <th>intensidade_da_cor</th>\n",
       "      <th>matiz</th>\n",
       "      <th>OD280-OD315_de_vinhos_diluídos</th>\n",
       "      <th>proline</th>\n",
       "      <th>classe</th>\n",
       "    </tr>\n",
       "  </thead>\n",
       "  <tbody>\n",
       "    <tr>\n",
       "      <th>count</th>\n",
       "      <td>178.000000</td>\n",
       "      <td>178.000000</td>\n",
       "      <td>178.000000</td>\n",
       "      <td>178.000000</td>\n",
       "      <td>178.000000</td>\n",
       "      <td>178.000000</td>\n",
       "      <td>178.000000</td>\n",
       "      <td>178.000000</td>\n",
       "      <td>178.000000</td>\n",
       "      <td>178.000000</td>\n",
       "      <td>178.000000</td>\n",
       "      <td>178.000000</td>\n",
       "      <td>178.000000</td>\n",
       "      <td>178.000000</td>\n",
       "    </tr>\n",
       "    <tr>\n",
       "      <th>mean</th>\n",
       "      <td>13.000618</td>\n",
       "      <td>2.336348</td>\n",
       "      <td>2.366517</td>\n",
       "      <td>19.494944</td>\n",
       "      <td>99.741573</td>\n",
       "      <td>2.295112</td>\n",
       "      <td>2.029270</td>\n",
       "      <td>0.361854</td>\n",
       "      <td>1.590899</td>\n",
       "      <td>5.058090</td>\n",
       "      <td>0.957449</td>\n",
       "      <td>2.611685</td>\n",
       "      <td>746.893258</td>\n",
       "      <td>0.938202</td>\n",
       "    </tr>\n",
       "    <tr>\n",
       "      <th>std</th>\n",
       "      <td>0.811827</td>\n",
       "      <td>1.117146</td>\n",
       "      <td>0.274344</td>\n",
       "      <td>3.339564</td>\n",
       "      <td>14.282484</td>\n",
       "      <td>0.625851</td>\n",
       "      <td>0.998859</td>\n",
       "      <td>0.124453</td>\n",
       "      <td>0.572359</td>\n",
       "      <td>2.318286</td>\n",
       "      <td>0.228572</td>\n",
       "      <td>0.709990</td>\n",
       "      <td>314.907474</td>\n",
       "      <td>0.775035</td>\n",
       "    </tr>\n",
       "    <tr>\n",
       "      <th>min</th>\n",
       "      <td>11.030000</td>\n",
       "      <td>0.740000</td>\n",
       "      <td>1.360000</td>\n",
       "      <td>10.600000</td>\n",
       "      <td>70.000000</td>\n",
       "      <td>0.980000</td>\n",
       "      <td>0.340000</td>\n",
       "      <td>0.130000</td>\n",
       "      <td>0.410000</td>\n",
       "      <td>1.280000</td>\n",
       "      <td>0.480000</td>\n",
       "      <td>1.270000</td>\n",
       "      <td>278.000000</td>\n",
       "      <td>0.000000</td>\n",
       "    </tr>\n",
       "    <tr>\n",
       "      <th>25%</th>\n",
       "      <td>12.362500</td>\n",
       "      <td>1.602500</td>\n",
       "      <td>2.210000</td>\n",
       "      <td>17.200000</td>\n",
       "      <td>88.000000</td>\n",
       "      <td>1.742500</td>\n",
       "      <td>1.205000</td>\n",
       "      <td>0.270000</td>\n",
       "      <td>1.250000</td>\n",
       "      <td>3.220000</td>\n",
       "      <td>0.782500</td>\n",
       "      <td>1.937500</td>\n",
       "      <td>500.500000</td>\n",
       "      <td>0.000000</td>\n",
       "    </tr>\n",
       "    <tr>\n",
       "      <th>50%</th>\n",
       "      <td>13.050000</td>\n",
       "      <td>1.865000</td>\n",
       "      <td>2.360000</td>\n",
       "      <td>19.500000</td>\n",
       "      <td>98.000000</td>\n",
       "      <td>2.355000</td>\n",
       "      <td>2.135000</td>\n",
       "      <td>0.340000</td>\n",
       "      <td>1.555000</td>\n",
       "      <td>4.690000</td>\n",
       "      <td>0.965000</td>\n",
       "      <td>2.780000</td>\n",
       "      <td>673.500000</td>\n",
       "      <td>1.000000</td>\n",
       "    </tr>\n",
       "    <tr>\n",
       "      <th>75%</th>\n",
       "      <td>13.677500</td>\n",
       "      <td>3.082500</td>\n",
       "      <td>2.557500</td>\n",
       "      <td>21.500000</td>\n",
       "      <td>107.000000</td>\n",
       "      <td>2.800000</td>\n",
       "      <td>2.875000</td>\n",
       "      <td>0.437500</td>\n",
       "      <td>1.950000</td>\n",
       "      <td>6.200000</td>\n",
       "      <td>1.120000</td>\n",
       "      <td>3.170000</td>\n",
       "      <td>985.000000</td>\n",
       "      <td>2.000000</td>\n",
       "    </tr>\n",
       "    <tr>\n",
       "      <th>max</th>\n",
       "      <td>14.830000</td>\n",
       "      <td>5.800000</td>\n",
       "      <td>3.230000</td>\n",
       "      <td>30.000000</td>\n",
       "      <td>162.000000</td>\n",
       "      <td>3.880000</td>\n",
       "      <td>5.080000</td>\n",
       "      <td>0.660000</td>\n",
       "      <td>3.580000</td>\n",
       "      <td>13.000000</td>\n",
       "      <td>1.710000</td>\n",
       "      <td>4.000000</td>\n",
       "      <td>1680.000000</td>\n",
       "      <td>2.000000</td>\n",
       "    </tr>\n",
       "  </tbody>\n",
       "</table>\n",
       "</div>"
      ],
      "text/plain": [
       "           alcool  acido_malico       cinza  alcalinidade_cinzas    magnesio  \\\n",
       "count  178.000000    178.000000  178.000000           178.000000  178.000000   \n",
       "mean    13.000618      2.336348    2.366517            19.494944   99.741573   \n",
       "std      0.811827      1.117146    0.274344             3.339564   14.282484   \n",
       "min     11.030000      0.740000    1.360000            10.600000   70.000000   \n",
       "25%     12.362500      1.602500    2.210000            17.200000   88.000000   \n",
       "50%     13.050000      1.865000    2.360000            19.500000   98.000000   \n",
       "75%     13.677500      3.082500    2.557500            21.500000  107.000000   \n",
       "max     14.830000      5.800000    3.230000            30.000000  162.000000   \n",
       "\n",
       "       feois_totais  flavanóides  fenois_nao_flavanoides  proantocianinas  \\\n",
       "count    178.000000   178.000000              178.000000       178.000000   \n",
       "mean       2.295112     2.029270                0.361854         1.590899   \n",
       "std        0.625851     0.998859                0.124453         0.572359   \n",
       "min        0.980000     0.340000                0.130000         0.410000   \n",
       "25%        1.742500     1.205000                0.270000         1.250000   \n",
       "50%        2.355000     2.135000                0.340000         1.555000   \n",
       "75%        2.800000     2.875000                0.437500         1.950000   \n",
       "max        3.880000     5.080000                0.660000         3.580000   \n",
       "\n",
       "       intensidade_da_cor       matiz  OD280-OD315_de_vinhos_diluídos  \\\n",
       "count          178.000000  178.000000                      178.000000   \n",
       "mean             5.058090    0.957449                        2.611685   \n",
       "std              2.318286    0.228572                        0.709990   \n",
       "min              1.280000    0.480000                        1.270000   \n",
       "25%              3.220000    0.782500                        1.937500   \n",
       "50%              4.690000    0.965000                        2.780000   \n",
       "75%              6.200000    1.120000                        3.170000   \n",
       "max             13.000000    1.710000                        4.000000   \n",
       "\n",
       "           proline      classe  \n",
       "count   178.000000  178.000000  \n",
       "mean    746.893258    0.938202  \n",
       "std     314.907474    0.775035  \n",
       "min     278.000000    0.000000  \n",
       "25%     500.500000    0.000000  \n",
       "50%     673.500000    1.000000  \n",
       "75%     985.000000    2.000000  \n",
       "max    1680.000000    2.000000  "
      ]
     },
     "execution_count": 22,
     "metadata": {},
     "output_type": "execute_result"
    }
   ],
   "source": [
    "df.describe()"
   ]
  },
  {
   "cell_type": "code",
   "execution_count": 23,
   "metadata": {},
   "outputs": [
    {
     "data": {
      "text/plain": [
       "<AxesSubplot:>"
      ]
     },
     "execution_count": 23,
     "metadata": {},
     "output_type": "execute_result"
    },
    {
     "data": {
      "image/png": "[encoded data removed]",
      "text/plain": [
       "<Figure size 1152x432 with 2 Axes>"
      ]
     },
     "metadata": {
      "needs_background": "light"
     },
     "output_type": "display_data"
    }
   ],
   "source": [
    "# calculando Correlações\n",
    "corelacao = df.corr()\n",
    "plt.figure(figsize=(16, 6))\n",
    "sns.heatmap(data=corelacao, annot=True)"
   ]
  },
  {
   "cell_type": "code",
   "execution_count": 24,
   "metadata": {},
   "outputs": [],
   "source": [
    "# Importando o Plot.ly\n",
    "import plotly.express as px"
   ]
  },
  {
   "cell_type": "code",
   "execution_count": 25,
   "metadata": {},
   "outputs": [
    {
     "data": {
      "application/vnd.plotly.v1+json": {
       "config": {
        "plotlyServerURL": "https://plot.ly"
       },
       "data": [
        {
         "hovertemplate": "alcool=%{x}<br>intensidade_da_cor=%{y}<extra></extra>",
         "legendgroup": "",
         "marker": {
          "color": "#636efa",
          "symbol": "circle"
         },
         "mode": "markers",
         "name": "",
         "orientation": "v",
         "showlegend": false,
         "type": "scatter",
         "x": [
          14.23,
          13.2,
          13.16,
          14.37,
          13.24,
          14.2,
          14.39,
          14.06,
          14.83,
          13.86,
          14.1,
          14.12,
          13.75,
          14.75,
          14.38,
          13.63,
          14.3,
          13.83,
          14.19,
          13.64,
          14.06,
          12.93,
          13.71,
          12.85,
          13.5,
          13.05,
          13.39,
          13.3,
          13.87,
          14.02,
          13.73,
          13.58,
          13.68,
          13.76,
          13.51,
          13.48,
          13.28,
          13.05,
          13.07,
          14.22,
          13.56,
          13.41,
          13.88,
          13.24,
          13.05,
          14.21,
          14.38,
          13.9,
          14.1,
          13.94,
          13.05,
          13.83,
          13.82,
          13.77,
          13.74,
          13.56,
          14.22,
          13.29,
          13.72,
          12.37,
          12.33,
          12.64,
          13.67,
          12.37,
          12.17,
          12.37,
          13.11,
          12.37,
          13.34,
          12.21,
          12.29,
          13.86,
          13.49,
          12.99,
          11.96,
          11.66,
          13.03,
          11.84,
          12.33,
          12.7,
          12,
          12.72,
          12.08,
          13.05,
          11.84,
          12.67,
          12.16,
          11.65,
          11.64,
          12.08,
          12.08,
          12,
          12.69,
          12.29,
          11.62,
          12.47,
          11.81,
          12.29,
          12.37,
          12.29,
          12.08,
          12.6,
          12.34,
          11.82,
          12.51,
          12.42,
          12.25,
          12.72,
          12.22,
          11.61,
          11.46,
          12.52,
          11.76,
          11.41,
          12.08,
          11.03,
          11.82,
          12.42,
          12.77,
          12,
          11.45,
          11.56,
          12.42,
          13.05,
          11.87,
          12.07,
          12.43,
          11.79,
          12.37,
          12.04,
          12.86,
          12.88,
          12.81,
          12.7,
          12.51,
          12.6,
          12.25,
          12.53,
          13.49,
          12.84,
          12.93,
          13.36,
          13.52,
          13.62,
          12.25,
          13.16,
          13.88,
          12.87,
          13.32,
          13.08,
          13.5,
          12.79,
          13.11,
          13.23,
          12.58,
          13.17,
          13.84,
          12.45,
          14.34,
          13.48,
          12.36,
          13.69,
          12.85,
          12.96,
          13.78,
          13.73,
          13.45,
          12.82,
          13.58,
          13.4,
          12.2,
          12.77,
          14.16,
          13.71,
          13.4,
          13.27,
          13.17,
          14.13
         ],
         "xaxis": "x",
         "y": [
          5.64,
          4.38,
          5.68,
          7.8,
          4.32,
          6.75,
          5.25,
          5.05,
          5.2,
          7.22,
          5.75,
          5,
          5.6,
          5.4,
          7.5,
          7.3,
          6.2,
          6.6,
          8.7,
          5.1,
          5.65,
          4.5,
          3.8,
          3.93,
          3.52,
          3.58,
          4.8,
          3.95,
          4.5,
          4.7,
          5.7,
          6.9,
          3.84,
          5.4,
          4.2,
          5.1,
          4.6,
          4.25,
          3.7,
          5.1,
          6.13,
          4.28,
          5.43,
          4.36,
          5.04,
          5.24,
          4.9,
          6.1,
          6.2,
          8.9,
          7.2,
          5.6,
          7.05,
          6.3,
          5.85,
          6.25,
          6.38,
          6,
          6.8,
          1.95,
          3.27,
          5.75,
          3.8,
          4.45,
          2.95,
          4.6,
          5.3,
          4.68,
          3.17,
          2.85,
          3.05,
          3.38,
          3.74,
          3.35,
          3.21,
          3.8,
          4.6,
          2.65,
          3.4,
          2.57,
          2.5,
          3.9,
          2.2,
          4.8,
          3.05,
          2.62,
          2.45,
          2.6,
          2.8,
          1.74,
          2.4,
          3.6,
          3.05,
          2.15,
          3.25,
          2.6,
          2.5,
          2.9,
          4.5,
          2.3,
          3.3,
          2.45,
          2.8,
          2.06,
          2.94,
          2.7,
          3.4,
          3.3,
          2.7,
          2.65,
          2.9,
          2,
          3.8,
          3.08,
          2.9,
          1.9,
          1.95,
          2.06,
          3.4,
          1.28,
          3.25,
          6,
          2.08,
          2.6,
          2.8,
          2.76,
          3.94,
          3,
          2.12,
          2.6,
          4.1,
          5.4,
          5.7,
          5,
          5.45,
          7.1,
          3.85,
          5,
          5.7,
          4.92,
          4.6,
          5.6,
          4.35,
          4.4,
          8.21,
          4,
          4.9,
          7.65,
          8.42,
          9.4,
          8.6,
          10.8,
          7.1,
          10.52,
          7.6,
          7.9,
          9.01,
          7.5,
          13,
          11.75,
          7.65,
          5.88,
          5.58,
          5.28,
          9.58,
          6.62,
          10.68,
          10.26,
          8.66,
          8.5,
          5.5,
          9.899999,
          9.7,
          7.7,
          7.3,
          10.2,
          9.3,
          9.2
         ],
         "yaxis": "y"
        }
       ],
       "layout": {
        "legend": {
         "tracegroupgap": 0
        },
        "margin": {
         "t": 60
        },
        "template": {
         "data": {
          "bar": [
           {
            "error_x": {
             "color": "#2a3f5f"
            },
            "error_y": {
             "color": "#2a3f5f"
            },
            "marker": {
             "line": {
              "color": "#E5ECF6",
              "width": 0.5
             }
            },
            "type": "bar"
           }
          ],
          "barpolar": [
           {
            "marker": {
             "line": {
              "color": "#E5ECF6",
              "width": 0.5
             }
            },
            "type": "barpolar"
           }
          ],
          "carpet": [
           {
            "aaxis": {
             "endlinecolor": "#2a3f5f",
             "gridcolor": "white",
             "linecolor": "white",
             "minorgridcolor": "white",
             "startlinecolor": "#2a3f5f"
            },
            "baxis": {
             "endlinecolor": "#2a3f5f",
             "gridcolor": "white",
             "linecolor": "white",
             "minorgridcolor": "white",
             "startlinecolor": "#2a3f5f"
            },
            "type": "carpet"
           }
          ],
          "choropleth": [
           {
            "colorbar": {
             "outlinewidth": 0,
             "ticks": ""
            },
            "type": "choropleth"
           }
          ],
          "contour": [
           {
            "colorbar": {
             "outlinewidth": 0,
             "ticks": ""
            },
            "colorscale": [
             [
              0,
              "#0d0887"
             ],
             [
              0.1111111111111111,
              "#46039f"
             ],
             [
              0.2222222222222222,
              "#7201a8"
             ],
             [
              0.3333333333333333,
              "#9c179e"
             ],
             [
              0.4444444444444444,
              "#bd3786"
             ],
             [
              0.5555555555555556,
              "#d8576b"
             ],
             [
              0.6666666666666666,
              "#ed7953"
             ],
             [
              0.7777777777777778,
              "#fb9f3a"
             ],
             [
              0.8888888888888888,
              "#fdca26"
             ],
             [
              1,
              "#f0f921"
             ]
            ],
            "type": "contour"
           }
          ],
          "contourcarpet": [
           {
            "colorbar": {
             "outlinewidth": 0,
             "ticks": ""
            },
            "type": "contourcarpet"
           }
          ],
          "heatmap": [
           {
            "colorbar": {
             "outlinewidth": 0,
             "ticks": ""
            },
            "colorscale": [
             [
              0,
              "#0d0887"
             ],
             [
              0.1111111111111111,
              "#46039f"
             ],
             [
              0.2222222222222222,
              "#7201a8"
             ],
             [
              0.3333333333333333,
              "#9c179e"
             ],
             [
              0.4444444444444444,
              "#bd3786"
             ],
             [
              0.5555555555555556,
              "#d8576b"
             ],
             [
              0.6666666666666666,
              "#ed7953"
             ],
             [
              0.7777777777777778,
              "#fb9f3a"
             ],
             [
              0.8888888888888888,
              "#fdca26"
             ],
             [
              1,
              "#f0f921"
             ]
            ],
            "type": "heatmap"
           }
          ],
          "heatmapgl": [
           {
            "colorbar": {
             "outlinewidth": 0,
             "ticks": ""
            },
            "colorscale": [
             [
              0,
              "#0d0887"
             ],
             [
              0.1111111111111111,
              "#46039f"
             ],
             [
              0.2222222222222222,
              "#7201a8"
             ],
             [
              0.3333333333333333,
              "#9c179e"
             ],
             [
              0.4444444444444444,
              "#bd3786"
             ],
             [
              0.5555555555555556,
              "#d8576b"
             ],
             [
              0.6666666666666666,
              "#ed7953"
             ],
             [
              0.7777777777777778,
              "#fb9f3a"
             ],
             [
              0.8888888888888888,
              "#fdca26"
             ],
             [
              1,
              "#f0f921"
             ]
            ],
            "type": "heatmapgl"
           }
          ],
          "histogram": [
           {
            "marker": {
             "colorbar": {
              "outlinewidth": 0,
              "ticks": ""
             }
            },
            "type": "histogram"
           }
          ],
          "histogram2d": [
           {
            "colorbar": {
             "outlinewidth": 0,
             "ticks": ""
            },
            "colorscale": [
             [
              0,
              "#0d0887"
             ],
             [
              0.1111111111111111,
              "#46039f"
             ],
             [
              0.2222222222222222,
              "#7201a8"
             ],
             [
              0.3333333333333333,
              "#9c179e"
             ],
             [
              0.4444444444444444,
              "#bd3786"
             ],
             [
              0.5555555555555556,
              "#d8576b"
             ],
             [
              0.6666666666666666,
              "#ed7953"
             ],
             [
              0.7777777777777778,
              "#fb9f3a"
             ],
             [
              0.8888888888888888,
              "#fdca26"
             ],
             [
              1,
              "#f0f921"
             ]
            ],
            "type": "histogram2d"
           }
          ],
          "histogram2dcontour": [
           {
            "colorbar": {
             "outlinewidth": 0,
             "ticks": ""
            },
            "colorscale": [
             [
              0,
              "#0d0887"
             ],
             [
              0.1111111111111111,
              "#46039f"
             ],
             [
              0.2222222222222222,
              "#7201a8"
             ],
             [
              0.3333333333333333,
              "#9c179e"
             ],
             [
              0.4444444444444444,
              "#bd3786"
             ],
             [
              0.5555555555555556,
              "#d8576b"
             ],
             [
              0.6666666666666666,
              "#ed7953"
             ],
             [
              0.7777777777777778,
              "#fb9f3a"
             ],
             [
              0.8888888888888888,
              "#fdca26"
             ],
             [
              1,
              "#f0f921"
             ]
            ],
            "type": "histogram2dcontour"
           }
          ],
          "mesh3d": [
           {
            "colorbar": {
             "outlinewidth": 0,
             "ticks": ""
            },
            "type": "mesh3d"
           }
          ],
          "parcoords": [
           {
            "line": {
             "colorbar": {
              "outlinewidth": 0,
              "ticks": ""
             }
            },
            "type": "parcoords"
           }
          ],
          "pie": [
           {
            "automargin": true,
            "type": "pie"
           }
          ],
          "scatter": [
           {
            "marker": {
             "colorbar": {
              "outlinewidth": 0,
              "ticks": ""
             }
            },
            "type": "scatter"
           }
          ],
          "scatter3d": [
           {
            "line": {
             "colorbar": {
              "outlinewidth": 0,
              "ticks": ""
             }
            },
            "marker": {
             "colorbar": {
              "outlinewidth": 0,
              "ticks": ""
             }
            },
            "type": "scatter3d"
           }
          ],
          "scattercarpet": [
           {
            "marker": {
             "colorbar": {
              "outlinewidth": 0,
              "ticks": ""
             }
            },
            "type": "scattercarpet"
           }
          ],
          "scattergeo": [
           {
            "marker": {
             "colorbar": {
              "outlinewidth": 0,
              "ticks": ""
             }
            },
            "type": "scattergeo"
           }
          ],
          "scattergl": [
           {
            "marker": {
             "colorbar": {
              "outlinewidth": 0,
              "ticks": ""
             }
            },
            "type": "scattergl"
           }
          ],
          "scattermapbox": [
           {
            "marker": {
             "colorbar": {
              "outlinewidth": 0,
              "ticks": ""
             }
            },
            "type": "scattermapbox"
           }
          ],
          "scatterpolar": [
           {
            "marker": {
             "colorbar": {
              "outlinewidth": 0,
              "ticks": ""
             }
            },
            "type": "scatterpolar"
           }
          ],
          "scatterpolargl": [
           {
            "marker": {
             "colorbar": {
              "outlinewidth": 0,
              "ticks": ""
             }
            },
            "type": "scatterpolargl"
           }
          ],
          "scatterternary": [
           {
            "marker": {
             "colorbar": {
              "outlinewidth": 0,
              "ticks": ""
             }
            },
            "type": "scatterternary"
           }
          ],
          "surface": [
           {
            "colorbar": {
             "outlinewidth": 0,
             "ticks": ""
            },
            "colorscale": [
             [
              0,
              "#0d0887"
             ],
             [
              0.1111111111111111,
              "#46039f"
             ],
             [
              0.2222222222222222,
              "#7201a8"
             ],
             [
              0.3333333333333333,
              "#9c179e"
             ],
             [
              0.4444444444444444,
              "#bd3786"
             ],
             [
              0.5555555555555556,
              "#d8576b"
             ],
             [
              0.6666666666666666,
              "#ed7953"
             ],
             [
              0.7777777777777778,
              "#fb9f3a"
             ],
             [
              0.8888888888888888,
              "#fdca26"
             ],
             [
              1,
              "#f0f921"
             ]
            ],
            "type": "surface"
           }
          ],
          "table": [
           {
            "cells": {
             "fill": {
              "color": "#EBF0F8"
             },
             "line": {
              "color": "white"
             }
            },
            "header": {
             "fill": {
              "color": "#C8D4E3"
             },
             "line": {
              "color": "white"
             }
            },
            "type": "table"
           }
          ]
         },
         "layout": {
          "annotationdefaults": {
           "arrowcolor": "#2a3f5f",
           "arrowhead": 0,
           "arrowwidth": 1
          },
          "coloraxis": {
           "colorbar": {
            "outlinewidth": 0,
            "ticks": ""
           }
          },
          "colorscale": {
           "diverging": [
            [
             0,
             "#8e0152"
            ],
            [
             0.1,
             "#c51b7d"
            ],
            [
             0.2,
             "#de77ae"
            ],
            [
             0.3,
             "#f1b6da"
            ],
            [
             0.4,
             "#fde0ef"
            ],
            [
             0.5,
             "#f7f7f7"
            ],
            [
             0.6,
             "#e6f5d0"
            ],
            [
             0.7,
             "#b8e186"
            ],
            [
             0.8,
             "#7fbc41"
            ],
            [
             0.9,
             "#4d9221"
            ],
            [
             1,
             "#276419"
            ]
           ],
           "sequential": [
            [
             0,
             "#0d0887"
            ],
            [
             0.1111111111111111,
             "#46039f"
            ],
            [
             0.2222222222222222,
             "#7201a8"
            ],
            [
             0.3333333333333333,
             "#9c179e"
            ],
            [
             0.4444444444444444,
             "#bd3786"
            ],
            [
             0.5555555555555556,
             "#d8576b"
            ],
            [
             0.6666666666666666,
             "#ed7953"
            ],
            [
             0.7777777777777778,
             "#fb9f3a"
            ],
            [
             0.8888888888888888,
             "#fdca26"
            ],
            [
             1,
             "#f0f921"
            ]
           ],
           "sequentialminus": [
            [
             0,
             "#0d0887"
            ],
            [
             0.1111111111111111,
             "#46039f"
            ],
            [
             0.2222222222222222,
             "#7201a8"
            ],
            [
             0.3333333333333333,
             "#9c179e"
            ],
            [
             0.4444444444444444,
             "#bd3786"
            ],
            [
             0.5555555555555556,
             "#d8576b"
            ],
            [
             0.6666666666666666,
             "#ed7953"
            ],
            [
             0.7777777777777778,
             "#fb9f3a"
            ],
            [
             0.8888888888888888,
             "#fdca26"
            ],
            [
             1,
             "#f0f921"
            ]
           ]
          },
          "colorway": [
           "#636efa",
           "#EF553B",
           "#00cc96",
           "#ab63fa",
           "#FFA15A",
           "#19d3f3",
           "#FF6692",
           "#B6E880",
           "#FF97FF",
           "#FECB52"
          ],
          "font": {
           "color": "#2a3f5f"
          },
          "geo": {
           "bgcolor": "white",
           "lakecolor": "white",
           "landcolor": "#E5ECF6",
           "showlakes": true,
           "showland": true,
           "subunitcolor": "white"
          },
          "hoverlabel": {
           "align": "left"
          },
          "hovermode": "closest",
          "mapbox": {
           "style": "light"
          },
          "paper_bgcolor": "white",
          "plot_bgcolor": "#E5ECF6",
          "polar": {
           "angularaxis": {
            "gridcolor": "white",
            "linecolor": "white",
            "ticks": ""
           },
           "bgcolor": "#E5ECF6",
           "radialaxis": {
            "gridcolor": "white",
            "linecolor": "white",
            "ticks": ""
           }
          },
          "scene": {
           "xaxis": {
            "backgroundcolor": "#E5ECF6",
            "gridcolor": "white",
            "gridwidth": 2,
            "linecolor": "white",
            "showbackground": true,
            "ticks": "",
            "zerolinecolor": "white"
           },
           "yaxis": {
            "backgroundcolor": "#E5ECF6",
            "gridcolor": "white",
            "gridwidth": 2,
            "linecolor": "white",
            "showbackground": true,
            "ticks": "",
            "zerolinecolor": "white"
           },
           "zaxis": {
            "backgroundcolor": "#E5ECF6",
            "gridcolor": "white",
            "gridwidth": 2,
            "linecolor": "white",
            "showbackground": true,
            "ticks": "",
            "zerolinecolor": "white"
           }
          },
          "shapedefaults": {
           "line": {
            "color": "#2a3f5f"
           }
          },
          "ternary": {
           "aaxis": {
            "gridcolor": "white",
            "linecolor": "white",
            "ticks": ""
           },
           "baxis": {
            "gridcolor": "white",
            "linecolor": "white",
            "ticks": ""
           },
           "bgcolor": "#E5ECF6",
           "caxis": {
            "gridcolor": "white",
            "linecolor": "white",
            "ticks": ""
           }
          },
          "title": {
           "x": 0.05
          },
          "xaxis": {
           "automargin": true,
           "gridcolor": "white",
           "linecolor": "white",
           "ticks": "",
           "title": {
            "standoff": 15
           },
           "zerolinecolor": "white",
           "zerolinewidth": 2
          },
          "yaxis": {
           "automargin": true,
           "gridcolor": "white",
           "linecolor": "white",
           "ticks": "",
           "title": {
            "standoff": 15
           },
           "zerolinecolor": "white",
           "zerolinewidth": 2
          }
         }
        },
        "xaxis": {
         "anchor": "y",
         "domain": [
          0,
          1
         ],
         "title": {
          "text": "alcool"
         }
        },
        "yaxis": {
         "anchor": "x",
         "domain": [
          0,
          1
         ],
         "title": {
          "text": "intensidade_da_cor"
         }
        }
       }
      },
      "text/html": [
       "<div>\n",
       "        \n",
       "        \n",
       "            <div id=\"b58789be-ed33-43d7-a713-ab1907f5032a\" class=\"plotly-graph-div\" style=\"height:525px; width:100%;\"></div>\n",
       "            <script type=\"text/javascript\">\n",
       "                require([\"plotly\"], function(Plotly) {\n",
       "                    window.PLOTLYENV=window.PLOTLYENV || {};\n",
       "                    \n",
       "                if (document.getElementById(\"b58789be-ed33-43d7-a713-ab1907f5032a\")) {\n",
       "                    Plotly.newPlot(\n",
       "                        'b58789be-ed33-43d7-a713-ab1907f5032a',\n",
       "                        [{\"hovertemplate\": \"alcool=%{x}<br>intensidade_da_cor=%{y}<extra></extra>\", \"legendgroup\": \"\", \"marker\": {\"color\": \"#636efa\", \"symbol\": \"circle\"}, \"mode\": \"markers\", \"name\": \"\", \"orientation\": \"v\", \"showlegend\": false, \"type\": \"scatter\", \"x\": [14.23, 13.2, 13.16, 14.37, 13.24, 14.2, 14.39, 14.06, 14.83, 13.86, 14.1, 14.12, 13.75, 14.75, 14.38, 13.63, 14.3, 13.83, 14.19, 13.64, 14.06, 12.93, 13.71, 12.85, 13.5, 13.05, 13.39, 13.3, 13.87, 14.02, 13.73, 13.58, 13.68, 13.76, 13.51, 13.48, 13.28, 13.05, 13.07, 14.22, 13.56, 13.41, 13.88, 13.24, 13.05, 14.21, 14.38, 13.9, 14.1, 13.94, 13.05, 13.83, 13.82, 13.77, 13.74, 13.56, 14.22, 13.29, 13.72, 12.37, 12.33, 12.64, 13.67, 12.37, 12.17, 12.37, 13.11, 12.37, 13.34, 12.21, 12.29, 13.86, 13.49, 12.99, 11.96, 11.66, 13.03, 11.84, 12.33, 12.7, 12.0, 12.72, 12.08, 13.05, 11.84, 12.67, 12.16, 11.65, 11.64, 12.08, 12.08, 12.0, 12.69, 12.29, 11.62, 12.47, 11.81, 12.29, 12.37, 12.29, 12.08, 12.6, 12.34, 11.82, 12.51, 12.42, 12.25, 12.72, 12.22, 11.61, 11.46, 12.52, 11.76, 11.41, 12.08, 11.03, 11.82, 12.42, 12.77, 12.0, 11.45, 11.56, 12.42, 13.05, 11.87, 12.07, 12.43, 11.79, 12.37, 12.04, 12.86, 12.88, 12.81, 12.7, 12.51, 12.6, 12.25, 12.53, 13.49, 12.84, 12.93, 13.36, 13.52, 13.62, 12.25, 13.16, 13.88, 12.87, 13.32, 13.08, 13.5, 12.79, 13.11, 13.23, 12.58, 13.17, 13.84, 12.45, 14.34, 13.48, 12.36, 13.69, 12.85, 12.96, 13.78, 13.73, 13.45, 12.82, 13.58, 13.4, 12.2, 12.77, 14.16, 13.71, 13.4, 13.27, 13.17, 14.13], \"xaxis\": \"x\", \"y\": [5.64, 4.38, 5.68, 7.8, 4.32, 6.75, 5.25, 5.05, 5.2, 7.22, 5.75, 5.0, 5.6, 5.4, 7.5, 7.3, 6.2, 6.6, 8.7, 5.1, 5.65, 4.5, 3.8, 3.93, 3.52, 3.58, 4.8, 3.95, 4.5, 4.7, 5.7, 6.9, 3.84, 5.4, 4.2, 5.1, 4.6, 4.25, 3.7, 5.1, 6.13, 4.28, 5.43, 4.36, 5.04, 5.24, 4.9, 6.1, 6.2, 8.9, 7.2, 5.6, 7.05, 6.3, 5.85, 6.25, 6.38, 6.0, 6.8, 1.95, 3.27, 5.75, 3.8, 4.45, 2.95, 4.6, 5.3, 4.68, 3.17, 2.85, 3.05, 3.38, 3.74, 3.35, 3.21, 3.8, 4.6, 2.65, 3.4, 2.57, 2.5, 3.9, 2.2, 4.8, 3.05, 2.62, 2.45, 2.6, 2.8, 1.74, 2.4, 3.6, 3.05, 2.15, 3.25, 2.6, 2.5, 2.9, 4.5, 2.3, 3.3, 2.45, 2.8, 2.06, 2.94, 2.7, 3.4, 3.3, 2.7, 2.65, 2.9, 2.0, 3.8, 3.08, 2.9, 1.9, 1.95, 2.06, 3.4, 1.28, 3.25, 6.0, 2.08, 2.6, 2.8, 2.76, 3.94, 3.0, 2.12, 2.6, 4.1, 5.4, 5.7, 5.0, 5.45, 7.1, 3.85, 5.0, 5.7, 4.92, 4.6, 5.6, 4.35, 4.4, 8.21, 4.0, 4.9, 7.65, 8.42, 9.4, 8.6, 10.8, 7.1, 10.52, 7.6, 7.9, 9.01, 7.5, 13.0, 11.75, 7.65, 5.88, 5.58, 5.28, 9.58, 6.62, 10.68, 10.26, 8.66, 8.5, 5.5, 9.899999, 9.7, 7.7, 7.3, 10.2, 9.3, 9.2], \"yaxis\": \"y\"}],\n",
       "                        {\"legend\": {\"tracegroupgap\": 0}, \"margin\": {\"t\": 60}, \"template\": {\"data\": {\"bar\": [{\"error_x\": {\"color\": \"#2a3f5f\"}, \"error_y\": {\"color\": \"#2a3f5f\"}, \"marker\": {\"line\": {\"color\": \"#E5ECF6\", \"width\": 0.5}}, \"type\": \"bar\"}], \"barpolar\": [{\"marker\": {\"line\": {\"color\": \"#E5ECF6\", \"width\": 0.5}}, \"type\": \"barpolar\"}], \"carpet\": [{\"aaxis\": {\"endlinecolor\": \"#2a3f5f\", \"gridcolor\": \"white\", \"linecolor\": \"white\", \"minorgridcolor\": \"white\", \"startlinecolor\": \"#2a3f5f\"}, \"baxis\": {\"endlinecolor\": \"#2a3f5f\", \"gridcolor\": \"white\", \"linecolor\": \"white\", \"minorgridcolor\": \"white\", \"startlinecolor\": \"#2a3f5f\"}, \"type\": \"carpet\"}], \"choropleth\": [{\"colorbar\": {\"outlinewidth\": 0, \"ticks\": \"\"}, \"type\": \"choropleth\"}], \"contour\": [{\"colorbar\": {\"outlinewidth\": 0, \"ticks\": \"\"}, \"colorscale\": [[0.0, \"#0d0887\"], [0.1111111111111111, \"#46039f\"], [0.2222222222222222, \"#7201a8\"], [0.3333333333333333, \"#9c179e\"], [0.4444444444444444, \"#bd3786\"], [0.5555555555555556, \"#d8576b\"], [0.6666666666666666, \"#ed7953\"], [0.7777777777777778, \"#fb9f3a\"], [0.8888888888888888, \"#fdca26\"], [1.0, \"#f0f921\"]], \"type\": \"contour\"}], \"contourcarpet\": [{\"colorbar\": {\"outlinewidth\": 0, \"ticks\": \"\"}, \"type\": \"contourcarpet\"}], \"heatmap\": [{\"colorbar\": {\"outlinewidth\": 0, \"ticks\": \"\"}, \"colorscale\": [[0.0, \"#0d0887\"], [0.1111111111111111, \"#46039f\"], [0.2222222222222222, \"#7201a8\"], [0.3333333333333333, \"#9c179e\"], [0.4444444444444444, \"#bd3786\"], [0.5555555555555556, \"#d8576b\"], [0.6666666666666666, \"#ed7953\"], [0.7777777777777778, \"#fb9f3a\"], [0.8888888888888888, \"#fdca26\"], [1.0, \"#f0f921\"]], \"type\": \"heatmap\"}], \"heatmapgl\": [{\"colorbar\": {\"outlinewidth\": 0, \"ticks\": \"\"}, \"colorscale\": [[0.0, \"#0d0887\"], [0.1111111111111111, \"#46039f\"], [0.2222222222222222, \"#7201a8\"], [0.3333333333333333, \"#9c179e\"], [0.4444444444444444, \"#bd3786\"], [0.5555555555555556, \"#d8576b\"], [0.6666666666666666, \"#ed7953\"], [0.7777777777777778, \"#fb9f3a\"], [0.8888888888888888, \"#fdca26\"], [1.0, \"#f0f921\"]], \"type\": \"heatmapgl\"}], \"histogram\": [{\"marker\": {\"colorbar\": {\"outlinewidth\": 0, \"ticks\": \"\"}}, \"type\": \"histogram\"}], \"histogram2d\": [{\"colorbar\": {\"outlinewidth\": 0, \"ticks\": \"\"}, \"colorscale\": [[0.0, \"#0d0887\"], [0.1111111111111111, \"#46039f\"], [0.2222222222222222, \"#7201a8\"], [0.3333333333333333, \"#9c179e\"], [0.4444444444444444, \"#bd3786\"], [0.5555555555555556, \"#d8576b\"], [0.6666666666666666, \"#ed7953\"], [0.7777777777777778, \"#fb9f3a\"], [0.8888888888888888, \"#fdca26\"], [1.0, \"#f0f921\"]], \"type\": \"histogram2d\"}], \"histogram2dcontour\": [{\"colorbar\": {\"outlinewidth\": 0, \"ticks\": \"\"}, \"colorscale\": [[0.0, \"#0d0887\"], [0.1111111111111111, \"#46039f\"], [0.2222222222222222, \"#7201a8\"], [0.3333333333333333, \"#9c179e\"], [0.4444444444444444, \"#bd3786\"], [0.5555555555555556, \"#d8576b\"], [0.6666666666666666, \"#ed7953\"], [0.7777777777777778, \"#fb9f3a\"], [0.8888888888888888, \"#fdca26\"], [1.0, \"#f0f921\"]], \"type\": \"histogram2dcontour\"}], \"mesh3d\": [{\"colorbar\": {\"outlinewidth\": 0, \"ticks\": \"\"}, \"type\": \"mesh3d\"}], \"parcoords\": [{\"line\": {\"colorbar\": {\"outlinewidth\": 0, \"ticks\": \"\"}}, \"type\": \"parcoords\"}], \"pie\": [{\"automargin\": true, \"type\": \"pie\"}], \"scatter\": [{\"marker\": {\"colorbar\": {\"outlinewidth\": 0, \"ticks\": \"\"}}, \"type\": \"scatter\"}], \"scatter3d\": [{\"line\": {\"colorbar\": {\"outlinewidth\": 0, \"ticks\": \"\"}}, \"marker\": {\"colorbar\": {\"outlinewidth\": 0, \"ticks\": \"\"}}, \"type\": \"scatter3d\"}], \"scattercarpet\": [{\"marker\": {\"colorbar\": {\"outlinewidth\": 0, \"ticks\": \"\"}}, \"type\": \"scattercarpet\"}], \"scattergeo\": [{\"marker\": {\"colorbar\": {\"outlinewidth\": 0, \"ticks\": \"\"}}, \"type\": \"scattergeo\"}], \"scattergl\": [{\"marker\": {\"colorbar\": {\"outlinewidth\": 0, \"ticks\": \"\"}}, \"type\": \"scattergl\"}], \"scattermapbox\": [{\"marker\": {\"colorbar\": {\"outlinewidth\": 0, \"ticks\": \"\"}}, \"type\": \"scattermapbox\"}], \"scatterpolar\": [{\"marker\": {\"colorbar\": {\"outlinewidth\": 0, \"ticks\": \"\"}}, \"type\": \"scatterpolar\"}], \"scatterpolargl\": [{\"marker\": {\"colorbar\": {\"outlinewidth\": 0, \"ticks\": \"\"}}, \"type\": \"scatterpolargl\"}], \"scatterternary\": [{\"marker\": {\"colorbar\": {\"outlinewidth\": 0, \"ticks\": \"\"}}, \"type\": \"scatterternary\"}], \"surface\": [{\"colorbar\": {\"outlinewidth\": 0, \"ticks\": \"\"}, \"colorscale\": [[0.0, \"#0d0887\"], [0.1111111111111111, \"#46039f\"], [0.2222222222222222, \"#7201a8\"], [0.3333333333333333, \"#9c179e\"], [0.4444444444444444, \"#bd3786\"], [0.5555555555555556, \"#d8576b\"], [0.6666666666666666, \"#ed7953\"], [0.7777777777777778, \"#fb9f3a\"], [0.8888888888888888, \"#fdca26\"], [1.0, \"#f0f921\"]], \"type\": \"surface\"}], \"table\": [{\"cells\": {\"fill\": {\"color\": \"#EBF0F8\"}, \"line\": {\"color\": \"white\"}}, \"header\": {\"fill\": {\"color\": \"#C8D4E3\"}, \"line\": {\"color\": \"white\"}}, \"type\": \"table\"}]}, \"layout\": {\"annotationdefaults\": {\"arrowcolor\": \"#2a3f5f\", \"arrowhead\": 0, \"arrowwidth\": 1}, \"coloraxis\": {\"colorbar\": {\"outlinewidth\": 0, \"ticks\": \"\"}}, \"colorscale\": {\"diverging\": [[0, \"#8e0152\"], [0.1, \"#c51b7d\"], [0.2, \"#de77ae\"], [0.3, \"#f1b6da\"], [0.4, \"#fde0ef\"], [0.5, \"#f7f7f7\"], [0.6, \"#e6f5d0\"], [0.7, \"#b8e186\"], [0.8, \"#7fbc41\"], [0.9, \"#4d9221\"], [1, \"#276419\"]], \"sequential\": [[0.0, \"#0d0887\"], [0.1111111111111111, \"#46039f\"], [0.2222222222222222, \"#7201a8\"], [0.3333333333333333, \"#9c179e\"], [0.4444444444444444, \"#bd3786\"], [0.5555555555555556, \"#d8576b\"], [0.6666666666666666, \"#ed7953\"], [0.7777777777777778, \"#fb9f3a\"], [0.8888888888888888, \"#fdca26\"], [1.0, \"#f0f921\"]], \"sequentialminus\": [[0.0, \"#0d0887\"], [0.1111111111111111, \"#46039f\"], [0.2222222222222222, \"#7201a8\"], [0.3333333333333333, \"#9c179e\"], [0.4444444444444444, \"#bd3786\"], [0.5555555555555556, \"#d8576b\"], [0.6666666666666666, \"#ed7953\"], [0.7777777777777778, \"#fb9f3a\"], [0.8888888888888888, \"#fdca26\"], [1.0, \"#f0f921\"]]}, \"colorway\": [\"#636efa\", \"#EF553B\", \"#00cc96\", \"#ab63fa\", \"#FFA15A\", \"#19d3f3\", \"#FF6692\", \"#B6E880\", \"#FF97FF\", \"#FECB52\"], \"font\": {\"color\": \"#2a3f5f\"}, \"geo\": {\"bgcolor\": \"white\", \"lakecolor\": \"white\", \"landcolor\": \"#E5ECF6\", \"showlakes\": true, \"showland\": true, \"subunitcolor\": \"white\"}, \"hoverlabel\": {\"align\": \"left\"}, \"hovermode\": \"closest\", \"mapbox\": {\"style\": \"light\"}, \"paper_bgcolor\": \"white\", \"plot_bgcolor\": \"#E5ECF6\", \"polar\": {\"angularaxis\": {\"gridcolor\": \"white\", \"linecolor\": \"white\", \"ticks\": \"\"}, \"bgcolor\": \"#E5ECF6\", \"radialaxis\": {\"gridcolor\": \"white\", \"linecolor\": \"white\", \"ticks\": \"\"}}, \"scene\": {\"xaxis\": {\"backgroundcolor\": \"#E5ECF6\", \"gridcolor\": \"white\", \"gridwidth\": 2, \"linecolor\": \"white\", \"showbackground\": true, \"ticks\": \"\", \"zerolinecolor\": \"white\"}, \"yaxis\": {\"backgroundcolor\": \"#E5ECF6\", \"gridcolor\": \"white\", \"gridwidth\": 2, \"linecolor\": \"white\", \"showbackground\": true, \"ticks\": \"\", \"zerolinecolor\": \"white\"}, \"zaxis\": {\"backgroundcolor\": \"#E5ECF6\", \"gridcolor\": \"white\", \"gridwidth\": 2, \"linecolor\": \"white\", \"showbackground\": true, \"ticks\": \"\", \"zerolinecolor\": \"white\"}}, \"shapedefaults\": {\"line\": {\"color\": \"#2a3f5f\"}}, \"ternary\": {\"aaxis\": {\"gridcolor\": \"white\", \"linecolor\": \"white\", \"ticks\": \"\"}, \"baxis\": {\"gridcolor\": \"white\", \"linecolor\": \"white\", \"ticks\": \"\"}, \"bgcolor\": \"#E5ECF6\", \"caxis\": {\"gridcolor\": \"white\", \"linecolor\": \"white\", \"ticks\": \"\"}}, \"title\": {\"x\": 0.05}, \"xaxis\": {\"automargin\": true, \"gridcolor\": \"white\", \"linecolor\": \"white\", \"ticks\": \"\", \"title\": {\"standoff\": 15}, \"zerolinecolor\": \"white\", \"zerolinewidth\": 2}, \"yaxis\": {\"automargin\": true, \"gridcolor\": \"white\", \"linecolor\": \"white\", \"ticks\": \"\", \"title\": {\"standoff\": 15}, \"zerolinecolor\": \"white\", \"zerolinewidth\": 2}}}, \"xaxis\": {\"anchor\": \"y\", \"domain\": [0.0, 1.0], \"title\": {\"text\": \"alcool\"}}, \"yaxis\": {\"anchor\": \"x\", \"domain\": [0.0, 1.0], \"title\": {\"text\": \"intensidade_da_cor\"}}},\n",
       "                        {\"responsive\": true}\n",
       "                    ).then(function(){\n",
       "                            \n",
       "var gd = document.getElementById('b58789be-ed33-43d7-a713-ab1907f5032a');\n",
       "var x = new MutationObserver(function (mutations, observer) {{\n",
       "        var display = window.getComputedStyle(gd).display;\n",
       "        if (!display || display === 'none') {{\n",
       "            console.log([gd, 'removed!']);\n",
       "            Plotly.purge(gd);\n",
       "            observer.disconnect();\n",
       "        }}\n",
       "}});\n",
       "\n",
       "// Listen for the removal of the full notebook cells\n",
       "var notebookContainer = gd.closest('#notebook-container');\n",
       "if (notebookContainer) {{\n",
       "    x.observe(notebookContainer, {childList: true});\n",
       "}}\n",
       "\n",
       "// Listen for the clearing of the current output cell\n",
       "var outputEl = gd.closest('.output');\n",
       "if (outputEl) {{\n",
       "    x.observe(outputEl, {childList: true});\n",
       "}}\n",
       "\n",
       "                        })\n",
       "                };\n",
       "                });\n",
       "            </script>\n",
       "        </div>"
      ]
     },
     "metadata": {},
     "output_type": "display_data"
    }
   ],
   "source": [
    "fig = px.scatter(df, x=df.alcool, y=df.intensidade_da_cor)\n",
    "fig.show()"
   ]
  },
  {
   "cell_type": "code",
   "execution_count": 26,
   "metadata": {},
   "outputs": [
    {
     "data": {
      "application/vnd.plotly.v1+json": {
       "config": {
        "plotlyServerURL": "https://plot.ly"
       },
       "data": [
        {
         "hovertemplate": "flavanóides=%{x}<br>feois_totais=%{y}<extra></extra>",
         "legendgroup": "",
         "marker": {
          "color": "#636efa",
          "symbol": "circle"
         },
         "mode": "markers",
         "name": "",
         "orientation": "v",
         "showlegend": false,
         "type": "scatter",
         "x": [
          3.06,
          2.76,
          3.24,
          3.49,
          2.69,
          3.39,
          2.52,
          2.51,
          2.98,
          3.15,
          3.32,
          2.43,
          2.76,
          3.69,
          3.64,
          2.91,
          3.14,
          3.4,
          3.93,
          3.03,
          3.17,
          2.41,
          2.88,
          2.37,
          2.61,
          2.68,
          2.94,
          2.19,
          2.97,
          2.33,
          3.25,
          3.19,
          2.69,
          2.74,
          2.53,
          2.98,
          2.68,
          2.43,
          2.64,
          3.04,
          3.29,
          2.68,
          3.56,
          2.63,
          3,
          2.65,
          3.17,
          3.39,
          2.92,
          3.54,
          3.27,
          2.99,
          3.74,
          2.79,
          2.9,
          2.78,
          3,
          3.23,
          3.67,
          0.57,
          1.09,
          1.41,
          1.79,
          3.1,
          1.75,
          2.65,
          3.18,
          2,
          1.3,
          1.28,
          1.02,
          2.86,
          1.84,
          2.89,
          2.14,
          1.57,
          2.03,
          1.32,
          1.85,
          2.55,
          2.26,
          2.53,
          1.58,
          1.59,
          2.21,
          1.94,
          1.69,
          1.61,
          1.69,
          1.59,
          1.5,
          1.25,
          1.46,
          2.25,
          2.26,
          2.27,
          0.99,
          2.5,
          3.75,
          2.99,
          2.17,
          1.36,
          2.11,
          1.64,
          1.92,
          1.84,
          2.03,
          1.76,
          2.04,
          2.92,
          2.58,
          2.27,
          2.03,
          2.01,
          2.29,
          2.17,
          1.6,
          2.09,
          1.25,
          1.64,
          2.79,
          5.08,
          2.13,
          2.65,
          3.03,
          2.65,
          3.15,
          2.24,
          2.45,
          1.75,
          1.25,
          1.22,
          1.09,
          1.2,
          0.58,
          0.66,
          0.47,
          0.6,
          0.48,
          0.6,
          0.5,
          0.5,
          0.52,
          0.8,
          0.78,
          0.55,
          0.34,
          0.65,
          0.76,
          1.39,
          1.57,
          1.36,
          1.28,
          0.83,
          0.58,
          0.63,
          0.83,
          0.58,
          1.31,
          1.1,
          0.92,
          0.56,
          0.6,
          0.7,
          0.68,
          0.47,
          0.92,
          0.66,
          0.84,
          0.96,
          0.49,
          0.51,
          0.7,
          0.61,
          0.75,
          0.69,
          0.68,
          0.76
         ],
         "xaxis": "x",
         "y": [
          2.8,
          2.65,
          2.8,
          3.85,
          2.8,
          3.27,
          2.5,
          2.6,
          2.8,
          2.98,
          2.95,
          2.2,
          2.6,
          3.1,
          3.3,
          2.85,
          2.8,
          2.95,
          3.3,
          2.7,
          3,
          2.41,
          2.61,
          2.48,
          2.53,
          2.63,
          2.85,
          2.4,
          2.95,
          2.65,
          3,
          2.86,
          2.42,
          2.95,
          2.35,
          2.7,
          2.6,
          2.45,
          2.4,
          3,
          3.15,
          2.45,
          3.25,
          2.64,
          3,
          2.85,
          3.25,
          3.1,
          2.75,
          2.88,
          2.72,
          2.45,
          3.88,
          3,
          2.6,
          2.96,
          3.2,
          3,
          3.4,
          1.98,
          2.05,
          2.02,
          2.1,
          3.5,
          1.89,
          2.42,
          2.98,
          2.11,
          2.53,
          1.85,
          1.1,
          2.95,
          1.88,
          3.3,
          3.38,
          1.61,
          1.95,
          1.72,
          1.9,
          2.83,
          2.42,
          2.2,
          2,
          1.65,
          2.2,
          2.2,
          1.78,
          1.92,
          1.95,
          2.2,
          1.6,
          1.45,
          1.38,
          2.45,
          3.02,
          2.5,
          1.6,
          2.55,
          3.52,
          2.85,
          2.23,
          1.45,
          2.56,
          2.5,
          2.2,
          1.68,
          1.65,
          1.38,
          2.36,
          2.74,
          3.18,
          2.55,
          1.75,
          2.48,
          2.56,
          2.46,
          1.98,
          2,
          1.63,
          2,
          2.9,
          3.18,
          2.2,
          2.62,
          2.86,
          2.6,
          2.74,
          2.13,
          2.22,
          2.1,
          1.51,
          1.3,
          1.15,
          1.7,
          2,
          1.62,
          1.38,
          1.79,
          1.62,
          2.32,
          1.54,
          1.4,
          1.55,
          2,
          1.38,
          1.5,
          0.98,
          1.7,
          1.93,
          1.41,
          1.4,
          1.48,
          2.2,
          1.8,
          1.48,
          1.74,
          1.8,
          1.9,
          2.8,
          2.6,
          2.3,
          1.83,
          1.65,
          1.39,
          1.35,
          1.28,
          1.7,
          1.48,
          1.55,
          1.98,
          1.25,
          1.39,
          1.68,
          1.68,
          1.8,
          1.59,
          1.65,
          2.05
         ],
         "yaxis": "y"
        }
       ],
       "layout": {
        "legend": {
         "tracegroupgap": 0
        },
        "margin": {
         "t": 60
        },
        "template": {
         "data": {
          "bar": [
           {
            "error_x": {
             "color": "#2a3f5f"
            },
            "error_y": {
             "color": "#2a3f5f"
            },
            "marker": {
             "line": {
              "color": "#E5ECF6",
              "width": 0.5
             }
            },
            "type": "bar"
           }
          ],
          "barpolar": [
           {
            "marker": {
             "line": {
              "color": "#E5ECF6",
              "width": 0.5
             }
            },
            "type": "barpolar"
           }
          ],
          "carpet": [
           {
            "aaxis": {
             "endlinecolor": "#2a3f5f",
             "gridcolor": "white",
             "linecolor": "white",
             "minorgridcolor": "white",
             "startlinecolor": "#2a3f5f"
            },
            "baxis": {
             "endlinecolor": "#2a3f5f",
             "gridcolor": "white",
             "linecolor": "white",
             "minorgridcolor": "white",
             "startlinecolor": "#2a3f5f"
            },
            "type": "carpet"
           }
          ],
          "choropleth": [
           {
            "colorbar": {
             "outlinewidth": 0,
             "ticks": ""
            },
            "type": "choropleth"
           }
          ],
          "contour": [
           {
            "colorbar": {
             "outlinewidth": 0,
             "ticks": ""
            },
            "colorscale": [
             [
              0,
              "#0d0887"
             ],
             [
              0.1111111111111111,
              "#46039f"
             ],
             [
              0.2222222222222222,
              "#7201a8"
             ],
             [
              0.3333333333333333,
              "#9c179e"
             ],
             [
              0.4444444444444444,
              "#bd3786"
             ],
             [
              0.5555555555555556,
              "#d8576b"
             ],
             [
              0.6666666666666666,
              "#ed7953"
             ],
             [
              0.7777777777777778,
              "#fb9f3a"
             ],
             [
              0.8888888888888888,
              "#fdca26"
             ],
             [
              1,
              "#f0f921"
             ]
            ],
            "type": "contour"
           }
          ],
          "contourcarpet": [
           {
            "colorbar": {
             "outlinewidth": 0,
             "ticks": ""
            },
            "type": "contourcarpet"
           }
          ],
          "heatmap": [
           {
            "colorbar": {
             "outlinewidth": 0,
             "ticks": ""
            },
            "colorscale": [
             [
              0,
              "#0d0887"
             ],
             [
              0.1111111111111111,
              "#46039f"
             ],
             [
              0.2222222222222222,
              "#7201a8"
             ],
             [
              0.3333333333333333,
              "#9c179e"
             ],
             [
              0.4444444444444444,
              "#bd3786"
             ],
             [
              0.5555555555555556,
              "#d8576b"
             ],
             [
              0.6666666666666666,
              "#ed7953"
             ],
             [
              0.7777777777777778,
              "#fb9f3a"
             ],
             [
              0.8888888888888888,
              "#fdca26"
             ],
             [
              1,
              "#f0f921"
             ]
            ],
            "type": "heatmap"
           }
          ],
          "heatmapgl": [
           {
            "colorbar": {
             "outlinewidth": 0,
             "ticks": ""
            },
            "colorscale": [
             [
              0,
              "#0d0887"
             ],
             [
              0.1111111111111111,
              "#46039f"
             ],
             [
              0.2222222222222222,
              "#7201a8"
             ],
             [
              0.3333333333333333,
              "#9c179e"
             ],
             [
              0.4444444444444444,
              "#bd3786"
             ],
             [
              0.5555555555555556,
              "#d8576b"
             ],
             [
              0.6666666666666666,
              "#ed7953"
             ],
             [
              0.7777777777777778,
              "#fb9f3a"
             ],
             [
              0.8888888888888888,
              "#fdca26"
             ],
             [
              1,
              "#f0f921"
             ]
            ],
            "type": "heatmapgl"
           }
          ],
          "histogram": [
           {
            "marker": {
             "colorbar": {
              "outlinewidth": 0,
              "ticks": ""
             }
            },
            "type": "histogram"
           }
          ],
          "histogram2d": [
           {
            "colorbar": {
             "outlinewidth": 0,
             "ticks": ""
            },
            "colorscale": [
             [
              0,
              "#0d0887"
             ],
             [
              0.1111111111111111,
              "#46039f"
             ],
             [
              0.2222222222222222,
              "#7201a8"
             ],
             [
              0.3333333333333333,
              "#9c179e"
             ],
             [
              0.4444444444444444,
              "#bd3786"
             ],
             [
              0.5555555555555556,
              "#d8576b"
             ],
             [
              0.6666666666666666,
              "#ed7953"
             ],
             [
              0.7777777777777778,
              "#fb9f3a"
             ],
             [
              0.8888888888888888,
              "#fdca26"
             ],
             [
              1,
              "#f0f921"
             ]
            ],
            "type": "histogram2d"
           }
          ],
          "histogram2dcontour": [
           {
            "colorbar": {
             "outlinewidth": 0,
             "ticks": ""
            },
            "colorscale": [
             [
              0,
              "#0d0887"
             ],
             [
              0.1111111111111111,
              "#46039f"
             ],
             [
              0.2222222222222222,
              "#7201a8"
             ],
             [
              0.3333333333333333,
              "#9c179e"
             ],
             [
              0.4444444444444444,
              "#bd3786"
             ],
             [
              0.5555555555555556,
              "#d8576b"
             ],
             [
              0.6666666666666666,
              "#ed7953"
             ],
             [
              0.7777777777777778,
              "#fb9f3a"
             ],
             [
              0.8888888888888888,
              "#fdca26"
             ],
             [
              1,
              "#f0f921"
             ]
            ],
            "type": "histogram2dcontour"
           }
          ],
          "mesh3d": [
           {
            "colorbar": {
             "outlinewidth": 0,
             "ticks": ""
            },
            "type": "mesh3d"
           }
          ],
          "parcoords": [
           {
            "line": {
             "colorbar": {
              "outlinewidth": 0,
              "ticks": ""
             }
            },
            "type": "parcoords"
           }
          ],
          "pie": [
           {
            "automargin": true,
            "type": "pie"
           }
          ],
          "scatter": [
           {
            "marker": {
             "colorbar": {
              "outlinewidth": 0,
              "ticks": ""
             }
            },
            "type": "scatter"
           }
          ],
          "scatter3d": [
           {
            "line": {
             "colorbar": {
              "outlinewidth": 0,
              "ticks": ""
             }
            },
            "marker": {
             "colorbar": {
              "outlinewidth": 0,
              "ticks": ""
             }
            },
            "type": "scatter3d"
           }
          ],
          "scattercarpet": [
           {
            "marker": {
             "colorbar": {
              "outlinewidth": 0,
              "ticks": ""
             }
            },
            "type": "scattercarpet"
           }
          ],
          "scattergeo": [
           {
            "marker": {
             "colorbar": {
              "outlinewidth": 0,
              "ticks": ""
             }
            },
            "type": "scattergeo"
           }
          ],
          "scattergl": [
           {
            "marker": {
             "colorbar": {
              "outlinewidth": 0,
              "ticks": ""
             }
            },
            "type": "scattergl"
           }
          ],
          "scattermapbox": [
           {
            "marker": {
             "colorbar": {
              "outlinewidth": 0,
              "ticks": ""
             }
            },
            "type": "scattermapbox"
           }
          ],
          "scatterpolar": [
           {
            "marker": {
             "colorbar": {
              "outlinewidth": 0,
              "ticks": ""
             }
            },
            "type": "scatterpolar"
           }
          ],
          "scatterpolargl": [
           {
            "marker": {
             "colorbar": {
              "outlinewidth": 0,
              "ticks": ""
             }
            },
            "type": "scatterpolargl"
           }
          ],
          "scatterternary": [
           {
            "marker": {
             "colorbar": {
              "outlinewidth": 0,
              "ticks": ""
             }
            },
            "type": "scatterternary"
           }
          ],
          "surface": [
           {
            "colorbar": {
             "outlinewidth": 0,
             "ticks": ""
            },
            "colorscale": [
             [
              0,
              "#0d0887"
             ],
             [
              0.1111111111111111,
              "#46039f"
             ],
             [
              0.2222222222222222,
              "#7201a8"
             ],
             [
              0.3333333333333333,
              "#9c179e"
             ],
             [
              0.4444444444444444,
              "#bd3786"
             ],
             [
              0.5555555555555556,
              "#d8576b"
             ],
             [
              0.6666666666666666,
              "#ed7953"
             ],
             [
              0.7777777777777778,
              "#fb9f3a"
             ],
             [
              0.8888888888888888,
              "#fdca26"
             ],
             [
              1,
              "#f0f921"
             ]
            ],
            "type": "surface"
           }
          ],
          "table": [
           {
            "cells": {
             "fill": {
              "color": "#EBF0F8"
             },
             "line": {
              "color": "white"
             }
            },
            "header": {
             "fill": {
              "color": "#C8D4E3"
             },
             "line": {
              "color": "white"
             }
            },
            "type": "table"
           }
          ]
         },
         "layout": {
          "annotationdefaults": {
           "arrowcolor": "#2a3f5f",
           "arrowhead": 0,
           "arrowwidth": 1
          },
          "coloraxis": {
           "colorbar": {
            "outlinewidth": 0,
            "ticks": ""
           }
          },
          "colorscale": {
           "diverging": [
            [
             0,
             "#8e0152"
            ],
            [
             0.1,
             "#c51b7d"
            ],
            [
             0.2,
             "#de77ae"
            ],
            [
             0.3,
             "#f1b6da"
            ],
            [
             0.4,
             "#fde0ef"
            ],
            [
             0.5,
             "#f7f7f7"
            ],
            [
             0.6,
             "#e6f5d0"
            ],
            [
             0.7,
             "#b8e186"
            ],
            [
             0.8,
             "#7fbc41"
            ],
            [
             0.9,
             "#4d9221"
            ],
            [
             1,
             "#276419"
            ]
           ],
           "sequential": [
            [
             0,
             "#0d0887"
            ],
            [
             0.1111111111111111,
             "#46039f"
            ],
            [
             0.2222222222222222,
             "#7201a8"
            ],
            [
             0.3333333333333333,
             "#9c179e"
            ],
            [
             0.4444444444444444,
             "#bd3786"
            ],
            [
             0.5555555555555556,
             "#d8576b"
            ],
            [
             0.6666666666666666,
             "#ed7953"
            ],
            [
             0.7777777777777778,
             "#fb9f3a"
            ],
            [
             0.8888888888888888,
             "#fdca26"
            ],
            [
             1,
             "#f0f921"
            ]
           ],
           "sequentialminus": [
            [
             0,
             "#0d0887"
            ],
            [
             0.1111111111111111,
             "#46039f"
            ],
            [
             0.2222222222222222,
             "#7201a8"
            ],
            [
             0.3333333333333333,
             "#9c179e"
            ],
            [
             0.4444444444444444,
             "#bd3786"
            ],
            [
             0.5555555555555556,
             "#d8576b"
            ],
            [
             0.6666666666666666,
             "#ed7953"
            ],
            [
             0.7777777777777778,
             "#fb9f3a"
            ],
            [
             0.8888888888888888,
             "#fdca26"
            ],
            [
             1,
             "#f0f921"
            ]
           ]
          },
          "colorway": [
           "#636efa",
           "#EF553B",
           "#00cc96",
           "#ab63fa",
           "#FFA15A",
           "#19d3f3",
           "#FF6692",
           "#B6E880",
           "#FF97FF",
           "#FECB52"
          ],
          "font": {
           "color": "#2a3f5f"
          },
          "geo": {
           "bgcolor": "white",
           "lakecolor": "white",
           "landcolor": "#E5ECF6",
           "showlakes": true,
           "showland": true,
           "subunitcolor": "white"
          },
          "hoverlabel": {
           "align": "left"
          },
          "hovermode": "closest",
          "mapbox": {
           "style": "light"
          },
          "paper_bgcolor": "white",
          "plot_bgcolor": "#E5ECF6",
          "polar": {
           "angularaxis": {
            "gridcolor": "white",
            "linecolor": "white",
            "ticks": ""
           },
           "bgcolor": "#E5ECF6",
           "radialaxis": {
            "gridcolor": "white",
            "linecolor": "white",
            "ticks": ""
           }
          },
          "scene": {
           "xaxis": {
            "backgroundcolor": "#E5ECF6",
            "gridcolor": "white",
            "gridwidth": 2,
            "linecolor": "white",
            "showbackground": true,
            "ticks": "",
            "zerolinecolor": "white"
           },
           "yaxis": {
            "backgroundcolor": "#E5ECF6",
            "gridcolor": "white",
            "gridwidth": 2,
            "linecolor": "white",
            "showbackground": true,
            "ticks": "",
            "zerolinecolor": "white"
           },
           "zaxis": {
            "backgroundcolor": "#E5ECF6",
            "gridcolor": "white",
            "gridwidth": 2,
            "linecolor": "white",
            "showbackground": true,
            "ticks": "",
            "zerolinecolor": "white"
           }
          },
          "shapedefaults": {
           "line": {
            "color": "#2a3f5f"
           }
          },
          "ternary": {
           "aaxis": {
            "gridcolor": "white",
            "linecolor": "white",
            "ticks": ""
           },
           "baxis": {
            "gridcolor": "white",
            "linecolor": "white",
            "ticks": ""
           },
           "bgcolor": "#E5ECF6",
           "caxis": {
            "gridcolor": "white",
            "linecolor": "white",
            "ticks": ""
           }
          },
          "title": {
           "x": 0.05
          },
          "xaxis": {
           "automargin": true,
           "gridcolor": "white",
           "linecolor": "white",
           "ticks": "",
           "title": {
            "standoff": 15
           },
           "zerolinecolor": "white",
           "zerolinewidth": 2
          },
          "yaxis": {
           "automargin": true,
           "gridcolor": "white",
           "linecolor": "white",
           "ticks": "",
           "title": {
            "standoff": 15
           },
           "zerolinecolor": "white",
           "zerolinewidth": 2
          }
         }
        },
        "xaxis": {
         "anchor": "y",
         "domain": [
          0,
          1
         ],
         "title": {
          "text": "flavanóides"
         }
        },
        "yaxis": {
         "anchor": "x",
         "domain": [
          0,
          1
         ],
         "title": {
          "text": "feois_totais"
         }
        }
       }
      },
      "text/html": [
       "<div>\n",
       "        \n",
       "        \n",
       "            <div id=\"6782a3d6-a6a9-47e0-be62-ea9a43621ae5\" class=\"plotly-graph-div\" style=\"height:525px; width:100%;\"></div>\n",
       "            <script type=\"text/javascript\">\n",
       "                require([\"plotly\"], function(Plotly) {\n",
       "                    window.PLOTLYENV=window.PLOTLYENV || {};\n",
       "                    \n",
       "                if (document.getElementById(\"6782a3d6-a6a9-47e0-be62-ea9a43621ae5\")) {\n",
       "                    Plotly.newPlot(\n",
       "                        '6782a3d6-a6a9-47e0-be62-ea9a43621ae5',\n",
       "                        [{\"hovertemplate\": \"flavan\\u00f3ides=%{x}<br>feois_totais=%{y}<extra></extra>\", \"legendgroup\": \"\", \"marker\": {\"color\": \"#636efa\", \"symbol\": \"circle\"}, \"mode\": \"markers\", \"name\": \"\", \"orientation\": \"v\", \"showlegend\": false, \"type\": \"scatter\", \"x\": [3.06, 2.76, 3.24, 3.49, 2.69, 3.39, 2.52, 2.51, 2.98, 3.15, 3.32, 2.43, 2.76, 3.69, 3.64, 2.91, 3.14, 3.4, 3.93, 3.03, 3.17, 2.41, 2.88, 2.37, 2.61, 2.68, 2.94, 2.19, 2.97, 2.33, 3.25, 3.19, 2.69, 2.74, 2.53, 2.98, 2.68, 2.43, 2.64, 3.04, 3.29, 2.68, 3.56, 2.63, 3.0, 2.65, 3.17, 3.39, 2.92, 3.54, 3.27, 2.99, 3.74, 2.79, 2.9, 2.78, 3.0, 3.23, 3.67, 0.57, 1.09, 1.41, 1.79, 3.1, 1.75, 2.65, 3.18, 2.0, 1.3, 1.28, 1.02, 2.86, 1.84, 2.89, 2.14, 1.57, 2.03, 1.32, 1.85, 2.55, 2.26, 2.53, 1.58, 1.59, 2.21, 1.94, 1.69, 1.61, 1.69, 1.59, 1.5, 1.25, 1.46, 2.25, 2.26, 2.27, 0.99, 2.5, 3.75, 2.99, 2.17, 1.36, 2.11, 1.64, 1.92, 1.84, 2.03, 1.76, 2.04, 2.92, 2.58, 2.27, 2.03, 2.01, 2.29, 2.17, 1.6, 2.09, 1.25, 1.64, 2.79, 5.08, 2.13, 2.65, 3.03, 2.65, 3.15, 2.24, 2.45, 1.75, 1.25, 1.22, 1.09, 1.2, 0.58, 0.66, 0.47, 0.6, 0.48, 0.6, 0.5, 0.5, 0.52, 0.8, 0.78, 0.55, 0.34, 0.65, 0.76, 1.39, 1.57, 1.36, 1.28, 0.83, 0.58, 0.63, 0.83, 0.58, 1.31, 1.1, 0.92, 0.56, 0.6, 0.7, 0.68, 0.47, 0.92, 0.66, 0.84, 0.96, 0.49, 0.51, 0.7, 0.61, 0.75, 0.69, 0.68, 0.76], \"xaxis\": \"x\", \"y\": [2.8, 2.65, 2.8, 3.85, 2.8, 3.27, 2.5, 2.6, 2.8, 2.98, 2.95, 2.2, 2.6, 3.1, 3.3, 2.85, 2.8, 2.95, 3.3, 2.7, 3.0, 2.41, 2.61, 2.48, 2.53, 2.63, 2.85, 2.4, 2.95, 2.65, 3.0, 2.86, 2.42, 2.95, 2.35, 2.7, 2.6, 2.45, 2.4, 3.0, 3.15, 2.45, 3.25, 2.64, 3.0, 2.85, 3.25, 3.1, 2.75, 2.88, 2.72, 2.45, 3.88, 3.0, 2.6, 2.96, 3.2, 3.0, 3.4, 1.98, 2.05, 2.02, 2.1, 3.5, 1.89, 2.42, 2.98, 2.11, 2.53, 1.85, 1.1, 2.95, 1.88, 3.3, 3.38, 1.61, 1.95, 1.72, 1.9, 2.83, 2.42, 2.2, 2.0, 1.65, 2.2, 2.2, 1.78, 1.92, 1.95, 2.2, 1.6, 1.45, 1.38, 2.45, 3.02, 2.5, 1.6, 2.55, 3.52, 2.85, 2.23, 1.45, 2.56, 2.5, 2.2, 1.68, 1.65, 1.38, 2.36, 2.74, 3.18, 2.55, 1.75, 2.48, 2.56, 2.46, 1.98, 2.0, 1.63, 2.0, 2.9, 3.18, 2.2, 2.62, 2.86, 2.6, 2.74, 2.13, 2.22, 2.1, 1.51, 1.3, 1.15, 1.7, 2.0, 1.62, 1.38, 1.79, 1.62, 2.32, 1.54, 1.4, 1.55, 2.0, 1.38, 1.5, 0.98, 1.7, 1.93, 1.41, 1.4, 1.48, 2.2, 1.8, 1.48, 1.74, 1.8, 1.9, 2.8, 2.6, 2.3, 1.83, 1.65, 1.39, 1.35, 1.28, 1.7, 1.48, 1.55, 1.98, 1.25, 1.39, 1.68, 1.68, 1.8, 1.59, 1.65, 2.05], \"yaxis\": \"y\"}],\n",
       "                        {\"legend\": {\"tracegroupgap\": 0}, \"margin\": {\"t\": 60}, \"template\": {\"data\": {\"bar\": [{\"error_x\": {\"color\": \"#2a3f5f\"}, \"error_y\": {\"color\": \"#2a3f5f\"}, \"marker\": {\"line\": {\"color\": \"#E5ECF6\", \"width\": 0.5}}, \"type\": \"bar\"}], \"barpolar\": [{\"marker\": {\"line\": {\"color\": \"#E5ECF6\", \"width\": 0.5}}, \"type\": \"barpolar\"}], \"carpet\": [{\"aaxis\": {\"endlinecolor\": \"#2a3f5f\", \"gridcolor\": \"white\", \"linecolor\": \"white\", \"minorgridcolor\": \"white\", \"startlinecolor\": \"#2a3f5f\"}, \"baxis\": {\"endlinecolor\": \"#2a3f5f\", \"gridcolor\": \"white\", \"linecolor\": \"white\", \"minorgridcolor\": \"white\", \"startlinecolor\": \"#2a3f5f\"}, \"type\": \"carpet\"}], \"choropleth\": [{\"colorbar\": {\"outlinewidth\": 0, \"ticks\": \"\"}, \"type\": \"choropleth\"}], \"contour\": [{\"colorbar\": {\"outlinewidth\": 0, \"ticks\": \"\"}, \"colorscale\": [[0.0, \"#0d0887\"], [0.1111111111111111, \"#46039f\"], [0.2222222222222222, \"#7201a8\"], [0.3333333333333333, \"#9c179e\"], [0.4444444444444444, \"#bd3786\"], [0.5555555555555556, \"#d8576b\"], [0.6666666666666666, \"#ed7953\"], [0.7777777777777778, \"#fb9f3a\"], [0.8888888888888888, \"#fdca26\"], [1.0, \"#f0f921\"]], \"type\": \"contour\"}], \"contourcarpet\": [{\"colorbar\": {\"outlinewidth\": 0, \"ticks\": \"\"}, \"type\": \"contourcarpet\"}], \"heatmap\": [{\"colorbar\": {\"outlinewidth\": 0, \"ticks\": \"\"}, \"colorscale\": [[0.0, \"#0d0887\"], [0.1111111111111111, \"#46039f\"], [0.2222222222222222, \"#7201a8\"], [0.3333333333333333, \"#9c179e\"], [0.4444444444444444, \"#bd3786\"], [0.5555555555555556, \"#d8576b\"], [0.6666666666666666, \"#ed7953\"], [0.7777777777777778, \"#fb9f3a\"], [0.8888888888888888, \"#fdca26\"], [1.0, \"#f0f921\"]], \"type\": \"heatmap\"}], \"heatmapgl\": [{\"colorbar\": {\"outlinewidth\": 0, \"ticks\": \"\"}, \"colorscale\": [[0.0, \"#0d0887\"], [0.1111111111111111, \"#46039f\"], [0.2222222222222222, \"#7201a8\"], [0.3333333333333333, \"#9c179e\"], [0.4444444444444444, \"#bd3786\"], [0.5555555555555556, \"#d8576b\"], [0.6666666666666666, \"#ed7953\"], [0.7777777777777778, \"#fb9f3a\"], [0.8888888888888888, \"#fdca26\"], [1.0, \"#f0f921\"]], \"type\": \"heatmapgl\"}], \"histogram\": [{\"marker\": {\"colorbar\": {\"outlinewidth\": 0, \"ticks\": \"\"}}, \"type\": \"histogram\"}], \"histogram2d\": [{\"colorbar\": {\"outlinewidth\": 0, \"ticks\": \"\"}, \"colorscale\": [[0.0, \"#0d0887\"], [0.1111111111111111, \"#46039f\"], [0.2222222222222222, \"#7201a8\"], [0.3333333333333333, \"#9c179e\"], [0.4444444444444444, \"#bd3786\"], [0.5555555555555556, \"#d8576b\"], [0.6666666666666666, \"#ed7953\"], [0.7777777777777778, \"#fb9f3a\"], [0.8888888888888888, \"#fdca26\"], [1.0, \"#f0f921\"]], \"type\": \"histogram2d\"}], \"histogram2dcontour\": [{\"colorbar\": {\"outlinewidth\": 0, \"ticks\": \"\"}, \"colorscale\": [[0.0, \"#0d0887\"], [0.1111111111111111, \"#46039f\"], [0.2222222222222222, \"#7201a8\"], [0.3333333333333333, \"#9c179e\"], [0.4444444444444444, \"#bd3786\"], [0.5555555555555556, \"#d8576b\"], [0.6666666666666666, \"#ed7953\"], [0.7777777777777778, \"#fb9f3a\"], [0.8888888888888888, \"#fdca26\"], [1.0, \"#f0f921\"]], \"type\": \"histogram2dcontour\"}], \"mesh3d\": [{\"colorbar\": {\"outlinewidth\": 0, \"ticks\": \"\"}, \"type\": \"mesh3d\"}], \"parcoords\": [{\"line\": {\"colorbar\": {\"outlinewidth\": 0, \"ticks\": \"\"}}, \"type\": \"parcoords\"}], \"pie\": [{\"automargin\": true, \"type\": \"pie\"}], \"scatter\": [{\"marker\": {\"colorbar\": {\"outlinewidth\": 0, \"ticks\": \"\"}}, \"type\": \"scatter\"}], \"scatter3d\": [{\"line\": {\"colorbar\": {\"outlinewidth\": 0, \"ticks\": \"\"}}, \"marker\": {\"colorbar\": {\"outlinewidth\": 0, \"ticks\": \"\"}}, \"type\": \"scatter3d\"}], \"scattercarpet\": [{\"marker\": {\"colorbar\": {\"outlinewidth\": 0, \"ticks\": \"\"}}, \"type\": \"scattercarpet\"}], \"scattergeo\": [{\"marker\": {\"colorbar\": {\"outlinewidth\": 0, \"ticks\": \"\"}}, \"type\": \"scattergeo\"}], \"scattergl\": [{\"marker\": {\"colorbar\": {\"outlinewidth\": 0, \"ticks\": \"\"}}, \"type\": \"scattergl\"}], \"scattermapbox\": [{\"marker\": {\"colorbar\": {\"outlinewidth\": 0, \"ticks\": \"\"}}, \"type\": \"scattermapbox\"}], \"scatterpolar\": [{\"marker\": {\"colorbar\": {\"outlinewidth\": 0, \"ticks\": \"\"}}, \"type\": \"scatterpolar\"}], \"scatterpolargl\": [{\"marker\": {\"colorbar\": {\"outlinewidth\": 0, \"ticks\": \"\"}}, \"type\": \"scatterpolargl\"}], \"scatterternary\": [{\"marker\": {\"colorbar\": {\"outlinewidth\": 0, \"ticks\": \"\"}}, \"type\": \"scatterternary\"}], \"surface\": [{\"colorbar\": {\"outlinewidth\": 0, \"ticks\": \"\"}, \"colorscale\": [[0.0, \"#0d0887\"], [0.1111111111111111, \"#46039f\"], [0.2222222222222222, \"#7201a8\"], [0.3333333333333333, \"#9c179e\"], [0.4444444444444444, \"#bd3786\"], [0.5555555555555556, \"#d8576b\"], [0.6666666666666666, \"#ed7953\"], [0.7777777777777778, \"#fb9f3a\"], [0.8888888888888888, \"#fdca26\"], [1.0, \"#f0f921\"]], \"type\": \"surface\"}], \"table\": [{\"cells\": {\"fill\": {\"color\": \"#EBF0F8\"}, \"line\": {\"color\": \"white\"}}, \"header\": {\"fill\": {\"color\": \"#C8D4E3\"}, \"line\": {\"color\": \"white\"}}, \"type\": \"table\"}]}, \"layout\": {\"annotationdefaults\": {\"arrowcolor\": \"#2a3f5f\", \"arrowhead\": 0, \"arrowwidth\": 1}, \"coloraxis\": {\"colorbar\": {\"outlinewidth\": 0, \"ticks\": \"\"}}, \"colorscale\": {\"diverging\": [[0, \"#8e0152\"], [0.1, \"#c51b7d\"], [0.2, \"#de77ae\"], [0.3, \"#f1b6da\"], [0.4, \"#fde0ef\"], [0.5, \"#f7f7f7\"], [0.6, \"#e6f5d0\"], [0.7, \"#b8e186\"], [0.8, \"#7fbc41\"], [0.9, \"#4d9221\"], [1, \"#276419\"]], \"sequential\": [[0.0, \"#0d0887\"], [0.1111111111111111, \"#46039f\"], [0.2222222222222222, \"#7201a8\"], [0.3333333333333333, \"#9c179e\"], [0.4444444444444444, \"#bd3786\"], [0.5555555555555556, \"#d8576b\"], [0.6666666666666666, \"#ed7953\"], [0.7777777777777778, \"#fb9f3a\"], [0.8888888888888888, \"#fdca26\"], [1.0, \"#f0f921\"]], \"sequentialminus\": [[0.0, \"#0d0887\"], [0.1111111111111111, \"#46039f\"], [0.2222222222222222, \"#7201a8\"], [0.3333333333333333, \"#9c179e\"], [0.4444444444444444, \"#bd3786\"], [0.5555555555555556, \"#d8576b\"], [0.6666666666666666, \"#ed7953\"], [0.7777777777777778, \"#fb9f3a\"], [0.8888888888888888, \"#fdca26\"], [1.0, \"#f0f921\"]]}, \"colorway\": [\"#636efa\", \"#EF553B\", \"#00cc96\", \"#ab63fa\", \"#FFA15A\", \"#19d3f3\", \"#FF6692\", \"#B6E880\", \"#FF97FF\", \"#FECB52\"], \"font\": {\"color\": \"#2a3f5f\"}, \"geo\": {\"bgcolor\": \"white\", \"lakecolor\": \"white\", \"landcolor\": \"#E5ECF6\", \"showlakes\": true, \"showland\": true, \"subunitcolor\": \"white\"}, \"hoverlabel\": {\"align\": \"left\"}, \"hovermode\": \"closest\", \"mapbox\": {\"style\": \"light\"}, \"paper_bgcolor\": \"white\", \"plot_bgcolor\": \"#E5ECF6\", \"polar\": {\"angularaxis\": {\"gridcolor\": \"white\", \"linecolor\": \"white\", \"ticks\": \"\"}, \"bgcolor\": \"#E5ECF6\", \"radialaxis\": {\"gridcolor\": \"white\", \"linecolor\": \"white\", \"ticks\": \"\"}}, \"scene\": {\"xaxis\": {\"backgroundcolor\": \"#E5ECF6\", \"gridcolor\": \"white\", \"gridwidth\": 2, \"linecolor\": \"white\", \"showbackground\": true, \"ticks\": \"\", \"zerolinecolor\": \"white\"}, \"yaxis\": {\"backgroundcolor\": \"#E5ECF6\", \"gridcolor\": \"white\", \"gridwidth\": 2, \"linecolor\": \"white\", \"showbackground\": true, \"ticks\": \"\", \"zerolinecolor\": \"white\"}, \"zaxis\": {\"backgroundcolor\": \"#E5ECF6\", \"gridcolor\": \"white\", \"gridwidth\": 2, \"linecolor\": \"white\", \"showbackground\": true, \"ticks\": \"\", \"zerolinecolor\": \"white\"}}, \"shapedefaults\": {\"line\": {\"color\": \"#2a3f5f\"}}, \"ternary\": {\"aaxis\": {\"gridcolor\": \"white\", \"linecolor\": \"white\", \"ticks\": \"\"}, \"baxis\": {\"gridcolor\": \"white\", \"linecolor\": \"white\", \"ticks\": \"\"}, \"bgcolor\": \"#E5ECF6\", \"caxis\": {\"gridcolor\": \"white\", \"linecolor\": \"white\", \"ticks\": \"\"}}, \"title\": {\"x\": 0.05}, \"xaxis\": {\"automargin\": true, \"gridcolor\": \"white\", \"linecolor\": \"white\", \"ticks\": \"\", \"title\": {\"standoff\": 15}, \"zerolinecolor\": \"white\", \"zerolinewidth\": 2}, \"yaxis\": {\"automargin\": true, \"gridcolor\": \"white\", \"linecolor\": \"white\", \"ticks\": \"\", \"title\": {\"standoff\": 15}, \"zerolinecolor\": \"white\", \"zerolinewidth\": 2}}}, \"xaxis\": {\"anchor\": \"y\", \"domain\": [0.0, 1.0], \"title\": {\"text\": \"flavan\\u00f3ides\"}}, \"yaxis\": {\"anchor\": \"x\", \"domain\": [0.0, 1.0], \"title\": {\"text\": \"feois_totais\"}}},\n",
       "                        {\"responsive\": true}\n",
       "                    ).then(function(){\n",
       "                            \n",
       "var gd = document.getElementById('6782a3d6-a6a9-47e0-be62-ea9a43621ae5');\n",
       "var x = new MutationObserver(function (mutations, observer) {{\n",
       "        var display = window.getComputedStyle(gd).display;\n",
       "        if (!display || display === 'none') {{\n",
       "            console.log([gd, 'removed!']);\n",
       "            Plotly.purge(gd);\n",
       "            observer.disconnect();\n",
       "        }}\n",
       "}});\n",
       "\n",
       "// Listen for the removal of the full notebook cells\n",
       "var notebookContainer = gd.closest('#notebook-container');\n",
       "if (notebookContainer) {{\n",
       "    x.observe(notebookContainer, {childList: true});\n",
       "}}\n",
       "\n",
       "// Listen for the clearing of the current output cell\n",
       "var outputEl = gd.closest('.output');\n",
       "if (outputEl) {{\n",
       "    x.observe(outputEl, {childList: true});\n",
       "}}\n",
       "\n",
       "                        })\n",
       "                };\n",
       "                });\n",
       "            </script>\n",
       "        </div>"
      ]
     },
     "metadata": {},
     "output_type": "display_data"
    }
   ],
   "source": [
    "fig = px.scatter(df, x=df.flavanóides, y=df.feois_totais)\n",
    "fig.show()"
   ]
  },
  {
   "cell_type": "code",
   "execution_count": 27,
   "metadata": {},
   "outputs": [
    {
     "data": {
      "text/plain": [
       "count    178.000000\n",
       "mean      13.000618\n",
       "std        0.811827\n",
       "min       11.030000\n",
       "25%       12.362500\n",
       "50%       13.050000\n",
       "75%       13.677500\n",
       "max       14.830000\n",
       "Name: alcool, dtype: float64"
      ]
     },
     "execution_count": 27,
     "metadata": {},
     "output_type": "execute_result"
    }
   ],
   "source": [
    "df.alcool.describe()"
   ]
  },
  {
   "cell_type": "code",
   "execution_count": 28,
   "metadata": {},
   "outputs": [
    {
     "data": {
      "text/plain": [
       "12.37    6\n",
       "13.05    6\n",
       "12.08    5\n",
       "12.29    4\n",
       "12.00    3\n",
       "Name: alcool, dtype: int64"
      ]
     },
     "execution_count": 28,
     "metadata": {},
     "output_type": "execute_result"
    }
   ],
   "source": [
    "df.alcool.value_counts().head()"
   ]
  },
  {
   "cell_type": "code",
   "execution_count": 32,
   "metadata": {},
   "outputs": [
    {
     "data": {
      "application/vnd.plotly.v1+json": {
       "config": {
        "plotlyServerURL": "https://plot.ly"
       },
       "data": [
        {
         "autobinx": false,
         "histnorm": "probability density",
         "legendgroup": "Distribuição da quantidade de Álcool",
         "marker": {
          "color": "rgb(31, 119, 180)"
         },
         "name": "Distribuição da quantidade de Álcool",
         "opacity": 0.7,
         "type": "histogram",
         "x": [
          14.23,
          13.2,
          13.16,
          14.37,
          13.24,
          14.2,
          14.39,
          14.06,
          14.83,
          13.86,
          14.1,
          14.12,
          13.75,
          14.75,
          14.38,
          13.63,
          14.3,
          13.83,
          14.19,
          13.64,
          14.06,
          12.93,
          13.71,
          12.85,
          13.5,
          13.05,
          13.39,
          13.3,
          13.87,
          14.02,
          13.73,
          13.58,
          13.68,
          13.76,
          13.51,
          13.48,
          13.28,
          13.05,
          13.07,
          14.22,
          13.56,
          13.41,
          13.88,
          13.24,
          13.05,
          14.21,
          14.38,
          13.9,
          14.1,
          13.94,
          13.05,
          13.83,
          13.82,
          13.77,
          13.74,
          13.56,
          14.22,
          13.29,
          13.72,
          12.37,
          12.33,
          12.64,
          13.67,
          12.37,
          12.17,
          12.37,
          13.11,
          12.37,
          13.34,
          12.21,
          12.29,
          13.86,
          13.49,
          12.99,
          11.96,
          11.66,
          13.03,
          11.84,
          12.33,
          12.7,
          12,
          12.72,
          12.08,
          13.05,
          11.84,
          12.67,
          12.16,
          11.65,
          11.64,
          12.08,
          12.08,
          12,
          12.69,
          12.29,
          11.62,
          12.47,
          11.81,
          12.29,
          12.37,
          12.29,
          12.08,
          12.6,
          12.34,
          11.82,
          12.51,
          12.42,
          12.25,
          12.72,
          12.22,
          11.61,
          11.46,
          12.52,
          11.76,
          11.41,
          12.08,
          11.03,
          11.82,
          12.42,
          12.77,
          12,
          11.45,
          11.56,
          12.42,
          13.05,
          11.87,
          12.07,
          12.43,
          11.79,
          12.37,
          12.04,
          12.86,
          12.88,
          12.81,
          12.7,
          12.51,
          12.6,
          12.25,
          12.53,
          13.49,
          12.84,
          12.93,
          13.36,
          13.52,
          13.62,
          12.25,
          13.16,
          13.88,
          12.87,
          13.32,
          13.08,
          13.5,
          12.79,
          13.11,
          13.23,
          12.58,
          13.17,
          13.84,
          12.45,
          14.34,
          13.48,
          12.36,
          13.69,
          12.85,
          12.96,
          13.78,
          13.73,
          13.45,
          12.82,
          13.58,
          13.4,
          12.2,
          12.77,
          14.16,
          13.71,
          13.4,
          13.27,
          13.17,
          14.13
         ],
         "xaxis": "x",
         "xbins": {
          "end": 14.83,
          "size": 0.2,
          "start": 11.03
         },
         "yaxis": "y"
        },
        {
         "legendgroup": "Distribuição da quantidade de Álcool",
         "marker": {
          "color": "rgb(31, 119, 180)"
         },
         "mode": "lines",
         "name": "Distribuição da quantidade de Álcool",
         "showlegend": false,
         "type": "scatter",
         "x": [
          11.03,
          11.0376,
          11.0452,
          11.0528,
          11.0604,
          11.068,
          11.0756,
          11.0832,
          11.0908,
          11.0984,
          11.106,
          11.1136,
          11.1212,
          11.1288,
          11.1364,
          11.144,
          11.1516,
          11.1592,
          11.166799999999999,
          11.174399999999999,
          11.181999999999999,
          11.189599999999999,
          11.197199999999999,
          11.204799999999999,
          11.212399999999999,
          11.219999999999999,
          11.227599999999999,
          11.235199999999999,
          11.242799999999999,
          11.250399999999999,
          11.258,
          11.2656,
          11.2732,
          11.2808,
          11.2884,
          11.296,
          11.3036,
          11.3112,
          11.3188,
          11.3264,
          11.334,
          11.3416,
          11.3492,
          11.3568,
          11.3644,
          11.372,
          11.3796,
          11.3872,
          11.3948,
          11.4024,
          11.41,
          11.4176,
          11.4252,
          11.4328,
          11.4404,
          11.447999999999999,
          11.455599999999999,
          11.463199999999999,
          11.470799999999999,
          11.478399999999999,
          11.485999999999999,
          11.493599999999999,
          11.501199999999999,
          11.508799999999999,
          11.516399999999999,
          11.524,
          11.5316,
          11.5392,
          11.5468,
          11.5544,
          11.562,
          11.5696,
          11.5772,
          11.5848,
          11.5924,
          11.6,
          11.6076,
          11.6152,
          11.6228,
          11.6304,
          11.638,
          11.6456,
          11.6532,
          11.6608,
          11.6684,
          11.676,
          11.6836,
          11.6912,
          11.6988,
          11.706399999999999,
          11.713999999999999,
          11.721599999999999,
          11.729199999999999,
          11.736799999999999,
          11.744399999999999,
          11.751999999999999,
          11.759599999999999,
          11.767199999999999,
          11.774799999999999,
          11.782399999999999,
          11.79,
          11.7976,
          11.8052,
          11.8128,
          11.8204,
          11.828,
          11.8356,
          11.8432,
          11.8508,
          11.8584,
          11.866,
          11.8736,
          11.8812,
          11.8888,
          11.8964,
          11.904,
          11.9116,
          11.9192,
          11.9268,
          11.9344,
          11.942,
          11.9496,
          11.9572,
          11.9648,
          11.9724,
          11.98,
          11.987599999999999,
          11.995199999999999,
          12.002799999999999,
          12.010399999999999,
          12.017999999999999,
          12.025599999999999,
          12.033199999999999,
          12.040799999999999,
          12.048399999999999,
          12.056,
          12.0636,
          12.0712,
          12.0788,
          12.0864,
          12.094,
          12.1016,
          12.1092,
          12.1168,
          12.1244,
          12.132,
          12.1396,
          12.1472,
          12.1548,
          12.1624,
          12.17,
          12.1776,
          12.1852,
          12.1928,
          12.2004,
          12.208,
          12.2156,
          12.2232,
          12.230799999999999,
          12.2384,
          12.245999999999999,
          12.253599999999999,
          12.261199999999999,
          12.268799999999999,
          12.276399999999999,
          12.283999999999999,
          12.291599999999999,
          12.299199999999999,
          12.306799999999999,
          12.3144,
          12.322,
          12.3296,
          12.3372,
          12.3448,
          12.3524,
          12.36,
          12.3676,
          12.3752,
          12.3828,
          12.3904,
          12.398,
          12.4056,
          12.4132,
          12.4208,
          12.4284,
          12.436,
          12.4436,
          12.4512,
          12.4588,
          12.4664,
          12.474,
          12.4816,
          12.4892,
          12.4968,
          12.5044,
          12.512,
          12.5196,
          12.5272,
          12.534799999999999,
          12.5424,
          12.549999999999999,
          12.557599999999999,
          12.565199999999999,
          12.572799999999999,
          12.5804,
          12.588,
          12.5956,
          12.6032,
          12.6108,
          12.6184,
          12.626,
          12.6336,
          12.6412,
          12.6488,
          12.6564,
          12.664,
          12.6716,
          12.6792,
          12.6868,
          12.6944,
          12.702,
          12.7096,
          12.7172,
          12.7248,
          12.7324,
          12.74,
          12.7476,
          12.7552,
          12.7628,
          12.7704,
          12.777999999999999,
          12.785599999999999,
          12.793199999999999,
          12.800799999999999,
          12.808399999999999,
          12.815999999999999,
          12.823599999999999,
          12.831199999999999,
          12.838799999999999,
          12.8464,
          12.854,
          12.8616,
          12.8692,
          12.8768,
          12.8844,
          12.892,
          12.8996,
          12.9072,
          12.9148,
          12.9224,
          12.93,
          12.9376,
          12.9452,
          12.9528,
          12.9604,
          12.968,
          12.9756,
          12.9832,
          12.9908,
          12.9984,
          13.006,
          13.0136,
          13.0212,
          13.0288,
          13.0364,
          13.044,
          13.0516,
          13.0592,
          13.0668,
          13.0744,
          13.082,
          13.0896,
          13.097199999999999,
          13.1048,
          13.112400000000001,
          13.12,
          13.1276,
          13.1352,
          13.1428,
          13.1504,
          13.158,
          13.1656,
          13.1732,
          13.1808,
          13.1884,
          13.196,
          13.2036,
          13.2112,
          13.2188,
          13.2264,
          13.234,
          13.2416,
          13.2492,
          13.2568,
          13.2644,
          13.272,
          13.2796,
          13.287199999999999,
          13.2948,
          13.3024,
          13.309999999999999,
          13.317599999999999,
          13.325199999999999,
          13.3328,
          13.340399999999999,
          13.347999999999999,
          13.355599999999999,
          13.363199999999999,
          13.3708,
          13.3784,
          13.386,
          13.3936,
          13.4012,
          13.4088,
          13.4164,
          13.424,
          13.4316,
          13.4392,
          13.4468,
          13.4544,
          13.462,
          13.4696,
          13.4772,
          13.4848,
          13.4924,
          13.5,
          13.5076,
          13.5152,
          13.5228,
          13.5304,
          13.538,
          13.5456,
          13.5532,
          13.5608,
          13.5684,
          13.576,
          13.5836,
          13.5912,
          13.5988,
          13.6064,
          13.614,
          13.6216,
          13.629199999999999,
          13.636800000000001,
          13.644400000000001,
          13.652,
          13.6596,
          13.6672,
          13.6748,
          13.6824,
          13.69,
          13.6976,
          13.7052,
          13.7128,
          13.7204,
          13.728,
          13.7356,
          13.7432,
          13.7508,
          13.7584,
          13.766,
          13.7736,
          13.7812,
          13.7888,
          13.7964,
          13.804,
          13.8116,
          13.8192,
          13.8268,
          13.8344,
          13.841999999999999,
          13.849599999999999,
          13.8572,
          13.864799999999999,
          13.872399999999999,
          13.879999999999999,
          13.887599999999999,
          13.895199999999999,
          13.9028,
          13.9104,
          13.918,
          13.9256,
          13.9332,
          13.9408,
          13.9484,
          13.956,
          13.9636,
          13.9712,
          13.9788,
          13.9864,
          13.994,
          14.0016,
          14.0092,
          14.0168,
          14.0244,
          14.032,
          14.0396,
          14.0472,
          14.0548,
          14.0624,
          14.07,
          14.0776,
          14.0852,
          14.0928,
          14.1004,
          14.108,
          14.1156,
          14.1232,
          14.1308,
          14.1384,
          14.146,
          14.153599999999999,
          14.161200000000001,
          14.168800000000001,
          14.176400000000001,
          14.184,
          14.1916,
          14.199200000000001,
          14.2068,
          14.2144,
          14.222,
          14.2296,
          14.2372,
          14.2448,
          14.2524,
          14.26,
          14.2676,
          14.2752,
          14.2828,
          14.2904,
          14.298,
          14.3056,
          14.3132,
          14.3208,
          14.3284,
          14.336,
          14.3436,
          14.3512,
          14.3588,
          14.3664,
          14.373999999999999,
          14.3816,
          14.3892,
          14.396799999999999,
          14.404399999999999,
          14.411999999999999,
          14.419599999999999,
          14.4272,
          14.4348,
          14.4424,
          14.45,
          14.4576,
          14.4652,
          14.4728,
          14.4804,
          14.488,
          14.4956,
          14.5032,
          14.5108,
          14.5184,
          14.526,
          14.5336,
          14.5412,
          14.5488,
          14.5564,
          14.564,
          14.5716,
          14.5792,
          14.5868,
          14.5944,
          14.602,
          14.6096,
          14.6172,
          14.6248,
          14.6324,
          14.64,
          14.6476,
          14.6552,
          14.6628,
          14.6704,
          14.678,
          14.6856,
          14.693200000000001,
          14.700800000000001,
          14.7084,
          14.716000000000001,
          14.723600000000001,
          14.731200000000001,
          14.7388,
          14.7464,
          14.754000000000001,
          14.7616,
          14.7692,
          14.7768,
          14.7844,
          14.792,
          14.7996,
          14.8072,
          14.8148,
          14.8224
         ],
         "xaxis": "x",
         "y": [
          0.02373642476409811,
          0.024500042445931607,
          0.025285663307836607,
          0.026093779225585763,
          0.02692487676554304,
          0.027779435873431613,
          0.028657928541118056,
          0.029560817456652514,
          0.030488554643023635,
          0.03144158009130885,
          0.03242032039406681,
          0.033425187384984976,
          0.03445657679090524,
          0.03551486690244764,
          0.03660041726951177,
          0.03771356742794948,
          0.03885463566370766,
          0.04002391782067693,
          0.041221686158419875,
          0.04244818826581933,
          0.04370364603654859,
          0.044988254712070304,
          0.04630218199765788,
          0.04764556725666759,
          0.04901852078801043,
          0.050421123191452956,
          0.051853424825015856,
          0.05331544535837836,
          0.05480717342576814,
          0.056328566381411004,
          0.057879550160133006,
          0.05946001924526095,
          0.06106983674544959,
          0.06270883458156833,
          0.06437681378426102,
          0.0660735449022408,
          0.06779876852086729,
          0.06955219588997967,
          0.07133350965943851,
          0.07314236472025638,
          0.07497838914867044,
          0.07684118524997083,
          0.07873033069835678,
          0.08064537976859977,
          0.08258586465476436,
          0.08455129687078371,
          0.08654116872719016,
          0.08855495487789529,
          0.09059211393046587,
          0.09265209011297273,
          0.0947343149901317,
          0.09683820922110602,
          0.09896318435107651,
          0.10110864462839061,
          0.10327398883891357,
          0.10545861214897988,
          0.10766190794823868,
          0.10988326968352627,
          0.11212209267489269,
          0.11437777590482423,
          0.11664972377175652,
          0.11893734779902226,
          0.121240068290458,
          0.12355731592406621,
          0.12588853327527497,
          0.12823317626159686,
          0.1305907155007157,
          0.13296063757436605,
          0.13534244619068406,
          0.13773566323810266,
          0.14013982972428188,
          0.14255450659399405,
          0.1449792754203999,
          0.14741373896462917,
          0.14985752159916144,
          0.1523102695910442,
          0.1547716512416027,
          0.15724135687991944,
          0.15971909870798584,
          0.1622046104961234,
          0.164697647127917,
          0.16719798399463212,
          0.16970541623975685,
          0.17221975785506732,
          0.1747408406302917,
          0.1772685129592033,
          0.1798026385056947,
          0.18234309473408486,
          0.1848897713086606,
          0.187442568368129,
          0.1900013946813902,
          0.19256616569167254,
          0.195136801456798,
          0.1977132244939257,
          0.2002953575377924,
          0.20288312122202087,
          0.20547643169365187,
          0.20807519817158446,
          0.21067932046007043,
          0.21328868642891108,
          0.21590316947235902,
          0.21852262595914126,
          0.2211468926862979,
          0.22377578434982973,
          0.22640909104533227,
          0.22904657581197588,
          0.23168797223328585,
          0.23433298210820336,
          0.23698127320592424,
          0.23963247711788718,
          0.24228618722017936,
          0.24494195675938923,
          0.2475992970746673,
          0.2502576759684331,
          0.25291651623771666,
          0.25557519437770143,
          0.25823303946844095,
          0.2608893322551648,
          0.26354330443187823,
          0.26619413813726456,
          0.2688409656710719,
          0.27148286943834493,
          0.274118882127941,
          0.27674798713080156,
          0.279369119202474,
          0.28198116537327333,
          0.2845829661084366,
          0.2871733167194386,
          0.28975096902650793,
          0.2923146332711662,
          0.29486298027642627,
          0.29739464385102726,
          0.29990822343286705,
          0.3024022869655503,
          0.3048753740007117,
          0.307325999017578,
          0.3097526549499859,
          0.312153816909917,
          0.31452794609542284,
          0.3168734938697248,
          0.31918890599716676,
          0.3214726270206953,
          0.3237231047645769,
          0.32593879494513944,
          0.3281181658715253,
          0.33025970321766074,
          0.33236191484600186,
          0.33442333566301996,
          0.3364425324859035,
          0.3384181088995742,
          0.3403487100828055,
          0.3422330275820813,
          0.34406980401171616,
          0.3458578376588423,
          0.34759598697196864,
          0.3492831749121247,
          0.3509183931459409,
          0.35250070606052825,
          0.35402925458061424,
          0.3555032597691012,
          0.3569220261930278,
          0.35828494503785724,
          0.3595914969540084,
          0.36084125462069205,
          0.3620338850133103,
          0.36316915136196765,
          0.3642469147900284,
          0.36526713562307306,
          0.3662298743601322,
          0.3671352923006212,
          0.3679836518220021,
          0.36877531630484867,
          0.36951074970364467,
          0.37019051576334167,
          0.3708152768833877,
          0.37138579263263055,
          0.37190291792017816,
          0.3723676008289557,
          0.37278088012032257,
          0.37314388241968777,
          0.373457819094613,
          0.37372398283834257,
          0.37394374397311886,
          0.3741185464889588,
          0.37424990383481427,
          0.37433939448017906,
          0.37438865726627246,
          0.374399386566855,
          0.3743733272795802,
          0.37431226966950926,
          0.374218044087003,
          0.37409251558271,
          0.3739375784427039,
          0.3737551506670775,
          0.3735471684153884,
          0.37331558044235497,
          0.37306234254704124,
          0.37278941205851546,
          0.3724987423805848,
          0.37219227761770407,
          0.3718719473035464,
          0.3715396612530112,
          0.3711973045576177,
          0.3708467327433198,
          0.3704897671087696,
          0.3701281902609786,
          0.36976374186415395,
          0.3693981146162647,
          0.3690329504665983,
          0.36866983708624507,
          0.36831030460204794,
          0.3679558226031596,
          0.3676077974279014,
          0.3672675697371681,
          0.366936412379159,
          0.3666155285487595,
          0.36630605024344187,
          0.3660090370161204,
          0.3657254750239881,
          0.3654562763709822,
          0.36520227874018574,
          0.36496424531118543,
          0.3647428649561515,
          0.36453875270723335,
          0.36435245048672654,
          0.364184428090429,
          0.3640350844135902,
          0.36390474890797236,
          0.36379368325768835,
          0.363702083260728,
          0.3636300809024085,
          0.3635777466063933,
          0.36354509164840954,
          0.36353207071736005,
          0.3635385846081977,
          0.36356448303064803,
          0.3636095675176929,
          0.3636735944176352,
          0.36375627795352067,
          0.36385729333376515,
          0.3639762798979488,
          0.3641128442819399,
          0.36426656358677295,
          0.364436988536038,
          0.36462364660691704,
          0.36482604512046574,
          0.3650436742772268,
          0.365276010124817,
          0.36552251744472963,
          0.3657826525462288,
          0.36605586595589956,
          0.3663416049921193,
          0.36663931621448054,
          0.36694844773894214,
          0.3672684514103094,
          0.36759878482444064,
          0.36793891319342253,
          0.3682883110477987,
          0.36864646377078936,
          0.3690128689603197,
          0.3693870376155123,
          0.36976849514519994,
          0.3701567821968466,
          0.37055145530515937,
          0.3709520873604839,
          0.3713582678979581,
          0.3717696032091935,
          0.3721857162790809,
          0.37260624655110924,
          0.3730308495253508,
          0.3734591961940234,
          0.37389097232025836,
          0.37432587756640867,
          0.37476362447889083,
          0.37520393733719004,
          0.37564655087527654,
          0.3760912088842317,
          0.3765376627054255,
          0.376985669624075,
          0.37743499117347123,
          0.37788539136056676,
          0.378336634823995,
          0.3787884849358975,
          0.3792407018592329,
          0.37969304057245234,
          0.3801452488736146,
          0.3805970653761523,
          0.3810482175085547,
          0.38149841953029257,
          0.38194737057625916,
          0.3823947527419394,
          0.3828402292213795,
          0.38328344250984553,
          0.38372401268282874,
          0.38416153576274764,
          0.3845955821843639,
          0.3850256953695276,
          0.3854513904214093,
          0.385872152947888,
          0.38628743802319876,
          0.3866966692963504,
          0.38709923825418463,
          0.38749450364623705,
          0.3878817910778506,
          0.3882603927771923,
          0.3886295675410444,
          0.38898854086336127,
          0.38933650524973556,
          0.3896726207199931,
          0.3899960155002224,
          0.390305786904584,
          0.3906010024062902,
          0.3908807008961622,
          0.39114389412619904,
          0.3913895683345912,
          0.39161668604764854,
          0.3918241880531234,
          0.3920109955384451,
          0.39217601238645183,
          0.39231812762027124,
          0.39243621798810224,
          0.3925291506778103,
          0.39259578615040525,
          0.39263498108070327,
          0.39264559139274424,
          0.39262647537685824,
          0.39257649687465895,
          0.39249452851768823,
          0.39237945500495036,
          0.3922301764041585,
          0.3920456114611785,
          0.3918247009018908,
          0.3915664107105219,
          0.39126973536839155,
          0.3909337010370211,
          0.3905573686696335,
          0.39013983703523714,
          0.38968024563975906,
          0.3891777775290364,
          0.3886316619589279,
          0.3880411769183339,
          0.3874056514915397,
          0.3867244680470042,
          0.3859970642405054,
          0.3852229348214381,
          0.3844016332319867,
          0.3835327729899442,
          0.38261602884701884,
          0.38165113771562464,
          0.380637899358366,
          0.37957617683567674,
          0.3784658967083701,
          0.3773070489932025,
          0.3760996868708935,
          0.37484392614745216,
          0.3735399444710242,
          0.37218798030788364,
          0.37078833168257874,
          0.36934135468859564,
          0.36784746177727845,
          0.36630711983402275,
          0.3647208480520576,
          0.3630892156153318,
          0.3614128392031858,
          0.3596923803305724,
          0.3579285425386221,
          0.35612206845125105,
          0.35427373671436513,
          0.3523843588349642,
          0.35045477593805313,
          0.34848585545984845,
          0.3464784877961143,
          0.34443358292484777,
          0.3423520670226144,
          0.3402348790939673,
          0.33808296763327733,
          0.3358972873381047,
          0.3336787958929444,
          0.3314284508417038,
          0.3291472065667454,
          0.32683601139160523,
          0.32449580482373713,
          0.32212751495268355,
          0.3197320560181193,
          0.31731032616103144,
          0.3148632053701765,
          0.31239155363460824,
          0.30989620931174167,
          0.3073779877189963,
          0.30483767995556266,
          0.3022760519593318,
          0.29969384380243713,
          0.2970917692273064,
          0.2944705154234837,
          0.29183074304390194,
          0.289173086457686,
          0.2864981542349719,
          0.2838065298577164,
          0.28109877264891864,
          0.27837541891128764,
          0.27563698326491404,
          0.27288396017227623,
          0.27011682563760336,
          0.2673360390664971,
          0.2645420452706816,
          0.2617352766017575,
          0.25891615519706684,
          0.25608509531999046,
          0.2532425057764723,
          0.2503887923890406,
          0.24752436050930096,
          0.2446496175496487,
          0.24176497551485748,
          0.23887085351432077,
          0.23596768023581308,
          0.2330558963620718,
          0.2301359569118377,
          0.22720833348766628,
          0.22427351641341273,
          0.2213320167451715,
          0.2183843681403307,
          0.21543112857040483,
          0.21247288186444016,
          0.20951023907093794,
          0.20654383962755488,
          0.20357435232911067,
          0.2006024760858853,
          0.19762894046555862,
          0.19465450601367798,
          0.19167996434897835,
          0.18870613803143765,
          0.18573388020244647,
          0.18276407399797112,
          0.179797631737116,
          0.17683549388992087,
          0.17387862782969915,
          0.1709280263765685,
          0.16798470614019165,
          0.16504970567099359,
          0.1621240834303043,
          0.15920891559102998,
          0.15630529368142687,
          0.15341432208556158,
          0.150537115414789,
          0.1476747957654084,
          0.14482848987821823,
          0.14199932621624373,
          0.1391884319773006,
          0.13639693005837766,
          0.13362593598897743,
          0.13087655485062494,
          0.12814987819973392,
          0.1254469810108235,
          0.12276891865685997,
          0.12011672394308445,
          0.11749140421025958,
          0.11489393852266568,
          0.11232527495555227,
          0.10978632799598932,
          0.1072779760702391,
          0.10480105920990389,
          0.10235637686810736,
          0.09994468589599614,
          0.09756669868874056,
          0.0952230815091504,
          0.09291445299584061,
          0.09064138286175397,
          0.08840439078764376,
          0.08620394551392724,
          0.08404046413315663,
          0.08191431158412915,
          0.07982580034753374,
          0.07777519034184516,
          0.07576268901709225,
          0.07378845164303138,
          0.07185258178721314,
          0.06995513197747025,
          0.0680961045423842,
          0.06627545262245126,
          0.06449308134382849,
          0.06274884914582585,
          0.061042569252614795,
          0.0593740112790524,
          0.05774290295998412,
          0.05614893199194967,
          0.054591747975863254,
          0.05307096444894713,
          0.05158616099399414,
          0.05013688541391701,
          0.04872265595949036,
          0.0473429635982178,
          0.045997274312365416,
          0.0446850314143634,
          0.04340565786803536,
          0.0421585586044052,
          0.04094312282119912,
          0.039758726255593305,
          0.03860473342021015,
          0.037480499792911695,
          0.03638537395147516
         ],
         "yaxis": "y"
        },
        {
         "legendgroup": "Distribuição da quantidade de Álcool",
         "marker": {
          "color": "rgb(31, 119, 180)",
          "symbol": "line-ns-open"
         },
         "mode": "markers",
         "name": "Distribuição da quantidade de Álcool",
         "showlegend": false,
         "type": "scatter",
         "x": [
          14.23,
          13.2,
          13.16,
          14.37,
          13.24,
          14.2,
          14.39,
          14.06,
          14.83,
          13.86,
          14.1,
          14.12,
          13.75,
          14.75,
          14.38,
          13.63,
          14.3,
          13.83,
          14.19,
          13.64,
          14.06,
          12.93,
          13.71,
          12.85,
          13.5,
          13.05,
          13.39,
          13.3,
          13.87,
          14.02,
          13.73,
          13.58,
          13.68,
          13.76,
          13.51,
          13.48,
          13.28,
          13.05,
          13.07,
          14.22,
          13.56,
          13.41,
          13.88,
          13.24,
          13.05,
          14.21,
          14.38,
          13.9,
          14.1,
          13.94,
          13.05,
          13.83,
          13.82,
          13.77,
          13.74,
          13.56,
          14.22,
          13.29,
          13.72,
          12.37,
          12.33,
          12.64,
          13.67,
          12.37,
          12.17,
          12.37,
          13.11,
          12.37,
          13.34,
          12.21,
          12.29,
          13.86,
          13.49,
          12.99,
          11.96,
          11.66,
          13.03,
          11.84,
          12.33,
          12.7,
          12,
          12.72,
          12.08,
          13.05,
          11.84,
          12.67,
          12.16,
          11.65,
          11.64,
          12.08,
          12.08,
          12,
          12.69,
          12.29,
          11.62,
          12.47,
          11.81,
          12.29,
          12.37,
          12.29,
          12.08,
          12.6,
          12.34,
          11.82,
          12.51,
          12.42,
          12.25,
          12.72,
          12.22,
          11.61,
          11.46,
          12.52,
          11.76,
          11.41,
          12.08,
          11.03,
          11.82,
          12.42,
          12.77,
          12,
          11.45,
          11.56,
          12.42,
          13.05,
          11.87,
          12.07,
          12.43,
          11.79,
          12.37,
          12.04,
          12.86,
          12.88,
          12.81,
          12.7,
          12.51,
          12.6,
          12.25,
          12.53,
          13.49,
          12.84,
          12.93,
          13.36,
          13.52,
          13.62,
          12.25,
          13.16,
          13.88,
          12.87,
          13.32,
          13.08,
          13.5,
          12.79,
          13.11,
          13.23,
          12.58,
          13.17,
          13.84,
          12.45,
          14.34,
          13.48,
          12.36,
          13.69,
          12.85,
          12.96,
          13.78,
          13.73,
          13.45,
          12.82,
          13.58,
          13.4,
          12.2,
          12.77,
          14.16,
          13.71,
          13.4,
          13.27,
          13.17,
          14.13
         ],
         "xaxis": "x",
         "y": [
          "Distribuição da quantidade de Álcool",
          "Distribuição da quantidade de Álcool",
          "Distribuição da quantidade de Álcool",
          "Distribuição da quantidade de Álcool",
          "Distribuição da quantidade de Álcool",
          "Distribuição da quantidade de Álcool",
          "Distribuição da quantidade de Álcool",
          "Distribuição da quantidade de Álcool",
          "Distribuição da quantidade de Álcool",
          "Distribuição da quantidade de Álcool",
          "Distribuição da quantidade de Álcool",
          "Distribuição da quantidade de Álcool",
          "Distribuição da quantidade de Álcool",
          "Distribuição da quantidade de Álcool",
          "Distribuição da quantidade de Álcool",
          "Distribuição da quantidade de Álcool",
          "Distribuição da quantidade de Álcool",
          "Distribuição da quantidade de Álcool",
          "Distribuição da quantidade de Álcool",
          "Distribuição da quantidade de Álcool",
          "Distribuição da quantidade de Álcool",
          "Distribuição da quantidade de Álcool",
          "Distribuição da quantidade de Álcool",
          "Distribuição da quantidade de Álcool",
          "Distribuição da quantidade de Álcool",
          "Distribuição da quantidade de Álcool",
          "Distribuição da quantidade de Álcool",
          "Distribuição da quantidade de Álcool",
          "Distribuição da quantidade de Álcool",
          "Distribuição da quantidade de Álcool",
          "Distribuição da quantidade de Álcool",
          "Distribuição da quantidade de Álcool",
          "Distribuição da quantidade de Álcool",
          "Distribuição da quantidade de Álcool",
          "Distribuição da quantidade de Álcool",
          "Distribuição da quantidade de Álcool",
          "Distribuição da quantidade de Álcool",
          "Distribuição da quantidade de Álcool",
          "Distribuição da quantidade de Álcool",
          "Distribuição da quantidade de Álcool",
          "Distribuição da quantidade de Álcool",
          "Distribuição da quantidade de Álcool",
          "Distribuição da quantidade de Álcool",
          "Distribuição da quantidade de Álcool",
          "Distribuição da quantidade de Álcool",
          "Distribuição da quantidade de Álcool",
          "Distribuição da quantidade de Álcool",
          "Distribuição da quantidade de Álcool",
          "Distribuição da quantidade de Álcool",
          "Distribuição da quantidade de Álcool",
          "Distribuição da quantidade de Álcool",
          "Distribuição da quantidade de Álcool",
          "Distribuição da quantidade de Álcool",
          "Distribuição da quantidade de Álcool",
          "Distribuição da quantidade de Álcool",
          "Distribuição da quantidade de Álcool",
          "Distribuição da quantidade de Álcool",
          "Distribuição da quantidade de Álcool",
          "Distribuição da quantidade de Álcool",
          "Distribuição da quantidade de Álcool",
          "Distribuição da quantidade de Álcool",
          "Distribuição da quantidade de Álcool",
          "Distribuição da quantidade de Álcool",
          "Distribuição da quantidade de Álcool",
          "Distribuição da quantidade de Álcool",
          "Distribuição da quantidade de Álcool",
          "Distribuição da quantidade de Álcool",
          "Distribuição da quantidade de Álcool",
          "Distribuição da quantidade de Álcool",
          "Distribuição da quantidade de Álcool",
          "Distribuição da quantidade de Álcool",
          "Distribuição da quantidade de Álcool",
          "Distribuição da quantidade de Álcool",
          "Distribuição da quantidade de Álcool",
          "Distribuição da quantidade de Álcool",
          "Distribuição da quantidade de Álcool",
          "Distribuição da quantidade de Álcool",
          "Distribuição da quantidade de Álcool",
          "Distribuição da quantidade de Álcool",
          "Distribuição da quantidade de Álcool",
          "Distribuição da quantidade de Álcool",
          "Distribuição da quantidade de Álcool",
          "Distribuição da quantidade de Álcool",
          "Distribuição da quantidade de Álcool",
          "Distribuição da quantidade de Álcool",
          "Distribuição da quantidade de Álcool",
          "Distribuição da quantidade de Álcool",
          "Distribuição da quantidade de Álcool",
          "Distribuição da quantidade de Álcool",
          "Distribuição da quantidade de Álcool",
          "Distribuição da quantidade de Álcool",
          "Distribuição da quantidade de Álcool",
          "Distribuição da quantidade de Álcool",
          "Distribuição da quantidade de Álcool",
          "Distribuição da quantidade de Álcool",
          "Distribuição da quantidade de Álcool",
          "Distribuição da quantidade de Álcool",
          "Distribuição da quantidade de Álcool",
          "Distribuição da quantidade de Álcool",
          "Distribuição da quantidade de Álcool",
          "Distribuição da quantidade de Álcool",
          "Distribuição da quantidade de Álcool",
          "Distribuição da quantidade de Álcool",
          "Distribuição da quantidade de Álcool",
          "Distribuição da quantidade de Álcool",
          "Distribuição da quantidade de Álcool",
          "Distribuição da quantidade de Álcool",
          "Distribuição da quantidade de Álcool",
          "Distribuição da quantidade de Álcool",
          "Distribuição da quantidade de Álcool",
          "Distribuição da quantidade de Álcool",
          "Distribuição da quantidade de Álcool",
          "Distribuição da quantidade de Álcool",
          "Distribuição da quantidade de Álcool",
          "Distribuição da quantidade de Álcool",
          "Distribuição da quantidade de Álcool",
          "Distribuição da quantidade de Álcool",
          "Distribuição da quantidade de Álcool",
          "Distribuição da quantidade de Álcool",
          "Distribuição da quantidade de Álcool",
          "Distribuição da quantidade de Álcool",
          "Distribuição da quantidade de Álcool",
          "Distribuição da quantidade de Álcool",
          "Distribuição da quantidade de Álcool",
          "Distribuição da quantidade de Álcool",
          "Distribuição da quantidade de Álcool",
          "Distribuição da quantidade de Álcool",
          "Distribuição da quantidade de Álcool",
          "Distribuição da quantidade de Álcool",
          "Distribuição da quantidade de Álcool",
          "Distribuição da quantidade de Álcool",
          "Distribuição da quantidade de Álcool",
          "Distribuição da quantidade de Álcool",
          "Distribuição da quantidade de Álcool",
          "Distribuição da quantidade de Álcool",
          "Distribuição da quantidade de Álcool",
          "Distribuição da quantidade de Álcool",
          "Distribuição da quantidade de Álcool",
          "Distribuição da quantidade de Álcool",
          "Distribuição da quantidade de Álcool",
          "Distribuição da quantidade de Álcool",
          "Distribuição da quantidade de Álcool",
          "Distribuição da quantidade de Álcool",
          "Distribuição da quantidade de Álcool",
          "Distribuição da quantidade de Álcool",
          "Distribuição da quantidade de Álcool",
          "Distribuição da quantidade de Álcool",
          "Distribuição da quantidade de Álcool",
          "Distribuição da quantidade de Álcool",
          "Distribuição da quantidade de Álcool",
          "Distribuição da quantidade de Álcool",
          "Distribuição da quantidade de Álcool",
          "Distribuição da quantidade de Álcool",
          "Distribuição da quantidade de Álcool",
          "Distribuição da quantidade de Álcool",
          "Distribuição da quantidade de Álcool",
          "Distribuição da quantidade de Álcool",
          "Distribuição da quantidade de Álcool",
          "Distribuição da quantidade de Álcool",
          "Distribuição da quantidade de Álcool",
          "Distribuição da quantidade de Álcool",
          "Distribuição da quantidade de Álcool",
          "Distribuição da quantidade de Álcool",
          "Distribuição da quantidade de Álcool",
          "Distribuição da quantidade de Álcool",
          "Distribuição da quantidade de Álcool",
          "Distribuição da quantidade de Álcool",
          "Distribuição da quantidade de Álcool",
          "Distribuição da quantidade de Álcool",
          "Distribuição da quantidade de Álcool",
          "Distribuição da quantidade de Álcool",
          "Distribuição da quantidade de Álcool",
          "Distribuição da quantidade de Álcool",
          "Distribuição da quantidade de Álcool",
          "Distribuição da quantidade de Álcool",
          "Distribuição da quantidade de Álcool",
          "Distribuição da quantidade de Álcool",
          "Distribuição da quantidade de Álcool"
         ],
         "yaxis": "y2"
        }
       ],
       "layout": {
        "barmode": "overlay",
        "hovermode": "closest",
        "legend": {
         "traceorder": "reversed"
        },
        "template": {
         "data": {
          "bar": [
           {
            "error_x": {
             "color": "#2a3f5f"
            },
            "error_y": {
             "color": "#2a3f5f"
            },
            "marker": {
             "line": {
              "color": "#E5ECF6",
              "width": 0.5
             }
            },
            "type": "bar"
           }
          ],
          "barpolar": [
           {
            "marker": {
             "line": {
              "color": "#E5ECF6",
              "width": 0.5
             }
            },
            "type": "barpolar"
           }
          ],
          "carpet": [
           {
            "aaxis": {
             "endlinecolor": "#2a3f5f",
             "gridcolor": "white",
             "linecolor": "white",
             "minorgridcolor": "white",
             "startlinecolor": "#2a3f5f"
            },
            "baxis": {
             "endlinecolor": "#2a3f5f",
             "gridcolor": "white",
             "linecolor": "white",
             "minorgridcolor": "white",
             "startlinecolor": "#2a3f5f"
            },
            "type": "carpet"
           }
          ],
          "choropleth": [
           {
            "colorbar": {
             "outlinewidth": 0,
             "ticks": ""
            },
            "type": "choropleth"
           }
          ],
          "contour": [
           {
            "colorbar": {
             "outlinewidth": 0,
             "ticks": ""
            },
            "colorscale": [
             [
              0,
              "#0d0887"
             ],
             [
              0.1111111111111111,
              "#46039f"
             ],
             [
              0.2222222222222222,
              "#7201a8"
             ],
             [
              0.3333333333333333,
              "#9c179e"
             ],
             [
              0.4444444444444444,
              "#bd3786"
             ],
             [
              0.5555555555555556,
              "#d8576b"
             ],
             [
              0.6666666666666666,
              "#ed7953"
             ],
             [
              0.7777777777777778,
              "#fb9f3a"
             ],
             [
              0.8888888888888888,
              "#fdca26"
             ],
             [
              1,
              "#f0f921"
             ]
            ],
            "type": "contour"
           }
          ],
          "contourcarpet": [
           {
            "colorbar": {
             "outlinewidth": 0,
             "ticks": ""
            },
            "type": "contourcarpet"
           }
          ],
          "heatmap": [
           {
            "colorbar": {
             "outlinewidth": 0,
             "ticks": ""
            },
            "colorscale": [
             [
              0,
              "#0d0887"
             ],
             [
              0.1111111111111111,
              "#46039f"
             ],
             [
              0.2222222222222222,
              "#7201a8"
             ],
             [
              0.3333333333333333,
              "#9c179e"
             ],
             [
              0.4444444444444444,
              "#bd3786"
             ],
             [
              0.5555555555555556,
              "#d8576b"
             ],
             [
              0.6666666666666666,
              "#ed7953"
             ],
             [
              0.7777777777777778,
              "#fb9f3a"
             ],
             [
              0.8888888888888888,
              "#fdca26"
             ],
             [
              1,
              "#f0f921"
             ]
            ],
            "type": "heatmap"
           }
          ],
          "heatmapgl": [
           {
            "colorbar": {
             "outlinewidth": 0,
             "ticks": ""
            },
            "colorscale": [
             [
              0,
              "#0d0887"
             ],
             [
              0.1111111111111111,
              "#46039f"
             ],
             [
              0.2222222222222222,
              "#7201a8"
             ],
             [
              0.3333333333333333,
              "#9c179e"
             ],
             [
              0.4444444444444444,
              "#bd3786"
             ],
             [
              0.5555555555555556,
              "#d8576b"
             ],
             [
              0.6666666666666666,
              "#ed7953"
             ],
             [
              0.7777777777777778,
              "#fb9f3a"
             ],
             [
              0.8888888888888888,
              "#fdca26"
             ],
             [
              1,
              "#f0f921"
             ]
            ],
            "type": "heatmapgl"
           }
          ],
          "histogram": [
           {
            "marker": {
             "colorbar": {
              "outlinewidth": 0,
              "ticks": ""
             }
            },
            "type": "histogram"
           }
          ],
          "histogram2d": [
           {
            "colorbar": {
             "outlinewidth": 0,
             "ticks": ""
            },
            "colorscale": [
             [
              0,
              "#0d0887"
             ],
             [
              0.1111111111111111,
              "#46039f"
             ],
             [
              0.2222222222222222,
              "#7201a8"
             ],
             [
              0.3333333333333333,
              "#9c179e"
             ],
             [
              0.4444444444444444,
              "#bd3786"
             ],
             [
              0.5555555555555556,
              "#d8576b"
             ],
             [
              0.6666666666666666,
              "#ed7953"
             ],
             [
              0.7777777777777778,
              "#fb9f3a"
             ],
             [
              0.8888888888888888,
              "#fdca26"
             ],
             [
              1,
              "#f0f921"
             ]
            ],
            "type": "histogram2d"
           }
          ],
          "histogram2dcontour": [
           {
            "colorbar": {
             "outlinewidth": 0,
             "ticks": ""
            },
            "colorscale": [
             [
              0,
              "#0d0887"
             ],
             [
              0.1111111111111111,
              "#46039f"
             ],
             [
              0.2222222222222222,
              "#7201a8"
             ],
             [
              0.3333333333333333,
              "#9c179e"
             ],
             [
              0.4444444444444444,
              "#bd3786"
             ],
             [
              0.5555555555555556,
              "#d8576b"
             ],
             [
              0.6666666666666666,
              "#ed7953"
             ],
             [
              0.7777777777777778,
              "#fb9f3a"
             ],
             [
              0.8888888888888888,
              "#fdca26"
             ],
             [
              1,
              "#f0f921"
             ]
            ],
            "type": "histogram2dcontour"
           }
          ],
          "mesh3d": [
           {
            "colorbar": {
             "outlinewidth": 0,
             "ticks": ""
            },
            "type": "mesh3d"
           }
          ],
          "parcoords": [
           {
            "line": {
             "colorbar": {
              "outlinewidth": 0,
              "ticks": ""
             }
            },
            "type": "parcoords"
           }
          ],
          "pie": [
           {
            "automargin": true,
            "type": "pie"
           }
          ],
          "scatter": [
           {
            "marker": {
             "colorbar": {
              "outlinewidth": 0,
              "ticks": ""
             }
            },
            "type": "scatter"
           }
          ],
          "scatter3d": [
           {
            "line": {
             "colorbar": {
              "outlinewidth": 0,
              "ticks": ""
             }
            },
            "marker": {
             "colorbar": {
              "outlinewidth": 0,
              "ticks": ""
             }
            },
            "type": "scatter3d"
           }
          ],
          "scattercarpet": [
           {
            "marker": {
             "colorbar": {
              "outlinewidth": 0,
              "ticks": ""
             }
            },
            "type": "scattercarpet"
           }
          ],
          "scattergeo": [
           {
            "marker": {
             "colorbar": {
              "outlinewidth": 0,
              "ticks": ""
             }
            },
            "type": "scattergeo"
           }
          ],
          "scattergl": [
           {
            "marker": {
             "colorbar": {
              "outlinewidth": 0,
              "ticks": ""
             }
            },
            "type": "scattergl"
           }
          ],
          "scattermapbox": [
           {
            "marker": {
             "colorbar": {
              "outlinewidth": 0,
              "ticks": ""
             }
            },
            "type": "scattermapbox"
           }
          ],
          "scatterpolar": [
           {
            "marker": {
             "colorbar": {
              "outlinewidth": 0,
              "ticks": ""
             }
            },
            "type": "scatterpolar"
           }
          ],
          "scatterpolargl": [
           {
            "marker": {
             "colorbar": {
              "outlinewidth": 0,
              "ticks": ""
             }
            },
            "type": "scatterpolargl"
           }
          ],
          "scatterternary": [
           {
            "marker": {
             "colorbar": {
              "outlinewidth": 0,
              "ticks": ""
             }
            },
            "type": "scatterternary"
           }
          ],
          "surface": [
           {
            "colorbar": {
             "outlinewidth": 0,
             "ticks": ""
            },
            "colorscale": [
             [
              0,
              "#0d0887"
             ],
             [
              0.1111111111111111,
              "#46039f"
             ],
             [
              0.2222222222222222,
              "#7201a8"
             ],
             [
              0.3333333333333333,
              "#9c179e"
             ],
             [
              0.4444444444444444,
              "#bd3786"
             ],
             [
              0.5555555555555556,
              "#d8576b"
             ],
             [
              0.6666666666666666,
              "#ed7953"
             ],
             [
              0.7777777777777778,
              "#fb9f3a"
             ],
             [
              0.8888888888888888,
              "#fdca26"
             ],
             [
              1,
              "#f0f921"
             ]
            ],
            "type": "surface"
           }
          ],
          "table": [
           {
            "cells": {
             "fill": {
              "color": "#EBF0F8"
             },
             "line": {
              "color": "white"
             }
            },
            "header": {
             "fill": {
              "color": "#C8D4E3"
             },
             "line": {
              "color": "white"
             }
            },
            "type": "table"
           }
          ]
         },
         "layout": {
          "annotationdefaults": {
           "arrowcolor": "#2a3f5f",
           "arrowhead": 0,
           "arrowwidth": 1
          },
          "coloraxis": {
           "colorbar": {
            "outlinewidth": 0,
            "ticks": ""
           }
          },
          "colorscale": {
           "diverging": [
            [
             0,
             "#8e0152"
            ],
            [
             0.1,
             "#c51b7d"
            ],
            [
             0.2,
             "#de77ae"
            ],
            [
             0.3,
             "#f1b6da"
            ],
            [
             0.4,
             "#fde0ef"
            ],
            [
             0.5,
             "#f7f7f7"
            ],
            [
             0.6,
             "#e6f5d0"
            ],
            [
             0.7,
             "#b8e186"
            ],
            [
             0.8,
             "#7fbc41"
            ],
            [
             0.9,
             "#4d9221"
            ],
            [
             1,
             "#276419"
            ]
           ],
           "sequential": [
            [
             0,
             "#0d0887"
            ],
            [
             0.1111111111111111,
             "#46039f"
            ],
            [
             0.2222222222222222,
             "#7201a8"
            ],
            [
             0.3333333333333333,
             "#9c179e"
            ],
            [
             0.4444444444444444,
             "#bd3786"
            ],
            [
             0.5555555555555556,
             "#d8576b"
            ],
            [
             0.6666666666666666,
             "#ed7953"
            ],
            [
             0.7777777777777778,
             "#fb9f3a"
            ],
            [
             0.8888888888888888,
             "#fdca26"
            ],
            [
             1,
             "#f0f921"
            ]
           ],
           "sequentialminus": [
            [
             0,
             "#0d0887"
            ],
            [
             0.1111111111111111,
             "#46039f"
            ],
            [
             0.2222222222222222,
             "#7201a8"
            ],
            [
             0.3333333333333333,
             "#9c179e"
            ],
            [
             0.4444444444444444,
             "#bd3786"
            ],
            [
             0.5555555555555556,
             "#d8576b"
            ],
            [
             0.6666666666666666,
             "#ed7953"
            ],
            [
             0.7777777777777778,
             "#fb9f3a"
            ],
            [
             0.8888888888888888,
             "#fdca26"
            ],
            [
             1,
             "#f0f921"
            ]
           ]
          },
          "colorway": [
           "#636efa",
           "#EF553B",
           "#00cc96",
           "#ab63fa",
           "#FFA15A",
           "#19d3f3",
           "#FF6692",
           "#B6E880",
           "#FF97FF",
           "#FECB52"
          ],
          "font": {
           "color": "#2a3f5f"
          },
          "geo": {
           "bgcolor": "white",
           "lakecolor": "white",
           "landcolor": "#E5ECF6",
           "showlakes": true,
           "showland": true,
           "subunitcolor": "white"
          },
          "hoverlabel": {
           "align": "left"
          },
          "hovermode": "closest",
          "mapbox": {
           "style": "light"
          },
          "paper_bgcolor": "white",
          "plot_bgcolor": "#E5ECF6",
          "polar": {
           "angularaxis": {
            "gridcolor": "white",
            "linecolor": "white",
            "ticks": ""
           },
           "bgcolor": "#E5ECF6",
           "radialaxis": {
            "gridcolor": "white",
            "linecolor": "white",
            "ticks": ""
           }
          },
          "scene": {
           "xaxis": {
            "backgroundcolor": "#E5ECF6",
            "gridcolor": "white",
            "gridwidth": 2,
            "linecolor": "white",
            "showbackground": true,
            "ticks": "",
            "zerolinecolor": "white"
           },
           "yaxis": {
            "backgroundcolor": "#E5ECF6",
            "gridcolor": "white",
            "gridwidth": 2,
            "linecolor": "white",
            "showbackground": true,
            "ticks": "",
            "zerolinecolor": "white"
           },
           "zaxis": {
            "backgroundcolor": "#E5ECF6",
            "gridcolor": "white",
            "gridwidth": 2,
            "linecolor": "white",
            "showbackground": true,
            "ticks": "",
            "zerolinecolor": "white"
           }
          },
          "shapedefaults": {
           "line": {
            "color": "#2a3f5f"
           }
          },
          "ternary": {
           "aaxis": {
            "gridcolor": "white",
            "linecolor": "white",
            "ticks": ""
           },
           "baxis": {
            "gridcolor": "white",
            "linecolor": "white",
            "ticks": ""
           },
           "bgcolor": "#E5ECF6",
           "caxis": {
            "gridcolor": "white",
            "linecolor": "white",
            "ticks": ""
           }
          },
          "title": {
           "x": 0.05
          },
          "xaxis": {
           "automargin": true,
           "gridcolor": "white",
           "linecolor": "white",
           "ticks": "",
           "title": {
            "standoff": 15
           },
           "zerolinecolor": "white",
           "zerolinewidth": 2
          },
          "yaxis": {
           "automargin": true,
           "gridcolor": "white",
           "linecolor": "white",
           "ticks": "",
           "title": {
            "standoff": 15
           },
           "zerolinecolor": "white",
           "zerolinewidth": 2
          }
         }
        },
        "xaxis": {
         "anchor": "y2",
         "domain": [
          0,
          1
         ],
         "zeroline": false
        },
        "yaxis": {
         "anchor": "free",
         "domain": [
          0.35,
          1
         ],
         "position": 0
        },
        "yaxis2": {
         "anchor": "x",
         "domain": [
          0,
          0.25
         ],
         "dtick": 1,
         "showticklabels": false
        }
       }
      },
      "text/html": [
       "<div>\n",
       "        \n",
       "        \n",
       "            <div id=\"6e8d26d2-6b08-441a-9e60-417a165a452b\" class=\"plotly-graph-div\" style=\"height:525px; width:100%;\"></div>\n",
       "            <script type=\"text/javascript\">\n",
       "                require([\"plotly\"], function(Plotly) {\n",
       "                    window.PLOTLYENV=window.PLOTLYENV || {};\n",
       "                    \n",
       "                if (document.getElementById(\"6e8d26d2-6b08-441a-9e60-417a165a452b\")) {\n",
       "                    Plotly.newPlot(\n",
       "                        '6e8d26d2-6b08-441a-9e60-417a165a452b',\n",
       "                        [{\"autobinx\": false, \"histnorm\": \"probability density\", \"legendgroup\": \"Distribui\\u00e7\\u00e3o da quantidade de \\u00c1lcool\", \"marker\": {\"color\": \"rgb(31, 119, 180)\"}, \"name\": \"Distribui\\u00e7\\u00e3o da quantidade de \\u00c1lcool\", \"opacity\": 0.7, \"type\": \"histogram\", \"x\": [14.23, 13.2, 13.16, 14.37, 13.24, 14.2, 14.39, 14.06, 14.83, 13.86, 14.1, 14.12, 13.75, 14.75, 14.38, 13.63, 14.3, 13.83, 14.19, 13.64, 14.06, 12.93, 13.71, 12.85, 13.5, 13.05, 13.39, 13.3, 13.87, 14.02, 13.73, 13.58, 13.68, 13.76, 13.51, 13.48, 13.28, 13.05, 13.07, 14.22, 13.56, 13.41, 13.88, 13.24, 13.05, 14.21, 14.38, 13.9, 14.1, 13.94, 13.05, 13.83, 13.82, 13.77, 13.74, 13.56, 14.22, 13.29, 13.72, 12.37, 12.33, 12.64, 13.67, 12.37, 12.17, 12.37, 13.11, 12.37, 13.34, 12.21, 12.29, 13.86, 13.49, 12.99, 11.96, 11.66, 13.03, 11.84, 12.33, 12.7, 12.0, 12.72, 12.08, 13.05, 11.84, 12.67, 12.16, 11.65, 11.64, 12.08, 12.08, 12.0, 12.69, 12.29, 11.62, 12.47, 11.81, 12.29, 12.37, 12.29, 12.08, 12.6, 12.34, 11.82, 12.51, 12.42, 12.25, 12.72, 12.22, 11.61, 11.46, 12.52, 11.76, 11.41, 12.08, 11.03, 11.82, 12.42, 12.77, 12.0, 11.45, 11.56, 12.42, 13.05, 11.87, 12.07, 12.43, 11.79, 12.37, 12.04, 12.86, 12.88, 12.81, 12.7, 12.51, 12.6, 12.25, 12.53, 13.49, 12.84, 12.93, 13.36, 13.52, 13.62, 12.25, 13.16, 13.88, 12.87, 13.32, 13.08, 13.5, 12.79, 13.11, 13.23, 12.58, 13.17, 13.84, 12.45, 14.34, 13.48, 12.36, 13.69, 12.85, 12.96, 13.78, 13.73, 13.45, 12.82, 13.58, 13.4, 12.2, 12.77, 14.16, 13.71, 13.4, 13.27, 13.17, 14.13], \"xaxis\": \"x\", \"xbins\": {\"end\": 14.83, \"size\": 0.2, \"start\": 11.03}, \"yaxis\": \"y\"}, {\"legendgroup\": \"Distribui\\u00e7\\u00e3o da quantidade de \\u00c1lcool\", \"marker\": {\"color\": \"rgb(31, 119, 180)\"}, \"mode\": \"lines\", \"name\": \"Distribui\\u00e7\\u00e3o da quantidade de \\u00c1lcool\", \"showlegend\": false, \"type\": \"scatter\", \"x\": [11.03, 11.0376, 11.0452, 11.0528, 11.0604, 11.068, 11.0756, 11.0832, 11.0908, 11.0984, 11.106, 11.1136, 11.1212, 11.1288, 11.1364, 11.144, 11.1516, 11.1592, 11.166799999999999, 11.174399999999999, 11.181999999999999, 11.189599999999999, 11.197199999999999, 11.204799999999999, 11.212399999999999, 11.219999999999999, 11.227599999999999, 11.235199999999999, 11.242799999999999, 11.250399999999999, 11.258, 11.2656, 11.2732, 11.2808, 11.2884, 11.296, 11.3036, 11.3112, 11.3188, 11.3264, 11.334, 11.3416, 11.3492, 11.3568, 11.3644, 11.372, 11.3796, 11.3872, 11.3948, 11.4024, 11.41, 11.4176, 11.4252, 11.4328, 11.4404, 11.447999999999999, 11.455599999999999, 11.463199999999999, 11.470799999999999, 11.478399999999999, 11.485999999999999, 11.493599999999999, 11.501199999999999, 11.508799999999999, 11.516399999999999, 11.524, 11.5316, 11.5392, 11.5468, 11.5544, 11.562, 11.5696, 11.5772, 11.5848, 11.5924, 11.6, 11.6076, 11.6152, 11.6228, 11.6304, 11.638, 11.6456, 11.6532, 11.6608, 11.6684, 11.676, 11.6836, 11.6912, 11.6988, 11.706399999999999, 11.713999999999999, 11.721599999999999, 11.729199999999999, 11.736799999999999, 11.744399999999999, 11.751999999999999, 11.759599999999999, 11.767199999999999, 11.774799999999999, 11.782399999999999, 11.79, 11.7976, 11.8052, 11.8128, 11.8204, 11.828, 11.8356, 11.8432, 11.8508, 11.8584, 11.866, 11.8736, 11.8812, 11.8888, 11.8964, 11.904, 11.9116, 11.9192, 11.9268, 11.9344, 11.942, 11.9496, 11.9572, 11.9648, 11.9724, 11.98, 11.987599999999999, 11.995199999999999, 12.002799999999999, 12.010399999999999, 12.017999999999999, 12.025599999999999, 12.033199999999999, 12.040799999999999, 12.048399999999999, 12.056, 12.0636, 12.0712, 12.0788, 12.0864, 12.094, 12.1016, 12.1092, 12.1168, 12.1244, 12.132, 12.1396, 12.1472, 12.1548, 12.1624, 12.17, 12.1776, 12.1852, 12.1928, 12.2004, 12.208, 12.2156, 12.2232, 12.230799999999999, 12.2384, 12.245999999999999, 12.253599999999999, 12.261199999999999, 12.268799999999999, 12.276399999999999, 12.283999999999999, 12.291599999999999, 12.299199999999999, 12.306799999999999, 12.3144, 12.322, 12.3296, 12.3372, 12.3448, 12.3524, 12.36, 12.3676, 12.3752, 12.3828, 12.3904, 12.398, 12.4056, 12.4132, 12.4208, 12.4284, 12.436, 12.4436, 12.4512, 12.4588, 12.4664, 12.474, 12.4816, 12.4892, 12.4968, 12.5044, 12.512, 12.5196, 12.5272, 12.534799999999999, 12.5424, 12.549999999999999, 12.557599999999999, 12.565199999999999, 12.572799999999999, 12.5804, 12.588, 12.5956, 12.6032, 12.6108, 12.6184, 12.626, 12.6336, 12.6412, 12.6488, 12.6564, 12.664, 12.6716, 12.6792, 12.6868, 12.6944, 12.702, 12.7096, 12.7172, 12.7248, 12.7324, 12.74, 12.7476, 12.7552, 12.7628, 12.7704, 12.777999999999999, 12.785599999999999, 12.793199999999999, 12.800799999999999, 12.808399999999999, 12.815999999999999, 12.823599999999999, 12.831199999999999, 12.838799999999999, 12.8464, 12.854, 12.8616, 12.8692, 12.8768, 12.8844, 12.892, 12.8996, 12.9072, 12.9148, 12.9224, 12.93, 12.9376, 12.9452, 12.9528, 12.9604, 12.968, 12.9756, 12.9832, 12.9908, 12.9984, 13.006, 13.0136, 13.0212, 13.0288, 13.0364, 13.044, 13.0516, 13.0592, 13.0668, 13.0744, 13.082, 13.0896, 13.097199999999999, 13.1048, 13.112400000000001, 13.12, 13.1276, 13.1352, 13.1428, 13.1504, 13.158, 13.1656, 13.1732, 13.1808, 13.1884, 13.196, 13.2036, 13.2112, 13.2188, 13.2264, 13.234, 13.2416, 13.2492, 13.2568, 13.2644, 13.272, 13.2796, 13.287199999999999, 13.2948, 13.3024, 13.309999999999999, 13.317599999999999, 13.325199999999999, 13.3328, 13.340399999999999, 13.347999999999999, 13.355599999999999, 13.363199999999999, 13.3708, 13.3784, 13.386, 13.3936, 13.4012, 13.4088, 13.4164, 13.424, 13.4316, 13.4392, 13.4468, 13.4544, 13.462, 13.4696, 13.4772, 13.4848, 13.4924, 13.5, 13.5076, 13.5152, 13.5228, 13.5304, 13.538, 13.5456, 13.5532, 13.5608, 13.5684, 13.576, 13.5836, 13.5912, 13.5988, 13.6064, 13.614, 13.6216, 13.629199999999999, 13.636800000000001, 13.644400000000001, 13.652, 13.6596, 13.6672, 13.6748, 13.6824, 13.69, 13.6976, 13.7052, 13.7128, 13.7204, 13.728, 13.7356, 13.7432, 13.7508, 13.7584, 13.766, 13.7736, 13.7812, 13.7888, 13.7964, 13.804, 13.8116, 13.8192, 13.8268, 13.8344, 13.841999999999999, 13.849599999999999, 13.8572, 13.864799999999999, 13.872399999999999, 13.879999999999999, 13.887599999999999, 13.895199999999999, 13.9028, 13.9104, 13.918, 13.9256, 13.9332, 13.9408, 13.9484, 13.956, 13.9636, 13.9712, 13.9788, 13.9864, 13.994, 14.0016, 14.0092, 14.0168, 14.0244, 14.032, 14.0396, 14.0472, 14.0548, 14.0624, 14.07, 14.0776, 14.0852, 14.0928, 14.1004, 14.108, 14.1156, 14.1232, 14.1308, 14.1384, 14.146, 14.153599999999999, 14.161200000000001, 14.168800000000001, 14.176400000000001, 14.184, 14.1916, 14.199200000000001, 14.2068, 14.2144, 14.222, 14.2296, 14.2372, 14.2448, 14.2524, 14.26, 14.2676, 14.2752, 14.2828, 14.2904, 14.298, 14.3056, 14.3132, 14.3208, 14.3284, 14.336, 14.3436, 14.3512, 14.3588, 14.3664, 14.373999999999999, 14.3816, 14.3892, 14.396799999999999, 14.404399999999999, 14.411999999999999, 14.419599999999999, 14.4272, 14.4348, 14.4424, 14.45, 14.4576, 14.4652, 14.4728, 14.4804, 14.488, 14.4956, 14.5032, 14.5108, 14.5184, 14.526, 14.5336, 14.5412, 14.5488, 14.5564, 14.564, 14.5716, 14.5792, 14.5868, 14.5944, 14.602, 14.6096, 14.6172, 14.6248, 14.6324, 14.64, 14.6476, 14.6552, 14.6628, 14.6704, 14.678, 14.6856, 14.693200000000001, 14.700800000000001, 14.7084, 14.716000000000001, 14.723600000000001, 14.731200000000001, 14.7388, 14.7464, 14.754000000000001, 14.7616, 14.7692, 14.7768, 14.7844, 14.792, 14.7996, 14.8072, 14.8148, 14.8224], \"xaxis\": \"x\", \"y\": [0.02373642476409811, 0.024500042445931607, 0.025285663307836607, 0.026093779225585763, 0.02692487676554304, 0.027779435873431613, 0.028657928541118056, 0.029560817456652514, 0.030488554643023635, 0.03144158009130885, 0.03242032039406681, 0.033425187384984976, 0.03445657679090524, 0.03551486690244764, 0.03660041726951177, 0.03771356742794948, 0.03885463566370766, 0.04002391782067693, 0.041221686158419875, 0.04244818826581933, 0.04370364603654859, 0.044988254712070304, 0.04630218199765788, 0.04764556725666759, 0.04901852078801043, 0.050421123191452956, 0.051853424825015856, 0.05331544535837836, 0.05480717342576814, 0.056328566381411004, 0.057879550160133006, 0.05946001924526095, 0.06106983674544959, 0.06270883458156833, 0.06437681378426102, 0.0660735449022408, 0.06779876852086729, 0.06955219588997967, 0.07133350965943851, 0.07314236472025638, 0.07497838914867044, 0.07684118524997083, 0.07873033069835678, 0.08064537976859977, 0.08258586465476436, 0.08455129687078371, 0.08654116872719016, 0.08855495487789529, 0.09059211393046587, 0.09265209011297273, 0.0947343149901317, 0.09683820922110602, 0.09896318435107651, 0.10110864462839061, 0.10327398883891357, 0.10545861214897988, 0.10766190794823868, 0.10988326968352627, 0.11212209267489269, 0.11437777590482423, 0.11664972377175652, 0.11893734779902226, 0.121240068290458, 0.12355731592406621, 0.12588853327527497, 0.12823317626159686, 0.1305907155007157, 0.13296063757436605, 0.13534244619068406, 0.13773566323810266, 0.14013982972428188, 0.14255450659399405, 0.1449792754203999, 0.14741373896462917, 0.14985752159916144, 0.1523102695910442, 0.1547716512416027, 0.15724135687991944, 0.15971909870798584, 0.1622046104961234, 0.164697647127917, 0.16719798399463212, 0.16970541623975685, 0.17221975785506732, 0.1747408406302917, 0.1772685129592033, 0.1798026385056947, 0.18234309473408486, 0.1848897713086606, 0.187442568368129, 0.1900013946813902, 0.19256616569167254, 0.195136801456798, 0.1977132244939257, 0.2002953575377924, 0.20288312122202087, 0.20547643169365187, 0.20807519817158446, 0.21067932046007043, 0.21328868642891108, 0.21590316947235902, 0.21852262595914126, 0.2211468926862979, 0.22377578434982973, 0.22640909104533227, 0.22904657581197588, 0.23168797223328585, 0.23433298210820336, 0.23698127320592424, 0.23963247711788718, 0.24228618722017936, 0.24494195675938923, 0.2475992970746673, 0.2502576759684331, 0.25291651623771666, 0.25557519437770143, 0.25823303946844095, 0.2608893322551648, 0.26354330443187823, 0.26619413813726456, 0.2688409656710719, 0.27148286943834493, 0.274118882127941, 0.27674798713080156, 0.279369119202474, 0.28198116537327333, 0.2845829661084366, 0.2871733167194386, 0.28975096902650793, 0.2923146332711662, 0.29486298027642627, 0.29739464385102726, 0.29990822343286705, 0.3024022869655503, 0.3048753740007117, 0.307325999017578, 0.3097526549499859, 0.312153816909917, 0.31452794609542284, 0.3168734938697248, 0.31918890599716676, 0.3214726270206953, 0.3237231047645769, 0.32593879494513944, 0.3281181658715253, 0.33025970321766074, 0.33236191484600186, 0.33442333566301996, 0.3364425324859035, 0.3384181088995742, 0.3403487100828055, 0.3422330275820813, 0.34406980401171616, 0.3458578376588423, 0.34759598697196864, 0.3492831749121247, 0.3509183931459409, 0.35250070606052825, 0.35402925458061424, 0.3555032597691012, 0.3569220261930278, 0.35828494503785724, 0.3595914969540084, 0.36084125462069205, 0.3620338850133103, 0.36316915136196765, 0.3642469147900284, 0.36526713562307306, 0.3662298743601322, 0.3671352923006212, 0.3679836518220021, 0.36877531630484867, 0.36951074970364467, 0.37019051576334167, 0.3708152768833877, 0.37138579263263055, 0.37190291792017816, 0.3723676008289557, 0.37278088012032257, 0.37314388241968777, 0.373457819094613, 0.37372398283834257, 0.37394374397311886, 0.3741185464889588, 0.37424990383481427, 0.37433939448017906, 0.37438865726627246, 0.374399386566855, 0.3743733272795802, 0.37431226966950926, 0.374218044087003, 0.37409251558271, 0.3739375784427039, 0.3737551506670775, 0.3735471684153884, 0.37331558044235497, 0.37306234254704124, 0.37278941205851546, 0.3724987423805848, 0.37219227761770407, 0.3718719473035464, 0.3715396612530112, 0.3711973045576177, 0.3708467327433198, 0.3704897671087696, 0.3701281902609786, 0.36976374186415395, 0.3693981146162647, 0.3690329504665983, 0.36866983708624507, 0.36831030460204794, 0.3679558226031596, 0.3676077974279014, 0.3672675697371681, 0.366936412379159, 0.3666155285487595, 0.36630605024344187, 0.3660090370161204, 0.3657254750239881, 0.3654562763709822, 0.36520227874018574, 0.36496424531118543, 0.3647428649561515, 0.36453875270723335, 0.36435245048672654, 0.364184428090429, 0.3640350844135902, 0.36390474890797236, 0.36379368325768835, 0.363702083260728, 0.3636300809024085, 0.3635777466063933, 0.36354509164840954, 0.36353207071736005, 0.3635385846081977, 0.36356448303064803, 0.3636095675176929, 0.3636735944176352, 0.36375627795352067, 0.36385729333376515, 0.3639762798979488, 0.3641128442819399, 0.36426656358677295, 0.364436988536038, 0.36462364660691704, 0.36482604512046574, 0.3650436742772268, 0.365276010124817, 0.36552251744472963, 0.3657826525462288, 0.36605586595589956, 0.3663416049921193, 0.36663931621448054, 0.36694844773894214, 0.3672684514103094, 0.36759878482444064, 0.36793891319342253, 0.3682883110477987, 0.36864646377078936, 0.3690128689603197, 0.3693870376155123, 0.36976849514519994, 0.3701567821968466, 0.37055145530515937, 0.3709520873604839, 0.3713582678979581, 0.3717696032091935, 0.3721857162790809, 0.37260624655110924, 0.3730308495253508, 0.3734591961940234, 0.37389097232025836, 0.37432587756640867, 0.37476362447889083, 0.37520393733719004, 0.37564655087527654, 0.3760912088842317, 0.3765376627054255, 0.376985669624075, 0.37743499117347123, 0.37788539136056676, 0.378336634823995, 0.3787884849358975, 0.3792407018592329, 0.37969304057245234, 0.3801452488736146, 0.3805970653761523, 0.3810482175085547, 0.38149841953029257, 0.38194737057625916, 0.3823947527419394, 0.3828402292213795, 0.38328344250984553, 0.38372401268282874, 0.38416153576274764, 0.3845955821843639, 0.3850256953695276, 0.3854513904214093, 0.385872152947888, 0.38628743802319876, 0.3866966692963504, 0.38709923825418463, 0.38749450364623705, 0.3878817910778506, 0.3882603927771923, 0.3886295675410444, 0.38898854086336127, 0.38933650524973556, 0.3896726207199931, 0.3899960155002224, 0.390305786904584, 0.3906010024062902, 0.3908807008961622, 0.39114389412619904, 0.3913895683345912, 0.39161668604764854, 0.3918241880531234, 0.3920109955384451, 0.39217601238645183, 0.39231812762027124, 0.39243621798810224, 0.3925291506778103, 0.39259578615040525, 0.39263498108070327, 0.39264559139274424, 0.39262647537685824, 0.39257649687465895, 0.39249452851768823, 0.39237945500495036, 0.3922301764041585, 0.3920456114611785, 0.3918247009018908, 0.3915664107105219, 0.39126973536839155, 0.3909337010370211, 0.3905573686696335, 0.39013983703523714, 0.38968024563975906, 0.3891777775290364, 0.3886316619589279, 0.3880411769183339, 0.3874056514915397, 0.3867244680470042, 0.3859970642405054, 0.3852229348214381, 0.3844016332319867, 0.3835327729899442, 0.38261602884701884, 0.38165113771562464, 0.380637899358366, 0.37957617683567674, 0.3784658967083701, 0.3773070489932025, 0.3760996868708935, 0.37484392614745216, 0.3735399444710242, 0.37218798030788364, 0.37078833168257874, 0.36934135468859564, 0.36784746177727845, 0.36630711983402275, 0.3647208480520576, 0.3630892156153318, 0.3614128392031858, 0.3596923803305724, 0.3579285425386221, 0.35612206845125105, 0.35427373671436513, 0.3523843588349642, 0.35045477593805313, 0.34848585545984845, 0.3464784877961143, 0.34443358292484777, 0.3423520670226144, 0.3402348790939673, 0.33808296763327733, 0.3358972873381047, 0.3336787958929444, 0.3314284508417038, 0.3291472065667454, 0.32683601139160523, 0.32449580482373713, 0.32212751495268355, 0.3197320560181193, 0.31731032616103144, 0.3148632053701765, 0.31239155363460824, 0.30989620931174167, 0.3073779877189963, 0.30483767995556266, 0.3022760519593318, 0.29969384380243713, 0.2970917692273064, 0.2944705154234837, 0.29183074304390194, 0.289173086457686, 0.2864981542349719, 0.2838065298577164, 0.28109877264891864, 0.27837541891128764, 0.27563698326491404, 0.27288396017227623, 0.27011682563760336, 0.2673360390664971, 0.2645420452706816, 0.2617352766017575, 0.25891615519706684, 0.25608509531999046, 0.2532425057764723, 0.2503887923890406, 0.24752436050930096, 0.2446496175496487, 0.24176497551485748, 0.23887085351432077, 0.23596768023581308, 0.2330558963620718, 0.2301359569118377, 0.22720833348766628, 0.22427351641341273, 0.2213320167451715, 0.2183843681403307, 0.21543112857040483, 0.21247288186444016, 0.20951023907093794, 0.20654383962755488, 0.20357435232911067, 0.2006024760858853, 0.19762894046555862, 0.19465450601367798, 0.19167996434897835, 0.18870613803143765, 0.18573388020244647, 0.18276407399797112, 0.179797631737116, 0.17683549388992087, 0.17387862782969915, 0.1709280263765685, 0.16798470614019165, 0.16504970567099359, 0.1621240834303043, 0.15920891559102998, 0.15630529368142687, 0.15341432208556158, 0.150537115414789, 0.1476747957654084, 0.14482848987821823, 0.14199932621624373, 0.1391884319773006, 0.13639693005837766, 0.13362593598897743, 0.13087655485062494, 0.12814987819973392, 0.1254469810108235, 0.12276891865685997, 0.12011672394308445, 0.11749140421025958, 0.11489393852266568, 0.11232527495555227, 0.10978632799598932, 0.1072779760702391, 0.10480105920990389, 0.10235637686810736, 0.09994468589599614, 0.09756669868874056, 0.0952230815091504, 0.09291445299584061, 0.09064138286175397, 0.08840439078764376, 0.08620394551392724, 0.08404046413315663, 0.08191431158412915, 0.07982580034753374, 0.07777519034184516, 0.07576268901709225, 0.07378845164303138, 0.07185258178721314, 0.06995513197747025, 0.0680961045423842, 0.06627545262245126, 0.06449308134382849, 0.06274884914582585, 0.061042569252614795, 0.0593740112790524, 0.05774290295998412, 0.05614893199194967, 0.054591747975863254, 0.05307096444894713, 0.05158616099399414, 0.05013688541391701, 0.04872265595949036, 0.0473429635982178, 0.045997274312365416, 0.0446850314143634, 0.04340565786803536, 0.0421585586044052, 0.04094312282119912, 0.039758726255593305, 0.03860473342021015, 0.037480499792911695, 0.03638537395147516], \"yaxis\": \"y\"}, {\"legendgroup\": \"Distribui\\u00e7\\u00e3o da quantidade de \\u00c1lcool\", \"marker\": {\"color\": \"rgb(31, 119, 180)\", \"symbol\": \"line-ns-open\"}, \"mode\": \"markers\", \"name\": \"Distribui\\u00e7\\u00e3o da quantidade de \\u00c1lcool\", \"showlegend\": false, \"type\": \"scatter\", \"x\": [14.23, 13.2, 13.16, 14.37, 13.24, 14.2, 14.39, 14.06, 14.83, 13.86, 14.1, 14.12, 13.75, 14.75, 14.38, 13.63, 14.3, 13.83, 14.19, 13.64, 14.06, 12.93, 13.71, 12.85, 13.5, 13.05, 13.39, 13.3, 13.87, 14.02, 13.73, 13.58, 13.68, 13.76, 13.51, 13.48, 13.28, 13.05, 13.07, 14.22, 13.56, 13.41, 13.88, 13.24, 13.05, 14.21, 14.38, 13.9, 14.1, 13.94, 13.05, 13.83, 13.82, 13.77, 13.74, 13.56, 14.22, 13.29, 13.72, 12.37, 12.33, 12.64, 13.67, 12.37, 12.17, 12.37, 13.11, 12.37, 13.34, 12.21, 12.29, 13.86, 13.49, 12.99, 11.96, 11.66, 13.03, 11.84, 12.33, 12.7, 12.0, 12.72, 12.08, 13.05, 11.84, 12.67, 12.16, 11.65, 11.64, 12.08, 12.08, 12.0, 12.69, 12.29, 11.62, 12.47, 11.81, 12.29, 12.37, 12.29, 12.08, 12.6, 12.34, 11.82, 12.51, 12.42, 12.25, 12.72, 12.22, 11.61, 11.46, 12.52, 11.76, 11.41, 12.08, 11.03, 11.82, 12.42, 12.77, 12.0, 11.45, 11.56, 12.42, 13.05, 11.87, 12.07, 12.43, 11.79, 12.37, 12.04, 12.86, 12.88, 12.81, 12.7, 12.51, 12.6, 12.25, 12.53, 13.49, 12.84, 12.93, 13.36, 13.52, 13.62, 12.25, 13.16, 13.88, 12.87, 13.32, 13.08, 13.5, 12.79, 13.11, 13.23, 12.58, 13.17, 13.84, 12.45, 14.34, 13.48, 12.36, 13.69, 12.85, 12.96, 13.78, 13.73, 13.45, 12.82, 13.58, 13.4, 12.2, 12.77, 14.16, 13.71, 13.4, 13.27, 13.17, 14.13], \"xaxis\": \"x\", \"y\": [\"Distribui\\u00e7\\u00e3o da quantidade de \\u00c1lcool\", \"Distribui\\u00e7\\u00e3o da quantidade de \\u00c1lcool\", \"Distribui\\u00e7\\u00e3o da quantidade de \\u00c1lcool\", \"Distribui\\u00e7\\u00e3o da quantidade de \\u00c1lcool\", \"Distribui\\u00e7\\u00e3o da quantidade de \\u00c1lcool\", \"Distribui\\u00e7\\u00e3o da quantidade de \\u00c1lcool\", \"Distribui\\u00e7\\u00e3o da quantidade de \\u00c1lcool\", \"Distribui\\u00e7\\u00e3o da quantidade de \\u00c1lcool\", \"Distribui\\u00e7\\u00e3o da quantidade de \\u00c1lcool\", \"Distribui\\u00e7\\u00e3o da quantidade de \\u00c1lcool\", \"Distribui\\u00e7\\u00e3o da quantidade de \\u00c1lcool\", \"Distribui\\u00e7\\u00e3o da quantidade de \\u00c1lcool\", \"Distribui\\u00e7\\u00e3o da quantidade de \\u00c1lcool\", \"Distribui\\u00e7\\u00e3o da quantidade de \\u00c1lcool\", \"Distribui\\u00e7\\u00e3o da quantidade de \\u00c1lcool\", \"Distribui\\u00e7\\u00e3o da quantidade de \\u00c1lcool\", \"Distribui\\u00e7\\u00e3o da quantidade de \\u00c1lcool\", \"Distribui\\u00e7\\u00e3o da quantidade de \\u00c1lcool\", \"Distribui\\u00e7\\u00e3o da quantidade de \\u00c1lcool\", \"Distribui\\u00e7\\u00e3o da quantidade de \\u00c1lcool\", \"Distribui\\u00e7\\u00e3o da quantidade de \\u00c1lcool\", \"Distribui\\u00e7\\u00e3o da quantidade de \\u00c1lcool\", \"Distribui\\u00e7\\u00e3o da quantidade de \\u00c1lcool\", \"Distribui\\u00e7\\u00e3o da quantidade de \\u00c1lcool\", \"Distribui\\u00e7\\u00e3o da quantidade de \\u00c1lcool\", \"Distribui\\u00e7\\u00e3o da quantidade de \\u00c1lcool\", \"Distribui\\u00e7\\u00e3o da quantidade de \\u00c1lcool\", \"Distribui\\u00e7\\u00e3o da quantidade de \\u00c1lcool\", \"Distribui\\u00e7\\u00e3o da quantidade de \\u00c1lcool\", \"Distribui\\u00e7\\u00e3o da quantidade de \\u00c1lcool\", \"Distribui\\u00e7\\u00e3o da quantidade de \\u00c1lcool\", \"Distribui\\u00e7\\u00e3o da quantidade de \\u00c1lcool\", \"Distribui\\u00e7\\u00e3o da quantidade de \\u00c1lcool\", \"Distribui\\u00e7\\u00e3o da quantidade de \\u00c1lcool\", \"Distribui\\u00e7\\u00e3o da quantidade de \\u00c1lcool\", \"Distribui\\u00e7\\u00e3o da quantidade de \\u00c1lcool\", \"Distribui\\u00e7\\u00e3o da quantidade de \\u00c1lcool\", \"Distribui\\u00e7\\u00e3o da quantidade de \\u00c1lcool\", \"Distribui\\u00e7\\u00e3o da quantidade de \\u00c1lcool\", \"Distribui\\u00e7\\u00e3o da quantidade de \\u00c1lcool\", \"Distribui\\u00e7\\u00e3o da quantidade de \\u00c1lcool\", \"Distribui\\u00e7\\u00e3o da quantidade de \\u00c1lcool\", \"Distribui\\u00e7\\u00e3o da quantidade de \\u00c1lcool\", \"Distribui\\u00e7\\u00e3o da quantidade de \\u00c1lcool\", \"Distribui\\u00e7\\u00e3o da quantidade de \\u00c1lcool\", \"Distribui\\u00e7\\u00e3o da quantidade de \\u00c1lcool\", \"Distribui\\u00e7\\u00e3o da quantidade de \\u00c1lcool\", \"Distribui\\u00e7\\u00e3o da quantidade de \\u00c1lcool\", \"Distribui\\u00e7\\u00e3o da quantidade de \\u00c1lcool\", \"Distribui\\u00e7\\u00e3o da quantidade de \\u00c1lcool\", \"Distribui\\u00e7\\u00e3o da quantidade de \\u00c1lcool\", \"Distribui\\u00e7\\u00e3o da quantidade de \\u00c1lcool\", \"Distribui\\u00e7\\u00e3o da quantidade de \\u00c1lcool\", \"Distribui\\u00e7\\u00e3o da quantidade de \\u00c1lcool\", \"Distribui\\u00e7\\u00e3o da quantidade de \\u00c1lcool\", \"Distribui\\u00e7\\u00e3o da quantidade de \\u00c1lcool\", \"Distribui\\u00e7\\u00e3o da quantidade de \\u00c1lcool\", \"Distribui\\u00e7\\u00e3o da quantidade de \\u00c1lcool\", \"Distribui\\u00e7\\u00e3o da quantidade de \\u00c1lcool\", \"Distribui\\u00e7\\u00e3o da quantidade de \\u00c1lcool\", \"Distribui\\u00e7\\u00e3o da quantidade de \\u00c1lcool\", \"Distribui\\u00e7\\u00e3o da quantidade de \\u00c1lcool\", \"Distribui\\u00e7\\u00e3o da quantidade de \\u00c1lcool\", \"Distribui\\u00e7\\u00e3o da quantidade de \\u00c1lcool\", \"Distribui\\u00e7\\u00e3o da quantidade de \\u00c1lcool\", \"Distribui\\u00e7\\u00e3o da quantidade de \\u00c1lcool\", \"Distribui\\u00e7\\u00e3o da quantidade de \\u00c1lcool\", \"Distribui\\u00e7\\u00e3o da quantidade de \\u00c1lcool\", \"Distribui\\u00e7\\u00e3o da quantidade de \\u00c1lcool\", \"Distribui\\u00e7\\u00e3o da quantidade de \\u00c1lcool\", \"Distribui\\u00e7\\u00e3o da quantidade de \\u00c1lcool\", \"Distribui\\u00e7\\u00e3o da quantidade de \\u00c1lcool\", \"Distribui\\u00e7\\u00e3o da quantidade de \\u00c1lcool\", \"Distribui\\u00e7\\u00e3o da quantidade de \\u00c1lcool\", \"Distribui\\u00e7\\u00e3o da quantidade de \\u00c1lcool\", \"Distribui\\u00e7\\u00e3o da quantidade de \\u00c1lcool\", \"Distribui\\u00e7\\u00e3o da quantidade de \\u00c1lcool\", \"Distribui\\u00e7\\u00e3o da quantidade de \\u00c1lcool\", \"Distribui\\u00e7\\u00e3o da quantidade de \\u00c1lcool\", \"Distribui\\u00e7\\u00e3o da quantidade de \\u00c1lcool\", \"Distribui\\u00e7\\u00e3o da quantidade de \\u00c1lcool\", \"Distribui\\u00e7\\u00e3o da quantidade de \\u00c1lcool\", \"Distribui\\u00e7\\u00e3o da quantidade de \\u00c1lcool\", \"Distribui\\u00e7\\u00e3o da quantidade de \\u00c1lcool\", \"Distribui\\u00e7\\u00e3o da quantidade de \\u00c1lcool\", \"Distribui\\u00e7\\u00e3o da quantidade de \\u00c1lcool\", \"Distribui\\u00e7\\u00e3o da quantidade de \\u00c1lcool\", \"Distribui\\u00e7\\u00e3o da quantidade de \\u00c1lcool\", \"Distribui\\u00e7\\u00e3o da quantidade de \\u00c1lcool\", \"Distribui\\u00e7\\u00e3o da quantidade de \\u00c1lcool\", \"Distribui\\u00e7\\u00e3o da quantidade de \\u00c1lcool\", \"Distribui\\u00e7\\u00e3o da quantidade de \\u00c1lcool\", \"Distribui\\u00e7\\u00e3o da quantidade de \\u00c1lcool\", \"Distribui\\u00e7\\u00e3o da quantidade de \\u00c1lcool\", \"Distribui\\u00e7\\u00e3o da quantidade de \\u00c1lcool\", \"Distribui\\u00e7\\u00e3o da quantidade de \\u00c1lcool\", \"Distribui\\u00e7\\u00e3o da quantidade de \\u00c1lcool\", \"Distribui\\u00e7\\u00e3o da quantidade de \\u00c1lcool\", \"Distribui\\u00e7\\u00e3o da quantidade de \\u00c1lcool\", \"Distribui\\u00e7\\u00e3o da quantidade de \\u00c1lcool\", \"Distribui\\u00e7\\u00e3o da quantidade de \\u00c1lcool\", \"Distribui\\u00e7\\u00e3o da quantidade de \\u00c1lcool\", \"Distribui\\u00e7\\u00e3o da quantidade de \\u00c1lcool\", \"Distribui\\u00e7\\u00e3o da quantidade de \\u00c1lcool\", \"Distribui\\u00e7\\u00e3o da quantidade de \\u00c1lcool\", \"Distribui\\u00e7\\u00e3o da quantidade de \\u00c1lcool\", \"Distribui\\u00e7\\u00e3o da quantidade de \\u00c1lcool\", \"Distribui\\u00e7\\u00e3o da quantidade de \\u00c1lcool\", \"Distribui\\u00e7\\u00e3o da quantidade de \\u00c1lcool\", \"Distribui\\u00e7\\u00e3o da quantidade de \\u00c1lcool\", \"Distribui\\u00e7\\u00e3o da quantidade de \\u00c1lcool\", \"Distribui\\u00e7\\u00e3o da quantidade de \\u00c1lcool\", \"Distribui\\u00e7\\u00e3o da quantidade de \\u00c1lcool\", \"Distribui\\u00e7\\u00e3o da quantidade de \\u00c1lcool\", \"Distribui\\u00e7\\u00e3o da quantidade de \\u00c1lcool\", \"Distribui\\u00e7\\u00e3o da quantidade de \\u00c1lcool\", \"Distribui\\u00e7\\u00e3o da quantidade de \\u00c1lcool\", \"Distribui\\u00e7\\u00e3o da quantidade de \\u00c1lcool\", \"Distribui\\u00e7\\u00e3o da quantidade de \\u00c1lcool\", \"Distribui\\u00e7\\u00e3o da quantidade de \\u00c1lcool\", \"Distribui\\u00e7\\u00e3o da quantidade de \\u00c1lcool\", \"Distribui\\u00e7\\u00e3o da quantidade de \\u00c1lcool\", \"Distribui\\u00e7\\u00e3o da quantidade de \\u00c1lcool\", \"Distribui\\u00e7\\u00e3o da quantidade de \\u00c1lcool\", \"Distribui\\u00e7\\u00e3o da quantidade de \\u00c1lcool\", \"Distribui\\u00e7\\u00e3o da quantidade de \\u00c1lcool\", \"Distribui\\u00e7\\u00e3o da quantidade de \\u00c1lcool\", \"Distribui\\u00e7\\u00e3o da quantidade de \\u00c1lcool\", \"Distribui\\u00e7\\u00e3o da quantidade de \\u00c1lcool\", \"Distribui\\u00e7\\u00e3o da quantidade de \\u00c1lcool\", \"Distribui\\u00e7\\u00e3o da quantidade de \\u00c1lcool\", \"Distribui\\u00e7\\u00e3o da quantidade de \\u00c1lcool\", \"Distribui\\u00e7\\u00e3o da quantidade de \\u00c1lcool\", \"Distribui\\u00e7\\u00e3o da quantidade de \\u00c1lcool\", \"Distribui\\u00e7\\u00e3o da quantidade de \\u00c1lcool\", \"Distribui\\u00e7\\u00e3o da quantidade de \\u00c1lcool\", \"Distribui\\u00e7\\u00e3o da quantidade de \\u00c1lcool\", \"Distribui\\u00e7\\u00e3o da quantidade de \\u00c1lcool\", \"Distribui\\u00e7\\u00e3o da quantidade de \\u00c1lcool\", \"Distribui\\u00e7\\u00e3o da quantidade de \\u00c1lcool\", \"Distribui\\u00e7\\u00e3o da quantidade de \\u00c1lcool\", \"Distribui\\u00e7\\u00e3o da quantidade de \\u00c1lcool\", \"Distribui\\u00e7\\u00e3o da quantidade de \\u00c1lcool\", \"Distribui\\u00e7\\u00e3o da quantidade de \\u00c1lcool\", \"Distribui\\u00e7\\u00e3o da quantidade de \\u00c1lcool\", \"Distribui\\u00e7\\u00e3o da quantidade de \\u00c1lcool\", \"Distribui\\u00e7\\u00e3o da quantidade de \\u00c1lcool\", \"Distribui\\u00e7\\u00e3o da quantidade de \\u00c1lcool\", \"Distribui\\u00e7\\u00e3o da quantidade de \\u00c1lcool\", \"Distribui\\u00e7\\u00e3o da quantidade de \\u00c1lcool\", \"Distribui\\u00e7\\u00e3o da quantidade de \\u00c1lcool\", \"Distribui\\u00e7\\u00e3o da quantidade de \\u00c1lcool\", \"Distribui\\u00e7\\u00e3o da quantidade de \\u00c1lcool\", \"Distribui\\u00e7\\u00e3o da quantidade de \\u00c1lcool\", \"Distribui\\u00e7\\u00e3o da quantidade de \\u00c1lcool\", \"Distribui\\u00e7\\u00e3o da quantidade de \\u00c1lcool\", \"Distribui\\u00e7\\u00e3o da quantidade de \\u00c1lcool\", \"Distribui\\u00e7\\u00e3o da quantidade de \\u00c1lcool\", \"Distribui\\u00e7\\u00e3o da quantidade de \\u00c1lcool\", \"Distribui\\u00e7\\u00e3o da quantidade de \\u00c1lcool\", \"Distribui\\u00e7\\u00e3o da quantidade de \\u00c1lcool\", \"Distribui\\u00e7\\u00e3o da quantidade de \\u00c1lcool\", \"Distribui\\u00e7\\u00e3o da quantidade de \\u00c1lcool\", \"Distribui\\u00e7\\u00e3o da quantidade de \\u00c1lcool\", \"Distribui\\u00e7\\u00e3o da quantidade de \\u00c1lcool\", \"Distribui\\u00e7\\u00e3o da quantidade de \\u00c1lcool\", \"Distribui\\u00e7\\u00e3o da quantidade de \\u00c1lcool\", \"Distribui\\u00e7\\u00e3o da quantidade de \\u00c1lcool\", \"Distribui\\u00e7\\u00e3o da quantidade de \\u00c1lcool\", \"Distribui\\u00e7\\u00e3o da quantidade de \\u00c1lcool\", \"Distribui\\u00e7\\u00e3o da quantidade de \\u00c1lcool\", \"Distribui\\u00e7\\u00e3o da quantidade de \\u00c1lcool\", \"Distribui\\u00e7\\u00e3o da quantidade de \\u00c1lcool\", \"Distribui\\u00e7\\u00e3o da quantidade de \\u00c1lcool\", \"Distribui\\u00e7\\u00e3o da quantidade de \\u00c1lcool\", \"Distribui\\u00e7\\u00e3o da quantidade de \\u00c1lcool\", \"Distribui\\u00e7\\u00e3o da quantidade de \\u00c1lcool\", \"Distribui\\u00e7\\u00e3o da quantidade de \\u00c1lcool\"], \"yaxis\": \"y2\"}],\n",
       "                        {\"barmode\": \"overlay\", \"hovermode\": \"closest\", \"legend\": {\"traceorder\": \"reversed\"}, \"template\": {\"data\": {\"bar\": [{\"error_x\": {\"color\": \"#2a3f5f\"}, \"error_y\": {\"color\": \"#2a3f5f\"}, \"marker\": {\"line\": {\"color\": \"#E5ECF6\", \"width\": 0.5}}, \"type\": \"bar\"}], \"barpolar\": [{\"marker\": {\"line\": {\"color\": \"#E5ECF6\", \"width\": 0.5}}, \"type\": \"barpolar\"}], \"carpet\": [{\"aaxis\": {\"endlinecolor\": \"#2a3f5f\", \"gridcolor\": \"white\", \"linecolor\": \"white\", \"minorgridcolor\": \"white\", \"startlinecolor\": \"#2a3f5f\"}, \"baxis\": {\"endlinecolor\": \"#2a3f5f\", \"gridcolor\": \"white\", \"linecolor\": \"white\", \"minorgridcolor\": \"white\", \"startlinecolor\": \"#2a3f5f\"}, \"type\": \"carpet\"}], \"choropleth\": [{\"colorbar\": {\"outlinewidth\": 0, \"ticks\": \"\"}, \"type\": \"choropleth\"}], \"contour\": [{\"colorbar\": {\"outlinewidth\": 0, \"ticks\": \"\"}, \"colorscale\": [[0.0, \"#0d0887\"], [0.1111111111111111, \"#46039f\"], [0.2222222222222222, \"#7201a8\"], [0.3333333333333333, \"#9c179e\"], [0.4444444444444444, \"#bd3786\"], [0.5555555555555556, \"#d8576b\"], [0.6666666666666666, \"#ed7953\"], [0.7777777777777778, \"#fb9f3a\"], [0.8888888888888888, \"#fdca26\"], [1.0, \"#f0f921\"]], \"type\": \"contour\"}], \"contourcarpet\": [{\"colorbar\": {\"outlinewidth\": 0, \"ticks\": \"\"}, \"type\": \"contourcarpet\"}], \"heatmap\": [{\"colorbar\": {\"outlinewidth\": 0, \"ticks\": \"\"}, \"colorscale\": [[0.0, \"#0d0887\"], [0.1111111111111111, \"#46039f\"], [0.2222222222222222, \"#7201a8\"], [0.3333333333333333, \"#9c179e\"], [0.4444444444444444, \"#bd3786\"], [0.5555555555555556, \"#d8576b\"], [0.6666666666666666, \"#ed7953\"], [0.7777777777777778, \"#fb9f3a\"], [0.8888888888888888, \"#fdca26\"], [1.0, \"#f0f921\"]], \"type\": \"heatmap\"}], \"heatmapgl\": [{\"colorbar\": {\"outlinewidth\": 0, \"ticks\": \"\"}, \"colorscale\": [[0.0, \"#0d0887\"], [0.1111111111111111, \"#46039f\"], [0.2222222222222222, \"#7201a8\"], [0.3333333333333333, \"#9c179e\"], [0.4444444444444444, \"#bd3786\"], [0.5555555555555556, \"#d8576b\"], [0.6666666666666666, \"#ed7953\"], [0.7777777777777778, \"#fb9f3a\"], [0.8888888888888888, \"#fdca26\"], [1.0, \"#f0f921\"]], \"type\": \"heatmapgl\"}], \"histogram\": [{\"marker\": {\"colorbar\": {\"outlinewidth\": 0, \"ticks\": \"\"}}, \"type\": \"histogram\"}], \"histogram2d\": [{\"colorbar\": {\"outlinewidth\": 0, \"ticks\": \"\"}, \"colorscale\": [[0.0, \"#0d0887\"], [0.1111111111111111, \"#46039f\"], [0.2222222222222222, \"#7201a8\"], [0.3333333333333333, \"#9c179e\"], [0.4444444444444444, \"#bd3786\"], [0.5555555555555556, \"#d8576b\"], [0.6666666666666666, \"#ed7953\"], [0.7777777777777778, \"#fb9f3a\"], [0.8888888888888888, \"#fdca26\"], [1.0, \"#f0f921\"]], \"type\": \"histogram2d\"}], \"histogram2dcontour\": [{\"colorbar\": {\"outlinewidth\": 0, \"ticks\": \"\"}, \"colorscale\": [[0.0, \"#0d0887\"], [0.1111111111111111, \"#46039f\"], [0.2222222222222222, \"#7201a8\"], [0.3333333333333333, \"#9c179e\"], [0.4444444444444444, \"#bd3786\"], [0.5555555555555556, \"#d8576b\"], [0.6666666666666666, \"#ed7953\"], [0.7777777777777778, \"#fb9f3a\"], [0.8888888888888888, \"#fdca26\"], [1.0, \"#f0f921\"]], \"type\": \"histogram2dcontour\"}], \"mesh3d\": [{\"colorbar\": {\"outlinewidth\": 0, \"ticks\": \"\"}, \"type\": \"mesh3d\"}], \"parcoords\": [{\"line\": {\"colorbar\": {\"outlinewidth\": 0, \"ticks\": \"\"}}, \"type\": \"parcoords\"}], \"pie\": [{\"automargin\": true, \"type\": \"pie\"}], \"scatter\": [{\"marker\": {\"colorbar\": {\"outlinewidth\": 0, \"ticks\": \"\"}}, \"type\": \"scatter\"}], \"scatter3d\": [{\"line\": {\"colorbar\": {\"outlinewidth\": 0, \"ticks\": \"\"}}, \"marker\": {\"colorbar\": {\"outlinewidth\": 0, \"ticks\": \"\"}}, \"type\": \"scatter3d\"}], \"scattercarpet\": [{\"marker\": {\"colorbar\": {\"outlinewidth\": 0, \"ticks\": \"\"}}, \"type\": \"scattercarpet\"}], \"scattergeo\": [{\"marker\": {\"colorbar\": {\"outlinewidth\": 0, \"ticks\": \"\"}}, \"type\": \"scattergeo\"}], \"scattergl\": [{\"marker\": {\"colorbar\": {\"outlinewidth\": 0, \"ticks\": \"\"}}, \"type\": \"scattergl\"}], \"scattermapbox\": [{\"marker\": {\"colorbar\": {\"outlinewidth\": 0, \"ticks\": \"\"}}, \"type\": \"scattermapbox\"}], \"scatterpolar\": [{\"marker\": {\"colorbar\": {\"outlinewidth\": 0, \"ticks\": \"\"}}, \"type\": \"scatterpolar\"}], \"scatterpolargl\": [{\"marker\": {\"colorbar\": {\"outlinewidth\": 0, \"ticks\": \"\"}}, \"type\": \"scatterpolargl\"}], \"scatterternary\": [{\"marker\": {\"colorbar\": {\"outlinewidth\": 0, \"ticks\": \"\"}}, \"type\": \"scatterternary\"}], \"surface\": [{\"colorbar\": {\"outlinewidth\": 0, \"ticks\": \"\"}, \"colorscale\": [[0.0, \"#0d0887\"], [0.1111111111111111, \"#46039f\"], [0.2222222222222222, \"#7201a8\"], [0.3333333333333333, \"#9c179e\"], [0.4444444444444444, \"#bd3786\"], [0.5555555555555556, \"#d8576b\"], [0.6666666666666666, \"#ed7953\"], [0.7777777777777778, \"#fb9f3a\"], [0.8888888888888888, \"#fdca26\"], [1.0, \"#f0f921\"]], \"type\": \"surface\"}], \"table\": [{\"cells\": {\"fill\": {\"color\": \"#EBF0F8\"}, \"line\": {\"color\": \"white\"}}, \"header\": {\"fill\": {\"color\": \"#C8D4E3\"}, \"line\": {\"color\": \"white\"}}, \"type\": \"table\"}]}, \"layout\": {\"annotationdefaults\": {\"arrowcolor\": \"#2a3f5f\", \"arrowhead\": 0, \"arrowwidth\": 1}, \"coloraxis\": {\"colorbar\": {\"outlinewidth\": 0, \"ticks\": \"\"}}, \"colorscale\": {\"diverging\": [[0, \"#8e0152\"], [0.1, \"#c51b7d\"], [0.2, \"#de77ae\"], [0.3, \"#f1b6da\"], [0.4, \"#fde0ef\"], [0.5, \"#f7f7f7\"], [0.6, \"#e6f5d0\"], [0.7, \"#b8e186\"], [0.8, \"#7fbc41\"], [0.9, \"#4d9221\"], [1, \"#276419\"]], \"sequential\": [[0.0, \"#0d0887\"], [0.1111111111111111, \"#46039f\"], [0.2222222222222222, \"#7201a8\"], [0.3333333333333333, \"#9c179e\"], [0.4444444444444444, \"#bd3786\"], [0.5555555555555556, \"#d8576b\"], [0.6666666666666666, \"#ed7953\"], [0.7777777777777778, \"#fb9f3a\"], [0.8888888888888888, \"#fdca26\"], [1.0, \"#f0f921\"]], \"sequentialminus\": [[0.0, \"#0d0887\"], [0.1111111111111111, \"#46039f\"], [0.2222222222222222, \"#7201a8\"], [0.3333333333333333, \"#9c179e\"], [0.4444444444444444, \"#bd3786\"], [0.5555555555555556, \"#d8576b\"], [0.6666666666666666, \"#ed7953\"], [0.7777777777777778, \"#fb9f3a\"], [0.8888888888888888, \"#fdca26\"], [1.0, \"#f0f921\"]]}, \"colorway\": [\"#636efa\", \"#EF553B\", \"#00cc96\", \"#ab63fa\", \"#FFA15A\", \"#19d3f3\", \"#FF6692\", \"#B6E880\", \"#FF97FF\", \"#FECB52\"], \"font\": {\"color\": \"#2a3f5f\"}, \"geo\": {\"bgcolor\": \"white\", \"lakecolor\": \"white\", \"landcolor\": \"#E5ECF6\", \"showlakes\": true, \"showland\": true, \"subunitcolor\": \"white\"}, \"hoverlabel\": {\"align\": \"left\"}, \"hovermode\": \"closest\", \"mapbox\": {\"style\": \"light\"}, \"paper_bgcolor\": \"white\", \"plot_bgcolor\": \"#E5ECF6\", \"polar\": {\"angularaxis\": {\"gridcolor\": \"white\", \"linecolor\": \"white\", \"ticks\": \"\"}, \"bgcolor\": \"#E5ECF6\", \"radialaxis\": {\"gridcolor\": \"white\", \"linecolor\": \"white\", \"ticks\": \"\"}}, \"scene\": {\"xaxis\": {\"backgroundcolor\": \"#E5ECF6\", \"gridcolor\": \"white\", \"gridwidth\": 2, \"linecolor\": \"white\", \"showbackground\": true, \"ticks\": \"\", \"zerolinecolor\": \"white\"}, \"yaxis\": {\"backgroundcolor\": \"#E5ECF6\", \"gridcolor\": \"white\", \"gridwidth\": 2, \"linecolor\": \"white\", \"showbackground\": true, \"ticks\": \"\", \"zerolinecolor\": \"white\"}, \"zaxis\": {\"backgroundcolor\": \"#E5ECF6\", \"gridcolor\": \"white\", \"gridwidth\": 2, \"linecolor\": \"white\", \"showbackground\": true, \"ticks\": \"\", \"zerolinecolor\": \"white\"}}, \"shapedefaults\": {\"line\": {\"color\": \"#2a3f5f\"}}, \"ternary\": {\"aaxis\": {\"gridcolor\": \"white\", \"linecolor\": \"white\", \"ticks\": \"\"}, \"baxis\": {\"gridcolor\": \"white\", \"linecolor\": \"white\", \"ticks\": \"\"}, \"bgcolor\": \"#E5ECF6\", \"caxis\": {\"gridcolor\": \"white\", \"linecolor\": \"white\", \"ticks\": \"\"}}, \"title\": {\"x\": 0.05}, \"xaxis\": {\"automargin\": true, \"gridcolor\": \"white\", \"linecolor\": \"white\", \"ticks\": \"\", \"title\": {\"standoff\": 15}, \"zerolinecolor\": \"white\", \"zerolinewidth\": 2}, \"yaxis\": {\"automargin\": true, \"gridcolor\": \"white\", \"linecolor\": \"white\", \"ticks\": \"\", \"title\": {\"standoff\": 15}, \"zerolinecolor\": \"white\", \"zerolinewidth\": 2}}}, \"xaxis\": {\"anchor\": \"y2\", \"domain\": [0.0, 1.0], \"zeroline\": false}, \"yaxis\": {\"anchor\": \"free\", \"domain\": [0.35, 1], \"position\": 0.0}, \"yaxis2\": {\"anchor\": \"x\", \"domain\": [0, 0.25], \"dtick\": 1, \"showticklabels\": false}},\n",
       "                        {\"responsive\": true}\n",
       "                    ).then(function(){\n",
       "                            \n",
       "var gd = document.getElementById('6e8d26d2-6b08-441a-9e60-417a165a452b');\n",
       "var x = new MutationObserver(function (mutations, observer) {{\n",
       "        var display = window.getComputedStyle(gd).display;\n",
       "        if (!display || display === 'none') {{\n",
       "            console.log([gd, 'removed!']);\n",
       "            Plotly.purge(gd);\n",
       "            observer.disconnect();\n",
       "        }}\n",
       "}});\n",
       "\n",
       "// Listen for the removal of the full notebook cells\n",
       "var notebookContainer = gd.closest('#notebook-container');\n",
       "if (notebookContainer) {{\n",
       "    x.observe(notebookContainer, {childList: true});\n",
       "}}\n",
       "\n",
       "// Listen for the clearing of the current output cell\n",
       "var outputEl = gd.closest('.output');\n",
       "if (outputEl) {{\n",
       "    x.observe(outputEl, {childList: true});\n",
       "}}\n",
       "\n",
       "                        })\n",
       "                };\n",
       "                });\n",
       "            </script>\n",
       "        </div>"
      ]
     },
     "metadata": {},
     "output_type": "display_data"
    }
   ],
   "source": [
    "#analisando a quantiodade de alcool\n",
    "import plotly.figure_factory as ff\n",
    "labels = ['Distribuição da quantidade de Álcool']\n",
    "fig = ff.create_distplot([df.alcool], labels, bin_size=.2)\n",
    "fig.show()"
   ]
  },
  {
   "cell_type": "code",
   "execution_count": 33,
   "metadata": {},
   "outputs": [
    {
     "data": {
      "application/vnd.plotly.v1+json": {
       "config": {
        "plotlyServerURL": "https://plot.ly"
       },
       "data": [
        {
         "alignmentgroup": "True",
         "hovertemplate": "alcool=%{y}<extra></extra>",
         "legendgroup": "",
         "marker": {
          "color": "#636efa"
         },
         "name": "",
         "notched": false,
         "offsetgroup": "",
         "orientation": "v",
         "showlegend": false,
         "type": "box",
         "x0": " ",
         "xaxis": "x",
         "y": [
          14.23,
          13.2,
          13.16,
          14.37,
          13.24,
          14.2,
          14.39,
          14.06,
          14.83,
          13.86,
          14.1,
          14.12,
          13.75,
          14.75,
          14.38,
          13.63,
          14.3,
          13.83,
          14.19,
          13.64,
          14.06,
          12.93,
          13.71,
          12.85,
          13.5,
          13.05,
          13.39,
          13.3,
          13.87,
          14.02,
          13.73,
          13.58,
          13.68,
          13.76,
          13.51,
          13.48,
          13.28,
          13.05,
          13.07,
          14.22,
          13.56,
          13.41,
          13.88,
          13.24,
          13.05,
          14.21,
          14.38,
          13.9,
          14.1,
          13.94,
          13.05,
          13.83,
          13.82,
          13.77,
          13.74,
          13.56,
          14.22,
          13.29,
          13.72,
          12.37,
          12.33,
          12.64,
          13.67,
          12.37,
          12.17,
          12.37,
          13.11,
          12.37,
          13.34,
          12.21,
          12.29,
          13.86,
          13.49,
          12.99,
          11.96,
          11.66,
          13.03,
          11.84,
          12.33,
          12.7,
          12,
          12.72,
          12.08,
          13.05,
          11.84,
          12.67,
          12.16,
          11.65,
          11.64,
          12.08,
          12.08,
          12,
          12.69,
          12.29,
          11.62,
          12.47,
          11.81,
          12.29,
          12.37,
          12.29,
          12.08,
          12.6,
          12.34,
          11.82,
          12.51,
          12.42,
          12.25,
          12.72,
          12.22,
          11.61,
          11.46,
          12.52,
          11.76,
          11.41,
          12.08,
          11.03,
          11.82,
          12.42,
          12.77,
          12,
          11.45,
          11.56,
          12.42,
          13.05,
          11.87,
          12.07,
          12.43,
          11.79,
          12.37,
          12.04,
          12.86,
          12.88,
          12.81,
          12.7,
          12.51,
          12.6,
          12.25,
          12.53,
          13.49,
          12.84,
          12.93,
          13.36,
          13.52,
          13.62,
          12.25,
          13.16,
          13.88,
          12.87,
          13.32,
          13.08,
          13.5,
          12.79,
          13.11,
          13.23,
          12.58,
          13.17,
          13.84,
          12.45,
          14.34,
          13.48,
          12.36,
          13.69,
          12.85,
          12.96,
          13.78,
          13.73,
          13.45,
          12.82,
          13.58,
          13.4,
          12.2,
          12.77,
          14.16,
          13.71,
          13.4,
          13.27,
          13.17,
          14.13
         ],
         "y0": " ",
         "yaxis": "y"
        }
       ],
       "layout": {
        "boxmode": "group",
        "height": 800,
        "legend": {
         "tracegroupgap": 0
        },
        "margin": {
         "t": 60
        },
        "template": {
         "data": {
          "bar": [
           {
            "error_x": {
             "color": "#2a3f5f"
            },
            "error_y": {
             "color": "#2a3f5f"
            },
            "marker": {
             "line": {
              "color": "#E5ECF6",
              "width": 0.5
             }
            },
            "type": "bar"
           }
          ],
          "barpolar": [
           {
            "marker": {
             "line": {
              "color": "#E5ECF6",
              "width": 0.5
             }
            },
            "type": "barpolar"
           }
          ],
          "carpet": [
           {
            "aaxis": {
             "endlinecolor": "#2a3f5f",
             "gridcolor": "white",
             "linecolor": "white",
             "minorgridcolor": "white",
             "startlinecolor": "#2a3f5f"
            },
            "baxis": {
             "endlinecolor": "#2a3f5f",
             "gridcolor": "white",
             "linecolor": "white",
             "minorgridcolor": "white",
             "startlinecolor": "#2a3f5f"
            },
            "type": "carpet"
           }
          ],
          "choropleth": [
           {
            "colorbar": {
             "outlinewidth": 0,
             "ticks": ""
            },
            "type": "choropleth"
           }
          ],
          "contour": [
           {
            "colorbar": {
             "outlinewidth": 0,
             "ticks": ""
            },
            "colorscale": [
             [
              0,
              "#0d0887"
             ],
             [
              0.1111111111111111,
              "#46039f"
             ],
             [
              0.2222222222222222,
              "#7201a8"
             ],
             [
              0.3333333333333333,
              "#9c179e"
             ],
             [
              0.4444444444444444,
              "#bd3786"
             ],
             [
              0.5555555555555556,
              "#d8576b"
             ],
             [
              0.6666666666666666,
              "#ed7953"
             ],
             [
              0.7777777777777778,
              "#fb9f3a"
             ],
             [
              0.8888888888888888,
              "#fdca26"
             ],
             [
              1,
              "#f0f921"
             ]
            ],
            "type": "contour"
           }
          ],
          "contourcarpet": [
           {
            "colorbar": {
             "outlinewidth": 0,
             "ticks": ""
            },
            "type": "contourcarpet"
           }
          ],
          "heatmap": [
           {
            "colorbar": {
             "outlinewidth": 0,
             "ticks": ""
            },
            "colorscale": [
             [
              0,
              "#0d0887"
             ],
             [
              0.1111111111111111,
              "#46039f"
             ],
             [
              0.2222222222222222,
              "#7201a8"
             ],
             [
              0.3333333333333333,
              "#9c179e"
             ],
             [
              0.4444444444444444,
              "#bd3786"
             ],
             [
              0.5555555555555556,
              "#d8576b"
             ],
             [
              0.6666666666666666,
              "#ed7953"
             ],
             [
              0.7777777777777778,
              "#fb9f3a"
             ],
             [
              0.8888888888888888,
              "#fdca26"
             ],
             [
              1,
              "#f0f921"
             ]
            ],
            "type": "heatmap"
           }
          ],
          "heatmapgl": [
           {
            "colorbar": {
             "outlinewidth": 0,
             "ticks": ""
            },
            "colorscale": [
             [
              0,
              "#0d0887"
             ],
             [
              0.1111111111111111,
              "#46039f"
             ],
             [
              0.2222222222222222,
              "#7201a8"
             ],
             [
              0.3333333333333333,
              "#9c179e"
             ],
             [
              0.4444444444444444,
              "#bd3786"
             ],
             [
              0.5555555555555556,
              "#d8576b"
             ],
             [
              0.6666666666666666,
              "#ed7953"
             ],
             [
              0.7777777777777778,
              "#fb9f3a"
             ],
             [
              0.8888888888888888,
              "#fdca26"
             ],
             [
              1,
              "#f0f921"
             ]
            ],
            "type": "heatmapgl"
           }
          ],
          "histogram": [
           {
            "marker": {
             "colorbar": {
              "outlinewidth": 0,
              "ticks": ""
             }
            },
            "type": "histogram"
           }
          ],
          "histogram2d": [
           {
            "colorbar": {
             "outlinewidth": 0,
             "ticks": ""
            },
            "colorscale": [
             [
              0,
              "#0d0887"
             ],
             [
              0.1111111111111111,
              "#46039f"
             ],
             [
              0.2222222222222222,
              "#7201a8"
             ],
             [
              0.3333333333333333,
              "#9c179e"
             ],
             [
              0.4444444444444444,
              "#bd3786"
             ],
             [
              0.5555555555555556,
              "#d8576b"
             ],
             [
              0.6666666666666666,
              "#ed7953"
             ],
             [
              0.7777777777777778,
              "#fb9f3a"
             ],
             [
              0.8888888888888888,
              "#fdca26"
             ],
             [
              1,
              "#f0f921"
             ]
            ],
            "type": "histogram2d"
           }
          ],
          "histogram2dcontour": [
           {
            "colorbar": {
             "outlinewidth": 0,
             "ticks": ""
            },
            "colorscale": [
             [
              0,
              "#0d0887"
             ],
             [
              0.1111111111111111,
              "#46039f"
             ],
             [
              0.2222222222222222,
              "#7201a8"
             ],
             [
              0.3333333333333333,
              "#9c179e"
             ],
             [
              0.4444444444444444,
              "#bd3786"
             ],
             [
              0.5555555555555556,
              "#d8576b"
             ],
             [
              0.6666666666666666,
              "#ed7953"
             ],
             [
              0.7777777777777778,
              "#fb9f3a"
             ],
             [
              0.8888888888888888,
              "#fdca26"
             ],
             [
              1,
              "#f0f921"
             ]
            ],
            "type": "histogram2dcontour"
           }
          ],
          "mesh3d": [
           {
            "colorbar": {
             "outlinewidth": 0,
             "ticks": ""
            },
            "type": "mesh3d"
           }
          ],
          "parcoords": [
           {
            "line": {
             "colorbar": {
              "outlinewidth": 0,
              "ticks": ""
             }
            },
            "type": "parcoords"
           }
          ],
          "pie": [
           {
            "automargin": true,
            "type": "pie"
           }
          ],
          "scatter": [
           {
            "marker": {
             "colorbar": {
              "outlinewidth": 0,
              "ticks": ""
             }
            },
            "type": "scatter"
           }
          ],
          "scatter3d": [
           {
            "line": {
             "colorbar": {
              "outlinewidth": 0,
              "ticks": ""
             }
            },
            "marker": {
             "colorbar": {
              "outlinewidth": 0,
              "ticks": ""
             }
            },
            "type": "scatter3d"
           }
          ],
          "scattercarpet": [
           {
            "marker": {
             "colorbar": {
              "outlinewidth": 0,
              "ticks": ""
             }
            },
            "type": "scattercarpet"
           }
          ],
          "scattergeo": [
           {
            "marker": {
             "colorbar": {
              "outlinewidth": 0,
              "ticks": ""
             }
            },
            "type": "scattergeo"
           }
          ],
          "scattergl": [
           {
            "marker": {
             "colorbar": {
              "outlinewidth": 0,
              "ticks": ""
             }
            },
            "type": "scattergl"
           }
          ],
          "scattermapbox": [
           {
            "marker": {
             "colorbar": {
              "outlinewidth": 0,
              "ticks": ""
             }
            },
            "type": "scattermapbox"
           }
          ],
          "scatterpolar": [
           {
            "marker": {
             "colorbar": {
              "outlinewidth": 0,
              "ticks": ""
             }
            },
            "type": "scatterpolar"
           }
          ],
          "scatterpolargl": [
           {
            "marker": {
             "colorbar": {
              "outlinewidth": 0,
              "ticks": ""
             }
            },
            "type": "scatterpolargl"
           }
          ],
          "scatterternary": [
           {
            "marker": {
             "colorbar": {
              "outlinewidth": 0,
              "ticks": ""
             }
            },
            "type": "scatterternary"
           }
          ],
          "surface": [
           {
            "colorbar": {
             "outlinewidth": 0,
             "ticks": ""
            },
            "colorscale": [
             [
              0,
              "#0d0887"
             ],
             [
              0.1111111111111111,
              "#46039f"
             ],
             [
              0.2222222222222222,
              "#7201a8"
             ],
             [
              0.3333333333333333,
              "#9c179e"
             ],
             [
              0.4444444444444444,
              "#bd3786"
             ],
             [
              0.5555555555555556,
              "#d8576b"
             ],
             [
              0.6666666666666666,
              "#ed7953"
             ],
             [
              0.7777777777777778,
              "#fb9f3a"
             ],
             [
              0.8888888888888888,
              "#fdca26"
             ],
             [
              1,
              "#f0f921"
             ]
            ],
            "type": "surface"
           }
          ],
          "table": [
           {
            "cells": {
             "fill": {
              "color": "#EBF0F8"
             },
             "line": {
              "color": "white"
             }
            },
            "header": {
             "fill": {
              "color": "#C8D4E3"
             },
             "line": {
              "color": "white"
             }
            },
            "type": "table"
           }
          ]
         },
         "layout": {
          "annotationdefaults": {
           "arrowcolor": "#2a3f5f",
           "arrowhead": 0,
           "arrowwidth": 1
          },
          "coloraxis": {
           "colorbar": {
            "outlinewidth": 0,
            "ticks": ""
           }
          },
          "colorscale": {
           "diverging": [
            [
             0,
             "#8e0152"
            ],
            [
             0.1,
             "#c51b7d"
            ],
            [
             0.2,
             "#de77ae"
            ],
            [
             0.3,
             "#f1b6da"
            ],
            [
             0.4,
             "#fde0ef"
            ],
            [
             0.5,
             "#f7f7f7"
            ],
            [
             0.6,
             "#e6f5d0"
            ],
            [
             0.7,
             "#b8e186"
            ],
            [
             0.8,
             "#7fbc41"
            ],
            [
             0.9,
             "#4d9221"
            ],
            [
             1,
             "#276419"
            ]
           ],
           "sequential": [
            [
             0,
             "#0d0887"
            ],
            [
             0.1111111111111111,
             "#46039f"
            ],
            [
             0.2222222222222222,
             "#7201a8"
            ],
            [
             0.3333333333333333,
             "#9c179e"
            ],
            [
             0.4444444444444444,
             "#bd3786"
            ],
            [
             0.5555555555555556,
             "#d8576b"
            ],
            [
             0.6666666666666666,
             "#ed7953"
            ],
            [
             0.7777777777777778,
             "#fb9f3a"
            ],
            [
             0.8888888888888888,
             "#fdca26"
            ],
            [
             1,
             "#f0f921"
            ]
           ],
           "sequentialminus": [
            [
             0,
             "#0d0887"
            ],
            [
             0.1111111111111111,
             "#46039f"
            ],
            [
             0.2222222222222222,
             "#7201a8"
            ],
            [
             0.3333333333333333,
             "#9c179e"
            ],
            [
             0.4444444444444444,
             "#bd3786"
            ],
            [
             0.5555555555555556,
             "#d8576b"
            ],
            [
             0.6666666666666666,
             "#ed7953"
            ],
            [
             0.7777777777777778,
             "#fb9f3a"
            ],
            [
             0.8888888888888888,
             "#fdca26"
            ],
            [
             1,
             "#f0f921"
            ]
           ]
          },
          "colorway": [
           "#636efa",
           "#EF553B",
           "#00cc96",
           "#ab63fa",
           "#FFA15A",
           "#19d3f3",
           "#FF6692",
           "#B6E880",
           "#FF97FF",
           "#FECB52"
          ],
          "font": {
           "color": "#2a3f5f"
          },
          "geo": {
           "bgcolor": "white",
           "lakecolor": "white",
           "landcolor": "#E5ECF6",
           "showlakes": true,
           "showland": true,
           "subunitcolor": "white"
          },
          "hoverlabel": {
           "align": "left"
          },
          "hovermode": "closest",
          "mapbox": {
           "style": "light"
          },
          "paper_bgcolor": "white",
          "plot_bgcolor": "#E5ECF6",
          "polar": {
           "angularaxis": {
            "gridcolor": "white",
            "linecolor": "white",
            "ticks": ""
           },
           "bgcolor": "#E5ECF6",
           "radialaxis": {
            "gridcolor": "white",
            "linecolor": "white",
            "ticks": ""
           }
          },
          "scene": {
           "xaxis": {
            "backgroundcolor": "#E5ECF6",
            "gridcolor": "white",
            "gridwidth": 2,
            "linecolor": "white",
            "showbackground": true,
            "ticks": "",
            "zerolinecolor": "white"
           },
           "yaxis": {
            "backgroundcolor": "#E5ECF6",
            "gridcolor": "white",
            "gridwidth": 2,
            "linecolor": "white",
            "showbackground": true,
            "ticks": "",
            "zerolinecolor": "white"
           },
           "zaxis": {
            "backgroundcolor": "#E5ECF6",
            "gridcolor": "white",
            "gridwidth": 2,
            "linecolor": "white",
            "showbackground": true,
            "ticks": "",
            "zerolinecolor": "white"
           }
          },
          "shapedefaults": {
           "line": {
            "color": "#2a3f5f"
           }
          },
          "ternary": {
           "aaxis": {
            "gridcolor": "white",
            "linecolor": "white",
            "ticks": ""
           },
           "baxis": {
            "gridcolor": "white",
            "linecolor": "white",
            "ticks": ""
           },
           "bgcolor": "#E5ECF6",
           "caxis": {
            "gridcolor": "white",
            "linecolor": "white",
            "ticks": ""
           }
          },
          "title": {
           "x": 0.05
          },
          "xaxis": {
           "automargin": true,
           "gridcolor": "white",
           "linecolor": "white",
           "ticks": "",
           "title": {
            "standoff": 15
           },
           "zerolinecolor": "white",
           "zerolinewidth": 2
          },
          "yaxis": {
           "automargin": true,
           "gridcolor": "white",
           "linecolor": "white",
           "ticks": "",
           "title": {
            "standoff": 15
           },
           "zerolinecolor": "white",
           "zerolinewidth": 2
          }
         }
        },
        "width": 800,
        "xaxis": {
         "anchor": "y",
         "domain": [
          0,
          1
         ]
        },
        "yaxis": {
         "anchor": "x",
         "domain": [
          0,
          1
         ],
         "title": {
          "text": "alcool"
         }
        }
       }
      },
      "text/html": [
       "<div>\n",
       "        \n",
       "        \n",
       "            <div id=\"de080d78-f4af-42ed-a0ba-dc8a799631e9\" class=\"plotly-graph-div\" style=\"height:800px; width:800px;\"></div>\n",
       "            <script type=\"text/javascript\">\n",
       "                require([\"plotly\"], function(Plotly) {\n",
       "                    window.PLOTLYENV=window.PLOTLYENV || {};\n",
       "                    \n",
       "                if (document.getElementById(\"de080d78-f4af-42ed-a0ba-dc8a799631e9\")) {\n",
       "                    Plotly.newPlot(\n",
       "                        'de080d78-f4af-42ed-a0ba-dc8a799631e9',\n",
       "                        [{\"alignmentgroup\": \"True\", \"hovertemplate\": \"alcool=%{y}<extra></extra>\", \"legendgroup\": \"\", \"marker\": {\"color\": \"#636efa\"}, \"name\": \"\", \"notched\": false, \"offsetgroup\": \"\", \"orientation\": \"v\", \"showlegend\": false, \"type\": \"box\", \"x0\": \" \", \"xaxis\": \"x\", \"y\": [14.23, 13.2, 13.16, 14.37, 13.24, 14.2, 14.39, 14.06, 14.83, 13.86, 14.1, 14.12, 13.75, 14.75, 14.38, 13.63, 14.3, 13.83, 14.19, 13.64, 14.06, 12.93, 13.71, 12.85, 13.5, 13.05, 13.39, 13.3, 13.87, 14.02, 13.73, 13.58, 13.68, 13.76, 13.51, 13.48, 13.28, 13.05, 13.07, 14.22, 13.56, 13.41, 13.88, 13.24, 13.05, 14.21, 14.38, 13.9, 14.1, 13.94, 13.05, 13.83, 13.82, 13.77, 13.74, 13.56, 14.22, 13.29, 13.72, 12.37, 12.33, 12.64, 13.67, 12.37, 12.17, 12.37, 13.11, 12.37, 13.34, 12.21, 12.29, 13.86, 13.49, 12.99, 11.96, 11.66, 13.03, 11.84, 12.33, 12.7, 12.0, 12.72, 12.08, 13.05, 11.84, 12.67, 12.16, 11.65, 11.64, 12.08, 12.08, 12.0, 12.69, 12.29, 11.62, 12.47, 11.81, 12.29, 12.37, 12.29, 12.08, 12.6, 12.34, 11.82, 12.51, 12.42, 12.25, 12.72, 12.22, 11.61, 11.46, 12.52, 11.76, 11.41, 12.08, 11.03, 11.82, 12.42, 12.77, 12.0, 11.45, 11.56, 12.42, 13.05, 11.87, 12.07, 12.43, 11.79, 12.37, 12.04, 12.86, 12.88, 12.81, 12.7, 12.51, 12.6, 12.25, 12.53, 13.49, 12.84, 12.93, 13.36, 13.52, 13.62, 12.25, 13.16, 13.88, 12.87, 13.32, 13.08, 13.5, 12.79, 13.11, 13.23, 12.58, 13.17, 13.84, 12.45, 14.34, 13.48, 12.36, 13.69, 12.85, 12.96, 13.78, 13.73, 13.45, 12.82, 13.58, 13.4, 12.2, 12.77, 14.16, 13.71, 13.4, 13.27, 13.17, 14.13], \"y0\": \" \", \"yaxis\": \"y\"}],\n",
       "                        {\"boxmode\": \"group\", \"height\": 800, \"legend\": {\"tracegroupgap\": 0}, \"margin\": {\"t\": 60}, \"template\": {\"data\": {\"bar\": [{\"error_x\": {\"color\": \"#2a3f5f\"}, \"error_y\": {\"color\": \"#2a3f5f\"}, \"marker\": {\"line\": {\"color\": \"#E5ECF6\", \"width\": 0.5}}, \"type\": \"bar\"}], \"barpolar\": [{\"marker\": {\"line\": {\"color\": \"#E5ECF6\", \"width\": 0.5}}, \"type\": \"barpolar\"}], \"carpet\": [{\"aaxis\": {\"endlinecolor\": \"#2a3f5f\", \"gridcolor\": \"white\", \"linecolor\": \"white\", \"minorgridcolor\": \"white\", \"startlinecolor\": \"#2a3f5f\"}, \"baxis\": {\"endlinecolor\": \"#2a3f5f\", \"gridcolor\": \"white\", \"linecolor\": \"white\", \"minorgridcolor\": \"white\", \"startlinecolor\": \"#2a3f5f\"}, \"type\": \"carpet\"}], \"choropleth\": [{\"colorbar\": {\"outlinewidth\": 0, \"ticks\": \"\"}, \"type\": \"choropleth\"}], \"contour\": [{\"colorbar\": {\"outlinewidth\": 0, \"ticks\": \"\"}, \"colorscale\": [[0.0, \"#0d0887\"], [0.1111111111111111, \"#46039f\"], [0.2222222222222222, \"#7201a8\"], [0.3333333333333333, \"#9c179e\"], [0.4444444444444444, \"#bd3786\"], [0.5555555555555556, \"#d8576b\"], [0.6666666666666666, \"#ed7953\"], [0.7777777777777778, \"#fb9f3a\"], [0.8888888888888888, \"#fdca26\"], [1.0, \"#f0f921\"]], \"type\": \"contour\"}], \"contourcarpet\": [{\"colorbar\": {\"outlinewidth\": 0, \"ticks\": \"\"}, \"type\": \"contourcarpet\"}], \"heatmap\": [{\"colorbar\": {\"outlinewidth\": 0, \"ticks\": \"\"}, \"colorscale\": [[0.0, \"#0d0887\"], [0.1111111111111111, \"#46039f\"], [0.2222222222222222, \"#7201a8\"], [0.3333333333333333, \"#9c179e\"], [0.4444444444444444, \"#bd3786\"], [0.5555555555555556, \"#d8576b\"], [0.6666666666666666, \"#ed7953\"], [0.7777777777777778, \"#fb9f3a\"], [0.8888888888888888, \"#fdca26\"], [1.0, \"#f0f921\"]], \"type\": \"heatmap\"}], \"heatmapgl\": [{\"colorbar\": {\"outlinewidth\": 0, \"ticks\": \"\"}, \"colorscale\": [[0.0, \"#0d0887\"], [0.1111111111111111, \"#46039f\"], [0.2222222222222222, \"#7201a8\"], [0.3333333333333333, \"#9c179e\"], [0.4444444444444444, \"#bd3786\"], [0.5555555555555556, \"#d8576b\"], [0.6666666666666666, \"#ed7953\"], [0.7777777777777778, \"#fb9f3a\"], [0.8888888888888888, \"#fdca26\"], [1.0, \"#f0f921\"]], \"type\": \"heatmapgl\"}], \"histogram\": [{\"marker\": {\"colorbar\": {\"outlinewidth\": 0, \"ticks\": \"\"}}, \"type\": \"histogram\"}], \"histogram2d\": [{\"colorbar\": {\"outlinewidth\": 0, \"ticks\": \"\"}, \"colorscale\": [[0.0, \"#0d0887\"], [0.1111111111111111, \"#46039f\"], [0.2222222222222222, \"#7201a8\"], [0.3333333333333333, \"#9c179e\"], [0.4444444444444444, \"#bd3786\"], [0.5555555555555556, \"#d8576b\"], [0.6666666666666666, \"#ed7953\"], [0.7777777777777778, \"#fb9f3a\"], [0.8888888888888888, \"#fdca26\"], [1.0, \"#f0f921\"]], \"type\": \"histogram2d\"}], \"histogram2dcontour\": [{\"colorbar\": {\"outlinewidth\": 0, \"ticks\": \"\"}, \"colorscale\": [[0.0, \"#0d0887\"], [0.1111111111111111, \"#46039f\"], [0.2222222222222222, \"#7201a8\"], [0.3333333333333333, \"#9c179e\"], [0.4444444444444444, \"#bd3786\"], [0.5555555555555556, \"#d8576b\"], [0.6666666666666666, \"#ed7953\"], [0.7777777777777778, \"#fb9f3a\"], [0.8888888888888888, \"#fdca26\"], [1.0, \"#f0f921\"]], \"type\": \"histogram2dcontour\"}], \"mesh3d\": [{\"colorbar\": {\"outlinewidth\": 0, \"ticks\": \"\"}, \"type\": \"mesh3d\"}], \"parcoords\": [{\"line\": {\"colorbar\": {\"outlinewidth\": 0, \"ticks\": \"\"}}, \"type\": \"parcoords\"}], \"pie\": [{\"automargin\": true, \"type\": \"pie\"}], \"scatter\": [{\"marker\": {\"colorbar\": {\"outlinewidth\": 0, \"ticks\": \"\"}}, \"type\": \"scatter\"}], \"scatter3d\": [{\"line\": {\"colorbar\": {\"outlinewidth\": 0, \"ticks\": \"\"}}, \"marker\": {\"colorbar\": {\"outlinewidth\": 0, \"ticks\": \"\"}}, \"type\": \"scatter3d\"}], \"scattercarpet\": [{\"marker\": {\"colorbar\": {\"outlinewidth\": 0, \"ticks\": \"\"}}, \"type\": \"scattercarpet\"}], \"scattergeo\": [{\"marker\": {\"colorbar\": {\"outlinewidth\": 0, \"ticks\": \"\"}}, \"type\": \"scattergeo\"}], \"scattergl\": [{\"marker\": {\"colorbar\": {\"outlinewidth\": 0, \"ticks\": \"\"}}, \"type\": \"scattergl\"}], \"scattermapbox\": [{\"marker\": {\"colorbar\": {\"outlinewidth\": 0, \"ticks\": \"\"}}, \"type\": \"scattermapbox\"}], \"scatterpolar\": [{\"marker\": {\"colorbar\": {\"outlinewidth\": 0, \"ticks\": \"\"}}, \"type\": \"scatterpolar\"}], \"scatterpolargl\": [{\"marker\": {\"colorbar\": {\"outlinewidth\": 0, \"ticks\": \"\"}}, \"type\": \"scatterpolargl\"}], \"scatterternary\": [{\"marker\": {\"colorbar\": {\"outlinewidth\": 0, \"ticks\": \"\"}}, \"type\": \"scatterternary\"}], \"surface\": [{\"colorbar\": {\"outlinewidth\": 0, \"ticks\": \"\"}, \"colorscale\": [[0.0, \"#0d0887\"], [0.1111111111111111, \"#46039f\"], [0.2222222222222222, \"#7201a8\"], [0.3333333333333333, \"#9c179e\"], [0.4444444444444444, \"#bd3786\"], [0.5555555555555556, \"#d8576b\"], [0.6666666666666666, \"#ed7953\"], [0.7777777777777778, \"#fb9f3a\"], [0.8888888888888888, \"#fdca26\"], [1.0, \"#f0f921\"]], \"type\": \"surface\"}], \"table\": [{\"cells\": {\"fill\": {\"color\": \"#EBF0F8\"}, \"line\": {\"color\": \"white\"}}, \"header\": {\"fill\": {\"color\": \"#C8D4E3\"}, \"line\": {\"color\": \"white\"}}, \"type\": \"table\"}]}, \"layout\": {\"annotationdefaults\": {\"arrowcolor\": \"#2a3f5f\", \"arrowhead\": 0, \"arrowwidth\": 1}, \"coloraxis\": {\"colorbar\": {\"outlinewidth\": 0, \"ticks\": \"\"}}, \"colorscale\": {\"diverging\": [[0, \"#8e0152\"], [0.1, \"#c51b7d\"], [0.2, \"#de77ae\"], [0.3, \"#f1b6da\"], [0.4, \"#fde0ef\"], [0.5, \"#f7f7f7\"], [0.6, \"#e6f5d0\"], [0.7, \"#b8e186\"], [0.8, \"#7fbc41\"], [0.9, \"#4d9221\"], [1, \"#276419\"]], \"sequential\": [[0.0, \"#0d0887\"], [0.1111111111111111, \"#46039f\"], [0.2222222222222222, \"#7201a8\"], [0.3333333333333333, \"#9c179e\"], [0.4444444444444444, \"#bd3786\"], [0.5555555555555556, \"#d8576b\"], [0.6666666666666666, \"#ed7953\"], [0.7777777777777778, \"#fb9f3a\"], [0.8888888888888888, \"#fdca26\"], [1.0, \"#f0f921\"]], \"sequentialminus\": [[0.0, \"#0d0887\"], [0.1111111111111111, \"#46039f\"], [0.2222222222222222, \"#7201a8\"], [0.3333333333333333, \"#9c179e\"], [0.4444444444444444, \"#bd3786\"], [0.5555555555555556, \"#d8576b\"], [0.6666666666666666, \"#ed7953\"], [0.7777777777777778, \"#fb9f3a\"], [0.8888888888888888, \"#fdca26\"], [1.0, \"#f0f921\"]]}, \"colorway\": [\"#636efa\", \"#EF553B\", \"#00cc96\", \"#ab63fa\", \"#FFA15A\", \"#19d3f3\", \"#FF6692\", \"#B6E880\", \"#FF97FF\", \"#FECB52\"], \"font\": {\"color\": \"#2a3f5f\"}, \"geo\": {\"bgcolor\": \"white\", \"lakecolor\": \"white\", \"landcolor\": \"#E5ECF6\", \"showlakes\": true, \"showland\": true, \"subunitcolor\": \"white\"}, \"hoverlabel\": {\"align\": \"left\"}, \"hovermode\": \"closest\", \"mapbox\": {\"style\": \"light\"}, \"paper_bgcolor\": \"white\", \"plot_bgcolor\": \"#E5ECF6\", \"polar\": {\"angularaxis\": {\"gridcolor\": \"white\", \"linecolor\": \"white\", \"ticks\": \"\"}, \"bgcolor\": \"#E5ECF6\", \"radialaxis\": {\"gridcolor\": \"white\", \"linecolor\": \"white\", \"ticks\": \"\"}}, \"scene\": {\"xaxis\": {\"backgroundcolor\": \"#E5ECF6\", \"gridcolor\": \"white\", \"gridwidth\": 2, \"linecolor\": \"white\", \"showbackground\": true, \"ticks\": \"\", \"zerolinecolor\": \"white\"}, \"yaxis\": {\"backgroundcolor\": \"#E5ECF6\", \"gridcolor\": \"white\", \"gridwidth\": 2, \"linecolor\": \"white\", \"showbackground\": true, \"ticks\": \"\", \"zerolinecolor\": \"white\"}, \"zaxis\": {\"backgroundcolor\": \"#E5ECF6\", \"gridcolor\": \"white\", \"gridwidth\": 2, \"linecolor\": \"white\", \"showbackground\": true, \"ticks\": \"\", \"zerolinecolor\": \"white\"}}, \"shapedefaults\": {\"line\": {\"color\": \"#2a3f5f\"}}, \"ternary\": {\"aaxis\": {\"gridcolor\": \"white\", \"linecolor\": \"white\", \"ticks\": \"\"}, \"baxis\": {\"gridcolor\": \"white\", \"linecolor\": \"white\", \"ticks\": \"\"}, \"bgcolor\": \"#E5ECF6\", \"caxis\": {\"gridcolor\": \"white\", \"linecolor\": \"white\", \"ticks\": \"\"}}, \"title\": {\"x\": 0.05}, \"xaxis\": {\"automargin\": true, \"gridcolor\": \"white\", \"linecolor\": \"white\", \"ticks\": \"\", \"title\": {\"standoff\": 15}, \"zerolinecolor\": \"white\", \"zerolinewidth\": 2}, \"yaxis\": {\"automargin\": true, \"gridcolor\": \"white\", \"linecolor\": \"white\", \"ticks\": \"\", \"title\": {\"standoff\": 15}, \"zerolinecolor\": \"white\", \"zerolinewidth\": 2}}}, \"width\": 800, \"xaxis\": {\"anchor\": \"y\", \"domain\": [0.0, 1.0]}, \"yaxis\": {\"anchor\": \"x\", \"domain\": [0.0, 1.0], \"title\": {\"text\": \"alcool\"}}},\n",
       "                        {\"responsive\": true}\n",
       "                    ).then(function(){\n",
       "                            \n",
       "var gd = document.getElementById('de080d78-f4af-42ed-a0ba-dc8a799631e9');\n",
       "var x = new MutationObserver(function (mutations, observer) {{\n",
       "        var display = window.getComputedStyle(gd).display;\n",
       "        if (!display || display === 'none') {{\n",
       "            console.log([gd, 'removed!']);\n",
       "            Plotly.purge(gd);\n",
       "            observer.disconnect();\n",
       "        }}\n",
       "}});\n",
       "\n",
       "// Listen for the removal of the full notebook cells\n",
       "var notebookContainer = gd.closest('#notebook-container');\n",
       "if (notebookContainer) {{\n",
       "    x.observe(notebookContainer, {childList: true});\n",
       "}}\n",
       "\n",
       "// Listen for the clearing of the current output cell\n",
       "var outputEl = gd.closest('.output');\n",
       "if (outputEl) {{\n",
       "    x.observe(outputEl, {childList: true});\n",
       "}}\n",
       "\n",
       "                        })\n",
       "                };\n",
       "                });\n",
       "            </script>\n",
       "        </div>"
      ]
     },
     "metadata": {},
     "output_type": "display_data"
    }
   ],
   "source": [
    "import plotly.express as px\n",
    "fig = px.box(df, y='alcool')\n",
    "fig.update_layout( width=800,height=800)\n",
    "fig.show()"
   ]
  },
  {
   "cell_type": "code",
   "execution_count": 37,
   "metadata": {},
   "outputs": [
    {
     "data": {
      "text/html": [
       "<div>\n",
       "<style scoped>\n",
       "    .dataframe tbody tr th:only-of-type {\n",
       "        vertical-align: middle;\n",
       "    }\n",
       "\n",
       "    .dataframe tbody tr th {\n",
       "        vertical-align: top;\n",
       "    }\n",
       "\n",
       "    .dataframe thead th {\n",
       "        text-align: right;\n",
       "    }\n",
       "</style>\n",
       "<table border=\"1\" class=\"dataframe\">\n",
       "  <thead>\n",
       "    <tr style=\"text-align: right;\">\n",
       "      <th></th>\n",
       "      <th>alcool</th>\n",
       "      <th>acido_malico</th>\n",
       "      <th>cinza</th>\n",
       "      <th>alcalinidade_cinzas</th>\n",
       "      <th>magnesio</th>\n",
       "      <th>feois_totais</th>\n",
       "      <th>flavanóides</th>\n",
       "      <th>fenois_nao_flavanoides</th>\n",
       "      <th>proantocianinas</th>\n",
       "      <th>intensidade_da_cor</th>\n",
       "      <th>matiz</th>\n",
       "      <th>OD280-OD315_de_vinhos_diluídos</th>\n",
       "      <th>proline</th>\n",
       "      <th>classe</th>\n",
       "      <th>desc_classes</th>\n",
       "    </tr>\n",
       "  </thead>\n",
       "  <tbody>\n",
       "    <tr>\n",
       "      <th>158</th>\n",
       "      <td>14.34</td>\n",
       "      <td>1.68</td>\n",
       "      <td>2.70</td>\n",
       "      <td>25.0</td>\n",
       "      <td>98.0</td>\n",
       "      <td>2.80</td>\n",
       "      <td>1.31</td>\n",
       "      <td>0.53</td>\n",
       "      <td>2.70</td>\n",
       "      <td>13.000000</td>\n",
       "      <td>0.57</td>\n",
       "      <td>1.96</td>\n",
       "      <td>660.0</td>\n",
       "      <td>2</td>\n",
       "      <td>Classe 2</td>\n",
       "    </tr>\n",
       "    <tr>\n",
       "      <th>159</th>\n",
       "      <td>13.48</td>\n",
       "      <td>1.67</td>\n",
       "      <td>2.64</td>\n",
       "      <td>22.5</td>\n",
       "      <td>89.0</td>\n",
       "      <td>2.60</td>\n",
       "      <td>1.10</td>\n",
       "      <td>0.52</td>\n",
       "      <td>2.29</td>\n",
       "      <td>11.750000</td>\n",
       "      <td>0.57</td>\n",
       "      <td>1.78</td>\n",
       "      <td>620.0</td>\n",
       "      <td>2</td>\n",
       "      <td>Classe 2</td>\n",
       "    </tr>\n",
       "    <tr>\n",
       "      <th>160</th>\n",
       "      <td>12.36</td>\n",
       "      <td>3.83</td>\n",
       "      <td>2.38</td>\n",
       "      <td>21.0</td>\n",
       "      <td>88.0</td>\n",
       "      <td>2.30</td>\n",
       "      <td>0.92</td>\n",
       "      <td>0.50</td>\n",
       "      <td>1.04</td>\n",
       "      <td>7.650000</td>\n",
       "      <td>0.56</td>\n",
       "      <td>1.58</td>\n",
       "      <td>520.0</td>\n",
       "      <td>2</td>\n",
       "      <td>Classe 2</td>\n",
       "    </tr>\n",
       "    <tr>\n",
       "      <th>161</th>\n",
       "      <td>13.69</td>\n",
       "      <td>3.26</td>\n",
       "      <td>2.54</td>\n",
       "      <td>20.0</td>\n",
       "      <td>107.0</td>\n",
       "      <td>1.83</td>\n",
       "      <td>0.56</td>\n",
       "      <td>0.50</td>\n",
       "      <td>0.80</td>\n",
       "      <td>5.880000</td>\n",
       "      <td>0.96</td>\n",
       "      <td>1.82</td>\n",
       "      <td>680.0</td>\n",
       "      <td>2</td>\n",
       "      <td>Classe 2</td>\n",
       "    </tr>\n",
       "    <tr>\n",
       "      <th>162</th>\n",
       "      <td>12.85</td>\n",
       "      <td>3.27</td>\n",
       "      <td>2.58</td>\n",
       "      <td>22.0</td>\n",
       "      <td>106.0</td>\n",
       "      <td>1.65</td>\n",
       "      <td>0.60</td>\n",
       "      <td>0.60</td>\n",
       "      <td>0.96</td>\n",
       "      <td>5.580000</td>\n",
       "      <td>0.87</td>\n",
       "      <td>2.11</td>\n",
       "      <td>570.0</td>\n",
       "      <td>2</td>\n",
       "      <td>Classe 2</td>\n",
       "    </tr>\n",
       "    <tr>\n",
       "      <th>163</th>\n",
       "      <td>12.96</td>\n",
       "      <td>3.45</td>\n",
       "      <td>2.35</td>\n",
       "      <td>18.5</td>\n",
       "      <td>106.0</td>\n",
       "      <td>1.39</td>\n",
       "      <td>0.70</td>\n",
       "      <td>0.40</td>\n",
       "      <td>0.94</td>\n",
       "      <td>5.280000</td>\n",
       "      <td>0.68</td>\n",
       "      <td>1.75</td>\n",
       "      <td>675.0</td>\n",
       "      <td>2</td>\n",
       "      <td>Classe 2</td>\n",
       "    </tr>\n",
       "    <tr>\n",
       "      <th>164</th>\n",
       "      <td>13.78</td>\n",
       "      <td>2.76</td>\n",
       "      <td>2.30</td>\n",
       "      <td>22.0</td>\n",
       "      <td>90.0</td>\n",
       "      <td>1.35</td>\n",
       "      <td>0.68</td>\n",
       "      <td>0.41</td>\n",
       "      <td>1.03</td>\n",
       "      <td>9.580000</td>\n",
       "      <td>0.70</td>\n",
       "      <td>1.68</td>\n",
       "      <td>615.0</td>\n",
       "      <td>2</td>\n",
       "      <td>Classe 2</td>\n",
       "    </tr>\n",
       "    <tr>\n",
       "      <th>165</th>\n",
       "      <td>13.73</td>\n",
       "      <td>4.36</td>\n",
       "      <td>2.26</td>\n",
       "      <td>22.5</td>\n",
       "      <td>88.0</td>\n",
       "      <td>1.28</td>\n",
       "      <td>0.47</td>\n",
       "      <td>0.52</td>\n",
       "      <td>1.15</td>\n",
       "      <td>6.620000</td>\n",
       "      <td>0.78</td>\n",
       "      <td>1.75</td>\n",
       "      <td>520.0</td>\n",
       "      <td>2</td>\n",
       "      <td>Classe 2</td>\n",
       "    </tr>\n",
       "    <tr>\n",
       "      <th>166</th>\n",
       "      <td>13.45</td>\n",
       "      <td>3.70</td>\n",
       "      <td>2.60</td>\n",
       "      <td>23.0</td>\n",
       "      <td>111.0</td>\n",
       "      <td>1.70</td>\n",
       "      <td>0.92</td>\n",
       "      <td>0.43</td>\n",
       "      <td>1.46</td>\n",
       "      <td>10.680000</td>\n",
       "      <td>0.85</td>\n",
       "      <td>1.56</td>\n",
       "      <td>695.0</td>\n",
       "      <td>2</td>\n",
       "      <td>Classe 2</td>\n",
       "    </tr>\n",
       "    <tr>\n",
       "      <th>167</th>\n",
       "      <td>12.82</td>\n",
       "      <td>3.37</td>\n",
       "      <td>2.30</td>\n",
       "      <td>19.5</td>\n",
       "      <td>88.0</td>\n",
       "      <td>1.48</td>\n",
       "      <td>0.66</td>\n",
       "      <td>0.40</td>\n",
       "      <td>0.97</td>\n",
       "      <td>10.260000</td>\n",
       "      <td>0.72</td>\n",
       "      <td>1.75</td>\n",
       "      <td>685.0</td>\n",
       "      <td>2</td>\n",
       "      <td>Classe 2</td>\n",
       "    </tr>\n",
       "    <tr>\n",
       "      <th>168</th>\n",
       "      <td>13.58</td>\n",
       "      <td>2.58</td>\n",
       "      <td>2.69</td>\n",
       "      <td>24.5</td>\n",
       "      <td>105.0</td>\n",
       "      <td>1.55</td>\n",
       "      <td>0.84</td>\n",
       "      <td>0.39</td>\n",
       "      <td>1.54</td>\n",
       "      <td>8.660000</td>\n",
       "      <td>0.74</td>\n",
       "      <td>1.80</td>\n",
       "      <td>750.0</td>\n",
       "      <td>2</td>\n",
       "      <td>Classe 2</td>\n",
       "    </tr>\n",
       "    <tr>\n",
       "      <th>169</th>\n",
       "      <td>13.40</td>\n",
       "      <td>4.60</td>\n",
       "      <td>2.86</td>\n",
       "      <td>25.0</td>\n",
       "      <td>112.0</td>\n",
       "      <td>1.98</td>\n",
       "      <td>0.96</td>\n",
       "      <td>0.27</td>\n",
       "      <td>1.11</td>\n",
       "      <td>8.500000</td>\n",
       "      <td>0.67</td>\n",
       "      <td>1.92</td>\n",
       "      <td>630.0</td>\n",
       "      <td>2</td>\n",
       "      <td>Classe 2</td>\n",
       "    </tr>\n",
       "    <tr>\n",
       "      <th>170</th>\n",
       "      <td>12.20</td>\n",
       "      <td>3.03</td>\n",
       "      <td>2.32</td>\n",
       "      <td>19.0</td>\n",
       "      <td>96.0</td>\n",
       "      <td>1.25</td>\n",
       "      <td>0.49</td>\n",
       "      <td>0.40</td>\n",
       "      <td>0.73</td>\n",
       "      <td>5.500000</td>\n",
       "      <td>0.66</td>\n",
       "      <td>1.83</td>\n",
       "      <td>510.0</td>\n",
       "      <td>2</td>\n",
       "      <td>Classe 2</td>\n",
       "    </tr>\n",
       "    <tr>\n",
       "      <th>171</th>\n",
       "      <td>12.77</td>\n",
       "      <td>2.39</td>\n",
       "      <td>2.28</td>\n",
       "      <td>19.5</td>\n",
       "      <td>86.0</td>\n",
       "      <td>1.39</td>\n",
       "      <td>0.51</td>\n",
       "      <td>0.48</td>\n",
       "      <td>0.64</td>\n",
       "      <td>9.899999</td>\n",
       "      <td>0.57</td>\n",
       "      <td>1.63</td>\n",
       "      <td>470.0</td>\n",
       "      <td>2</td>\n",
       "      <td>Classe 2</td>\n",
       "    </tr>\n",
       "    <tr>\n",
       "      <th>172</th>\n",
       "      <td>14.16</td>\n",
       "      <td>2.51</td>\n",
       "      <td>2.48</td>\n",
       "      <td>20.0</td>\n",
       "      <td>91.0</td>\n",
       "      <td>1.68</td>\n",
       "      <td>0.70</td>\n",
       "      <td>0.44</td>\n",
       "      <td>1.24</td>\n",
       "      <td>9.700000</td>\n",
       "      <td>0.62</td>\n",
       "      <td>1.71</td>\n",
       "      <td>660.0</td>\n",
       "      <td>2</td>\n",
       "      <td>Classe 2</td>\n",
       "    </tr>\n",
       "    <tr>\n",
       "      <th>173</th>\n",
       "      <td>13.71</td>\n",
       "      <td>5.65</td>\n",
       "      <td>2.45</td>\n",
       "      <td>20.5</td>\n",
       "      <td>95.0</td>\n",
       "      <td>1.68</td>\n",
       "      <td>0.61</td>\n",
       "      <td>0.52</td>\n",
       "      <td>1.06</td>\n",
       "      <td>7.700000</td>\n",
       "      <td>0.64</td>\n",
       "      <td>1.74</td>\n",
       "      <td>740.0</td>\n",
       "      <td>2</td>\n",
       "      <td>Classe 2</td>\n",
       "    </tr>\n",
       "    <tr>\n",
       "      <th>174</th>\n",
       "      <td>13.40</td>\n",
       "      <td>3.91</td>\n",
       "      <td>2.48</td>\n",
       "      <td>23.0</td>\n",
       "      <td>102.0</td>\n",
       "      <td>1.80</td>\n",
       "      <td>0.75</td>\n",
       "      <td>0.43</td>\n",
       "      <td>1.41</td>\n",
       "      <td>7.300000</td>\n",
       "      <td>0.70</td>\n",
       "      <td>1.56</td>\n",
       "      <td>750.0</td>\n",
       "      <td>2</td>\n",
       "      <td>Classe 2</td>\n",
       "    </tr>\n",
       "    <tr>\n",
       "      <th>175</th>\n",
       "      <td>13.27</td>\n",
       "      <td>4.28</td>\n",
       "      <td>2.26</td>\n",
       "      <td>20.0</td>\n",
       "      <td>120.0</td>\n",
       "      <td>1.59</td>\n",
       "      <td>0.69</td>\n",
       "      <td>0.43</td>\n",
       "      <td>1.35</td>\n",
       "      <td>10.200000</td>\n",
       "      <td>0.59</td>\n",
       "      <td>1.56</td>\n",
       "      <td>835.0</td>\n",
       "      <td>2</td>\n",
       "      <td>Classe 2</td>\n",
       "    </tr>\n",
       "    <tr>\n",
       "      <th>176</th>\n",
       "      <td>13.17</td>\n",
       "      <td>2.59</td>\n",
       "      <td>2.37</td>\n",
       "      <td>20.0</td>\n",
       "      <td>120.0</td>\n",
       "      <td>1.65</td>\n",
       "      <td>0.68</td>\n",
       "      <td>0.53</td>\n",
       "      <td>1.46</td>\n",
       "      <td>9.300000</td>\n",
       "      <td>0.60</td>\n",
       "      <td>1.62</td>\n",
       "      <td>840.0</td>\n",
       "      <td>2</td>\n",
       "      <td>Classe 2</td>\n",
       "    </tr>\n",
       "    <tr>\n",
       "      <th>177</th>\n",
       "      <td>14.13</td>\n",
       "      <td>4.10</td>\n",
       "      <td>2.74</td>\n",
       "      <td>24.5</td>\n",
       "      <td>96.0</td>\n",
       "      <td>2.05</td>\n",
       "      <td>0.76</td>\n",
       "      <td>0.56</td>\n",
       "      <td>1.35</td>\n",
       "      <td>9.200000</td>\n",
       "      <td>0.61</td>\n",
       "      <td>1.60</td>\n",
       "      <td>560.0</td>\n",
       "      <td>2</td>\n",
       "      <td>Classe 2</td>\n",
       "    </tr>\n",
       "  </tbody>\n",
       "</table>\n",
       "</div>"
      ],
      "text/plain": [
       "     alcool  acido_malico  cinza  alcalinidade_cinzas  magnesio  feois_totais  \\\n",
       "158   14.34          1.68   2.70                 25.0      98.0          2.80   \n",
       "159   13.48          1.67   2.64                 22.5      89.0          2.60   \n",
       "160   12.36          3.83   2.38                 21.0      88.0          2.30   \n",
       "161   13.69          3.26   2.54                 20.0     107.0          1.83   \n",
       "162   12.85          3.27   2.58                 22.0     106.0          1.65   \n",
       "163   12.96          3.45   2.35                 18.5     106.0          1.39   \n",
       "164   13.78          2.76   2.30                 22.0      90.0          1.35   \n",
       "165   13.73          4.36   2.26                 22.5      88.0          1.28   \n",
       "166   13.45          3.70   2.60                 23.0     111.0          1.70   \n",
       "167   12.82          3.37   2.30                 19.5      88.0          1.48   \n",
       "168   13.58          2.58   2.69                 24.5     105.0          1.55   \n",
       "169   13.40          4.60   2.86                 25.0     112.0          1.98   \n",
       "170   12.20          3.03   2.32                 19.0      96.0          1.25   \n",
       "171   12.77          2.39   2.28                 19.5      86.0          1.39   \n",
       "172   14.16          2.51   2.48                 20.0      91.0          1.68   \n",
       "173   13.71          5.65   2.45                 20.5      95.0          1.68   \n",
       "174   13.40          3.91   2.48                 23.0     102.0          1.80   \n",
       "175   13.27          4.28   2.26                 20.0     120.0          1.59   \n",
       "176   13.17          2.59   2.37                 20.0     120.0          1.65   \n",
       "177   14.13          4.10   2.74                 24.5      96.0          2.05   \n",
       "\n",
       "     flavanóides  fenois_nao_flavanoides  proantocianinas  intensidade_da_cor  \\\n",
       "158         1.31                    0.53             2.70           13.000000   \n",
       "159         1.10                    0.52             2.29           11.750000   \n",
       "160         0.92                    0.50             1.04            7.650000   \n",
       "161         0.56                    0.50             0.80            5.880000   \n",
       "162         0.60                    0.60             0.96            5.580000   \n",
       "163         0.70                    0.40             0.94            5.280000   \n",
       "164         0.68                    0.41             1.03            9.580000   \n",
       "165         0.47                    0.52             1.15            6.620000   \n",
       "166         0.92                    0.43             1.46           10.680000   \n",
       "167         0.66                    0.40             0.97           10.260000   \n",
       "168         0.84                    0.39             1.54            8.660000   \n",
       "169         0.96                    0.27             1.11            8.500000   \n",
       "170         0.49                    0.40             0.73            5.500000   \n",
       "171         0.51                    0.48             0.64            9.899999   \n",
       "172         0.70                    0.44             1.24            9.700000   \n",
       "173         0.61                    0.52             1.06            7.700000   \n",
       "174         0.75                    0.43             1.41            7.300000   \n",
       "175         0.69                    0.43             1.35           10.200000   \n",
       "176         0.68                    0.53             1.46            9.300000   \n",
       "177         0.76                    0.56             1.35            9.200000   \n",
       "\n",
       "     matiz  OD280-OD315_de_vinhos_diluídos  proline  classe desc_classes  \n",
       "158   0.57                            1.96    660.0       2     Classe 2  \n",
       "159   0.57                            1.78    620.0       2     Classe 2  \n",
       "160   0.56                            1.58    520.0       2     Classe 2  \n",
       "161   0.96                            1.82    680.0       2     Classe 2  \n",
       "162   0.87                            2.11    570.0       2     Classe 2  \n",
       "163   0.68                            1.75    675.0       2     Classe 2  \n",
       "164   0.70                            1.68    615.0       2     Classe 2  \n",
       "165   0.78                            1.75    520.0       2     Classe 2  \n",
       "166   0.85                            1.56    695.0       2     Classe 2  \n",
       "167   0.72                            1.75    685.0       2     Classe 2  \n",
       "168   0.74                            1.80    750.0       2     Classe 2  \n",
       "169   0.67                            1.92    630.0       2     Classe 2  \n",
       "170   0.66                            1.83    510.0       2     Classe 2  \n",
       "171   0.57                            1.63    470.0       2     Classe 2  \n",
       "172   0.62                            1.71    660.0       2     Classe 2  \n",
       "173   0.64                            1.74    740.0       2     Classe 2  \n",
       "174   0.70                            1.56    750.0       2     Classe 2  \n",
       "175   0.59                            1.56    835.0       2     Classe 2  \n",
       "176   0.60                            1.62    840.0       2     Classe 2  \n",
       "177   0.61                            1.60    560.0       2     Classe 2  "
      ]
     },
     "execution_count": 37,
     "metadata": {},
     "output_type": "execute_result"
    }
   ],
   "source": [
    "#Categorizando as classes\n",
    "desc_classes = []\n",
    "for i in df.classe.iteritems():\n",
    "  valor = (i[1])\n",
    "  if valor <= 0:\n",
    "    desc_classes.append('Classe 0')\n",
    "  elif valor <= 1:\n",
    "    desc_classes.append('Classe 1')\n",
    "  else:\n",
    "    desc_classes.append('Classe 2')\n",
    "df['desc_classes'] = desc_classes\n",
    "df.tail(20)"
   ]
  },
  {
   "cell_type": "code",
   "execution_count": 38,
   "metadata": {},
   "outputs": [
    {
     "data": {
      "text/plain": [
       "Classe 1    71\n",
       "Classe 0    59\n",
       "Classe 2    48\n",
       "Name: desc_classes, dtype: int64"
      ]
     },
     "execution_count": 38,
     "metadata": {},
     "output_type": "execute_result"
    }
   ],
   "source": [
    "df.desc_classes.value_counts()"
   ]
  },
  {
   "cell_type": "code",
   "execution_count": 49,
   "metadata": {},
   "outputs": [
    {
     "data": {
      "text/plain": [
       "desc_classes\n",
       "Classe 0    59\n",
       "Classe 1    71\n",
       "Classe 2    48\n",
       "Name: alcool, dtype: int64"
      ]
     },
     "execution_count": 49,
     "metadata": {},
     "output_type": "execute_result"
    }
   ],
   "source": [
    "df.groupby(by='desc_classes')['alcool'].count()"
   ]
  },
  {
   "cell_type": "code",
   "execution_count": null,
   "metadata": {},
   "outputs": [],
   "source": []
  },
  {
   "cell_type": "code",
   "execution_count": null,
   "metadata": {},
   "outputs": [],
   "source": []
  },
  {
   "cell_type": "code",
   "execution_count": 14,
   "metadata": {},
   "outputs": [
    {
     "name": "stdout",
     "output_type": "stream",
     "text": [
      "['class_0' 'class_1' 'class_2']\n"
     ]
    }
   ],
   "source": [
    "print(vinhos.target_names)"
   ]
  },
  {
   "cell_type": "code",
   "execution_count": null,
   "metadata": {},
   "outputs": [],
   "source": []
  }
 ],
 "metadata": {
  "kernelspec": {
   "display_name": "Python 3",
   "language": "python",
   "name": "python3"
  },
  "language_info": {
   "codemirror_mode": {
    "name": "ipython",
    "version": 3
   },
   "file_extension": ".py",
   "mimetype": "text/x-python",
   "name": "python",
   "nbconvert_exporter": "python",
   "pygments_lexer": "ipython3",
   "version": "3.8.5"
  }
 },
 "nbformat": 4,
 "nbformat_minor": 4
}
