{
 "cells": [
  {
   "cell_type": "code",
   "execution_count": null,
   "metadata": {},
   "outputs": [],
   "source": []
  },
  {
   "cell_type": "code",
   "execution_count": 1,
   "metadata": {},
   "outputs": [
    {
     "name": "stdout",
     "output_type": "stream",
     "text": [
      "now: 29/09/20\n",
      "7 dias atrás: 200922\n"
     ]
    }
   ],
   "source": [
    "import datetime\n",
    "\n",
    "date_now = datetime.datetime.now()\n",
    "seven_days_ago = date_now - datetime.timedelta(days=7)\n",
    "print('now:', date_now.strftime(\"%d/%m/%y\")) # 02/01/18\n",
    "print('7 dias atrás:', seven_days_ago.strftime(\"%y%m%d\")) # 26/12/17"
   ]
  },
  {
   "cell_type": "code",
   "execution_count": null,
   "metadata": {},
   "outputs": [],
   "source": []
  },
  {
   "cell_type": "code",
   "execution_count": 30,
   "metadata": {},
   "outputs": [
    {
     "name": "stdout",
     "output_type": "stream",
     "text": [
      "20200801\n"
     ]
    }
   ],
   "source": [
    "import datetime\n",
    "data_base = datetime.datetime(2020, 8, 1)\n",
    "print(data_base.strftime(\"%Y%m%d\"))"
   ]
  },
  {
   "cell_type": "code",
   "execution_count": 7,
   "metadata": {},
   "outputs": [],
   "source": [
    "def increment_month(d, add=1):\n",
    "    return datetime.date(d.year+(d.month+add-1)//12, (d.month+add-1) % 12+1, 1)"
   ]
  },
  {
   "cell_type": "code",
   "execution_count": 29,
   "metadata": {},
   "outputs": [
    {
     "name": "stdout",
     "output_type": "stream",
     "text": [
      "20200701\n",
      "20200601\n",
      "20200501\n",
      "20200401\n",
      "20200301\n",
      "20200201\n",
      "20200101\n",
      "20191201\n",
      "20191101\n",
      "20191001\n",
      "20190901\n",
      "20190801\n"
     ]
    }
   ],
   "source": [
    "for i in range (0, 12):\n",
    "    data_base = increment_month(data_base,-1)\n",
    "    print(data_base.strftime(\"%Y%m%d\"))"
   ]
  },
  {
   "cell_type": "code",
   "execution_count": 50,
   "metadata": {},
   "outputs": [
    {
     "name": "stdout",
     "output_type": "stream",
     "text": [
      "20200701\n",
      "20200601\n",
      "20200501\n",
      "20200401\n",
      "20200301\n",
      "20200201\n",
      "20200101\n",
      "20191201\n",
      "20191101\n",
      "20191001\n",
      "20190901\n",
      "20190801\n"
     ]
    }
   ],
   "source": [
    "import datetime\n",
    "import dateutil.relativedelta\n",
    "\n",
    "d =  datetime.datetime(2020, 8, 1)\n",
    "for i in range (0, 12):\n",
    "    d = d - dateutil.relativedelta.relativedelta(months=1)\n",
    "    print(d.strftime(\"%Y%m%d\"))\n"
   ]
  },
  {
   "cell_type": "code",
   "execution_count": null,
   "metadata": {},
   "outputs": [],
   "source": []
  }
 ],
 "metadata": {
  "kernelspec": {
   "display_name": "Python 3",
   "language": "python",
   "name": "python3"
  },
  "language_info": {
   "codemirror_mode": {
    "name": "ipython",
    "version": 3
   },
   "file_extension": ".py",
   "mimetype": "text/x-python",
   "name": "python",
   "nbconvert_exporter": "python",
   "pygments_lexer": "ipython3",
   "version": "3.8.5"
  }
 },
 "nbformat": 4,
 "nbformat_minor": 4
}
