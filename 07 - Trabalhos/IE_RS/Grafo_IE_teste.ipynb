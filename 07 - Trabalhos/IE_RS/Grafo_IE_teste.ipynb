{
 "cells": [
  {
   "cell_type": "code",
   "execution_count": 15,
   "metadata": {},
   "outputs": [],
   "source": [
    "import pandas as pd\n",
    "import numpy as np\n",
    "url = \"http://www.sefaz.rs.gov.br/ASP/Download/Sitagro/PPR_ATIVO.zip\""
   ]
  },
  {
   "cell_type": "code",
   "execution_count": 16,
   "metadata": {},
   "outputs": [],
   "source": [
    "header_list = ['Inscrição', 'Data Abertura', 'Categoria', 'CNAE_1', 'CNAE_2', 'CNAE_3', 'Tipo', 'CPF/CNPJ']\n",
    "tipos = {'Inscrição': str , 'Categoria': str, 'CNAE_1': str, 'CNAE_2': str, 'CNAE_3': str, 'Tipo': str, 'CPF/CNPJ': str}\n",
    "df = pd.read_csv(url, names=header_list, dtype=tipos , sep=\";\")"
   ]
  },
  {
   "cell_type": "markdown",
   "metadata": {},
   "source": [
    "1020723025\n",
    "96013693000398\n",
    "\n",
    "##### 5993431091 Muito bom"
   ]
  },
  {
   "cell_type": "code",
   "execution_count": 17,
   "metadata": {},
   "outputs": [],
   "source": [
    "#df_pesq = pd.DataFrame([], columns=['Inscrição', 'nivel'])\n",
    "#temp_1 = pd.DataFrame([], columns=['Inscrição', 'nivel'])\n",
    "#flag_nivel = 1\n"
   ]
  },
  {
   "cell_type": "code",
   "execution_count": 85,
   "metadata": {},
   "outputs": [],
   "source": [
    "max_nivel = 3"
   ]
  },
  {
   "cell_type": "code",
   "execution_count": 86,
   "metadata": {},
   "outputs": [],
   "source": [
    "#cliente = '1020723025'\n",
    "cliente = '96013693000398'\n",
    "#cliente = '5993431091'"
   ]
  },
  {
   "cell_type": "code",
   "execution_count": 87,
   "metadata": {},
   "outputs": [
    {
     "data": {
      "text/html": [
       "<div>\n",
       "<style scoped>\n",
       "    .dataframe tbody tr th:only-of-type {\n",
       "        vertical-align: middle;\n",
       "    }\n",
       "\n",
       "    .dataframe tbody tr th {\n",
       "        vertical-align: top;\n",
       "    }\n",
       "\n",
       "    .dataframe thead th {\n",
       "        text-align: right;\n",
       "    }\n",
       "</style>\n",
       "<table border=\"1\" class=\"dataframe\">\n",
       "  <thead>\n",
       "    <tr style=\"text-align: right;\">\n",
       "      <th></th>\n",
       "      <th>CPF/CNPJ</th>\n",
       "      <th>nivel</th>\n",
       "    </tr>\n",
       "  </thead>\n",
       "  <tbody>\n",
       "    <tr>\n",
       "      <th>0</th>\n",
       "      <td>96013693000398</td>\n",
       "      <td>0</td>\n",
       "    </tr>\n",
       "  </tbody>\n",
       "</table>\n",
       "</div>"
      ],
      "text/plain": [
       "         CPF/CNPJ  nivel\n",
       "0  96013693000398      0"
      ]
     },
     "execution_count": 87,
     "metadata": {},
     "output_type": "execute_result"
    }
   ],
   "source": [
    "pessoas  = pd.DataFrame([], columns=['CPF/CNPJ'])\n",
    "pessoas.loc[0] = np.array([cliente.zfill(14)])\n",
    "pessoas['nivel'] = 0\n",
    "pessoas"
   ]
  },
  {
   "cell_type": "code",
   "execution_count": 88,
   "metadata": {},
   "outputs": [],
   "source": [
    "def Pesquisa_nos(pessoas):\n",
    "    for seq in range(max_nivel):\n",
    "        todas_inscroicoes_encontradas = df['Inscrição'][df['CPF/CNPJ'].isin(pessoas['CPF/CNPJ'][pessoas['nivel']== seq].unique())].drop_duplicates()\n",
    "        temp  = df[['CPF/CNPJ']][df['Inscrição'].isin(todas_inscroicoes_encontradas.drop_duplicates().values)]\n",
    "        seq +=1\n",
    "        temp['nivel'] = seq\n",
    "\n",
    "        a = temp.set_index('nivel')\n",
    "        b = pessoas.set_index('nivel')\n",
    "\n",
    "        pessoas = (a.combine_first(b)\n",
    "          .reset_index()\n",
    "          .reindex(columns=pessoas.columns))\n",
    "        pessoas.drop_duplicates(subset=['CPF/CNPJ'], keep='first', inplace=True)\n",
    "    return(pessoas)\n",
    "    "
   ]
  },
  {
   "cell_type": "code",
   "execution_count": 96,
   "metadata": {},
   "outputs": [
    {
     "data": {
      "text/html": [
       "<div>\n",
       "<style scoped>\n",
       "    .dataframe tbody tr th:only-of-type {\n",
       "        vertical-align: middle;\n",
       "    }\n",
       "\n",
       "    .dataframe tbody tr th {\n",
       "        vertical-align: top;\n",
       "    }\n",
       "\n",
       "    .dataframe thead th {\n",
       "        text-align: right;\n",
       "    }\n",
       "</style>\n",
       "<table border=\"1\" class=\"dataframe\">\n",
       "  <thead>\n",
       "    <tr style=\"text-align: right;\">\n",
       "      <th></th>\n",
       "      <th>CPF/CNPJ</th>\n",
       "      <th>nivel</th>\n",
       "    </tr>\n",
       "  </thead>\n",
       "  <tbody>\n",
       "    <tr>\n",
       "      <th>0</th>\n",
       "      <td>96013693000398</td>\n",
       "      <td>0</td>\n",
       "    </tr>\n",
       "    <tr>\n",
       "      <th>1</th>\n",
       "      <td>00000726109053</td>\n",
       "      <td>1</td>\n",
       "    </tr>\n",
       "    <tr>\n",
       "      <th>2</th>\n",
       "      <td>00040418308004</td>\n",
       "      <td>1</td>\n",
       "    </tr>\n",
       "    <tr>\n",
       "      <th>3</th>\n",
       "      <td>00062092367072</td>\n",
       "      <td>1</td>\n",
       "    </tr>\n",
       "    <tr>\n",
       "      <th>4</th>\n",
       "      <td>00032244118053</td>\n",
       "      <td>1</td>\n",
       "    </tr>\n",
       "    <tr>\n",
       "      <th>5</th>\n",
       "      <td>00041296605000</td>\n",
       "      <td>1</td>\n",
       "    </tr>\n",
       "    <tr>\n",
       "      <th>6</th>\n",
       "      <td>00046160051091</td>\n",
       "      <td>1</td>\n",
       "    </tr>\n",
       "    <tr>\n",
       "      <th>7</th>\n",
       "      <td>00039762602072</td>\n",
       "      <td>1</td>\n",
       "    </tr>\n",
       "    <tr>\n",
       "      <th>8</th>\n",
       "      <td>00055962238087</td>\n",
       "      <td>1</td>\n",
       "    </tr>\n",
       "    <tr>\n",
       "      <th>9</th>\n",
       "      <td>38033355000150</td>\n",
       "      <td>1</td>\n",
       "    </tr>\n",
       "    <tr>\n",
       "      <th>10</th>\n",
       "      <td>03969195000170</td>\n",
       "      <td>2</td>\n",
       "    </tr>\n",
       "    <tr>\n",
       "      <th>11</th>\n",
       "      <td>00020242530087</td>\n",
       "      <td>2</td>\n",
       "    </tr>\n",
       "    <tr>\n",
       "      <th>12</th>\n",
       "      <td>00005415306072</td>\n",
       "      <td>3</td>\n",
       "    </tr>\n",
       "    <tr>\n",
       "      <th>80</th>\n",
       "      <td>00043938531053</td>\n",
       "      <td>3</td>\n",
       "    </tr>\n",
       "    <tr>\n",
       "      <th>148</th>\n",
       "      <td>00047980940059</td>\n",
       "      <td>3</td>\n",
       "    </tr>\n",
       "    <tr>\n",
       "      <th>182</th>\n",
       "      <td>00026961024068</td>\n",
       "      <td>3</td>\n",
       "    </tr>\n",
       "    <tr>\n",
       "      <th>216</th>\n",
       "      <td>00058860940087</td>\n",
       "      <td>3</td>\n",
       "    </tr>\n",
       "    <tr>\n",
       "      <th>250</th>\n",
       "      <td>00019137168053</td>\n",
       "      <td>3</td>\n",
       "    </tr>\n",
       "    <tr>\n",
       "      <th>284</th>\n",
       "      <td>00028724143049</td>\n",
       "      <td>3</td>\n",
       "    </tr>\n",
       "    <tr>\n",
       "      <th>318</th>\n",
       "      <td>00005715482020</td>\n",
       "      <td>3</td>\n",
       "    </tr>\n",
       "    <tr>\n",
       "      <th>352</th>\n",
       "      <td>00005715490049</td>\n",
       "      <td>3</td>\n",
       "    </tr>\n",
       "    <tr>\n",
       "      <th>386</th>\n",
       "      <td>00020438672020</td>\n",
       "      <td>3</td>\n",
       "    </tr>\n",
       "    <tr>\n",
       "      <th>437</th>\n",
       "      <td>00043936784000</td>\n",
       "      <td>3</td>\n",
       "    </tr>\n",
       "    <tr>\n",
       "      <th>556</th>\n",
       "      <td>00032702361072</td>\n",
       "      <td>3</td>\n",
       "    </tr>\n",
       "    <tr>\n",
       "      <th>658</th>\n",
       "      <td>00059069767015</td>\n",
       "      <td>3</td>\n",
       "    </tr>\n",
       "    <tr>\n",
       "      <th>794</th>\n",
       "      <td>00003631071000</td>\n",
       "      <td>3</td>\n",
       "    </tr>\n",
       "    <tr>\n",
       "      <th>845</th>\n",
       "      <td>00002179642067</td>\n",
       "      <td>3</td>\n",
       "    </tr>\n",
       "    <tr>\n",
       "      <th>879</th>\n",
       "      <td>00082785961072</td>\n",
       "      <td>3</td>\n",
       "    </tr>\n",
       "    <tr>\n",
       "      <th>913</th>\n",
       "      <td>00003754938088</td>\n",
       "      <td>3</td>\n",
       "    </tr>\n",
       "  </tbody>\n",
       "</table>\n",
       "</div>"
      ],
      "text/plain": [
       "           CPF/CNPJ  nivel\n",
       "0    96013693000398      0\n",
       "1    00000726109053      1\n",
       "2    00040418308004      1\n",
       "3    00062092367072      1\n",
       "4    00032244118053      1\n",
       "5    00041296605000      1\n",
       "6    00046160051091      1\n",
       "7    00039762602072      1\n",
       "8    00055962238087      1\n",
       "9    38033355000150      1\n",
       "10   03969195000170      2\n",
       "11   00020242530087      2\n",
       "12   00005415306072      3\n",
       "80   00043938531053      3\n",
       "148  00047980940059      3\n",
       "182  00026961024068      3\n",
       "216  00058860940087      3\n",
       "250  00019137168053      3\n",
       "284  00028724143049      3\n",
       "318  00005715482020      3\n",
       "352  00005715490049      3\n",
       "386  00020438672020      3\n",
       "437  00043936784000      3\n",
       "556  00032702361072      3\n",
       "658  00059069767015      3\n",
       "794  00003631071000      3\n",
       "845  00002179642067      3\n",
       "879  00082785961072      3\n",
       "913  00003754938088      3"
      ]
     },
     "execution_count": 96,
     "metadata": {},
     "output_type": "execute_result"
    }
   ],
   "source": [
    "pessoas = Pesquisa_nos(pessoas)\n",
    "pessoas"
   ]
  },
  {
   "cell_type": "code",
   "execution_count": 90,
   "metadata": {},
   "outputs": [],
   "source": [
    "df_pesq = df[df['CPF/CNPJ'].isin(pessoas['CPF/CNPJ'].values)]"
   ]
  },
  {
   "cell_type": "code",
   "execution_count": 91,
   "metadata": {
    "tags": []
   },
   "outputs": [],
   "source": [
    "import networkx as nx\n",
    "import json\n",
    "from networkx.readwrite import json_graph"
   ]
  },
  {
   "cell_type": "code",
   "execution_count": 92,
   "metadata": {
    "tags": []
   },
   "outputs": [],
   "source": [
    "G = nx.DiGraph()"
   ]
  },
  {
   "cell_type": "code",
   "execution_count": 93,
   "metadata": {},
   "outputs": [],
   "source": [
    "for index, row in df_pesq.iterrows():\n",
    "    G.add_node(row['Inscrição'], name=row['Inscrição'], label=row['Categoria'] , type=\"IE\" , teste=123)\n",
    "    G.add_node(row['CPF/CNPJ'], name=row['CPF/CNPJ'], label=row['Categoria'] , type=row['Tipo'])\n",
    "for index, row in df_pesq.iterrows():\n",
    "    G.add_edge(row['Inscrição'], row['CPF/CNPJ'], type=\"\"  )"
   ]
  },
  {
   "cell_type": "code",
   "execution_count": 94,
   "metadata": {},
   "outputs": [],
   "source": [
    "import os\n",
    "import sys\n",
    "import subprocess\n",
    "path_output = \"folder\""
   ]
  },
  {
   "cell_type": "code",
   "execution_count": 95,
   "metadata": {},
   "outputs": [
    {
     "data": {
      "text/plain": [
       "<subprocess.Popen at 0x115cdcfc4a8>"
      ]
     },
     "execution_count": 95,
     "metadata": {},
     "output_type": "execute_result"
    }
   ],
   "source": [
    "if not os.path.exists(path_output):\n",
    "    os.mkdir(path_output)\n",
    "with open('viz/template.html', 'r', encoding='utf-8') as template:\n",
    "    str_html = template.read().replace('<!--GRAFO-->', json.dumps(json_graph.node_link_data(G)))\n",
    "\n",
    "path_html = os.path.join(path_output, 'grafo.html')\n",
    "with open(path_html, 'w', encoding='utf-8') as html:\n",
    "    html.write(str_html)\n",
    "\n",
    "#subprocess.Popen(['C:/Program Files (x86)/Google/Chrome/Application/chrome.exe', os.path.abspath(path_html)])\n",
    "\n",
    "subprocess.Popen(['C:\\Program Files (x86)\\Microsoft\\Edge\\Application\\msedge.exe', os.path.abspath(path_html)])"
   ]
  },
  {
   "cell_type": "code",
   "execution_count": null,
   "metadata": {},
   "outputs": [],
   "source": [
    "#nx.draw(G, with_labels=True)"
   ]
  },
  {
   "cell_type": "code",
   "execution_count": null,
   "metadata": {},
   "outputs": [],
   "source": [
    "#print(G.nodes()) \n",
    "#list(G.nodes(data=True))"
   ]
  },
  {
   "cell_type": "code",
   "execution_count": null,
   "metadata": {},
   "outputs": [],
   "source": [
    "#print(G.edges())\n",
    "#list(G.edges(data=True))"
   ]
  },
  {
   "cell_type": "code",
   "execution_count": null,
   "metadata": {},
   "outputs": [],
   "source": []
  },
  {
   "cell_type": "code",
   "execution_count": null,
   "metadata": {},
   "outputs": [],
   "source": []
  },
  {
   "cell_type": "code",
   "execution_count": null,
   "metadata": {},
   "outputs": [],
   "source": []
  },
  {
   "cell_type": "code",
   "execution_count": null,
   "metadata": {},
   "outputs": [],
   "source": [
    "del(G)"
   ]
  }
 ],
 "metadata": {
  "kernelspec": {
   "display_name": "Python 3",
   "language": "python",
   "name": "python3"
  },
  "language_info": {
   "codemirror_mode": {
    "name": "ipython",
    "version": 3
   },
   "file_extension": ".py",
   "mimetype": "text/x-python",
   "name": "python",
   "nbconvert_exporter": "python",
   "pygments_lexer": "ipython3",
   "version": "3.6.15"
  }
 },
 "nbformat": 4,
 "nbformat_minor": 4
}
