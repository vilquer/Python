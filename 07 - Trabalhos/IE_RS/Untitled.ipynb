{
 "cells": [
  {
   "cell_type": "code",
   "execution_count": 1,
   "metadata": {},
   "outputs": [],
   "source": [
    "import pandas as pd\n",
    "import numpy as np\n",
    "url = \"http://www.sefaz.rs.gov.br/ASP/Download/Sitagro/PPR_ATIVO.zip\""
   ]
  },
  {
   "cell_type": "code",
   "execution_count": 2,
   "metadata": {},
   "outputs": [],
   "source": [
    "header_list = ['Inscrição', 'Data Abertura', 'Categoria', 'CNAE_1', 'CNAE_2', 'CNAE_3', 'Tipo', 'CPF/CNPJ']\n",
    "tipos = {'Inscrição': str , 'Categoria': str, 'CNAE_1': str, 'CNAE_2': str, 'CNAE_3': str, 'Tipo': str, 'CPF/CNPJ': str}\n",
    "df = pd.read_csv(url, names=header_list, dtype=tipos , sep=\";\")"
   ]
  },
  {
   "cell_type": "markdown",
   "metadata": {},
   "source": [
    "1020723025\n",
    "96013693000398\n",
    "\n",
    "##### 5993431091 Muito bom"
   ]
  },
  {
   "cell_type": "code",
   "execution_count": 3,
   "metadata": {},
   "outputs": [],
   "source": [
    "temp = df['Inscrição'][df['CPF/CNPJ'] == '96035927068'.zfill(14)].reset_index(drop = True)\n",
    "nivel = 1"
   ]
  },
  {
   "cell_type": "code",
   "execution_count": 10,
   "metadata": {},
   "outputs": [
    {
     "name": "stdout",
     "output_type": "stream",
     "text": [
      "1\n",
      "1\n"
     ]
    }
   ],
   "source": [
    "df_pesq = pd.DataFrame()\n",
    "df_pesq = df[df['Inscrição'].isin(temp)]\n",
    "num_ie = np.count_nonzero(df_pesq['Inscrição'].unique())\n",
    "num_cpf = np.count_nonzero(df_pesq['CPF/CNPJ'].unique())\n",
    "flg_ie = 0\n",
    "flg_cpf = 0\n",
    "flg_nivel = 0\n",
    "while (num_ie != flg_ie) & (num_cpf != flg_cpf):\n",
    "    if flg_nivel == nivel:\n",
    "        break\n",
    "    num_ie = np.count_nonzero(df_pesq['Inscrição'].unique())\n",
    "    num_cpf = np.count_nonzero(df_pesq['CPF/CNPJ'].unique())\n",
    "    df_pesq = pd.merge(df_pesq, df[df['CPF/CNPJ'].isin(df_pesq['CPF/CNPJ'].values)], how='outer')\n",
    "    df_pesq = pd.merge(df_pesq, df[df['Inscrição'].isin(df_pesq['Inscrição'].values)], how='outer')\n",
    "    flg_ie = np.count_nonzero(df_pesq['Inscrição'].unique())\n",
    "    flg_cpf = np.count_nonzero(df_pesq['CPF/CNPJ'].unique())\n",
    "    if flg_nivel == nivel:\n",
    "        break\n",
    "    flg_nivel += 1\n",
    "    print(flg_nivel)\n",
    "    print(nivel)"
   ]
  },
  {
   "cell_type": "code",
   "execution_count": 1,
   "metadata": {},
   "outputs": [
    {
     "ename": "NameError",
     "evalue": "name 'df_pesq' is not defined",
     "output_type": "error",
     "traceback": [
      "\u001b[1;31m---------------------------------------------------------------------------\u001b[0m",
      "\u001b[1;31mNameError\u001b[0m                                 Traceback (most recent call last)",
      "\u001b[1;32m<ipython-input-1-3609f74bada4>\u001b[0m in \u001b[0;36m<module>\u001b[1;34m\u001b[0m\n\u001b[1;32m----> 1\u001b[1;33m \u001b[0mdf_pesq\u001b[0m\u001b[1;33m\u001b[0m\u001b[1;33m\u001b[0m\u001b[0m\n\u001b[0m",
      "\u001b[1;31mNameError\u001b[0m: name 'df_pesq' is not defined"
     ]
    }
   ],
   "source": [
    "df_pesq"
   ]
  },
  {
   "cell_type": "code",
   "execution_count": 11,
   "metadata": {},
   "outputs": [],
   "source": [
    "import networkx as nx\n",
    "import json\n",
    "from networkx.readwrite import json_graph"
   ]
  },
  {
   "cell_type": "code",
   "execution_count": 12,
   "metadata": {},
   "outputs": [],
   "source": [
    "G = nx.DiGraph()"
   ]
  },
  {
   "cell_type": "code",
   "execution_count": 13,
   "metadata": {},
   "outputs": [],
   "source": [
    "for index, row in df_pesq.iterrows():\n",
    "    G.add_node(row['Inscrição'], name=row['Inscrição'], label=\"\" , type=\"IE\" )\n",
    "    G.add_node(row['CPF/CNPJ'], name=row['CPF/CNPJ'], label=row['Categoria'] , type=row['Tipo'])\n",
    "for index, row in df_pesq.iterrows():\n",
    "    G.add_edge(row['Inscrição'], row['CPF/CNPJ'], type=\"\"  )"
   ]
  },
  {
   "cell_type": "code",
   "execution_count": 14,
   "metadata": {},
   "outputs": [],
   "source": [
    "import os\n",
    "import sys\n",
    "import subprocess\n",
    "path_output = \"folder\""
   ]
  },
  {
   "cell_type": "code",
   "execution_count": 15,
   "metadata": {},
   "outputs": [
    {
     "data": {
      "text/plain": [
       "<subprocess.Popen at 0x2d68352de80>"
      ]
     },
     "execution_count": 15,
     "metadata": {},
     "output_type": "execute_result"
    }
   ],
   "source": [
    "if not os.path.exists(path_output):\n",
    "    os.mkdir(path_output)\n",
    "with open('viz/template.html', 'r', encoding='utf-8') as template:\n",
    "    str_html = template.read().replace('<!--GRAFO-->', json.dumps(json_graph.node_link_data(G)))\n",
    "\n",
    "path_html = os.path.join(path_output, 'grafo.html')\n",
    "with open(path_html, 'w', encoding='utf-8') as html:\n",
    "    html.write(str_html)\n",
    "\n",
    "subprocess.Popen(['C:/Program Files (x86)/Google/Chrome/Application/chrome.exe', os.path.abspath(path_html)])"
   ]
  },
  {
   "cell_type": "code",
   "execution_count": null,
   "metadata": {},
   "outputs": [],
   "source": []
  },
  {
   "cell_type": "code",
   "execution_count": null,
   "metadata": {},
   "outputs": [],
   "source": []
  },
  {
   "cell_type": "code",
   "execution_count": null,
   "metadata": {},
   "outputs": [],
   "source": []
  },
  {
   "cell_type": "code",
   "execution_count": null,
   "metadata": {},
   "outputs": [],
   "source": []
  },
  {
   "cell_type": "code",
   "execution_count": null,
   "metadata": {},
   "outputs": [],
   "source": []
  },
  {
   "cell_type": "code",
   "execution_count": null,
   "metadata": {},
   "outputs": [],
   "source": [
    "del(G)"
   ]
  },
  {
   "cell_type": "code",
   "execution_count": null,
   "metadata": {},
   "outputs": [],
   "source": []
  },
  {
   "cell_type": "code",
   "execution_count": null,
   "metadata": {},
   "outputs": [],
   "source": []
  },
  {
   "cell_type": "code",
   "execution_count": null,
   "metadata": {},
   "outputs": [],
   "source": []
  }
 ],
 "metadata": {
  "kernelspec": {
   "display_name": "Python 3",
   "language": "python",
   "name": "python3"
  },
  "language_info": {
   "codemirror_mode": {
    "name": "ipython",
    "version": 3
   },
   "file_extension": ".py",
   "mimetype": "text/x-python",
   "name": "python",
   "nbconvert_exporter": "python",
   "pygments_lexer": "ipython3",
   "version": "3.6.15"
  }
 },
 "nbformat": 4,
 "nbformat_minor": 4
}
