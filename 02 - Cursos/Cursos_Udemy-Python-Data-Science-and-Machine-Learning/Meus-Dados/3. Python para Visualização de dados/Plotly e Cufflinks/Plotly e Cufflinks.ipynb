{
 "cells": [
  {
   "cell_type": "markdown",
   "metadata": {},
   "source": [
    "# Plotly e Cufflinks"
   ]
  },
  {
   "cell_type": "markdown",
   "metadata": {},
   "source": [
    "O Plotly é uma biblioteca que permite criar gráficos interativos que você pode usar em painéis ou sites (você pode salvá-los como arquivos html ou imagens estáticas).\n",
    "\n",
    "## Instalação\n",
    "\n",
    "Para que tudo funcione, você precisará instalar plotly e cufflinks para chamar plots diretamente de um DataFrame pandas. Essas bibliotecas não estão atualmente disponíveis através de ** conda **, mas estão disponíveis através de ** pip **. Instale as bibliotecas em sua linha de comando / terminal usando:\n",
    "\n",
    "    pip install plotly\n",
    "    pip install cufflinks\n",
    "\n",
    "** NOTA: Certifique-se de ter apenas uma instalação do Python no seu computador quando faz isso, caso contrário, a instalação pode não funcionar. **\n",
    "\n",
    "## Importações e Configuração"
   ]
  },
  {
   "cell_type": "code",
   "execution_count": 1,
   "metadata": {},
   "outputs": [],
   "source": [
    "import pandas as pd\n",
    "import numpy as np\n",
    "import matplotlib.pyplot as plt\n",
    "%matplotlib inline"
   ]
  },
  {
   "cell_type": "code",
   "execution_count": 2,
   "metadata": {},
   "outputs": [
    {
     "name": "stdout",
     "output_type": "stream",
     "text": [
      "4.9.0\n"
     ]
    }
   ],
   "source": [
    "from plotly import __version__\n",
    "from plotly.offline import download_plotlyjs, init_notebook_mode, plot, iplot\n",
    "\n",
    "print(__version__)"
   ]
  },
  {
   "cell_type": "code",
   "execution_count": 3,
   "metadata": {},
   "outputs": [],
   "source": [
    "import cufflinks as cf"
   ]
  },
  {
   "cell_type": "code",
   "execution_count": 4,
   "metadata": {},
   "outputs": [
    {
     "data": {
      "text/html": [
       "        <script type=\"text/javascript\">\n",
       "        window.PlotlyConfig = {MathJaxConfig: 'local'};\n",
       "        if (window.MathJax) {MathJax.Hub.Config({SVG: {font: \"STIX-Web\"}});}\n",
       "        if (typeof require !== 'undefined') {\n",
       "        require.undef(\"plotly\");\n",
       "        requirejs.config({\n",
       "            paths: {\n",
       "                'plotly': ['https://cdn.plot.ly/plotly-latest.min']\n",
       "            }\n",
       "        });\n",
       "        require(['plotly'], function(Plotly) {\n",
       "            window._Plotly = Plotly;\n",
       "        });\n",
       "        }\n",
       "        </script>\n",
       "        "
      ]
     },
     "metadata": {},
     "output_type": "display_data"
    }
   ],
   "source": [
    "# Para Notebooks\n",
    "init_notebook_mode(connected=True)"
   ]
  },
  {
   "cell_type": "code",
   "execution_count": 5,
   "metadata": {},
   "outputs": [
    {
     "data": {
      "text/html": [
       "        <script type=\"text/javascript\">\n",
       "        window.PlotlyConfig = {MathJaxConfig: 'local'};\n",
       "        if (window.MathJax) {MathJax.Hub.Config({SVG: {font: \"STIX-Web\"}});}\n",
       "        if (typeof require !== 'undefined') {\n",
       "        require.undef(\"plotly\");\n",
       "        requirejs.config({\n",
       "            paths: {\n",
       "                'plotly': ['https://cdn.plot.ly/plotly-latest.min']\n",
       "            }\n",
       "        });\n",
       "        require(['plotly'], function(Plotly) {\n",
       "            window._Plotly = Plotly;\n",
       "        });\n",
       "        }\n",
       "        </script>\n",
       "        "
      ]
     },
     "metadata": {},
     "output_type": "display_data"
    }
   ],
   "source": [
    "# For offline use\n",
    "cf.go_offline()"
   ]
  },
  {
   "cell_type": "markdown",
   "metadata": {},
   "source": [
    "### Dados forjados"
   ]
  },
  {
   "cell_type": "code",
   "execution_count": 6,
   "metadata": {},
   "outputs": [],
   "source": [
    "df = pd.DataFrame(np.random.randn(100,4),columns='A B C D'.split())"
   ]
  },
  {
   "cell_type": "code",
   "execution_count": 7,
   "metadata": {},
   "outputs": [
    {
     "data": {
      "text/html": [
       "<div>\n",
       "<style scoped>\n",
       "    .dataframe tbody tr th:only-of-type {\n",
       "        vertical-align: middle;\n",
       "    }\n",
       "\n",
       "    .dataframe tbody tr th {\n",
       "        vertical-align: top;\n",
       "    }\n",
       "\n",
       "    .dataframe thead th {\n",
       "        text-align: right;\n",
       "    }\n",
       "</style>\n",
       "<table border=\"1\" class=\"dataframe\">\n",
       "  <thead>\n",
       "    <tr style=\"text-align: right;\">\n",
       "      <th></th>\n",
       "      <th>A</th>\n",
       "      <th>B</th>\n",
       "      <th>C</th>\n",
       "      <th>D</th>\n",
       "    </tr>\n",
       "  </thead>\n",
       "  <tbody>\n",
       "    <tr>\n",
       "      <th>0</th>\n",
       "      <td>0.340472</td>\n",
       "      <td>1.994341</td>\n",
       "      <td>-0.047714</td>\n",
       "      <td>1.258957</td>\n",
       "    </tr>\n",
       "    <tr>\n",
       "      <th>1</th>\n",
       "      <td>-0.547060</td>\n",
       "      <td>0.873298</td>\n",
       "      <td>-1.504342</td>\n",
       "      <td>-0.031839</td>\n",
       "    </tr>\n",
       "    <tr>\n",
       "      <th>2</th>\n",
       "      <td>-1.267538</td>\n",
       "      <td>-0.447877</td>\n",
       "      <td>-1.011557</td>\n",
       "      <td>0.818931</td>\n",
       "    </tr>\n",
       "    <tr>\n",
       "      <th>3</th>\n",
       "      <td>0.649132</td>\n",
       "      <td>1.078098</td>\n",
       "      <td>-0.319688</td>\n",
       "      <td>-1.524662</td>\n",
       "    </tr>\n",
       "    <tr>\n",
       "      <th>4</th>\n",
       "      <td>0.979085</td>\n",
       "      <td>1.607855</td>\n",
       "      <td>-0.484609</td>\n",
       "      <td>-0.506302</td>\n",
       "    </tr>\n",
       "  </tbody>\n",
       "</table>\n",
       "</div>"
      ],
      "text/plain": [
       "          A         B         C         D\n",
       "0  0.340472  1.994341 -0.047714  1.258957\n",
       "1 -0.547060  0.873298 -1.504342 -0.031839\n",
       "2 -1.267538 -0.447877 -1.011557  0.818931\n",
       "3  0.649132  1.078098 -0.319688 -1.524662\n",
       "4  0.979085  1.607855 -0.484609 -0.506302"
      ]
     },
     "execution_count": 7,
     "metadata": {},
     "output_type": "execute_result"
    }
   ],
   "source": [
    "df.head()"
   ]
  },
  {
   "cell_type": "code",
   "execution_count": 8,
   "metadata": {},
   "outputs": [],
   "source": [
    "df2 = pd.DataFrame({'Categoria':['A','B','C'],'Valores':[32,43,50]})"
   ]
  },
  {
   "cell_type": "code",
   "execution_count": 9,
   "metadata": {},
   "outputs": [
    {
     "data": {
      "text/html": [
       "<div>\n",
       "<style scoped>\n",
       "    .dataframe tbody tr th:only-of-type {\n",
       "        vertical-align: middle;\n",
       "    }\n",
       "\n",
       "    .dataframe tbody tr th {\n",
       "        vertical-align: top;\n",
       "    }\n",
       "\n",
       "    .dataframe thead th {\n",
       "        text-align: right;\n",
       "    }\n",
       "</style>\n",
       "<table border=\"1\" class=\"dataframe\">\n",
       "  <thead>\n",
       "    <tr style=\"text-align: right;\">\n",
       "      <th></th>\n",
       "      <th>Categoria</th>\n",
       "      <th>Valores</th>\n",
       "    </tr>\n",
       "  </thead>\n",
       "  <tbody>\n",
       "    <tr>\n",
       "      <th>0</th>\n",
       "      <td>A</td>\n",
       "      <td>32</td>\n",
       "    </tr>\n",
       "    <tr>\n",
       "      <th>1</th>\n",
       "      <td>B</td>\n",
       "      <td>43</td>\n",
       "    </tr>\n",
       "    <tr>\n",
       "      <th>2</th>\n",
       "      <td>C</td>\n",
       "      <td>50</td>\n",
       "    </tr>\n",
       "  </tbody>\n",
       "</table>\n",
       "</div>"
      ],
      "text/plain": [
       "  Categoria  Valores\n",
       "0         A       32\n",
       "1         B       43\n",
       "2         C       50"
      ]
     },
     "execution_count": 9,
     "metadata": {},
     "output_type": "execute_result"
    }
   ],
   "source": [
    "df2.head()"
   ]
  },
  {
   "cell_type": "markdown",
   "metadata": {},
   "source": [
    "## Usando Cufflinks e iplot ()\n",
    "\n",
    "* Dispersão\n",
    "* Barras\n",
    "* BoxPlot\n",
    "* Spreads\n",
    "* Proporção\n",
    "* Mapa de calor\n",
    "* Superfícies 3D\n",
    "* Histograma\n",
    "* Bolha"
   ]
  },
  {
   "cell_type": "markdown",
   "metadata": {},
   "source": [
    "## Dispersão"
   ]
  },
  {
   "cell_type": "code",
   "execution_count": 11,
   "metadata": {},
   "outputs": [
    {
     "data": {
      "application/vnd.plotly.v1+json": {
       "config": {
        "linkText": "Export to plot.ly",
        "plotlyServerURL": "https://plot.ly",
        "showLink": true
       },
       "data": [
        {
         "line": {
          "color": "rgba(255, 153, 51, 1.0)",
          "dash": "solid",
          "shape": "linear",
          "width": 1.3
         },
         "marker": {
          "size": 10,
          "symbol": "circle"
         },
         "mode": "markers",
         "name": "B",
         "text": "",
         "type": "scatter",
         "x": [
          0.34047230985417487,
          -0.5470601833793309,
          -1.2675378278930967,
          0.6491316044070555,
          0.9790849726054258,
          -1.733015324001771,
          2.290389321238637,
          0.036454781028621284,
          -0.9037565027827843,
          -1.0646210198714885,
          -0.7739593465059703,
          1.349709681088898,
          0.023198104431787304,
          0.7097968765591369,
          -1.3190373996246016,
          0.4432749340244109,
          0.3382114080093792,
          -0.08149571062505023,
          1.054706512426422,
          0.42840307080408696,
          -1.1416823676520806,
          -1.2051615303417365,
          0.12727852193154782,
          1.5308805794798286,
          -0.9927193045515985,
          -1.3366979353879058,
          0.1955269139584091,
          0.7930215179572049,
          1.3146642283206003,
          -1.018328645349817,
          1.528175135223415,
          1.5199500968770436,
          -0.14568948608290364,
          0.673767247732877,
          -0.6291547478631949,
          1.7237260355384059,
          -2.128409866142235,
          -1.2564105832946104,
          -0.9946511182748657,
          1.3286998088243123,
          -0.9073035901180493,
          1.1431477794473277,
          0.3637094958135473,
          -0.5556350676836874,
          -0.784958397741709,
          0.6599181211812783,
          0.9327041584723281,
          0.317808086352773,
          -0.45128432794925066,
          0.02169308947579233,
          -0.38352504449075225,
          0.2007362243585566,
          0.4888528181246676,
          -1.1903891833358475,
          -0.7363204708075135,
          0.5353027969158113,
          -0.009098706058621205,
          -0.38651580048044665,
          -1.9505943181122882,
          -0.5563156651329674,
          -2.137311930174342,
          -1.2725741121684107,
          -0.7820156364185031,
          1.5364104241185321,
          -0.418215415271642,
          1.7995202888116273,
          -1.4828590310985599,
          -1.527662283535423,
          0.9793840714449367,
          0.6974261641817958,
          0.9298674505655383,
          0.1463230889023217,
          0.18558750120210715,
          -0.8649984819098265,
          1.1923650660250928,
          -0.7288791022947565,
          0.16187314515212994,
          0.07901352569282546,
          -0.6864257743133744,
          -0.7638958537068636,
          0.09777129712374978,
          1.9894840606243682,
          0.4452067408586412,
          0.283836967561087,
          0.68803706432445,
          -0.2132472849823426,
          -1.3999549932879618,
          -0.5569138588321604,
          1.647324139450391,
          0.31164492300874735,
          -0.27526326737804385,
          1.3396705591673788,
          1.4354991278104445,
          -0.7754158123349962,
          1.0576465217387125,
          -1.2567399072669017,
          1.417915162857051,
          0.41595710155807697,
          -0.3542636977169401,
          -1.8437068141659367
         ],
         "y": [
          1.9943407701544202,
          0.8732976700461123,
          -0.44787696876144895,
          1.0780976820731896,
          1.6078548939101063,
          0.16317980233584287,
          0.5496495894598031,
          1.0102362546831511,
          -0.511917744122489,
          0.281743139062265,
          0.7216725536292614,
          0.1741682812166515,
          0.1785643052722124,
          -0.30481786184645304,
          -1.8509950817133969,
          -0.23778690258463708,
          -0.8630716467228144,
          0.4051284595491349,
          0.011693486607671525,
          -1.140316247327179,
          0.6961449106580708,
          0.07628529046739924,
          -0.15896345593945824,
          -0.914561014980909,
          -0.2899171259555344,
          1.395367474369876,
          0.9559938410991375,
          0.14143756597235277,
          0.9808198546062713,
          -0.9506065975501895,
          0.3328695743314853,
          0.17362323075461195,
          0.8629566207204599,
          0.6711995161432158,
          -1.7252037236321254,
          0.1050150185451266,
          -0.6776206987366905,
          0.9050109638072361,
          0.3120914384835461,
          -0.13682847797414394,
          -1.0338304213946623,
          0.12395061715807465,
          0.38545359854491457,
          1.5558315877417646,
          -0.5525591461019096,
          0.5755905862673705,
          0.11594421839394252,
          2.009669467433262,
          0.6720174995283758,
          3.9800981023976028,
          2.012483027853531,
          -0.0165911044931047,
          0.5436983124669627,
          0.2533224887728271,
          -2.3115522998318236,
          -0.24923560962574012,
          -1.9232267183238132,
          0.05722815876193648,
          -1.666760834897929,
          0.025844967526200354,
          0.5155027670327164,
          0.5022409291069994,
          1.949038917238445,
          -1.4855667244693458,
          0.8178687661814977,
          1.4168279164506383,
          0.11816388408156939,
          0.030444589926006436,
          0.8583597561128744,
          0.1447413788502021,
          1.3857459334031041,
          -0.3462272443036162,
          -0.7601756038235645,
          -0.19531967449619628,
          -0.1736275096618453,
          0.33535248752757185,
          0.42462100759789134,
          0.17980065301228668,
          -0.04382890283922368,
          -0.12302613525369319,
          0.8000120765971616,
          -0.7178499919504112,
          0.2307414841193989,
          2.0714126632499665,
          1.7101980155882819,
          0.9710013499136046,
          -0.6715146320607761,
          -0.38662889542131273,
          -0.009607146099274804,
          -0.7892315730989675,
          -0.0174069311032387,
          0.2380637833909742,
          0.9424713187875836,
          0.24371148622077551,
          0.5877903592172993,
          0.24724599456167232,
          -0.2184726763217426,
          0.6178629971468542,
          -0.5268844662083302,
          0.12452138333049734
         ]
        }
       ],
       "layout": {
        "legend": {
         "bgcolor": "#F5F6F9",
         "font": {
          "color": "#4D5663"
         }
        },
        "paper_bgcolor": "#F5F6F9",
        "plot_bgcolor": "#F5F6F9",
        "template": {
         "data": {
          "bar": [
           {
            "error_x": {
             "color": "#2a3f5f"
            },
            "error_y": {
             "color": "#2a3f5f"
            },
            "marker": {
             "line": {
              "color": "#E5ECF6",
              "width": 0.5
             }
            },
            "type": "bar"
           }
          ],
          "barpolar": [
           {
            "marker": {
             "line": {
              "color": "#E5ECF6",
              "width": 0.5
             }
            },
            "type": "barpolar"
           }
          ],
          "carpet": [
           {
            "aaxis": {
             "endlinecolor": "#2a3f5f",
             "gridcolor": "white",
             "linecolor": "white",
             "minorgridcolor": "white",
             "startlinecolor": "#2a3f5f"
            },
            "baxis": {
             "endlinecolor": "#2a3f5f",
             "gridcolor": "white",
             "linecolor": "white",
             "minorgridcolor": "white",
             "startlinecolor": "#2a3f5f"
            },
            "type": "carpet"
           }
          ],
          "choropleth": [
           {
            "colorbar": {
             "outlinewidth": 0,
             "ticks": ""
            },
            "type": "choropleth"
           }
          ],
          "contour": [
           {
            "colorbar": {
             "outlinewidth": 0,
             "ticks": ""
            },
            "colorscale": [
             [
              0,
              "#0d0887"
             ],
             [
              0.1111111111111111,
              "#46039f"
             ],
             [
              0.2222222222222222,
              "#7201a8"
             ],
             [
              0.3333333333333333,
              "#9c179e"
             ],
             [
              0.4444444444444444,
              "#bd3786"
             ],
             [
              0.5555555555555556,
              "#d8576b"
             ],
             [
              0.6666666666666666,
              "#ed7953"
             ],
             [
              0.7777777777777778,
              "#fb9f3a"
             ],
             [
              0.8888888888888888,
              "#fdca26"
             ],
             [
              1,
              "#f0f921"
             ]
            ],
            "type": "contour"
           }
          ],
          "contourcarpet": [
           {
            "colorbar": {
             "outlinewidth": 0,
             "ticks": ""
            },
            "type": "contourcarpet"
           }
          ],
          "heatmap": [
           {
            "colorbar": {
             "outlinewidth": 0,
             "ticks": ""
            },
            "colorscale": [
             [
              0,
              "#0d0887"
             ],
             [
              0.1111111111111111,
              "#46039f"
             ],
             [
              0.2222222222222222,
              "#7201a8"
             ],
             [
              0.3333333333333333,
              "#9c179e"
             ],
             [
              0.4444444444444444,
              "#bd3786"
             ],
             [
              0.5555555555555556,
              "#d8576b"
             ],
             [
              0.6666666666666666,
              "#ed7953"
             ],
             [
              0.7777777777777778,
              "#fb9f3a"
             ],
             [
              0.8888888888888888,
              "#fdca26"
             ],
             [
              1,
              "#f0f921"
             ]
            ],
            "type": "heatmap"
           }
          ],
          "heatmapgl": [
           {
            "colorbar": {
             "outlinewidth": 0,
             "ticks": ""
            },
            "colorscale": [
             [
              0,
              "#0d0887"
             ],
             [
              0.1111111111111111,
              "#46039f"
             ],
             [
              0.2222222222222222,
              "#7201a8"
             ],
             [
              0.3333333333333333,
              "#9c179e"
             ],
             [
              0.4444444444444444,
              "#bd3786"
             ],
             [
              0.5555555555555556,
              "#d8576b"
             ],
             [
              0.6666666666666666,
              "#ed7953"
             ],
             [
              0.7777777777777778,
              "#fb9f3a"
             ],
             [
              0.8888888888888888,
              "#fdca26"
             ],
             [
              1,
              "#f0f921"
             ]
            ],
            "type": "heatmapgl"
           }
          ],
          "histogram": [
           {
            "marker": {
             "colorbar": {
              "outlinewidth": 0,
              "ticks": ""
             }
            },
            "type": "histogram"
           }
          ],
          "histogram2d": [
           {
            "colorbar": {
             "outlinewidth": 0,
             "ticks": ""
            },
            "colorscale": [
             [
              0,
              "#0d0887"
             ],
             [
              0.1111111111111111,
              "#46039f"
             ],
             [
              0.2222222222222222,
              "#7201a8"
             ],
             [
              0.3333333333333333,
              "#9c179e"
             ],
             [
              0.4444444444444444,
              "#bd3786"
             ],
             [
              0.5555555555555556,
              "#d8576b"
             ],
             [
              0.6666666666666666,
              "#ed7953"
             ],
             [
              0.7777777777777778,
              "#fb9f3a"
             ],
             [
              0.8888888888888888,
              "#fdca26"
             ],
             [
              1,
              "#f0f921"
             ]
            ],
            "type": "histogram2d"
           }
          ],
          "histogram2dcontour": [
           {
            "colorbar": {
             "outlinewidth": 0,
             "ticks": ""
            },
            "colorscale": [
             [
              0,
              "#0d0887"
             ],
             [
              0.1111111111111111,
              "#46039f"
             ],
             [
              0.2222222222222222,
              "#7201a8"
             ],
             [
              0.3333333333333333,
              "#9c179e"
             ],
             [
              0.4444444444444444,
              "#bd3786"
             ],
             [
              0.5555555555555556,
              "#d8576b"
             ],
             [
              0.6666666666666666,
              "#ed7953"
             ],
             [
              0.7777777777777778,
              "#fb9f3a"
             ],
             [
              0.8888888888888888,
              "#fdca26"
             ],
             [
              1,
              "#f0f921"
             ]
            ],
            "type": "histogram2dcontour"
           }
          ],
          "mesh3d": [
           {
            "colorbar": {
             "outlinewidth": 0,
             "ticks": ""
            },
            "type": "mesh3d"
           }
          ],
          "parcoords": [
           {
            "line": {
             "colorbar": {
              "outlinewidth": 0,
              "ticks": ""
             }
            },
            "type": "parcoords"
           }
          ],
          "pie": [
           {
            "automargin": true,
            "type": "pie"
           }
          ],
          "scatter": [
           {
            "marker": {
             "colorbar": {
              "outlinewidth": 0,
              "ticks": ""
             }
            },
            "type": "scatter"
           }
          ],
          "scatter3d": [
           {
            "line": {
             "colorbar": {
              "outlinewidth": 0,
              "ticks": ""
             }
            },
            "marker": {
             "colorbar": {
              "outlinewidth": 0,
              "ticks": ""
             }
            },
            "type": "scatter3d"
           }
          ],
          "scattercarpet": [
           {
            "marker": {
             "colorbar": {
              "outlinewidth": 0,
              "ticks": ""
             }
            },
            "type": "scattercarpet"
           }
          ],
          "scattergeo": [
           {
            "marker": {
             "colorbar": {
              "outlinewidth": 0,
              "ticks": ""
             }
            },
            "type": "scattergeo"
           }
          ],
          "scattergl": [
           {
            "marker": {
             "colorbar": {
              "outlinewidth": 0,
              "ticks": ""
             }
            },
            "type": "scattergl"
           }
          ],
          "scattermapbox": [
           {
            "marker": {
             "colorbar": {
              "outlinewidth": 0,
              "ticks": ""
             }
            },
            "type": "scattermapbox"
           }
          ],
          "scatterpolar": [
           {
            "marker": {
             "colorbar": {
              "outlinewidth": 0,
              "ticks": ""
             }
            },
            "type": "scatterpolar"
           }
          ],
          "scatterpolargl": [
           {
            "marker": {
             "colorbar": {
              "outlinewidth": 0,
              "ticks": ""
             }
            },
            "type": "scatterpolargl"
           }
          ],
          "scatterternary": [
           {
            "marker": {
             "colorbar": {
              "outlinewidth": 0,
              "ticks": ""
             }
            },
            "type": "scatterternary"
           }
          ],
          "surface": [
           {
            "colorbar": {
             "outlinewidth": 0,
             "ticks": ""
            },
            "colorscale": [
             [
              0,
              "#0d0887"
             ],
             [
              0.1111111111111111,
              "#46039f"
             ],
             [
              0.2222222222222222,
              "#7201a8"
             ],
             [
              0.3333333333333333,
              "#9c179e"
             ],
             [
              0.4444444444444444,
              "#bd3786"
             ],
             [
              0.5555555555555556,
              "#d8576b"
             ],
             [
              0.6666666666666666,
              "#ed7953"
             ],
             [
              0.7777777777777778,
              "#fb9f3a"
             ],
             [
              0.8888888888888888,
              "#fdca26"
             ],
             [
              1,
              "#f0f921"
             ]
            ],
            "type": "surface"
           }
          ],
          "table": [
           {
            "cells": {
             "fill": {
              "color": "#EBF0F8"
             },
             "line": {
              "color": "white"
             }
            },
            "header": {
             "fill": {
              "color": "#C8D4E3"
             },
             "line": {
              "color": "white"
             }
            },
            "type": "table"
           }
          ]
         },
         "layout": {
          "annotationdefaults": {
           "arrowcolor": "#2a3f5f",
           "arrowhead": 0,
           "arrowwidth": 1
          },
          "coloraxis": {
           "colorbar": {
            "outlinewidth": 0,
            "ticks": ""
           }
          },
          "colorscale": {
           "diverging": [
            [
             0,
             "#8e0152"
            ],
            [
             0.1,
             "#c51b7d"
            ],
            [
             0.2,
             "#de77ae"
            ],
            [
             0.3,
             "#f1b6da"
            ],
            [
             0.4,
             "#fde0ef"
            ],
            [
             0.5,
             "#f7f7f7"
            ],
            [
             0.6,
             "#e6f5d0"
            ],
            [
             0.7,
             "#b8e186"
            ],
            [
             0.8,
             "#7fbc41"
            ],
            [
             0.9,
             "#4d9221"
            ],
            [
             1,
             "#276419"
            ]
           ],
           "sequential": [
            [
             0,
             "#0d0887"
            ],
            [
             0.1111111111111111,
             "#46039f"
            ],
            [
             0.2222222222222222,
             "#7201a8"
            ],
            [
             0.3333333333333333,
             "#9c179e"
            ],
            [
             0.4444444444444444,
             "#bd3786"
            ],
            [
             0.5555555555555556,
             "#d8576b"
            ],
            [
             0.6666666666666666,
             "#ed7953"
            ],
            [
             0.7777777777777778,
             "#fb9f3a"
            ],
            [
             0.8888888888888888,
             "#fdca26"
            ],
            [
             1,
             "#f0f921"
            ]
           ],
           "sequentialminus": [
            [
             0,
             "#0d0887"
            ],
            [
             0.1111111111111111,
             "#46039f"
            ],
            [
             0.2222222222222222,
             "#7201a8"
            ],
            [
             0.3333333333333333,
             "#9c179e"
            ],
            [
             0.4444444444444444,
             "#bd3786"
            ],
            [
             0.5555555555555556,
             "#d8576b"
            ],
            [
             0.6666666666666666,
             "#ed7953"
            ],
            [
             0.7777777777777778,
             "#fb9f3a"
            ],
            [
             0.8888888888888888,
             "#fdca26"
            ],
            [
             1,
             "#f0f921"
            ]
           ]
          },
          "colorway": [
           "#636efa",
           "#EF553B",
           "#00cc96",
           "#ab63fa",
           "#FFA15A",
           "#19d3f3",
           "#FF6692",
           "#B6E880",
           "#FF97FF",
           "#FECB52"
          ],
          "font": {
           "color": "#2a3f5f"
          },
          "geo": {
           "bgcolor": "white",
           "lakecolor": "white",
           "landcolor": "#E5ECF6",
           "showlakes": true,
           "showland": true,
           "subunitcolor": "white"
          },
          "hoverlabel": {
           "align": "left"
          },
          "hovermode": "closest",
          "mapbox": {
           "style": "light"
          },
          "paper_bgcolor": "white",
          "plot_bgcolor": "#E5ECF6",
          "polar": {
           "angularaxis": {
            "gridcolor": "white",
            "linecolor": "white",
            "ticks": ""
           },
           "bgcolor": "#E5ECF6",
           "radialaxis": {
            "gridcolor": "white",
            "linecolor": "white",
            "ticks": ""
           }
          },
          "scene": {
           "xaxis": {
            "backgroundcolor": "#E5ECF6",
            "gridcolor": "white",
            "gridwidth": 2,
            "linecolor": "white",
            "showbackground": true,
            "ticks": "",
            "zerolinecolor": "white"
           },
           "yaxis": {
            "backgroundcolor": "#E5ECF6",
            "gridcolor": "white",
            "gridwidth": 2,
            "linecolor": "white",
            "showbackground": true,
            "ticks": "",
            "zerolinecolor": "white"
           },
           "zaxis": {
            "backgroundcolor": "#E5ECF6",
            "gridcolor": "white",
            "gridwidth": 2,
            "linecolor": "white",
            "showbackground": true,
            "ticks": "",
            "zerolinecolor": "white"
           }
          },
          "shapedefaults": {
           "line": {
            "color": "#2a3f5f"
           }
          },
          "ternary": {
           "aaxis": {
            "gridcolor": "white",
            "linecolor": "white",
            "ticks": ""
           },
           "baxis": {
            "gridcolor": "white",
            "linecolor": "white",
            "ticks": ""
           },
           "bgcolor": "#E5ECF6",
           "caxis": {
            "gridcolor": "white",
            "linecolor": "white",
            "ticks": ""
           }
          },
          "title": {
           "x": 0.05
          },
          "xaxis": {
           "automargin": true,
           "gridcolor": "white",
           "linecolor": "white",
           "ticks": "",
           "title": {
            "standoff": 15
           },
           "zerolinecolor": "white",
           "zerolinewidth": 2
          },
          "yaxis": {
           "automargin": true,
           "gridcolor": "white",
           "linecolor": "white",
           "ticks": "",
           "title": {
            "standoff": 15
           },
           "zerolinecolor": "white",
           "zerolinewidth": 2
          }
         }
        },
        "title": {
         "font": {
          "color": "#4D5663"
         }
        },
        "xaxis": {
         "gridcolor": "#E1E5ED",
         "showgrid": true,
         "tickfont": {
          "color": "#4D5663"
         },
         "title": {
          "font": {
           "color": "#4D5663"
          },
          "text": ""
         },
         "zerolinecolor": "#E1E5ED"
        },
        "yaxis": {
         "gridcolor": "#E1E5ED",
         "showgrid": true,
         "tickfont": {
          "color": "#4D5663"
         },
         "title": {
          "font": {
           "color": "#4D5663"
          },
          "text": ""
         },
         "zerolinecolor": "#E1E5ED"
        }
       }
      },
      "text/html": [
       "<div>\n",
       "        \n",
       "        \n",
       "            <div id=\"7df0c107-25b7-486c-af40-9dff730a9a10\" class=\"plotly-graph-div\" style=\"height:525px; width:100%;\"></div>\n",
       "            <script type=\"text/javascript\">\n",
       "                require([\"plotly\"], function(Plotly) {\n",
       "                    window.PLOTLYENV=window.PLOTLYENV || {};\n",
       "                    window.PLOTLYENV.BASE_URL='https://plot.ly';\n",
       "                    \n",
       "                if (document.getElementById(\"7df0c107-25b7-486c-af40-9dff730a9a10\")) {\n",
       "                    Plotly.newPlot(\n",
       "                        '7df0c107-25b7-486c-af40-9dff730a9a10',\n",
       "                        [{\"line\": {\"color\": \"rgba(255, 153, 51, 1.0)\", \"dash\": \"solid\", \"shape\": \"linear\", \"width\": 1.3}, \"marker\": {\"size\": 10, \"symbol\": \"circle\"}, \"mode\": \"markers\", \"name\": \"B\", \"text\": \"\", \"type\": \"scatter\", \"x\": [0.34047230985417487, -0.5470601833793309, -1.2675378278930967, 0.6491316044070555, 0.9790849726054258, -1.733015324001771, 2.290389321238637, 0.036454781028621284, -0.9037565027827843, -1.0646210198714885, -0.7739593465059703, 1.349709681088898, 0.023198104431787304, 0.7097968765591369, -1.3190373996246016, 0.4432749340244109, 0.3382114080093792, -0.08149571062505023, 1.054706512426422, 0.42840307080408696, -1.1416823676520806, -1.2051615303417365, 0.12727852193154782, 1.5308805794798286, -0.9927193045515985, -1.3366979353879058, 0.1955269139584091, 0.7930215179572049, 1.3146642283206003, -1.018328645349817, 1.528175135223415, 1.5199500968770436, -0.14568948608290364, 0.673767247732877, -0.6291547478631949, 1.7237260355384059, -2.128409866142235, -1.2564105832946104, -0.9946511182748657, 1.3286998088243123, -0.9073035901180493, 1.1431477794473277, 0.3637094958135473, -0.5556350676836874, -0.784958397741709, 0.6599181211812783, 0.9327041584723281, 0.317808086352773, -0.45128432794925066, 0.02169308947579233, -0.38352504449075225, 0.2007362243585566, 0.4888528181246676, -1.1903891833358475, -0.7363204708075135, 0.5353027969158113, -0.009098706058621205, -0.38651580048044665, -1.9505943181122882, -0.5563156651329674, -2.137311930174342, -1.2725741121684107, -0.7820156364185031, 1.5364104241185321, -0.418215415271642, 1.7995202888116273, -1.4828590310985599, -1.527662283535423, 0.9793840714449367, 0.6974261641817958, 0.9298674505655383, 0.1463230889023217, 0.18558750120210715, -0.8649984819098265, 1.1923650660250928, -0.7288791022947565, 0.16187314515212994, 0.07901352569282546, -0.6864257743133744, -0.7638958537068636, 0.09777129712374978, 1.9894840606243682, 0.4452067408586412, 0.283836967561087, 0.68803706432445, -0.2132472849823426, -1.3999549932879618, -0.5569138588321604, 1.647324139450391, 0.31164492300874735, -0.27526326737804385, 1.3396705591673788, 1.4354991278104445, -0.7754158123349962, 1.0576465217387125, -1.2567399072669017, 1.417915162857051, 0.41595710155807697, -0.3542636977169401, -1.8437068141659367], \"y\": [1.9943407701544202, 0.8732976700461123, -0.44787696876144895, 1.0780976820731896, 1.6078548939101063, 0.16317980233584287, 0.5496495894598031, 1.0102362546831511, -0.511917744122489, 0.281743139062265, 0.7216725536292614, 0.1741682812166515, 0.1785643052722124, -0.30481786184645304, -1.8509950817133969, -0.23778690258463708, -0.8630716467228144, 0.4051284595491349, 0.011693486607671525, -1.140316247327179, 0.6961449106580708, 0.07628529046739924, -0.15896345593945824, -0.914561014980909, -0.2899171259555344, 1.395367474369876, 0.9559938410991375, 0.14143756597235277, 0.9808198546062713, -0.9506065975501895, 0.3328695743314853, 0.17362323075461195, 0.8629566207204599, 0.6711995161432158, -1.7252037236321254, 0.1050150185451266, -0.6776206987366905, 0.9050109638072361, 0.3120914384835461, -0.13682847797414394, -1.0338304213946623, 0.12395061715807465, 0.38545359854491457, 1.5558315877417646, -0.5525591461019096, 0.5755905862673705, 0.11594421839394252, 2.009669467433262, 0.6720174995283758, 3.9800981023976028, 2.012483027853531, -0.0165911044931047, 0.5436983124669627, 0.2533224887728271, -2.3115522998318236, -0.24923560962574012, -1.9232267183238132, 0.05722815876193648, -1.666760834897929, 0.025844967526200354, 0.5155027670327164, 0.5022409291069994, 1.949038917238445, -1.4855667244693458, 0.8178687661814977, 1.4168279164506383, 0.11816388408156939, 0.030444589926006436, 0.8583597561128744, 0.1447413788502021, 1.3857459334031041, -0.3462272443036162, -0.7601756038235645, -0.19531967449619628, -0.1736275096618453, 0.33535248752757185, 0.42462100759789134, 0.17980065301228668, -0.04382890283922368, -0.12302613525369319, 0.8000120765971616, -0.7178499919504112, 0.2307414841193989, 2.0714126632499665, 1.7101980155882819, 0.9710013499136046, -0.6715146320607761, -0.38662889542131273, -0.009607146099274804, -0.7892315730989675, -0.0174069311032387, 0.2380637833909742, 0.9424713187875836, 0.24371148622077551, 0.5877903592172993, 0.24724599456167232, -0.2184726763217426, 0.6178629971468542, -0.5268844662083302, 0.12452138333049734]}],\n",
       "                        {\"legend\": {\"bgcolor\": \"#F5F6F9\", \"font\": {\"color\": \"#4D5663\"}}, \"paper_bgcolor\": \"#F5F6F9\", \"plot_bgcolor\": \"#F5F6F9\", \"template\": {\"data\": {\"bar\": [{\"error_x\": {\"color\": \"#2a3f5f\"}, \"error_y\": {\"color\": \"#2a3f5f\"}, \"marker\": {\"line\": {\"color\": \"#E5ECF6\", \"width\": 0.5}}, \"type\": \"bar\"}], \"barpolar\": [{\"marker\": {\"line\": {\"color\": \"#E5ECF6\", \"width\": 0.5}}, \"type\": \"barpolar\"}], \"carpet\": [{\"aaxis\": {\"endlinecolor\": \"#2a3f5f\", \"gridcolor\": \"white\", \"linecolor\": \"white\", \"minorgridcolor\": \"white\", \"startlinecolor\": \"#2a3f5f\"}, \"baxis\": {\"endlinecolor\": \"#2a3f5f\", \"gridcolor\": \"white\", \"linecolor\": \"white\", \"minorgridcolor\": \"white\", \"startlinecolor\": \"#2a3f5f\"}, \"type\": \"carpet\"}], \"choropleth\": [{\"colorbar\": {\"outlinewidth\": 0, \"ticks\": \"\"}, \"type\": \"choropleth\"}], \"contour\": [{\"colorbar\": {\"outlinewidth\": 0, \"ticks\": \"\"}, \"colorscale\": [[0.0, \"#0d0887\"], [0.1111111111111111, \"#46039f\"], [0.2222222222222222, \"#7201a8\"], [0.3333333333333333, \"#9c179e\"], [0.4444444444444444, \"#bd3786\"], [0.5555555555555556, \"#d8576b\"], [0.6666666666666666, \"#ed7953\"], [0.7777777777777778, \"#fb9f3a\"], [0.8888888888888888, \"#fdca26\"], [1.0, \"#f0f921\"]], \"type\": \"contour\"}], \"contourcarpet\": [{\"colorbar\": {\"outlinewidth\": 0, \"ticks\": \"\"}, \"type\": \"contourcarpet\"}], \"heatmap\": [{\"colorbar\": {\"outlinewidth\": 0, \"ticks\": \"\"}, \"colorscale\": [[0.0, \"#0d0887\"], [0.1111111111111111, \"#46039f\"], [0.2222222222222222, \"#7201a8\"], [0.3333333333333333, \"#9c179e\"], [0.4444444444444444, \"#bd3786\"], [0.5555555555555556, \"#d8576b\"], [0.6666666666666666, \"#ed7953\"], [0.7777777777777778, \"#fb9f3a\"], [0.8888888888888888, \"#fdca26\"], [1.0, \"#f0f921\"]], \"type\": \"heatmap\"}], \"heatmapgl\": [{\"colorbar\": {\"outlinewidth\": 0, \"ticks\": \"\"}, \"colorscale\": [[0.0, \"#0d0887\"], [0.1111111111111111, \"#46039f\"], [0.2222222222222222, \"#7201a8\"], [0.3333333333333333, \"#9c179e\"], [0.4444444444444444, \"#bd3786\"], [0.5555555555555556, \"#d8576b\"], [0.6666666666666666, \"#ed7953\"], [0.7777777777777778, \"#fb9f3a\"], [0.8888888888888888, \"#fdca26\"], [1.0, \"#f0f921\"]], \"type\": \"heatmapgl\"}], \"histogram\": [{\"marker\": {\"colorbar\": {\"outlinewidth\": 0, \"ticks\": \"\"}}, \"type\": \"histogram\"}], \"histogram2d\": [{\"colorbar\": {\"outlinewidth\": 0, \"ticks\": \"\"}, \"colorscale\": [[0.0, \"#0d0887\"], [0.1111111111111111, \"#46039f\"], [0.2222222222222222, \"#7201a8\"], [0.3333333333333333, \"#9c179e\"], [0.4444444444444444, \"#bd3786\"], [0.5555555555555556, \"#d8576b\"], [0.6666666666666666, \"#ed7953\"], [0.7777777777777778, \"#fb9f3a\"], [0.8888888888888888, \"#fdca26\"], [1.0, \"#f0f921\"]], \"type\": \"histogram2d\"}], \"histogram2dcontour\": [{\"colorbar\": {\"outlinewidth\": 0, \"ticks\": \"\"}, \"colorscale\": [[0.0, \"#0d0887\"], [0.1111111111111111, \"#46039f\"], [0.2222222222222222, \"#7201a8\"], [0.3333333333333333, \"#9c179e\"], [0.4444444444444444, \"#bd3786\"], [0.5555555555555556, \"#d8576b\"], [0.6666666666666666, \"#ed7953\"], [0.7777777777777778, \"#fb9f3a\"], [0.8888888888888888, \"#fdca26\"], [1.0, \"#f0f921\"]], \"type\": \"histogram2dcontour\"}], \"mesh3d\": [{\"colorbar\": {\"outlinewidth\": 0, \"ticks\": \"\"}, \"type\": \"mesh3d\"}], \"parcoords\": [{\"line\": {\"colorbar\": {\"outlinewidth\": 0, \"ticks\": \"\"}}, \"type\": \"parcoords\"}], \"pie\": [{\"automargin\": true, \"type\": \"pie\"}], \"scatter\": [{\"marker\": {\"colorbar\": {\"outlinewidth\": 0, \"ticks\": \"\"}}, \"type\": \"scatter\"}], \"scatter3d\": [{\"line\": {\"colorbar\": {\"outlinewidth\": 0, \"ticks\": \"\"}}, \"marker\": {\"colorbar\": {\"outlinewidth\": 0, \"ticks\": \"\"}}, \"type\": \"scatter3d\"}], \"scattercarpet\": [{\"marker\": {\"colorbar\": {\"outlinewidth\": 0, \"ticks\": \"\"}}, \"type\": \"scattercarpet\"}], \"scattergeo\": [{\"marker\": {\"colorbar\": {\"outlinewidth\": 0, \"ticks\": \"\"}}, \"type\": \"scattergeo\"}], \"scattergl\": [{\"marker\": {\"colorbar\": {\"outlinewidth\": 0, \"ticks\": \"\"}}, \"type\": \"scattergl\"}], \"scattermapbox\": [{\"marker\": {\"colorbar\": {\"outlinewidth\": 0, \"ticks\": \"\"}}, \"type\": \"scattermapbox\"}], \"scatterpolar\": [{\"marker\": {\"colorbar\": {\"outlinewidth\": 0, \"ticks\": \"\"}}, \"type\": \"scatterpolar\"}], \"scatterpolargl\": [{\"marker\": {\"colorbar\": {\"outlinewidth\": 0, \"ticks\": \"\"}}, \"type\": \"scatterpolargl\"}], \"scatterternary\": [{\"marker\": {\"colorbar\": {\"outlinewidth\": 0, \"ticks\": \"\"}}, \"type\": \"scatterternary\"}], \"surface\": [{\"colorbar\": {\"outlinewidth\": 0, \"ticks\": \"\"}, \"colorscale\": [[0.0, \"#0d0887\"], [0.1111111111111111, \"#46039f\"], [0.2222222222222222, \"#7201a8\"], [0.3333333333333333, \"#9c179e\"], [0.4444444444444444, \"#bd3786\"], [0.5555555555555556, \"#d8576b\"], [0.6666666666666666, \"#ed7953\"], [0.7777777777777778, \"#fb9f3a\"], [0.8888888888888888, \"#fdca26\"], [1.0, \"#f0f921\"]], \"type\": \"surface\"}], \"table\": [{\"cells\": {\"fill\": {\"color\": \"#EBF0F8\"}, \"line\": {\"color\": \"white\"}}, \"header\": {\"fill\": {\"color\": \"#C8D4E3\"}, \"line\": {\"color\": \"white\"}}, \"type\": \"table\"}]}, \"layout\": {\"annotationdefaults\": {\"arrowcolor\": \"#2a3f5f\", \"arrowhead\": 0, \"arrowwidth\": 1}, \"coloraxis\": {\"colorbar\": {\"outlinewidth\": 0, \"ticks\": \"\"}}, \"colorscale\": {\"diverging\": [[0, \"#8e0152\"], [0.1, \"#c51b7d\"], [0.2, \"#de77ae\"], [0.3, \"#f1b6da\"], [0.4, \"#fde0ef\"], [0.5, \"#f7f7f7\"], [0.6, \"#e6f5d0\"], [0.7, \"#b8e186\"], [0.8, \"#7fbc41\"], [0.9, \"#4d9221\"], [1, \"#276419\"]], \"sequential\": [[0.0, \"#0d0887\"], [0.1111111111111111, \"#46039f\"], [0.2222222222222222, \"#7201a8\"], [0.3333333333333333, \"#9c179e\"], [0.4444444444444444, \"#bd3786\"], [0.5555555555555556, \"#d8576b\"], [0.6666666666666666, \"#ed7953\"], [0.7777777777777778, \"#fb9f3a\"], [0.8888888888888888, \"#fdca26\"], [1.0, \"#f0f921\"]], \"sequentialminus\": [[0.0, \"#0d0887\"], [0.1111111111111111, \"#46039f\"], [0.2222222222222222, \"#7201a8\"], [0.3333333333333333, \"#9c179e\"], [0.4444444444444444, \"#bd3786\"], [0.5555555555555556, \"#d8576b\"], [0.6666666666666666, \"#ed7953\"], [0.7777777777777778, \"#fb9f3a\"], [0.8888888888888888, \"#fdca26\"], [1.0, \"#f0f921\"]]}, \"colorway\": [\"#636efa\", \"#EF553B\", \"#00cc96\", \"#ab63fa\", \"#FFA15A\", \"#19d3f3\", \"#FF6692\", \"#B6E880\", \"#FF97FF\", \"#FECB52\"], \"font\": {\"color\": \"#2a3f5f\"}, \"geo\": {\"bgcolor\": \"white\", \"lakecolor\": \"white\", \"landcolor\": \"#E5ECF6\", \"showlakes\": true, \"showland\": true, \"subunitcolor\": \"white\"}, \"hoverlabel\": {\"align\": \"left\"}, \"hovermode\": \"closest\", \"mapbox\": {\"style\": \"light\"}, \"paper_bgcolor\": \"white\", \"plot_bgcolor\": \"#E5ECF6\", \"polar\": {\"angularaxis\": {\"gridcolor\": \"white\", \"linecolor\": \"white\", \"ticks\": \"\"}, \"bgcolor\": \"#E5ECF6\", \"radialaxis\": {\"gridcolor\": \"white\", \"linecolor\": \"white\", \"ticks\": \"\"}}, \"scene\": {\"xaxis\": {\"backgroundcolor\": \"#E5ECF6\", \"gridcolor\": \"white\", \"gridwidth\": 2, \"linecolor\": \"white\", \"showbackground\": true, \"ticks\": \"\", \"zerolinecolor\": \"white\"}, \"yaxis\": {\"backgroundcolor\": \"#E5ECF6\", \"gridcolor\": \"white\", \"gridwidth\": 2, \"linecolor\": \"white\", \"showbackground\": true, \"ticks\": \"\", \"zerolinecolor\": \"white\"}, \"zaxis\": {\"backgroundcolor\": \"#E5ECF6\", \"gridcolor\": \"white\", \"gridwidth\": 2, \"linecolor\": \"white\", \"showbackground\": true, \"ticks\": \"\", \"zerolinecolor\": \"white\"}}, \"shapedefaults\": {\"line\": {\"color\": \"#2a3f5f\"}}, \"ternary\": {\"aaxis\": {\"gridcolor\": \"white\", \"linecolor\": \"white\", \"ticks\": \"\"}, \"baxis\": {\"gridcolor\": \"white\", \"linecolor\": \"white\", \"ticks\": \"\"}, \"bgcolor\": \"#E5ECF6\", \"caxis\": {\"gridcolor\": \"white\", \"linecolor\": \"white\", \"ticks\": \"\"}}, \"title\": {\"x\": 0.05}, \"xaxis\": {\"automargin\": true, \"gridcolor\": \"white\", \"linecolor\": \"white\", \"ticks\": \"\", \"title\": {\"standoff\": 15}, \"zerolinecolor\": \"white\", \"zerolinewidth\": 2}, \"yaxis\": {\"automargin\": true, \"gridcolor\": \"white\", \"linecolor\": \"white\", \"ticks\": \"\", \"title\": {\"standoff\": 15}, \"zerolinecolor\": \"white\", \"zerolinewidth\": 2}}}, \"title\": {\"font\": {\"color\": \"#4D5663\"}}, \"xaxis\": {\"gridcolor\": \"#E1E5ED\", \"showgrid\": true, \"tickfont\": {\"color\": \"#4D5663\"}, \"title\": {\"font\": {\"color\": \"#4D5663\"}, \"text\": \"\"}, \"zerolinecolor\": \"#E1E5ED\"}, \"yaxis\": {\"gridcolor\": \"#E1E5ED\", \"showgrid\": true, \"tickfont\": {\"color\": \"#4D5663\"}, \"title\": {\"font\": {\"color\": \"#4D5663\"}, \"text\": \"\"}, \"zerolinecolor\": \"#E1E5ED\"}},\n",
       "                        {\"showLink\": true, \"linkText\": \"Export to plot.ly\", \"plotlyServerURL\": \"https://plot.ly\", \"responsive\": true}\n",
       "                    ).then(function(){\n",
       "                            \n",
       "var gd = document.getElementById('7df0c107-25b7-486c-af40-9dff730a9a10');\n",
       "var x = new MutationObserver(function (mutations, observer) {{\n",
       "        var display = window.getComputedStyle(gd).display;\n",
       "        if (!display || display === 'none') {{\n",
       "            console.log([gd, 'removed!']);\n",
       "            Plotly.purge(gd);\n",
       "            observer.disconnect();\n",
       "        }}\n",
       "}});\n",
       "\n",
       "// Listen for the removal of the full notebook cells\n",
       "var notebookContainer = gd.closest('#notebook-container');\n",
       "if (notebookContainer) {{\n",
       "    x.observe(notebookContainer, {childList: true});\n",
       "}}\n",
       "\n",
       "// Listen for the clearing of the current output cell\n",
       "var outputEl = gd.closest('.output');\n",
       "if (outputEl) {{\n",
       "    x.observe(outputEl, {childList: true});\n",
       "}}\n",
       "\n",
       "                        })\n",
       "                };\n",
       "                });\n",
       "            </script>\n",
       "        </div>"
      ]
     },
     "metadata": {},
     "output_type": "display_data"
    }
   ],
   "source": [
    "df.iplot(kind='scatter',x='A',y='B',mode='markers',size=10)\n",
    "plt.show()"
   ]
  },
  {
   "cell_type": "markdown",
   "metadata": {},
   "source": [
    "## Plots de barra"
   ]
  },
  {
   "cell_type": "code",
   "execution_count": 12,
   "metadata": {},
   "outputs": [
    {
     "data": {
      "application/vnd.plotly.v1+json": {
       "config": {
        "linkText": "Export to plot.ly",
        "plotlyServerURL": "https://plot.ly",
        "showLink": true
       },
       "data": [
        {
         "marker": {
          "color": "rgba(255, 153, 51, 0.6)",
          "line": {
           "color": "rgba(255, 153, 51, 1.0)",
           "width": 1
          }
         },
         "name": "Valores",
         "orientation": "v",
         "text": "",
         "type": "bar",
         "x": [
          "A",
          "B",
          "C"
         ],
         "y": [
          32,
          43,
          50
         ]
        }
       ],
       "layout": {
        "legend": {
         "bgcolor": "#F5F6F9",
         "font": {
          "color": "#4D5663"
         }
        },
        "paper_bgcolor": "#F5F6F9",
        "plot_bgcolor": "#F5F6F9",
        "template": {
         "data": {
          "bar": [
           {
            "error_x": {
             "color": "#2a3f5f"
            },
            "error_y": {
             "color": "#2a3f5f"
            },
            "marker": {
             "line": {
              "color": "#E5ECF6",
              "width": 0.5
             }
            },
            "type": "bar"
           }
          ],
          "barpolar": [
           {
            "marker": {
             "line": {
              "color": "#E5ECF6",
              "width": 0.5
             }
            },
            "type": "barpolar"
           }
          ],
          "carpet": [
           {
            "aaxis": {
             "endlinecolor": "#2a3f5f",
             "gridcolor": "white",
             "linecolor": "white",
             "minorgridcolor": "white",
             "startlinecolor": "#2a3f5f"
            },
            "baxis": {
             "endlinecolor": "#2a3f5f",
             "gridcolor": "white",
             "linecolor": "white",
             "minorgridcolor": "white",
             "startlinecolor": "#2a3f5f"
            },
            "type": "carpet"
           }
          ],
          "choropleth": [
           {
            "colorbar": {
             "outlinewidth": 0,
             "ticks": ""
            },
            "type": "choropleth"
           }
          ],
          "contour": [
           {
            "colorbar": {
             "outlinewidth": 0,
             "ticks": ""
            },
            "colorscale": [
             [
              0,
              "#0d0887"
             ],
             [
              0.1111111111111111,
              "#46039f"
             ],
             [
              0.2222222222222222,
              "#7201a8"
             ],
             [
              0.3333333333333333,
              "#9c179e"
             ],
             [
              0.4444444444444444,
              "#bd3786"
             ],
             [
              0.5555555555555556,
              "#d8576b"
             ],
             [
              0.6666666666666666,
              "#ed7953"
             ],
             [
              0.7777777777777778,
              "#fb9f3a"
             ],
             [
              0.8888888888888888,
              "#fdca26"
             ],
             [
              1,
              "#f0f921"
             ]
            ],
            "type": "contour"
           }
          ],
          "contourcarpet": [
           {
            "colorbar": {
             "outlinewidth": 0,
             "ticks": ""
            },
            "type": "contourcarpet"
           }
          ],
          "heatmap": [
           {
            "colorbar": {
             "outlinewidth": 0,
             "ticks": ""
            },
            "colorscale": [
             [
              0,
              "#0d0887"
             ],
             [
              0.1111111111111111,
              "#46039f"
             ],
             [
              0.2222222222222222,
              "#7201a8"
             ],
             [
              0.3333333333333333,
              "#9c179e"
             ],
             [
              0.4444444444444444,
              "#bd3786"
             ],
             [
              0.5555555555555556,
              "#d8576b"
             ],
             [
              0.6666666666666666,
              "#ed7953"
             ],
             [
              0.7777777777777778,
              "#fb9f3a"
             ],
             [
              0.8888888888888888,
              "#fdca26"
             ],
             [
              1,
              "#f0f921"
             ]
            ],
            "type": "heatmap"
           }
          ],
          "heatmapgl": [
           {
            "colorbar": {
             "outlinewidth": 0,
             "ticks": ""
            },
            "colorscale": [
             [
              0,
              "#0d0887"
             ],
             [
              0.1111111111111111,
              "#46039f"
             ],
             [
              0.2222222222222222,
              "#7201a8"
             ],
             [
              0.3333333333333333,
              "#9c179e"
             ],
             [
              0.4444444444444444,
              "#bd3786"
             ],
             [
              0.5555555555555556,
              "#d8576b"
             ],
             [
              0.6666666666666666,
              "#ed7953"
             ],
             [
              0.7777777777777778,
              "#fb9f3a"
             ],
             [
              0.8888888888888888,
              "#fdca26"
             ],
             [
              1,
              "#f0f921"
             ]
            ],
            "type": "heatmapgl"
           }
          ],
          "histogram": [
           {
            "marker": {
             "colorbar": {
              "outlinewidth": 0,
              "ticks": ""
             }
            },
            "type": "histogram"
           }
          ],
          "histogram2d": [
           {
            "colorbar": {
             "outlinewidth": 0,
             "ticks": ""
            },
            "colorscale": [
             [
              0,
              "#0d0887"
             ],
             [
              0.1111111111111111,
              "#46039f"
             ],
             [
              0.2222222222222222,
              "#7201a8"
             ],
             [
              0.3333333333333333,
              "#9c179e"
             ],
             [
              0.4444444444444444,
              "#bd3786"
             ],
             [
              0.5555555555555556,
              "#d8576b"
             ],
             [
              0.6666666666666666,
              "#ed7953"
             ],
             [
              0.7777777777777778,
              "#fb9f3a"
             ],
             [
              0.8888888888888888,
              "#fdca26"
             ],
             [
              1,
              "#f0f921"
             ]
            ],
            "type": "histogram2d"
           }
          ],
          "histogram2dcontour": [
           {
            "colorbar": {
             "outlinewidth": 0,
             "ticks": ""
            },
            "colorscale": [
             [
              0,
              "#0d0887"
             ],
             [
              0.1111111111111111,
              "#46039f"
             ],
             [
              0.2222222222222222,
              "#7201a8"
             ],
             [
              0.3333333333333333,
              "#9c179e"
             ],
             [
              0.4444444444444444,
              "#bd3786"
             ],
             [
              0.5555555555555556,
              "#d8576b"
             ],
             [
              0.6666666666666666,
              "#ed7953"
             ],
             [
              0.7777777777777778,
              "#fb9f3a"
             ],
             [
              0.8888888888888888,
              "#fdca26"
             ],
             [
              1,
              "#f0f921"
             ]
            ],
            "type": "histogram2dcontour"
           }
          ],
          "mesh3d": [
           {
            "colorbar": {
             "outlinewidth": 0,
             "ticks": ""
            },
            "type": "mesh3d"
           }
          ],
          "parcoords": [
           {
            "line": {
             "colorbar": {
              "outlinewidth": 0,
              "ticks": ""
             }
            },
            "type": "parcoords"
           }
          ],
          "pie": [
           {
            "automargin": true,
            "type": "pie"
           }
          ],
          "scatter": [
           {
            "marker": {
             "colorbar": {
              "outlinewidth": 0,
              "ticks": ""
             }
            },
            "type": "scatter"
           }
          ],
          "scatter3d": [
           {
            "line": {
             "colorbar": {
              "outlinewidth": 0,
              "ticks": ""
             }
            },
            "marker": {
             "colorbar": {
              "outlinewidth": 0,
              "ticks": ""
             }
            },
            "type": "scatter3d"
           }
          ],
          "scattercarpet": [
           {
            "marker": {
             "colorbar": {
              "outlinewidth": 0,
              "ticks": ""
             }
            },
            "type": "scattercarpet"
           }
          ],
          "scattergeo": [
           {
            "marker": {
             "colorbar": {
              "outlinewidth": 0,
              "ticks": ""
             }
            },
            "type": "scattergeo"
           }
          ],
          "scattergl": [
           {
            "marker": {
             "colorbar": {
              "outlinewidth": 0,
              "ticks": ""
             }
            },
            "type": "scattergl"
           }
          ],
          "scattermapbox": [
           {
            "marker": {
             "colorbar": {
              "outlinewidth": 0,
              "ticks": ""
             }
            },
            "type": "scattermapbox"
           }
          ],
          "scatterpolar": [
           {
            "marker": {
             "colorbar": {
              "outlinewidth": 0,
              "ticks": ""
             }
            },
            "type": "scatterpolar"
           }
          ],
          "scatterpolargl": [
           {
            "marker": {
             "colorbar": {
              "outlinewidth": 0,
              "ticks": ""
             }
            },
            "type": "scatterpolargl"
           }
          ],
          "scatterternary": [
           {
            "marker": {
             "colorbar": {
              "outlinewidth": 0,
              "ticks": ""
             }
            },
            "type": "scatterternary"
           }
          ],
          "surface": [
           {
            "colorbar": {
             "outlinewidth": 0,
             "ticks": ""
            },
            "colorscale": [
             [
              0,
              "#0d0887"
             ],
             [
              0.1111111111111111,
              "#46039f"
             ],
             [
              0.2222222222222222,
              "#7201a8"
             ],
             [
              0.3333333333333333,
              "#9c179e"
             ],
             [
              0.4444444444444444,
              "#bd3786"
             ],
             [
              0.5555555555555556,
              "#d8576b"
             ],
             [
              0.6666666666666666,
              "#ed7953"
             ],
             [
              0.7777777777777778,
              "#fb9f3a"
             ],
             [
              0.8888888888888888,
              "#fdca26"
             ],
             [
              1,
              "#f0f921"
             ]
            ],
            "type": "surface"
           }
          ],
          "table": [
           {
            "cells": {
             "fill": {
              "color": "#EBF0F8"
             },
             "line": {
              "color": "white"
             }
            },
            "header": {
             "fill": {
              "color": "#C8D4E3"
             },
             "line": {
              "color": "white"
             }
            },
            "type": "table"
           }
          ]
         },
         "layout": {
          "annotationdefaults": {
           "arrowcolor": "#2a3f5f",
           "arrowhead": 0,
           "arrowwidth": 1
          },
          "coloraxis": {
           "colorbar": {
            "outlinewidth": 0,
            "ticks": ""
           }
          },
          "colorscale": {
           "diverging": [
            [
             0,
             "#8e0152"
            ],
            [
             0.1,
             "#c51b7d"
            ],
            [
             0.2,
             "#de77ae"
            ],
            [
             0.3,
             "#f1b6da"
            ],
            [
             0.4,
             "#fde0ef"
            ],
            [
             0.5,
             "#f7f7f7"
            ],
            [
             0.6,
             "#e6f5d0"
            ],
            [
             0.7,
             "#b8e186"
            ],
            [
             0.8,
             "#7fbc41"
            ],
            [
             0.9,
             "#4d9221"
            ],
            [
             1,
             "#276419"
            ]
           ],
           "sequential": [
            [
             0,
             "#0d0887"
            ],
            [
             0.1111111111111111,
             "#46039f"
            ],
            [
             0.2222222222222222,
             "#7201a8"
            ],
            [
             0.3333333333333333,
             "#9c179e"
            ],
            [
             0.4444444444444444,
             "#bd3786"
            ],
            [
             0.5555555555555556,
             "#d8576b"
            ],
            [
             0.6666666666666666,
             "#ed7953"
            ],
            [
             0.7777777777777778,
             "#fb9f3a"
            ],
            [
             0.8888888888888888,
             "#fdca26"
            ],
            [
             1,
             "#f0f921"
            ]
           ],
           "sequentialminus": [
            [
             0,
             "#0d0887"
            ],
            [
             0.1111111111111111,
             "#46039f"
            ],
            [
             0.2222222222222222,
             "#7201a8"
            ],
            [
             0.3333333333333333,
             "#9c179e"
            ],
            [
             0.4444444444444444,
             "#bd3786"
            ],
            [
             0.5555555555555556,
             "#d8576b"
            ],
            [
             0.6666666666666666,
             "#ed7953"
            ],
            [
             0.7777777777777778,
             "#fb9f3a"
            ],
            [
             0.8888888888888888,
             "#fdca26"
            ],
            [
             1,
             "#f0f921"
            ]
           ]
          },
          "colorway": [
           "#636efa",
           "#EF553B",
           "#00cc96",
           "#ab63fa",
           "#FFA15A",
           "#19d3f3",
           "#FF6692",
           "#B6E880",
           "#FF97FF",
           "#FECB52"
          ],
          "font": {
           "color": "#2a3f5f"
          },
          "geo": {
           "bgcolor": "white",
           "lakecolor": "white",
           "landcolor": "#E5ECF6",
           "showlakes": true,
           "showland": true,
           "subunitcolor": "white"
          },
          "hoverlabel": {
           "align": "left"
          },
          "hovermode": "closest",
          "mapbox": {
           "style": "light"
          },
          "paper_bgcolor": "white",
          "plot_bgcolor": "#E5ECF6",
          "polar": {
           "angularaxis": {
            "gridcolor": "white",
            "linecolor": "white",
            "ticks": ""
           },
           "bgcolor": "#E5ECF6",
           "radialaxis": {
            "gridcolor": "white",
            "linecolor": "white",
            "ticks": ""
           }
          },
          "scene": {
           "xaxis": {
            "backgroundcolor": "#E5ECF6",
            "gridcolor": "white",
            "gridwidth": 2,
            "linecolor": "white",
            "showbackground": true,
            "ticks": "",
            "zerolinecolor": "white"
           },
           "yaxis": {
            "backgroundcolor": "#E5ECF6",
            "gridcolor": "white",
            "gridwidth": 2,
            "linecolor": "white",
            "showbackground": true,
            "ticks": "",
            "zerolinecolor": "white"
           },
           "zaxis": {
            "backgroundcolor": "#E5ECF6",
            "gridcolor": "white",
            "gridwidth": 2,
            "linecolor": "white",
            "showbackground": true,
            "ticks": "",
            "zerolinecolor": "white"
           }
          },
          "shapedefaults": {
           "line": {
            "color": "#2a3f5f"
           }
          },
          "ternary": {
           "aaxis": {
            "gridcolor": "white",
            "linecolor": "white",
            "ticks": ""
           },
           "baxis": {
            "gridcolor": "white",
            "linecolor": "white",
            "ticks": ""
           },
           "bgcolor": "#E5ECF6",
           "caxis": {
            "gridcolor": "white",
            "linecolor": "white",
            "ticks": ""
           }
          },
          "title": {
           "x": 0.05
          },
          "xaxis": {
           "automargin": true,
           "gridcolor": "white",
           "linecolor": "white",
           "ticks": "",
           "title": {
            "standoff": 15
           },
           "zerolinecolor": "white",
           "zerolinewidth": 2
          },
          "yaxis": {
           "automargin": true,
           "gridcolor": "white",
           "linecolor": "white",
           "ticks": "",
           "title": {
            "standoff": 15
           },
           "zerolinecolor": "white",
           "zerolinewidth": 2
          }
         }
        },
        "title": {
         "font": {
          "color": "#4D5663"
         }
        },
        "xaxis": {
         "gridcolor": "#E1E5ED",
         "showgrid": true,
         "tickfont": {
          "color": "#4D5663"
         },
         "title": {
          "font": {
           "color": "#4D5663"
          },
          "text": ""
         },
         "zerolinecolor": "#E1E5ED"
        },
        "yaxis": {
         "gridcolor": "#E1E5ED",
         "showgrid": true,
         "tickfont": {
          "color": "#4D5663"
         },
         "title": {
          "font": {
           "color": "#4D5663"
          },
          "text": ""
         },
         "zerolinecolor": "#E1E5ED"
        }
       }
      },
      "text/html": [
       "<div>\n",
       "        \n",
       "        \n",
       "            <div id=\"319a1cc5-ad51-4d51-b0b8-9ff327f6e832\" class=\"plotly-graph-div\" style=\"height:525px; width:100%;\"></div>\n",
       "            <script type=\"text/javascript\">\n",
       "                require([\"plotly\"], function(Plotly) {\n",
       "                    window.PLOTLYENV=window.PLOTLYENV || {};\n",
       "                    window.PLOTLYENV.BASE_URL='https://plot.ly';\n",
       "                    \n",
       "                if (document.getElementById(\"319a1cc5-ad51-4d51-b0b8-9ff327f6e832\")) {\n",
       "                    Plotly.newPlot(\n",
       "                        '319a1cc5-ad51-4d51-b0b8-9ff327f6e832',\n",
       "                        [{\"marker\": {\"color\": \"rgba(255, 153, 51, 0.6)\", \"line\": {\"color\": \"rgba(255, 153, 51, 1.0)\", \"width\": 1}}, \"name\": \"Valores\", \"orientation\": \"v\", \"text\": \"\", \"type\": \"bar\", \"x\": [\"A\", \"B\", \"C\"], \"y\": [32, 43, 50]}],\n",
       "                        {\"legend\": {\"bgcolor\": \"#F5F6F9\", \"font\": {\"color\": \"#4D5663\"}}, \"paper_bgcolor\": \"#F5F6F9\", \"plot_bgcolor\": \"#F5F6F9\", \"template\": {\"data\": {\"bar\": [{\"error_x\": {\"color\": \"#2a3f5f\"}, \"error_y\": {\"color\": \"#2a3f5f\"}, \"marker\": {\"line\": {\"color\": \"#E5ECF6\", \"width\": 0.5}}, \"type\": \"bar\"}], \"barpolar\": [{\"marker\": {\"line\": {\"color\": \"#E5ECF6\", \"width\": 0.5}}, \"type\": \"barpolar\"}], \"carpet\": [{\"aaxis\": {\"endlinecolor\": \"#2a3f5f\", \"gridcolor\": \"white\", \"linecolor\": \"white\", \"minorgridcolor\": \"white\", \"startlinecolor\": \"#2a3f5f\"}, \"baxis\": {\"endlinecolor\": \"#2a3f5f\", \"gridcolor\": \"white\", \"linecolor\": \"white\", \"minorgridcolor\": \"white\", \"startlinecolor\": \"#2a3f5f\"}, \"type\": \"carpet\"}], \"choropleth\": [{\"colorbar\": {\"outlinewidth\": 0, \"ticks\": \"\"}, \"type\": \"choropleth\"}], \"contour\": [{\"colorbar\": {\"outlinewidth\": 0, \"ticks\": \"\"}, \"colorscale\": [[0.0, \"#0d0887\"], [0.1111111111111111, \"#46039f\"], [0.2222222222222222, \"#7201a8\"], [0.3333333333333333, \"#9c179e\"], [0.4444444444444444, \"#bd3786\"], [0.5555555555555556, \"#d8576b\"], [0.6666666666666666, \"#ed7953\"], [0.7777777777777778, \"#fb9f3a\"], [0.8888888888888888, \"#fdca26\"], [1.0, \"#f0f921\"]], \"type\": \"contour\"}], \"contourcarpet\": [{\"colorbar\": {\"outlinewidth\": 0, \"ticks\": \"\"}, \"type\": \"contourcarpet\"}], \"heatmap\": [{\"colorbar\": {\"outlinewidth\": 0, \"ticks\": \"\"}, \"colorscale\": [[0.0, \"#0d0887\"], [0.1111111111111111, \"#46039f\"], [0.2222222222222222, \"#7201a8\"], [0.3333333333333333, \"#9c179e\"], [0.4444444444444444, \"#bd3786\"], [0.5555555555555556, \"#d8576b\"], [0.6666666666666666, \"#ed7953\"], [0.7777777777777778, \"#fb9f3a\"], [0.8888888888888888, \"#fdca26\"], [1.0, \"#f0f921\"]], \"type\": \"heatmap\"}], \"heatmapgl\": [{\"colorbar\": {\"outlinewidth\": 0, \"ticks\": \"\"}, \"colorscale\": [[0.0, \"#0d0887\"], [0.1111111111111111, \"#46039f\"], [0.2222222222222222, \"#7201a8\"], [0.3333333333333333, \"#9c179e\"], [0.4444444444444444, \"#bd3786\"], [0.5555555555555556, \"#d8576b\"], [0.6666666666666666, \"#ed7953\"], [0.7777777777777778, \"#fb9f3a\"], [0.8888888888888888, \"#fdca26\"], [1.0, \"#f0f921\"]], \"type\": \"heatmapgl\"}], \"histogram\": [{\"marker\": {\"colorbar\": {\"outlinewidth\": 0, \"ticks\": \"\"}}, \"type\": \"histogram\"}], \"histogram2d\": [{\"colorbar\": {\"outlinewidth\": 0, \"ticks\": \"\"}, \"colorscale\": [[0.0, \"#0d0887\"], [0.1111111111111111, \"#46039f\"], [0.2222222222222222, \"#7201a8\"], [0.3333333333333333, \"#9c179e\"], [0.4444444444444444, \"#bd3786\"], [0.5555555555555556, \"#d8576b\"], [0.6666666666666666, \"#ed7953\"], [0.7777777777777778, \"#fb9f3a\"], [0.8888888888888888, \"#fdca26\"], [1.0, \"#f0f921\"]], \"type\": \"histogram2d\"}], \"histogram2dcontour\": [{\"colorbar\": {\"outlinewidth\": 0, \"ticks\": \"\"}, \"colorscale\": [[0.0, \"#0d0887\"], [0.1111111111111111, \"#46039f\"], [0.2222222222222222, \"#7201a8\"], [0.3333333333333333, \"#9c179e\"], [0.4444444444444444, \"#bd3786\"], [0.5555555555555556, \"#d8576b\"], [0.6666666666666666, \"#ed7953\"], [0.7777777777777778, \"#fb9f3a\"], [0.8888888888888888, \"#fdca26\"], [1.0, \"#f0f921\"]], \"type\": \"histogram2dcontour\"}], \"mesh3d\": [{\"colorbar\": {\"outlinewidth\": 0, \"ticks\": \"\"}, \"type\": \"mesh3d\"}], \"parcoords\": [{\"line\": {\"colorbar\": {\"outlinewidth\": 0, \"ticks\": \"\"}}, \"type\": \"parcoords\"}], \"pie\": [{\"automargin\": true, \"type\": \"pie\"}], \"scatter\": [{\"marker\": {\"colorbar\": {\"outlinewidth\": 0, \"ticks\": \"\"}}, \"type\": \"scatter\"}], \"scatter3d\": [{\"line\": {\"colorbar\": {\"outlinewidth\": 0, \"ticks\": \"\"}}, \"marker\": {\"colorbar\": {\"outlinewidth\": 0, \"ticks\": \"\"}}, \"type\": \"scatter3d\"}], \"scattercarpet\": [{\"marker\": {\"colorbar\": {\"outlinewidth\": 0, \"ticks\": \"\"}}, \"type\": \"scattercarpet\"}], \"scattergeo\": [{\"marker\": {\"colorbar\": {\"outlinewidth\": 0, \"ticks\": \"\"}}, \"type\": \"scattergeo\"}], \"scattergl\": [{\"marker\": {\"colorbar\": {\"outlinewidth\": 0, \"ticks\": \"\"}}, \"type\": \"scattergl\"}], \"scattermapbox\": [{\"marker\": {\"colorbar\": {\"outlinewidth\": 0, \"ticks\": \"\"}}, \"type\": \"scattermapbox\"}], \"scatterpolar\": [{\"marker\": {\"colorbar\": {\"outlinewidth\": 0, \"ticks\": \"\"}}, \"type\": \"scatterpolar\"}], \"scatterpolargl\": [{\"marker\": {\"colorbar\": {\"outlinewidth\": 0, \"ticks\": \"\"}}, \"type\": \"scatterpolargl\"}], \"scatterternary\": [{\"marker\": {\"colorbar\": {\"outlinewidth\": 0, \"ticks\": \"\"}}, \"type\": \"scatterternary\"}], \"surface\": [{\"colorbar\": {\"outlinewidth\": 0, \"ticks\": \"\"}, \"colorscale\": [[0.0, \"#0d0887\"], [0.1111111111111111, \"#46039f\"], [0.2222222222222222, \"#7201a8\"], [0.3333333333333333, \"#9c179e\"], [0.4444444444444444, \"#bd3786\"], [0.5555555555555556, \"#d8576b\"], [0.6666666666666666, \"#ed7953\"], [0.7777777777777778, \"#fb9f3a\"], [0.8888888888888888, \"#fdca26\"], [1.0, \"#f0f921\"]], \"type\": \"surface\"}], \"table\": [{\"cells\": {\"fill\": {\"color\": \"#EBF0F8\"}, \"line\": {\"color\": \"white\"}}, \"header\": {\"fill\": {\"color\": \"#C8D4E3\"}, \"line\": {\"color\": \"white\"}}, \"type\": \"table\"}]}, \"layout\": {\"annotationdefaults\": {\"arrowcolor\": \"#2a3f5f\", \"arrowhead\": 0, \"arrowwidth\": 1}, \"coloraxis\": {\"colorbar\": {\"outlinewidth\": 0, \"ticks\": \"\"}}, \"colorscale\": {\"diverging\": [[0, \"#8e0152\"], [0.1, \"#c51b7d\"], [0.2, \"#de77ae\"], [0.3, \"#f1b6da\"], [0.4, \"#fde0ef\"], [0.5, \"#f7f7f7\"], [0.6, \"#e6f5d0\"], [0.7, \"#b8e186\"], [0.8, \"#7fbc41\"], [0.9, \"#4d9221\"], [1, \"#276419\"]], \"sequential\": [[0.0, \"#0d0887\"], [0.1111111111111111, \"#46039f\"], [0.2222222222222222, \"#7201a8\"], [0.3333333333333333, \"#9c179e\"], [0.4444444444444444, \"#bd3786\"], [0.5555555555555556, \"#d8576b\"], [0.6666666666666666, \"#ed7953\"], [0.7777777777777778, \"#fb9f3a\"], [0.8888888888888888, \"#fdca26\"], [1.0, \"#f0f921\"]], \"sequentialminus\": [[0.0, \"#0d0887\"], [0.1111111111111111, \"#46039f\"], [0.2222222222222222, \"#7201a8\"], [0.3333333333333333, \"#9c179e\"], [0.4444444444444444, \"#bd3786\"], [0.5555555555555556, \"#d8576b\"], [0.6666666666666666, \"#ed7953\"], [0.7777777777777778, \"#fb9f3a\"], [0.8888888888888888, \"#fdca26\"], [1.0, \"#f0f921\"]]}, \"colorway\": [\"#636efa\", \"#EF553B\", \"#00cc96\", \"#ab63fa\", \"#FFA15A\", \"#19d3f3\", \"#FF6692\", \"#B6E880\", \"#FF97FF\", \"#FECB52\"], \"font\": {\"color\": \"#2a3f5f\"}, \"geo\": {\"bgcolor\": \"white\", \"lakecolor\": \"white\", \"landcolor\": \"#E5ECF6\", \"showlakes\": true, \"showland\": true, \"subunitcolor\": \"white\"}, \"hoverlabel\": {\"align\": \"left\"}, \"hovermode\": \"closest\", \"mapbox\": {\"style\": \"light\"}, \"paper_bgcolor\": \"white\", \"plot_bgcolor\": \"#E5ECF6\", \"polar\": {\"angularaxis\": {\"gridcolor\": \"white\", \"linecolor\": \"white\", \"ticks\": \"\"}, \"bgcolor\": \"#E5ECF6\", \"radialaxis\": {\"gridcolor\": \"white\", \"linecolor\": \"white\", \"ticks\": \"\"}}, \"scene\": {\"xaxis\": {\"backgroundcolor\": \"#E5ECF6\", \"gridcolor\": \"white\", \"gridwidth\": 2, \"linecolor\": \"white\", \"showbackground\": true, \"ticks\": \"\", \"zerolinecolor\": \"white\"}, \"yaxis\": {\"backgroundcolor\": \"#E5ECF6\", \"gridcolor\": \"white\", \"gridwidth\": 2, \"linecolor\": \"white\", \"showbackground\": true, \"ticks\": \"\", \"zerolinecolor\": \"white\"}, \"zaxis\": {\"backgroundcolor\": \"#E5ECF6\", \"gridcolor\": \"white\", \"gridwidth\": 2, \"linecolor\": \"white\", \"showbackground\": true, \"ticks\": \"\", \"zerolinecolor\": \"white\"}}, \"shapedefaults\": {\"line\": {\"color\": \"#2a3f5f\"}}, \"ternary\": {\"aaxis\": {\"gridcolor\": \"white\", \"linecolor\": \"white\", \"ticks\": \"\"}, \"baxis\": {\"gridcolor\": \"white\", \"linecolor\": \"white\", \"ticks\": \"\"}, \"bgcolor\": \"#E5ECF6\", \"caxis\": {\"gridcolor\": \"white\", \"linecolor\": \"white\", \"ticks\": \"\"}}, \"title\": {\"x\": 0.05}, \"xaxis\": {\"automargin\": true, \"gridcolor\": \"white\", \"linecolor\": \"white\", \"ticks\": \"\", \"title\": {\"standoff\": 15}, \"zerolinecolor\": \"white\", \"zerolinewidth\": 2}, \"yaxis\": {\"automargin\": true, \"gridcolor\": \"white\", \"linecolor\": \"white\", \"ticks\": \"\", \"title\": {\"standoff\": 15}, \"zerolinecolor\": \"white\", \"zerolinewidth\": 2}}}, \"title\": {\"font\": {\"color\": \"#4D5663\"}}, \"xaxis\": {\"gridcolor\": \"#E1E5ED\", \"showgrid\": true, \"tickfont\": {\"color\": \"#4D5663\"}, \"title\": {\"font\": {\"color\": \"#4D5663\"}, \"text\": \"\"}, \"zerolinecolor\": \"#E1E5ED\"}, \"yaxis\": {\"gridcolor\": \"#E1E5ED\", \"showgrid\": true, \"tickfont\": {\"color\": \"#4D5663\"}, \"title\": {\"font\": {\"color\": \"#4D5663\"}, \"text\": \"\"}, \"zerolinecolor\": \"#E1E5ED\"}},\n",
       "                        {\"showLink\": true, \"linkText\": \"Export to plot.ly\", \"plotlyServerURL\": \"https://plot.ly\", \"responsive\": true}\n",
       "                    ).then(function(){\n",
       "                            \n",
       "var gd = document.getElementById('319a1cc5-ad51-4d51-b0b8-9ff327f6e832');\n",
       "var x = new MutationObserver(function (mutations, observer) {{\n",
       "        var display = window.getComputedStyle(gd).display;\n",
       "        if (!display || display === 'none') {{\n",
       "            console.log([gd, 'removed!']);\n",
       "            Plotly.purge(gd);\n",
       "            observer.disconnect();\n",
       "        }}\n",
       "}});\n",
       "\n",
       "// Listen for the removal of the full notebook cells\n",
       "var notebookContainer = gd.closest('#notebook-container');\n",
       "if (notebookContainer) {{\n",
       "    x.observe(notebookContainer, {childList: true});\n",
       "}}\n",
       "\n",
       "// Listen for the clearing of the current output cell\n",
       "var outputEl = gd.closest('.output');\n",
       "if (outputEl) {{\n",
       "    x.observe(outputEl, {childList: true});\n",
       "}}\n",
       "\n",
       "                        })\n",
       "                };\n",
       "                });\n",
       "            </script>\n",
       "        </div>"
      ]
     },
     "metadata": {},
     "output_type": "display_data"
    }
   ],
   "source": [
    "df2.iplot(kind='bar',x='Categoria',y='Valores')"
   ]
  },
  {
   "cell_type": "code",
   "execution_count": 13,
   "metadata": {},
   "outputs": [
    {
     "data": {
      "application/vnd.plotly.v1+json": {
       "config": {
        "linkText": "Export to plot.ly",
        "plotlyServerURL": "https://plot.ly",
        "showLink": true
       },
       "data": [
        {
         "marker": {
          "color": "rgba(255, 153, 51, 0.6)",
          "line": {
           "color": "rgba(255, 153, 51, 1.0)",
           "width": 1
          }
         },
         "name": "None",
         "orientation": "v",
         "text": "",
         "type": "bar",
         "x": [
          "A",
          "B",
          "C",
          "D"
         ],
         "y": [
          100,
          100,
          100,
          100
         ]
        }
       ],
       "layout": {
        "legend": {
         "bgcolor": "#F5F6F9",
         "font": {
          "color": "#4D5663"
         }
        },
        "paper_bgcolor": "#F5F6F9",
        "plot_bgcolor": "#F5F6F9",
        "template": {
         "data": {
          "bar": [
           {
            "error_x": {
             "color": "#2a3f5f"
            },
            "error_y": {
             "color": "#2a3f5f"
            },
            "marker": {
             "line": {
              "color": "#E5ECF6",
              "width": 0.5
             }
            },
            "type": "bar"
           }
          ],
          "barpolar": [
           {
            "marker": {
             "line": {
              "color": "#E5ECF6",
              "width": 0.5
             }
            },
            "type": "barpolar"
           }
          ],
          "carpet": [
           {
            "aaxis": {
             "endlinecolor": "#2a3f5f",
             "gridcolor": "white",
             "linecolor": "white",
             "minorgridcolor": "white",
             "startlinecolor": "#2a3f5f"
            },
            "baxis": {
             "endlinecolor": "#2a3f5f",
             "gridcolor": "white",
             "linecolor": "white",
             "minorgridcolor": "white",
             "startlinecolor": "#2a3f5f"
            },
            "type": "carpet"
           }
          ],
          "choropleth": [
           {
            "colorbar": {
             "outlinewidth": 0,
             "ticks": ""
            },
            "type": "choropleth"
           }
          ],
          "contour": [
           {
            "colorbar": {
             "outlinewidth": 0,
             "ticks": ""
            },
            "colorscale": [
             [
              0,
              "#0d0887"
             ],
             [
              0.1111111111111111,
              "#46039f"
             ],
             [
              0.2222222222222222,
              "#7201a8"
             ],
             [
              0.3333333333333333,
              "#9c179e"
             ],
             [
              0.4444444444444444,
              "#bd3786"
             ],
             [
              0.5555555555555556,
              "#d8576b"
             ],
             [
              0.6666666666666666,
              "#ed7953"
             ],
             [
              0.7777777777777778,
              "#fb9f3a"
             ],
             [
              0.8888888888888888,
              "#fdca26"
             ],
             [
              1,
              "#f0f921"
             ]
            ],
            "type": "contour"
           }
          ],
          "contourcarpet": [
           {
            "colorbar": {
             "outlinewidth": 0,
             "ticks": ""
            },
            "type": "contourcarpet"
           }
          ],
          "heatmap": [
           {
            "colorbar": {
             "outlinewidth": 0,
             "ticks": ""
            },
            "colorscale": [
             [
              0,
              "#0d0887"
             ],
             [
              0.1111111111111111,
              "#46039f"
             ],
             [
              0.2222222222222222,
              "#7201a8"
             ],
             [
              0.3333333333333333,
              "#9c179e"
             ],
             [
              0.4444444444444444,
              "#bd3786"
             ],
             [
              0.5555555555555556,
              "#d8576b"
             ],
             [
              0.6666666666666666,
              "#ed7953"
             ],
             [
              0.7777777777777778,
              "#fb9f3a"
             ],
             [
              0.8888888888888888,
              "#fdca26"
             ],
             [
              1,
              "#f0f921"
             ]
            ],
            "type": "heatmap"
           }
          ],
          "heatmapgl": [
           {
            "colorbar": {
             "outlinewidth": 0,
             "ticks": ""
            },
            "colorscale": [
             [
              0,
              "#0d0887"
             ],
             [
              0.1111111111111111,
              "#46039f"
             ],
             [
              0.2222222222222222,
              "#7201a8"
             ],
             [
              0.3333333333333333,
              "#9c179e"
             ],
             [
              0.4444444444444444,
              "#bd3786"
             ],
             [
              0.5555555555555556,
              "#d8576b"
             ],
             [
              0.6666666666666666,
              "#ed7953"
             ],
             [
              0.7777777777777778,
              "#fb9f3a"
             ],
             [
              0.8888888888888888,
              "#fdca26"
             ],
             [
              1,
              "#f0f921"
             ]
            ],
            "type": "heatmapgl"
           }
          ],
          "histogram": [
           {
            "marker": {
             "colorbar": {
              "outlinewidth": 0,
              "ticks": ""
             }
            },
            "type": "histogram"
           }
          ],
          "histogram2d": [
           {
            "colorbar": {
             "outlinewidth": 0,
             "ticks": ""
            },
            "colorscale": [
             [
              0,
              "#0d0887"
             ],
             [
              0.1111111111111111,
              "#46039f"
             ],
             [
              0.2222222222222222,
              "#7201a8"
             ],
             [
              0.3333333333333333,
              "#9c179e"
             ],
             [
              0.4444444444444444,
              "#bd3786"
             ],
             [
              0.5555555555555556,
              "#d8576b"
             ],
             [
              0.6666666666666666,
              "#ed7953"
             ],
             [
              0.7777777777777778,
              "#fb9f3a"
             ],
             [
              0.8888888888888888,
              "#fdca26"
             ],
             [
              1,
              "#f0f921"
             ]
            ],
            "type": "histogram2d"
           }
          ],
          "histogram2dcontour": [
           {
            "colorbar": {
             "outlinewidth": 0,
             "ticks": ""
            },
            "colorscale": [
             [
              0,
              "#0d0887"
             ],
             [
              0.1111111111111111,
              "#46039f"
             ],
             [
              0.2222222222222222,
              "#7201a8"
             ],
             [
              0.3333333333333333,
              "#9c179e"
             ],
             [
              0.4444444444444444,
              "#bd3786"
             ],
             [
              0.5555555555555556,
              "#d8576b"
             ],
             [
              0.6666666666666666,
              "#ed7953"
             ],
             [
              0.7777777777777778,
              "#fb9f3a"
             ],
             [
              0.8888888888888888,
              "#fdca26"
             ],
             [
              1,
              "#f0f921"
             ]
            ],
            "type": "histogram2dcontour"
           }
          ],
          "mesh3d": [
           {
            "colorbar": {
             "outlinewidth": 0,
             "ticks": ""
            },
            "type": "mesh3d"
           }
          ],
          "parcoords": [
           {
            "line": {
             "colorbar": {
              "outlinewidth": 0,
              "ticks": ""
             }
            },
            "type": "parcoords"
           }
          ],
          "pie": [
           {
            "automargin": true,
            "type": "pie"
           }
          ],
          "scatter": [
           {
            "marker": {
             "colorbar": {
              "outlinewidth": 0,
              "ticks": ""
             }
            },
            "type": "scatter"
           }
          ],
          "scatter3d": [
           {
            "line": {
             "colorbar": {
              "outlinewidth": 0,
              "ticks": ""
             }
            },
            "marker": {
             "colorbar": {
              "outlinewidth": 0,
              "ticks": ""
             }
            },
            "type": "scatter3d"
           }
          ],
          "scattercarpet": [
           {
            "marker": {
             "colorbar": {
              "outlinewidth": 0,
              "ticks": ""
             }
            },
            "type": "scattercarpet"
           }
          ],
          "scattergeo": [
           {
            "marker": {
             "colorbar": {
              "outlinewidth": 0,
              "ticks": ""
             }
            },
            "type": "scattergeo"
           }
          ],
          "scattergl": [
           {
            "marker": {
             "colorbar": {
              "outlinewidth": 0,
              "ticks": ""
             }
            },
            "type": "scattergl"
           }
          ],
          "scattermapbox": [
           {
            "marker": {
             "colorbar": {
              "outlinewidth": 0,
              "ticks": ""
             }
            },
            "type": "scattermapbox"
           }
          ],
          "scatterpolar": [
           {
            "marker": {
             "colorbar": {
              "outlinewidth": 0,
              "ticks": ""
             }
            },
            "type": "scatterpolar"
           }
          ],
          "scatterpolargl": [
           {
            "marker": {
             "colorbar": {
              "outlinewidth": 0,
              "ticks": ""
             }
            },
            "type": "scatterpolargl"
           }
          ],
          "scatterternary": [
           {
            "marker": {
             "colorbar": {
              "outlinewidth": 0,
              "ticks": ""
             }
            },
            "type": "scatterternary"
           }
          ],
          "surface": [
           {
            "colorbar": {
             "outlinewidth": 0,
             "ticks": ""
            },
            "colorscale": [
             [
              0,
              "#0d0887"
             ],
             [
              0.1111111111111111,
              "#46039f"
             ],
             [
              0.2222222222222222,
              "#7201a8"
             ],
             [
              0.3333333333333333,
              "#9c179e"
             ],
             [
              0.4444444444444444,
              "#bd3786"
             ],
             [
              0.5555555555555556,
              "#d8576b"
             ],
             [
              0.6666666666666666,
              "#ed7953"
             ],
             [
              0.7777777777777778,
              "#fb9f3a"
             ],
             [
              0.8888888888888888,
              "#fdca26"
             ],
             [
              1,
              "#f0f921"
             ]
            ],
            "type": "surface"
           }
          ],
          "table": [
           {
            "cells": {
             "fill": {
              "color": "#EBF0F8"
             },
             "line": {
              "color": "white"
             }
            },
            "header": {
             "fill": {
              "color": "#C8D4E3"
             },
             "line": {
              "color": "white"
             }
            },
            "type": "table"
           }
          ]
         },
         "layout": {
          "annotationdefaults": {
           "arrowcolor": "#2a3f5f",
           "arrowhead": 0,
           "arrowwidth": 1
          },
          "coloraxis": {
           "colorbar": {
            "outlinewidth": 0,
            "ticks": ""
           }
          },
          "colorscale": {
           "diverging": [
            [
             0,
             "#8e0152"
            ],
            [
             0.1,
             "#c51b7d"
            ],
            [
             0.2,
             "#de77ae"
            ],
            [
             0.3,
             "#f1b6da"
            ],
            [
             0.4,
             "#fde0ef"
            ],
            [
             0.5,
             "#f7f7f7"
            ],
            [
             0.6,
             "#e6f5d0"
            ],
            [
             0.7,
             "#b8e186"
            ],
            [
             0.8,
             "#7fbc41"
            ],
            [
             0.9,
             "#4d9221"
            ],
            [
             1,
             "#276419"
            ]
           ],
           "sequential": [
            [
             0,
             "#0d0887"
            ],
            [
             0.1111111111111111,
             "#46039f"
            ],
            [
             0.2222222222222222,
             "#7201a8"
            ],
            [
             0.3333333333333333,
             "#9c179e"
            ],
            [
             0.4444444444444444,
             "#bd3786"
            ],
            [
             0.5555555555555556,
             "#d8576b"
            ],
            [
             0.6666666666666666,
             "#ed7953"
            ],
            [
             0.7777777777777778,
             "#fb9f3a"
            ],
            [
             0.8888888888888888,
             "#fdca26"
            ],
            [
             1,
             "#f0f921"
            ]
           ],
           "sequentialminus": [
            [
             0,
             "#0d0887"
            ],
            [
             0.1111111111111111,
             "#46039f"
            ],
            [
             0.2222222222222222,
             "#7201a8"
            ],
            [
             0.3333333333333333,
             "#9c179e"
            ],
            [
             0.4444444444444444,
             "#bd3786"
            ],
            [
             0.5555555555555556,
             "#d8576b"
            ],
            [
             0.6666666666666666,
             "#ed7953"
            ],
            [
             0.7777777777777778,
             "#fb9f3a"
            ],
            [
             0.8888888888888888,
             "#fdca26"
            ],
            [
             1,
             "#f0f921"
            ]
           ]
          },
          "colorway": [
           "#636efa",
           "#EF553B",
           "#00cc96",
           "#ab63fa",
           "#FFA15A",
           "#19d3f3",
           "#FF6692",
           "#B6E880",
           "#FF97FF",
           "#FECB52"
          ],
          "font": {
           "color": "#2a3f5f"
          },
          "geo": {
           "bgcolor": "white",
           "lakecolor": "white",
           "landcolor": "#E5ECF6",
           "showlakes": true,
           "showland": true,
           "subunitcolor": "white"
          },
          "hoverlabel": {
           "align": "left"
          },
          "hovermode": "closest",
          "mapbox": {
           "style": "light"
          },
          "paper_bgcolor": "white",
          "plot_bgcolor": "#E5ECF6",
          "polar": {
           "angularaxis": {
            "gridcolor": "white",
            "linecolor": "white",
            "ticks": ""
           },
           "bgcolor": "#E5ECF6",
           "radialaxis": {
            "gridcolor": "white",
            "linecolor": "white",
            "ticks": ""
           }
          },
          "scene": {
           "xaxis": {
            "backgroundcolor": "#E5ECF6",
            "gridcolor": "white",
            "gridwidth": 2,
            "linecolor": "white",
            "showbackground": true,
            "ticks": "",
            "zerolinecolor": "white"
           },
           "yaxis": {
            "backgroundcolor": "#E5ECF6",
            "gridcolor": "white",
            "gridwidth": 2,
            "linecolor": "white",
            "showbackground": true,
            "ticks": "",
            "zerolinecolor": "white"
           },
           "zaxis": {
            "backgroundcolor": "#E5ECF6",
            "gridcolor": "white",
            "gridwidth": 2,
            "linecolor": "white",
            "showbackground": true,
            "ticks": "",
            "zerolinecolor": "white"
           }
          },
          "shapedefaults": {
           "line": {
            "color": "#2a3f5f"
           }
          },
          "ternary": {
           "aaxis": {
            "gridcolor": "white",
            "linecolor": "white",
            "ticks": ""
           },
           "baxis": {
            "gridcolor": "white",
            "linecolor": "white",
            "ticks": ""
           },
           "bgcolor": "#E5ECF6",
           "caxis": {
            "gridcolor": "white",
            "linecolor": "white",
            "ticks": ""
           }
          },
          "title": {
           "x": 0.05
          },
          "xaxis": {
           "automargin": true,
           "gridcolor": "white",
           "linecolor": "white",
           "ticks": "",
           "title": {
            "standoff": 15
           },
           "zerolinecolor": "white",
           "zerolinewidth": 2
          },
          "yaxis": {
           "automargin": true,
           "gridcolor": "white",
           "linecolor": "white",
           "ticks": "",
           "title": {
            "standoff": 15
           },
           "zerolinecolor": "white",
           "zerolinewidth": 2
          }
         }
        },
        "title": {
         "font": {
          "color": "#4D5663"
         }
        },
        "xaxis": {
         "gridcolor": "#E1E5ED",
         "showgrid": true,
         "tickfont": {
          "color": "#4D5663"
         },
         "title": {
          "font": {
           "color": "#4D5663"
          },
          "text": ""
         },
         "zerolinecolor": "#E1E5ED"
        },
        "yaxis": {
         "gridcolor": "#E1E5ED",
         "showgrid": true,
         "tickfont": {
          "color": "#4D5663"
         },
         "title": {
          "font": {
           "color": "#4D5663"
          },
          "text": ""
         },
         "zerolinecolor": "#E1E5ED"
        }
       }
      },
      "text/html": [
       "<div>\n",
       "        \n",
       "        \n",
       "            <div id=\"0ee150e8-b4a0-464e-bf69-e1cb4bbc0b7c\" class=\"plotly-graph-div\" style=\"height:525px; width:100%;\"></div>\n",
       "            <script type=\"text/javascript\">\n",
       "                require([\"plotly\"], function(Plotly) {\n",
       "                    window.PLOTLYENV=window.PLOTLYENV || {};\n",
       "                    window.PLOTLYENV.BASE_URL='https://plot.ly';\n",
       "                    \n",
       "                if (document.getElementById(\"0ee150e8-b4a0-464e-bf69-e1cb4bbc0b7c\")) {\n",
       "                    Plotly.newPlot(\n",
       "                        '0ee150e8-b4a0-464e-bf69-e1cb4bbc0b7c',\n",
       "                        [{\"marker\": {\"color\": \"rgba(255, 153, 51, 0.6)\", \"line\": {\"color\": \"rgba(255, 153, 51, 1.0)\", \"width\": 1}}, \"name\": \"None\", \"orientation\": \"v\", \"text\": \"\", \"type\": \"bar\", \"x\": [\"A\", \"B\", \"C\", \"D\"], \"y\": [100, 100, 100, 100]}],\n",
       "                        {\"legend\": {\"bgcolor\": \"#F5F6F9\", \"font\": {\"color\": \"#4D5663\"}}, \"paper_bgcolor\": \"#F5F6F9\", \"plot_bgcolor\": \"#F5F6F9\", \"template\": {\"data\": {\"bar\": [{\"error_x\": {\"color\": \"#2a3f5f\"}, \"error_y\": {\"color\": \"#2a3f5f\"}, \"marker\": {\"line\": {\"color\": \"#E5ECF6\", \"width\": 0.5}}, \"type\": \"bar\"}], \"barpolar\": [{\"marker\": {\"line\": {\"color\": \"#E5ECF6\", \"width\": 0.5}}, \"type\": \"barpolar\"}], \"carpet\": [{\"aaxis\": {\"endlinecolor\": \"#2a3f5f\", \"gridcolor\": \"white\", \"linecolor\": \"white\", \"minorgridcolor\": \"white\", \"startlinecolor\": \"#2a3f5f\"}, \"baxis\": {\"endlinecolor\": \"#2a3f5f\", \"gridcolor\": \"white\", \"linecolor\": \"white\", \"minorgridcolor\": \"white\", \"startlinecolor\": \"#2a3f5f\"}, \"type\": \"carpet\"}], \"choropleth\": [{\"colorbar\": {\"outlinewidth\": 0, \"ticks\": \"\"}, \"type\": \"choropleth\"}], \"contour\": [{\"colorbar\": {\"outlinewidth\": 0, \"ticks\": \"\"}, \"colorscale\": [[0.0, \"#0d0887\"], [0.1111111111111111, \"#46039f\"], [0.2222222222222222, \"#7201a8\"], [0.3333333333333333, \"#9c179e\"], [0.4444444444444444, \"#bd3786\"], [0.5555555555555556, \"#d8576b\"], [0.6666666666666666, \"#ed7953\"], [0.7777777777777778, \"#fb9f3a\"], [0.8888888888888888, \"#fdca26\"], [1.0, \"#f0f921\"]], \"type\": \"contour\"}], \"contourcarpet\": [{\"colorbar\": {\"outlinewidth\": 0, \"ticks\": \"\"}, \"type\": \"contourcarpet\"}], \"heatmap\": [{\"colorbar\": {\"outlinewidth\": 0, \"ticks\": \"\"}, \"colorscale\": [[0.0, \"#0d0887\"], [0.1111111111111111, \"#46039f\"], [0.2222222222222222, \"#7201a8\"], [0.3333333333333333, \"#9c179e\"], [0.4444444444444444, \"#bd3786\"], [0.5555555555555556, \"#d8576b\"], [0.6666666666666666, \"#ed7953\"], [0.7777777777777778, \"#fb9f3a\"], [0.8888888888888888, \"#fdca26\"], [1.0, \"#f0f921\"]], \"type\": \"heatmap\"}], \"heatmapgl\": [{\"colorbar\": {\"outlinewidth\": 0, \"ticks\": \"\"}, \"colorscale\": [[0.0, \"#0d0887\"], [0.1111111111111111, \"#46039f\"], [0.2222222222222222, \"#7201a8\"], [0.3333333333333333, \"#9c179e\"], [0.4444444444444444, \"#bd3786\"], [0.5555555555555556, \"#d8576b\"], [0.6666666666666666, \"#ed7953\"], [0.7777777777777778, \"#fb9f3a\"], [0.8888888888888888, \"#fdca26\"], [1.0, \"#f0f921\"]], \"type\": \"heatmapgl\"}], \"histogram\": [{\"marker\": {\"colorbar\": {\"outlinewidth\": 0, \"ticks\": \"\"}}, \"type\": \"histogram\"}], \"histogram2d\": [{\"colorbar\": {\"outlinewidth\": 0, \"ticks\": \"\"}, \"colorscale\": [[0.0, \"#0d0887\"], [0.1111111111111111, \"#46039f\"], [0.2222222222222222, \"#7201a8\"], [0.3333333333333333, \"#9c179e\"], [0.4444444444444444, \"#bd3786\"], [0.5555555555555556, \"#d8576b\"], [0.6666666666666666, \"#ed7953\"], [0.7777777777777778, \"#fb9f3a\"], [0.8888888888888888, \"#fdca26\"], [1.0, \"#f0f921\"]], \"type\": \"histogram2d\"}], \"histogram2dcontour\": [{\"colorbar\": {\"outlinewidth\": 0, \"ticks\": \"\"}, \"colorscale\": [[0.0, \"#0d0887\"], [0.1111111111111111, \"#46039f\"], [0.2222222222222222, \"#7201a8\"], [0.3333333333333333, \"#9c179e\"], [0.4444444444444444, \"#bd3786\"], [0.5555555555555556, \"#d8576b\"], [0.6666666666666666, \"#ed7953\"], [0.7777777777777778, \"#fb9f3a\"], [0.8888888888888888, \"#fdca26\"], [1.0, \"#f0f921\"]], \"type\": \"histogram2dcontour\"}], \"mesh3d\": [{\"colorbar\": {\"outlinewidth\": 0, \"ticks\": \"\"}, \"type\": \"mesh3d\"}], \"parcoords\": [{\"line\": {\"colorbar\": {\"outlinewidth\": 0, \"ticks\": \"\"}}, \"type\": \"parcoords\"}], \"pie\": [{\"automargin\": true, \"type\": \"pie\"}], \"scatter\": [{\"marker\": {\"colorbar\": {\"outlinewidth\": 0, \"ticks\": \"\"}}, \"type\": \"scatter\"}], \"scatter3d\": [{\"line\": {\"colorbar\": {\"outlinewidth\": 0, \"ticks\": \"\"}}, \"marker\": {\"colorbar\": {\"outlinewidth\": 0, \"ticks\": \"\"}}, \"type\": \"scatter3d\"}], \"scattercarpet\": [{\"marker\": {\"colorbar\": {\"outlinewidth\": 0, \"ticks\": \"\"}}, \"type\": \"scattercarpet\"}], \"scattergeo\": [{\"marker\": {\"colorbar\": {\"outlinewidth\": 0, \"ticks\": \"\"}}, \"type\": \"scattergeo\"}], \"scattergl\": [{\"marker\": {\"colorbar\": {\"outlinewidth\": 0, \"ticks\": \"\"}}, \"type\": \"scattergl\"}], \"scattermapbox\": [{\"marker\": {\"colorbar\": {\"outlinewidth\": 0, \"ticks\": \"\"}}, \"type\": \"scattermapbox\"}], \"scatterpolar\": [{\"marker\": {\"colorbar\": {\"outlinewidth\": 0, \"ticks\": \"\"}}, \"type\": \"scatterpolar\"}], \"scatterpolargl\": [{\"marker\": {\"colorbar\": {\"outlinewidth\": 0, \"ticks\": \"\"}}, \"type\": \"scatterpolargl\"}], \"scatterternary\": [{\"marker\": {\"colorbar\": {\"outlinewidth\": 0, \"ticks\": \"\"}}, \"type\": \"scatterternary\"}], \"surface\": [{\"colorbar\": {\"outlinewidth\": 0, \"ticks\": \"\"}, \"colorscale\": [[0.0, \"#0d0887\"], [0.1111111111111111, \"#46039f\"], [0.2222222222222222, \"#7201a8\"], [0.3333333333333333, \"#9c179e\"], [0.4444444444444444, \"#bd3786\"], [0.5555555555555556, \"#d8576b\"], [0.6666666666666666, \"#ed7953\"], [0.7777777777777778, \"#fb9f3a\"], [0.8888888888888888, \"#fdca26\"], [1.0, \"#f0f921\"]], \"type\": \"surface\"}], \"table\": [{\"cells\": {\"fill\": {\"color\": \"#EBF0F8\"}, \"line\": {\"color\": \"white\"}}, \"header\": {\"fill\": {\"color\": \"#C8D4E3\"}, \"line\": {\"color\": \"white\"}}, \"type\": \"table\"}]}, \"layout\": {\"annotationdefaults\": {\"arrowcolor\": \"#2a3f5f\", \"arrowhead\": 0, \"arrowwidth\": 1}, \"coloraxis\": {\"colorbar\": {\"outlinewidth\": 0, \"ticks\": \"\"}}, \"colorscale\": {\"diverging\": [[0, \"#8e0152\"], [0.1, \"#c51b7d\"], [0.2, \"#de77ae\"], [0.3, \"#f1b6da\"], [0.4, \"#fde0ef\"], [0.5, \"#f7f7f7\"], [0.6, \"#e6f5d0\"], [0.7, \"#b8e186\"], [0.8, \"#7fbc41\"], [0.9, \"#4d9221\"], [1, \"#276419\"]], \"sequential\": [[0.0, \"#0d0887\"], [0.1111111111111111, \"#46039f\"], [0.2222222222222222, \"#7201a8\"], [0.3333333333333333, \"#9c179e\"], [0.4444444444444444, \"#bd3786\"], [0.5555555555555556, \"#d8576b\"], [0.6666666666666666, \"#ed7953\"], [0.7777777777777778, \"#fb9f3a\"], [0.8888888888888888, \"#fdca26\"], [1.0, \"#f0f921\"]], \"sequentialminus\": [[0.0, \"#0d0887\"], [0.1111111111111111, \"#46039f\"], [0.2222222222222222, \"#7201a8\"], [0.3333333333333333, \"#9c179e\"], [0.4444444444444444, \"#bd3786\"], [0.5555555555555556, \"#d8576b\"], [0.6666666666666666, \"#ed7953\"], [0.7777777777777778, \"#fb9f3a\"], [0.8888888888888888, \"#fdca26\"], [1.0, \"#f0f921\"]]}, \"colorway\": [\"#636efa\", \"#EF553B\", \"#00cc96\", \"#ab63fa\", \"#FFA15A\", \"#19d3f3\", \"#FF6692\", \"#B6E880\", \"#FF97FF\", \"#FECB52\"], \"font\": {\"color\": \"#2a3f5f\"}, \"geo\": {\"bgcolor\": \"white\", \"lakecolor\": \"white\", \"landcolor\": \"#E5ECF6\", \"showlakes\": true, \"showland\": true, \"subunitcolor\": \"white\"}, \"hoverlabel\": {\"align\": \"left\"}, \"hovermode\": \"closest\", \"mapbox\": {\"style\": \"light\"}, \"paper_bgcolor\": \"white\", \"plot_bgcolor\": \"#E5ECF6\", \"polar\": {\"angularaxis\": {\"gridcolor\": \"white\", \"linecolor\": \"white\", \"ticks\": \"\"}, \"bgcolor\": \"#E5ECF6\", \"radialaxis\": {\"gridcolor\": \"white\", \"linecolor\": \"white\", \"ticks\": \"\"}}, \"scene\": {\"xaxis\": {\"backgroundcolor\": \"#E5ECF6\", \"gridcolor\": \"white\", \"gridwidth\": 2, \"linecolor\": \"white\", \"showbackground\": true, \"ticks\": \"\", \"zerolinecolor\": \"white\"}, \"yaxis\": {\"backgroundcolor\": \"#E5ECF6\", \"gridcolor\": \"white\", \"gridwidth\": 2, \"linecolor\": \"white\", \"showbackground\": true, \"ticks\": \"\", \"zerolinecolor\": \"white\"}, \"zaxis\": {\"backgroundcolor\": \"#E5ECF6\", \"gridcolor\": \"white\", \"gridwidth\": 2, \"linecolor\": \"white\", \"showbackground\": true, \"ticks\": \"\", \"zerolinecolor\": \"white\"}}, \"shapedefaults\": {\"line\": {\"color\": \"#2a3f5f\"}}, \"ternary\": {\"aaxis\": {\"gridcolor\": \"white\", \"linecolor\": \"white\", \"ticks\": \"\"}, \"baxis\": {\"gridcolor\": \"white\", \"linecolor\": \"white\", \"ticks\": \"\"}, \"bgcolor\": \"#E5ECF6\", \"caxis\": {\"gridcolor\": \"white\", \"linecolor\": \"white\", \"ticks\": \"\"}}, \"title\": {\"x\": 0.05}, \"xaxis\": {\"automargin\": true, \"gridcolor\": \"white\", \"linecolor\": \"white\", \"ticks\": \"\", \"title\": {\"standoff\": 15}, \"zerolinecolor\": \"white\", \"zerolinewidth\": 2}, \"yaxis\": {\"automargin\": true, \"gridcolor\": \"white\", \"linecolor\": \"white\", \"ticks\": \"\", \"title\": {\"standoff\": 15}, \"zerolinecolor\": \"white\", \"zerolinewidth\": 2}}}, \"title\": {\"font\": {\"color\": \"#4D5663\"}}, \"xaxis\": {\"gridcolor\": \"#E1E5ED\", \"showgrid\": true, \"tickfont\": {\"color\": \"#4D5663\"}, \"title\": {\"font\": {\"color\": \"#4D5663\"}, \"text\": \"\"}, \"zerolinecolor\": \"#E1E5ED\"}, \"yaxis\": {\"gridcolor\": \"#E1E5ED\", \"showgrid\": true, \"tickfont\": {\"color\": \"#4D5663\"}, \"title\": {\"font\": {\"color\": \"#4D5663\"}, \"text\": \"\"}, \"zerolinecolor\": \"#E1E5ED\"}},\n",
       "                        {\"showLink\": true, \"linkText\": \"Export to plot.ly\", \"plotlyServerURL\": \"https://plot.ly\", \"responsive\": true}\n",
       "                    ).then(function(){\n",
       "                            \n",
       "var gd = document.getElementById('0ee150e8-b4a0-464e-bf69-e1cb4bbc0b7c');\n",
       "var x = new MutationObserver(function (mutations, observer) {{\n",
       "        var display = window.getComputedStyle(gd).display;\n",
       "        if (!display || display === 'none') {{\n",
       "            console.log([gd, 'removed!']);\n",
       "            Plotly.purge(gd);\n",
       "            observer.disconnect();\n",
       "        }}\n",
       "}});\n",
       "\n",
       "// Listen for the removal of the full notebook cells\n",
       "var notebookContainer = gd.closest('#notebook-container');\n",
       "if (notebookContainer) {{\n",
       "    x.observe(notebookContainer, {childList: true});\n",
       "}}\n",
       "\n",
       "// Listen for the clearing of the current output cell\n",
       "var outputEl = gd.closest('.output');\n",
       "if (outputEl) {{\n",
       "    x.observe(outputEl, {childList: true});\n",
       "}}\n",
       "\n",
       "                        })\n",
       "                };\n",
       "                });\n",
       "            </script>\n",
       "        </div>"
      ]
     },
     "metadata": {},
     "output_type": "display_data"
    }
   ],
   "source": [
    "df.count().iplot(kind='bar')"
   ]
  },
  {
   "cell_type": "markdown",
   "metadata": {},
   "source": [
    "## Boxplots"
   ]
  },
  {
   "cell_type": "code",
   "execution_count": 14,
   "metadata": {},
   "outputs": [
    {
     "data": {
      "application/vnd.plotly.v1+json": {
       "config": {
        "linkText": "Export to plot.ly",
        "plotlyServerURL": "https://plot.ly",
        "showLink": true
       },
       "data": [
        {
         "boxpoints": false,
         "line": {
          "width": 1.3
         },
         "marker": {
          "color": "rgba(255, 153, 51, 1.0)"
         },
         "name": "A",
         "orientation": "v",
         "type": "box",
         "y": [
          0.34047230985417487,
          -0.5470601833793309,
          -1.2675378278930967,
          0.6491316044070555,
          0.9790849726054258,
          -1.733015324001771,
          2.290389321238637,
          0.036454781028621284,
          -0.9037565027827843,
          -1.0646210198714885,
          -0.7739593465059703,
          1.349709681088898,
          0.023198104431787304,
          0.7097968765591369,
          -1.3190373996246016,
          0.4432749340244109,
          0.3382114080093792,
          -0.08149571062505023,
          1.054706512426422,
          0.42840307080408696,
          -1.1416823676520806,
          -1.2051615303417365,
          0.12727852193154782,
          1.5308805794798286,
          -0.9927193045515985,
          -1.3366979353879058,
          0.1955269139584091,
          0.7930215179572049,
          1.3146642283206003,
          -1.018328645349817,
          1.528175135223415,
          1.5199500968770436,
          -0.14568948608290364,
          0.673767247732877,
          -0.6291547478631949,
          1.7237260355384059,
          -2.128409866142235,
          -1.2564105832946104,
          -0.9946511182748657,
          1.3286998088243123,
          -0.9073035901180493,
          1.1431477794473277,
          0.3637094958135473,
          -0.5556350676836874,
          -0.784958397741709,
          0.6599181211812783,
          0.9327041584723281,
          0.317808086352773,
          -0.45128432794925066,
          0.02169308947579233,
          -0.38352504449075225,
          0.2007362243585566,
          0.4888528181246676,
          -1.1903891833358475,
          -0.7363204708075135,
          0.5353027969158113,
          -0.009098706058621205,
          -0.38651580048044665,
          -1.9505943181122882,
          -0.5563156651329674,
          -2.137311930174342,
          -1.2725741121684107,
          -0.7820156364185031,
          1.5364104241185321,
          -0.418215415271642,
          1.7995202888116273,
          -1.4828590310985599,
          -1.527662283535423,
          0.9793840714449367,
          0.6974261641817958,
          0.9298674505655383,
          0.1463230889023217,
          0.18558750120210715,
          -0.8649984819098265,
          1.1923650660250928,
          -0.7288791022947565,
          0.16187314515212994,
          0.07901352569282546,
          -0.6864257743133744,
          -0.7638958537068636,
          0.09777129712374978,
          1.9894840606243682,
          0.4452067408586412,
          0.283836967561087,
          0.68803706432445,
          -0.2132472849823426,
          -1.3999549932879618,
          -0.5569138588321604,
          1.647324139450391,
          0.31164492300874735,
          -0.27526326737804385,
          1.3396705591673788,
          1.4354991278104445,
          -0.7754158123349962,
          1.0576465217387125,
          -1.2567399072669017,
          1.417915162857051,
          0.41595710155807697,
          -0.3542636977169401,
          -1.8437068141659367
         ]
        },
        {
         "boxpoints": false,
         "line": {
          "width": 1.3
         },
         "marker": {
          "color": "rgba(55, 128, 191, 1.0)"
         },
         "name": "B",
         "orientation": "v",
         "type": "box",
         "y": [
          1.9943407701544202,
          0.8732976700461123,
          -0.44787696876144895,
          1.0780976820731896,
          1.6078548939101063,
          0.16317980233584287,
          0.5496495894598031,
          1.0102362546831511,
          -0.511917744122489,
          0.281743139062265,
          0.7216725536292614,
          0.1741682812166515,
          0.1785643052722124,
          -0.30481786184645304,
          -1.8509950817133969,
          -0.23778690258463708,
          -0.8630716467228144,
          0.4051284595491349,
          0.011693486607671525,
          -1.140316247327179,
          0.6961449106580708,
          0.07628529046739924,
          -0.15896345593945824,
          -0.914561014980909,
          -0.2899171259555344,
          1.395367474369876,
          0.9559938410991375,
          0.14143756597235277,
          0.9808198546062713,
          -0.9506065975501895,
          0.3328695743314853,
          0.17362323075461195,
          0.8629566207204599,
          0.6711995161432158,
          -1.7252037236321254,
          0.1050150185451266,
          -0.6776206987366905,
          0.9050109638072361,
          0.3120914384835461,
          -0.13682847797414394,
          -1.0338304213946623,
          0.12395061715807465,
          0.38545359854491457,
          1.5558315877417646,
          -0.5525591461019096,
          0.5755905862673705,
          0.11594421839394252,
          2.009669467433262,
          0.6720174995283758,
          3.9800981023976028,
          2.012483027853531,
          -0.0165911044931047,
          0.5436983124669627,
          0.2533224887728271,
          -2.3115522998318236,
          -0.24923560962574012,
          -1.9232267183238132,
          0.05722815876193648,
          -1.666760834897929,
          0.025844967526200354,
          0.5155027670327164,
          0.5022409291069994,
          1.949038917238445,
          -1.4855667244693458,
          0.8178687661814977,
          1.4168279164506383,
          0.11816388408156939,
          0.030444589926006436,
          0.8583597561128744,
          0.1447413788502021,
          1.3857459334031041,
          -0.3462272443036162,
          -0.7601756038235645,
          -0.19531967449619628,
          -0.1736275096618453,
          0.33535248752757185,
          0.42462100759789134,
          0.17980065301228668,
          -0.04382890283922368,
          -0.12302613525369319,
          0.8000120765971616,
          -0.7178499919504112,
          0.2307414841193989,
          2.0714126632499665,
          1.7101980155882819,
          0.9710013499136046,
          -0.6715146320607761,
          -0.38662889542131273,
          -0.009607146099274804,
          -0.7892315730989675,
          -0.0174069311032387,
          0.2380637833909742,
          0.9424713187875836,
          0.24371148622077551,
          0.5877903592172993,
          0.24724599456167232,
          -0.2184726763217426,
          0.6178629971468542,
          -0.5268844662083302,
          0.12452138333049734
         ]
        },
        {
         "boxpoints": false,
         "line": {
          "width": 1.3
         },
         "marker": {
          "color": "rgba(50, 171, 96, 1.0)"
         },
         "name": "C",
         "orientation": "v",
         "type": "box",
         "y": [
          -0.04771395406536712,
          -1.5043416811675911,
          -1.0115571512189343,
          -0.3196881580095592,
          -0.48460926456026693,
          1.9324800528343704,
          -0.6750083050666905,
          -1.1928616122136295,
          0.22462422287366487,
          0.8172709744741067,
          1.1322305903744152,
          -0.15709969622329584,
          -1.3774672022747636,
          0.2578436147614736,
          -0.9417276351734839,
          -1.3677279147130692,
          2.531275836486691,
          -2.4247358633491745,
          -1.1743548283392375,
          0.32313460584764103,
          -0.05760005939342712,
          -1.2124084328812565,
          0.4440771525759291,
          -0.5287821003798321,
          0.8877937147896016,
          0.788082572247507,
          -0.4024078037919625,
          0.6768352646931419,
          1.124769340290542,
          1.514974366849765,
          0.24297458585476567,
          -0.6717924323579235,
          0.9700825220303908,
          1.3011011834029327,
          0.5595008546143619,
          -1.9107628935218424,
          0.6186427496640683,
          -1.3160373290467176,
          -0.711531460545435,
          -0.9704509328628098,
          -1.515870252607532,
          1.2685873954064992,
          -0.9373625765813777,
          0.08431574252417799,
          0.6209218652222007,
          -0.34977632773410233,
          0.05742309393247231,
          0.46848099989783293,
          -0.7012016950031474,
          1.6056656668519755,
          0.8897581396029682,
          -0.4397761711110293,
          -0.023013281784482753,
          0.24986744106213793,
          -1.4052573635124295,
          -1.8369821561209823,
          1.146483080516584,
          0.8747052961016265,
          -0.2136239740210405,
          0.18854567408788925,
          1.889355327229068,
          0.5355174486924671,
          1.36892644822141,
          0.725397359400518,
          -0.06354056164120563,
          0.4085339621321921,
          0.3155740523689549,
          1.5308259601478147,
          -2.0652698103461717,
          -0.726915663761446,
          1.1433844012357315,
          -1.301904532381038,
          0.48405131134391616,
          -0.39233488595636745,
          0.6432409606580904,
          -0.7781352236860143,
          0.8410939618043733,
          0.333085900767765,
          -0.057432172242264955,
          1.180448028127175,
          0.05168178418258711,
          0.13279630314547816,
          0.5923226265772704,
          0.7040703331376651,
          -1.2590114830545602,
          0.017285546023253325,
          1.1241265261455342,
          1.106064464217237,
          0.07088827925376733,
          -0.567679453807794,
          0.1260003892331238,
          1.6952764522942068,
          -0.21088715728804597,
          1.225933806417049,
          0.9085444819827736,
          0.5963963921595337,
          -0.6191685292863695,
          -1.3252801506002794,
          1.0356708943482635,
          -0.03329873623661065
         ]
        },
        {
         "boxpoints": false,
         "line": {
          "width": 1.3
         },
         "marker": {
          "color": "rgba(128, 0, 128, 1.0)"
         },
         "name": "D",
         "orientation": "v",
         "type": "box",
         "y": [
          1.2589569333371988,
          -0.031839142990460055,
          0.8189306812569733,
          -1.5246622267306469,
          -0.5063021320591772,
          -1.325476643544345,
          -0.6860637670997545,
          0.26461506776763893,
          -1.3622374707425282,
          -1.1637671181309004,
          -0.6360147100514426,
          -1.2648457466711012,
          1.1729852001238945,
          0.9817917825788705,
          1.158663697693098,
          2.0033356762471572,
          1.151628003613701,
          0.9952248652572545,
          -0.9223129537113125,
          -0.9012094254762871,
          -2.358464908201899,
          -0.8779060902868782,
          1.7780814166977388,
          -1.2837144668636435,
          1.0788074001706647,
          0.770709635679897,
          -1.9878346523176658,
          -0.22118188978377493,
          2.1803495732281513,
          -0.896958042621838,
          1.166657003520393,
          0.5591935822423297,
          -0.09120268790707306,
          1.372362763596523,
          -0.7587802387416756,
          -1.3367390809112585,
          -0.5496673125494758,
          -1.5956698027689833,
          -0.3085149900255551,
          -0.9515740829350039,
          -0.9764054457259063,
          0.20089254558087585,
          -1.1837907353589752,
          0.6273309156347018,
          0.480621080009327,
          -0.9923194436331658,
          -3.028655703581262,
          -0.4429279152892181,
          2.160253584830107,
          0.9596230747544598,
          -0.15095801929746455,
          -1.1792434907178488,
          1.9048354665303866,
          1.589045848139221,
          1.2646665300793827,
          0.3307024069427885,
          -0.42387849561392804,
          0.18918064164554008,
          1.8488605785378829,
          -0.6368917782634007,
          0.8078496252511943,
          -0.18986818989758067,
          -0.31935533376073333,
          -0.6167948807496727,
          -0.36205457928696344,
          0.087666167461351,
          0.47065582674596174,
          -0.8780610254712392,
          -1.0425678809274128,
          0.5748800716291017,
          -1.2005976154785882,
          1.3643716247377509,
          -0.6248742169432608,
          -1.552085522748234,
          0.8088923435765261,
          0.383184951273274,
          -0.04573367626531149,
          0.7506583580900915,
          0.2641442429416921,
          -1.3880184791637802,
          -0.49665476455912105,
          -0.49058018996490355,
          0.5437968834463308,
          -1.2925010205921783,
          0.3688794580477229,
          0.8470476490303701,
          1.4947755226044173,
          -1.1309217018103088,
          -0.6948701616929415,
          0.3308987928289656,
          0.058128707790018594,
          1.085648726485594,
          -0.9028762557922876,
          2.391031754184587,
          -1.6654687376941901,
          0.6788538544656444,
          -0.21499223351475188,
          -0.24686079659496307,
          -0.4784093744551463,
          -0.7504531919618652
         ]
        }
       ],
       "layout": {
        "legend": {
         "bgcolor": "#F5F6F9",
         "font": {
          "color": "#4D5663"
         }
        },
        "paper_bgcolor": "#F5F6F9",
        "plot_bgcolor": "#F5F6F9",
        "template": {
         "data": {
          "bar": [
           {
            "error_x": {
             "color": "#2a3f5f"
            },
            "error_y": {
             "color": "#2a3f5f"
            },
            "marker": {
             "line": {
              "color": "#E5ECF6",
              "width": 0.5
             }
            },
            "type": "bar"
           }
          ],
          "barpolar": [
           {
            "marker": {
             "line": {
              "color": "#E5ECF6",
              "width": 0.5
             }
            },
            "type": "barpolar"
           }
          ],
          "carpet": [
           {
            "aaxis": {
             "endlinecolor": "#2a3f5f",
             "gridcolor": "white",
             "linecolor": "white",
             "minorgridcolor": "white",
             "startlinecolor": "#2a3f5f"
            },
            "baxis": {
             "endlinecolor": "#2a3f5f",
             "gridcolor": "white",
             "linecolor": "white",
             "minorgridcolor": "white",
             "startlinecolor": "#2a3f5f"
            },
            "type": "carpet"
           }
          ],
          "choropleth": [
           {
            "colorbar": {
             "outlinewidth": 0,
             "ticks": ""
            },
            "type": "choropleth"
           }
          ],
          "contour": [
           {
            "colorbar": {
             "outlinewidth": 0,
             "ticks": ""
            },
            "colorscale": [
             [
              0,
              "#0d0887"
             ],
             [
              0.1111111111111111,
              "#46039f"
             ],
             [
              0.2222222222222222,
              "#7201a8"
             ],
             [
              0.3333333333333333,
              "#9c179e"
             ],
             [
              0.4444444444444444,
              "#bd3786"
             ],
             [
              0.5555555555555556,
              "#d8576b"
             ],
             [
              0.6666666666666666,
              "#ed7953"
             ],
             [
              0.7777777777777778,
              "#fb9f3a"
             ],
             [
              0.8888888888888888,
              "#fdca26"
             ],
             [
              1,
              "#f0f921"
             ]
            ],
            "type": "contour"
           }
          ],
          "contourcarpet": [
           {
            "colorbar": {
             "outlinewidth": 0,
             "ticks": ""
            },
            "type": "contourcarpet"
           }
          ],
          "heatmap": [
           {
            "colorbar": {
             "outlinewidth": 0,
             "ticks": ""
            },
            "colorscale": [
             [
              0,
              "#0d0887"
             ],
             [
              0.1111111111111111,
              "#46039f"
             ],
             [
              0.2222222222222222,
              "#7201a8"
             ],
             [
              0.3333333333333333,
              "#9c179e"
             ],
             [
              0.4444444444444444,
              "#bd3786"
             ],
             [
              0.5555555555555556,
              "#d8576b"
             ],
             [
              0.6666666666666666,
              "#ed7953"
             ],
             [
              0.7777777777777778,
              "#fb9f3a"
             ],
             [
              0.8888888888888888,
              "#fdca26"
             ],
             [
              1,
              "#f0f921"
             ]
            ],
            "type": "heatmap"
           }
          ],
          "heatmapgl": [
           {
            "colorbar": {
             "outlinewidth": 0,
             "ticks": ""
            },
            "colorscale": [
             [
              0,
              "#0d0887"
             ],
             [
              0.1111111111111111,
              "#46039f"
             ],
             [
              0.2222222222222222,
              "#7201a8"
             ],
             [
              0.3333333333333333,
              "#9c179e"
             ],
             [
              0.4444444444444444,
              "#bd3786"
             ],
             [
              0.5555555555555556,
              "#d8576b"
             ],
             [
              0.6666666666666666,
              "#ed7953"
             ],
             [
              0.7777777777777778,
              "#fb9f3a"
             ],
             [
              0.8888888888888888,
              "#fdca26"
             ],
             [
              1,
              "#f0f921"
             ]
            ],
            "type": "heatmapgl"
           }
          ],
          "histogram": [
           {
            "marker": {
             "colorbar": {
              "outlinewidth": 0,
              "ticks": ""
             }
            },
            "type": "histogram"
           }
          ],
          "histogram2d": [
           {
            "colorbar": {
             "outlinewidth": 0,
             "ticks": ""
            },
            "colorscale": [
             [
              0,
              "#0d0887"
             ],
             [
              0.1111111111111111,
              "#46039f"
             ],
             [
              0.2222222222222222,
              "#7201a8"
             ],
             [
              0.3333333333333333,
              "#9c179e"
             ],
             [
              0.4444444444444444,
              "#bd3786"
             ],
             [
              0.5555555555555556,
              "#d8576b"
             ],
             [
              0.6666666666666666,
              "#ed7953"
             ],
             [
              0.7777777777777778,
              "#fb9f3a"
             ],
             [
              0.8888888888888888,
              "#fdca26"
             ],
             [
              1,
              "#f0f921"
             ]
            ],
            "type": "histogram2d"
           }
          ],
          "histogram2dcontour": [
           {
            "colorbar": {
             "outlinewidth": 0,
             "ticks": ""
            },
            "colorscale": [
             [
              0,
              "#0d0887"
             ],
             [
              0.1111111111111111,
              "#46039f"
             ],
             [
              0.2222222222222222,
              "#7201a8"
             ],
             [
              0.3333333333333333,
              "#9c179e"
             ],
             [
              0.4444444444444444,
              "#bd3786"
             ],
             [
              0.5555555555555556,
              "#d8576b"
             ],
             [
              0.6666666666666666,
              "#ed7953"
             ],
             [
              0.7777777777777778,
              "#fb9f3a"
             ],
             [
              0.8888888888888888,
              "#fdca26"
             ],
             [
              1,
              "#f0f921"
             ]
            ],
            "type": "histogram2dcontour"
           }
          ],
          "mesh3d": [
           {
            "colorbar": {
             "outlinewidth": 0,
             "ticks": ""
            },
            "type": "mesh3d"
           }
          ],
          "parcoords": [
           {
            "line": {
             "colorbar": {
              "outlinewidth": 0,
              "ticks": ""
             }
            },
            "type": "parcoords"
           }
          ],
          "pie": [
           {
            "automargin": true,
            "type": "pie"
           }
          ],
          "scatter": [
           {
            "marker": {
             "colorbar": {
              "outlinewidth": 0,
              "ticks": ""
             }
            },
            "type": "scatter"
           }
          ],
          "scatter3d": [
           {
            "line": {
             "colorbar": {
              "outlinewidth": 0,
              "ticks": ""
             }
            },
            "marker": {
             "colorbar": {
              "outlinewidth": 0,
              "ticks": ""
             }
            },
            "type": "scatter3d"
           }
          ],
          "scattercarpet": [
           {
            "marker": {
             "colorbar": {
              "outlinewidth": 0,
              "ticks": ""
             }
            },
            "type": "scattercarpet"
           }
          ],
          "scattergeo": [
           {
            "marker": {
             "colorbar": {
              "outlinewidth": 0,
              "ticks": ""
             }
            },
            "type": "scattergeo"
           }
          ],
          "scattergl": [
           {
            "marker": {
             "colorbar": {
              "outlinewidth": 0,
              "ticks": ""
             }
            },
            "type": "scattergl"
           }
          ],
          "scattermapbox": [
           {
            "marker": {
             "colorbar": {
              "outlinewidth": 0,
              "ticks": ""
             }
            },
            "type": "scattermapbox"
           }
          ],
          "scatterpolar": [
           {
            "marker": {
             "colorbar": {
              "outlinewidth": 0,
              "ticks": ""
             }
            },
            "type": "scatterpolar"
           }
          ],
          "scatterpolargl": [
           {
            "marker": {
             "colorbar": {
              "outlinewidth": 0,
              "ticks": ""
             }
            },
            "type": "scatterpolargl"
           }
          ],
          "scatterternary": [
           {
            "marker": {
             "colorbar": {
              "outlinewidth": 0,
              "ticks": ""
             }
            },
            "type": "scatterternary"
           }
          ],
          "surface": [
           {
            "colorbar": {
             "outlinewidth": 0,
             "ticks": ""
            },
            "colorscale": [
             [
              0,
              "#0d0887"
             ],
             [
              0.1111111111111111,
              "#46039f"
             ],
             [
              0.2222222222222222,
              "#7201a8"
             ],
             [
              0.3333333333333333,
              "#9c179e"
             ],
             [
              0.4444444444444444,
              "#bd3786"
             ],
             [
              0.5555555555555556,
              "#d8576b"
             ],
             [
              0.6666666666666666,
              "#ed7953"
             ],
             [
              0.7777777777777778,
              "#fb9f3a"
             ],
             [
              0.8888888888888888,
              "#fdca26"
             ],
             [
              1,
              "#f0f921"
             ]
            ],
            "type": "surface"
           }
          ],
          "table": [
           {
            "cells": {
             "fill": {
              "color": "#EBF0F8"
             },
             "line": {
              "color": "white"
             }
            },
            "header": {
             "fill": {
              "color": "#C8D4E3"
             },
             "line": {
              "color": "white"
             }
            },
            "type": "table"
           }
          ]
         },
         "layout": {
          "annotationdefaults": {
           "arrowcolor": "#2a3f5f",
           "arrowhead": 0,
           "arrowwidth": 1
          },
          "coloraxis": {
           "colorbar": {
            "outlinewidth": 0,
            "ticks": ""
           }
          },
          "colorscale": {
           "diverging": [
            [
             0,
             "#8e0152"
            ],
            [
             0.1,
             "#c51b7d"
            ],
            [
             0.2,
             "#de77ae"
            ],
            [
             0.3,
             "#f1b6da"
            ],
            [
             0.4,
             "#fde0ef"
            ],
            [
             0.5,
             "#f7f7f7"
            ],
            [
             0.6,
             "#e6f5d0"
            ],
            [
             0.7,
             "#b8e186"
            ],
            [
             0.8,
             "#7fbc41"
            ],
            [
             0.9,
             "#4d9221"
            ],
            [
             1,
             "#276419"
            ]
           ],
           "sequential": [
            [
             0,
             "#0d0887"
            ],
            [
             0.1111111111111111,
             "#46039f"
            ],
            [
             0.2222222222222222,
             "#7201a8"
            ],
            [
             0.3333333333333333,
             "#9c179e"
            ],
            [
             0.4444444444444444,
             "#bd3786"
            ],
            [
             0.5555555555555556,
             "#d8576b"
            ],
            [
             0.6666666666666666,
             "#ed7953"
            ],
            [
             0.7777777777777778,
             "#fb9f3a"
            ],
            [
             0.8888888888888888,
             "#fdca26"
            ],
            [
             1,
             "#f0f921"
            ]
           ],
           "sequentialminus": [
            [
             0,
             "#0d0887"
            ],
            [
             0.1111111111111111,
             "#46039f"
            ],
            [
             0.2222222222222222,
             "#7201a8"
            ],
            [
             0.3333333333333333,
             "#9c179e"
            ],
            [
             0.4444444444444444,
             "#bd3786"
            ],
            [
             0.5555555555555556,
             "#d8576b"
            ],
            [
             0.6666666666666666,
             "#ed7953"
            ],
            [
             0.7777777777777778,
             "#fb9f3a"
            ],
            [
             0.8888888888888888,
             "#fdca26"
            ],
            [
             1,
             "#f0f921"
            ]
           ]
          },
          "colorway": [
           "#636efa",
           "#EF553B",
           "#00cc96",
           "#ab63fa",
           "#FFA15A",
           "#19d3f3",
           "#FF6692",
           "#B6E880",
           "#FF97FF",
           "#FECB52"
          ],
          "font": {
           "color": "#2a3f5f"
          },
          "geo": {
           "bgcolor": "white",
           "lakecolor": "white",
           "landcolor": "#E5ECF6",
           "showlakes": true,
           "showland": true,
           "subunitcolor": "white"
          },
          "hoverlabel": {
           "align": "left"
          },
          "hovermode": "closest",
          "mapbox": {
           "style": "light"
          },
          "paper_bgcolor": "white",
          "plot_bgcolor": "#E5ECF6",
          "polar": {
           "angularaxis": {
            "gridcolor": "white",
            "linecolor": "white",
            "ticks": ""
           },
           "bgcolor": "#E5ECF6",
           "radialaxis": {
            "gridcolor": "white",
            "linecolor": "white",
            "ticks": ""
           }
          },
          "scene": {
           "xaxis": {
            "backgroundcolor": "#E5ECF6",
            "gridcolor": "white",
            "gridwidth": 2,
            "linecolor": "white",
            "showbackground": true,
            "ticks": "",
            "zerolinecolor": "white"
           },
           "yaxis": {
            "backgroundcolor": "#E5ECF6",
            "gridcolor": "white",
            "gridwidth": 2,
            "linecolor": "white",
            "showbackground": true,
            "ticks": "",
            "zerolinecolor": "white"
           },
           "zaxis": {
            "backgroundcolor": "#E5ECF6",
            "gridcolor": "white",
            "gridwidth": 2,
            "linecolor": "white",
            "showbackground": true,
            "ticks": "",
            "zerolinecolor": "white"
           }
          },
          "shapedefaults": {
           "line": {
            "color": "#2a3f5f"
           }
          },
          "ternary": {
           "aaxis": {
            "gridcolor": "white",
            "linecolor": "white",
            "ticks": ""
           },
           "baxis": {
            "gridcolor": "white",
            "linecolor": "white",
            "ticks": ""
           },
           "bgcolor": "#E5ECF6",
           "caxis": {
            "gridcolor": "white",
            "linecolor": "white",
            "ticks": ""
           }
          },
          "title": {
           "x": 0.05
          },
          "xaxis": {
           "automargin": true,
           "gridcolor": "white",
           "linecolor": "white",
           "ticks": "",
           "title": {
            "standoff": 15
           },
           "zerolinecolor": "white",
           "zerolinewidth": 2
          },
          "yaxis": {
           "automargin": true,
           "gridcolor": "white",
           "linecolor": "white",
           "ticks": "",
           "title": {
            "standoff": 15
           },
           "zerolinecolor": "white",
           "zerolinewidth": 2
          }
         }
        },
        "title": {
         "font": {
          "color": "#4D5663"
         }
        },
        "xaxis": {
         "gridcolor": "#E1E5ED",
         "showgrid": true,
         "tickfont": {
          "color": "#4D5663"
         },
         "title": {
          "font": {
           "color": "#4D5663"
          },
          "text": ""
         },
         "zerolinecolor": "#E1E5ED"
        },
        "yaxis": {
         "gridcolor": "#E1E5ED",
         "showgrid": true,
         "tickfont": {
          "color": "#4D5663"
         },
         "title": {
          "font": {
           "color": "#4D5663"
          },
          "text": ""
         },
         "zerolinecolor": "#E1E5ED"
        }
       }
      },
      "text/html": [
       "<div>\n",
       "        \n",
       "        \n",
       "            <div id=\"f5a1d980-d62e-4161-a8cc-c8ebabfd6057\" class=\"plotly-graph-div\" style=\"height:525px; width:100%;\"></div>\n",
       "            <script type=\"text/javascript\">\n",
       "                require([\"plotly\"], function(Plotly) {\n",
       "                    window.PLOTLYENV=window.PLOTLYENV || {};\n",
       "                    window.PLOTLYENV.BASE_URL='https://plot.ly';\n",
       "                    \n",
       "                if (document.getElementById(\"f5a1d980-d62e-4161-a8cc-c8ebabfd6057\")) {\n",
       "                    Plotly.newPlot(\n",
       "                        'f5a1d980-d62e-4161-a8cc-c8ebabfd6057',\n",
       "                        [{\"boxpoints\": false, \"line\": {\"width\": 1.3}, \"marker\": {\"color\": \"rgba(255, 153, 51, 1.0)\"}, \"name\": \"A\", \"orientation\": \"v\", \"type\": \"box\", \"y\": [0.34047230985417487, -0.5470601833793309, -1.2675378278930967, 0.6491316044070555, 0.9790849726054258, -1.733015324001771, 2.290389321238637, 0.036454781028621284, -0.9037565027827843, -1.0646210198714885, -0.7739593465059703, 1.349709681088898, 0.023198104431787304, 0.7097968765591369, -1.3190373996246016, 0.4432749340244109, 0.3382114080093792, -0.08149571062505023, 1.054706512426422, 0.42840307080408696, -1.1416823676520806, -1.2051615303417365, 0.12727852193154782, 1.5308805794798286, -0.9927193045515985, -1.3366979353879058, 0.1955269139584091, 0.7930215179572049, 1.3146642283206003, -1.018328645349817, 1.528175135223415, 1.5199500968770436, -0.14568948608290364, 0.673767247732877, -0.6291547478631949, 1.7237260355384059, -2.128409866142235, -1.2564105832946104, -0.9946511182748657, 1.3286998088243123, -0.9073035901180493, 1.1431477794473277, 0.3637094958135473, -0.5556350676836874, -0.784958397741709, 0.6599181211812783, 0.9327041584723281, 0.317808086352773, -0.45128432794925066, 0.02169308947579233, -0.38352504449075225, 0.2007362243585566, 0.4888528181246676, -1.1903891833358475, -0.7363204708075135, 0.5353027969158113, -0.009098706058621205, -0.38651580048044665, -1.9505943181122882, -0.5563156651329674, -2.137311930174342, -1.2725741121684107, -0.7820156364185031, 1.5364104241185321, -0.418215415271642, 1.7995202888116273, -1.4828590310985599, -1.527662283535423, 0.9793840714449367, 0.6974261641817958, 0.9298674505655383, 0.1463230889023217, 0.18558750120210715, -0.8649984819098265, 1.1923650660250928, -0.7288791022947565, 0.16187314515212994, 0.07901352569282546, -0.6864257743133744, -0.7638958537068636, 0.09777129712374978, 1.9894840606243682, 0.4452067408586412, 0.283836967561087, 0.68803706432445, -0.2132472849823426, -1.3999549932879618, -0.5569138588321604, 1.647324139450391, 0.31164492300874735, -0.27526326737804385, 1.3396705591673788, 1.4354991278104445, -0.7754158123349962, 1.0576465217387125, -1.2567399072669017, 1.417915162857051, 0.41595710155807697, -0.3542636977169401, -1.8437068141659367]}, {\"boxpoints\": false, \"line\": {\"width\": 1.3}, \"marker\": {\"color\": \"rgba(55, 128, 191, 1.0)\"}, \"name\": \"B\", \"orientation\": \"v\", \"type\": \"box\", \"y\": [1.9943407701544202, 0.8732976700461123, -0.44787696876144895, 1.0780976820731896, 1.6078548939101063, 0.16317980233584287, 0.5496495894598031, 1.0102362546831511, -0.511917744122489, 0.281743139062265, 0.7216725536292614, 0.1741682812166515, 0.1785643052722124, -0.30481786184645304, -1.8509950817133969, -0.23778690258463708, -0.8630716467228144, 0.4051284595491349, 0.011693486607671525, -1.140316247327179, 0.6961449106580708, 0.07628529046739924, -0.15896345593945824, -0.914561014980909, -0.2899171259555344, 1.395367474369876, 0.9559938410991375, 0.14143756597235277, 0.9808198546062713, -0.9506065975501895, 0.3328695743314853, 0.17362323075461195, 0.8629566207204599, 0.6711995161432158, -1.7252037236321254, 0.1050150185451266, -0.6776206987366905, 0.9050109638072361, 0.3120914384835461, -0.13682847797414394, -1.0338304213946623, 0.12395061715807465, 0.38545359854491457, 1.5558315877417646, -0.5525591461019096, 0.5755905862673705, 0.11594421839394252, 2.009669467433262, 0.6720174995283758, 3.9800981023976028, 2.012483027853531, -0.0165911044931047, 0.5436983124669627, 0.2533224887728271, -2.3115522998318236, -0.24923560962574012, -1.9232267183238132, 0.05722815876193648, -1.666760834897929, 0.025844967526200354, 0.5155027670327164, 0.5022409291069994, 1.949038917238445, -1.4855667244693458, 0.8178687661814977, 1.4168279164506383, 0.11816388408156939, 0.030444589926006436, 0.8583597561128744, 0.1447413788502021, 1.3857459334031041, -0.3462272443036162, -0.7601756038235645, -0.19531967449619628, -0.1736275096618453, 0.33535248752757185, 0.42462100759789134, 0.17980065301228668, -0.04382890283922368, -0.12302613525369319, 0.8000120765971616, -0.7178499919504112, 0.2307414841193989, 2.0714126632499665, 1.7101980155882819, 0.9710013499136046, -0.6715146320607761, -0.38662889542131273, -0.009607146099274804, -0.7892315730989675, -0.0174069311032387, 0.2380637833909742, 0.9424713187875836, 0.24371148622077551, 0.5877903592172993, 0.24724599456167232, -0.2184726763217426, 0.6178629971468542, -0.5268844662083302, 0.12452138333049734]}, {\"boxpoints\": false, \"line\": {\"width\": 1.3}, \"marker\": {\"color\": \"rgba(50, 171, 96, 1.0)\"}, \"name\": \"C\", \"orientation\": \"v\", \"type\": \"box\", \"y\": [-0.04771395406536712, -1.5043416811675911, -1.0115571512189343, -0.3196881580095592, -0.48460926456026693, 1.9324800528343704, -0.6750083050666905, -1.1928616122136295, 0.22462422287366487, 0.8172709744741067, 1.1322305903744152, -0.15709969622329584, -1.3774672022747636, 0.2578436147614736, -0.9417276351734839, -1.3677279147130692, 2.531275836486691, -2.4247358633491745, -1.1743548283392375, 0.32313460584764103, -0.05760005939342712, -1.2124084328812565, 0.4440771525759291, -0.5287821003798321, 0.8877937147896016, 0.788082572247507, -0.4024078037919625, 0.6768352646931419, 1.124769340290542, 1.514974366849765, 0.24297458585476567, -0.6717924323579235, 0.9700825220303908, 1.3011011834029327, 0.5595008546143619, -1.9107628935218424, 0.6186427496640683, -1.3160373290467176, -0.711531460545435, -0.9704509328628098, -1.515870252607532, 1.2685873954064992, -0.9373625765813777, 0.08431574252417799, 0.6209218652222007, -0.34977632773410233, 0.05742309393247231, 0.46848099989783293, -0.7012016950031474, 1.6056656668519755, 0.8897581396029682, -0.4397761711110293, -0.023013281784482753, 0.24986744106213793, -1.4052573635124295, -1.8369821561209823, 1.146483080516584, 0.8747052961016265, -0.2136239740210405, 0.18854567408788925, 1.889355327229068, 0.5355174486924671, 1.36892644822141, 0.725397359400518, -0.06354056164120563, 0.4085339621321921, 0.3155740523689549, 1.5308259601478147, -2.0652698103461717, -0.726915663761446, 1.1433844012357315, -1.301904532381038, 0.48405131134391616, -0.39233488595636745, 0.6432409606580904, -0.7781352236860143, 0.8410939618043733, 0.333085900767765, -0.057432172242264955, 1.180448028127175, 0.05168178418258711, 0.13279630314547816, 0.5923226265772704, 0.7040703331376651, -1.2590114830545602, 0.017285546023253325, 1.1241265261455342, 1.106064464217237, 0.07088827925376733, -0.567679453807794, 0.1260003892331238, 1.6952764522942068, -0.21088715728804597, 1.225933806417049, 0.9085444819827736, 0.5963963921595337, -0.6191685292863695, -1.3252801506002794, 1.0356708943482635, -0.03329873623661065]}, {\"boxpoints\": false, \"line\": {\"width\": 1.3}, \"marker\": {\"color\": \"rgba(128, 0, 128, 1.0)\"}, \"name\": \"D\", \"orientation\": \"v\", \"type\": \"box\", \"y\": [1.2589569333371988, -0.031839142990460055, 0.8189306812569733, -1.5246622267306469, -0.5063021320591772, -1.325476643544345, -0.6860637670997545, 0.26461506776763893, -1.3622374707425282, -1.1637671181309004, -0.6360147100514426, -1.2648457466711012, 1.1729852001238945, 0.9817917825788705, 1.158663697693098, 2.0033356762471572, 1.151628003613701, 0.9952248652572545, -0.9223129537113125, -0.9012094254762871, -2.358464908201899, -0.8779060902868782, 1.7780814166977388, -1.2837144668636435, 1.0788074001706647, 0.770709635679897, -1.9878346523176658, -0.22118188978377493, 2.1803495732281513, -0.896958042621838, 1.166657003520393, 0.5591935822423297, -0.09120268790707306, 1.372362763596523, -0.7587802387416756, -1.3367390809112585, -0.5496673125494758, -1.5956698027689833, -0.3085149900255551, -0.9515740829350039, -0.9764054457259063, 0.20089254558087585, -1.1837907353589752, 0.6273309156347018, 0.480621080009327, -0.9923194436331658, -3.028655703581262, -0.4429279152892181, 2.160253584830107, 0.9596230747544598, -0.15095801929746455, -1.1792434907178488, 1.9048354665303866, 1.589045848139221, 1.2646665300793827, 0.3307024069427885, -0.42387849561392804, 0.18918064164554008, 1.8488605785378829, -0.6368917782634007, 0.8078496252511943, -0.18986818989758067, -0.31935533376073333, -0.6167948807496727, -0.36205457928696344, 0.087666167461351, 0.47065582674596174, -0.8780610254712392, -1.0425678809274128, 0.5748800716291017, -1.2005976154785882, 1.3643716247377509, -0.6248742169432608, -1.552085522748234, 0.8088923435765261, 0.383184951273274, -0.04573367626531149, 0.7506583580900915, 0.2641442429416921, -1.3880184791637802, -0.49665476455912105, -0.49058018996490355, 0.5437968834463308, -1.2925010205921783, 0.3688794580477229, 0.8470476490303701, 1.4947755226044173, -1.1309217018103088, -0.6948701616929415, 0.3308987928289656, 0.058128707790018594, 1.085648726485594, -0.9028762557922876, 2.391031754184587, -1.6654687376941901, 0.6788538544656444, -0.21499223351475188, -0.24686079659496307, -0.4784093744551463, -0.7504531919618652]}],\n",
       "                        {\"legend\": {\"bgcolor\": \"#F5F6F9\", \"font\": {\"color\": \"#4D5663\"}}, \"paper_bgcolor\": \"#F5F6F9\", \"plot_bgcolor\": \"#F5F6F9\", \"template\": {\"data\": {\"bar\": [{\"error_x\": {\"color\": \"#2a3f5f\"}, \"error_y\": {\"color\": \"#2a3f5f\"}, \"marker\": {\"line\": {\"color\": \"#E5ECF6\", \"width\": 0.5}}, \"type\": \"bar\"}], \"barpolar\": [{\"marker\": {\"line\": {\"color\": \"#E5ECF6\", \"width\": 0.5}}, \"type\": \"barpolar\"}], \"carpet\": [{\"aaxis\": {\"endlinecolor\": \"#2a3f5f\", \"gridcolor\": \"white\", \"linecolor\": \"white\", \"minorgridcolor\": \"white\", \"startlinecolor\": \"#2a3f5f\"}, \"baxis\": {\"endlinecolor\": \"#2a3f5f\", \"gridcolor\": \"white\", \"linecolor\": \"white\", \"minorgridcolor\": \"white\", \"startlinecolor\": \"#2a3f5f\"}, \"type\": \"carpet\"}], \"choropleth\": [{\"colorbar\": {\"outlinewidth\": 0, \"ticks\": \"\"}, \"type\": \"choropleth\"}], \"contour\": [{\"colorbar\": {\"outlinewidth\": 0, \"ticks\": \"\"}, \"colorscale\": [[0.0, \"#0d0887\"], [0.1111111111111111, \"#46039f\"], [0.2222222222222222, \"#7201a8\"], [0.3333333333333333, \"#9c179e\"], [0.4444444444444444, \"#bd3786\"], [0.5555555555555556, \"#d8576b\"], [0.6666666666666666, \"#ed7953\"], [0.7777777777777778, \"#fb9f3a\"], [0.8888888888888888, \"#fdca26\"], [1.0, \"#f0f921\"]], \"type\": \"contour\"}], \"contourcarpet\": [{\"colorbar\": {\"outlinewidth\": 0, \"ticks\": \"\"}, \"type\": \"contourcarpet\"}], \"heatmap\": [{\"colorbar\": {\"outlinewidth\": 0, \"ticks\": \"\"}, \"colorscale\": [[0.0, \"#0d0887\"], [0.1111111111111111, \"#46039f\"], [0.2222222222222222, \"#7201a8\"], [0.3333333333333333, \"#9c179e\"], [0.4444444444444444, \"#bd3786\"], [0.5555555555555556, \"#d8576b\"], [0.6666666666666666, \"#ed7953\"], [0.7777777777777778, \"#fb9f3a\"], [0.8888888888888888, \"#fdca26\"], [1.0, \"#f0f921\"]], \"type\": \"heatmap\"}], \"heatmapgl\": [{\"colorbar\": {\"outlinewidth\": 0, \"ticks\": \"\"}, \"colorscale\": [[0.0, \"#0d0887\"], [0.1111111111111111, \"#46039f\"], [0.2222222222222222, \"#7201a8\"], [0.3333333333333333, \"#9c179e\"], [0.4444444444444444, \"#bd3786\"], [0.5555555555555556, \"#d8576b\"], [0.6666666666666666, \"#ed7953\"], [0.7777777777777778, \"#fb9f3a\"], [0.8888888888888888, \"#fdca26\"], [1.0, \"#f0f921\"]], \"type\": \"heatmapgl\"}], \"histogram\": [{\"marker\": {\"colorbar\": {\"outlinewidth\": 0, \"ticks\": \"\"}}, \"type\": \"histogram\"}], \"histogram2d\": [{\"colorbar\": {\"outlinewidth\": 0, \"ticks\": \"\"}, \"colorscale\": [[0.0, \"#0d0887\"], [0.1111111111111111, \"#46039f\"], [0.2222222222222222, \"#7201a8\"], [0.3333333333333333, \"#9c179e\"], [0.4444444444444444, \"#bd3786\"], [0.5555555555555556, \"#d8576b\"], [0.6666666666666666, \"#ed7953\"], [0.7777777777777778, \"#fb9f3a\"], [0.8888888888888888, \"#fdca26\"], [1.0, \"#f0f921\"]], \"type\": \"histogram2d\"}], \"histogram2dcontour\": [{\"colorbar\": {\"outlinewidth\": 0, \"ticks\": \"\"}, \"colorscale\": [[0.0, \"#0d0887\"], [0.1111111111111111, \"#46039f\"], [0.2222222222222222, \"#7201a8\"], [0.3333333333333333, \"#9c179e\"], [0.4444444444444444, \"#bd3786\"], [0.5555555555555556, \"#d8576b\"], [0.6666666666666666, \"#ed7953\"], [0.7777777777777778, \"#fb9f3a\"], [0.8888888888888888, \"#fdca26\"], [1.0, \"#f0f921\"]], \"type\": \"histogram2dcontour\"}], \"mesh3d\": [{\"colorbar\": {\"outlinewidth\": 0, \"ticks\": \"\"}, \"type\": \"mesh3d\"}], \"parcoords\": [{\"line\": {\"colorbar\": {\"outlinewidth\": 0, \"ticks\": \"\"}}, \"type\": \"parcoords\"}], \"pie\": [{\"automargin\": true, \"type\": \"pie\"}], \"scatter\": [{\"marker\": {\"colorbar\": {\"outlinewidth\": 0, \"ticks\": \"\"}}, \"type\": \"scatter\"}], \"scatter3d\": [{\"line\": {\"colorbar\": {\"outlinewidth\": 0, \"ticks\": \"\"}}, \"marker\": {\"colorbar\": {\"outlinewidth\": 0, \"ticks\": \"\"}}, \"type\": \"scatter3d\"}], \"scattercarpet\": [{\"marker\": {\"colorbar\": {\"outlinewidth\": 0, \"ticks\": \"\"}}, \"type\": \"scattercarpet\"}], \"scattergeo\": [{\"marker\": {\"colorbar\": {\"outlinewidth\": 0, \"ticks\": \"\"}}, \"type\": \"scattergeo\"}], \"scattergl\": [{\"marker\": {\"colorbar\": {\"outlinewidth\": 0, \"ticks\": \"\"}}, \"type\": \"scattergl\"}], \"scattermapbox\": [{\"marker\": {\"colorbar\": {\"outlinewidth\": 0, \"ticks\": \"\"}}, \"type\": \"scattermapbox\"}], \"scatterpolar\": [{\"marker\": {\"colorbar\": {\"outlinewidth\": 0, \"ticks\": \"\"}}, \"type\": \"scatterpolar\"}], \"scatterpolargl\": [{\"marker\": {\"colorbar\": {\"outlinewidth\": 0, \"ticks\": \"\"}}, \"type\": \"scatterpolargl\"}], \"scatterternary\": [{\"marker\": {\"colorbar\": {\"outlinewidth\": 0, \"ticks\": \"\"}}, \"type\": \"scatterternary\"}], \"surface\": [{\"colorbar\": {\"outlinewidth\": 0, \"ticks\": \"\"}, \"colorscale\": [[0.0, \"#0d0887\"], [0.1111111111111111, \"#46039f\"], [0.2222222222222222, \"#7201a8\"], [0.3333333333333333, \"#9c179e\"], [0.4444444444444444, \"#bd3786\"], [0.5555555555555556, \"#d8576b\"], [0.6666666666666666, \"#ed7953\"], [0.7777777777777778, \"#fb9f3a\"], [0.8888888888888888, \"#fdca26\"], [1.0, \"#f0f921\"]], \"type\": \"surface\"}], \"table\": [{\"cells\": {\"fill\": {\"color\": \"#EBF0F8\"}, \"line\": {\"color\": \"white\"}}, \"header\": {\"fill\": {\"color\": \"#C8D4E3\"}, \"line\": {\"color\": \"white\"}}, \"type\": \"table\"}]}, \"layout\": {\"annotationdefaults\": {\"arrowcolor\": \"#2a3f5f\", \"arrowhead\": 0, \"arrowwidth\": 1}, \"coloraxis\": {\"colorbar\": {\"outlinewidth\": 0, \"ticks\": \"\"}}, \"colorscale\": {\"diverging\": [[0, \"#8e0152\"], [0.1, \"#c51b7d\"], [0.2, \"#de77ae\"], [0.3, \"#f1b6da\"], [0.4, \"#fde0ef\"], [0.5, \"#f7f7f7\"], [0.6, \"#e6f5d0\"], [0.7, \"#b8e186\"], [0.8, \"#7fbc41\"], [0.9, \"#4d9221\"], [1, \"#276419\"]], \"sequential\": [[0.0, \"#0d0887\"], [0.1111111111111111, \"#46039f\"], [0.2222222222222222, \"#7201a8\"], [0.3333333333333333, \"#9c179e\"], [0.4444444444444444, \"#bd3786\"], [0.5555555555555556, \"#d8576b\"], [0.6666666666666666, \"#ed7953\"], [0.7777777777777778, \"#fb9f3a\"], [0.8888888888888888, \"#fdca26\"], [1.0, \"#f0f921\"]], \"sequentialminus\": [[0.0, \"#0d0887\"], [0.1111111111111111, \"#46039f\"], [0.2222222222222222, \"#7201a8\"], [0.3333333333333333, \"#9c179e\"], [0.4444444444444444, \"#bd3786\"], [0.5555555555555556, \"#d8576b\"], [0.6666666666666666, \"#ed7953\"], [0.7777777777777778, \"#fb9f3a\"], [0.8888888888888888, \"#fdca26\"], [1.0, \"#f0f921\"]]}, \"colorway\": [\"#636efa\", \"#EF553B\", \"#00cc96\", \"#ab63fa\", \"#FFA15A\", \"#19d3f3\", \"#FF6692\", \"#B6E880\", \"#FF97FF\", \"#FECB52\"], \"font\": {\"color\": \"#2a3f5f\"}, \"geo\": {\"bgcolor\": \"white\", \"lakecolor\": \"white\", \"landcolor\": \"#E5ECF6\", \"showlakes\": true, \"showland\": true, \"subunitcolor\": \"white\"}, \"hoverlabel\": {\"align\": \"left\"}, \"hovermode\": \"closest\", \"mapbox\": {\"style\": \"light\"}, \"paper_bgcolor\": \"white\", \"plot_bgcolor\": \"#E5ECF6\", \"polar\": {\"angularaxis\": {\"gridcolor\": \"white\", \"linecolor\": \"white\", \"ticks\": \"\"}, \"bgcolor\": \"#E5ECF6\", \"radialaxis\": {\"gridcolor\": \"white\", \"linecolor\": \"white\", \"ticks\": \"\"}}, \"scene\": {\"xaxis\": {\"backgroundcolor\": \"#E5ECF6\", \"gridcolor\": \"white\", \"gridwidth\": 2, \"linecolor\": \"white\", \"showbackground\": true, \"ticks\": \"\", \"zerolinecolor\": \"white\"}, \"yaxis\": {\"backgroundcolor\": \"#E5ECF6\", \"gridcolor\": \"white\", \"gridwidth\": 2, \"linecolor\": \"white\", \"showbackground\": true, \"ticks\": \"\", \"zerolinecolor\": \"white\"}, \"zaxis\": {\"backgroundcolor\": \"#E5ECF6\", \"gridcolor\": \"white\", \"gridwidth\": 2, \"linecolor\": \"white\", \"showbackground\": true, \"ticks\": \"\", \"zerolinecolor\": \"white\"}}, \"shapedefaults\": {\"line\": {\"color\": \"#2a3f5f\"}}, \"ternary\": {\"aaxis\": {\"gridcolor\": \"white\", \"linecolor\": \"white\", \"ticks\": \"\"}, \"baxis\": {\"gridcolor\": \"white\", \"linecolor\": \"white\", \"ticks\": \"\"}, \"bgcolor\": \"#E5ECF6\", \"caxis\": {\"gridcolor\": \"white\", \"linecolor\": \"white\", \"ticks\": \"\"}}, \"title\": {\"x\": 0.05}, \"xaxis\": {\"automargin\": true, \"gridcolor\": \"white\", \"linecolor\": \"white\", \"ticks\": \"\", \"title\": {\"standoff\": 15}, \"zerolinecolor\": \"white\", \"zerolinewidth\": 2}, \"yaxis\": {\"automargin\": true, \"gridcolor\": \"white\", \"linecolor\": \"white\", \"ticks\": \"\", \"title\": {\"standoff\": 15}, \"zerolinecolor\": \"white\", \"zerolinewidth\": 2}}}, \"title\": {\"font\": {\"color\": \"#4D5663\"}}, \"xaxis\": {\"gridcolor\": \"#E1E5ED\", \"showgrid\": true, \"tickfont\": {\"color\": \"#4D5663\"}, \"title\": {\"font\": {\"color\": \"#4D5663\"}, \"text\": \"\"}, \"zerolinecolor\": \"#E1E5ED\"}, \"yaxis\": {\"gridcolor\": \"#E1E5ED\", \"showgrid\": true, \"tickfont\": {\"color\": \"#4D5663\"}, \"title\": {\"font\": {\"color\": \"#4D5663\"}, \"text\": \"\"}, \"zerolinecolor\": \"#E1E5ED\"}},\n",
       "                        {\"showLink\": true, \"linkText\": \"Export to plot.ly\", \"plotlyServerURL\": \"https://plot.ly\", \"responsive\": true}\n",
       "                    ).then(function(){\n",
       "                            \n",
       "var gd = document.getElementById('f5a1d980-d62e-4161-a8cc-c8ebabfd6057');\n",
       "var x = new MutationObserver(function (mutations, observer) {{\n",
       "        var display = window.getComputedStyle(gd).display;\n",
       "        if (!display || display === 'none') {{\n",
       "            console.log([gd, 'removed!']);\n",
       "            Plotly.purge(gd);\n",
       "            observer.disconnect();\n",
       "        }}\n",
       "}});\n",
       "\n",
       "// Listen for the removal of the full notebook cells\n",
       "var notebookContainer = gd.closest('#notebook-container');\n",
       "if (notebookContainer) {{\n",
       "    x.observe(notebookContainer, {childList: true});\n",
       "}}\n",
       "\n",
       "// Listen for the clearing of the current output cell\n",
       "var outputEl = gd.closest('.output');\n",
       "if (outputEl) {{\n",
       "    x.observe(outputEl, {childList: true});\n",
       "}}\n",
       "\n",
       "                        })\n",
       "                };\n",
       "                });\n",
       "            </script>\n",
       "        </div>"
      ]
     },
     "metadata": {},
     "output_type": "display_data"
    }
   ],
   "source": [
    "df.iplot(kind='box')"
   ]
  },
  {
   "cell_type": "markdown",
   "metadata": {},
   "source": [
    "## Superfícies 3D"
   ]
  },
  {
   "cell_type": "code",
   "execution_count": 16,
   "metadata": {},
   "outputs": [
    {
     "data": {
      "application/vnd.plotly.v1+json": {
       "config": {
        "linkText": "Export to plot.ly",
        "plotlyServerURL": "https://plot.ly",
        "showLink": true
       },
       "data": [
        {
         "colorscale": [
          [
           0,
           "rgb(165,0,38)"
          ],
          [
           0.1,
           "rgb(215,48,39)"
          ],
          [
           0.2,
           "rgb(244,109,67)"
          ],
          [
           0.3,
           "rgb(253,174,97)"
          ],
          [
           0.4,
           "rgb(254,224,144)"
          ],
          [
           0.5,
           "rgb(255,255,191)"
          ],
          [
           0.6,
           "rgb(224,243,248)"
          ],
          [
           0.7,
           "rgb(171,217,233)"
          ],
          [
           0.8,
           "rgb(116,173,209)"
          ],
          [
           0.9,
           "rgb(69,117,180)"
          ],
          [
           1,
           "rgb(49,54,149)"
          ]
         ],
         "type": "surface",
         "x": [
          0,
          1,
          2,
          3,
          4
         ],
         "y": [
          "x",
          "y",
          "z"
         ],
         "z": [
          [
           1,
           2,
           3,
           4,
           5
          ],
          [
           10,
           20,
           30,
           20,
           10
          ],
          [
           5,
           4,
           3,
           2,
           1
          ]
         ]
        }
       ],
       "layout": {
        "legend": {
         "bgcolor": "#F5F6F9",
         "font": {
          "color": "#4D5663"
         }
        },
        "paper_bgcolor": "#F5F6F9",
        "plot_bgcolor": "#F5F6F9",
        "template": {
         "data": {
          "bar": [
           {
            "error_x": {
             "color": "#2a3f5f"
            },
            "error_y": {
             "color": "#2a3f5f"
            },
            "marker": {
             "line": {
              "color": "#E5ECF6",
              "width": 0.5
             }
            },
            "type": "bar"
           }
          ],
          "barpolar": [
           {
            "marker": {
             "line": {
              "color": "#E5ECF6",
              "width": 0.5
             }
            },
            "type": "barpolar"
           }
          ],
          "carpet": [
           {
            "aaxis": {
             "endlinecolor": "#2a3f5f",
             "gridcolor": "white",
             "linecolor": "white",
             "minorgridcolor": "white",
             "startlinecolor": "#2a3f5f"
            },
            "baxis": {
             "endlinecolor": "#2a3f5f",
             "gridcolor": "white",
             "linecolor": "white",
             "minorgridcolor": "white",
             "startlinecolor": "#2a3f5f"
            },
            "type": "carpet"
           }
          ],
          "choropleth": [
           {
            "colorbar": {
             "outlinewidth": 0,
             "ticks": ""
            },
            "type": "choropleth"
           }
          ],
          "contour": [
           {
            "colorbar": {
             "outlinewidth": 0,
             "ticks": ""
            },
            "colorscale": [
             [
              0,
              "#0d0887"
             ],
             [
              0.1111111111111111,
              "#46039f"
             ],
             [
              0.2222222222222222,
              "#7201a8"
             ],
             [
              0.3333333333333333,
              "#9c179e"
             ],
             [
              0.4444444444444444,
              "#bd3786"
             ],
             [
              0.5555555555555556,
              "#d8576b"
             ],
             [
              0.6666666666666666,
              "#ed7953"
             ],
             [
              0.7777777777777778,
              "#fb9f3a"
             ],
             [
              0.8888888888888888,
              "#fdca26"
             ],
             [
              1,
              "#f0f921"
             ]
            ],
            "type": "contour"
           }
          ],
          "contourcarpet": [
           {
            "colorbar": {
             "outlinewidth": 0,
             "ticks": ""
            },
            "type": "contourcarpet"
           }
          ],
          "heatmap": [
           {
            "colorbar": {
             "outlinewidth": 0,
             "ticks": ""
            },
            "colorscale": [
             [
              0,
              "#0d0887"
             ],
             [
              0.1111111111111111,
              "#46039f"
             ],
             [
              0.2222222222222222,
              "#7201a8"
             ],
             [
              0.3333333333333333,
              "#9c179e"
             ],
             [
              0.4444444444444444,
              "#bd3786"
             ],
             [
              0.5555555555555556,
              "#d8576b"
             ],
             [
              0.6666666666666666,
              "#ed7953"
             ],
             [
              0.7777777777777778,
              "#fb9f3a"
             ],
             [
              0.8888888888888888,
              "#fdca26"
             ],
             [
              1,
              "#f0f921"
             ]
            ],
            "type": "heatmap"
           }
          ],
          "heatmapgl": [
           {
            "colorbar": {
             "outlinewidth": 0,
             "ticks": ""
            },
            "colorscale": [
             [
              0,
              "#0d0887"
             ],
             [
              0.1111111111111111,
              "#46039f"
             ],
             [
              0.2222222222222222,
              "#7201a8"
             ],
             [
              0.3333333333333333,
              "#9c179e"
             ],
             [
              0.4444444444444444,
              "#bd3786"
             ],
             [
              0.5555555555555556,
              "#d8576b"
             ],
             [
              0.6666666666666666,
              "#ed7953"
             ],
             [
              0.7777777777777778,
              "#fb9f3a"
             ],
             [
              0.8888888888888888,
              "#fdca26"
             ],
             [
              1,
              "#f0f921"
             ]
            ],
            "type": "heatmapgl"
           }
          ],
          "histogram": [
           {
            "marker": {
             "colorbar": {
              "outlinewidth": 0,
              "ticks": ""
             }
            },
            "type": "histogram"
           }
          ],
          "histogram2d": [
           {
            "colorbar": {
             "outlinewidth": 0,
             "ticks": ""
            },
            "colorscale": [
             [
              0,
              "#0d0887"
             ],
             [
              0.1111111111111111,
              "#46039f"
             ],
             [
              0.2222222222222222,
              "#7201a8"
             ],
             [
              0.3333333333333333,
              "#9c179e"
             ],
             [
              0.4444444444444444,
              "#bd3786"
             ],
             [
              0.5555555555555556,
              "#d8576b"
             ],
             [
              0.6666666666666666,
              "#ed7953"
             ],
             [
              0.7777777777777778,
              "#fb9f3a"
             ],
             [
              0.8888888888888888,
              "#fdca26"
             ],
             [
              1,
              "#f0f921"
             ]
            ],
            "type": "histogram2d"
           }
          ],
          "histogram2dcontour": [
           {
            "colorbar": {
             "outlinewidth": 0,
             "ticks": ""
            },
            "colorscale": [
             [
              0,
              "#0d0887"
             ],
             [
              0.1111111111111111,
              "#46039f"
             ],
             [
              0.2222222222222222,
              "#7201a8"
             ],
             [
              0.3333333333333333,
              "#9c179e"
             ],
             [
              0.4444444444444444,
              "#bd3786"
             ],
             [
              0.5555555555555556,
              "#d8576b"
             ],
             [
              0.6666666666666666,
              "#ed7953"
             ],
             [
              0.7777777777777778,
              "#fb9f3a"
             ],
             [
              0.8888888888888888,
              "#fdca26"
             ],
             [
              1,
              "#f0f921"
             ]
            ],
            "type": "histogram2dcontour"
           }
          ],
          "mesh3d": [
           {
            "colorbar": {
             "outlinewidth": 0,
             "ticks": ""
            },
            "type": "mesh3d"
           }
          ],
          "parcoords": [
           {
            "line": {
             "colorbar": {
              "outlinewidth": 0,
              "ticks": ""
             }
            },
            "type": "parcoords"
           }
          ],
          "pie": [
           {
            "automargin": true,
            "type": "pie"
           }
          ],
          "scatter": [
           {
            "marker": {
             "colorbar": {
              "outlinewidth": 0,
              "ticks": ""
             }
            },
            "type": "scatter"
           }
          ],
          "scatter3d": [
           {
            "line": {
             "colorbar": {
              "outlinewidth": 0,
              "ticks": ""
             }
            },
            "marker": {
             "colorbar": {
              "outlinewidth": 0,
              "ticks": ""
             }
            },
            "type": "scatter3d"
           }
          ],
          "scattercarpet": [
           {
            "marker": {
             "colorbar": {
              "outlinewidth": 0,
              "ticks": ""
             }
            },
            "type": "scattercarpet"
           }
          ],
          "scattergeo": [
           {
            "marker": {
             "colorbar": {
              "outlinewidth": 0,
              "ticks": ""
             }
            },
            "type": "scattergeo"
           }
          ],
          "scattergl": [
           {
            "marker": {
             "colorbar": {
              "outlinewidth": 0,
              "ticks": ""
             }
            },
            "type": "scattergl"
           }
          ],
          "scattermapbox": [
           {
            "marker": {
             "colorbar": {
              "outlinewidth": 0,
              "ticks": ""
             }
            },
            "type": "scattermapbox"
           }
          ],
          "scatterpolar": [
           {
            "marker": {
             "colorbar": {
              "outlinewidth": 0,
              "ticks": ""
             }
            },
            "type": "scatterpolar"
           }
          ],
          "scatterpolargl": [
           {
            "marker": {
             "colorbar": {
              "outlinewidth": 0,
              "ticks": ""
             }
            },
            "type": "scatterpolargl"
           }
          ],
          "scatterternary": [
           {
            "marker": {
             "colorbar": {
              "outlinewidth": 0,
              "ticks": ""
             }
            },
            "type": "scatterternary"
           }
          ],
          "surface": [
           {
            "colorbar": {
             "outlinewidth": 0,
             "ticks": ""
            },
            "colorscale": [
             [
              0,
              "#0d0887"
             ],
             [
              0.1111111111111111,
              "#46039f"
             ],
             [
              0.2222222222222222,
              "#7201a8"
             ],
             [
              0.3333333333333333,
              "#9c179e"
             ],
             [
              0.4444444444444444,
              "#bd3786"
             ],
             [
              0.5555555555555556,
              "#d8576b"
             ],
             [
              0.6666666666666666,
              "#ed7953"
             ],
             [
              0.7777777777777778,
              "#fb9f3a"
             ],
             [
              0.8888888888888888,
              "#fdca26"
             ],
             [
              1,
              "#f0f921"
             ]
            ],
            "type": "surface"
           }
          ],
          "table": [
           {
            "cells": {
             "fill": {
              "color": "#EBF0F8"
             },
             "line": {
              "color": "white"
             }
            },
            "header": {
             "fill": {
              "color": "#C8D4E3"
             },
             "line": {
              "color": "white"
             }
            },
            "type": "table"
           }
          ]
         },
         "layout": {
          "annotationdefaults": {
           "arrowcolor": "#2a3f5f",
           "arrowhead": 0,
           "arrowwidth": 1
          },
          "coloraxis": {
           "colorbar": {
            "outlinewidth": 0,
            "ticks": ""
           }
          },
          "colorscale": {
           "diverging": [
            [
             0,
             "#8e0152"
            ],
            [
             0.1,
             "#c51b7d"
            ],
            [
             0.2,
             "#de77ae"
            ],
            [
             0.3,
             "#f1b6da"
            ],
            [
             0.4,
             "#fde0ef"
            ],
            [
             0.5,
             "#f7f7f7"
            ],
            [
             0.6,
             "#e6f5d0"
            ],
            [
             0.7,
             "#b8e186"
            ],
            [
             0.8,
             "#7fbc41"
            ],
            [
             0.9,
             "#4d9221"
            ],
            [
             1,
             "#276419"
            ]
           ],
           "sequential": [
            [
             0,
             "#0d0887"
            ],
            [
             0.1111111111111111,
             "#46039f"
            ],
            [
             0.2222222222222222,
             "#7201a8"
            ],
            [
             0.3333333333333333,
             "#9c179e"
            ],
            [
             0.4444444444444444,
             "#bd3786"
            ],
            [
             0.5555555555555556,
             "#d8576b"
            ],
            [
             0.6666666666666666,
             "#ed7953"
            ],
            [
             0.7777777777777778,
             "#fb9f3a"
            ],
            [
             0.8888888888888888,
             "#fdca26"
            ],
            [
             1,
             "#f0f921"
            ]
           ],
           "sequentialminus": [
            [
             0,
             "#0d0887"
            ],
            [
             0.1111111111111111,
             "#46039f"
            ],
            [
             0.2222222222222222,
             "#7201a8"
            ],
            [
             0.3333333333333333,
             "#9c179e"
            ],
            [
             0.4444444444444444,
             "#bd3786"
            ],
            [
             0.5555555555555556,
             "#d8576b"
            ],
            [
             0.6666666666666666,
             "#ed7953"
            ],
            [
             0.7777777777777778,
             "#fb9f3a"
            ],
            [
             0.8888888888888888,
             "#fdca26"
            ],
            [
             1,
             "#f0f921"
            ]
           ]
          },
          "colorway": [
           "#636efa",
           "#EF553B",
           "#00cc96",
           "#ab63fa",
           "#FFA15A",
           "#19d3f3",
           "#FF6692",
           "#B6E880",
           "#FF97FF",
           "#FECB52"
          ],
          "font": {
           "color": "#2a3f5f"
          },
          "geo": {
           "bgcolor": "white",
           "lakecolor": "white",
           "landcolor": "#E5ECF6",
           "showlakes": true,
           "showland": true,
           "subunitcolor": "white"
          },
          "hoverlabel": {
           "align": "left"
          },
          "hovermode": "closest",
          "mapbox": {
           "style": "light"
          },
          "paper_bgcolor": "white",
          "plot_bgcolor": "#E5ECF6",
          "polar": {
           "angularaxis": {
            "gridcolor": "white",
            "linecolor": "white",
            "ticks": ""
           },
           "bgcolor": "#E5ECF6",
           "radialaxis": {
            "gridcolor": "white",
            "linecolor": "white",
            "ticks": ""
           }
          },
          "scene": {
           "xaxis": {
            "backgroundcolor": "#E5ECF6",
            "gridcolor": "white",
            "gridwidth": 2,
            "linecolor": "white",
            "showbackground": true,
            "ticks": "",
            "zerolinecolor": "white"
           },
           "yaxis": {
            "backgroundcolor": "#E5ECF6",
            "gridcolor": "white",
            "gridwidth": 2,
            "linecolor": "white",
            "showbackground": true,
            "ticks": "",
            "zerolinecolor": "white"
           },
           "zaxis": {
            "backgroundcolor": "#E5ECF6",
            "gridcolor": "white",
            "gridwidth": 2,
            "linecolor": "white",
            "showbackground": true,
            "ticks": "",
            "zerolinecolor": "white"
           }
          },
          "shapedefaults": {
           "line": {
            "color": "#2a3f5f"
           }
          },
          "ternary": {
           "aaxis": {
            "gridcolor": "white",
            "linecolor": "white",
            "ticks": ""
           },
           "baxis": {
            "gridcolor": "white",
            "linecolor": "white",
            "ticks": ""
           },
           "bgcolor": "#E5ECF6",
           "caxis": {
            "gridcolor": "white",
            "linecolor": "white",
            "ticks": ""
           }
          },
          "title": {
           "x": 0.05
          },
          "xaxis": {
           "automargin": true,
           "gridcolor": "white",
           "linecolor": "white",
           "ticks": "",
           "title": {
            "standoff": 15
           },
           "zerolinecolor": "white",
           "zerolinewidth": 2
          },
          "yaxis": {
           "automargin": true,
           "gridcolor": "white",
           "linecolor": "white",
           "ticks": "",
           "title": {
            "standoff": 15
           },
           "zerolinecolor": "white",
           "zerolinewidth": 2
          }
         }
        },
        "title": {
         "font": {
          "color": "#4D5663"
         }
        },
        "xaxis": {
         "gridcolor": "#E1E5ED",
         "showgrid": true,
         "tickfont": {
          "color": "#4D5663"
         },
         "title": {
          "font": {
           "color": "#4D5663"
          },
          "text": ""
         },
         "zerolinecolor": "#E1E5ED"
        },
        "yaxis": {
         "gridcolor": "#E1E5ED",
         "showgrid": true,
         "tickfont": {
          "color": "#4D5663"
         },
         "title": {
          "font": {
           "color": "#4D5663"
          },
          "text": ""
         },
         "zerolinecolor": "#E1E5ED"
        }
       }
      },
      "text/html": [
       "<div>\n",
       "        \n",
       "        \n",
       "            <div id=\"eb280a43-ee58-45c9-8f43-7039c358e911\" class=\"plotly-graph-div\" style=\"height:525px; width:100%;\"></div>\n",
       "            <script type=\"text/javascript\">\n",
       "                require([\"plotly\"], function(Plotly) {\n",
       "                    window.PLOTLYENV=window.PLOTLYENV || {};\n",
       "                    window.PLOTLYENV.BASE_URL='https://plot.ly';\n",
       "                    \n",
       "                if (document.getElementById(\"eb280a43-ee58-45c9-8f43-7039c358e911\")) {\n",
       "                    Plotly.newPlot(\n",
       "                        'eb280a43-ee58-45c9-8f43-7039c358e911',\n",
       "                        [{\"colorscale\": [[0.0, \"rgb(165,0,38)\"], [0.1, \"rgb(215,48,39)\"], [0.2, \"rgb(244,109,67)\"], [0.3, \"rgb(253,174,97)\"], [0.4, \"rgb(254,224,144)\"], [0.5, \"rgb(255,255,191)\"], [0.6, \"rgb(224,243,248)\"], [0.7, \"rgb(171,217,233)\"], [0.8, \"rgb(116,173,209)\"], [0.9, \"rgb(69,117,180)\"], [1.0, \"rgb(49,54,149)\"]], \"type\": \"surface\", \"x\": [0, 1, 2, 3, 4], \"y\": [\"x\", \"y\", \"z\"], \"z\": [[1, 2, 3, 4, 5], [10, 20, 30, 20, 10], [5, 4, 3, 2, 1]]}],\n",
       "                        {\"legend\": {\"bgcolor\": \"#F5F6F9\", \"font\": {\"color\": \"#4D5663\"}}, \"paper_bgcolor\": \"#F5F6F9\", \"plot_bgcolor\": \"#F5F6F9\", \"template\": {\"data\": {\"bar\": [{\"error_x\": {\"color\": \"#2a3f5f\"}, \"error_y\": {\"color\": \"#2a3f5f\"}, \"marker\": {\"line\": {\"color\": \"#E5ECF6\", \"width\": 0.5}}, \"type\": \"bar\"}], \"barpolar\": [{\"marker\": {\"line\": {\"color\": \"#E5ECF6\", \"width\": 0.5}}, \"type\": \"barpolar\"}], \"carpet\": [{\"aaxis\": {\"endlinecolor\": \"#2a3f5f\", \"gridcolor\": \"white\", \"linecolor\": \"white\", \"minorgridcolor\": \"white\", \"startlinecolor\": \"#2a3f5f\"}, \"baxis\": {\"endlinecolor\": \"#2a3f5f\", \"gridcolor\": \"white\", \"linecolor\": \"white\", \"minorgridcolor\": \"white\", \"startlinecolor\": \"#2a3f5f\"}, \"type\": \"carpet\"}], \"choropleth\": [{\"colorbar\": {\"outlinewidth\": 0, \"ticks\": \"\"}, \"type\": \"choropleth\"}], \"contour\": [{\"colorbar\": {\"outlinewidth\": 0, \"ticks\": \"\"}, \"colorscale\": [[0.0, \"#0d0887\"], [0.1111111111111111, \"#46039f\"], [0.2222222222222222, \"#7201a8\"], [0.3333333333333333, \"#9c179e\"], [0.4444444444444444, \"#bd3786\"], [0.5555555555555556, \"#d8576b\"], [0.6666666666666666, \"#ed7953\"], [0.7777777777777778, \"#fb9f3a\"], [0.8888888888888888, \"#fdca26\"], [1.0, \"#f0f921\"]], \"type\": \"contour\"}], \"contourcarpet\": [{\"colorbar\": {\"outlinewidth\": 0, \"ticks\": \"\"}, \"type\": \"contourcarpet\"}], \"heatmap\": [{\"colorbar\": {\"outlinewidth\": 0, \"ticks\": \"\"}, \"colorscale\": [[0.0, \"#0d0887\"], [0.1111111111111111, \"#46039f\"], [0.2222222222222222, \"#7201a8\"], [0.3333333333333333, \"#9c179e\"], [0.4444444444444444, \"#bd3786\"], [0.5555555555555556, \"#d8576b\"], [0.6666666666666666, \"#ed7953\"], [0.7777777777777778, \"#fb9f3a\"], [0.8888888888888888, \"#fdca26\"], [1.0, \"#f0f921\"]], \"type\": \"heatmap\"}], \"heatmapgl\": [{\"colorbar\": {\"outlinewidth\": 0, \"ticks\": \"\"}, \"colorscale\": [[0.0, \"#0d0887\"], [0.1111111111111111, \"#46039f\"], [0.2222222222222222, \"#7201a8\"], [0.3333333333333333, \"#9c179e\"], [0.4444444444444444, \"#bd3786\"], [0.5555555555555556, \"#d8576b\"], [0.6666666666666666, \"#ed7953\"], [0.7777777777777778, \"#fb9f3a\"], [0.8888888888888888, \"#fdca26\"], [1.0, \"#f0f921\"]], \"type\": \"heatmapgl\"}], \"histogram\": [{\"marker\": {\"colorbar\": {\"outlinewidth\": 0, \"ticks\": \"\"}}, \"type\": \"histogram\"}], \"histogram2d\": [{\"colorbar\": {\"outlinewidth\": 0, \"ticks\": \"\"}, \"colorscale\": [[0.0, \"#0d0887\"], [0.1111111111111111, \"#46039f\"], [0.2222222222222222, \"#7201a8\"], [0.3333333333333333, \"#9c179e\"], [0.4444444444444444, \"#bd3786\"], [0.5555555555555556, \"#d8576b\"], [0.6666666666666666, \"#ed7953\"], [0.7777777777777778, \"#fb9f3a\"], [0.8888888888888888, \"#fdca26\"], [1.0, \"#f0f921\"]], \"type\": \"histogram2d\"}], \"histogram2dcontour\": [{\"colorbar\": {\"outlinewidth\": 0, \"ticks\": \"\"}, \"colorscale\": [[0.0, \"#0d0887\"], [0.1111111111111111, \"#46039f\"], [0.2222222222222222, \"#7201a8\"], [0.3333333333333333, \"#9c179e\"], [0.4444444444444444, \"#bd3786\"], [0.5555555555555556, \"#d8576b\"], [0.6666666666666666, \"#ed7953\"], [0.7777777777777778, \"#fb9f3a\"], [0.8888888888888888, \"#fdca26\"], [1.0, \"#f0f921\"]], \"type\": \"histogram2dcontour\"}], \"mesh3d\": [{\"colorbar\": {\"outlinewidth\": 0, \"ticks\": \"\"}, \"type\": \"mesh3d\"}], \"parcoords\": [{\"line\": {\"colorbar\": {\"outlinewidth\": 0, \"ticks\": \"\"}}, \"type\": \"parcoords\"}], \"pie\": [{\"automargin\": true, \"type\": \"pie\"}], \"scatter\": [{\"marker\": {\"colorbar\": {\"outlinewidth\": 0, \"ticks\": \"\"}}, \"type\": \"scatter\"}], \"scatter3d\": [{\"line\": {\"colorbar\": {\"outlinewidth\": 0, \"ticks\": \"\"}}, \"marker\": {\"colorbar\": {\"outlinewidth\": 0, \"ticks\": \"\"}}, \"type\": \"scatter3d\"}], \"scattercarpet\": [{\"marker\": {\"colorbar\": {\"outlinewidth\": 0, \"ticks\": \"\"}}, \"type\": \"scattercarpet\"}], \"scattergeo\": [{\"marker\": {\"colorbar\": {\"outlinewidth\": 0, \"ticks\": \"\"}}, \"type\": \"scattergeo\"}], \"scattergl\": [{\"marker\": {\"colorbar\": {\"outlinewidth\": 0, \"ticks\": \"\"}}, \"type\": \"scattergl\"}], \"scattermapbox\": [{\"marker\": {\"colorbar\": {\"outlinewidth\": 0, \"ticks\": \"\"}}, \"type\": \"scattermapbox\"}], \"scatterpolar\": [{\"marker\": {\"colorbar\": {\"outlinewidth\": 0, \"ticks\": \"\"}}, \"type\": \"scatterpolar\"}], \"scatterpolargl\": [{\"marker\": {\"colorbar\": {\"outlinewidth\": 0, \"ticks\": \"\"}}, \"type\": \"scatterpolargl\"}], \"scatterternary\": [{\"marker\": {\"colorbar\": {\"outlinewidth\": 0, \"ticks\": \"\"}}, \"type\": \"scatterternary\"}], \"surface\": [{\"colorbar\": {\"outlinewidth\": 0, \"ticks\": \"\"}, \"colorscale\": [[0.0, \"#0d0887\"], [0.1111111111111111, \"#46039f\"], [0.2222222222222222, \"#7201a8\"], [0.3333333333333333, \"#9c179e\"], [0.4444444444444444, \"#bd3786\"], [0.5555555555555556, \"#d8576b\"], [0.6666666666666666, \"#ed7953\"], [0.7777777777777778, \"#fb9f3a\"], [0.8888888888888888, \"#fdca26\"], [1.0, \"#f0f921\"]], \"type\": \"surface\"}], \"table\": [{\"cells\": {\"fill\": {\"color\": \"#EBF0F8\"}, \"line\": {\"color\": \"white\"}}, \"header\": {\"fill\": {\"color\": \"#C8D4E3\"}, \"line\": {\"color\": \"white\"}}, \"type\": \"table\"}]}, \"layout\": {\"annotationdefaults\": {\"arrowcolor\": \"#2a3f5f\", \"arrowhead\": 0, \"arrowwidth\": 1}, \"coloraxis\": {\"colorbar\": {\"outlinewidth\": 0, \"ticks\": \"\"}}, \"colorscale\": {\"diverging\": [[0, \"#8e0152\"], [0.1, \"#c51b7d\"], [0.2, \"#de77ae\"], [0.3, \"#f1b6da\"], [0.4, \"#fde0ef\"], [0.5, \"#f7f7f7\"], [0.6, \"#e6f5d0\"], [0.7, \"#b8e186\"], [0.8, \"#7fbc41\"], [0.9, \"#4d9221\"], [1, \"#276419\"]], \"sequential\": [[0.0, \"#0d0887\"], [0.1111111111111111, \"#46039f\"], [0.2222222222222222, \"#7201a8\"], [0.3333333333333333, \"#9c179e\"], [0.4444444444444444, \"#bd3786\"], [0.5555555555555556, \"#d8576b\"], [0.6666666666666666, \"#ed7953\"], [0.7777777777777778, \"#fb9f3a\"], [0.8888888888888888, \"#fdca26\"], [1.0, \"#f0f921\"]], \"sequentialminus\": [[0.0, \"#0d0887\"], [0.1111111111111111, \"#46039f\"], [0.2222222222222222, \"#7201a8\"], [0.3333333333333333, \"#9c179e\"], [0.4444444444444444, \"#bd3786\"], [0.5555555555555556, \"#d8576b\"], [0.6666666666666666, \"#ed7953\"], [0.7777777777777778, \"#fb9f3a\"], [0.8888888888888888, \"#fdca26\"], [1.0, \"#f0f921\"]]}, \"colorway\": [\"#636efa\", \"#EF553B\", \"#00cc96\", \"#ab63fa\", \"#FFA15A\", \"#19d3f3\", \"#FF6692\", \"#B6E880\", \"#FF97FF\", \"#FECB52\"], \"font\": {\"color\": \"#2a3f5f\"}, \"geo\": {\"bgcolor\": \"white\", \"lakecolor\": \"white\", \"landcolor\": \"#E5ECF6\", \"showlakes\": true, \"showland\": true, \"subunitcolor\": \"white\"}, \"hoverlabel\": {\"align\": \"left\"}, \"hovermode\": \"closest\", \"mapbox\": {\"style\": \"light\"}, \"paper_bgcolor\": \"white\", \"plot_bgcolor\": \"#E5ECF6\", \"polar\": {\"angularaxis\": {\"gridcolor\": \"white\", \"linecolor\": \"white\", \"ticks\": \"\"}, \"bgcolor\": \"#E5ECF6\", \"radialaxis\": {\"gridcolor\": \"white\", \"linecolor\": \"white\", \"ticks\": \"\"}}, \"scene\": {\"xaxis\": {\"backgroundcolor\": \"#E5ECF6\", \"gridcolor\": \"white\", \"gridwidth\": 2, \"linecolor\": \"white\", \"showbackground\": true, \"ticks\": \"\", \"zerolinecolor\": \"white\"}, \"yaxis\": {\"backgroundcolor\": \"#E5ECF6\", \"gridcolor\": \"white\", \"gridwidth\": 2, \"linecolor\": \"white\", \"showbackground\": true, \"ticks\": \"\", \"zerolinecolor\": \"white\"}, \"zaxis\": {\"backgroundcolor\": \"#E5ECF6\", \"gridcolor\": \"white\", \"gridwidth\": 2, \"linecolor\": \"white\", \"showbackground\": true, \"ticks\": \"\", \"zerolinecolor\": \"white\"}}, \"shapedefaults\": {\"line\": {\"color\": \"#2a3f5f\"}}, \"ternary\": {\"aaxis\": {\"gridcolor\": \"white\", \"linecolor\": \"white\", \"ticks\": \"\"}, \"baxis\": {\"gridcolor\": \"white\", \"linecolor\": \"white\", \"ticks\": \"\"}, \"bgcolor\": \"#E5ECF6\", \"caxis\": {\"gridcolor\": \"white\", \"linecolor\": \"white\", \"ticks\": \"\"}}, \"title\": {\"x\": 0.05}, \"xaxis\": {\"automargin\": true, \"gridcolor\": \"white\", \"linecolor\": \"white\", \"ticks\": \"\", \"title\": {\"standoff\": 15}, \"zerolinecolor\": \"white\", \"zerolinewidth\": 2}, \"yaxis\": {\"automargin\": true, \"gridcolor\": \"white\", \"linecolor\": \"white\", \"ticks\": \"\", \"title\": {\"standoff\": 15}, \"zerolinecolor\": \"white\", \"zerolinewidth\": 2}}}, \"title\": {\"font\": {\"color\": \"#4D5663\"}}, \"xaxis\": {\"gridcolor\": \"#E1E5ED\", \"showgrid\": true, \"tickfont\": {\"color\": \"#4D5663\"}, \"title\": {\"font\": {\"color\": \"#4D5663\"}, \"text\": \"\"}, \"zerolinecolor\": \"#E1E5ED\"}, \"yaxis\": {\"gridcolor\": \"#E1E5ED\", \"showgrid\": true, \"tickfont\": {\"color\": \"#4D5663\"}, \"title\": {\"font\": {\"color\": \"#4D5663\"}, \"text\": \"\"}, \"zerolinecolor\": \"#E1E5ED\"}},\n",
       "                        {\"showLink\": true, \"linkText\": \"Export to plot.ly\", \"plotlyServerURL\": \"https://plot.ly\", \"responsive\": true}\n",
       "                    ).then(function(){\n",
       "                            \n",
       "var gd = document.getElementById('eb280a43-ee58-45c9-8f43-7039c358e911');\n",
       "var x = new MutationObserver(function (mutations, observer) {{\n",
       "        var display = window.getComputedStyle(gd).display;\n",
       "        if (!display || display === 'none') {{\n",
       "            console.log([gd, 'removed!']);\n",
       "            Plotly.purge(gd);\n",
       "            observer.disconnect();\n",
       "        }}\n",
       "}});\n",
       "\n",
       "// Listen for the removal of the full notebook cells\n",
       "var notebookContainer = gd.closest('#notebook-container');\n",
       "if (notebookContainer) {{\n",
       "    x.observe(notebookContainer, {childList: true});\n",
       "}}\n",
       "\n",
       "// Listen for the clearing of the current output cell\n",
       "var outputEl = gd.closest('.output');\n",
       "if (outputEl) {{\n",
       "    x.observe(outputEl, {childList: true});\n",
       "}}\n",
       "\n",
       "                        })\n",
       "                };\n",
       "                });\n",
       "            </script>\n",
       "        </div>"
      ]
     },
     "metadata": {},
     "output_type": "display_data"
    }
   ],
   "source": [
    "df3 = pd.DataFrame({'x':[1,2,3,4,5],'y':[10,20,30,20,10],'z':[5,4,3,2,1]})\n",
    "df3.iplot(kind='surface',colorscale='rdylbu')"
   ]
  },
  {
   "cell_type": "markdown",
   "metadata": {},
   "source": [
    "## Spread"
   ]
  },
  {
   "cell_type": "code",
   "execution_count": 17,
   "metadata": {},
   "outputs": [
    {
     "name": "stderr",
     "output_type": "stream",
     "text": [
      "C:\\Users\\vilqu\\anaconda3\\envs\\teste\\lib\\site-packages\\cufflinks\\plotlytools.py:849: FutureWarning:\n",
      "\n",
      "The pandas.np module is deprecated and will be removed from pandas in a future version. Import numpy directly instead\n",
      "\n",
      "C:\\Users\\vilqu\\anaconda3\\envs\\teste\\lib\\site-packages\\cufflinks\\plotlytools.py:850: FutureWarning:\n",
      "\n",
      "The pandas.np module is deprecated and will be removed from pandas in a future version. Import numpy directly instead\n",
      "\n"
     ]
    },
    {
     "data": {
      "application/vnd.plotly.v1+json": {
       "config": {
        "linkText": "Export to plot.ly",
        "plotlyServerURL": "https://plot.ly",
        "showLink": true
       },
       "data": [
        {
         "line": {
          "color": "rgba(255, 153, 51, 1.0)",
          "dash": "solid",
          "shape": "linear",
          "width": 1.3
         },
         "mode": "lines",
         "name": "A",
         "text": "",
         "type": "scatter",
         "x": [
          0,
          1,
          2,
          3,
          4,
          5,
          6,
          7,
          8,
          9,
          10,
          11,
          12,
          13,
          14,
          15,
          16,
          17,
          18,
          19,
          20,
          21,
          22,
          23,
          24,
          25,
          26,
          27,
          28,
          29,
          30,
          31,
          32,
          33,
          34,
          35,
          36,
          37,
          38,
          39,
          40,
          41,
          42,
          43,
          44,
          45,
          46,
          47,
          48,
          49,
          50,
          51,
          52,
          53,
          54,
          55,
          56,
          57,
          58,
          59,
          60,
          61,
          62,
          63,
          64,
          65,
          66,
          67,
          68,
          69,
          70,
          71,
          72,
          73,
          74,
          75,
          76,
          77,
          78,
          79,
          80,
          81,
          82,
          83,
          84,
          85,
          86,
          87,
          88,
          89,
          90,
          91,
          92,
          93,
          94,
          95,
          96,
          97,
          98,
          99
         ],
         "y": [
          0.34047230985417487,
          -0.5470601833793309,
          -1.2675378278930967,
          0.6491316044070555,
          0.9790849726054258,
          -1.733015324001771,
          2.290389321238637,
          0.036454781028621284,
          -0.9037565027827843,
          -1.0646210198714885,
          -0.7739593465059703,
          1.349709681088898,
          0.023198104431787304,
          0.7097968765591369,
          -1.3190373996246016,
          0.4432749340244109,
          0.3382114080093792,
          -0.08149571062505023,
          1.054706512426422,
          0.42840307080408696,
          -1.1416823676520806,
          -1.2051615303417365,
          0.12727852193154782,
          1.5308805794798286,
          -0.9927193045515985,
          -1.3366979353879058,
          0.1955269139584091,
          0.7930215179572049,
          1.3146642283206003,
          -1.018328645349817,
          1.528175135223415,
          1.5199500968770436,
          -0.14568948608290364,
          0.673767247732877,
          -0.6291547478631949,
          1.7237260355384059,
          -2.128409866142235,
          -1.2564105832946104,
          -0.9946511182748657,
          1.3286998088243123,
          -0.9073035901180493,
          1.1431477794473277,
          0.3637094958135473,
          -0.5556350676836874,
          -0.784958397741709,
          0.6599181211812783,
          0.9327041584723281,
          0.317808086352773,
          -0.45128432794925066,
          0.02169308947579233,
          -0.38352504449075225,
          0.2007362243585566,
          0.4888528181246676,
          -1.1903891833358475,
          -0.7363204708075135,
          0.5353027969158113,
          -0.009098706058621205,
          -0.38651580048044665,
          -1.9505943181122882,
          -0.5563156651329674,
          -2.137311930174342,
          -1.2725741121684107,
          -0.7820156364185031,
          1.5364104241185321,
          -0.418215415271642,
          1.7995202888116273,
          -1.4828590310985599,
          -1.527662283535423,
          0.9793840714449367,
          0.6974261641817958,
          0.9298674505655383,
          0.1463230889023217,
          0.18558750120210715,
          -0.8649984819098265,
          1.1923650660250928,
          -0.7288791022947565,
          0.16187314515212994,
          0.07901352569282546,
          -0.6864257743133744,
          -0.7638958537068636,
          0.09777129712374978,
          1.9894840606243682,
          0.4452067408586412,
          0.283836967561087,
          0.68803706432445,
          -0.2132472849823426,
          -1.3999549932879618,
          -0.5569138588321604,
          1.647324139450391,
          0.31164492300874735,
          -0.27526326737804385,
          1.3396705591673788,
          1.4354991278104445,
          -0.7754158123349962,
          1.0576465217387125,
          -1.2567399072669017,
          1.417915162857051,
          0.41595710155807697,
          -0.3542636977169401,
          -1.8437068141659367
         ]
        },
        {
         "line": {
          "color": "rgba(55, 128, 191, 1.0)",
          "dash": "solid",
          "shape": "linear",
          "width": 1.3
         },
         "mode": "lines",
         "name": "B",
         "text": "",
         "type": "scatter",
         "x": [
          0,
          1,
          2,
          3,
          4,
          5,
          6,
          7,
          8,
          9,
          10,
          11,
          12,
          13,
          14,
          15,
          16,
          17,
          18,
          19,
          20,
          21,
          22,
          23,
          24,
          25,
          26,
          27,
          28,
          29,
          30,
          31,
          32,
          33,
          34,
          35,
          36,
          37,
          38,
          39,
          40,
          41,
          42,
          43,
          44,
          45,
          46,
          47,
          48,
          49,
          50,
          51,
          52,
          53,
          54,
          55,
          56,
          57,
          58,
          59,
          60,
          61,
          62,
          63,
          64,
          65,
          66,
          67,
          68,
          69,
          70,
          71,
          72,
          73,
          74,
          75,
          76,
          77,
          78,
          79,
          80,
          81,
          82,
          83,
          84,
          85,
          86,
          87,
          88,
          89,
          90,
          91,
          92,
          93,
          94,
          95,
          96,
          97,
          98,
          99
         ],
         "y": [
          1.9943407701544202,
          0.8732976700461123,
          -0.44787696876144895,
          1.0780976820731896,
          1.6078548939101063,
          0.16317980233584287,
          0.5496495894598031,
          1.0102362546831511,
          -0.511917744122489,
          0.281743139062265,
          0.7216725536292614,
          0.1741682812166515,
          0.1785643052722124,
          -0.30481786184645304,
          -1.8509950817133969,
          -0.23778690258463708,
          -0.8630716467228144,
          0.4051284595491349,
          0.011693486607671525,
          -1.140316247327179,
          0.6961449106580708,
          0.07628529046739924,
          -0.15896345593945824,
          -0.914561014980909,
          -0.2899171259555344,
          1.395367474369876,
          0.9559938410991375,
          0.14143756597235277,
          0.9808198546062713,
          -0.9506065975501895,
          0.3328695743314853,
          0.17362323075461195,
          0.8629566207204599,
          0.6711995161432158,
          -1.7252037236321254,
          0.1050150185451266,
          -0.6776206987366905,
          0.9050109638072361,
          0.3120914384835461,
          -0.13682847797414394,
          -1.0338304213946623,
          0.12395061715807465,
          0.38545359854491457,
          1.5558315877417646,
          -0.5525591461019096,
          0.5755905862673705,
          0.11594421839394252,
          2.009669467433262,
          0.6720174995283758,
          3.9800981023976028,
          2.012483027853531,
          -0.0165911044931047,
          0.5436983124669627,
          0.2533224887728271,
          -2.3115522998318236,
          -0.24923560962574012,
          -1.9232267183238132,
          0.05722815876193648,
          -1.666760834897929,
          0.025844967526200354,
          0.5155027670327164,
          0.5022409291069994,
          1.949038917238445,
          -1.4855667244693458,
          0.8178687661814977,
          1.4168279164506383,
          0.11816388408156939,
          0.030444589926006436,
          0.8583597561128744,
          0.1447413788502021,
          1.3857459334031041,
          -0.3462272443036162,
          -0.7601756038235645,
          -0.19531967449619628,
          -0.1736275096618453,
          0.33535248752757185,
          0.42462100759789134,
          0.17980065301228668,
          -0.04382890283922368,
          -0.12302613525369319,
          0.8000120765971616,
          -0.7178499919504112,
          0.2307414841193989,
          2.0714126632499665,
          1.7101980155882819,
          0.9710013499136046,
          -0.6715146320607761,
          -0.38662889542131273,
          -0.009607146099274804,
          -0.7892315730989675,
          -0.0174069311032387,
          0.2380637833909742,
          0.9424713187875836,
          0.24371148622077551,
          0.5877903592172993,
          0.24724599456167232,
          -0.2184726763217426,
          0.6178629971468542,
          -0.5268844662083302,
          0.12452138333049734
         ]
        },
        {
         "connectgaps": false,
         "fill": "tozeroy",
         "line": {
          "color": "green",
          "dash": "solid",
          "shape": "linear",
          "width": 0.5
         },
         "mode": "lines",
         "name": "Spread",
         "showlegend": false,
         "type": "scatter",
         "x": [
          0,
          1,
          2,
          3,
          4,
          5,
          6,
          7,
          8,
          9,
          10,
          11,
          12,
          13,
          14,
          15,
          16,
          17,
          18,
          19,
          20,
          21,
          22,
          23,
          24,
          25,
          26,
          27,
          28,
          29,
          30,
          31,
          32,
          33,
          34,
          35,
          36,
          37,
          38,
          39,
          40,
          41,
          42,
          43,
          44,
          45,
          46,
          47,
          48,
          49,
          50,
          51,
          52,
          53,
          54,
          55,
          56,
          57,
          58,
          59,
          60,
          61,
          62,
          63,
          64,
          65,
          66,
          67,
          68,
          69,
          70,
          71,
          72,
          73,
          74,
          75,
          76,
          77,
          78,
          79,
          80,
          81,
          82,
          83,
          84,
          85,
          86,
          87,
          88,
          89,
          90,
          91,
          92,
          93,
          94,
          95,
          96,
          97,
          98,
          99
         ],
         "xaxis": "x2",
         "y": [
          "",
          "",
          "",
          "",
          "",
          "",
          1.7407397317788336,
          "",
          "",
          "",
          "",
          1.1755413998722464,
          "",
          1.01461473840559,
          0.5319576820887952,
          0.681061836609048,
          1.2012830547321935,
          "",
          1.0430130258187507,
          1.568719318131266,
          "",
          "",
          0.286241977871006,
          2.4454415944607377,
          "",
          "",
          "",
          0.6515839519848521,
          0.33384437371432896,
          "",
          1.1953055608919296,
          1.3463268661224317,
          "",
          0.0025677315896611708,
          1.0960489757689305,
          1.6187110169932792,
          "",
          "",
          "",
          1.4655282867984563,
          0.12652683127661302,
          1.019197162289253,
          "",
          "",
          "",
          0.08432753491390788,
          0.8167599400783856,
          "",
          "",
          "",
          "",
          0.21732732885166128,
          "",
          "",
          1.5752318290243101,
          0.7845384065415514,
          1.914128012265192,
          "",
          "",
          "",
          "",
          "",
          "",
          3.0219771485878777,
          "",
          0.38269237236098896,
          "",
          "",
          0.12102431533206226,
          0.5526847853315937,
          "",
          0.4925503332059379,
          0.9457631050256716,
          "",
          1.3659925756869382,
          "",
          "",
          "",
          "",
          "",
          "",
          2.7073340525747795,
          0.2144652567392423,
          "",
          "",
          "",
          "",
          "",
          1.6569312855496658,
          1.1008764961077149,
          "",
          1.1016067757764045,
          0.4930278090228609,
          "",
          0.46985616252141327,
          "",
          1.6363878391787936,
          "",
          0.17262076849139008,
          ""
         ],
         "yaxis": "y2"
        },
        {
         "connectgaps": false,
         "fill": "tozeroy",
         "line": {
          "color": "red",
          "dash": "solid",
          "shape": "linear",
          "width": 0.5
         },
         "mode": "lines",
         "name": "Spread",
         "showlegend": false,
         "type": "scatter",
         "x": [
          0,
          1,
          2,
          3,
          4,
          5,
          6,
          7,
          8,
          9,
          10,
          11,
          12,
          13,
          14,
          15,
          16,
          17,
          18,
          19,
          20,
          21,
          22,
          23,
          24,
          25,
          26,
          27,
          28,
          29,
          30,
          31,
          32,
          33,
          34,
          35,
          36,
          37,
          38,
          39,
          40,
          41,
          42,
          43,
          44,
          45,
          46,
          47,
          48,
          49,
          50,
          51,
          52,
          53,
          54,
          55,
          56,
          57,
          58,
          59,
          60,
          61,
          62,
          63,
          64,
          65,
          66,
          67,
          68,
          69,
          70,
          71,
          72,
          73,
          74,
          75,
          76,
          77,
          78,
          79,
          80,
          81,
          82,
          83,
          84,
          85,
          86,
          87,
          88,
          89,
          90,
          91,
          92,
          93,
          94,
          95,
          96,
          97,
          98,
          99
         ],
         "xaxis": "x2",
         "y": [
          -1.6538684603002454,
          -1.4203578534254433,
          -0.8196608591316477,
          -0.42896607766613404,
          -0.6287699213046805,
          -1.8961951263376138,
          "",
          -0.9737814736545298,
          -0.39183875866029527,
          -1.3463641589337536,
          -1.4956319001352316,
          "",
          -0.1553662008404251,
          "",
          "",
          "",
          "",
          -0.48662417017418513,
          "",
          "",
          -1.8378272783101515,
          -1.2814468208091356,
          "",
          "",
          -0.7028021785960641,
          -2.732065409757782,
          -0.7604669271407285,
          "",
          "",
          -0.06772204779962754,
          "",
          "",
          -1.0086461068033634,
          "",
          "",
          "",
          -1.4507891674055444,
          -2.1614215471018463,
          -1.3067425567584119,
          "",
          "",
          "",
          -0.021744102731367287,
          -2.1114666554254518,
          -0.23239925163979935,
          "",
          "",
          -1.691861381080489,
          -1.1233018274776265,
          -3.9584050129218102,
          -2.396008072344283,
          "",
          -0.054845494342295076,
          -1.4437116721086747,
          "",
          "",
          "",
          -0.44374395924238313,
          -0.2838334832143592,
          -0.5821606326591677,
          -2.6528146972070585,
          -1.77481504127541,
          -2.731054553656948,
          "",
          -1.2360841814531398,
          "",
          -1.6010229151801292,
          -1.5581068734614294,
          "",
          "",
          -0.4558784828375658,
          "",
          "",
          -0.6696788074136303,
          "",
          -1.0642315898223282,
          -0.2627478624457614,
          -0.10078712731946121,
          -0.6425968714741507,
          -0.6408697184531704,
          -0.7022407794734118,
          "",
          "",
          -1.7875756956888795,
          -1.0221609512638319,
          -1.1842486348959473,
          -0.7284403612271857,
          -0.17028496341084765,
          "",
          "",
          -0.25785633627480514,
          "",
          "",
          -1.0191272985557718,
          "",
          -1.503985901828574,
          "",
          -0.20190589558877725,
          "",
          -1.9682281974964342
         ],
         "yaxis": "y2"
        }
       ],
       "layout": {
        "hovermode": "x",
        "legend": {
         "bgcolor": "#F5F6F9",
         "font": {
          "color": "#4D5663"
         }
        },
        "paper_bgcolor": "#F5F6F9",
        "plot_bgcolor": "#F5F6F9",
        "template": {
         "data": {
          "bar": [
           {
            "error_x": {
             "color": "#2a3f5f"
            },
            "error_y": {
             "color": "#2a3f5f"
            },
            "marker": {
             "line": {
              "color": "#E5ECF6",
              "width": 0.5
             }
            },
            "type": "bar"
           }
          ],
          "barpolar": [
           {
            "marker": {
             "line": {
              "color": "#E5ECF6",
              "width": 0.5
             }
            },
            "type": "barpolar"
           }
          ],
          "carpet": [
           {
            "aaxis": {
             "endlinecolor": "#2a3f5f",
             "gridcolor": "white",
             "linecolor": "white",
             "minorgridcolor": "white",
             "startlinecolor": "#2a3f5f"
            },
            "baxis": {
             "endlinecolor": "#2a3f5f",
             "gridcolor": "white",
             "linecolor": "white",
             "minorgridcolor": "white",
             "startlinecolor": "#2a3f5f"
            },
            "type": "carpet"
           }
          ],
          "choropleth": [
           {
            "colorbar": {
             "outlinewidth": 0,
             "ticks": ""
            },
            "type": "choropleth"
           }
          ],
          "contour": [
           {
            "colorbar": {
             "outlinewidth": 0,
             "ticks": ""
            },
            "colorscale": [
             [
              0,
              "#0d0887"
             ],
             [
              0.1111111111111111,
              "#46039f"
             ],
             [
              0.2222222222222222,
              "#7201a8"
             ],
             [
              0.3333333333333333,
              "#9c179e"
             ],
             [
              0.4444444444444444,
              "#bd3786"
             ],
             [
              0.5555555555555556,
              "#d8576b"
             ],
             [
              0.6666666666666666,
              "#ed7953"
             ],
             [
              0.7777777777777778,
              "#fb9f3a"
             ],
             [
              0.8888888888888888,
              "#fdca26"
             ],
             [
              1,
              "#f0f921"
             ]
            ],
            "type": "contour"
           }
          ],
          "contourcarpet": [
           {
            "colorbar": {
             "outlinewidth": 0,
             "ticks": ""
            },
            "type": "contourcarpet"
           }
          ],
          "heatmap": [
           {
            "colorbar": {
             "outlinewidth": 0,
             "ticks": ""
            },
            "colorscale": [
             [
              0,
              "#0d0887"
             ],
             [
              0.1111111111111111,
              "#46039f"
             ],
             [
              0.2222222222222222,
              "#7201a8"
             ],
             [
              0.3333333333333333,
              "#9c179e"
             ],
             [
              0.4444444444444444,
              "#bd3786"
             ],
             [
              0.5555555555555556,
              "#d8576b"
             ],
             [
              0.6666666666666666,
              "#ed7953"
             ],
             [
              0.7777777777777778,
              "#fb9f3a"
             ],
             [
              0.8888888888888888,
              "#fdca26"
             ],
             [
              1,
              "#f0f921"
             ]
            ],
            "type": "heatmap"
           }
          ],
          "heatmapgl": [
           {
            "colorbar": {
             "outlinewidth": 0,
             "ticks": ""
            },
            "colorscale": [
             [
              0,
              "#0d0887"
             ],
             [
              0.1111111111111111,
              "#46039f"
             ],
             [
              0.2222222222222222,
              "#7201a8"
             ],
             [
              0.3333333333333333,
              "#9c179e"
             ],
             [
              0.4444444444444444,
              "#bd3786"
             ],
             [
              0.5555555555555556,
              "#d8576b"
             ],
             [
              0.6666666666666666,
              "#ed7953"
             ],
             [
              0.7777777777777778,
              "#fb9f3a"
             ],
             [
              0.8888888888888888,
              "#fdca26"
             ],
             [
              1,
              "#f0f921"
             ]
            ],
            "type": "heatmapgl"
           }
          ],
          "histogram": [
           {
            "marker": {
             "colorbar": {
              "outlinewidth": 0,
              "ticks": ""
             }
            },
            "type": "histogram"
           }
          ],
          "histogram2d": [
           {
            "colorbar": {
             "outlinewidth": 0,
             "ticks": ""
            },
            "colorscale": [
             [
              0,
              "#0d0887"
             ],
             [
              0.1111111111111111,
              "#46039f"
             ],
             [
              0.2222222222222222,
              "#7201a8"
             ],
             [
              0.3333333333333333,
              "#9c179e"
             ],
             [
              0.4444444444444444,
              "#bd3786"
             ],
             [
              0.5555555555555556,
              "#d8576b"
             ],
             [
              0.6666666666666666,
              "#ed7953"
             ],
             [
              0.7777777777777778,
              "#fb9f3a"
             ],
             [
              0.8888888888888888,
              "#fdca26"
             ],
             [
              1,
              "#f0f921"
             ]
            ],
            "type": "histogram2d"
           }
          ],
          "histogram2dcontour": [
           {
            "colorbar": {
             "outlinewidth": 0,
             "ticks": ""
            },
            "colorscale": [
             [
              0,
              "#0d0887"
             ],
             [
              0.1111111111111111,
              "#46039f"
             ],
             [
              0.2222222222222222,
              "#7201a8"
             ],
             [
              0.3333333333333333,
              "#9c179e"
             ],
             [
              0.4444444444444444,
              "#bd3786"
             ],
             [
              0.5555555555555556,
              "#d8576b"
             ],
             [
              0.6666666666666666,
              "#ed7953"
             ],
             [
              0.7777777777777778,
              "#fb9f3a"
             ],
             [
              0.8888888888888888,
              "#fdca26"
             ],
             [
              1,
              "#f0f921"
             ]
            ],
            "type": "histogram2dcontour"
           }
          ],
          "mesh3d": [
           {
            "colorbar": {
             "outlinewidth": 0,
             "ticks": ""
            },
            "type": "mesh3d"
           }
          ],
          "parcoords": [
           {
            "line": {
             "colorbar": {
              "outlinewidth": 0,
              "ticks": ""
             }
            },
            "type": "parcoords"
           }
          ],
          "pie": [
           {
            "automargin": true,
            "type": "pie"
           }
          ],
          "scatter": [
           {
            "marker": {
             "colorbar": {
              "outlinewidth": 0,
              "ticks": ""
             }
            },
            "type": "scatter"
           }
          ],
          "scatter3d": [
           {
            "line": {
             "colorbar": {
              "outlinewidth": 0,
              "ticks": ""
             }
            },
            "marker": {
             "colorbar": {
              "outlinewidth": 0,
              "ticks": ""
             }
            },
            "type": "scatter3d"
           }
          ],
          "scattercarpet": [
           {
            "marker": {
             "colorbar": {
              "outlinewidth": 0,
              "ticks": ""
             }
            },
            "type": "scattercarpet"
           }
          ],
          "scattergeo": [
           {
            "marker": {
             "colorbar": {
              "outlinewidth": 0,
              "ticks": ""
             }
            },
            "type": "scattergeo"
           }
          ],
          "scattergl": [
           {
            "marker": {
             "colorbar": {
              "outlinewidth": 0,
              "ticks": ""
             }
            },
            "type": "scattergl"
           }
          ],
          "scattermapbox": [
           {
            "marker": {
             "colorbar": {
              "outlinewidth": 0,
              "ticks": ""
             }
            },
            "type": "scattermapbox"
           }
          ],
          "scatterpolar": [
           {
            "marker": {
             "colorbar": {
              "outlinewidth": 0,
              "ticks": ""
             }
            },
            "type": "scatterpolar"
           }
          ],
          "scatterpolargl": [
           {
            "marker": {
             "colorbar": {
              "outlinewidth": 0,
              "ticks": ""
             }
            },
            "type": "scatterpolargl"
           }
          ],
          "scatterternary": [
           {
            "marker": {
             "colorbar": {
              "outlinewidth": 0,
              "ticks": ""
             }
            },
            "type": "scatterternary"
           }
          ],
          "surface": [
           {
            "colorbar": {
             "outlinewidth": 0,
             "ticks": ""
            },
            "colorscale": [
             [
              0,
              "#0d0887"
             ],
             [
              0.1111111111111111,
              "#46039f"
             ],
             [
              0.2222222222222222,
              "#7201a8"
             ],
             [
              0.3333333333333333,
              "#9c179e"
             ],
             [
              0.4444444444444444,
              "#bd3786"
             ],
             [
              0.5555555555555556,
              "#d8576b"
             ],
             [
              0.6666666666666666,
              "#ed7953"
             ],
             [
              0.7777777777777778,
              "#fb9f3a"
             ],
             [
              0.8888888888888888,
              "#fdca26"
             ],
             [
              1,
              "#f0f921"
             ]
            ],
            "type": "surface"
           }
          ],
          "table": [
           {
            "cells": {
             "fill": {
              "color": "#EBF0F8"
             },
             "line": {
              "color": "white"
             }
            },
            "header": {
             "fill": {
              "color": "#C8D4E3"
             },
             "line": {
              "color": "white"
             }
            },
            "type": "table"
           }
          ]
         },
         "layout": {
          "annotationdefaults": {
           "arrowcolor": "#2a3f5f",
           "arrowhead": 0,
           "arrowwidth": 1
          },
          "coloraxis": {
           "colorbar": {
            "outlinewidth": 0,
            "ticks": ""
           }
          },
          "colorscale": {
           "diverging": [
            [
             0,
             "#8e0152"
            ],
            [
             0.1,
             "#c51b7d"
            ],
            [
             0.2,
             "#de77ae"
            ],
            [
             0.3,
             "#f1b6da"
            ],
            [
             0.4,
             "#fde0ef"
            ],
            [
             0.5,
             "#f7f7f7"
            ],
            [
             0.6,
             "#e6f5d0"
            ],
            [
             0.7,
             "#b8e186"
            ],
            [
             0.8,
             "#7fbc41"
            ],
            [
             0.9,
             "#4d9221"
            ],
            [
             1,
             "#276419"
            ]
           ],
           "sequential": [
            [
             0,
             "#0d0887"
            ],
            [
             0.1111111111111111,
             "#46039f"
            ],
            [
             0.2222222222222222,
             "#7201a8"
            ],
            [
             0.3333333333333333,
             "#9c179e"
            ],
            [
             0.4444444444444444,
             "#bd3786"
            ],
            [
             0.5555555555555556,
             "#d8576b"
            ],
            [
             0.6666666666666666,
             "#ed7953"
            ],
            [
             0.7777777777777778,
             "#fb9f3a"
            ],
            [
             0.8888888888888888,
             "#fdca26"
            ],
            [
             1,
             "#f0f921"
            ]
           ],
           "sequentialminus": [
            [
             0,
             "#0d0887"
            ],
            [
             0.1111111111111111,
             "#46039f"
            ],
            [
             0.2222222222222222,
             "#7201a8"
            ],
            [
             0.3333333333333333,
             "#9c179e"
            ],
            [
             0.4444444444444444,
             "#bd3786"
            ],
            [
             0.5555555555555556,
             "#d8576b"
            ],
            [
             0.6666666666666666,
             "#ed7953"
            ],
            [
             0.7777777777777778,
             "#fb9f3a"
            ],
            [
             0.8888888888888888,
             "#fdca26"
            ],
            [
             1,
             "#f0f921"
            ]
           ]
          },
          "colorway": [
           "#636efa",
           "#EF553B",
           "#00cc96",
           "#ab63fa",
           "#FFA15A",
           "#19d3f3",
           "#FF6692",
           "#B6E880",
           "#FF97FF",
           "#FECB52"
          ],
          "font": {
           "color": "#2a3f5f"
          },
          "geo": {
           "bgcolor": "white",
           "lakecolor": "white",
           "landcolor": "#E5ECF6",
           "showlakes": true,
           "showland": true,
           "subunitcolor": "white"
          },
          "hoverlabel": {
           "align": "left"
          },
          "hovermode": "closest",
          "mapbox": {
           "style": "light"
          },
          "paper_bgcolor": "white",
          "plot_bgcolor": "#E5ECF6",
          "polar": {
           "angularaxis": {
            "gridcolor": "white",
            "linecolor": "white",
            "ticks": ""
           },
           "bgcolor": "#E5ECF6",
           "radialaxis": {
            "gridcolor": "white",
            "linecolor": "white",
            "ticks": ""
           }
          },
          "scene": {
           "xaxis": {
            "backgroundcolor": "#E5ECF6",
            "gridcolor": "white",
            "gridwidth": 2,
            "linecolor": "white",
            "showbackground": true,
            "ticks": "",
            "zerolinecolor": "white"
           },
           "yaxis": {
            "backgroundcolor": "#E5ECF6",
            "gridcolor": "white",
            "gridwidth": 2,
            "linecolor": "white",
            "showbackground": true,
            "ticks": "",
            "zerolinecolor": "white"
           },
           "zaxis": {
            "backgroundcolor": "#E5ECF6",
            "gridcolor": "white",
            "gridwidth": 2,
            "linecolor": "white",
            "showbackground": true,
            "ticks": "",
            "zerolinecolor": "white"
           }
          },
          "shapedefaults": {
           "line": {
            "color": "#2a3f5f"
           }
          },
          "ternary": {
           "aaxis": {
            "gridcolor": "white",
            "linecolor": "white",
            "ticks": ""
           },
           "baxis": {
            "gridcolor": "white",
            "linecolor": "white",
            "ticks": ""
           },
           "bgcolor": "#E5ECF6",
           "caxis": {
            "gridcolor": "white",
            "linecolor": "white",
            "ticks": ""
           }
          },
          "title": {
           "x": 0.05
          },
          "xaxis": {
           "automargin": true,
           "gridcolor": "white",
           "linecolor": "white",
           "ticks": "",
           "title": {
            "standoff": 15
           },
           "zerolinecolor": "white",
           "zerolinewidth": 2
          },
          "yaxis": {
           "automargin": true,
           "gridcolor": "white",
           "linecolor": "white",
           "ticks": "",
           "title": {
            "standoff": 15
           },
           "zerolinecolor": "white",
           "zerolinewidth": 2
          }
         }
        },
        "title": {
         "font": {
          "color": "#4D5663"
         }
        },
        "xaxis": {
         "gridcolor": "#E1E5ED",
         "showgrid": true,
         "tickfont": {
          "color": "#4D5663"
         },
         "title": {
          "font": {
           "color": "#4D5663"
          },
          "text": ""
         },
         "zerolinecolor": "#E1E5ED"
        },
        "xaxis2": {
         "anchor": "y2",
         "gridcolor": "#E1E5ED",
         "showgrid": true,
         "showticklabels": false,
         "tickfont": {
          "color": "#4D5663"
         },
         "title": {
          "font": {
           "color": "#4D5663"
          },
          "text": ""
         },
         "zerolinecolor": "#E1E5ED"
        },
        "yaxis": {
         "domain": [
          0.3,
          1
         ],
         "gridcolor": "#E1E5ED",
         "showgrid": true,
         "tickfont": {
          "color": "#4D5663"
         },
         "title": {
          "font": {
           "color": "#4D5663"
          },
          "text": ""
         },
         "zerolinecolor": "#E1E5ED"
        },
        "yaxis2": {
         "domain": [
          0,
          0.25
         ],
         "gridcolor": "#E1E5ED",
         "showgrid": true,
         "tickfont": {
          "color": "#4D5663"
         },
         "title": {
          "font": {
           "color": "#4D5663"
          },
          "text": "Spread"
         },
         "zerolinecolor": "#E1E5ED"
        }
       }
      },
      "text/html": [
       "<div>\n",
       "        \n",
       "        \n",
       "            <div id=\"397ec509-2291-4693-889a-34e5fa4fa914\" class=\"plotly-graph-div\" style=\"height:525px; width:100%;\"></div>\n",
       "            <script type=\"text/javascript\">\n",
       "                require([\"plotly\"], function(Plotly) {\n",
       "                    window.PLOTLYENV=window.PLOTLYENV || {};\n",
       "                    window.PLOTLYENV.BASE_URL='https://plot.ly';\n",
       "                    \n",
       "                if (document.getElementById(\"397ec509-2291-4693-889a-34e5fa4fa914\")) {\n",
       "                    Plotly.newPlot(\n",
       "                        '397ec509-2291-4693-889a-34e5fa4fa914',\n",
       "                        [{\"line\": {\"color\": \"rgba(255, 153, 51, 1.0)\", \"dash\": \"solid\", \"shape\": \"linear\", \"width\": 1.3}, \"mode\": \"lines\", \"name\": \"A\", \"text\": \"\", \"type\": \"scatter\", \"x\": [0, 1, 2, 3, 4, 5, 6, 7, 8, 9, 10, 11, 12, 13, 14, 15, 16, 17, 18, 19, 20, 21, 22, 23, 24, 25, 26, 27, 28, 29, 30, 31, 32, 33, 34, 35, 36, 37, 38, 39, 40, 41, 42, 43, 44, 45, 46, 47, 48, 49, 50, 51, 52, 53, 54, 55, 56, 57, 58, 59, 60, 61, 62, 63, 64, 65, 66, 67, 68, 69, 70, 71, 72, 73, 74, 75, 76, 77, 78, 79, 80, 81, 82, 83, 84, 85, 86, 87, 88, 89, 90, 91, 92, 93, 94, 95, 96, 97, 98, 99], \"y\": [0.34047230985417487, -0.5470601833793309, -1.2675378278930967, 0.6491316044070555, 0.9790849726054258, -1.733015324001771, 2.290389321238637, 0.036454781028621284, -0.9037565027827843, -1.0646210198714885, -0.7739593465059703, 1.349709681088898, 0.023198104431787304, 0.7097968765591369, -1.3190373996246016, 0.4432749340244109, 0.3382114080093792, -0.08149571062505023, 1.054706512426422, 0.42840307080408696, -1.1416823676520806, -1.2051615303417365, 0.12727852193154782, 1.5308805794798286, -0.9927193045515985, -1.3366979353879058, 0.1955269139584091, 0.7930215179572049, 1.3146642283206003, -1.018328645349817, 1.528175135223415, 1.5199500968770436, -0.14568948608290364, 0.673767247732877, -0.6291547478631949, 1.7237260355384059, -2.128409866142235, -1.2564105832946104, -0.9946511182748657, 1.3286998088243123, -0.9073035901180493, 1.1431477794473277, 0.3637094958135473, -0.5556350676836874, -0.784958397741709, 0.6599181211812783, 0.9327041584723281, 0.317808086352773, -0.45128432794925066, 0.02169308947579233, -0.38352504449075225, 0.2007362243585566, 0.4888528181246676, -1.1903891833358475, -0.7363204708075135, 0.5353027969158113, -0.009098706058621205, -0.38651580048044665, -1.9505943181122882, -0.5563156651329674, -2.137311930174342, -1.2725741121684107, -0.7820156364185031, 1.5364104241185321, -0.418215415271642, 1.7995202888116273, -1.4828590310985599, -1.527662283535423, 0.9793840714449367, 0.6974261641817958, 0.9298674505655383, 0.1463230889023217, 0.18558750120210715, -0.8649984819098265, 1.1923650660250928, -0.7288791022947565, 0.16187314515212994, 0.07901352569282546, -0.6864257743133744, -0.7638958537068636, 0.09777129712374978, 1.9894840606243682, 0.4452067408586412, 0.283836967561087, 0.68803706432445, -0.2132472849823426, -1.3999549932879618, -0.5569138588321604, 1.647324139450391, 0.31164492300874735, -0.27526326737804385, 1.3396705591673788, 1.4354991278104445, -0.7754158123349962, 1.0576465217387125, -1.2567399072669017, 1.417915162857051, 0.41595710155807697, -0.3542636977169401, -1.8437068141659367]}, {\"line\": {\"color\": \"rgba(55, 128, 191, 1.0)\", \"dash\": \"solid\", \"shape\": \"linear\", \"width\": 1.3}, \"mode\": \"lines\", \"name\": \"B\", \"text\": \"\", \"type\": \"scatter\", \"x\": [0, 1, 2, 3, 4, 5, 6, 7, 8, 9, 10, 11, 12, 13, 14, 15, 16, 17, 18, 19, 20, 21, 22, 23, 24, 25, 26, 27, 28, 29, 30, 31, 32, 33, 34, 35, 36, 37, 38, 39, 40, 41, 42, 43, 44, 45, 46, 47, 48, 49, 50, 51, 52, 53, 54, 55, 56, 57, 58, 59, 60, 61, 62, 63, 64, 65, 66, 67, 68, 69, 70, 71, 72, 73, 74, 75, 76, 77, 78, 79, 80, 81, 82, 83, 84, 85, 86, 87, 88, 89, 90, 91, 92, 93, 94, 95, 96, 97, 98, 99], \"y\": [1.9943407701544202, 0.8732976700461123, -0.44787696876144895, 1.0780976820731896, 1.6078548939101063, 0.16317980233584287, 0.5496495894598031, 1.0102362546831511, -0.511917744122489, 0.281743139062265, 0.7216725536292614, 0.1741682812166515, 0.1785643052722124, -0.30481786184645304, -1.8509950817133969, -0.23778690258463708, -0.8630716467228144, 0.4051284595491349, 0.011693486607671525, -1.140316247327179, 0.6961449106580708, 0.07628529046739924, -0.15896345593945824, -0.914561014980909, -0.2899171259555344, 1.395367474369876, 0.9559938410991375, 0.14143756597235277, 0.9808198546062713, -0.9506065975501895, 0.3328695743314853, 0.17362323075461195, 0.8629566207204599, 0.6711995161432158, -1.7252037236321254, 0.1050150185451266, -0.6776206987366905, 0.9050109638072361, 0.3120914384835461, -0.13682847797414394, -1.0338304213946623, 0.12395061715807465, 0.38545359854491457, 1.5558315877417646, -0.5525591461019096, 0.5755905862673705, 0.11594421839394252, 2.009669467433262, 0.6720174995283758, 3.9800981023976028, 2.012483027853531, -0.0165911044931047, 0.5436983124669627, 0.2533224887728271, -2.3115522998318236, -0.24923560962574012, -1.9232267183238132, 0.05722815876193648, -1.666760834897929, 0.025844967526200354, 0.5155027670327164, 0.5022409291069994, 1.949038917238445, -1.4855667244693458, 0.8178687661814977, 1.4168279164506383, 0.11816388408156939, 0.030444589926006436, 0.8583597561128744, 0.1447413788502021, 1.3857459334031041, -0.3462272443036162, -0.7601756038235645, -0.19531967449619628, -0.1736275096618453, 0.33535248752757185, 0.42462100759789134, 0.17980065301228668, -0.04382890283922368, -0.12302613525369319, 0.8000120765971616, -0.7178499919504112, 0.2307414841193989, 2.0714126632499665, 1.7101980155882819, 0.9710013499136046, -0.6715146320607761, -0.38662889542131273, -0.009607146099274804, -0.7892315730989675, -0.0174069311032387, 0.2380637833909742, 0.9424713187875836, 0.24371148622077551, 0.5877903592172993, 0.24724599456167232, -0.2184726763217426, 0.6178629971468542, -0.5268844662083302, 0.12452138333049734]}, {\"connectgaps\": false, \"fill\": \"tozeroy\", \"line\": {\"color\": \"green\", \"dash\": \"solid\", \"shape\": \"linear\", \"width\": 0.5}, \"mode\": \"lines\", \"name\": \"Spread\", \"showlegend\": false, \"type\": \"scatter\", \"x\": [0, 1, 2, 3, 4, 5, 6, 7, 8, 9, 10, 11, 12, 13, 14, 15, 16, 17, 18, 19, 20, 21, 22, 23, 24, 25, 26, 27, 28, 29, 30, 31, 32, 33, 34, 35, 36, 37, 38, 39, 40, 41, 42, 43, 44, 45, 46, 47, 48, 49, 50, 51, 52, 53, 54, 55, 56, 57, 58, 59, 60, 61, 62, 63, 64, 65, 66, 67, 68, 69, 70, 71, 72, 73, 74, 75, 76, 77, 78, 79, 80, 81, 82, 83, 84, 85, 86, 87, 88, 89, 90, 91, 92, 93, 94, 95, 96, 97, 98, 99], \"xaxis\": \"x2\", \"y\": [\"\", \"\", \"\", \"\", \"\", \"\", 1.7407397317788336, \"\", \"\", \"\", \"\", 1.1755413998722464, \"\", 1.01461473840559, 0.5319576820887952, 0.681061836609048, 1.2012830547321935, \"\", 1.0430130258187507, 1.568719318131266, \"\", \"\", 0.286241977871006, 2.4454415944607377, \"\", \"\", \"\", 0.6515839519848521, 0.33384437371432896, \"\", 1.1953055608919296, 1.3463268661224317, \"\", 0.0025677315896611708, 1.0960489757689305, 1.6187110169932792, \"\", \"\", \"\", 1.4655282867984563, 0.12652683127661302, 1.019197162289253, \"\", \"\", \"\", 0.08432753491390788, 0.8167599400783856, \"\", \"\", \"\", \"\", 0.21732732885166128, \"\", \"\", 1.5752318290243101, 0.7845384065415514, 1.914128012265192, \"\", \"\", \"\", \"\", \"\", \"\", 3.0219771485878777, \"\", 0.38269237236098896, \"\", \"\", 0.12102431533206226, 0.5526847853315937, \"\", 0.4925503332059379, 0.9457631050256716, \"\", 1.3659925756869382, \"\", \"\", \"\", \"\", \"\", \"\", 2.7073340525747795, 0.2144652567392423, \"\", \"\", \"\", \"\", \"\", 1.6569312855496658, 1.1008764961077149, \"\", 1.1016067757764045, 0.4930278090228609, \"\", 0.46985616252141327, \"\", 1.6363878391787936, \"\", 0.17262076849139008, \"\"], \"yaxis\": \"y2\"}, {\"connectgaps\": false, \"fill\": \"tozeroy\", \"line\": {\"color\": \"red\", \"dash\": \"solid\", \"shape\": \"linear\", \"width\": 0.5}, \"mode\": \"lines\", \"name\": \"Spread\", \"showlegend\": false, \"type\": \"scatter\", \"x\": [0, 1, 2, 3, 4, 5, 6, 7, 8, 9, 10, 11, 12, 13, 14, 15, 16, 17, 18, 19, 20, 21, 22, 23, 24, 25, 26, 27, 28, 29, 30, 31, 32, 33, 34, 35, 36, 37, 38, 39, 40, 41, 42, 43, 44, 45, 46, 47, 48, 49, 50, 51, 52, 53, 54, 55, 56, 57, 58, 59, 60, 61, 62, 63, 64, 65, 66, 67, 68, 69, 70, 71, 72, 73, 74, 75, 76, 77, 78, 79, 80, 81, 82, 83, 84, 85, 86, 87, 88, 89, 90, 91, 92, 93, 94, 95, 96, 97, 98, 99], \"xaxis\": \"x2\", \"y\": [-1.6538684603002454, -1.4203578534254433, -0.8196608591316477, -0.42896607766613404, -0.6287699213046805, -1.8961951263376138, \"\", -0.9737814736545298, -0.39183875866029527, -1.3463641589337536, -1.4956319001352316, \"\", -0.1553662008404251, \"\", \"\", \"\", \"\", -0.48662417017418513, \"\", \"\", -1.8378272783101515, -1.2814468208091356, \"\", \"\", -0.7028021785960641, -2.732065409757782, -0.7604669271407285, \"\", \"\", -0.06772204779962754, \"\", \"\", -1.0086461068033634, \"\", \"\", \"\", -1.4507891674055444, -2.1614215471018463, -1.3067425567584119, \"\", \"\", \"\", -0.021744102731367287, -2.1114666554254518, -0.23239925163979935, \"\", \"\", -1.691861381080489, -1.1233018274776265, -3.9584050129218102, -2.396008072344283, \"\", -0.054845494342295076, -1.4437116721086747, \"\", \"\", \"\", -0.44374395924238313, -0.2838334832143592, -0.5821606326591677, -2.6528146972070585, -1.77481504127541, -2.731054553656948, \"\", -1.2360841814531398, \"\", -1.6010229151801292, -1.5581068734614294, \"\", \"\", -0.4558784828375658, \"\", \"\", -0.6696788074136303, \"\", -1.0642315898223282, -0.2627478624457614, -0.10078712731946121, -0.6425968714741507, -0.6408697184531704, -0.7022407794734118, \"\", \"\", -1.7875756956888795, -1.0221609512638319, -1.1842486348959473, -0.7284403612271857, -0.17028496341084765, \"\", \"\", -0.25785633627480514, \"\", \"\", -1.0191272985557718, \"\", -1.503985901828574, \"\", -0.20190589558877725, \"\", -1.9682281974964342], \"yaxis\": \"y2\"}],\n",
       "                        {\"hovermode\": \"x\", \"legend\": {\"bgcolor\": \"#F5F6F9\", \"font\": {\"color\": \"#4D5663\"}}, \"paper_bgcolor\": \"#F5F6F9\", \"plot_bgcolor\": \"#F5F6F9\", \"template\": {\"data\": {\"bar\": [{\"error_x\": {\"color\": \"#2a3f5f\"}, \"error_y\": {\"color\": \"#2a3f5f\"}, \"marker\": {\"line\": {\"color\": \"#E5ECF6\", \"width\": 0.5}}, \"type\": \"bar\"}], \"barpolar\": [{\"marker\": {\"line\": {\"color\": \"#E5ECF6\", \"width\": 0.5}}, \"type\": \"barpolar\"}], \"carpet\": [{\"aaxis\": {\"endlinecolor\": \"#2a3f5f\", \"gridcolor\": \"white\", \"linecolor\": \"white\", \"minorgridcolor\": \"white\", \"startlinecolor\": \"#2a3f5f\"}, \"baxis\": {\"endlinecolor\": \"#2a3f5f\", \"gridcolor\": \"white\", \"linecolor\": \"white\", \"minorgridcolor\": \"white\", \"startlinecolor\": \"#2a3f5f\"}, \"type\": \"carpet\"}], \"choropleth\": [{\"colorbar\": {\"outlinewidth\": 0, \"ticks\": \"\"}, \"type\": \"choropleth\"}], \"contour\": [{\"colorbar\": {\"outlinewidth\": 0, \"ticks\": \"\"}, \"colorscale\": [[0.0, \"#0d0887\"], [0.1111111111111111, \"#46039f\"], [0.2222222222222222, \"#7201a8\"], [0.3333333333333333, \"#9c179e\"], [0.4444444444444444, \"#bd3786\"], [0.5555555555555556, \"#d8576b\"], [0.6666666666666666, \"#ed7953\"], [0.7777777777777778, \"#fb9f3a\"], [0.8888888888888888, \"#fdca26\"], [1.0, \"#f0f921\"]], \"type\": \"contour\"}], \"contourcarpet\": [{\"colorbar\": {\"outlinewidth\": 0, \"ticks\": \"\"}, \"type\": \"contourcarpet\"}], \"heatmap\": [{\"colorbar\": {\"outlinewidth\": 0, \"ticks\": \"\"}, \"colorscale\": [[0.0, \"#0d0887\"], [0.1111111111111111, \"#46039f\"], [0.2222222222222222, \"#7201a8\"], [0.3333333333333333, \"#9c179e\"], [0.4444444444444444, \"#bd3786\"], [0.5555555555555556, \"#d8576b\"], [0.6666666666666666, \"#ed7953\"], [0.7777777777777778, \"#fb9f3a\"], [0.8888888888888888, \"#fdca26\"], [1.0, \"#f0f921\"]], \"type\": \"heatmap\"}], \"heatmapgl\": [{\"colorbar\": {\"outlinewidth\": 0, \"ticks\": \"\"}, \"colorscale\": [[0.0, \"#0d0887\"], [0.1111111111111111, \"#46039f\"], [0.2222222222222222, \"#7201a8\"], [0.3333333333333333, \"#9c179e\"], [0.4444444444444444, \"#bd3786\"], [0.5555555555555556, \"#d8576b\"], [0.6666666666666666, \"#ed7953\"], [0.7777777777777778, \"#fb9f3a\"], [0.8888888888888888, \"#fdca26\"], [1.0, \"#f0f921\"]], \"type\": \"heatmapgl\"}], \"histogram\": [{\"marker\": {\"colorbar\": {\"outlinewidth\": 0, \"ticks\": \"\"}}, \"type\": \"histogram\"}], \"histogram2d\": [{\"colorbar\": {\"outlinewidth\": 0, \"ticks\": \"\"}, \"colorscale\": [[0.0, \"#0d0887\"], [0.1111111111111111, \"#46039f\"], [0.2222222222222222, \"#7201a8\"], [0.3333333333333333, \"#9c179e\"], [0.4444444444444444, \"#bd3786\"], [0.5555555555555556, \"#d8576b\"], [0.6666666666666666, \"#ed7953\"], [0.7777777777777778, \"#fb9f3a\"], [0.8888888888888888, \"#fdca26\"], [1.0, \"#f0f921\"]], \"type\": \"histogram2d\"}], \"histogram2dcontour\": [{\"colorbar\": {\"outlinewidth\": 0, \"ticks\": \"\"}, \"colorscale\": [[0.0, \"#0d0887\"], [0.1111111111111111, \"#46039f\"], [0.2222222222222222, \"#7201a8\"], [0.3333333333333333, \"#9c179e\"], [0.4444444444444444, \"#bd3786\"], [0.5555555555555556, \"#d8576b\"], [0.6666666666666666, \"#ed7953\"], [0.7777777777777778, \"#fb9f3a\"], [0.8888888888888888, \"#fdca26\"], [1.0, \"#f0f921\"]], \"type\": \"histogram2dcontour\"}], \"mesh3d\": [{\"colorbar\": {\"outlinewidth\": 0, \"ticks\": \"\"}, \"type\": \"mesh3d\"}], \"parcoords\": [{\"line\": {\"colorbar\": {\"outlinewidth\": 0, \"ticks\": \"\"}}, \"type\": \"parcoords\"}], \"pie\": [{\"automargin\": true, \"type\": \"pie\"}], \"scatter\": [{\"marker\": {\"colorbar\": {\"outlinewidth\": 0, \"ticks\": \"\"}}, \"type\": \"scatter\"}], \"scatter3d\": [{\"line\": {\"colorbar\": {\"outlinewidth\": 0, \"ticks\": \"\"}}, \"marker\": {\"colorbar\": {\"outlinewidth\": 0, \"ticks\": \"\"}}, \"type\": \"scatter3d\"}], \"scattercarpet\": [{\"marker\": {\"colorbar\": {\"outlinewidth\": 0, \"ticks\": \"\"}}, \"type\": \"scattercarpet\"}], \"scattergeo\": [{\"marker\": {\"colorbar\": {\"outlinewidth\": 0, \"ticks\": \"\"}}, \"type\": \"scattergeo\"}], \"scattergl\": [{\"marker\": {\"colorbar\": {\"outlinewidth\": 0, \"ticks\": \"\"}}, \"type\": \"scattergl\"}], \"scattermapbox\": [{\"marker\": {\"colorbar\": {\"outlinewidth\": 0, \"ticks\": \"\"}}, \"type\": \"scattermapbox\"}], \"scatterpolar\": [{\"marker\": {\"colorbar\": {\"outlinewidth\": 0, \"ticks\": \"\"}}, \"type\": \"scatterpolar\"}], \"scatterpolargl\": [{\"marker\": {\"colorbar\": {\"outlinewidth\": 0, \"ticks\": \"\"}}, \"type\": \"scatterpolargl\"}], \"scatterternary\": [{\"marker\": {\"colorbar\": {\"outlinewidth\": 0, \"ticks\": \"\"}}, \"type\": \"scatterternary\"}], \"surface\": [{\"colorbar\": {\"outlinewidth\": 0, \"ticks\": \"\"}, \"colorscale\": [[0.0, \"#0d0887\"], [0.1111111111111111, \"#46039f\"], [0.2222222222222222, \"#7201a8\"], [0.3333333333333333, \"#9c179e\"], [0.4444444444444444, \"#bd3786\"], [0.5555555555555556, \"#d8576b\"], [0.6666666666666666, \"#ed7953\"], [0.7777777777777778, \"#fb9f3a\"], [0.8888888888888888, \"#fdca26\"], [1.0, \"#f0f921\"]], \"type\": \"surface\"}], \"table\": [{\"cells\": {\"fill\": {\"color\": \"#EBF0F8\"}, \"line\": {\"color\": \"white\"}}, \"header\": {\"fill\": {\"color\": \"#C8D4E3\"}, \"line\": {\"color\": \"white\"}}, \"type\": \"table\"}]}, \"layout\": {\"annotationdefaults\": {\"arrowcolor\": \"#2a3f5f\", \"arrowhead\": 0, \"arrowwidth\": 1}, \"coloraxis\": {\"colorbar\": {\"outlinewidth\": 0, \"ticks\": \"\"}}, \"colorscale\": {\"diverging\": [[0, \"#8e0152\"], [0.1, \"#c51b7d\"], [0.2, \"#de77ae\"], [0.3, \"#f1b6da\"], [0.4, \"#fde0ef\"], [0.5, \"#f7f7f7\"], [0.6, \"#e6f5d0\"], [0.7, \"#b8e186\"], [0.8, \"#7fbc41\"], [0.9, \"#4d9221\"], [1, \"#276419\"]], \"sequential\": [[0.0, \"#0d0887\"], [0.1111111111111111, \"#46039f\"], [0.2222222222222222, \"#7201a8\"], [0.3333333333333333, \"#9c179e\"], [0.4444444444444444, \"#bd3786\"], [0.5555555555555556, \"#d8576b\"], [0.6666666666666666, \"#ed7953\"], [0.7777777777777778, \"#fb9f3a\"], [0.8888888888888888, \"#fdca26\"], [1.0, \"#f0f921\"]], \"sequentialminus\": [[0.0, \"#0d0887\"], [0.1111111111111111, \"#46039f\"], [0.2222222222222222, \"#7201a8\"], [0.3333333333333333, \"#9c179e\"], [0.4444444444444444, \"#bd3786\"], [0.5555555555555556, \"#d8576b\"], [0.6666666666666666, \"#ed7953\"], [0.7777777777777778, \"#fb9f3a\"], [0.8888888888888888, \"#fdca26\"], [1.0, \"#f0f921\"]]}, \"colorway\": [\"#636efa\", \"#EF553B\", \"#00cc96\", \"#ab63fa\", \"#FFA15A\", \"#19d3f3\", \"#FF6692\", \"#B6E880\", \"#FF97FF\", \"#FECB52\"], \"font\": {\"color\": \"#2a3f5f\"}, \"geo\": {\"bgcolor\": \"white\", \"lakecolor\": \"white\", \"landcolor\": \"#E5ECF6\", \"showlakes\": true, \"showland\": true, \"subunitcolor\": \"white\"}, \"hoverlabel\": {\"align\": \"left\"}, \"hovermode\": \"closest\", \"mapbox\": {\"style\": \"light\"}, \"paper_bgcolor\": \"white\", \"plot_bgcolor\": \"#E5ECF6\", \"polar\": {\"angularaxis\": {\"gridcolor\": \"white\", \"linecolor\": \"white\", \"ticks\": \"\"}, \"bgcolor\": \"#E5ECF6\", \"radialaxis\": {\"gridcolor\": \"white\", \"linecolor\": \"white\", \"ticks\": \"\"}}, \"scene\": {\"xaxis\": {\"backgroundcolor\": \"#E5ECF6\", \"gridcolor\": \"white\", \"gridwidth\": 2, \"linecolor\": \"white\", \"showbackground\": true, \"ticks\": \"\", \"zerolinecolor\": \"white\"}, \"yaxis\": {\"backgroundcolor\": \"#E5ECF6\", \"gridcolor\": \"white\", \"gridwidth\": 2, \"linecolor\": \"white\", \"showbackground\": true, \"ticks\": \"\", \"zerolinecolor\": \"white\"}, \"zaxis\": {\"backgroundcolor\": \"#E5ECF6\", \"gridcolor\": \"white\", \"gridwidth\": 2, \"linecolor\": \"white\", \"showbackground\": true, \"ticks\": \"\", \"zerolinecolor\": \"white\"}}, \"shapedefaults\": {\"line\": {\"color\": \"#2a3f5f\"}}, \"ternary\": {\"aaxis\": {\"gridcolor\": \"white\", \"linecolor\": \"white\", \"ticks\": \"\"}, \"baxis\": {\"gridcolor\": \"white\", \"linecolor\": \"white\", \"ticks\": \"\"}, \"bgcolor\": \"#E5ECF6\", \"caxis\": {\"gridcolor\": \"white\", \"linecolor\": \"white\", \"ticks\": \"\"}}, \"title\": {\"x\": 0.05}, \"xaxis\": {\"automargin\": true, \"gridcolor\": \"white\", \"linecolor\": \"white\", \"ticks\": \"\", \"title\": {\"standoff\": 15}, \"zerolinecolor\": \"white\", \"zerolinewidth\": 2}, \"yaxis\": {\"automargin\": true, \"gridcolor\": \"white\", \"linecolor\": \"white\", \"ticks\": \"\", \"title\": {\"standoff\": 15}, \"zerolinecolor\": \"white\", \"zerolinewidth\": 2}}}, \"title\": {\"font\": {\"color\": \"#4D5663\"}}, \"xaxis\": {\"gridcolor\": \"#E1E5ED\", \"showgrid\": true, \"tickfont\": {\"color\": \"#4D5663\"}, \"title\": {\"font\": {\"color\": \"#4D5663\"}, \"text\": \"\"}, \"zerolinecolor\": \"#E1E5ED\"}, \"xaxis2\": {\"anchor\": \"y2\", \"gridcolor\": \"#E1E5ED\", \"showgrid\": true, \"showticklabels\": false, \"tickfont\": {\"color\": \"#4D5663\"}, \"title\": {\"font\": {\"color\": \"#4D5663\"}, \"text\": \"\"}, \"zerolinecolor\": \"#E1E5ED\"}, \"yaxis\": {\"domain\": [0.3, 1], \"gridcolor\": \"#E1E5ED\", \"showgrid\": true, \"tickfont\": {\"color\": \"#4D5663\"}, \"title\": {\"font\": {\"color\": \"#4D5663\"}, \"text\": \"\"}, \"zerolinecolor\": \"#E1E5ED\"}, \"yaxis2\": {\"domain\": [0, 0.25], \"gridcolor\": \"#E1E5ED\", \"showgrid\": true, \"tickfont\": {\"color\": \"#4D5663\"}, \"title\": {\"font\": {\"color\": \"#4D5663\"}, \"text\": \"Spread\"}, \"zerolinecolor\": \"#E1E5ED\"}},\n",
       "                        {\"showLink\": true, \"linkText\": \"Export to plot.ly\", \"plotlyServerURL\": \"https://plot.ly\", \"responsive\": true}\n",
       "                    ).then(function(){\n",
       "                            \n",
       "var gd = document.getElementById('397ec509-2291-4693-889a-34e5fa4fa914');\n",
       "var x = new MutationObserver(function (mutations, observer) {{\n",
       "        var display = window.getComputedStyle(gd).display;\n",
       "        if (!display || display === 'none') {{\n",
       "            console.log([gd, 'removed!']);\n",
       "            Plotly.purge(gd);\n",
       "            observer.disconnect();\n",
       "        }}\n",
       "}});\n",
       "\n",
       "// Listen for the removal of the full notebook cells\n",
       "var notebookContainer = gd.closest('#notebook-container');\n",
       "if (notebookContainer) {{\n",
       "    x.observe(notebookContainer, {childList: true});\n",
       "}}\n",
       "\n",
       "// Listen for the clearing of the current output cell\n",
       "var outputEl = gd.closest('.output');\n",
       "if (outputEl) {{\n",
       "    x.observe(outputEl, {childList: true});\n",
       "}}\n",
       "\n",
       "                        })\n",
       "                };\n",
       "                });\n",
       "            </script>\n",
       "        </div>"
      ]
     },
     "metadata": {},
     "output_type": "display_data"
    }
   ],
   "source": [
    "df[['A','B']].iplot(kind='spread')"
   ]
  },
  {
   "cell_type": "markdown",
   "metadata": {},
   "source": [
    "## Histograma"
   ]
  },
  {
   "cell_type": "code",
   "execution_count": 18,
   "metadata": {},
   "outputs": [
    {
     "data": {
      "application/vnd.plotly.v1+json": {
       "config": {
        "linkText": "Export to plot.ly",
        "plotlyServerURL": "https://plot.ly",
        "showLink": true
       },
       "data": [
        {
         "histfunc": "count",
         "histnorm": "",
         "marker": {
          "color": "rgba(255, 153, 51, 1.0)",
          "line": {
           "color": "#4D5663",
           "width": 1.3
          }
         },
         "name": "A",
         "nbinsx": 25,
         "opacity": 0.8,
         "orientation": "v",
         "type": "histogram",
         "x": [
          0.34047230985417487,
          -0.5470601833793309,
          -1.2675378278930967,
          0.6491316044070555,
          0.9790849726054258,
          -1.733015324001771,
          2.290389321238637,
          0.036454781028621284,
          -0.9037565027827843,
          -1.0646210198714885,
          -0.7739593465059703,
          1.349709681088898,
          0.023198104431787304,
          0.7097968765591369,
          -1.3190373996246016,
          0.4432749340244109,
          0.3382114080093792,
          -0.08149571062505023,
          1.054706512426422,
          0.42840307080408696,
          -1.1416823676520806,
          -1.2051615303417365,
          0.12727852193154782,
          1.5308805794798286,
          -0.9927193045515985,
          -1.3366979353879058,
          0.1955269139584091,
          0.7930215179572049,
          1.3146642283206003,
          -1.018328645349817,
          1.528175135223415,
          1.5199500968770436,
          -0.14568948608290364,
          0.673767247732877,
          -0.6291547478631949,
          1.7237260355384059,
          -2.128409866142235,
          -1.2564105832946104,
          -0.9946511182748657,
          1.3286998088243123,
          -0.9073035901180493,
          1.1431477794473277,
          0.3637094958135473,
          -0.5556350676836874,
          -0.784958397741709,
          0.6599181211812783,
          0.9327041584723281,
          0.317808086352773,
          -0.45128432794925066,
          0.02169308947579233,
          -0.38352504449075225,
          0.2007362243585566,
          0.4888528181246676,
          -1.1903891833358475,
          -0.7363204708075135,
          0.5353027969158113,
          -0.009098706058621205,
          -0.38651580048044665,
          -1.9505943181122882,
          -0.5563156651329674,
          -2.137311930174342,
          -1.2725741121684107,
          -0.7820156364185031,
          1.5364104241185321,
          -0.418215415271642,
          1.7995202888116273,
          -1.4828590310985599,
          -1.527662283535423,
          0.9793840714449367,
          0.6974261641817958,
          0.9298674505655383,
          0.1463230889023217,
          0.18558750120210715,
          -0.8649984819098265,
          1.1923650660250928,
          -0.7288791022947565,
          0.16187314515212994,
          0.07901352569282546,
          -0.6864257743133744,
          -0.7638958537068636,
          0.09777129712374978,
          1.9894840606243682,
          0.4452067408586412,
          0.283836967561087,
          0.68803706432445,
          -0.2132472849823426,
          -1.3999549932879618,
          -0.5569138588321604,
          1.647324139450391,
          0.31164492300874735,
          -0.27526326737804385,
          1.3396705591673788,
          1.4354991278104445,
          -0.7754158123349962,
          1.0576465217387125,
          -1.2567399072669017,
          1.417915162857051,
          0.41595710155807697,
          -0.3542636977169401,
          -1.8437068141659367
         ]
        }
       ],
       "layout": {
        "barmode": "overlay",
        "legend": {
         "bgcolor": "#F5F6F9",
         "font": {
          "color": "#4D5663"
         }
        },
        "paper_bgcolor": "#F5F6F9",
        "plot_bgcolor": "#F5F6F9",
        "template": {
         "data": {
          "bar": [
           {
            "error_x": {
             "color": "#2a3f5f"
            },
            "error_y": {
             "color": "#2a3f5f"
            },
            "marker": {
             "line": {
              "color": "#E5ECF6",
              "width": 0.5
             }
            },
            "type": "bar"
           }
          ],
          "barpolar": [
           {
            "marker": {
             "line": {
              "color": "#E5ECF6",
              "width": 0.5
             }
            },
            "type": "barpolar"
           }
          ],
          "carpet": [
           {
            "aaxis": {
             "endlinecolor": "#2a3f5f",
             "gridcolor": "white",
             "linecolor": "white",
             "minorgridcolor": "white",
             "startlinecolor": "#2a3f5f"
            },
            "baxis": {
             "endlinecolor": "#2a3f5f",
             "gridcolor": "white",
             "linecolor": "white",
             "minorgridcolor": "white",
             "startlinecolor": "#2a3f5f"
            },
            "type": "carpet"
           }
          ],
          "choropleth": [
           {
            "colorbar": {
             "outlinewidth": 0,
             "ticks": ""
            },
            "type": "choropleth"
           }
          ],
          "contour": [
           {
            "colorbar": {
             "outlinewidth": 0,
             "ticks": ""
            },
            "colorscale": [
             [
              0,
              "#0d0887"
             ],
             [
              0.1111111111111111,
              "#46039f"
             ],
             [
              0.2222222222222222,
              "#7201a8"
             ],
             [
              0.3333333333333333,
              "#9c179e"
             ],
             [
              0.4444444444444444,
              "#bd3786"
             ],
             [
              0.5555555555555556,
              "#d8576b"
             ],
             [
              0.6666666666666666,
              "#ed7953"
             ],
             [
              0.7777777777777778,
              "#fb9f3a"
             ],
             [
              0.8888888888888888,
              "#fdca26"
             ],
             [
              1,
              "#f0f921"
             ]
            ],
            "type": "contour"
           }
          ],
          "contourcarpet": [
           {
            "colorbar": {
             "outlinewidth": 0,
             "ticks": ""
            },
            "type": "contourcarpet"
           }
          ],
          "heatmap": [
           {
            "colorbar": {
             "outlinewidth": 0,
             "ticks": ""
            },
            "colorscale": [
             [
              0,
              "#0d0887"
             ],
             [
              0.1111111111111111,
              "#46039f"
             ],
             [
              0.2222222222222222,
              "#7201a8"
             ],
             [
              0.3333333333333333,
              "#9c179e"
             ],
             [
              0.4444444444444444,
              "#bd3786"
             ],
             [
              0.5555555555555556,
              "#d8576b"
             ],
             [
              0.6666666666666666,
              "#ed7953"
             ],
             [
              0.7777777777777778,
              "#fb9f3a"
             ],
             [
              0.8888888888888888,
              "#fdca26"
             ],
             [
              1,
              "#f0f921"
             ]
            ],
            "type": "heatmap"
           }
          ],
          "heatmapgl": [
           {
            "colorbar": {
             "outlinewidth": 0,
             "ticks": ""
            },
            "colorscale": [
             [
              0,
              "#0d0887"
             ],
             [
              0.1111111111111111,
              "#46039f"
             ],
             [
              0.2222222222222222,
              "#7201a8"
             ],
             [
              0.3333333333333333,
              "#9c179e"
             ],
             [
              0.4444444444444444,
              "#bd3786"
             ],
             [
              0.5555555555555556,
              "#d8576b"
             ],
             [
              0.6666666666666666,
              "#ed7953"
             ],
             [
              0.7777777777777778,
              "#fb9f3a"
             ],
             [
              0.8888888888888888,
              "#fdca26"
             ],
             [
              1,
              "#f0f921"
             ]
            ],
            "type": "heatmapgl"
           }
          ],
          "histogram": [
           {
            "marker": {
             "colorbar": {
              "outlinewidth": 0,
              "ticks": ""
             }
            },
            "type": "histogram"
           }
          ],
          "histogram2d": [
           {
            "colorbar": {
             "outlinewidth": 0,
             "ticks": ""
            },
            "colorscale": [
             [
              0,
              "#0d0887"
             ],
             [
              0.1111111111111111,
              "#46039f"
             ],
             [
              0.2222222222222222,
              "#7201a8"
             ],
             [
              0.3333333333333333,
              "#9c179e"
             ],
             [
              0.4444444444444444,
              "#bd3786"
             ],
             [
              0.5555555555555556,
              "#d8576b"
             ],
             [
              0.6666666666666666,
              "#ed7953"
             ],
             [
              0.7777777777777778,
              "#fb9f3a"
             ],
             [
              0.8888888888888888,
              "#fdca26"
             ],
             [
              1,
              "#f0f921"
             ]
            ],
            "type": "histogram2d"
           }
          ],
          "histogram2dcontour": [
           {
            "colorbar": {
             "outlinewidth": 0,
             "ticks": ""
            },
            "colorscale": [
             [
              0,
              "#0d0887"
             ],
             [
              0.1111111111111111,
              "#46039f"
             ],
             [
              0.2222222222222222,
              "#7201a8"
             ],
             [
              0.3333333333333333,
              "#9c179e"
             ],
             [
              0.4444444444444444,
              "#bd3786"
             ],
             [
              0.5555555555555556,
              "#d8576b"
             ],
             [
              0.6666666666666666,
              "#ed7953"
             ],
             [
              0.7777777777777778,
              "#fb9f3a"
             ],
             [
              0.8888888888888888,
              "#fdca26"
             ],
             [
              1,
              "#f0f921"
             ]
            ],
            "type": "histogram2dcontour"
           }
          ],
          "mesh3d": [
           {
            "colorbar": {
             "outlinewidth": 0,
             "ticks": ""
            },
            "type": "mesh3d"
           }
          ],
          "parcoords": [
           {
            "line": {
             "colorbar": {
              "outlinewidth": 0,
              "ticks": ""
             }
            },
            "type": "parcoords"
           }
          ],
          "pie": [
           {
            "automargin": true,
            "type": "pie"
           }
          ],
          "scatter": [
           {
            "marker": {
             "colorbar": {
              "outlinewidth": 0,
              "ticks": ""
             }
            },
            "type": "scatter"
           }
          ],
          "scatter3d": [
           {
            "line": {
             "colorbar": {
              "outlinewidth": 0,
              "ticks": ""
             }
            },
            "marker": {
             "colorbar": {
              "outlinewidth": 0,
              "ticks": ""
             }
            },
            "type": "scatter3d"
           }
          ],
          "scattercarpet": [
           {
            "marker": {
             "colorbar": {
              "outlinewidth": 0,
              "ticks": ""
             }
            },
            "type": "scattercarpet"
           }
          ],
          "scattergeo": [
           {
            "marker": {
             "colorbar": {
              "outlinewidth": 0,
              "ticks": ""
             }
            },
            "type": "scattergeo"
           }
          ],
          "scattergl": [
           {
            "marker": {
             "colorbar": {
              "outlinewidth": 0,
              "ticks": ""
             }
            },
            "type": "scattergl"
           }
          ],
          "scattermapbox": [
           {
            "marker": {
             "colorbar": {
              "outlinewidth": 0,
              "ticks": ""
             }
            },
            "type": "scattermapbox"
           }
          ],
          "scatterpolar": [
           {
            "marker": {
             "colorbar": {
              "outlinewidth": 0,
              "ticks": ""
             }
            },
            "type": "scatterpolar"
           }
          ],
          "scatterpolargl": [
           {
            "marker": {
             "colorbar": {
              "outlinewidth": 0,
              "ticks": ""
             }
            },
            "type": "scatterpolargl"
           }
          ],
          "scatterternary": [
           {
            "marker": {
             "colorbar": {
              "outlinewidth": 0,
              "ticks": ""
             }
            },
            "type": "scatterternary"
           }
          ],
          "surface": [
           {
            "colorbar": {
             "outlinewidth": 0,
             "ticks": ""
            },
            "colorscale": [
             [
              0,
              "#0d0887"
             ],
             [
              0.1111111111111111,
              "#46039f"
             ],
             [
              0.2222222222222222,
              "#7201a8"
             ],
             [
              0.3333333333333333,
              "#9c179e"
             ],
             [
              0.4444444444444444,
              "#bd3786"
             ],
             [
              0.5555555555555556,
              "#d8576b"
             ],
             [
              0.6666666666666666,
              "#ed7953"
             ],
             [
              0.7777777777777778,
              "#fb9f3a"
             ],
             [
              0.8888888888888888,
              "#fdca26"
             ],
             [
              1,
              "#f0f921"
             ]
            ],
            "type": "surface"
           }
          ],
          "table": [
           {
            "cells": {
             "fill": {
              "color": "#EBF0F8"
             },
             "line": {
              "color": "white"
             }
            },
            "header": {
             "fill": {
              "color": "#C8D4E3"
             },
             "line": {
              "color": "white"
             }
            },
            "type": "table"
           }
          ]
         },
         "layout": {
          "annotationdefaults": {
           "arrowcolor": "#2a3f5f",
           "arrowhead": 0,
           "arrowwidth": 1
          },
          "coloraxis": {
           "colorbar": {
            "outlinewidth": 0,
            "ticks": ""
           }
          },
          "colorscale": {
           "diverging": [
            [
             0,
             "#8e0152"
            ],
            [
             0.1,
             "#c51b7d"
            ],
            [
             0.2,
             "#de77ae"
            ],
            [
             0.3,
             "#f1b6da"
            ],
            [
             0.4,
             "#fde0ef"
            ],
            [
             0.5,
             "#f7f7f7"
            ],
            [
             0.6,
             "#e6f5d0"
            ],
            [
             0.7,
             "#b8e186"
            ],
            [
             0.8,
             "#7fbc41"
            ],
            [
             0.9,
             "#4d9221"
            ],
            [
             1,
             "#276419"
            ]
           ],
           "sequential": [
            [
             0,
             "#0d0887"
            ],
            [
             0.1111111111111111,
             "#46039f"
            ],
            [
             0.2222222222222222,
             "#7201a8"
            ],
            [
             0.3333333333333333,
             "#9c179e"
            ],
            [
             0.4444444444444444,
             "#bd3786"
            ],
            [
             0.5555555555555556,
             "#d8576b"
            ],
            [
             0.6666666666666666,
             "#ed7953"
            ],
            [
             0.7777777777777778,
             "#fb9f3a"
            ],
            [
             0.8888888888888888,
             "#fdca26"
            ],
            [
             1,
             "#f0f921"
            ]
           ],
           "sequentialminus": [
            [
             0,
             "#0d0887"
            ],
            [
             0.1111111111111111,
             "#46039f"
            ],
            [
             0.2222222222222222,
             "#7201a8"
            ],
            [
             0.3333333333333333,
             "#9c179e"
            ],
            [
             0.4444444444444444,
             "#bd3786"
            ],
            [
             0.5555555555555556,
             "#d8576b"
            ],
            [
             0.6666666666666666,
             "#ed7953"
            ],
            [
             0.7777777777777778,
             "#fb9f3a"
            ],
            [
             0.8888888888888888,
             "#fdca26"
            ],
            [
             1,
             "#f0f921"
            ]
           ]
          },
          "colorway": [
           "#636efa",
           "#EF553B",
           "#00cc96",
           "#ab63fa",
           "#FFA15A",
           "#19d3f3",
           "#FF6692",
           "#B6E880",
           "#FF97FF",
           "#FECB52"
          ],
          "font": {
           "color": "#2a3f5f"
          },
          "geo": {
           "bgcolor": "white",
           "lakecolor": "white",
           "landcolor": "#E5ECF6",
           "showlakes": true,
           "showland": true,
           "subunitcolor": "white"
          },
          "hoverlabel": {
           "align": "left"
          },
          "hovermode": "closest",
          "mapbox": {
           "style": "light"
          },
          "paper_bgcolor": "white",
          "plot_bgcolor": "#E5ECF6",
          "polar": {
           "angularaxis": {
            "gridcolor": "white",
            "linecolor": "white",
            "ticks": ""
           },
           "bgcolor": "#E5ECF6",
           "radialaxis": {
            "gridcolor": "white",
            "linecolor": "white",
            "ticks": ""
           }
          },
          "scene": {
           "xaxis": {
            "backgroundcolor": "#E5ECF6",
            "gridcolor": "white",
            "gridwidth": 2,
            "linecolor": "white",
            "showbackground": true,
            "ticks": "",
            "zerolinecolor": "white"
           },
           "yaxis": {
            "backgroundcolor": "#E5ECF6",
            "gridcolor": "white",
            "gridwidth": 2,
            "linecolor": "white",
            "showbackground": true,
            "ticks": "",
            "zerolinecolor": "white"
           },
           "zaxis": {
            "backgroundcolor": "#E5ECF6",
            "gridcolor": "white",
            "gridwidth": 2,
            "linecolor": "white",
            "showbackground": true,
            "ticks": "",
            "zerolinecolor": "white"
           }
          },
          "shapedefaults": {
           "line": {
            "color": "#2a3f5f"
           }
          },
          "ternary": {
           "aaxis": {
            "gridcolor": "white",
            "linecolor": "white",
            "ticks": ""
           },
           "baxis": {
            "gridcolor": "white",
            "linecolor": "white",
            "ticks": ""
           },
           "bgcolor": "#E5ECF6",
           "caxis": {
            "gridcolor": "white",
            "linecolor": "white",
            "ticks": ""
           }
          },
          "title": {
           "x": 0.05
          },
          "xaxis": {
           "automargin": true,
           "gridcolor": "white",
           "linecolor": "white",
           "ticks": "",
           "title": {
            "standoff": 15
           },
           "zerolinecolor": "white",
           "zerolinewidth": 2
          },
          "yaxis": {
           "automargin": true,
           "gridcolor": "white",
           "linecolor": "white",
           "ticks": "",
           "title": {
            "standoff": 15
           },
           "zerolinecolor": "white",
           "zerolinewidth": 2
          }
         }
        },
        "title": {
         "font": {
          "color": "#4D5663"
         }
        },
        "xaxis": {
         "gridcolor": "#E1E5ED",
         "showgrid": true,
         "tickfont": {
          "color": "#4D5663"
         },
         "title": {
          "font": {
           "color": "#4D5663"
          },
          "text": ""
         },
         "zerolinecolor": "#E1E5ED"
        },
        "yaxis": {
         "gridcolor": "#E1E5ED",
         "showgrid": true,
         "tickfont": {
          "color": "#4D5663"
         },
         "title": {
          "font": {
           "color": "#4D5663"
          },
          "text": ""
         },
         "zerolinecolor": "#E1E5ED"
        }
       }
      },
      "text/html": [
       "<div>\n",
       "        \n",
       "        \n",
       "            <div id=\"424ae61a-f721-4eaf-87aa-0d8a667df9a7\" class=\"plotly-graph-div\" style=\"height:525px; width:100%;\"></div>\n",
       "            <script type=\"text/javascript\">\n",
       "                require([\"plotly\"], function(Plotly) {\n",
       "                    window.PLOTLYENV=window.PLOTLYENV || {};\n",
       "                    window.PLOTLYENV.BASE_URL='https://plot.ly';\n",
       "                    \n",
       "                if (document.getElementById(\"424ae61a-f721-4eaf-87aa-0d8a667df9a7\")) {\n",
       "                    Plotly.newPlot(\n",
       "                        '424ae61a-f721-4eaf-87aa-0d8a667df9a7',\n",
       "                        [{\"histfunc\": \"count\", \"histnorm\": \"\", \"marker\": {\"color\": \"rgba(255, 153, 51, 1.0)\", \"line\": {\"color\": \"#4D5663\", \"width\": 1.3}}, \"name\": \"A\", \"nbinsx\": 25, \"opacity\": 0.8, \"orientation\": \"v\", \"type\": \"histogram\", \"x\": [0.34047230985417487, -0.5470601833793309, -1.2675378278930967, 0.6491316044070555, 0.9790849726054258, -1.733015324001771, 2.290389321238637, 0.036454781028621284, -0.9037565027827843, -1.0646210198714885, -0.7739593465059703, 1.349709681088898, 0.023198104431787304, 0.7097968765591369, -1.3190373996246016, 0.4432749340244109, 0.3382114080093792, -0.08149571062505023, 1.054706512426422, 0.42840307080408696, -1.1416823676520806, -1.2051615303417365, 0.12727852193154782, 1.5308805794798286, -0.9927193045515985, -1.3366979353879058, 0.1955269139584091, 0.7930215179572049, 1.3146642283206003, -1.018328645349817, 1.528175135223415, 1.5199500968770436, -0.14568948608290364, 0.673767247732877, -0.6291547478631949, 1.7237260355384059, -2.128409866142235, -1.2564105832946104, -0.9946511182748657, 1.3286998088243123, -0.9073035901180493, 1.1431477794473277, 0.3637094958135473, -0.5556350676836874, -0.784958397741709, 0.6599181211812783, 0.9327041584723281, 0.317808086352773, -0.45128432794925066, 0.02169308947579233, -0.38352504449075225, 0.2007362243585566, 0.4888528181246676, -1.1903891833358475, -0.7363204708075135, 0.5353027969158113, -0.009098706058621205, -0.38651580048044665, -1.9505943181122882, -0.5563156651329674, -2.137311930174342, -1.2725741121684107, -0.7820156364185031, 1.5364104241185321, -0.418215415271642, 1.7995202888116273, -1.4828590310985599, -1.527662283535423, 0.9793840714449367, 0.6974261641817958, 0.9298674505655383, 0.1463230889023217, 0.18558750120210715, -0.8649984819098265, 1.1923650660250928, -0.7288791022947565, 0.16187314515212994, 0.07901352569282546, -0.6864257743133744, -0.7638958537068636, 0.09777129712374978, 1.9894840606243682, 0.4452067408586412, 0.283836967561087, 0.68803706432445, -0.2132472849823426, -1.3999549932879618, -0.5569138588321604, 1.647324139450391, 0.31164492300874735, -0.27526326737804385, 1.3396705591673788, 1.4354991278104445, -0.7754158123349962, 1.0576465217387125, -1.2567399072669017, 1.417915162857051, 0.41595710155807697, -0.3542636977169401, -1.8437068141659367]}],\n",
       "                        {\"barmode\": \"overlay\", \"legend\": {\"bgcolor\": \"#F5F6F9\", \"font\": {\"color\": \"#4D5663\"}}, \"paper_bgcolor\": \"#F5F6F9\", \"plot_bgcolor\": \"#F5F6F9\", \"template\": {\"data\": {\"bar\": [{\"error_x\": {\"color\": \"#2a3f5f\"}, \"error_y\": {\"color\": \"#2a3f5f\"}, \"marker\": {\"line\": {\"color\": \"#E5ECF6\", \"width\": 0.5}}, \"type\": \"bar\"}], \"barpolar\": [{\"marker\": {\"line\": {\"color\": \"#E5ECF6\", \"width\": 0.5}}, \"type\": \"barpolar\"}], \"carpet\": [{\"aaxis\": {\"endlinecolor\": \"#2a3f5f\", \"gridcolor\": \"white\", \"linecolor\": \"white\", \"minorgridcolor\": \"white\", \"startlinecolor\": \"#2a3f5f\"}, \"baxis\": {\"endlinecolor\": \"#2a3f5f\", \"gridcolor\": \"white\", \"linecolor\": \"white\", \"minorgridcolor\": \"white\", \"startlinecolor\": \"#2a3f5f\"}, \"type\": \"carpet\"}], \"choropleth\": [{\"colorbar\": {\"outlinewidth\": 0, \"ticks\": \"\"}, \"type\": \"choropleth\"}], \"contour\": [{\"colorbar\": {\"outlinewidth\": 0, \"ticks\": \"\"}, \"colorscale\": [[0.0, \"#0d0887\"], [0.1111111111111111, \"#46039f\"], [0.2222222222222222, \"#7201a8\"], [0.3333333333333333, \"#9c179e\"], [0.4444444444444444, \"#bd3786\"], [0.5555555555555556, \"#d8576b\"], [0.6666666666666666, \"#ed7953\"], [0.7777777777777778, \"#fb9f3a\"], [0.8888888888888888, \"#fdca26\"], [1.0, \"#f0f921\"]], \"type\": \"contour\"}], \"contourcarpet\": [{\"colorbar\": {\"outlinewidth\": 0, \"ticks\": \"\"}, \"type\": \"contourcarpet\"}], \"heatmap\": [{\"colorbar\": {\"outlinewidth\": 0, \"ticks\": \"\"}, \"colorscale\": [[0.0, \"#0d0887\"], [0.1111111111111111, \"#46039f\"], [0.2222222222222222, \"#7201a8\"], [0.3333333333333333, \"#9c179e\"], [0.4444444444444444, \"#bd3786\"], [0.5555555555555556, \"#d8576b\"], [0.6666666666666666, \"#ed7953\"], [0.7777777777777778, \"#fb9f3a\"], [0.8888888888888888, \"#fdca26\"], [1.0, \"#f0f921\"]], \"type\": \"heatmap\"}], \"heatmapgl\": [{\"colorbar\": {\"outlinewidth\": 0, \"ticks\": \"\"}, \"colorscale\": [[0.0, \"#0d0887\"], [0.1111111111111111, \"#46039f\"], [0.2222222222222222, \"#7201a8\"], [0.3333333333333333, \"#9c179e\"], [0.4444444444444444, \"#bd3786\"], [0.5555555555555556, \"#d8576b\"], [0.6666666666666666, \"#ed7953\"], [0.7777777777777778, \"#fb9f3a\"], [0.8888888888888888, \"#fdca26\"], [1.0, \"#f0f921\"]], \"type\": \"heatmapgl\"}], \"histogram\": [{\"marker\": {\"colorbar\": {\"outlinewidth\": 0, \"ticks\": \"\"}}, \"type\": \"histogram\"}], \"histogram2d\": [{\"colorbar\": {\"outlinewidth\": 0, \"ticks\": \"\"}, \"colorscale\": [[0.0, \"#0d0887\"], [0.1111111111111111, \"#46039f\"], [0.2222222222222222, \"#7201a8\"], [0.3333333333333333, \"#9c179e\"], [0.4444444444444444, \"#bd3786\"], [0.5555555555555556, \"#d8576b\"], [0.6666666666666666, \"#ed7953\"], [0.7777777777777778, \"#fb9f3a\"], [0.8888888888888888, \"#fdca26\"], [1.0, \"#f0f921\"]], \"type\": \"histogram2d\"}], \"histogram2dcontour\": [{\"colorbar\": {\"outlinewidth\": 0, \"ticks\": \"\"}, \"colorscale\": [[0.0, \"#0d0887\"], [0.1111111111111111, \"#46039f\"], [0.2222222222222222, \"#7201a8\"], [0.3333333333333333, \"#9c179e\"], [0.4444444444444444, \"#bd3786\"], [0.5555555555555556, \"#d8576b\"], [0.6666666666666666, \"#ed7953\"], [0.7777777777777778, \"#fb9f3a\"], [0.8888888888888888, \"#fdca26\"], [1.0, \"#f0f921\"]], \"type\": \"histogram2dcontour\"}], \"mesh3d\": [{\"colorbar\": {\"outlinewidth\": 0, \"ticks\": \"\"}, \"type\": \"mesh3d\"}], \"parcoords\": [{\"line\": {\"colorbar\": {\"outlinewidth\": 0, \"ticks\": \"\"}}, \"type\": \"parcoords\"}], \"pie\": [{\"automargin\": true, \"type\": \"pie\"}], \"scatter\": [{\"marker\": {\"colorbar\": {\"outlinewidth\": 0, \"ticks\": \"\"}}, \"type\": \"scatter\"}], \"scatter3d\": [{\"line\": {\"colorbar\": {\"outlinewidth\": 0, \"ticks\": \"\"}}, \"marker\": {\"colorbar\": {\"outlinewidth\": 0, \"ticks\": \"\"}}, \"type\": \"scatter3d\"}], \"scattercarpet\": [{\"marker\": {\"colorbar\": {\"outlinewidth\": 0, \"ticks\": \"\"}}, \"type\": \"scattercarpet\"}], \"scattergeo\": [{\"marker\": {\"colorbar\": {\"outlinewidth\": 0, \"ticks\": \"\"}}, \"type\": \"scattergeo\"}], \"scattergl\": [{\"marker\": {\"colorbar\": {\"outlinewidth\": 0, \"ticks\": \"\"}}, \"type\": \"scattergl\"}], \"scattermapbox\": [{\"marker\": {\"colorbar\": {\"outlinewidth\": 0, \"ticks\": \"\"}}, \"type\": \"scattermapbox\"}], \"scatterpolar\": [{\"marker\": {\"colorbar\": {\"outlinewidth\": 0, \"ticks\": \"\"}}, \"type\": \"scatterpolar\"}], \"scatterpolargl\": [{\"marker\": {\"colorbar\": {\"outlinewidth\": 0, \"ticks\": \"\"}}, \"type\": \"scatterpolargl\"}], \"scatterternary\": [{\"marker\": {\"colorbar\": {\"outlinewidth\": 0, \"ticks\": \"\"}}, \"type\": \"scatterternary\"}], \"surface\": [{\"colorbar\": {\"outlinewidth\": 0, \"ticks\": \"\"}, \"colorscale\": [[0.0, \"#0d0887\"], [0.1111111111111111, \"#46039f\"], [0.2222222222222222, \"#7201a8\"], [0.3333333333333333, \"#9c179e\"], [0.4444444444444444, \"#bd3786\"], [0.5555555555555556, \"#d8576b\"], [0.6666666666666666, \"#ed7953\"], [0.7777777777777778, \"#fb9f3a\"], [0.8888888888888888, \"#fdca26\"], [1.0, \"#f0f921\"]], \"type\": \"surface\"}], \"table\": [{\"cells\": {\"fill\": {\"color\": \"#EBF0F8\"}, \"line\": {\"color\": \"white\"}}, \"header\": {\"fill\": {\"color\": \"#C8D4E3\"}, \"line\": {\"color\": \"white\"}}, \"type\": \"table\"}]}, \"layout\": {\"annotationdefaults\": {\"arrowcolor\": \"#2a3f5f\", \"arrowhead\": 0, \"arrowwidth\": 1}, \"coloraxis\": {\"colorbar\": {\"outlinewidth\": 0, \"ticks\": \"\"}}, \"colorscale\": {\"diverging\": [[0, \"#8e0152\"], [0.1, \"#c51b7d\"], [0.2, \"#de77ae\"], [0.3, \"#f1b6da\"], [0.4, \"#fde0ef\"], [0.5, \"#f7f7f7\"], [0.6, \"#e6f5d0\"], [0.7, \"#b8e186\"], [0.8, \"#7fbc41\"], [0.9, \"#4d9221\"], [1, \"#276419\"]], \"sequential\": [[0.0, \"#0d0887\"], [0.1111111111111111, \"#46039f\"], [0.2222222222222222, \"#7201a8\"], [0.3333333333333333, \"#9c179e\"], [0.4444444444444444, \"#bd3786\"], [0.5555555555555556, \"#d8576b\"], [0.6666666666666666, \"#ed7953\"], [0.7777777777777778, \"#fb9f3a\"], [0.8888888888888888, \"#fdca26\"], [1.0, \"#f0f921\"]], \"sequentialminus\": [[0.0, \"#0d0887\"], [0.1111111111111111, \"#46039f\"], [0.2222222222222222, \"#7201a8\"], [0.3333333333333333, \"#9c179e\"], [0.4444444444444444, \"#bd3786\"], [0.5555555555555556, \"#d8576b\"], [0.6666666666666666, \"#ed7953\"], [0.7777777777777778, \"#fb9f3a\"], [0.8888888888888888, \"#fdca26\"], [1.0, \"#f0f921\"]]}, \"colorway\": [\"#636efa\", \"#EF553B\", \"#00cc96\", \"#ab63fa\", \"#FFA15A\", \"#19d3f3\", \"#FF6692\", \"#B6E880\", \"#FF97FF\", \"#FECB52\"], \"font\": {\"color\": \"#2a3f5f\"}, \"geo\": {\"bgcolor\": \"white\", \"lakecolor\": \"white\", \"landcolor\": \"#E5ECF6\", \"showlakes\": true, \"showland\": true, \"subunitcolor\": \"white\"}, \"hoverlabel\": {\"align\": \"left\"}, \"hovermode\": \"closest\", \"mapbox\": {\"style\": \"light\"}, \"paper_bgcolor\": \"white\", \"plot_bgcolor\": \"#E5ECF6\", \"polar\": {\"angularaxis\": {\"gridcolor\": \"white\", \"linecolor\": \"white\", \"ticks\": \"\"}, \"bgcolor\": \"#E5ECF6\", \"radialaxis\": {\"gridcolor\": \"white\", \"linecolor\": \"white\", \"ticks\": \"\"}}, \"scene\": {\"xaxis\": {\"backgroundcolor\": \"#E5ECF6\", \"gridcolor\": \"white\", \"gridwidth\": 2, \"linecolor\": \"white\", \"showbackground\": true, \"ticks\": \"\", \"zerolinecolor\": \"white\"}, \"yaxis\": {\"backgroundcolor\": \"#E5ECF6\", \"gridcolor\": \"white\", \"gridwidth\": 2, \"linecolor\": \"white\", \"showbackground\": true, \"ticks\": \"\", \"zerolinecolor\": \"white\"}, \"zaxis\": {\"backgroundcolor\": \"#E5ECF6\", \"gridcolor\": \"white\", \"gridwidth\": 2, \"linecolor\": \"white\", \"showbackground\": true, \"ticks\": \"\", \"zerolinecolor\": \"white\"}}, \"shapedefaults\": {\"line\": {\"color\": \"#2a3f5f\"}}, \"ternary\": {\"aaxis\": {\"gridcolor\": \"white\", \"linecolor\": \"white\", \"ticks\": \"\"}, \"baxis\": {\"gridcolor\": \"white\", \"linecolor\": \"white\", \"ticks\": \"\"}, \"bgcolor\": \"#E5ECF6\", \"caxis\": {\"gridcolor\": \"white\", \"linecolor\": \"white\", \"ticks\": \"\"}}, \"title\": {\"x\": 0.05}, \"xaxis\": {\"automargin\": true, \"gridcolor\": \"white\", \"linecolor\": \"white\", \"ticks\": \"\", \"title\": {\"standoff\": 15}, \"zerolinecolor\": \"white\", \"zerolinewidth\": 2}, \"yaxis\": {\"automargin\": true, \"gridcolor\": \"white\", \"linecolor\": \"white\", \"ticks\": \"\", \"title\": {\"standoff\": 15}, \"zerolinecolor\": \"white\", \"zerolinewidth\": 2}}}, \"title\": {\"font\": {\"color\": \"#4D5663\"}}, \"xaxis\": {\"gridcolor\": \"#E1E5ED\", \"showgrid\": true, \"tickfont\": {\"color\": \"#4D5663\"}, \"title\": {\"font\": {\"color\": \"#4D5663\"}, \"text\": \"\"}, \"zerolinecolor\": \"#E1E5ED\"}, \"yaxis\": {\"gridcolor\": \"#E1E5ED\", \"showgrid\": true, \"tickfont\": {\"color\": \"#4D5663\"}, \"title\": {\"font\": {\"color\": \"#4D5663\"}, \"text\": \"\"}, \"zerolinecolor\": \"#E1E5ED\"}},\n",
       "                        {\"showLink\": true, \"linkText\": \"Export to plot.ly\", \"plotlyServerURL\": \"https://plot.ly\", \"responsive\": true}\n",
       "                    ).then(function(){\n",
       "                            \n",
       "var gd = document.getElementById('424ae61a-f721-4eaf-87aa-0d8a667df9a7');\n",
       "var x = new MutationObserver(function (mutations, observer) {{\n",
       "        var display = window.getComputedStyle(gd).display;\n",
       "        if (!display || display === 'none') {{\n",
       "            console.log([gd, 'removed!']);\n",
       "            Plotly.purge(gd);\n",
       "            observer.disconnect();\n",
       "        }}\n",
       "}});\n",
       "\n",
       "// Listen for the removal of the full notebook cells\n",
       "var notebookContainer = gd.closest('#notebook-container');\n",
       "if (notebookContainer) {{\n",
       "    x.observe(notebookContainer, {childList: true});\n",
       "}}\n",
       "\n",
       "// Listen for the clearing of the current output cell\n",
       "var outputEl = gd.closest('.output');\n",
       "if (outputEl) {{\n",
       "    x.observe(outputEl, {childList: true});\n",
       "}}\n",
       "\n",
       "                        })\n",
       "                };\n",
       "                });\n",
       "            </script>\n",
       "        </div>"
      ]
     },
     "metadata": {},
     "output_type": "display_data"
    }
   ],
   "source": [
    "df['A'].iplot(kind='hist',bins=25)"
   ]
  },
  {
   "cell_type": "markdown",
   "metadata": {},
   "source": [
    "## Bolha"
   ]
  },
  {
   "cell_type": "code",
   "execution_count": 19,
   "metadata": {},
   "outputs": [
    {
     "data": {
      "application/vnd.plotly.v1+json": {
       "config": {
        "linkText": "Export to plot.ly",
        "plotlyServerURL": "https://plot.ly",
        "showLink": true
       },
       "data": [
        {
         "marker": {
          "color": [
           "rgb(255, 153, 51)",
           "rgb(55, 128, 191)",
           "rgb(50, 171, 96)",
           "rgb(128, 0, 128)",
           "rgb(219, 64, 82)",
           "rgb(0, 128, 128)",
           "rgb(255, 255, 51)",
           "rgb(128, 128, 0)",
           "rgb(251, 128, 114)",
           "rgb(128, 177, 211)"
          ],
          "line": {
           "width": 1.3
          },
          "size": [
           59,
           30,
           40,
           54,
           51,
           99,
           47,
           36,
           65,
           77,
           83,
           57,
           33,
           66,
           41,
           33,
           112,
           12,
           37,
           67,
           59,
           36,
           69,
           50,
           78,
           76,
           52,
           74,
           83,
           91,
           65,
           47,
           80,
           87,
           72,
           22,
           73,
           34,
           46,
           41,
           30,
           86,
           42,
           62,
           73,
           53,
           62,
           70,
           46,
           93,
           78,
           52,
           60,
           65,
           32,
           23,
           84,
           78,
           56,
           64,
           99,
           71,
           88,
           75,
           59,
           69,
           67,
           91,
           19,
           46,
           83,
           34,
           70,
           53,
           73,
           45,
           77,
           67,
           59,
           84,
           61,
           63,
           72,
           75,
           35,
           61,
           83,
           83,
           62,
           49,
           63,
           95,
           56,
           85,
           79,
           72,
           48,
           34,
           81,
           60
          ],
          "symbol": "circle"
         },
         "mode": "markers",
         "text": "",
         "type": "scatter",
         "x": [
          0.34047230985417487,
          -0.5470601833793309,
          -1.2675378278930967,
          0.6491316044070555,
          0.9790849726054258,
          -1.733015324001771,
          2.290389321238637,
          0.036454781028621284,
          -0.9037565027827843,
          -1.0646210198714885,
          -0.7739593465059703,
          1.349709681088898,
          0.023198104431787304,
          0.7097968765591369,
          -1.3190373996246016,
          0.4432749340244109,
          0.3382114080093792,
          -0.08149571062505023,
          1.054706512426422,
          0.42840307080408696,
          -1.1416823676520806,
          -1.2051615303417365,
          0.12727852193154782,
          1.5308805794798286,
          -0.9927193045515985,
          -1.3366979353879058,
          0.1955269139584091,
          0.7930215179572049,
          1.3146642283206003,
          -1.018328645349817,
          1.528175135223415,
          1.5199500968770436,
          -0.14568948608290364,
          0.673767247732877,
          -0.6291547478631949,
          1.7237260355384059,
          -2.128409866142235,
          -1.2564105832946104,
          -0.9946511182748657,
          1.3286998088243123,
          -0.9073035901180493,
          1.1431477794473277,
          0.3637094958135473,
          -0.5556350676836874,
          -0.784958397741709,
          0.6599181211812783,
          0.9327041584723281,
          0.317808086352773,
          -0.45128432794925066,
          0.02169308947579233,
          -0.38352504449075225,
          0.2007362243585566,
          0.4888528181246676,
          -1.1903891833358475,
          -0.7363204708075135,
          0.5353027969158113,
          -0.009098706058621205,
          -0.38651580048044665,
          -1.9505943181122882,
          -0.5563156651329674,
          -2.137311930174342,
          -1.2725741121684107,
          -0.7820156364185031,
          1.5364104241185321,
          -0.418215415271642,
          1.7995202888116273,
          -1.4828590310985599,
          -1.527662283535423,
          0.9793840714449367,
          0.6974261641817958,
          0.9298674505655383,
          0.1463230889023217,
          0.18558750120210715,
          -0.8649984819098265,
          1.1923650660250928,
          -0.7288791022947565,
          0.16187314515212994,
          0.07901352569282546,
          -0.6864257743133744,
          -0.7638958537068636,
          0.09777129712374978,
          1.9894840606243682,
          0.4452067408586412,
          0.283836967561087,
          0.68803706432445,
          -0.2132472849823426,
          -1.3999549932879618,
          -0.5569138588321604,
          1.647324139450391,
          0.31164492300874735,
          -0.27526326737804385,
          1.3396705591673788,
          1.4354991278104445,
          -0.7754158123349962,
          1.0576465217387125,
          -1.2567399072669017,
          1.417915162857051,
          0.41595710155807697,
          -0.3542636977169401,
          -1.8437068141659367
         ],
         "y": [
          1.9943407701544202,
          0.8732976700461123,
          -0.44787696876144895,
          1.0780976820731896,
          1.6078548939101063,
          0.16317980233584287,
          0.5496495894598031,
          1.0102362546831511,
          -0.511917744122489,
          0.281743139062265,
          0.7216725536292614,
          0.1741682812166515,
          0.1785643052722124,
          -0.30481786184645304,
          -1.8509950817133969,
          -0.23778690258463708,
          -0.8630716467228144,
          0.4051284595491349,
          0.011693486607671525,
          -1.140316247327179,
          0.6961449106580708,
          0.07628529046739924,
          -0.15896345593945824,
          -0.914561014980909,
          -0.2899171259555344,
          1.395367474369876,
          0.9559938410991375,
          0.14143756597235277,
          0.9808198546062713,
          -0.9506065975501895,
          0.3328695743314853,
          0.17362323075461195,
          0.8629566207204599,
          0.6711995161432158,
          -1.7252037236321254,
          0.1050150185451266,
          -0.6776206987366905,
          0.9050109638072361,
          0.3120914384835461,
          -0.13682847797414394,
          -1.0338304213946623,
          0.12395061715807465,
          0.38545359854491457,
          1.5558315877417646,
          -0.5525591461019096,
          0.5755905862673705,
          0.11594421839394252,
          2.009669467433262,
          0.6720174995283758,
          3.9800981023976028,
          2.012483027853531,
          -0.0165911044931047,
          0.5436983124669627,
          0.2533224887728271,
          -2.3115522998318236,
          -0.24923560962574012,
          -1.9232267183238132,
          0.05722815876193648,
          -1.666760834897929,
          0.025844967526200354,
          0.5155027670327164,
          0.5022409291069994,
          1.949038917238445,
          -1.4855667244693458,
          0.8178687661814977,
          1.4168279164506383,
          0.11816388408156939,
          0.030444589926006436,
          0.8583597561128744,
          0.1447413788502021,
          1.3857459334031041,
          -0.3462272443036162,
          -0.7601756038235645,
          -0.19531967449619628,
          -0.1736275096618453,
          0.33535248752757185,
          0.42462100759789134,
          0.17980065301228668,
          -0.04382890283922368,
          -0.12302613525369319,
          0.8000120765971616,
          -0.7178499919504112,
          0.2307414841193989,
          2.0714126632499665,
          1.7101980155882819,
          0.9710013499136046,
          -0.6715146320607761,
          -0.38662889542131273,
          -0.009607146099274804,
          -0.7892315730989675,
          -0.0174069311032387,
          0.2380637833909742,
          0.9424713187875836,
          0.24371148622077551,
          0.5877903592172993,
          0.24724599456167232,
          -0.2184726763217426,
          0.6178629971468542,
          -0.5268844662083302,
          0.12452138333049734
         ]
        }
       ],
       "layout": {
        "legend": {
         "bgcolor": "#F5F6F9",
         "font": {
          "color": "#4D5663"
         }
        },
        "paper_bgcolor": "#F5F6F9",
        "plot_bgcolor": "#F5F6F9",
        "template": {
         "data": {
          "bar": [
           {
            "error_x": {
             "color": "#2a3f5f"
            },
            "error_y": {
             "color": "#2a3f5f"
            },
            "marker": {
             "line": {
              "color": "#E5ECF6",
              "width": 0.5
             }
            },
            "type": "bar"
           }
          ],
          "barpolar": [
           {
            "marker": {
             "line": {
              "color": "#E5ECF6",
              "width": 0.5
             }
            },
            "type": "barpolar"
           }
          ],
          "carpet": [
           {
            "aaxis": {
             "endlinecolor": "#2a3f5f",
             "gridcolor": "white",
             "linecolor": "white",
             "minorgridcolor": "white",
             "startlinecolor": "#2a3f5f"
            },
            "baxis": {
             "endlinecolor": "#2a3f5f",
             "gridcolor": "white",
             "linecolor": "white",
             "minorgridcolor": "white",
             "startlinecolor": "#2a3f5f"
            },
            "type": "carpet"
           }
          ],
          "choropleth": [
           {
            "colorbar": {
             "outlinewidth": 0,
             "ticks": ""
            },
            "type": "choropleth"
           }
          ],
          "contour": [
           {
            "colorbar": {
             "outlinewidth": 0,
             "ticks": ""
            },
            "colorscale": [
             [
              0,
              "#0d0887"
             ],
             [
              0.1111111111111111,
              "#46039f"
             ],
             [
              0.2222222222222222,
              "#7201a8"
             ],
             [
              0.3333333333333333,
              "#9c179e"
             ],
             [
              0.4444444444444444,
              "#bd3786"
             ],
             [
              0.5555555555555556,
              "#d8576b"
             ],
             [
              0.6666666666666666,
              "#ed7953"
             ],
             [
              0.7777777777777778,
              "#fb9f3a"
             ],
             [
              0.8888888888888888,
              "#fdca26"
             ],
             [
              1,
              "#f0f921"
             ]
            ],
            "type": "contour"
           }
          ],
          "contourcarpet": [
           {
            "colorbar": {
             "outlinewidth": 0,
             "ticks": ""
            },
            "type": "contourcarpet"
           }
          ],
          "heatmap": [
           {
            "colorbar": {
             "outlinewidth": 0,
             "ticks": ""
            },
            "colorscale": [
             [
              0,
              "#0d0887"
             ],
             [
              0.1111111111111111,
              "#46039f"
             ],
             [
              0.2222222222222222,
              "#7201a8"
             ],
             [
              0.3333333333333333,
              "#9c179e"
             ],
             [
              0.4444444444444444,
              "#bd3786"
             ],
             [
              0.5555555555555556,
              "#d8576b"
             ],
             [
              0.6666666666666666,
              "#ed7953"
             ],
             [
              0.7777777777777778,
              "#fb9f3a"
             ],
             [
              0.8888888888888888,
              "#fdca26"
             ],
             [
              1,
              "#f0f921"
             ]
            ],
            "type": "heatmap"
           }
          ],
          "heatmapgl": [
           {
            "colorbar": {
             "outlinewidth": 0,
             "ticks": ""
            },
            "colorscale": [
             [
              0,
              "#0d0887"
             ],
             [
              0.1111111111111111,
              "#46039f"
             ],
             [
              0.2222222222222222,
              "#7201a8"
             ],
             [
              0.3333333333333333,
              "#9c179e"
             ],
             [
              0.4444444444444444,
              "#bd3786"
             ],
             [
              0.5555555555555556,
              "#d8576b"
             ],
             [
              0.6666666666666666,
              "#ed7953"
             ],
             [
              0.7777777777777778,
              "#fb9f3a"
             ],
             [
              0.8888888888888888,
              "#fdca26"
             ],
             [
              1,
              "#f0f921"
             ]
            ],
            "type": "heatmapgl"
           }
          ],
          "histogram": [
           {
            "marker": {
             "colorbar": {
              "outlinewidth": 0,
              "ticks": ""
             }
            },
            "type": "histogram"
           }
          ],
          "histogram2d": [
           {
            "colorbar": {
             "outlinewidth": 0,
             "ticks": ""
            },
            "colorscale": [
             [
              0,
              "#0d0887"
             ],
             [
              0.1111111111111111,
              "#46039f"
             ],
             [
              0.2222222222222222,
              "#7201a8"
             ],
             [
              0.3333333333333333,
              "#9c179e"
             ],
             [
              0.4444444444444444,
              "#bd3786"
             ],
             [
              0.5555555555555556,
              "#d8576b"
             ],
             [
              0.6666666666666666,
              "#ed7953"
             ],
             [
              0.7777777777777778,
              "#fb9f3a"
             ],
             [
              0.8888888888888888,
              "#fdca26"
             ],
             [
              1,
              "#f0f921"
             ]
            ],
            "type": "histogram2d"
           }
          ],
          "histogram2dcontour": [
           {
            "colorbar": {
             "outlinewidth": 0,
             "ticks": ""
            },
            "colorscale": [
             [
              0,
              "#0d0887"
             ],
             [
              0.1111111111111111,
              "#46039f"
             ],
             [
              0.2222222222222222,
              "#7201a8"
             ],
             [
              0.3333333333333333,
              "#9c179e"
             ],
             [
              0.4444444444444444,
              "#bd3786"
             ],
             [
              0.5555555555555556,
              "#d8576b"
             ],
             [
              0.6666666666666666,
              "#ed7953"
             ],
             [
              0.7777777777777778,
              "#fb9f3a"
             ],
             [
              0.8888888888888888,
              "#fdca26"
             ],
             [
              1,
              "#f0f921"
             ]
            ],
            "type": "histogram2dcontour"
           }
          ],
          "mesh3d": [
           {
            "colorbar": {
             "outlinewidth": 0,
             "ticks": ""
            },
            "type": "mesh3d"
           }
          ],
          "parcoords": [
           {
            "line": {
             "colorbar": {
              "outlinewidth": 0,
              "ticks": ""
             }
            },
            "type": "parcoords"
           }
          ],
          "pie": [
           {
            "automargin": true,
            "type": "pie"
           }
          ],
          "scatter": [
           {
            "marker": {
             "colorbar": {
              "outlinewidth": 0,
              "ticks": ""
             }
            },
            "type": "scatter"
           }
          ],
          "scatter3d": [
           {
            "line": {
             "colorbar": {
              "outlinewidth": 0,
              "ticks": ""
             }
            },
            "marker": {
             "colorbar": {
              "outlinewidth": 0,
              "ticks": ""
             }
            },
            "type": "scatter3d"
           }
          ],
          "scattercarpet": [
           {
            "marker": {
             "colorbar": {
              "outlinewidth": 0,
              "ticks": ""
             }
            },
            "type": "scattercarpet"
           }
          ],
          "scattergeo": [
           {
            "marker": {
             "colorbar": {
              "outlinewidth": 0,
              "ticks": ""
             }
            },
            "type": "scattergeo"
           }
          ],
          "scattergl": [
           {
            "marker": {
             "colorbar": {
              "outlinewidth": 0,
              "ticks": ""
             }
            },
            "type": "scattergl"
           }
          ],
          "scattermapbox": [
           {
            "marker": {
             "colorbar": {
              "outlinewidth": 0,
              "ticks": ""
             }
            },
            "type": "scattermapbox"
           }
          ],
          "scatterpolar": [
           {
            "marker": {
             "colorbar": {
              "outlinewidth": 0,
              "ticks": ""
             }
            },
            "type": "scatterpolar"
           }
          ],
          "scatterpolargl": [
           {
            "marker": {
             "colorbar": {
              "outlinewidth": 0,
              "ticks": ""
             }
            },
            "type": "scatterpolargl"
           }
          ],
          "scatterternary": [
           {
            "marker": {
             "colorbar": {
              "outlinewidth": 0,
              "ticks": ""
             }
            },
            "type": "scatterternary"
           }
          ],
          "surface": [
           {
            "colorbar": {
             "outlinewidth": 0,
             "ticks": ""
            },
            "colorscale": [
             [
              0,
              "#0d0887"
             ],
             [
              0.1111111111111111,
              "#46039f"
             ],
             [
              0.2222222222222222,
              "#7201a8"
             ],
             [
              0.3333333333333333,
              "#9c179e"
             ],
             [
              0.4444444444444444,
              "#bd3786"
             ],
             [
              0.5555555555555556,
              "#d8576b"
             ],
             [
              0.6666666666666666,
              "#ed7953"
             ],
             [
              0.7777777777777778,
              "#fb9f3a"
             ],
             [
              0.8888888888888888,
              "#fdca26"
             ],
             [
              1,
              "#f0f921"
             ]
            ],
            "type": "surface"
           }
          ],
          "table": [
           {
            "cells": {
             "fill": {
              "color": "#EBF0F8"
             },
             "line": {
              "color": "white"
             }
            },
            "header": {
             "fill": {
              "color": "#C8D4E3"
             },
             "line": {
              "color": "white"
             }
            },
            "type": "table"
           }
          ]
         },
         "layout": {
          "annotationdefaults": {
           "arrowcolor": "#2a3f5f",
           "arrowhead": 0,
           "arrowwidth": 1
          },
          "coloraxis": {
           "colorbar": {
            "outlinewidth": 0,
            "ticks": ""
           }
          },
          "colorscale": {
           "diverging": [
            [
             0,
             "#8e0152"
            ],
            [
             0.1,
             "#c51b7d"
            ],
            [
             0.2,
             "#de77ae"
            ],
            [
             0.3,
             "#f1b6da"
            ],
            [
             0.4,
             "#fde0ef"
            ],
            [
             0.5,
             "#f7f7f7"
            ],
            [
             0.6,
             "#e6f5d0"
            ],
            [
             0.7,
             "#b8e186"
            ],
            [
             0.8,
             "#7fbc41"
            ],
            [
             0.9,
             "#4d9221"
            ],
            [
             1,
             "#276419"
            ]
           ],
           "sequential": [
            [
             0,
             "#0d0887"
            ],
            [
             0.1111111111111111,
             "#46039f"
            ],
            [
             0.2222222222222222,
             "#7201a8"
            ],
            [
             0.3333333333333333,
             "#9c179e"
            ],
            [
             0.4444444444444444,
             "#bd3786"
            ],
            [
             0.5555555555555556,
             "#d8576b"
            ],
            [
             0.6666666666666666,
             "#ed7953"
            ],
            [
             0.7777777777777778,
             "#fb9f3a"
            ],
            [
             0.8888888888888888,
             "#fdca26"
            ],
            [
             1,
             "#f0f921"
            ]
           ],
           "sequentialminus": [
            [
             0,
             "#0d0887"
            ],
            [
             0.1111111111111111,
             "#46039f"
            ],
            [
             0.2222222222222222,
             "#7201a8"
            ],
            [
             0.3333333333333333,
             "#9c179e"
            ],
            [
             0.4444444444444444,
             "#bd3786"
            ],
            [
             0.5555555555555556,
             "#d8576b"
            ],
            [
             0.6666666666666666,
             "#ed7953"
            ],
            [
             0.7777777777777778,
             "#fb9f3a"
            ],
            [
             0.8888888888888888,
             "#fdca26"
            ],
            [
             1,
             "#f0f921"
            ]
           ]
          },
          "colorway": [
           "#636efa",
           "#EF553B",
           "#00cc96",
           "#ab63fa",
           "#FFA15A",
           "#19d3f3",
           "#FF6692",
           "#B6E880",
           "#FF97FF",
           "#FECB52"
          ],
          "font": {
           "color": "#2a3f5f"
          },
          "geo": {
           "bgcolor": "white",
           "lakecolor": "white",
           "landcolor": "#E5ECF6",
           "showlakes": true,
           "showland": true,
           "subunitcolor": "white"
          },
          "hoverlabel": {
           "align": "left"
          },
          "hovermode": "closest",
          "mapbox": {
           "style": "light"
          },
          "paper_bgcolor": "white",
          "plot_bgcolor": "#E5ECF6",
          "polar": {
           "angularaxis": {
            "gridcolor": "white",
            "linecolor": "white",
            "ticks": ""
           },
           "bgcolor": "#E5ECF6",
           "radialaxis": {
            "gridcolor": "white",
            "linecolor": "white",
            "ticks": ""
           }
          },
          "scene": {
           "xaxis": {
            "backgroundcolor": "#E5ECF6",
            "gridcolor": "white",
            "gridwidth": 2,
            "linecolor": "white",
            "showbackground": true,
            "ticks": "",
            "zerolinecolor": "white"
           },
           "yaxis": {
            "backgroundcolor": "#E5ECF6",
            "gridcolor": "white",
            "gridwidth": 2,
            "linecolor": "white",
            "showbackground": true,
            "ticks": "",
            "zerolinecolor": "white"
           },
           "zaxis": {
            "backgroundcolor": "#E5ECF6",
            "gridcolor": "white",
            "gridwidth": 2,
            "linecolor": "white",
            "showbackground": true,
            "ticks": "",
            "zerolinecolor": "white"
           }
          },
          "shapedefaults": {
           "line": {
            "color": "#2a3f5f"
           }
          },
          "ternary": {
           "aaxis": {
            "gridcolor": "white",
            "linecolor": "white",
            "ticks": ""
           },
           "baxis": {
            "gridcolor": "white",
            "linecolor": "white",
            "ticks": ""
           },
           "bgcolor": "#E5ECF6",
           "caxis": {
            "gridcolor": "white",
            "linecolor": "white",
            "ticks": ""
           }
          },
          "title": {
           "x": 0.05
          },
          "xaxis": {
           "automargin": true,
           "gridcolor": "white",
           "linecolor": "white",
           "ticks": "",
           "title": {
            "standoff": 15
           },
           "zerolinecolor": "white",
           "zerolinewidth": 2
          },
          "yaxis": {
           "automargin": true,
           "gridcolor": "white",
           "linecolor": "white",
           "ticks": "",
           "title": {
            "standoff": 15
           },
           "zerolinecolor": "white",
           "zerolinewidth": 2
          }
         }
        },
        "title": {
         "font": {
          "color": "#4D5663"
         }
        },
        "xaxis": {
         "gridcolor": "#E1E5ED",
         "showgrid": true,
         "tickfont": {
          "color": "#4D5663"
         },
         "title": {
          "font": {
           "color": "#4D5663"
          },
          "text": ""
         },
         "zerolinecolor": "#E1E5ED"
        },
        "yaxis": {
         "gridcolor": "#E1E5ED",
         "showgrid": true,
         "tickfont": {
          "color": "#4D5663"
         },
         "title": {
          "font": {
           "color": "#4D5663"
          },
          "text": ""
         },
         "zerolinecolor": "#E1E5ED"
        }
       }
      },
      "text/html": [
       "<div>\n",
       "        \n",
       "        \n",
       "            <div id=\"f06fd51a-dad5-472f-bf3d-a3bc023f4ee2\" class=\"plotly-graph-div\" style=\"height:525px; width:100%;\"></div>\n",
       "            <script type=\"text/javascript\">\n",
       "                require([\"plotly\"], function(Plotly) {\n",
       "                    window.PLOTLYENV=window.PLOTLYENV || {};\n",
       "                    window.PLOTLYENV.BASE_URL='https://plot.ly';\n",
       "                    \n",
       "                if (document.getElementById(\"f06fd51a-dad5-472f-bf3d-a3bc023f4ee2\")) {\n",
       "                    Plotly.newPlot(\n",
       "                        'f06fd51a-dad5-472f-bf3d-a3bc023f4ee2',\n",
       "                        [{\"marker\": {\"color\": [\"rgb(255, 153, 51)\", \"rgb(55, 128, 191)\", \"rgb(50, 171, 96)\", \"rgb(128, 0, 128)\", \"rgb(219, 64, 82)\", \"rgb(0, 128, 128)\", \"rgb(255, 255, 51)\", \"rgb(128, 128, 0)\", \"rgb(251, 128, 114)\", \"rgb(128, 177, 211)\"], \"line\": {\"width\": 1.3}, \"size\": [59, 30, 40, 54, 51, 99, 47, 36, 65, 77, 83, 57, 33, 66, 41, 33, 112, 12, 37, 67, 59, 36, 69, 50, 78, 76, 52, 74, 83, 91, 65, 47, 80, 87, 72, 22, 73, 34, 46, 41, 30, 86, 42, 62, 73, 53, 62, 70, 46, 93, 78, 52, 60, 65, 32, 23, 84, 78, 56, 64, 99, 71, 88, 75, 59, 69, 67, 91, 19, 46, 83, 34, 70, 53, 73, 45, 77, 67, 59, 84, 61, 63, 72, 75, 35, 61, 83, 83, 62, 49, 63, 95, 56, 85, 79, 72, 48, 34, 81, 60], \"symbol\": \"circle\"}, \"mode\": \"markers\", \"text\": \"\", \"type\": \"scatter\", \"x\": [0.34047230985417487, -0.5470601833793309, -1.2675378278930967, 0.6491316044070555, 0.9790849726054258, -1.733015324001771, 2.290389321238637, 0.036454781028621284, -0.9037565027827843, -1.0646210198714885, -0.7739593465059703, 1.349709681088898, 0.023198104431787304, 0.7097968765591369, -1.3190373996246016, 0.4432749340244109, 0.3382114080093792, -0.08149571062505023, 1.054706512426422, 0.42840307080408696, -1.1416823676520806, -1.2051615303417365, 0.12727852193154782, 1.5308805794798286, -0.9927193045515985, -1.3366979353879058, 0.1955269139584091, 0.7930215179572049, 1.3146642283206003, -1.018328645349817, 1.528175135223415, 1.5199500968770436, -0.14568948608290364, 0.673767247732877, -0.6291547478631949, 1.7237260355384059, -2.128409866142235, -1.2564105832946104, -0.9946511182748657, 1.3286998088243123, -0.9073035901180493, 1.1431477794473277, 0.3637094958135473, -0.5556350676836874, -0.784958397741709, 0.6599181211812783, 0.9327041584723281, 0.317808086352773, -0.45128432794925066, 0.02169308947579233, -0.38352504449075225, 0.2007362243585566, 0.4888528181246676, -1.1903891833358475, -0.7363204708075135, 0.5353027969158113, -0.009098706058621205, -0.38651580048044665, -1.9505943181122882, -0.5563156651329674, -2.137311930174342, -1.2725741121684107, -0.7820156364185031, 1.5364104241185321, -0.418215415271642, 1.7995202888116273, -1.4828590310985599, -1.527662283535423, 0.9793840714449367, 0.6974261641817958, 0.9298674505655383, 0.1463230889023217, 0.18558750120210715, -0.8649984819098265, 1.1923650660250928, -0.7288791022947565, 0.16187314515212994, 0.07901352569282546, -0.6864257743133744, -0.7638958537068636, 0.09777129712374978, 1.9894840606243682, 0.4452067408586412, 0.283836967561087, 0.68803706432445, -0.2132472849823426, -1.3999549932879618, -0.5569138588321604, 1.647324139450391, 0.31164492300874735, -0.27526326737804385, 1.3396705591673788, 1.4354991278104445, -0.7754158123349962, 1.0576465217387125, -1.2567399072669017, 1.417915162857051, 0.41595710155807697, -0.3542636977169401, -1.8437068141659367], \"y\": [1.9943407701544202, 0.8732976700461123, -0.44787696876144895, 1.0780976820731896, 1.6078548939101063, 0.16317980233584287, 0.5496495894598031, 1.0102362546831511, -0.511917744122489, 0.281743139062265, 0.7216725536292614, 0.1741682812166515, 0.1785643052722124, -0.30481786184645304, -1.8509950817133969, -0.23778690258463708, -0.8630716467228144, 0.4051284595491349, 0.011693486607671525, -1.140316247327179, 0.6961449106580708, 0.07628529046739924, -0.15896345593945824, -0.914561014980909, -0.2899171259555344, 1.395367474369876, 0.9559938410991375, 0.14143756597235277, 0.9808198546062713, -0.9506065975501895, 0.3328695743314853, 0.17362323075461195, 0.8629566207204599, 0.6711995161432158, -1.7252037236321254, 0.1050150185451266, -0.6776206987366905, 0.9050109638072361, 0.3120914384835461, -0.13682847797414394, -1.0338304213946623, 0.12395061715807465, 0.38545359854491457, 1.5558315877417646, -0.5525591461019096, 0.5755905862673705, 0.11594421839394252, 2.009669467433262, 0.6720174995283758, 3.9800981023976028, 2.012483027853531, -0.0165911044931047, 0.5436983124669627, 0.2533224887728271, -2.3115522998318236, -0.24923560962574012, -1.9232267183238132, 0.05722815876193648, -1.666760834897929, 0.025844967526200354, 0.5155027670327164, 0.5022409291069994, 1.949038917238445, -1.4855667244693458, 0.8178687661814977, 1.4168279164506383, 0.11816388408156939, 0.030444589926006436, 0.8583597561128744, 0.1447413788502021, 1.3857459334031041, -0.3462272443036162, -0.7601756038235645, -0.19531967449619628, -0.1736275096618453, 0.33535248752757185, 0.42462100759789134, 0.17980065301228668, -0.04382890283922368, -0.12302613525369319, 0.8000120765971616, -0.7178499919504112, 0.2307414841193989, 2.0714126632499665, 1.7101980155882819, 0.9710013499136046, -0.6715146320607761, -0.38662889542131273, -0.009607146099274804, -0.7892315730989675, -0.0174069311032387, 0.2380637833909742, 0.9424713187875836, 0.24371148622077551, 0.5877903592172993, 0.24724599456167232, -0.2184726763217426, 0.6178629971468542, -0.5268844662083302, 0.12452138333049734]}],\n",
       "                        {\"legend\": {\"bgcolor\": \"#F5F6F9\", \"font\": {\"color\": \"#4D5663\"}}, \"paper_bgcolor\": \"#F5F6F9\", \"plot_bgcolor\": \"#F5F6F9\", \"template\": {\"data\": {\"bar\": [{\"error_x\": {\"color\": \"#2a3f5f\"}, \"error_y\": {\"color\": \"#2a3f5f\"}, \"marker\": {\"line\": {\"color\": \"#E5ECF6\", \"width\": 0.5}}, \"type\": \"bar\"}], \"barpolar\": [{\"marker\": {\"line\": {\"color\": \"#E5ECF6\", \"width\": 0.5}}, \"type\": \"barpolar\"}], \"carpet\": [{\"aaxis\": {\"endlinecolor\": \"#2a3f5f\", \"gridcolor\": \"white\", \"linecolor\": \"white\", \"minorgridcolor\": \"white\", \"startlinecolor\": \"#2a3f5f\"}, \"baxis\": {\"endlinecolor\": \"#2a3f5f\", \"gridcolor\": \"white\", \"linecolor\": \"white\", \"minorgridcolor\": \"white\", \"startlinecolor\": \"#2a3f5f\"}, \"type\": \"carpet\"}], \"choropleth\": [{\"colorbar\": {\"outlinewidth\": 0, \"ticks\": \"\"}, \"type\": \"choropleth\"}], \"contour\": [{\"colorbar\": {\"outlinewidth\": 0, \"ticks\": \"\"}, \"colorscale\": [[0.0, \"#0d0887\"], [0.1111111111111111, \"#46039f\"], [0.2222222222222222, \"#7201a8\"], [0.3333333333333333, \"#9c179e\"], [0.4444444444444444, \"#bd3786\"], [0.5555555555555556, \"#d8576b\"], [0.6666666666666666, \"#ed7953\"], [0.7777777777777778, \"#fb9f3a\"], [0.8888888888888888, \"#fdca26\"], [1.0, \"#f0f921\"]], \"type\": \"contour\"}], \"contourcarpet\": [{\"colorbar\": {\"outlinewidth\": 0, \"ticks\": \"\"}, \"type\": \"contourcarpet\"}], \"heatmap\": [{\"colorbar\": {\"outlinewidth\": 0, \"ticks\": \"\"}, \"colorscale\": [[0.0, \"#0d0887\"], [0.1111111111111111, \"#46039f\"], [0.2222222222222222, \"#7201a8\"], [0.3333333333333333, \"#9c179e\"], [0.4444444444444444, \"#bd3786\"], [0.5555555555555556, \"#d8576b\"], [0.6666666666666666, \"#ed7953\"], [0.7777777777777778, \"#fb9f3a\"], [0.8888888888888888, \"#fdca26\"], [1.0, \"#f0f921\"]], \"type\": \"heatmap\"}], \"heatmapgl\": [{\"colorbar\": {\"outlinewidth\": 0, \"ticks\": \"\"}, \"colorscale\": [[0.0, \"#0d0887\"], [0.1111111111111111, \"#46039f\"], [0.2222222222222222, \"#7201a8\"], [0.3333333333333333, \"#9c179e\"], [0.4444444444444444, \"#bd3786\"], [0.5555555555555556, \"#d8576b\"], [0.6666666666666666, \"#ed7953\"], [0.7777777777777778, \"#fb9f3a\"], [0.8888888888888888, \"#fdca26\"], [1.0, \"#f0f921\"]], \"type\": \"heatmapgl\"}], \"histogram\": [{\"marker\": {\"colorbar\": {\"outlinewidth\": 0, \"ticks\": \"\"}}, \"type\": \"histogram\"}], \"histogram2d\": [{\"colorbar\": {\"outlinewidth\": 0, \"ticks\": \"\"}, \"colorscale\": [[0.0, \"#0d0887\"], [0.1111111111111111, \"#46039f\"], [0.2222222222222222, \"#7201a8\"], [0.3333333333333333, \"#9c179e\"], [0.4444444444444444, \"#bd3786\"], [0.5555555555555556, \"#d8576b\"], [0.6666666666666666, \"#ed7953\"], [0.7777777777777778, \"#fb9f3a\"], [0.8888888888888888, \"#fdca26\"], [1.0, \"#f0f921\"]], \"type\": \"histogram2d\"}], \"histogram2dcontour\": [{\"colorbar\": {\"outlinewidth\": 0, \"ticks\": \"\"}, \"colorscale\": [[0.0, \"#0d0887\"], [0.1111111111111111, \"#46039f\"], [0.2222222222222222, \"#7201a8\"], [0.3333333333333333, \"#9c179e\"], [0.4444444444444444, \"#bd3786\"], [0.5555555555555556, \"#d8576b\"], [0.6666666666666666, \"#ed7953\"], [0.7777777777777778, \"#fb9f3a\"], [0.8888888888888888, \"#fdca26\"], [1.0, \"#f0f921\"]], \"type\": \"histogram2dcontour\"}], \"mesh3d\": [{\"colorbar\": {\"outlinewidth\": 0, \"ticks\": \"\"}, \"type\": \"mesh3d\"}], \"parcoords\": [{\"line\": {\"colorbar\": {\"outlinewidth\": 0, \"ticks\": \"\"}}, \"type\": \"parcoords\"}], \"pie\": [{\"automargin\": true, \"type\": \"pie\"}], \"scatter\": [{\"marker\": {\"colorbar\": {\"outlinewidth\": 0, \"ticks\": \"\"}}, \"type\": \"scatter\"}], \"scatter3d\": [{\"line\": {\"colorbar\": {\"outlinewidth\": 0, \"ticks\": \"\"}}, \"marker\": {\"colorbar\": {\"outlinewidth\": 0, \"ticks\": \"\"}}, \"type\": \"scatter3d\"}], \"scattercarpet\": [{\"marker\": {\"colorbar\": {\"outlinewidth\": 0, \"ticks\": \"\"}}, \"type\": \"scattercarpet\"}], \"scattergeo\": [{\"marker\": {\"colorbar\": {\"outlinewidth\": 0, \"ticks\": \"\"}}, \"type\": \"scattergeo\"}], \"scattergl\": [{\"marker\": {\"colorbar\": {\"outlinewidth\": 0, \"ticks\": \"\"}}, \"type\": \"scattergl\"}], \"scattermapbox\": [{\"marker\": {\"colorbar\": {\"outlinewidth\": 0, \"ticks\": \"\"}}, \"type\": \"scattermapbox\"}], \"scatterpolar\": [{\"marker\": {\"colorbar\": {\"outlinewidth\": 0, \"ticks\": \"\"}}, \"type\": \"scatterpolar\"}], \"scatterpolargl\": [{\"marker\": {\"colorbar\": {\"outlinewidth\": 0, \"ticks\": \"\"}}, \"type\": \"scatterpolargl\"}], \"scatterternary\": [{\"marker\": {\"colorbar\": {\"outlinewidth\": 0, \"ticks\": \"\"}}, \"type\": \"scatterternary\"}], \"surface\": [{\"colorbar\": {\"outlinewidth\": 0, \"ticks\": \"\"}, \"colorscale\": [[0.0, \"#0d0887\"], [0.1111111111111111, \"#46039f\"], [0.2222222222222222, \"#7201a8\"], [0.3333333333333333, \"#9c179e\"], [0.4444444444444444, \"#bd3786\"], [0.5555555555555556, \"#d8576b\"], [0.6666666666666666, \"#ed7953\"], [0.7777777777777778, \"#fb9f3a\"], [0.8888888888888888, \"#fdca26\"], [1.0, \"#f0f921\"]], \"type\": \"surface\"}], \"table\": [{\"cells\": {\"fill\": {\"color\": \"#EBF0F8\"}, \"line\": {\"color\": \"white\"}}, \"header\": {\"fill\": {\"color\": \"#C8D4E3\"}, \"line\": {\"color\": \"white\"}}, \"type\": \"table\"}]}, \"layout\": {\"annotationdefaults\": {\"arrowcolor\": \"#2a3f5f\", \"arrowhead\": 0, \"arrowwidth\": 1}, \"coloraxis\": {\"colorbar\": {\"outlinewidth\": 0, \"ticks\": \"\"}}, \"colorscale\": {\"diverging\": [[0, \"#8e0152\"], [0.1, \"#c51b7d\"], [0.2, \"#de77ae\"], [0.3, \"#f1b6da\"], [0.4, \"#fde0ef\"], [0.5, \"#f7f7f7\"], [0.6, \"#e6f5d0\"], [0.7, \"#b8e186\"], [0.8, \"#7fbc41\"], [0.9, \"#4d9221\"], [1, \"#276419\"]], \"sequential\": [[0.0, \"#0d0887\"], [0.1111111111111111, \"#46039f\"], [0.2222222222222222, \"#7201a8\"], [0.3333333333333333, \"#9c179e\"], [0.4444444444444444, \"#bd3786\"], [0.5555555555555556, \"#d8576b\"], [0.6666666666666666, \"#ed7953\"], [0.7777777777777778, \"#fb9f3a\"], [0.8888888888888888, \"#fdca26\"], [1.0, \"#f0f921\"]], \"sequentialminus\": [[0.0, \"#0d0887\"], [0.1111111111111111, \"#46039f\"], [0.2222222222222222, \"#7201a8\"], [0.3333333333333333, \"#9c179e\"], [0.4444444444444444, \"#bd3786\"], [0.5555555555555556, \"#d8576b\"], [0.6666666666666666, \"#ed7953\"], [0.7777777777777778, \"#fb9f3a\"], [0.8888888888888888, \"#fdca26\"], [1.0, \"#f0f921\"]]}, \"colorway\": [\"#636efa\", \"#EF553B\", \"#00cc96\", \"#ab63fa\", \"#FFA15A\", \"#19d3f3\", \"#FF6692\", \"#B6E880\", \"#FF97FF\", \"#FECB52\"], \"font\": {\"color\": \"#2a3f5f\"}, \"geo\": {\"bgcolor\": \"white\", \"lakecolor\": \"white\", \"landcolor\": \"#E5ECF6\", \"showlakes\": true, \"showland\": true, \"subunitcolor\": \"white\"}, \"hoverlabel\": {\"align\": \"left\"}, \"hovermode\": \"closest\", \"mapbox\": {\"style\": \"light\"}, \"paper_bgcolor\": \"white\", \"plot_bgcolor\": \"#E5ECF6\", \"polar\": {\"angularaxis\": {\"gridcolor\": \"white\", \"linecolor\": \"white\", \"ticks\": \"\"}, \"bgcolor\": \"#E5ECF6\", \"radialaxis\": {\"gridcolor\": \"white\", \"linecolor\": \"white\", \"ticks\": \"\"}}, \"scene\": {\"xaxis\": {\"backgroundcolor\": \"#E5ECF6\", \"gridcolor\": \"white\", \"gridwidth\": 2, \"linecolor\": \"white\", \"showbackground\": true, \"ticks\": \"\", \"zerolinecolor\": \"white\"}, \"yaxis\": {\"backgroundcolor\": \"#E5ECF6\", \"gridcolor\": \"white\", \"gridwidth\": 2, \"linecolor\": \"white\", \"showbackground\": true, \"ticks\": \"\", \"zerolinecolor\": \"white\"}, \"zaxis\": {\"backgroundcolor\": \"#E5ECF6\", \"gridcolor\": \"white\", \"gridwidth\": 2, \"linecolor\": \"white\", \"showbackground\": true, \"ticks\": \"\", \"zerolinecolor\": \"white\"}}, \"shapedefaults\": {\"line\": {\"color\": \"#2a3f5f\"}}, \"ternary\": {\"aaxis\": {\"gridcolor\": \"white\", \"linecolor\": \"white\", \"ticks\": \"\"}, \"baxis\": {\"gridcolor\": \"white\", \"linecolor\": \"white\", \"ticks\": \"\"}, \"bgcolor\": \"#E5ECF6\", \"caxis\": {\"gridcolor\": \"white\", \"linecolor\": \"white\", \"ticks\": \"\"}}, \"title\": {\"x\": 0.05}, \"xaxis\": {\"automargin\": true, \"gridcolor\": \"white\", \"linecolor\": \"white\", \"ticks\": \"\", \"title\": {\"standoff\": 15}, \"zerolinecolor\": \"white\", \"zerolinewidth\": 2}, \"yaxis\": {\"automargin\": true, \"gridcolor\": \"white\", \"linecolor\": \"white\", \"ticks\": \"\", \"title\": {\"standoff\": 15}, \"zerolinecolor\": \"white\", \"zerolinewidth\": 2}}}, \"title\": {\"font\": {\"color\": \"#4D5663\"}}, \"xaxis\": {\"gridcolor\": \"#E1E5ED\", \"showgrid\": true, \"tickfont\": {\"color\": \"#4D5663\"}, \"title\": {\"font\": {\"color\": \"#4D5663\"}, \"text\": \"\"}, \"zerolinecolor\": \"#E1E5ED\"}, \"yaxis\": {\"gridcolor\": \"#E1E5ED\", \"showgrid\": true, \"tickfont\": {\"color\": \"#4D5663\"}, \"title\": {\"font\": {\"color\": \"#4D5663\"}, \"text\": \"\"}, \"zerolinecolor\": \"#E1E5ED\"}},\n",
       "                        {\"showLink\": true, \"linkText\": \"Export to plot.ly\", \"plotlyServerURL\": \"https://plot.ly\", \"responsive\": true}\n",
       "                    ).then(function(){\n",
       "                            \n",
       "var gd = document.getElementById('f06fd51a-dad5-472f-bf3d-a3bc023f4ee2');\n",
       "var x = new MutationObserver(function (mutations, observer) {{\n",
       "        var display = window.getComputedStyle(gd).display;\n",
       "        if (!display || display === 'none') {{\n",
       "            console.log([gd, 'removed!']);\n",
       "            Plotly.purge(gd);\n",
       "            observer.disconnect();\n",
       "        }}\n",
       "}});\n",
       "\n",
       "// Listen for the removal of the full notebook cells\n",
       "var notebookContainer = gd.closest('#notebook-container');\n",
       "if (notebookContainer) {{\n",
       "    x.observe(notebookContainer, {childList: true});\n",
       "}}\n",
       "\n",
       "// Listen for the clearing of the current output cell\n",
       "var outputEl = gd.closest('.output');\n",
       "if (outputEl) {{\n",
       "    x.observe(outputEl, {childList: true});\n",
       "}}\n",
       "\n",
       "                        })\n",
       "                };\n",
       "                });\n",
       "            </script>\n",
       "        </div>"
      ]
     },
     "metadata": {},
     "output_type": "display_data"
    }
   ],
   "source": [
    "df.iplot(kind='bubble',x='A',y='B',size='C')"
   ]
  },
  {
   "cell_type": "markdown",
   "metadata": {},
   "source": [
    "## scatter_matrix()\n",
    "\n",
    "Similar à sns.pairplot()"
   ]
  },
  {
   "cell_type": "code",
   "execution_count": 20,
   "metadata": {},
   "outputs": [
    {
     "data": {
      "application/vnd.plotly.v1+json": {
       "config": {
        "linkText": "Export to plot.ly",
        "plotlyServerURL": "https://plot.ly",
        "showLink": true
       },
       "data": [
        {
         "histfunc": "count",
         "histnorm": "",
         "marker": {
          "color": "rgba(255, 153, 51, 1.0)",
          "line": {
           "color": "#4D5663",
           "width": 1.3
          }
         },
         "name": "A",
         "nbinsx": 10,
         "opacity": 0.8,
         "orientation": "v",
         "type": "histogram",
         "x": [
          0.34047230985417487,
          -0.5470601833793309,
          -1.2675378278930967,
          0.6491316044070555,
          0.9790849726054258,
          -1.733015324001771,
          2.290389321238637,
          0.036454781028621284,
          -0.9037565027827843,
          -1.0646210198714885,
          -0.7739593465059703,
          1.349709681088898,
          0.023198104431787304,
          0.7097968765591369,
          -1.3190373996246016,
          0.4432749340244109,
          0.3382114080093792,
          -0.08149571062505023,
          1.054706512426422,
          0.42840307080408696,
          -1.1416823676520806,
          -1.2051615303417365,
          0.12727852193154782,
          1.5308805794798286,
          -0.9927193045515985,
          -1.3366979353879058,
          0.1955269139584091,
          0.7930215179572049,
          1.3146642283206003,
          -1.018328645349817,
          1.528175135223415,
          1.5199500968770436,
          -0.14568948608290364,
          0.673767247732877,
          -0.6291547478631949,
          1.7237260355384059,
          -2.128409866142235,
          -1.2564105832946104,
          -0.9946511182748657,
          1.3286998088243123,
          -0.9073035901180493,
          1.1431477794473277,
          0.3637094958135473,
          -0.5556350676836874,
          -0.784958397741709,
          0.6599181211812783,
          0.9327041584723281,
          0.317808086352773,
          -0.45128432794925066,
          0.02169308947579233,
          -0.38352504449075225,
          0.2007362243585566,
          0.4888528181246676,
          -1.1903891833358475,
          -0.7363204708075135,
          0.5353027969158113,
          -0.009098706058621205,
          -0.38651580048044665,
          -1.9505943181122882,
          -0.5563156651329674,
          -2.137311930174342,
          -1.2725741121684107,
          -0.7820156364185031,
          1.5364104241185321,
          -0.418215415271642,
          1.7995202888116273,
          -1.4828590310985599,
          -1.527662283535423,
          0.9793840714449367,
          0.6974261641817958,
          0.9298674505655383,
          0.1463230889023217,
          0.18558750120210715,
          -0.8649984819098265,
          1.1923650660250928,
          -0.7288791022947565,
          0.16187314515212994,
          0.07901352569282546,
          -0.6864257743133744,
          -0.7638958537068636,
          0.09777129712374978,
          1.9894840606243682,
          0.4452067408586412,
          0.283836967561087,
          0.68803706432445,
          -0.2132472849823426,
          -1.3999549932879618,
          -0.5569138588321604,
          1.647324139450391,
          0.31164492300874735,
          -0.27526326737804385,
          1.3396705591673788,
          1.4354991278104445,
          -0.7754158123349962,
          1.0576465217387125,
          -1.2567399072669017,
          1.417915162857051,
          0.41595710155807697,
          -0.3542636977169401,
          -1.8437068141659367
         ],
         "xaxis": "x",
         "yaxis": "y"
        },
        {
         "line": {
          "color": "rgba(128, 128, 128, 1.0)",
          "dash": "solid",
          "shape": "linear",
          "width": 1.3
         },
         "marker": {
          "size": 2,
          "symbol": "circle"
         },
         "mode": "markers",
         "name": "A",
         "text": "",
         "type": "scatter",
         "x": [
          1.9943407701544202,
          0.8732976700461123,
          -0.44787696876144895,
          1.0780976820731896,
          1.6078548939101063,
          0.16317980233584287,
          0.5496495894598031,
          1.0102362546831511,
          -0.511917744122489,
          0.281743139062265,
          0.7216725536292614,
          0.1741682812166515,
          0.1785643052722124,
          -0.30481786184645304,
          -1.8509950817133969,
          -0.23778690258463708,
          -0.8630716467228144,
          0.4051284595491349,
          0.011693486607671525,
          -1.140316247327179,
          0.6961449106580708,
          0.07628529046739924,
          -0.15896345593945824,
          -0.914561014980909,
          -0.2899171259555344,
          1.395367474369876,
          0.9559938410991375,
          0.14143756597235277,
          0.9808198546062713,
          -0.9506065975501895,
          0.3328695743314853,
          0.17362323075461195,
          0.8629566207204599,
          0.6711995161432158,
          -1.7252037236321254,
          0.1050150185451266,
          -0.6776206987366905,
          0.9050109638072361,
          0.3120914384835461,
          -0.13682847797414394,
          -1.0338304213946623,
          0.12395061715807465,
          0.38545359854491457,
          1.5558315877417646,
          -0.5525591461019096,
          0.5755905862673705,
          0.11594421839394252,
          2.009669467433262,
          0.6720174995283758,
          3.9800981023976028,
          2.012483027853531,
          -0.0165911044931047,
          0.5436983124669627,
          0.2533224887728271,
          -2.3115522998318236,
          -0.24923560962574012,
          -1.9232267183238132,
          0.05722815876193648,
          -1.666760834897929,
          0.025844967526200354,
          0.5155027670327164,
          0.5022409291069994,
          1.949038917238445,
          -1.4855667244693458,
          0.8178687661814977,
          1.4168279164506383,
          0.11816388408156939,
          0.030444589926006436,
          0.8583597561128744,
          0.1447413788502021,
          1.3857459334031041,
          -0.3462272443036162,
          -0.7601756038235645,
          -0.19531967449619628,
          -0.1736275096618453,
          0.33535248752757185,
          0.42462100759789134,
          0.17980065301228668,
          -0.04382890283922368,
          -0.12302613525369319,
          0.8000120765971616,
          -0.7178499919504112,
          0.2307414841193989,
          2.0714126632499665,
          1.7101980155882819,
          0.9710013499136046,
          -0.6715146320607761,
          -0.38662889542131273,
          -0.009607146099274804,
          -0.7892315730989675,
          -0.0174069311032387,
          0.2380637833909742,
          0.9424713187875836,
          0.24371148622077551,
          0.5877903592172993,
          0.24724599456167232,
          -0.2184726763217426,
          0.6178629971468542,
          -0.5268844662083302,
          0.12452138333049734
         ],
         "xaxis": "x2",
         "y": [
          0.34047230985417487,
          -0.5470601833793309,
          -1.2675378278930967,
          0.6491316044070555,
          0.9790849726054258,
          -1.733015324001771,
          2.290389321238637,
          0.036454781028621284,
          -0.9037565027827843,
          -1.0646210198714885,
          -0.7739593465059703,
          1.349709681088898,
          0.023198104431787304,
          0.7097968765591369,
          -1.3190373996246016,
          0.4432749340244109,
          0.3382114080093792,
          -0.08149571062505023,
          1.054706512426422,
          0.42840307080408696,
          -1.1416823676520806,
          -1.2051615303417365,
          0.12727852193154782,
          1.5308805794798286,
          -0.9927193045515985,
          -1.3366979353879058,
          0.1955269139584091,
          0.7930215179572049,
          1.3146642283206003,
          -1.018328645349817,
          1.528175135223415,
          1.5199500968770436,
          -0.14568948608290364,
          0.673767247732877,
          -0.6291547478631949,
          1.7237260355384059,
          -2.128409866142235,
          -1.2564105832946104,
          -0.9946511182748657,
          1.3286998088243123,
          -0.9073035901180493,
          1.1431477794473277,
          0.3637094958135473,
          -0.5556350676836874,
          -0.784958397741709,
          0.6599181211812783,
          0.9327041584723281,
          0.317808086352773,
          -0.45128432794925066,
          0.02169308947579233,
          -0.38352504449075225,
          0.2007362243585566,
          0.4888528181246676,
          -1.1903891833358475,
          -0.7363204708075135,
          0.5353027969158113,
          -0.009098706058621205,
          -0.38651580048044665,
          -1.9505943181122882,
          -0.5563156651329674,
          -2.137311930174342,
          -1.2725741121684107,
          -0.7820156364185031,
          1.5364104241185321,
          -0.418215415271642,
          1.7995202888116273,
          -1.4828590310985599,
          -1.527662283535423,
          0.9793840714449367,
          0.6974261641817958,
          0.9298674505655383,
          0.1463230889023217,
          0.18558750120210715,
          -0.8649984819098265,
          1.1923650660250928,
          -0.7288791022947565,
          0.16187314515212994,
          0.07901352569282546,
          -0.6864257743133744,
          -0.7638958537068636,
          0.09777129712374978,
          1.9894840606243682,
          0.4452067408586412,
          0.283836967561087,
          0.68803706432445,
          -0.2132472849823426,
          -1.3999549932879618,
          -0.5569138588321604,
          1.647324139450391,
          0.31164492300874735,
          -0.27526326737804385,
          1.3396705591673788,
          1.4354991278104445,
          -0.7754158123349962,
          1.0576465217387125,
          -1.2567399072669017,
          1.417915162857051,
          0.41595710155807697,
          -0.3542636977169401,
          -1.8437068141659367
         ],
         "yaxis": "y2"
        },
        {
         "line": {
          "color": "rgba(128, 128, 128, 1.0)",
          "dash": "solid",
          "shape": "linear",
          "width": 1.3
         },
         "marker": {
          "size": 2,
          "symbol": "circle"
         },
         "mode": "markers",
         "name": "A",
         "text": "",
         "type": "scatter",
         "x": [
          -0.04771395406536712,
          -1.5043416811675911,
          -1.0115571512189343,
          -0.3196881580095592,
          -0.48460926456026693,
          1.9324800528343704,
          -0.6750083050666905,
          -1.1928616122136295,
          0.22462422287366487,
          0.8172709744741067,
          1.1322305903744152,
          -0.15709969622329584,
          -1.3774672022747636,
          0.2578436147614736,
          -0.9417276351734839,
          -1.3677279147130692,
          2.531275836486691,
          -2.4247358633491745,
          -1.1743548283392375,
          0.32313460584764103,
          -0.05760005939342712,
          -1.2124084328812565,
          0.4440771525759291,
          -0.5287821003798321,
          0.8877937147896016,
          0.788082572247507,
          -0.4024078037919625,
          0.6768352646931419,
          1.124769340290542,
          1.514974366849765,
          0.24297458585476567,
          -0.6717924323579235,
          0.9700825220303908,
          1.3011011834029327,
          0.5595008546143619,
          -1.9107628935218424,
          0.6186427496640683,
          -1.3160373290467176,
          -0.711531460545435,
          -0.9704509328628098,
          -1.515870252607532,
          1.2685873954064992,
          -0.9373625765813777,
          0.08431574252417799,
          0.6209218652222007,
          -0.34977632773410233,
          0.05742309393247231,
          0.46848099989783293,
          -0.7012016950031474,
          1.6056656668519755,
          0.8897581396029682,
          -0.4397761711110293,
          -0.023013281784482753,
          0.24986744106213793,
          -1.4052573635124295,
          -1.8369821561209823,
          1.146483080516584,
          0.8747052961016265,
          -0.2136239740210405,
          0.18854567408788925,
          1.889355327229068,
          0.5355174486924671,
          1.36892644822141,
          0.725397359400518,
          -0.06354056164120563,
          0.4085339621321921,
          0.3155740523689549,
          1.5308259601478147,
          -2.0652698103461717,
          -0.726915663761446,
          1.1433844012357315,
          -1.301904532381038,
          0.48405131134391616,
          -0.39233488595636745,
          0.6432409606580904,
          -0.7781352236860143,
          0.8410939618043733,
          0.333085900767765,
          -0.057432172242264955,
          1.180448028127175,
          0.05168178418258711,
          0.13279630314547816,
          0.5923226265772704,
          0.7040703331376651,
          -1.2590114830545602,
          0.017285546023253325,
          1.1241265261455342,
          1.106064464217237,
          0.07088827925376733,
          -0.567679453807794,
          0.1260003892331238,
          1.6952764522942068,
          -0.21088715728804597,
          1.225933806417049,
          0.9085444819827736,
          0.5963963921595337,
          -0.6191685292863695,
          -1.3252801506002794,
          1.0356708943482635,
          -0.03329873623661065
         ],
         "xaxis": "x3",
         "y": [
          0.34047230985417487,
          -0.5470601833793309,
          -1.2675378278930967,
          0.6491316044070555,
          0.9790849726054258,
          -1.733015324001771,
          2.290389321238637,
          0.036454781028621284,
          -0.9037565027827843,
          -1.0646210198714885,
          -0.7739593465059703,
          1.349709681088898,
          0.023198104431787304,
          0.7097968765591369,
          -1.3190373996246016,
          0.4432749340244109,
          0.3382114080093792,
          -0.08149571062505023,
          1.054706512426422,
          0.42840307080408696,
          -1.1416823676520806,
          -1.2051615303417365,
          0.12727852193154782,
          1.5308805794798286,
          -0.9927193045515985,
          -1.3366979353879058,
          0.1955269139584091,
          0.7930215179572049,
          1.3146642283206003,
          -1.018328645349817,
          1.528175135223415,
          1.5199500968770436,
          -0.14568948608290364,
          0.673767247732877,
          -0.6291547478631949,
          1.7237260355384059,
          -2.128409866142235,
          -1.2564105832946104,
          -0.9946511182748657,
          1.3286998088243123,
          -0.9073035901180493,
          1.1431477794473277,
          0.3637094958135473,
          -0.5556350676836874,
          -0.784958397741709,
          0.6599181211812783,
          0.9327041584723281,
          0.317808086352773,
          -0.45128432794925066,
          0.02169308947579233,
          -0.38352504449075225,
          0.2007362243585566,
          0.4888528181246676,
          -1.1903891833358475,
          -0.7363204708075135,
          0.5353027969158113,
          -0.009098706058621205,
          -0.38651580048044665,
          -1.9505943181122882,
          -0.5563156651329674,
          -2.137311930174342,
          -1.2725741121684107,
          -0.7820156364185031,
          1.5364104241185321,
          -0.418215415271642,
          1.7995202888116273,
          -1.4828590310985599,
          -1.527662283535423,
          0.9793840714449367,
          0.6974261641817958,
          0.9298674505655383,
          0.1463230889023217,
          0.18558750120210715,
          -0.8649984819098265,
          1.1923650660250928,
          -0.7288791022947565,
          0.16187314515212994,
          0.07901352569282546,
          -0.6864257743133744,
          -0.7638958537068636,
          0.09777129712374978,
          1.9894840606243682,
          0.4452067408586412,
          0.283836967561087,
          0.68803706432445,
          -0.2132472849823426,
          -1.3999549932879618,
          -0.5569138588321604,
          1.647324139450391,
          0.31164492300874735,
          -0.27526326737804385,
          1.3396705591673788,
          1.4354991278104445,
          -0.7754158123349962,
          1.0576465217387125,
          -1.2567399072669017,
          1.417915162857051,
          0.41595710155807697,
          -0.3542636977169401,
          -1.8437068141659367
         ],
         "yaxis": "y3"
        },
        {
         "line": {
          "color": "rgba(128, 128, 128, 1.0)",
          "dash": "solid",
          "shape": "linear",
          "width": 1.3
         },
         "marker": {
          "size": 2,
          "symbol": "circle"
         },
         "mode": "markers",
         "name": "A",
         "text": "",
         "type": "scatter",
         "x": [
          1.2589569333371988,
          -0.031839142990460055,
          0.8189306812569733,
          -1.5246622267306469,
          -0.5063021320591772,
          -1.325476643544345,
          -0.6860637670997545,
          0.26461506776763893,
          -1.3622374707425282,
          -1.1637671181309004,
          -0.6360147100514426,
          -1.2648457466711012,
          1.1729852001238945,
          0.9817917825788705,
          1.158663697693098,
          2.0033356762471572,
          1.151628003613701,
          0.9952248652572545,
          -0.9223129537113125,
          -0.9012094254762871,
          -2.358464908201899,
          -0.8779060902868782,
          1.7780814166977388,
          -1.2837144668636435,
          1.0788074001706647,
          0.770709635679897,
          -1.9878346523176658,
          -0.22118188978377493,
          2.1803495732281513,
          -0.896958042621838,
          1.166657003520393,
          0.5591935822423297,
          -0.09120268790707306,
          1.372362763596523,
          -0.7587802387416756,
          -1.3367390809112585,
          -0.5496673125494758,
          -1.5956698027689833,
          -0.3085149900255551,
          -0.9515740829350039,
          -0.9764054457259063,
          0.20089254558087585,
          -1.1837907353589752,
          0.6273309156347018,
          0.480621080009327,
          -0.9923194436331658,
          -3.028655703581262,
          -0.4429279152892181,
          2.160253584830107,
          0.9596230747544598,
          -0.15095801929746455,
          -1.1792434907178488,
          1.9048354665303866,
          1.589045848139221,
          1.2646665300793827,
          0.3307024069427885,
          -0.42387849561392804,
          0.18918064164554008,
          1.8488605785378829,
          -0.6368917782634007,
          0.8078496252511943,
          -0.18986818989758067,
          -0.31935533376073333,
          -0.6167948807496727,
          -0.36205457928696344,
          0.087666167461351,
          0.47065582674596174,
          -0.8780610254712392,
          -1.0425678809274128,
          0.5748800716291017,
          -1.2005976154785882,
          1.3643716247377509,
          -0.6248742169432608,
          -1.552085522748234,
          0.8088923435765261,
          0.383184951273274,
          -0.04573367626531149,
          0.7506583580900915,
          0.2641442429416921,
          -1.3880184791637802,
          -0.49665476455912105,
          -0.49058018996490355,
          0.5437968834463308,
          -1.2925010205921783,
          0.3688794580477229,
          0.8470476490303701,
          1.4947755226044173,
          -1.1309217018103088,
          -0.6948701616929415,
          0.3308987928289656,
          0.058128707790018594,
          1.085648726485594,
          -0.9028762557922876,
          2.391031754184587,
          -1.6654687376941901,
          0.6788538544656444,
          -0.21499223351475188,
          -0.24686079659496307,
          -0.4784093744551463,
          -0.7504531919618652
         ],
         "xaxis": "x4",
         "y": [
          0.34047230985417487,
          -0.5470601833793309,
          -1.2675378278930967,
          0.6491316044070555,
          0.9790849726054258,
          -1.733015324001771,
          2.290389321238637,
          0.036454781028621284,
          -0.9037565027827843,
          -1.0646210198714885,
          -0.7739593465059703,
          1.349709681088898,
          0.023198104431787304,
          0.7097968765591369,
          -1.3190373996246016,
          0.4432749340244109,
          0.3382114080093792,
          -0.08149571062505023,
          1.054706512426422,
          0.42840307080408696,
          -1.1416823676520806,
          -1.2051615303417365,
          0.12727852193154782,
          1.5308805794798286,
          -0.9927193045515985,
          -1.3366979353879058,
          0.1955269139584091,
          0.7930215179572049,
          1.3146642283206003,
          -1.018328645349817,
          1.528175135223415,
          1.5199500968770436,
          -0.14568948608290364,
          0.673767247732877,
          -0.6291547478631949,
          1.7237260355384059,
          -2.128409866142235,
          -1.2564105832946104,
          -0.9946511182748657,
          1.3286998088243123,
          -0.9073035901180493,
          1.1431477794473277,
          0.3637094958135473,
          -0.5556350676836874,
          -0.784958397741709,
          0.6599181211812783,
          0.9327041584723281,
          0.317808086352773,
          -0.45128432794925066,
          0.02169308947579233,
          -0.38352504449075225,
          0.2007362243585566,
          0.4888528181246676,
          -1.1903891833358475,
          -0.7363204708075135,
          0.5353027969158113,
          -0.009098706058621205,
          -0.38651580048044665,
          -1.9505943181122882,
          -0.5563156651329674,
          -2.137311930174342,
          -1.2725741121684107,
          -0.7820156364185031,
          1.5364104241185321,
          -0.418215415271642,
          1.7995202888116273,
          -1.4828590310985599,
          -1.527662283535423,
          0.9793840714449367,
          0.6974261641817958,
          0.9298674505655383,
          0.1463230889023217,
          0.18558750120210715,
          -0.8649984819098265,
          1.1923650660250928,
          -0.7288791022947565,
          0.16187314515212994,
          0.07901352569282546,
          -0.6864257743133744,
          -0.7638958537068636,
          0.09777129712374978,
          1.9894840606243682,
          0.4452067408586412,
          0.283836967561087,
          0.68803706432445,
          -0.2132472849823426,
          -1.3999549932879618,
          -0.5569138588321604,
          1.647324139450391,
          0.31164492300874735,
          -0.27526326737804385,
          1.3396705591673788,
          1.4354991278104445,
          -0.7754158123349962,
          1.0576465217387125,
          -1.2567399072669017,
          1.417915162857051,
          0.41595710155807697,
          -0.3542636977169401,
          -1.8437068141659367
         ],
         "yaxis": "y4"
        },
        {
         "line": {
          "color": "rgba(128, 128, 128, 1.0)",
          "dash": "solid",
          "shape": "linear",
          "width": 1.3
         },
         "marker": {
          "size": 2,
          "symbol": "circle"
         },
         "mode": "markers",
         "name": "B",
         "text": "",
         "type": "scatter",
         "x": [
          0.34047230985417487,
          -0.5470601833793309,
          -1.2675378278930967,
          0.6491316044070555,
          0.9790849726054258,
          -1.733015324001771,
          2.290389321238637,
          0.036454781028621284,
          -0.9037565027827843,
          -1.0646210198714885,
          -0.7739593465059703,
          1.349709681088898,
          0.023198104431787304,
          0.7097968765591369,
          -1.3190373996246016,
          0.4432749340244109,
          0.3382114080093792,
          -0.08149571062505023,
          1.054706512426422,
          0.42840307080408696,
          -1.1416823676520806,
          -1.2051615303417365,
          0.12727852193154782,
          1.5308805794798286,
          -0.9927193045515985,
          -1.3366979353879058,
          0.1955269139584091,
          0.7930215179572049,
          1.3146642283206003,
          -1.018328645349817,
          1.528175135223415,
          1.5199500968770436,
          -0.14568948608290364,
          0.673767247732877,
          -0.6291547478631949,
          1.7237260355384059,
          -2.128409866142235,
          -1.2564105832946104,
          -0.9946511182748657,
          1.3286998088243123,
          -0.9073035901180493,
          1.1431477794473277,
          0.3637094958135473,
          -0.5556350676836874,
          -0.784958397741709,
          0.6599181211812783,
          0.9327041584723281,
          0.317808086352773,
          -0.45128432794925066,
          0.02169308947579233,
          -0.38352504449075225,
          0.2007362243585566,
          0.4888528181246676,
          -1.1903891833358475,
          -0.7363204708075135,
          0.5353027969158113,
          -0.009098706058621205,
          -0.38651580048044665,
          -1.9505943181122882,
          -0.5563156651329674,
          -2.137311930174342,
          -1.2725741121684107,
          -0.7820156364185031,
          1.5364104241185321,
          -0.418215415271642,
          1.7995202888116273,
          -1.4828590310985599,
          -1.527662283535423,
          0.9793840714449367,
          0.6974261641817958,
          0.9298674505655383,
          0.1463230889023217,
          0.18558750120210715,
          -0.8649984819098265,
          1.1923650660250928,
          -0.7288791022947565,
          0.16187314515212994,
          0.07901352569282546,
          -0.6864257743133744,
          -0.7638958537068636,
          0.09777129712374978,
          1.9894840606243682,
          0.4452067408586412,
          0.283836967561087,
          0.68803706432445,
          -0.2132472849823426,
          -1.3999549932879618,
          -0.5569138588321604,
          1.647324139450391,
          0.31164492300874735,
          -0.27526326737804385,
          1.3396705591673788,
          1.4354991278104445,
          -0.7754158123349962,
          1.0576465217387125,
          -1.2567399072669017,
          1.417915162857051,
          0.41595710155807697,
          -0.3542636977169401,
          -1.8437068141659367
         ],
         "xaxis": "x5",
         "y": [
          1.9943407701544202,
          0.8732976700461123,
          -0.44787696876144895,
          1.0780976820731896,
          1.6078548939101063,
          0.16317980233584287,
          0.5496495894598031,
          1.0102362546831511,
          -0.511917744122489,
          0.281743139062265,
          0.7216725536292614,
          0.1741682812166515,
          0.1785643052722124,
          -0.30481786184645304,
          -1.8509950817133969,
          -0.23778690258463708,
          -0.8630716467228144,
          0.4051284595491349,
          0.011693486607671525,
          -1.140316247327179,
          0.6961449106580708,
          0.07628529046739924,
          -0.15896345593945824,
          -0.914561014980909,
          -0.2899171259555344,
          1.395367474369876,
          0.9559938410991375,
          0.14143756597235277,
          0.9808198546062713,
          -0.9506065975501895,
          0.3328695743314853,
          0.17362323075461195,
          0.8629566207204599,
          0.6711995161432158,
          -1.7252037236321254,
          0.1050150185451266,
          -0.6776206987366905,
          0.9050109638072361,
          0.3120914384835461,
          -0.13682847797414394,
          -1.0338304213946623,
          0.12395061715807465,
          0.38545359854491457,
          1.5558315877417646,
          -0.5525591461019096,
          0.5755905862673705,
          0.11594421839394252,
          2.009669467433262,
          0.6720174995283758,
          3.9800981023976028,
          2.012483027853531,
          -0.0165911044931047,
          0.5436983124669627,
          0.2533224887728271,
          -2.3115522998318236,
          -0.24923560962574012,
          -1.9232267183238132,
          0.05722815876193648,
          -1.666760834897929,
          0.025844967526200354,
          0.5155027670327164,
          0.5022409291069994,
          1.949038917238445,
          -1.4855667244693458,
          0.8178687661814977,
          1.4168279164506383,
          0.11816388408156939,
          0.030444589926006436,
          0.8583597561128744,
          0.1447413788502021,
          1.3857459334031041,
          -0.3462272443036162,
          -0.7601756038235645,
          -0.19531967449619628,
          -0.1736275096618453,
          0.33535248752757185,
          0.42462100759789134,
          0.17980065301228668,
          -0.04382890283922368,
          -0.12302613525369319,
          0.8000120765971616,
          -0.7178499919504112,
          0.2307414841193989,
          2.0714126632499665,
          1.7101980155882819,
          0.9710013499136046,
          -0.6715146320607761,
          -0.38662889542131273,
          -0.009607146099274804,
          -0.7892315730989675,
          -0.0174069311032387,
          0.2380637833909742,
          0.9424713187875836,
          0.24371148622077551,
          0.5877903592172993,
          0.24724599456167232,
          -0.2184726763217426,
          0.6178629971468542,
          -0.5268844662083302,
          0.12452138333049734
         ],
         "yaxis": "y5"
        },
        {
         "histfunc": "count",
         "histnorm": "",
         "marker": {
          "color": "rgba(55, 128, 191, 1.0)",
          "line": {
           "color": "#4D5663",
           "width": 1.3
          }
         },
         "name": "B",
         "nbinsx": 10,
         "opacity": 0.8,
         "orientation": "v",
         "type": "histogram",
         "x": [
          1.9943407701544202,
          0.8732976700461123,
          -0.44787696876144895,
          1.0780976820731896,
          1.6078548939101063,
          0.16317980233584287,
          0.5496495894598031,
          1.0102362546831511,
          -0.511917744122489,
          0.281743139062265,
          0.7216725536292614,
          0.1741682812166515,
          0.1785643052722124,
          -0.30481786184645304,
          -1.8509950817133969,
          -0.23778690258463708,
          -0.8630716467228144,
          0.4051284595491349,
          0.011693486607671525,
          -1.140316247327179,
          0.6961449106580708,
          0.07628529046739924,
          -0.15896345593945824,
          -0.914561014980909,
          -0.2899171259555344,
          1.395367474369876,
          0.9559938410991375,
          0.14143756597235277,
          0.9808198546062713,
          -0.9506065975501895,
          0.3328695743314853,
          0.17362323075461195,
          0.8629566207204599,
          0.6711995161432158,
          -1.7252037236321254,
          0.1050150185451266,
          -0.6776206987366905,
          0.9050109638072361,
          0.3120914384835461,
          -0.13682847797414394,
          -1.0338304213946623,
          0.12395061715807465,
          0.38545359854491457,
          1.5558315877417646,
          -0.5525591461019096,
          0.5755905862673705,
          0.11594421839394252,
          2.009669467433262,
          0.6720174995283758,
          3.9800981023976028,
          2.012483027853531,
          -0.0165911044931047,
          0.5436983124669627,
          0.2533224887728271,
          -2.3115522998318236,
          -0.24923560962574012,
          -1.9232267183238132,
          0.05722815876193648,
          -1.666760834897929,
          0.025844967526200354,
          0.5155027670327164,
          0.5022409291069994,
          1.949038917238445,
          -1.4855667244693458,
          0.8178687661814977,
          1.4168279164506383,
          0.11816388408156939,
          0.030444589926006436,
          0.8583597561128744,
          0.1447413788502021,
          1.3857459334031041,
          -0.3462272443036162,
          -0.7601756038235645,
          -0.19531967449619628,
          -0.1736275096618453,
          0.33535248752757185,
          0.42462100759789134,
          0.17980065301228668,
          -0.04382890283922368,
          -0.12302613525369319,
          0.8000120765971616,
          -0.7178499919504112,
          0.2307414841193989,
          2.0714126632499665,
          1.7101980155882819,
          0.9710013499136046,
          -0.6715146320607761,
          -0.38662889542131273,
          -0.009607146099274804,
          -0.7892315730989675,
          -0.0174069311032387,
          0.2380637833909742,
          0.9424713187875836,
          0.24371148622077551,
          0.5877903592172993,
          0.24724599456167232,
          -0.2184726763217426,
          0.6178629971468542,
          -0.5268844662083302,
          0.12452138333049734
         ],
         "xaxis": "x6",
         "yaxis": "y6"
        },
        {
         "line": {
          "color": "rgba(128, 128, 128, 1.0)",
          "dash": "solid",
          "shape": "linear",
          "width": 1.3
         },
         "marker": {
          "size": 2,
          "symbol": "circle"
         },
         "mode": "markers",
         "name": "B",
         "text": "",
         "type": "scatter",
         "x": [
          -0.04771395406536712,
          -1.5043416811675911,
          -1.0115571512189343,
          -0.3196881580095592,
          -0.48460926456026693,
          1.9324800528343704,
          -0.6750083050666905,
          -1.1928616122136295,
          0.22462422287366487,
          0.8172709744741067,
          1.1322305903744152,
          -0.15709969622329584,
          -1.3774672022747636,
          0.2578436147614736,
          -0.9417276351734839,
          -1.3677279147130692,
          2.531275836486691,
          -2.4247358633491745,
          -1.1743548283392375,
          0.32313460584764103,
          -0.05760005939342712,
          -1.2124084328812565,
          0.4440771525759291,
          -0.5287821003798321,
          0.8877937147896016,
          0.788082572247507,
          -0.4024078037919625,
          0.6768352646931419,
          1.124769340290542,
          1.514974366849765,
          0.24297458585476567,
          -0.6717924323579235,
          0.9700825220303908,
          1.3011011834029327,
          0.5595008546143619,
          -1.9107628935218424,
          0.6186427496640683,
          -1.3160373290467176,
          -0.711531460545435,
          -0.9704509328628098,
          -1.515870252607532,
          1.2685873954064992,
          -0.9373625765813777,
          0.08431574252417799,
          0.6209218652222007,
          -0.34977632773410233,
          0.05742309393247231,
          0.46848099989783293,
          -0.7012016950031474,
          1.6056656668519755,
          0.8897581396029682,
          -0.4397761711110293,
          -0.023013281784482753,
          0.24986744106213793,
          -1.4052573635124295,
          -1.8369821561209823,
          1.146483080516584,
          0.8747052961016265,
          -0.2136239740210405,
          0.18854567408788925,
          1.889355327229068,
          0.5355174486924671,
          1.36892644822141,
          0.725397359400518,
          -0.06354056164120563,
          0.4085339621321921,
          0.3155740523689549,
          1.5308259601478147,
          -2.0652698103461717,
          -0.726915663761446,
          1.1433844012357315,
          -1.301904532381038,
          0.48405131134391616,
          -0.39233488595636745,
          0.6432409606580904,
          -0.7781352236860143,
          0.8410939618043733,
          0.333085900767765,
          -0.057432172242264955,
          1.180448028127175,
          0.05168178418258711,
          0.13279630314547816,
          0.5923226265772704,
          0.7040703331376651,
          -1.2590114830545602,
          0.017285546023253325,
          1.1241265261455342,
          1.106064464217237,
          0.07088827925376733,
          -0.567679453807794,
          0.1260003892331238,
          1.6952764522942068,
          -0.21088715728804597,
          1.225933806417049,
          0.9085444819827736,
          0.5963963921595337,
          -0.6191685292863695,
          -1.3252801506002794,
          1.0356708943482635,
          -0.03329873623661065
         ],
         "xaxis": "x7",
         "y": [
          1.9943407701544202,
          0.8732976700461123,
          -0.44787696876144895,
          1.0780976820731896,
          1.6078548939101063,
          0.16317980233584287,
          0.5496495894598031,
          1.0102362546831511,
          -0.511917744122489,
          0.281743139062265,
          0.7216725536292614,
          0.1741682812166515,
          0.1785643052722124,
          -0.30481786184645304,
          -1.8509950817133969,
          -0.23778690258463708,
          -0.8630716467228144,
          0.4051284595491349,
          0.011693486607671525,
          -1.140316247327179,
          0.6961449106580708,
          0.07628529046739924,
          -0.15896345593945824,
          -0.914561014980909,
          -0.2899171259555344,
          1.395367474369876,
          0.9559938410991375,
          0.14143756597235277,
          0.9808198546062713,
          -0.9506065975501895,
          0.3328695743314853,
          0.17362323075461195,
          0.8629566207204599,
          0.6711995161432158,
          -1.7252037236321254,
          0.1050150185451266,
          -0.6776206987366905,
          0.9050109638072361,
          0.3120914384835461,
          -0.13682847797414394,
          -1.0338304213946623,
          0.12395061715807465,
          0.38545359854491457,
          1.5558315877417646,
          -0.5525591461019096,
          0.5755905862673705,
          0.11594421839394252,
          2.009669467433262,
          0.6720174995283758,
          3.9800981023976028,
          2.012483027853531,
          -0.0165911044931047,
          0.5436983124669627,
          0.2533224887728271,
          -2.3115522998318236,
          -0.24923560962574012,
          -1.9232267183238132,
          0.05722815876193648,
          -1.666760834897929,
          0.025844967526200354,
          0.5155027670327164,
          0.5022409291069994,
          1.949038917238445,
          -1.4855667244693458,
          0.8178687661814977,
          1.4168279164506383,
          0.11816388408156939,
          0.030444589926006436,
          0.8583597561128744,
          0.1447413788502021,
          1.3857459334031041,
          -0.3462272443036162,
          -0.7601756038235645,
          -0.19531967449619628,
          -0.1736275096618453,
          0.33535248752757185,
          0.42462100759789134,
          0.17980065301228668,
          -0.04382890283922368,
          -0.12302613525369319,
          0.8000120765971616,
          -0.7178499919504112,
          0.2307414841193989,
          2.0714126632499665,
          1.7101980155882819,
          0.9710013499136046,
          -0.6715146320607761,
          -0.38662889542131273,
          -0.009607146099274804,
          -0.7892315730989675,
          -0.0174069311032387,
          0.2380637833909742,
          0.9424713187875836,
          0.24371148622077551,
          0.5877903592172993,
          0.24724599456167232,
          -0.2184726763217426,
          0.6178629971468542,
          -0.5268844662083302,
          0.12452138333049734
         ],
         "yaxis": "y7"
        },
        {
         "line": {
          "color": "rgba(128, 128, 128, 1.0)",
          "dash": "solid",
          "shape": "linear",
          "width": 1.3
         },
         "marker": {
          "size": 2,
          "symbol": "circle"
         },
         "mode": "markers",
         "name": "B",
         "text": "",
         "type": "scatter",
         "x": [
          1.2589569333371988,
          -0.031839142990460055,
          0.8189306812569733,
          -1.5246622267306469,
          -0.5063021320591772,
          -1.325476643544345,
          -0.6860637670997545,
          0.26461506776763893,
          -1.3622374707425282,
          -1.1637671181309004,
          -0.6360147100514426,
          -1.2648457466711012,
          1.1729852001238945,
          0.9817917825788705,
          1.158663697693098,
          2.0033356762471572,
          1.151628003613701,
          0.9952248652572545,
          -0.9223129537113125,
          -0.9012094254762871,
          -2.358464908201899,
          -0.8779060902868782,
          1.7780814166977388,
          -1.2837144668636435,
          1.0788074001706647,
          0.770709635679897,
          -1.9878346523176658,
          -0.22118188978377493,
          2.1803495732281513,
          -0.896958042621838,
          1.166657003520393,
          0.5591935822423297,
          -0.09120268790707306,
          1.372362763596523,
          -0.7587802387416756,
          -1.3367390809112585,
          -0.5496673125494758,
          -1.5956698027689833,
          -0.3085149900255551,
          -0.9515740829350039,
          -0.9764054457259063,
          0.20089254558087585,
          -1.1837907353589752,
          0.6273309156347018,
          0.480621080009327,
          -0.9923194436331658,
          -3.028655703581262,
          -0.4429279152892181,
          2.160253584830107,
          0.9596230747544598,
          -0.15095801929746455,
          -1.1792434907178488,
          1.9048354665303866,
          1.589045848139221,
          1.2646665300793827,
          0.3307024069427885,
          -0.42387849561392804,
          0.18918064164554008,
          1.8488605785378829,
          -0.6368917782634007,
          0.8078496252511943,
          -0.18986818989758067,
          -0.31935533376073333,
          -0.6167948807496727,
          -0.36205457928696344,
          0.087666167461351,
          0.47065582674596174,
          -0.8780610254712392,
          -1.0425678809274128,
          0.5748800716291017,
          -1.2005976154785882,
          1.3643716247377509,
          -0.6248742169432608,
          -1.552085522748234,
          0.8088923435765261,
          0.383184951273274,
          -0.04573367626531149,
          0.7506583580900915,
          0.2641442429416921,
          -1.3880184791637802,
          -0.49665476455912105,
          -0.49058018996490355,
          0.5437968834463308,
          -1.2925010205921783,
          0.3688794580477229,
          0.8470476490303701,
          1.4947755226044173,
          -1.1309217018103088,
          -0.6948701616929415,
          0.3308987928289656,
          0.058128707790018594,
          1.085648726485594,
          -0.9028762557922876,
          2.391031754184587,
          -1.6654687376941901,
          0.6788538544656444,
          -0.21499223351475188,
          -0.24686079659496307,
          -0.4784093744551463,
          -0.7504531919618652
         ],
         "xaxis": "x8",
         "y": [
          1.9943407701544202,
          0.8732976700461123,
          -0.44787696876144895,
          1.0780976820731896,
          1.6078548939101063,
          0.16317980233584287,
          0.5496495894598031,
          1.0102362546831511,
          -0.511917744122489,
          0.281743139062265,
          0.7216725536292614,
          0.1741682812166515,
          0.1785643052722124,
          -0.30481786184645304,
          -1.8509950817133969,
          -0.23778690258463708,
          -0.8630716467228144,
          0.4051284595491349,
          0.011693486607671525,
          -1.140316247327179,
          0.6961449106580708,
          0.07628529046739924,
          -0.15896345593945824,
          -0.914561014980909,
          -0.2899171259555344,
          1.395367474369876,
          0.9559938410991375,
          0.14143756597235277,
          0.9808198546062713,
          -0.9506065975501895,
          0.3328695743314853,
          0.17362323075461195,
          0.8629566207204599,
          0.6711995161432158,
          -1.7252037236321254,
          0.1050150185451266,
          -0.6776206987366905,
          0.9050109638072361,
          0.3120914384835461,
          -0.13682847797414394,
          -1.0338304213946623,
          0.12395061715807465,
          0.38545359854491457,
          1.5558315877417646,
          -0.5525591461019096,
          0.5755905862673705,
          0.11594421839394252,
          2.009669467433262,
          0.6720174995283758,
          3.9800981023976028,
          2.012483027853531,
          -0.0165911044931047,
          0.5436983124669627,
          0.2533224887728271,
          -2.3115522998318236,
          -0.24923560962574012,
          -1.9232267183238132,
          0.05722815876193648,
          -1.666760834897929,
          0.025844967526200354,
          0.5155027670327164,
          0.5022409291069994,
          1.949038917238445,
          -1.4855667244693458,
          0.8178687661814977,
          1.4168279164506383,
          0.11816388408156939,
          0.030444589926006436,
          0.8583597561128744,
          0.1447413788502021,
          1.3857459334031041,
          -0.3462272443036162,
          -0.7601756038235645,
          -0.19531967449619628,
          -0.1736275096618453,
          0.33535248752757185,
          0.42462100759789134,
          0.17980065301228668,
          -0.04382890283922368,
          -0.12302613525369319,
          0.8000120765971616,
          -0.7178499919504112,
          0.2307414841193989,
          2.0714126632499665,
          1.7101980155882819,
          0.9710013499136046,
          -0.6715146320607761,
          -0.38662889542131273,
          -0.009607146099274804,
          -0.7892315730989675,
          -0.0174069311032387,
          0.2380637833909742,
          0.9424713187875836,
          0.24371148622077551,
          0.5877903592172993,
          0.24724599456167232,
          -0.2184726763217426,
          0.6178629971468542,
          -0.5268844662083302,
          0.12452138333049734
         ],
         "yaxis": "y8"
        },
        {
         "line": {
          "color": "rgba(128, 128, 128, 1.0)",
          "dash": "solid",
          "shape": "linear",
          "width": 1.3
         },
         "marker": {
          "size": 2,
          "symbol": "circle"
         },
         "mode": "markers",
         "name": "C",
         "text": "",
         "type": "scatter",
         "x": [
          0.34047230985417487,
          -0.5470601833793309,
          -1.2675378278930967,
          0.6491316044070555,
          0.9790849726054258,
          -1.733015324001771,
          2.290389321238637,
          0.036454781028621284,
          -0.9037565027827843,
          -1.0646210198714885,
          -0.7739593465059703,
          1.349709681088898,
          0.023198104431787304,
          0.7097968765591369,
          -1.3190373996246016,
          0.4432749340244109,
          0.3382114080093792,
          -0.08149571062505023,
          1.054706512426422,
          0.42840307080408696,
          -1.1416823676520806,
          -1.2051615303417365,
          0.12727852193154782,
          1.5308805794798286,
          -0.9927193045515985,
          -1.3366979353879058,
          0.1955269139584091,
          0.7930215179572049,
          1.3146642283206003,
          -1.018328645349817,
          1.528175135223415,
          1.5199500968770436,
          -0.14568948608290364,
          0.673767247732877,
          -0.6291547478631949,
          1.7237260355384059,
          -2.128409866142235,
          -1.2564105832946104,
          -0.9946511182748657,
          1.3286998088243123,
          -0.9073035901180493,
          1.1431477794473277,
          0.3637094958135473,
          -0.5556350676836874,
          -0.784958397741709,
          0.6599181211812783,
          0.9327041584723281,
          0.317808086352773,
          -0.45128432794925066,
          0.02169308947579233,
          -0.38352504449075225,
          0.2007362243585566,
          0.4888528181246676,
          -1.1903891833358475,
          -0.7363204708075135,
          0.5353027969158113,
          -0.009098706058621205,
          -0.38651580048044665,
          -1.9505943181122882,
          -0.5563156651329674,
          -2.137311930174342,
          -1.2725741121684107,
          -0.7820156364185031,
          1.5364104241185321,
          -0.418215415271642,
          1.7995202888116273,
          -1.4828590310985599,
          -1.527662283535423,
          0.9793840714449367,
          0.6974261641817958,
          0.9298674505655383,
          0.1463230889023217,
          0.18558750120210715,
          -0.8649984819098265,
          1.1923650660250928,
          -0.7288791022947565,
          0.16187314515212994,
          0.07901352569282546,
          -0.6864257743133744,
          -0.7638958537068636,
          0.09777129712374978,
          1.9894840606243682,
          0.4452067408586412,
          0.283836967561087,
          0.68803706432445,
          -0.2132472849823426,
          -1.3999549932879618,
          -0.5569138588321604,
          1.647324139450391,
          0.31164492300874735,
          -0.27526326737804385,
          1.3396705591673788,
          1.4354991278104445,
          -0.7754158123349962,
          1.0576465217387125,
          -1.2567399072669017,
          1.417915162857051,
          0.41595710155807697,
          -0.3542636977169401,
          -1.8437068141659367
         ],
         "xaxis": "x9",
         "y": [
          -0.04771395406536712,
          -1.5043416811675911,
          -1.0115571512189343,
          -0.3196881580095592,
          -0.48460926456026693,
          1.9324800528343704,
          -0.6750083050666905,
          -1.1928616122136295,
          0.22462422287366487,
          0.8172709744741067,
          1.1322305903744152,
          -0.15709969622329584,
          -1.3774672022747636,
          0.2578436147614736,
          -0.9417276351734839,
          -1.3677279147130692,
          2.531275836486691,
          -2.4247358633491745,
          -1.1743548283392375,
          0.32313460584764103,
          -0.05760005939342712,
          -1.2124084328812565,
          0.4440771525759291,
          -0.5287821003798321,
          0.8877937147896016,
          0.788082572247507,
          -0.4024078037919625,
          0.6768352646931419,
          1.124769340290542,
          1.514974366849765,
          0.24297458585476567,
          -0.6717924323579235,
          0.9700825220303908,
          1.3011011834029327,
          0.5595008546143619,
          -1.9107628935218424,
          0.6186427496640683,
          -1.3160373290467176,
          -0.711531460545435,
          -0.9704509328628098,
          -1.515870252607532,
          1.2685873954064992,
          -0.9373625765813777,
          0.08431574252417799,
          0.6209218652222007,
          -0.34977632773410233,
          0.05742309393247231,
          0.46848099989783293,
          -0.7012016950031474,
          1.6056656668519755,
          0.8897581396029682,
          -0.4397761711110293,
          -0.023013281784482753,
          0.24986744106213793,
          -1.4052573635124295,
          -1.8369821561209823,
          1.146483080516584,
          0.8747052961016265,
          -0.2136239740210405,
          0.18854567408788925,
          1.889355327229068,
          0.5355174486924671,
          1.36892644822141,
          0.725397359400518,
          -0.06354056164120563,
          0.4085339621321921,
          0.3155740523689549,
          1.5308259601478147,
          -2.0652698103461717,
          -0.726915663761446,
          1.1433844012357315,
          -1.301904532381038,
          0.48405131134391616,
          -0.39233488595636745,
          0.6432409606580904,
          -0.7781352236860143,
          0.8410939618043733,
          0.333085900767765,
          -0.057432172242264955,
          1.180448028127175,
          0.05168178418258711,
          0.13279630314547816,
          0.5923226265772704,
          0.7040703331376651,
          -1.2590114830545602,
          0.017285546023253325,
          1.1241265261455342,
          1.106064464217237,
          0.07088827925376733,
          -0.567679453807794,
          0.1260003892331238,
          1.6952764522942068,
          -0.21088715728804597,
          1.225933806417049,
          0.9085444819827736,
          0.5963963921595337,
          -0.6191685292863695,
          -1.3252801506002794,
          1.0356708943482635,
          -0.03329873623661065
         ],
         "yaxis": "y9"
        },
        {
         "line": {
          "color": "rgba(128, 128, 128, 1.0)",
          "dash": "solid",
          "shape": "linear",
          "width": 1.3
         },
         "marker": {
          "size": 2,
          "symbol": "circle"
         },
         "mode": "markers",
         "name": "C",
         "text": "",
         "type": "scatter",
         "x": [
          1.9943407701544202,
          0.8732976700461123,
          -0.44787696876144895,
          1.0780976820731896,
          1.6078548939101063,
          0.16317980233584287,
          0.5496495894598031,
          1.0102362546831511,
          -0.511917744122489,
          0.281743139062265,
          0.7216725536292614,
          0.1741682812166515,
          0.1785643052722124,
          -0.30481786184645304,
          -1.8509950817133969,
          -0.23778690258463708,
          -0.8630716467228144,
          0.4051284595491349,
          0.011693486607671525,
          -1.140316247327179,
          0.6961449106580708,
          0.07628529046739924,
          -0.15896345593945824,
          -0.914561014980909,
          -0.2899171259555344,
          1.395367474369876,
          0.9559938410991375,
          0.14143756597235277,
          0.9808198546062713,
          -0.9506065975501895,
          0.3328695743314853,
          0.17362323075461195,
          0.8629566207204599,
          0.6711995161432158,
          -1.7252037236321254,
          0.1050150185451266,
          -0.6776206987366905,
          0.9050109638072361,
          0.3120914384835461,
          -0.13682847797414394,
          -1.0338304213946623,
          0.12395061715807465,
          0.38545359854491457,
          1.5558315877417646,
          -0.5525591461019096,
          0.5755905862673705,
          0.11594421839394252,
          2.009669467433262,
          0.6720174995283758,
          3.9800981023976028,
          2.012483027853531,
          -0.0165911044931047,
          0.5436983124669627,
          0.2533224887728271,
          -2.3115522998318236,
          -0.24923560962574012,
          -1.9232267183238132,
          0.05722815876193648,
          -1.666760834897929,
          0.025844967526200354,
          0.5155027670327164,
          0.5022409291069994,
          1.949038917238445,
          -1.4855667244693458,
          0.8178687661814977,
          1.4168279164506383,
          0.11816388408156939,
          0.030444589926006436,
          0.8583597561128744,
          0.1447413788502021,
          1.3857459334031041,
          -0.3462272443036162,
          -0.7601756038235645,
          -0.19531967449619628,
          -0.1736275096618453,
          0.33535248752757185,
          0.42462100759789134,
          0.17980065301228668,
          -0.04382890283922368,
          -0.12302613525369319,
          0.8000120765971616,
          -0.7178499919504112,
          0.2307414841193989,
          2.0714126632499665,
          1.7101980155882819,
          0.9710013499136046,
          -0.6715146320607761,
          -0.38662889542131273,
          -0.009607146099274804,
          -0.7892315730989675,
          -0.0174069311032387,
          0.2380637833909742,
          0.9424713187875836,
          0.24371148622077551,
          0.5877903592172993,
          0.24724599456167232,
          -0.2184726763217426,
          0.6178629971468542,
          -0.5268844662083302,
          0.12452138333049734
         ],
         "xaxis": "x10",
         "y": [
          -0.04771395406536712,
          -1.5043416811675911,
          -1.0115571512189343,
          -0.3196881580095592,
          -0.48460926456026693,
          1.9324800528343704,
          -0.6750083050666905,
          -1.1928616122136295,
          0.22462422287366487,
          0.8172709744741067,
          1.1322305903744152,
          -0.15709969622329584,
          -1.3774672022747636,
          0.2578436147614736,
          -0.9417276351734839,
          -1.3677279147130692,
          2.531275836486691,
          -2.4247358633491745,
          -1.1743548283392375,
          0.32313460584764103,
          -0.05760005939342712,
          -1.2124084328812565,
          0.4440771525759291,
          -0.5287821003798321,
          0.8877937147896016,
          0.788082572247507,
          -0.4024078037919625,
          0.6768352646931419,
          1.124769340290542,
          1.514974366849765,
          0.24297458585476567,
          -0.6717924323579235,
          0.9700825220303908,
          1.3011011834029327,
          0.5595008546143619,
          -1.9107628935218424,
          0.6186427496640683,
          -1.3160373290467176,
          -0.711531460545435,
          -0.9704509328628098,
          -1.515870252607532,
          1.2685873954064992,
          -0.9373625765813777,
          0.08431574252417799,
          0.6209218652222007,
          -0.34977632773410233,
          0.05742309393247231,
          0.46848099989783293,
          -0.7012016950031474,
          1.6056656668519755,
          0.8897581396029682,
          -0.4397761711110293,
          -0.023013281784482753,
          0.24986744106213793,
          -1.4052573635124295,
          -1.8369821561209823,
          1.146483080516584,
          0.8747052961016265,
          -0.2136239740210405,
          0.18854567408788925,
          1.889355327229068,
          0.5355174486924671,
          1.36892644822141,
          0.725397359400518,
          -0.06354056164120563,
          0.4085339621321921,
          0.3155740523689549,
          1.5308259601478147,
          -2.0652698103461717,
          -0.726915663761446,
          1.1433844012357315,
          -1.301904532381038,
          0.48405131134391616,
          -0.39233488595636745,
          0.6432409606580904,
          -0.7781352236860143,
          0.8410939618043733,
          0.333085900767765,
          -0.057432172242264955,
          1.180448028127175,
          0.05168178418258711,
          0.13279630314547816,
          0.5923226265772704,
          0.7040703331376651,
          -1.2590114830545602,
          0.017285546023253325,
          1.1241265261455342,
          1.106064464217237,
          0.07088827925376733,
          -0.567679453807794,
          0.1260003892331238,
          1.6952764522942068,
          -0.21088715728804597,
          1.225933806417049,
          0.9085444819827736,
          0.5963963921595337,
          -0.6191685292863695,
          -1.3252801506002794,
          1.0356708943482635,
          -0.03329873623661065
         ],
         "yaxis": "y10"
        },
        {
         "histfunc": "count",
         "histnorm": "",
         "marker": {
          "color": "rgba(50, 171, 96, 1.0)",
          "line": {
           "color": "#4D5663",
           "width": 1.3
          }
         },
         "name": "C",
         "nbinsx": 10,
         "opacity": 0.8,
         "orientation": "v",
         "type": "histogram",
         "x": [
          -0.04771395406536712,
          -1.5043416811675911,
          -1.0115571512189343,
          -0.3196881580095592,
          -0.48460926456026693,
          1.9324800528343704,
          -0.6750083050666905,
          -1.1928616122136295,
          0.22462422287366487,
          0.8172709744741067,
          1.1322305903744152,
          -0.15709969622329584,
          -1.3774672022747636,
          0.2578436147614736,
          -0.9417276351734839,
          -1.3677279147130692,
          2.531275836486691,
          -2.4247358633491745,
          -1.1743548283392375,
          0.32313460584764103,
          -0.05760005939342712,
          -1.2124084328812565,
          0.4440771525759291,
          -0.5287821003798321,
          0.8877937147896016,
          0.788082572247507,
          -0.4024078037919625,
          0.6768352646931419,
          1.124769340290542,
          1.514974366849765,
          0.24297458585476567,
          -0.6717924323579235,
          0.9700825220303908,
          1.3011011834029327,
          0.5595008546143619,
          -1.9107628935218424,
          0.6186427496640683,
          -1.3160373290467176,
          -0.711531460545435,
          -0.9704509328628098,
          -1.515870252607532,
          1.2685873954064992,
          -0.9373625765813777,
          0.08431574252417799,
          0.6209218652222007,
          -0.34977632773410233,
          0.05742309393247231,
          0.46848099989783293,
          -0.7012016950031474,
          1.6056656668519755,
          0.8897581396029682,
          -0.4397761711110293,
          -0.023013281784482753,
          0.24986744106213793,
          -1.4052573635124295,
          -1.8369821561209823,
          1.146483080516584,
          0.8747052961016265,
          -0.2136239740210405,
          0.18854567408788925,
          1.889355327229068,
          0.5355174486924671,
          1.36892644822141,
          0.725397359400518,
          -0.06354056164120563,
          0.4085339621321921,
          0.3155740523689549,
          1.5308259601478147,
          -2.0652698103461717,
          -0.726915663761446,
          1.1433844012357315,
          -1.301904532381038,
          0.48405131134391616,
          -0.39233488595636745,
          0.6432409606580904,
          -0.7781352236860143,
          0.8410939618043733,
          0.333085900767765,
          -0.057432172242264955,
          1.180448028127175,
          0.05168178418258711,
          0.13279630314547816,
          0.5923226265772704,
          0.7040703331376651,
          -1.2590114830545602,
          0.017285546023253325,
          1.1241265261455342,
          1.106064464217237,
          0.07088827925376733,
          -0.567679453807794,
          0.1260003892331238,
          1.6952764522942068,
          -0.21088715728804597,
          1.225933806417049,
          0.9085444819827736,
          0.5963963921595337,
          -0.6191685292863695,
          -1.3252801506002794,
          1.0356708943482635,
          -0.03329873623661065
         ],
         "xaxis": "x11",
         "yaxis": "y11"
        },
        {
         "line": {
          "color": "rgba(128, 128, 128, 1.0)",
          "dash": "solid",
          "shape": "linear",
          "width": 1.3
         },
         "marker": {
          "size": 2,
          "symbol": "circle"
         },
         "mode": "markers",
         "name": "C",
         "text": "",
         "type": "scatter",
         "x": [
          1.2589569333371988,
          -0.031839142990460055,
          0.8189306812569733,
          -1.5246622267306469,
          -0.5063021320591772,
          -1.325476643544345,
          -0.6860637670997545,
          0.26461506776763893,
          -1.3622374707425282,
          -1.1637671181309004,
          -0.6360147100514426,
          -1.2648457466711012,
          1.1729852001238945,
          0.9817917825788705,
          1.158663697693098,
          2.0033356762471572,
          1.151628003613701,
          0.9952248652572545,
          -0.9223129537113125,
          -0.9012094254762871,
          -2.358464908201899,
          -0.8779060902868782,
          1.7780814166977388,
          -1.2837144668636435,
          1.0788074001706647,
          0.770709635679897,
          -1.9878346523176658,
          -0.22118188978377493,
          2.1803495732281513,
          -0.896958042621838,
          1.166657003520393,
          0.5591935822423297,
          -0.09120268790707306,
          1.372362763596523,
          -0.7587802387416756,
          -1.3367390809112585,
          -0.5496673125494758,
          -1.5956698027689833,
          -0.3085149900255551,
          -0.9515740829350039,
          -0.9764054457259063,
          0.20089254558087585,
          -1.1837907353589752,
          0.6273309156347018,
          0.480621080009327,
          -0.9923194436331658,
          -3.028655703581262,
          -0.4429279152892181,
          2.160253584830107,
          0.9596230747544598,
          -0.15095801929746455,
          -1.1792434907178488,
          1.9048354665303866,
          1.589045848139221,
          1.2646665300793827,
          0.3307024069427885,
          -0.42387849561392804,
          0.18918064164554008,
          1.8488605785378829,
          -0.6368917782634007,
          0.8078496252511943,
          -0.18986818989758067,
          -0.31935533376073333,
          -0.6167948807496727,
          -0.36205457928696344,
          0.087666167461351,
          0.47065582674596174,
          -0.8780610254712392,
          -1.0425678809274128,
          0.5748800716291017,
          -1.2005976154785882,
          1.3643716247377509,
          -0.6248742169432608,
          -1.552085522748234,
          0.8088923435765261,
          0.383184951273274,
          -0.04573367626531149,
          0.7506583580900915,
          0.2641442429416921,
          -1.3880184791637802,
          -0.49665476455912105,
          -0.49058018996490355,
          0.5437968834463308,
          -1.2925010205921783,
          0.3688794580477229,
          0.8470476490303701,
          1.4947755226044173,
          -1.1309217018103088,
          -0.6948701616929415,
          0.3308987928289656,
          0.058128707790018594,
          1.085648726485594,
          -0.9028762557922876,
          2.391031754184587,
          -1.6654687376941901,
          0.6788538544656444,
          -0.21499223351475188,
          -0.24686079659496307,
          -0.4784093744551463,
          -0.7504531919618652
         ],
         "xaxis": "x12",
         "y": [
          -0.04771395406536712,
          -1.5043416811675911,
          -1.0115571512189343,
          -0.3196881580095592,
          -0.48460926456026693,
          1.9324800528343704,
          -0.6750083050666905,
          -1.1928616122136295,
          0.22462422287366487,
          0.8172709744741067,
          1.1322305903744152,
          -0.15709969622329584,
          -1.3774672022747636,
          0.2578436147614736,
          -0.9417276351734839,
          -1.3677279147130692,
          2.531275836486691,
          -2.4247358633491745,
          -1.1743548283392375,
          0.32313460584764103,
          -0.05760005939342712,
          -1.2124084328812565,
          0.4440771525759291,
          -0.5287821003798321,
          0.8877937147896016,
          0.788082572247507,
          -0.4024078037919625,
          0.6768352646931419,
          1.124769340290542,
          1.514974366849765,
          0.24297458585476567,
          -0.6717924323579235,
          0.9700825220303908,
          1.3011011834029327,
          0.5595008546143619,
          -1.9107628935218424,
          0.6186427496640683,
          -1.3160373290467176,
          -0.711531460545435,
          -0.9704509328628098,
          -1.515870252607532,
          1.2685873954064992,
          -0.9373625765813777,
          0.08431574252417799,
          0.6209218652222007,
          -0.34977632773410233,
          0.05742309393247231,
          0.46848099989783293,
          -0.7012016950031474,
          1.6056656668519755,
          0.8897581396029682,
          -0.4397761711110293,
          -0.023013281784482753,
          0.24986744106213793,
          -1.4052573635124295,
          -1.8369821561209823,
          1.146483080516584,
          0.8747052961016265,
          -0.2136239740210405,
          0.18854567408788925,
          1.889355327229068,
          0.5355174486924671,
          1.36892644822141,
          0.725397359400518,
          -0.06354056164120563,
          0.4085339621321921,
          0.3155740523689549,
          1.5308259601478147,
          -2.0652698103461717,
          -0.726915663761446,
          1.1433844012357315,
          -1.301904532381038,
          0.48405131134391616,
          -0.39233488595636745,
          0.6432409606580904,
          -0.7781352236860143,
          0.8410939618043733,
          0.333085900767765,
          -0.057432172242264955,
          1.180448028127175,
          0.05168178418258711,
          0.13279630314547816,
          0.5923226265772704,
          0.7040703331376651,
          -1.2590114830545602,
          0.017285546023253325,
          1.1241265261455342,
          1.106064464217237,
          0.07088827925376733,
          -0.567679453807794,
          0.1260003892331238,
          1.6952764522942068,
          -0.21088715728804597,
          1.225933806417049,
          0.9085444819827736,
          0.5963963921595337,
          -0.6191685292863695,
          -1.3252801506002794,
          1.0356708943482635,
          -0.03329873623661065
         ],
         "yaxis": "y12"
        },
        {
         "line": {
          "color": "rgba(128, 128, 128, 1.0)",
          "dash": "solid",
          "shape": "linear",
          "width": 1.3
         },
         "marker": {
          "size": 2,
          "symbol": "circle"
         },
         "mode": "markers",
         "name": "D",
         "text": "",
         "type": "scatter",
         "x": [
          0.34047230985417487,
          -0.5470601833793309,
          -1.2675378278930967,
          0.6491316044070555,
          0.9790849726054258,
          -1.733015324001771,
          2.290389321238637,
          0.036454781028621284,
          -0.9037565027827843,
          -1.0646210198714885,
          -0.7739593465059703,
          1.349709681088898,
          0.023198104431787304,
          0.7097968765591369,
          -1.3190373996246016,
          0.4432749340244109,
          0.3382114080093792,
          -0.08149571062505023,
          1.054706512426422,
          0.42840307080408696,
          -1.1416823676520806,
          -1.2051615303417365,
          0.12727852193154782,
          1.5308805794798286,
          -0.9927193045515985,
          -1.3366979353879058,
          0.1955269139584091,
          0.7930215179572049,
          1.3146642283206003,
          -1.018328645349817,
          1.528175135223415,
          1.5199500968770436,
          -0.14568948608290364,
          0.673767247732877,
          -0.6291547478631949,
          1.7237260355384059,
          -2.128409866142235,
          -1.2564105832946104,
          -0.9946511182748657,
          1.3286998088243123,
          -0.9073035901180493,
          1.1431477794473277,
          0.3637094958135473,
          -0.5556350676836874,
          -0.784958397741709,
          0.6599181211812783,
          0.9327041584723281,
          0.317808086352773,
          -0.45128432794925066,
          0.02169308947579233,
          -0.38352504449075225,
          0.2007362243585566,
          0.4888528181246676,
          -1.1903891833358475,
          -0.7363204708075135,
          0.5353027969158113,
          -0.009098706058621205,
          -0.38651580048044665,
          -1.9505943181122882,
          -0.5563156651329674,
          -2.137311930174342,
          -1.2725741121684107,
          -0.7820156364185031,
          1.5364104241185321,
          -0.418215415271642,
          1.7995202888116273,
          -1.4828590310985599,
          -1.527662283535423,
          0.9793840714449367,
          0.6974261641817958,
          0.9298674505655383,
          0.1463230889023217,
          0.18558750120210715,
          -0.8649984819098265,
          1.1923650660250928,
          -0.7288791022947565,
          0.16187314515212994,
          0.07901352569282546,
          -0.6864257743133744,
          -0.7638958537068636,
          0.09777129712374978,
          1.9894840606243682,
          0.4452067408586412,
          0.283836967561087,
          0.68803706432445,
          -0.2132472849823426,
          -1.3999549932879618,
          -0.5569138588321604,
          1.647324139450391,
          0.31164492300874735,
          -0.27526326737804385,
          1.3396705591673788,
          1.4354991278104445,
          -0.7754158123349962,
          1.0576465217387125,
          -1.2567399072669017,
          1.417915162857051,
          0.41595710155807697,
          -0.3542636977169401,
          -1.8437068141659367
         ],
         "xaxis": "x13",
         "y": [
          1.2589569333371988,
          -0.031839142990460055,
          0.8189306812569733,
          -1.5246622267306469,
          -0.5063021320591772,
          -1.325476643544345,
          -0.6860637670997545,
          0.26461506776763893,
          -1.3622374707425282,
          -1.1637671181309004,
          -0.6360147100514426,
          -1.2648457466711012,
          1.1729852001238945,
          0.9817917825788705,
          1.158663697693098,
          2.0033356762471572,
          1.151628003613701,
          0.9952248652572545,
          -0.9223129537113125,
          -0.9012094254762871,
          -2.358464908201899,
          -0.8779060902868782,
          1.7780814166977388,
          -1.2837144668636435,
          1.0788074001706647,
          0.770709635679897,
          -1.9878346523176658,
          -0.22118188978377493,
          2.1803495732281513,
          -0.896958042621838,
          1.166657003520393,
          0.5591935822423297,
          -0.09120268790707306,
          1.372362763596523,
          -0.7587802387416756,
          -1.3367390809112585,
          -0.5496673125494758,
          -1.5956698027689833,
          -0.3085149900255551,
          -0.9515740829350039,
          -0.9764054457259063,
          0.20089254558087585,
          -1.1837907353589752,
          0.6273309156347018,
          0.480621080009327,
          -0.9923194436331658,
          -3.028655703581262,
          -0.4429279152892181,
          2.160253584830107,
          0.9596230747544598,
          -0.15095801929746455,
          -1.1792434907178488,
          1.9048354665303866,
          1.589045848139221,
          1.2646665300793827,
          0.3307024069427885,
          -0.42387849561392804,
          0.18918064164554008,
          1.8488605785378829,
          -0.6368917782634007,
          0.8078496252511943,
          -0.18986818989758067,
          -0.31935533376073333,
          -0.6167948807496727,
          -0.36205457928696344,
          0.087666167461351,
          0.47065582674596174,
          -0.8780610254712392,
          -1.0425678809274128,
          0.5748800716291017,
          -1.2005976154785882,
          1.3643716247377509,
          -0.6248742169432608,
          -1.552085522748234,
          0.8088923435765261,
          0.383184951273274,
          -0.04573367626531149,
          0.7506583580900915,
          0.2641442429416921,
          -1.3880184791637802,
          -0.49665476455912105,
          -0.49058018996490355,
          0.5437968834463308,
          -1.2925010205921783,
          0.3688794580477229,
          0.8470476490303701,
          1.4947755226044173,
          -1.1309217018103088,
          -0.6948701616929415,
          0.3308987928289656,
          0.058128707790018594,
          1.085648726485594,
          -0.9028762557922876,
          2.391031754184587,
          -1.6654687376941901,
          0.6788538544656444,
          -0.21499223351475188,
          -0.24686079659496307,
          -0.4784093744551463,
          -0.7504531919618652
         ],
         "yaxis": "y13"
        },
        {
         "line": {
          "color": "rgba(128, 128, 128, 1.0)",
          "dash": "solid",
          "shape": "linear",
          "width": 1.3
         },
         "marker": {
          "size": 2,
          "symbol": "circle"
         },
         "mode": "markers",
         "name": "D",
         "text": "",
         "type": "scatter",
         "x": [
          1.9943407701544202,
          0.8732976700461123,
          -0.44787696876144895,
          1.0780976820731896,
          1.6078548939101063,
          0.16317980233584287,
          0.5496495894598031,
          1.0102362546831511,
          -0.511917744122489,
          0.281743139062265,
          0.7216725536292614,
          0.1741682812166515,
          0.1785643052722124,
          -0.30481786184645304,
          -1.8509950817133969,
          -0.23778690258463708,
          -0.8630716467228144,
          0.4051284595491349,
          0.011693486607671525,
          -1.140316247327179,
          0.6961449106580708,
          0.07628529046739924,
          -0.15896345593945824,
          -0.914561014980909,
          -0.2899171259555344,
          1.395367474369876,
          0.9559938410991375,
          0.14143756597235277,
          0.9808198546062713,
          -0.9506065975501895,
          0.3328695743314853,
          0.17362323075461195,
          0.8629566207204599,
          0.6711995161432158,
          -1.7252037236321254,
          0.1050150185451266,
          -0.6776206987366905,
          0.9050109638072361,
          0.3120914384835461,
          -0.13682847797414394,
          -1.0338304213946623,
          0.12395061715807465,
          0.38545359854491457,
          1.5558315877417646,
          -0.5525591461019096,
          0.5755905862673705,
          0.11594421839394252,
          2.009669467433262,
          0.6720174995283758,
          3.9800981023976028,
          2.012483027853531,
          -0.0165911044931047,
          0.5436983124669627,
          0.2533224887728271,
          -2.3115522998318236,
          -0.24923560962574012,
          -1.9232267183238132,
          0.05722815876193648,
          -1.666760834897929,
          0.025844967526200354,
          0.5155027670327164,
          0.5022409291069994,
          1.949038917238445,
          -1.4855667244693458,
          0.8178687661814977,
          1.4168279164506383,
          0.11816388408156939,
          0.030444589926006436,
          0.8583597561128744,
          0.1447413788502021,
          1.3857459334031041,
          -0.3462272443036162,
          -0.7601756038235645,
          -0.19531967449619628,
          -0.1736275096618453,
          0.33535248752757185,
          0.42462100759789134,
          0.17980065301228668,
          -0.04382890283922368,
          -0.12302613525369319,
          0.8000120765971616,
          -0.7178499919504112,
          0.2307414841193989,
          2.0714126632499665,
          1.7101980155882819,
          0.9710013499136046,
          -0.6715146320607761,
          -0.38662889542131273,
          -0.009607146099274804,
          -0.7892315730989675,
          -0.0174069311032387,
          0.2380637833909742,
          0.9424713187875836,
          0.24371148622077551,
          0.5877903592172993,
          0.24724599456167232,
          -0.2184726763217426,
          0.6178629971468542,
          -0.5268844662083302,
          0.12452138333049734
         ],
         "xaxis": "x14",
         "y": [
          1.2589569333371988,
          -0.031839142990460055,
          0.8189306812569733,
          -1.5246622267306469,
          -0.5063021320591772,
          -1.325476643544345,
          -0.6860637670997545,
          0.26461506776763893,
          -1.3622374707425282,
          -1.1637671181309004,
          -0.6360147100514426,
          -1.2648457466711012,
          1.1729852001238945,
          0.9817917825788705,
          1.158663697693098,
          2.0033356762471572,
          1.151628003613701,
          0.9952248652572545,
          -0.9223129537113125,
          -0.9012094254762871,
          -2.358464908201899,
          -0.8779060902868782,
          1.7780814166977388,
          -1.2837144668636435,
          1.0788074001706647,
          0.770709635679897,
          -1.9878346523176658,
          -0.22118188978377493,
          2.1803495732281513,
          -0.896958042621838,
          1.166657003520393,
          0.5591935822423297,
          -0.09120268790707306,
          1.372362763596523,
          -0.7587802387416756,
          -1.3367390809112585,
          -0.5496673125494758,
          -1.5956698027689833,
          -0.3085149900255551,
          -0.9515740829350039,
          -0.9764054457259063,
          0.20089254558087585,
          -1.1837907353589752,
          0.6273309156347018,
          0.480621080009327,
          -0.9923194436331658,
          -3.028655703581262,
          -0.4429279152892181,
          2.160253584830107,
          0.9596230747544598,
          -0.15095801929746455,
          -1.1792434907178488,
          1.9048354665303866,
          1.589045848139221,
          1.2646665300793827,
          0.3307024069427885,
          -0.42387849561392804,
          0.18918064164554008,
          1.8488605785378829,
          -0.6368917782634007,
          0.8078496252511943,
          -0.18986818989758067,
          -0.31935533376073333,
          -0.6167948807496727,
          -0.36205457928696344,
          0.087666167461351,
          0.47065582674596174,
          -0.8780610254712392,
          -1.0425678809274128,
          0.5748800716291017,
          -1.2005976154785882,
          1.3643716247377509,
          -0.6248742169432608,
          -1.552085522748234,
          0.8088923435765261,
          0.383184951273274,
          -0.04573367626531149,
          0.7506583580900915,
          0.2641442429416921,
          -1.3880184791637802,
          -0.49665476455912105,
          -0.49058018996490355,
          0.5437968834463308,
          -1.2925010205921783,
          0.3688794580477229,
          0.8470476490303701,
          1.4947755226044173,
          -1.1309217018103088,
          -0.6948701616929415,
          0.3308987928289656,
          0.058128707790018594,
          1.085648726485594,
          -0.9028762557922876,
          2.391031754184587,
          -1.6654687376941901,
          0.6788538544656444,
          -0.21499223351475188,
          -0.24686079659496307,
          -0.4784093744551463,
          -0.7504531919618652
         ],
         "yaxis": "y14"
        },
        {
         "line": {
          "color": "rgba(128, 128, 128, 1.0)",
          "dash": "solid",
          "shape": "linear",
          "width": 1.3
         },
         "marker": {
          "size": 2,
          "symbol": "circle"
         },
         "mode": "markers",
         "name": "D",
         "text": "",
         "type": "scatter",
         "x": [
          -0.04771395406536712,
          -1.5043416811675911,
          -1.0115571512189343,
          -0.3196881580095592,
          -0.48460926456026693,
          1.9324800528343704,
          -0.6750083050666905,
          -1.1928616122136295,
          0.22462422287366487,
          0.8172709744741067,
          1.1322305903744152,
          -0.15709969622329584,
          -1.3774672022747636,
          0.2578436147614736,
          -0.9417276351734839,
          -1.3677279147130692,
          2.531275836486691,
          -2.4247358633491745,
          -1.1743548283392375,
          0.32313460584764103,
          -0.05760005939342712,
          -1.2124084328812565,
          0.4440771525759291,
          -0.5287821003798321,
          0.8877937147896016,
          0.788082572247507,
          -0.4024078037919625,
          0.6768352646931419,
          1.124769340290542,
          1.514974366849765,
          0.24297458585476567,
          -0.6717924323579235,
          0.9700825220303908,
          1.3011011834029327,
          0.5595008546143619,
          -1.9107628935218424,
          0.6186427496640683,
          -1.3160373290467176,
          -0.711531460545435,
          -0.9704509328628098,
          -1.515870252607532,
          1.2685873954064992,
          -0.9373625765813777,
          0.08431574252417799,
          0.6209218652222007,
          -0.34977632773410233,
          0.05742309393247231,
          0.46848099989783293,
          -0.7012016950031474,
          1.6056656668519755,
          0.8897581396029682,
          -0.4397761711110293,
          -0.023013281784482753,
          0.24986744106213793,
          -1.4052573635124295,
          -1.8369821561209823,
          1.146483080516584,
          0.8747052961016265,
          -0.2136239740210405,
          0.18854567408788925,
          1.889355327229068,
          0.5355174486924671,
          1.36892644822141,
          0.725397359400518,
          -0.06354056164120563,
          0.4085339621321921,
          0.3155740523689549,
          1.5308259601478147,
          -2.0652698103461717,
          -0.726915663761446,
          1.1433844012357315,
          -1.301904532381038,
          0.48405131134391616,
          -0.39233488595636745,
          0.6432409606580904,
          -0.7781352236860143,
          0.8410939618043733,
          0.333085900767765,
          -0.057432172242264955,
          1.180448028127175,
          0.05168178418258711,
          0.13279630314547816,
          0.5923226265772704,
          0.7040703331376651,
          -1.2590114830545602,
          0.017285546023253325,
          1.1241265261455342,
          1.106064464217237,
          0.07088827925376733,
          -0.567679453807794,
          0.1260003892331238,
          1.6952764522942068,
          -0.21088715728804597,
          1.225933806417049,
          0.9085444819827736,
          0.5963963921595337,
          -0.6191685292863695,
          -1.3252801506002794,
          1.0356708943482635,
          -0.03329873623661065
         ],
         "xaxis": "x15",
         "y": [
          1.2589569333371988,
          -0.031839142990460055,
          0.8189306812569733,
          -1.5246622267306469,
          -0.5063021320591772,
          -1.325476643544345,
          -0.6860637670997545,
          0.26461506776763893,
          -1.3622374707425282,
          -1.1637671181309004,
          -0.6360147100514426,
          -1.2648457466711012,
          1.1729852001238945,
          0.9817917825788705,
          1.158663697693098,
          2.0033356762471572,
          1.151628003613701,
          0.9952248652572545,
          -0.9223129537113125,
          -0.9012094254762871,
          -2.358464908201899,
          -0.8779060902868782,
          1.7780814166977388,
          -1.2837144668636435,
          1.0788074001706647,
          0.770709635679897,
          -1.9878346523176658,
          -0.22118188978377493,
          2.1803495732281513,
          -0.896958042621838,
          1.166657003520393,
          0.5591935822423297,
          -0.09120268790707306,
          1.372362763596523,
          -0.7587802387416756,
          -1.3367390809112585,
          -0.5496673125494758,
          -1.5956698027689833,
          -0.3085149900255551,
          -0.9515740829350039,
          -0.9764054457259063,
          0.20089254558087585,
          -1.1837907353589752,
          0.6273309156347018,
          0.480621080009327,
          -0.9923194436331658,
          -3.028655703581262,
          -0.4429279152892181,
          2.160253584830107,
          0.9596230747544598,
          -0.15095801929746455,
          -1.1792434907178488,
          1.9048354665303866,
          1.589045848139221,
          1.2646665300793827,
          0.3307024069427885,
          -0.42387849561392804,
          0.18918064164554008,
          1.8488605785378829,
          -0.6368917782634007,
          0.8078496252511943,
          -0.18986818989758067,
          -0.31935533376073333,
          -0.6167948807496727,
          -0.36205457928696344,
          0.087666167461351,
          0.47065582674596174,
          -0.8780610254712392,
          -1.0425678809274128,
          0.5748800716291017,
          -1.2005976154785882,
          1.3643716247377509,
          -0.6248742169432608,
          -1.552085522748234,
          0.8088923435765261,
          0.383184951273274,
          -0.04573367626531149,
          0.7506583580900915,
          0.2641442429416921,
          -1.3880184791637802,
          -0.49665476455912105,
          -0.49058018996490355,
          0.5437968834463308,
          -1.2925010205921783,
          0.3688794580477229,
          0.8470476490303701,
          1.4947755226044173,
          -1.1309217018103088,
          -0.6948701616929415,
          0.3308987928289656,
          0.058128707790018594,
          1.085648726485594,
          -0.9028762557922876,
          2.391031754184587,
          -1.6654687376941901,
          0.6788538544656444,
          -0.21499223351475188,
          -0.24686079659496307,
          -0.4784093744551463,
          -0.7504531919618652
         ],
         "yaxis": "y15"
        },
        {
         "histfunc": "count",
         "histnorm": "",
         "marker": {
          "color": "rgba(128, 0, 128, 1.0)",
          "line": {
           "color": "#4D5663",
           "width": 1.3
          }
         },
         "name": "D",
         "nbinsx": 10,
         "opacity": 0.8,
         "orientation": "v",
         "type": "histogram",
         "x": [
          1.2589569333371988,
          -0.031839142990460055,
          0.8189306812569733,
          -1.5246622267306469,
          -0.5063021320591772,
          -1.325476643544345,
          -0.6860637670997545,
          0.26461506776763893,
          -1.3622374707425282,
          -1.1637671181309004,
          -0.6360147100514426,
          -1.2648457466711012,
          1.1729852001238945,
          0.9817917825788705,
          1.158663697693098,
          2.0033356762471572,
          1.151628003613701,
          0.9952248652572545,
          -0.9223129537113125,
          -0.9012094254762871,
          -2.358464908201899,
          -0.8779060902868782,
          1.7780814166977388,
          -1.2837144668636435,
          1.0788074001706647,
          0.770709635679897,
          -1.9878346523176658,
          -0.22118188978377493,
          2.1803495732281513,
          -0.896958042621838,
          1.166657003520393,
          0.5591935822423297,
          -0.09120268790707306,
          1.372362763596523,
          -0.7587802387416756,
          -1.3367390809112585,
          -0.5496673125494758,
          -1.5956698027689833,
          -0.3085149900255551,
          -0.9515740829350039,
          -0.9764054457259063,
          0.20089254558087585,
          -1.1837907353589752,
          0.6273309156347018,
          0.480621080009327,
          -0.9923194436331658,
          -3.028655703581262,
          -0.4429279152892181,
          2.160253584830107,
          0.9596230747544598,
          -0.15095801929746455,
          -1.1792434907178488,
          1.9048354665303866,
          1.589045848139221,
          1.2646665300793827,
          0.3307024069427885,
          -0.42387849561392804,
          0.18918064164554008,
          1.8488605785378829,
          -0.6368917782634007,
          0.8078496252511943,
          -0.18986818989758067,
          -0.31935533376073333,
          -0.6167948807496727,
          -0.36205457928696344,
          0.087666167461351,
          0.47065582674596174,
          -0.8780610254712392,
          -1.0425678809274128,
          0.5748800716291017,
          -1.2005976154785882,
          1.3643716247377509,
          -0.6248742169432608,
          -1.552085522748234,
          0.8088923435765261,
          0.383184951273274,
          -0.04573367626531149,
          0.7506583580900915,
          0.2641442429416921,
          -1.3880184791637802,
          -0.49665476455912105,
          -0.49058018996490355,
          0.5437968834463308,
          -1.2925010205921783,
          0.3688794580477229,
          0.8470476490303701,
          1.4947755226044173,
          -1.1309217018103088,
          -0.6948701616929415,
          0.3308987928289656,
          0.058128707790018594,
          1.085648726485594,
          -0.9028762557922876,
          2.391031754184587,
          -1.6654687376941901,
          0.6788538544656444,
          -0.21499223351475188,
          -0.24686079659496307,
          -0.4784093744551463,
          -0.7504531919618652
         ],
         "xaxis": "x16",
         "yaxis": "y16"
        }
       ],
       "layout": {
        "bargap": 0.02,
        "legend": {
         "bgcolor": "#F5F6F9",
         "font": {
          "color": "#4D5663"
         }
        },
        "paper_bgcolor": "#F5F6F9",
        "plot_bgcolor": "#F5F6F9",
        "showlegend": false,
        "template": {
         "data": {
          "bar": [
           {
            "error_x": {
             "color": "#2a3f5f"
            },
            "error_y": {
             "color": "#2a3f5f"
            },
            "marker": {
             "line": {
              "color": "#E5ECF6",
              "width": 0.5
             }
            },
            "type": "bar"
           }
          ],
          "barpolar": [
           {
            "marker": {
             "line": {
              "color": "#E5ECF6",
              "width": 0.5
             }
            },
            "type": "barpolar"
           }
          ],
          "carpet": [
           {
            "aaxis": {
             "endlinecolor": "#2a3f5f",
             "gridcolor": "white",
             "linecolor": "white",
             "minorgridcolor": "white",
             "startlinecolor": "#2a3f5f"
            },
            "baxis": {
             "endlinecolor": "#2a3f5f",
             "gridcolor": "white",
             "linecolor": "white",
             "minorgridcolor": "white",
             "startlinecolor": "#2a3f5f"
            },
            "type": "carpet"
           }
          ],
          "choropleth": [
           {
            "colorbar": {
             "outlinewidth": 0,
             "ticks": ""
            },
            "type": "choropleth"
           }
          ],
          "contour": [
           {
            "colorbar": {
             "outlinewidth": 0,
             "ticks": ""
            },
            "colorscale": [
             [
              0,
              "#0d0887"
             ],
             [
              0.1111111111111111,
              "#46039f"
             ],
             [
              0.2222222222222222,
              "#7201a8"
             ],
             [
              0.3333333333333333,
              "#9c179e"
             ],
             [
              0.4444444444444444,
              "#bd3786"
             ],
             [
              0.5555555555555556,
              "#d8576b"
             ],
             [
              0.6666666666666666,
              "#ed7953"
             ],
             [
              0.7777777777777778,
              "#fb9f3a"
             ],
             [
              0.8888888888888888,
              "#fdca26"
             ],
             [
              1,
              "#f0f921"
             ]
            ],
            "type": "contour"
           }
          ],
          "contourcarpet": [
           {
            "colorbar": {
             "outlinewidth": 0,
             "ticks": ""
            },
            "type": "contourcarpet"
           }
          ],
          "heatmap": [
           {
            "colorbar": {
             "outlinewidth": 0,
             "ticks": ""
            },
            "colorscale": [
             [
              0,
              "#0d0887"
             ],
             [
              0.1111111111111111,
              "#46039f"
             ],
             [
              0.2222222222222222,
              "#7201a8"
             ],
             [
              0.3333333333333333,
              "#9c179e"
             ],
             [
              0.4444444444444444,
              "#bd3786"
             ],
             [
              0.5555555555555556,
              "#d8576b"
             ],
             [
              0.6666666666666666,
              "#ed7953"
             ],
             [
              0.7777777777777778,
              "#fb9f3a"
             ],
             [
              0.8888888888888888,
              "#fdca26"
             ],
             [
              1,
              "#f0f921"
             ]
            ],
            "type": "heatmap"
           }
          ],
          "heatmapgl": [
           {
            "colorbar": {
             "outlinewidth": 0,
             "ticks": ""
            },
            "colorscale": [
             [
              0,
              "#0d0887"
             ],
             [
              0.1111111111111111,
              "#46039f"
             ],
             [
              0.2222222222222222,
              "#7201a8"
             ],
             [
              0.3333333333333333,
              "#9c179e"
             ],
             [
              0.4444444444444444,
              "#bd3786"
             ],
             [
              0.5555555555555556,
              "#d8576b"
             ],
             [
              0.6666666666666666,
              "#ed7953"
             ],
             [
              0.7777777777777778,
              "#fb9f3a"
             ],
             [
              0.8888888888888888,
              "#fdca26"
             ],
             [
              1,
              "#f0f921"
             ]
            ],
            "type": "heatmapgl"
           }
          ],
          "histogram": [
           {
            "marker": {
             "colorbar": {
              "outlinewidth": 0,
              "ticks": ""
             }
            },
            "type": "histogram"
           }
          ],
          "histogram2d": [
           {
            "colorbar": {
             "outlinewidth": 0,
             "ticks": ""
            },
            "colorscale": [
             [
              0,
              "#0d0887"
             ],
             [
              0.1111111111111111,
              "#46039f"
             ],
             [
              0.2222222222222222,
              "#7201a8"
             ],
             [
              0.3333333333333333,
              "#9c179e"
             ],
             [
              0.4444444444444444,
              "#bd3786"
             ],
             [
              0.5555555555555556,
              "#d8576b"
             ],
             [
              0.6666666666666666,
              "#ed7953"
             ],
             [
              0.7777777777777778,
              "#fb9f3a"
             ],
             [
              0.8888888888888888,
              "#fdca26"
             ],
             [
              1,
              "#f0f921"
             ]
            ],
            "type": "histogram2d"
           }
          ],
          "histogram2dcontour": [
           {
            "colorbar": {
             "outlinewidth": 0,
             "ticks": ""
            },
            "colorscale": [
             [
              0,
              "#0d0887"
             ],
             [
              0.1111111111111111,
              "#46039f"
             ],
             [
              0.2222222222222222,
              "#7201a8"
             ],
             [
              0.3333333333333333,
              "#9c179e"
             ],
             [
              0.4444444444444444,
              "#bd3786"
             ],
             [
              0.5555555555555556,
              "#d8576b"
             ],
             [
              0.6666666666666666,
              "#ed7953"
             ],
             [
              0.7777777777777778,
              "#fb9f3a"
             ],
             [
              0.8888888888888888,
              "#fdca26"
             ],
             [
              1,
              "#f0f921"
             ]
            ],
            "type": "histogram2dcontour"
           }
          ],
          "mesh3d": [
           {
            "colorbar": {
             "outlinewidth": 0,
             "ticks": ""
            },
            "type": "mesh3d"
           }
          ],
          "parcoords": [
           {
            "line": {
             "colorbar": {
              "outlinewidth": 0,
              "ticks": ""
             }
            },
            "type": "parcoords"
           }
          ],
          "pie": [
           {
            "automargin": true,
            "type": "pie"
           }
          ],
          "scatter": [
           {
            "marker": {
             "colorbar": {
              "outlinewidth": 0,
              "ticks": ""
             }
            },
            "type": "scatter"
           }
          ],
          "scatter3d": [
           {
            "line": {
             "colorbar": {
              "outlinewidth": 0,
              "ticks": ""
             }
            },
            "marker": {
             "colorbar": {
              "outlinewidth": 0,
              "ticks": ""
             }
            },
            "type": "scatter3d"
           }
          ],
          "scattercarpet": [
           {
            "marker": {
             "colorbar": {
              "outlinewidth": 0,
              "ticks": ""
             }
            },
            "type": "scattercarpet"
           }
          ],
          "scattergeo": [
           {
            "marker": {
             "colorbar": {
              "outlinewidth": 0,
              "ticks": ""
             }
            },
            "type": "scattergeo"
           }
          ],
          "scattergl": [
           {
            "marker": {
             "colorbar": {
              "outlinewidth": 0,
              "ticks": ""
             }
            },
            "type": "scattergl"
           }
          ],
          "scattermapbox": [
           {
            "marker": {
             "colorbar": {
              "outlinewidth": 0,
              "ticks": ""
             }
            },
            "type": "scattermapbox"
           }
          ],
          "scatterpolar": [
           {
            "marker": {
             "colorbar": {
              "outlinewidth": 0,
              "ticks": ""
             }
            },
            "type": "scatterpolar"
           }
          ],
          "scatterpolargl": [
           {
            "marker": {
             "colorbar": {
              "outlinewidth": 0,
              "ticks": ""
             }
            },
            "type": "scatterpolargl"
           }
          ],
          "scatterternary": [
           {
            "marker": {
             "colorbar": {
              "outlinewidth": 0,
              "ticks": ""
             }
            },
            "type": "scatterternary"
           }
          ],
          "surface": [
           {
            "colorbar": {
             "outlinewidth": 0,
             "ticks": ""
            },
            "colorscale": [
             [
              0,
              "#0d0887"
             ],
             [
              0.1111111111111111,
              "#46039f"
             ],
             [
              0.2222222222222222,
              "#7201a8"
             ],
             [
              0.3333333333333333,
              "#9c179e"
             ],
             [
              0.4444444444444444,
              "#bd3786"
             ],
             [
              0.5555555555555556,
              "#d8576b"
             ],
             [
              0.6666666666666666,
              "#ed7953"
             ],
             [
              0.7777777777777778,
              "#fb9f3a"
             ],
             [
              0.8888888888888888,
              "#fdca26"
             ],
             [
              1,
              "#f0f921"
             ]
            ],
            "type": "surface"
           }
          ],
          "table": [
           {
            "cells": {
             "fill": {
              "color": "#EBF0F8"
             },
             "line": {
              "color": "white"
             }
            },
            "header": {
             "fill": {
              "color": "#C8D4E3"
             },
             "line": {
              "color": "white"
             }
            },
            "type": "table"
           }
          ]
         },
         "layout": {
          "annotationdefaults": {
           "arrowcolor": "#2a3f5f",
           "arrowhead": 0,
           "arrowwidth": 1
          },
          "coloraxis": {
           "colorbar": {
            "outlinewidth": 0,
            "ticks": ""
           }
          },
          "colorscale": {
           "diverging": [
            [
             0,
             "#8e0152"
            ],
            [
             0.1,
             "#c51b7d"
            ],
            [
             0.2,
             "#de77ae"
            ],
            [
             0.3,
             "#f1b6da"
            ],
            [
             0.4,
             "#fde0ef"
            ],
            [
             0.5,
             "#f7f7f7"
            ],
            [
             0.6,
             "#e6f5d0"
            ],
            [
             0.7,
             "#b8e186"
            ],
            [
             0.8,
             "#7fbc41"
            ],
            [
             0.9,
             "#4d9221"
            ],
            [
             1,
             "#276419"
            ]
           ],
           "sequential": [
            [
             0,
             "#0d0887"
            ],
            [
             0.1111111111111111,
             "#46039f"
            ],
            [
             0.2222222222222222,
             "#7201a8"
            ],
            [
             0.3333333333333333,
             "#9c179e"
            ],
            [
             0.4444444444444444,
             "#bd3786"
            ],
            [
             0.5555555555555556,
             "#d8576b"
            ],
            [
             0.6666666666666666,
             "#ed7953"
            ],
            [
             0.7777777777777778,
             "#fb9f3a"
            ],
            [
             0.8888888888888888,
             "#fdca26"
            ],
            [
             1,
             "#f0f921"
            ]
           ],
           "sequentialminus": [
            [
             0,
             "#0d0887"
            ],
            [
             0.1111111111111111,
             "#46039f"
            ],
            [
             0.2222222222222222,
             "#7201a8"
            ],
            [
             0.3333333333333333,
             "#9c179e"
            ],
            [
             0.4444444444444444,
             "#bd3786"
            ],
            [
             0.5555555555555556,
             "#d8576b"
            ],
            [
             0.6666666666666666,
             "#ed7953"
            ],
            [
             0.7777777777777778,
             "#fb9f3a"
            ],
            [
             0.8888888888888888,
             "#fdca26"
            ],
            [
             1,
             "#f0f921"
            ]
           ]
          },
          "colorway": [
           "#636efa",
           "#EF553B",
           "#00cc96",
           "#ab63fa",
           "#FFA15A",
           "#19d3f3",
           "#FF6692",
           "#B6E880",
           "#FF97FF",
           "#FECB52"
          ],
          "font": {
           "color": "#2a3f5f"
          },
          "geo": {
           "bgcolor": "white",
           "lakecolor": "white",
           "landcolor": "#E5ECF6",
           "showlakes": true,
           "showland": true,
           "subunitcolor": "white"
          },
          "hoverlabel": {
           "align": "left"
          },
          "hovermode": "closest",
          "mapbox": {
           "style": "light"
          },
          "paper_bgcolor": "white",
          "plot_bgcolor": "#E5ECF6",
          "polar": {
           "angularaxis": {
            "gridcolor": "white",
            "linecolor": "white",
            "ticks": ""
           },
           "bgcolor": "#E5ECF6",
           "radialaxis": {
            "gridcolor": "white",
            "linecolor": "white",
            "ticks": ""
           }
          },
          "scene": {
           "xaxis": {
            "backgroundcolor": "#E5ECF6",
            "gridcolor": "white",
            "gridwidth": 2,
            "linecolor": "white",
            "showbackground": true,
            "ticks": "",
            "zerolinecolor": "white"
           },
           "yaxis": {
            "backgroundcolor": "#E5ECF6",
            "gridcolor": "white",
            "gridwidth": 2,
            "linecolor": "white",
            "showbackground": true,
            "ticks": "",
            "zerolinecolor": "white"
           },
           "zaxis": {
            "backgroundcolor": "#E5ECF6",
            "gridcolor": "white",
            "gridwidth": 2,
            "linecolor": "white",
            "showbackground": true,
            "ticks": "",
            "zerolinecolor": "white"
           }
          },
          "shapedefaults": {
           "line": {
            "color": "#2a3f5f"
           }
          },
          "ternary": {
           "aaxis": {
            "gridcolor": "white",
            "linecolor": "white",
            "ticks": ""
           },
           "baxis": {
            "gridcolor": "white",
            "linecolor": "white",
            "ticks": ""
           },
           "bgcolor": "#E5ECF6",
           "caxis": {
            "gridcolor": "white",
            "linecolor": "white",
            "ticks": ""
           }
          },
          "title": {
           "x": 0.05
          },
          "xaxis": {
           "automargin": true,
           "gridcolor": "white",
           "linecolor": "white",
           "ticks": "",
           "title": {
            "standoff": 15
           },
           "zerolinecolor": "white",
           "zerolinewidth": 2
          },
          "yaxis": {
           "automargin": true,
           "gridcolor": "white",
           "linecolor": "white",
           "ticks": "",
           "title": {
            "standoff": 15
           },
           "zerolinecolor": "white",
           "zerolinewidth": 2
          }
         }
        },
        "title": {
         "font": {
          "color": "#4D5663"
         }
        },
        "xaxis": {
         "anchor": "y",
         "domain": [
          0,
          0.2125
         ],
         "gridcolor": "#E1E5ED",
         "showgrid": false,
         "tickfont": {
          "color": "#4D5663"
         },
         "title": {
          "font": {
           "color": "#4D5663"
          },
          "text": ""
         },
         "zerolinecolor": "#E1E5ED"
        },
        "xaxis10": {
         "anchor": "y10",
         "domain": [
          0.2625,
          0.475
         ],
         "gridcolor": "#E1E5ED",
         "showgrid": false,
         "tickfont": {
          "color": "#4D5663"
         },
         "title": {
          "font": {
           "color": "#4D5663"
          },
          "text": ""
         },
         "zerolinecolor": "#E1E5ED"
        },
        "xaxis11": {
         "anchor": "y11",
         "domain": [
          0.525,
          0.7375
         ],
         "gridcolor": "#E1E5ED",
         "showgrid": false,
         "tickfont": {
          "color": "#4D5663"
         },
         "title": {
          "font": {
           "color": "#4D5663"
          },
          "text": ""
         },
         "zerolinecolor": "#E1E5ED"
        },
        "xaxis12": {
         "anchor": "y12",
         "domain": [
          0.7875,
          1
         ],
         "gridcolor": "#E1E5ED",
         "showgrid": false,
         "tickfont": {
          "color": "#4D5663"
         },
         "title": {
          "font": {
           "color": "#4D5663"
          },
          "text": ""
         },
         "zerolinecolor": "#E1E5ED"
        },
        "xaxis13": {
         "anchor": "y13",
         "domain": [
          0,
          0.2125
         ],
         "gridcolor": "#E1E5ED",
         "showgrid": false,
         "tickfont": {
          "color": "#4D5663"
         },
         "title": {
          "font": {
           "color": "#4D5663"
          },
          "text": ""
         },
         "zerolinecolor": "#E1E5ED"
        },
        "xaxis14": {
         "anchor": "y14",
         "domain": [
          0.2625,
          0.475
         ],
         "gridcolor": "#E1E5ED",
         "showgrid": false,
         "tickfont": {
          "color": "#4D5663"
         },
         "title": {
          "font": {
           "color": "#4D5663"
          },
          "text": ""
         },
         "zerolinecolor": "#E1E5ED"
        },
        "xaxis15": {
         "anchor": "y15",
         "domain": [
          0.525,
          0.7375
         ],
         "gridcolor": "#E1E5ED",
         "showgrid": false,
         "tickfont": {
          "color": "#4D5663"
         },
         "title": {
          "font": {
           "color": "#4D5663"
          },
          "text": ""
         },
         "zerolinecolor": "#E1E5ED"
        },
        "xaxis16": {
         "anchor": "y16",
         "domain": [
          0.7875,
          1
         ],
         "gridcolor": "#E1E5ED",
         "showgrid": false,
         "tickfont": {
          "color": "#4D5663"
         },
         "title": {
          "font": {
           "color": "#4D5663"
          },
          "text": ""
         },
         "zerolinecolor": "#E1E5ED"
        },
        "xaxis2": {
         "anchor": "y2",
         "domain": [
          0.2625,
          0.475
         ],
         "gridcolor": "#E1E5ED",
         "showgrid": false,
         "tickfont": {
          "color": "#4D5663"
         },
         "title": {
          "font": {
           "color": "#4D5663"
          },
          "text": ""
         },
         "zerolinecolor": "#E1E5ED"
        },
        "xaxis3": {
         "anchor": "y3",
         "domain": [
          0.525,
          0.7375
         ],
         "gridcolor": "#E1E5ED",
         "showgrid": false,
         "tickfont": {
          "color": "#4D5663"
         },
         "title": {
          "font": {
           "color": "#4D5663"
          },
          "text": ""
         },
         "zerolinecolor": "#E1E5ED"
        },
        "xaxis4": {
         "anchor": "y4",
         "domain": [
          0.7875,
          1
         ],
         "gridcolor": "#E1E5ED",
         "showgrid": false,
         "tickfont": {
          "color": "#4D5663"
         },
         "title": {
          "font": {
           "color": "#4D5663"
          },
          "text": ""
         },
         "zerolinecolor": "#E1E5ED"
        },
        "xaxis5": {
         "anchor": "y5",
         "domain": [
          0,
          0.2125
         ],
         "gridcolor": "#E1E5ED",
         "showgrid": false,
         "tickfont": {
          "color": "#4D5663"
         },
         "title": {
          "font": {
           "color": "#4D5663"
          },
          "text": ""
         },
         "zerolinecolor": "#E1E5ED"
        },
        "xaxis6": {
         "anchor": "y6",
         "domain": [
          0.2625,
          0.475
         ],
         "gridcolor": "#E1E5ED",
         "showgrid": false,
         "tickfont": {
          "color": "#4D5663"
         },
         "title": {
          "font": {
           "color": "#4D5663"
          },
          "text": ""
         },
         "zerolinecolor": "#E1E5ED"
        },
        "xaxis7": {
         "anchor": "y7",
         "domain": [
          0.525,
          0.7375
         ],
         "gridcolor": "#E1E5ED",
         "showgrid": false,
         "tickfont": {
          "color": "#4D5663"
         },
         "title": {
          "font": {
           "color": "#4D5663"
          },
          "text": ""
         },
         "zerolinecolor": "#E1E5ED"
        },
        "xaxis8": {
         "anchor": "y8",
         "domain": [
          0.7875,
          1
         ],
         "gridcolor": "#E1E5ED",
         "showgrid": false,
         "tickfont": {
          "color": "#4D5663"
         },
         "title": {
          "font": {
           "color": "#4D5663"
          },
          "text": ""
         },
         "zerolinecolor": "#E1E5ED"
        },
        "xaxis9": {
         "anchor": "y9",
         "domain": [
          0,
          0.2125
         ],
         "gridcolor": "#E1E5ED",
         "showgrid": false,
         "tickfont": {
          "color": "#4D5663"
         },
         "title": {
          "font": {
           "color": "#4D5663"
          },
          "text": ""
         },
         "zerolinecolor": "#E1E5ED"
        },
        "yaxis": {
         "anchor": "x",
         "domain": [
          0.8025,
          1
         ],
         "gridcolor": "#E1E5ED",
         "showgrid": false,
         "tickfont": {
          "color": "#4D5663"
         },
         "title": {
          "font": {
           "color": "#4D5663"
          },
          "text": ""
         },
         "zerolinecolor": "#E1E5ED"
        },
        "yaxis10": {
         "anchor": "x10",
         "domain": [
          0.2675,
          0.465
         ],
         "gridcolor": "#E1E5ED",
         "showgrid": false,
         "tickfont": {
          "color": "#4D5663"
         },
         "title": {
          "font": {
           "color": "#4D5663"
          },
          "text": ""
         },
         "zerolinecolor": "#E1E5ED"
        },
        "yaxis11": {
         "anchor": "x11",
         "domain": [
          0.2675,
          0.465
         ],
         "gridcolor": "#E1E5ED",
         "showgrid": false,
         "tickfont": {
          "color": "#4D5663"
         },
         "title": {
          "font": {
           "color": "#4D5663"
          },
          "text": ""
         },
         "zerolinecolor": "#E1E5ED"
        },
        "yaxis12": {
         "anchor": "x12",
         "domain": [
          0.2675,
          0.465
         ],
         "gridcolor": "#E1E5ED",
         "showgrid": false,
         "tickfont": {
          "color": "#4D5663"
         },
         "title": {
          "font": {
           "color": "#4D5663"
          },
          "text": ""
         },
         "zerolinecolor": "#E1E5ED"
        },
        "yaxis13": {
         "anchor": "x13",
         "domain": [
          0,
          0.1975
         ],
         "gridcolor": "#E1E5ED",
         "showgrid": false,
         "tickfont": {
          "color": "#4D5663"
         },
         "title": {
          "font": {
           "color": "#4D5663"
          },
          "text": ""
         },
         "zerolinecolor": "#E1E5ED"
        },
        "yaxis14": {
         "anchor": "x14",
         "domain": [
          0,
          0.1975
         ],
         "gridcolor": "#E1E5ED",
         "showgrid": false,
         "tickfont": {
          "color": "#4D5663"
         },
         "title": {
          "font": {
           "color": "#4D5663"
          },
          "text": ""
         },
         "zerolinecolor": "#E1E5ED"
        },
        "yaxis15": {
         "anchor": "x15",
         "domain": [
          0,
          0.1975
         ],
         "gridcolor": "#E1E5ED",
         "showgrid": false,
         "tickfont": {
          "color": "#4D5663"
         },
         "title": {
          "font": {
           "color": "#4D5663"
          },
          "text": ""
         },
         "zerolinecolor": "#E1E5ED"
        },
        "yaxis16": {
         "anchor": "x16",
         "domain": [
          0,
          0.1975
         ],
         "gridcolor": "#E1E5ED",
         "showgrid": false,
         "tickfont": {
          "color": "#4D5663"
         },
         "title": {
          "font": {
           "color": "#4D5663"
          },
          "text": ""
         },
         "zerolinecolor": "#E1E5ED"
        },
        "yaxis2": {
         "anchor": "x2",
         "domain": [
          0.8025,
          1
         ],
         "gridcolor": "#E1E5ED",
         "showgrid": false,
         "tickfont": {
          "color": "#4D5663"
         },
         "title": {
          "font": {
           "color": "#4D5663"
          },
          "text": ""
         },
         "zerolinecolor": "#E1E5ED"
        },
        "yaxis3": {
         "anchor": "x3",
         "domain": [
          0.8025,
          1
         ],
         "gridcolor": "#E1E5ED",
         "showgrid": false,
         "tickfont": {
          "color": "#4D5663"
         },
         "title": {
          "font": {
           "color": "#4D5663"
          },
          "text": ""
         },
         "zerolinecolor": "#E1E5ED"
        },
        "yaxis4": {
         "anchor": "x4",
         "domain": [
          0.8025,
          1
         ],
         "gridcolor": "#E1E5ED",
         "showgrid": false,
         "tickfont": {
          "color": "#4D5663"
         },
         "title": {
          "font": {
           "color": "#4D5663"
          },
          "text": ""
         },
         "zerolinecolor": "#E1E5ED"
        },
        "yaxis5": {
         "anchor": "x5",
         "domain": [
          0.535,
          0.7325
         ],
         "gridcolor": "#E1E5ED",
         "showgrid": false,
         "tickfont": {
          "color": "#4D5663"
         },
         "title": {
          "font": {
           "color": "#4D5663"
          },
          "text": ""
         },
         "zerolinecolor": "#E1E5ED"
        },
        "yaxis6": {
         "anchor": "x6",
         "domain": [
          0.535,
          0.7325
         ],
         "gridcolor": "#E1E5ED",
         "showgrid": false,
         "tickfont": {
          "color": "#4D5663"
         },
         "title": {
          "font": {
           "color": "#4D5663"
          },
          "text": ""
         },
         "zerolinecolor": "#E1E5ED"
        },
        "yaxis7": {
         "anchor": "x7",
         "domain": [
          0.535,
          0.7325
         ],
         "gridcolor": "#E1E5ED",
         "showgrid": false,
         "tickfont": {
          "color": "#4D5663"
         },
         "title": {
          "font": {
           "color": "#4D5663"
          },
          "text": ""
         },
         "zerolinecolor": "#E1E5ED"
        },
        "yaxis8": {
         "anchor": "x8",
         "domain": [
          0.535,
          0.7325
         ],
         "gridcolor": "#E1E5ED",
         "showgrid": false,
         "tickfont": {
          "color": "#4D5663"
         },
         "title": {
          "font": {
           "color": "#4D5663"
          },
          "text": ""
         },
         "zerolinecolor": "#E1E5ED"
        },
        "yaxis9": {
         "anchor": "x9",
         "domain": [
          0.2675,
          0.465
         ],
         "gridcolor": "#E1E5ED",
         "showgrid": false,
         "tickfont": {
          "color": "#4D5663"
         },
         "title": {
          "font": {
           "color": "#4D5663"
          },
          "text": ""
         },
         "zerolinecolor": "#E1E5ED"
        }
       }
      },
      "text/html": [
       "<div>\n",
       "        \n",
       "        \n",
       "            <div id=\"9313d930-09cd-4970-b2ed-e098e689df4d\" class=\"plotly-graph-div\" style=\"height:525px; width:100%;\"></div>\n",
       "            <script type=\"text/javascript\">\n",
       "                require([\"plotly\"], function(Plotly) {\n",
       "                    window.PLOTLYENV=window.PLOTLYENV || {};\n",
       "                    window.PLOTLYENV.BASE_URL='https://plot.ly';\n",
       "                    \n",
       "                if (document.getElementById(\"9313d930-09cd-4970-b2ed-e098e689df4d\")) {\n",
       "                    Plotly.newPlot(\n",
       "                        '9313d930-09cd-4970-b2ed-e098e689df4d',\n",
       "                        [{\"histfunc\": \"count\", \"histnorm\": \"\", \"marker\": {\"color\": \"rgba(255, 153, 51, 1.0)\", \"line\": {\"color\": \"#4D5663\", \"width\": 1.3}}, \"name\": \"A\", \"nbinsx\": 10, \"opacity\": 0.8, \"orientation\": \"v\", \"type\": \"histogram\", \"x\": [0.34047230985417487, -0.5470601833793309, -1.2675378278930967, 0.6491316044070555, 0.9790849726054258, -1.733015324001771, 2.290389321238637, 0.036454781028621284, -0.9037565027827843, -1.0646210198714885, -0.7739593465059703, 1.349709681088898, 0.023198104431787304, 0.7097968765591369, -1.3190373996246016, 0.4432749340244109, 0.3382114080093792, -0.08149571062505023, 1.054706512426422, 0.42840307080408696, -1.1416823676520806, -1.2051615303417365, 0.12727852193154782, 1.5308805794798286, -0.9927193045515985, -1.3366979353879058, 0.1955269139584091, 0.7930215179572049, 1.3146642283206003, -1.018328645349817, 1.528175135223415, 1.5199500968770436, -0.14568948608290364, 0.673767247732877, -0.6291547478631949, 1.7237260355384059, -2.128409866142235, -1.2564105832946104, -0.9946511182748657, 1.3286998088243123, -0.9073035901180493, 1.1431477794473277, 0.3637094958135473, -0.5556350676836874, -0.784958397741709, 0.6599181211812783, 0.9327041584723281, 0.317808086352773, -0.45128432794925066, 0.02169308947579233, -0.38352504449075225, 0.2007362243585566, 0.4888528181246676, -1.1903891833358475, -0.7363204708075135, 0.5353027969158113, -0.009098706058621205, -0.38651580048044665, -1.9505943181122882, -0.5563156651329674, -2.137311930174342, -1.2725741121684107, -0.7820156364185031, 1.5364104241185321, -0.418215415271642, 1.7995202888116273, -1.4828590310985599, -1.527662283535423, 0.9793840714449367, 0.6974261641817958, 0.9298674505655383, 0.1463230889023217, 0.18558750120210715, -0.8649984819098265, 1.1923650660250928, -0.7288791022947565, 0.16187314515212994, 0.07901352569282546, -0.6864257743133744, -0.7638958537068636, 0.09777129712374978, 1.9894840606243682, 0.4452067408586412, 0.283836967561087, 0.68803706432445, -0.2132472849823426, -1.3999549932879618, -0.5569138588321604, 1.647324139450391, 0.31164492300874735, -0.27526326737804385, 1.3396705591673788, 1.4354991278104445, -0.7754158123349962, 1.0576465217387125, -1.2567399072669017, 1.417915162857051, 0.41595710155807697, -0.3542636977169401, -1.8437068141659367], \"xaxis\": \"x\", \"yaxis\": \"y\"}, {\"line\": {\"color\": \"rgba(128, 128, 128, 1.0)\", \"dash\": \"solid\", \"shape\": \"linear\", \"width\": 1.3}, \"marker\": {\"size\": 2, \"symbol\": \"circle\"}, \"mode\": \"markers\", \"name\": \"A\", \"text\": \"\", \"type\": \"scatter\", \"x\": [1.9943407701544202, 0.8732976700461123, -0.44787696876144895, 1.0780976820731896, 1.6078548939101063, 0.16317980233584287, 0.5496495894598031, 1.0102362546831511, -0.511917744122489, 0.281743139062265, 0.7216725536292614, 0.1741682812166515, 0.1785643052722124, -0.30481786184645304, -1.8509950817133969, -0.23778690258463708, -0.8630716467228144, 0.4051284595491349, 0.011693486607671525, -1.140316247327179, 0.6961449106580708, 0.07628529046739924, -0.15896345593945824, -0.914561014980909, -0.2899171259555344, 1.395367474369876, 0.9559938410991375, 0.14143756597235277, 0.9808198546062713, -0.9506065975501895, 0.3328695743314853, 0.17362323075461195, 0.8629566207204599, 0.6711995161432158, -1.7252037236321254, 0.1050150185451266, -0.6776206987366905, 0.9050109638072361, 0.3120914384835461, -0.13682847797414394, -1.0338304213946623, 0.12395061715807465, 0.38545359854491457, 1.5558315877417646, -0.5525591461019096, 0.5755905862673705, 0.11594421839394252, 2.009669467433262, 0.6720174995283758, 3.9800981023976028, 2.012483027853531, -0.0165911044931047, 0.5436983124669627, 0.2533224887728271, -2.3115522998318236, -0.24923560962574012, -1.9232267183238132, 0.05722815876193648, -1.666760834897929, 0.025844967526200354, 0.5155027670327164, 0.5022409291069994, 1.949038917238445, -1.4855667244693458, 0.8178687661814977, 1.4168279164506383, 0.11816388408156939, 0.030444589926006436, 0.8583597561128744, 0.1447413788502021, 1.3857459334031041, -0.3462272443036162, -0.7601756038235645, -0.19531967449619628, -0.1736275096618453, 0.33535248752757185, 0.42462100759789134, 0.17980065301228668, -0.04382890283922368, -0.12302613525369319, 0.8000120765971616, -0.7178499919504112, 0.2307414841193989, 2.0714126632499665, 1.7101980155882819, 0.9710013499136046, -0.6715146320607761, -0.38662889542131273, -0.009607146099274804, -0.7892315730989675, -0.0174069311032387, 0.2380637833909742, 0.9424713187875836, 0.24371148622077551, 0.5877903592172993, 0.24724599456167232, -0.2184726763217426, 0.6178629971468542, -0.5268844662083302, 0.12452138333049734], \"xaxis\": \"x2\", \"y\": [0.34047230985417487, -0.5470601833793309, -1.2675378278930967, 0.6491316044070555, 0.9790849726054258, -1.733015324001771, 2.290389321238637, 0.036454781028621284, -0.9037565027827843, -1.0646210198714885, -0.7739593465059703, 1.349709681088898, 0.023198104431787304, 0.7097968765591369, -1.3190373996246016, 0.4432749340244109, 0.3382114080093792, -0.08149571062505023, 1.054706512426422, 0.42840307080408696, -1.1416823676520806, -1.2051615303417365, 0.12727852193154782, 1.5308805794798286, -0.9927193045515985, -1.3366979353879058, 0.1955269139584091, 0.7930215179572049, 1.3146642283206003, -1.018328645349817, 1.528175135223415, 1.5199500968770436, -0.14568948608290364, 0.673767247732877, -0.6291547478631949, 1.7237260355384059, -2.128409866142235, -1.2564105832946104, -0.9946511182748657, 1.3286998088243123, -0.9073035901180493, 1.1431477794473277, 0.3637094958135473, -0.5556350676836874, -0.784958397741709, 0.6599181211812783, 0.9327041584723281, 0.317808086352773, -0.45128432794925066, 0.02169308947579233, -0.38352504449075225, 0.2007362243585566, 0.4888528181246676, -1.1903891833358475, -0.7363204708075135, 0.5353027969158113, -0.009098706058621205, -0.38651580048044665, -1.9505943181122882, -0.5563156651329674, -2.137311930174342, -1.2725741121684107, -0.7820156364185031, 1.5364104241185321, -0.418215415271642, 1.7995202888116273, -1.4828590310985599, -1.527662283535423, 0.9793840714449367, 0.6974261641817958, 0.9298674505655383, 0.1463230889023217, 0.18558750120210715, -0.8649984819098265, 1.1923650660250928, -0.7288791022947565, 0.16187314515212994, 0.07901352569282546, -0.6864257743133744, -0.7638958537068636, 0.09777129712374978, 1.9894840606243682, 0.4452067408586412, 0.283836967561087, 0.68803706432445, -0.2132472849823426, -1.3999549932879618, -0.5569138588321604, 1.647324139450391, 0.31164492300874735, -0.27526326737804385, 1.3396705591673788, 1.4354991278104445, -0.7754158123349962, 1.0576465217387125, -1.2567399072669017, 1.417915162857051, 0.41595710155807697, -0.3542636977169401, -1.8437068141659367], \"yaxis\": \"y2\"}, {\"line\": {\"color\": \"rgba(128, 128, 128, 1.0)\", \"dash\": \"solid\", \"shape\": \"linear\", \"width\": 1.3}, \"marker\": {\"size\": 2, \"symbol\": \"circle\"}, \"mode\": \"markers\", \"name\": \"A\", \"text\": \"\", \"type\": \"scatter\", \"x\": [-0.04771395406536712, -1.5043416811675911, -1.0115571512189343, -0.3196881580095592, -0.48460926456026693, 1.9324800528343704, -0.6750083050666905, -1.1928616122136295, 0.22462422287366487, 0.8172709744741067, 1.1322305903744152, -0.15709969622329584, -1.3774672022747636, 0.2578436147614736, -0.9417276351734839, -1.3677279147130692, 2.531275836486691, -2.4247358633491745, -1.1743548283392375, 0.32313460584764103, -0.05760005939342712, -1.2124084328812565, 0.4440771525759291, -0.5287821003798321, 0.8877937147896016, 0.788082572247507, -0.4024078037919625, 0.6768352646931419, 1.124769340290542, 1.514974366849765, 0.24297458585476567, -0.6717924323579235, 0.9700825220303908, 1.3011011834029327, 0.5595008546143619, -1.9107628935218424, 0.6186427496640683, -1.3160373290467176, -0.711531460545435, -0.9704509328628098, -1.515870252607532, 1.2685873954064992, -0.9373625765813777, 0.08431574252417799, 0.6209218652222007, -0.34977632773410233, 0.05742309393247231, 0.46848099989783293, -0.7012016950031474, 1.6056656668519755, 0.8897581396029682, -0.4397761711110293, -0.023013281784482753, 0.24986744106213793, -1.4052573635124295, -1.8369821561209823, 1.146483080516584, 0.8747052961016265, -0.2136239740210405, 0.18854567408788925, 1.889355327229068, 0.5355174486924671, 1.36892644822141, 0.725397359400518, -0.06354056164120563, 0.4085339621321921, 0.3155740523689549, 1.5308259601478147, -2.0652698103461717, -0.726915663761446, 1.1433844012357315, -1.301904532381038, 0.48405131134391616, -0.39233488595636745, 0.6432409606580904, -0.7781352236860143, 0.8410939618043733, 0.333085900767765, -0.057432172242264955, 1.180448028127175, 0.05168178418258711, 0.13279630314547816, 0.5923226265772704, 0.7040703331376651, -1.2590114830545602, 0.017285546023253325, 1.1241265261455342, 1.106064464217237, 0.07088827925376733, -0.567679453807794, 0.1260003892331238, 1.6952764522942068, -0.21088715728804597, 1.225933806417049, 0.9085444819827736, 0.5963963921595337, -0.6191685292863695, -1.3252801506002794, 1.0356708943482635, -0.03329873623661065], \"xaxis\": \"x3\", \"y\": [0.34047230985417487, -0.5470601833793309, -1.2675378278930967, 0.6491316044070555, 0.9790849726054258, -1.733015324001771, 2.290389321238637, 0.036454781028621284, -0.9037565027827843, -1.0646210198714885, -0.7739593465059703, 1.349709681088898, 0.023198104431787304, 0.7097968765591369, -1.3190373996246016, 0.4432749340244109, 0.3382114080093792, -0.08149571062505023, 1.054706512426422, 0.42840307080408696, -1.1416823676520806, -1.2051615303417365, 0.12727852193154782, 1.5308805794798286, -0.9927193045515985, -1.3366979353879058, 0.1955269139584091, 0.7930215179572049, 1.3146642283206003, -1.018328645349817, 1.528175135223415, 1.5199500968770436, -0.14568948608290364, 0.673767247732877, -0.6291547478631949, 1.7237260355384059, -2.128409866142235, -1.2564105832946104, -0.9946511182748657, 1.3286998088243123, -0.9073035901180493, 1.1431477794473277, 0.3637094958135473, -0.5556350676836874, -0.784958397741709, 0.6599181211812783, 0.9327041584723281, 0.317808086352773, -0.45128432794925066, 0.02169308947579233, -0.38352504449075225, 0.2007362243585566, 0.4888528181246676, -1.1903891833358475, -0.7363204708075135, 0.5353027969158113, -0.009098706058621205, -0.38651580048044665, -1.9505943181122882, -0.5563156651329674, -2.137311930174342, -1.2725741121684107, -0.7820156364185031, 1.5364104241185321, -0.418215415271642, 1.7995202888116273, -1.4828590310985599, -1.527662283535423, 0.9793840714449367, 0.6974261641817958, 0.9298674505655383, 0.1463230889023217, 0.18558750120210715, -0.8649984819098265, 1.1923650660250928, -0.7288791022947565, 0.16187314515212994, 0.07901352569282546, -0.6864257743133744, -0.7638958537068636, 0.09777129712374978, 1.9894840606243682, 0.4452067408586412, 0.283836967561087, 0.68803706432445, -0.2132472849823426, -1.3999549932879618, -0.5569138588321604, 1.647324139450391, 0.31164492300874735, -0.27526326737804385, 1.3396705591673788, 1.4354991278104445, -0.7754158123349962, 1.0576465217387125, -1.2567399072669017, 1.417915162857051, 0.41595710155807697, -0.3542636977169401, -1.8437068141659367], \"yaxis\": \"y3\"}, {\"line\": {\"color\": \"rgba(128, 128, 128, 1.0)\", \"dash\": \"solid\", \"shape\": \"linear\", \"width\": 1.3}, \"marker\": {\"size\": 2, \"symbol\": \"circle\"}, \"mode\": \"markers\", \"name\": \"A\", \"text\": \"\", \"type\": \"scatter\", \"x\": [1.2589569333371988, -0.031839142990460055, 0.8189306812569733, -1.5246622267306469, -0.5063021320591772, -1.325476643544345, -0.6860637670997545, 0.26461506776763893, -1.3622374707425282, -1.1637671181309004, -0.6360147100514426, -1.2648457466711012, 1.1729852001238945, 0.9817917825788705, 1.158663697693098, 2.0033356762471572, 1.151628003613701, 0.9952248652572545, -0.9223129537113125, -0.9012094254762871, -2.358464908201899, -0.8779060902868782, 1.7780814166977388, -1.2837144668636435, 1.0788074001706647, 0.770709635679897, -1.9878346523176658, -0.22118188978377493, 2.1803495732281513, -0.896958042621838, 1.166657003520393, 0.5591935822423297, -0.09120268790707306, 1.372362763596523, -0.7587802387416756, -1.3367390809112585, -0.5496673125494758, -1.5956698027689833, -0.3085149900255551, -0.9515740829350039, -0.9764054457259063, 0.20089254558087585, -1.1837907353589752, 0.6273309156347018, 0.480621080009327, -0.9923194436331658, -3.028655703581262, -0.4429279152892181, 2.160253584830107, 0.9596230747544598, -0.15095801929746455, -1.1792434907178488, 1.9048354665303866, 1.589045848139221, 1.2646665300793827, 0.3307024069427885, -0.42387849561392804, 0.18918064164554008, 1.8488605785378829, -0.6368917782634007, 0.8078496252511943, -0.18986818989758067, -0.31935533376073333, -0.6167948807496727, -0.36205457928696344, 0.087666167461351, 0.47065582674596174, -0.8780610254712392, -1.0425678809274128, 0.5748800716291017, -1.2005976154785882, 1.3643716247377509, -0.6248742169432608, -1.552085522748234, 0.8088923435765261, 0.383184951273274, -0.04573367626531149, 0.7506583580900915, 0.2641442429416921, -1.3880184791637802, -0.49665476455912105, -0.49058018996490355, 0.5437968834463308, -1.2925010205921783, 0.3688794580477229, 0.8470476490303701, 1.4947755226044173, -1.1309217018103088, -0.6948701616929415, 0.3308987928289656, 0.058128707790018594, 1.085648726485594, -0.9028762557922876, 2.391031754184587, -1.6654687376941901, 0.6788538544656444, -0.21499223351475188, -0.24686079659496307, -0.4784093744551463, -0.7504531919618652], \"xaxis\": \"x4\", \"y\": [0.34047230985417487, -0.5470601833793309, -1.2675378278930967, 0.6491316044070555, 0.9790849726054258, -1.733015324001771, 2.290389321238637, 0.036454781028621284, -0.9037565027827843, -1.0646210198714885, -0.7739593465059703, 1.349709681088898, 0.023198104431787304, 0.7097968765591369, -1.3190373996246016, 0.4432749340244109, 0.3382114080093792, -0.08149571062505023, 1.054706512426422, 0.42840307080408696, -1.1416823676520806, -1.2051615303417365, 0.12727852193154782, 1.5308805794798286, -0.9927193045515985, -1.3366979353879058, 0.1955269139584091, 0.7930215179572049, 1.3146642283206003, -1.018328645349817, 1.528175135223415, 1.5199500968770436, -0.14568948608290364, 0.673767247732877, -0.6291547478631949, 1.7237260355384059, -2.128409866142235, -1.2564105832946104, -0.9946511182748657, 1.3286998088243123, -0.9073035901180493, 1.1431477794473277, 0.3637094958135473, -0.5556350676836874, -0.784958397741709, 0.6599181211812783, 0.9327041584723281, 0.317808086352773, -0.45128432794925066, 0.02169308947579233, -0.38352504449075225, 0.2007362243585566, 0.4888528181246676, -1.1903891833358475, -0.7363204708075135, 0.5353027969158113, -0.009098706058621205, -0.38651580048044665, -1.9505943181122882, -0.5563156651329674, -2.137311930174342, -1.2725741121684107, -0.7820156364185031, 1.5364104241185321, -0.418215415271642, 1.7995202888116273, -1.4828590310985599, -1.527662283535423, 0.9793840714449367, 0.6974261641817958, 0.9298674505655383, 0.1463230889023217, 0.18558750120210715, -0.8649984819098265, 1.1923650660250928, -0.7288791022947565, 0.16187314515212994, 0.07901352569282546, -0.6864257743133744, -0.7638958537068636, 0.09777129712374978, 1.9894840606243682, 0.4452067408586412, 0.283836967561087, 0.68803706432445, -0.2132472849823426, -1.3999549932879618, -0.5569138588321604, 1.647324139450391, 0.31164492300874735, -0.27526326737804385, 1.3396705591673788, 1.4354991278104445, -0.7754158123349962, 1.0576465217387125, -1.2567399072669017, 1.417915162857051, 0.41595710155807697, -0.3542636977169401, -1.8437068141659367], \"yaxis\": \"y4\"}, {\"line\": {\"color\": \"rgba(128, 128, 128, 1.0)\", \"dash\": \"solid\", \"shape\": \"linear\", \"width\": 1.3}, \"marker\": {\"size\": 2, \"symbol\": \"circle\"}, \"mode\": \"markers\", \"name\": \"B\", \"text\": \"\", \"type\": \"scatter\", \"x\": [0.34047230985417487, -0.5470601833793309, -1.2675378278930967, 0.6491316044070555, 0.9790849726054258, -1.733015324001771, 2.290389321238637, 0.036454781028621284, -0.9037565027827843, -1.0646210198714885, -0.7739593465059703, 1.349709681088898, 0.023198104431787304, 0.7097968765591369, -1.3190373996246016, 0.4432749340244109, 0.3382114080093792, -0.08149571062505023, 1.054706512426422, 0.42840307080408696, -1.1416823676520806, -1.2051615303417365, 0.12727852193154782, 1.5308805794798286, -0.9927193045515985, -1.3366979353879058, 0.1955269139584091, 0.7930215179572049, 1.3146642283206003, -1.018328645349817, 1.528175135223415, 1.5199500968770436, -0.14568948608290364, 0.673767247732877, -0.6291547478631949, 1.7237260355384059, -2.128409866142235, -1.2564105832946104, -0.9946511182748657, 1.3286998088243123, -0.9073035901180493, 1.1431477794473277, 0.3637094958135473, -0.5556350676836874, -0.784958397741709, 0.6599181211812783, 0.9327041584723281, 0.317808086352773, -0.45128432794925066, 0.02169308947579233, -0.38352504449075225, 0.2007362243585566, 0.4888528181246676, -1.1903891833358475, -0.7363204708075135, 0.5353027969158113, -0.009098706058621205, -0.38651580048044665, -1.9505943181122882, -0.5563156651329674, -2.137311930174342, -1.2725741121684107, -0.7820156364185031, 1.5364104241185321, -0.418215415271642, 1.7995202888116273, -1.4828590310985599, -1.527662283535423, 0.9793840714449367, 0.6974261641817958, 0.9298674505655383, 0.1463230889023217, 0.18558750120210715, -0.8649984819098265, 1.1923650660250928, -0.7288791022947565, 0.16187314515212994, 0.07901352569282546, -0.6864257743133744, -0.7638958537068636, 0.09777129712374978, 1.9894840606243682, 0.4452067408586412, 0.283836967561087, 0.68803706432445, -0.2132472849823426, -1.3999549932879618, -0.5569138588321604, 1.647324139450391, 0.31164492300874735, -0.27526326737804385, 1.3396705591673788, 1.4354991278104445, -0.7754158123349962, 1.0576465217387125, -1.2567399072669017, 1.417915162857051, 0.41595710155807697, -0.3542636977169401, -1.8437068141659367], \"xaxis\": \"x5\", \"y\": [1.9943407701544202, 0.8732976700461123, -0.44787696876144895, 1.0780976820731896, 1.6078548939101063, 0.16317980233584287, 0.5496495894598031, 1.0102362546831511, -0.511917744122489, 0.281743139062265, 0.7216725536292614, 0.1741682812166515, 0.1785643052722124, -0.30481786184645304, -1.8509950817133969, -0.23778690258463708, -0.8630716467228144, 0.4051284595491349, 0.011693486607671525, -1.140316247327179, 0.6961449106580708, 0.07628529046739924, -0.15896345593945824, -0.914561014980909, -0.2899171259555344, 1.395367474369876, 0.9559938410991375, 0.14143756597235277, 0.9808198546062713, -0.9506065975501895, 0.3328695743314853, 0.17362323075461195, 0.8629566207204599, 0.6711995161432158, -1.7252037236321254, 0.1050150185451266, -0.6776206987366905, 0.9050109638072361, 0.3120914384835461, -0.13682847797414394, -1.0338304213946623, 0.12395061715807465, 0.38545359854491457, 1.5558315877417646, -0.5525591461019096, 0.5755905862673705, 0.11594421839394252, 2.009669467433262, 0.6720174995283758, 3.9800981023976028, 2.012483027853531, -0.0165911044931047, 0.5436983124669627, 0.2533224887728271, -2.3115522998318236, -0.24923560962574012, -1.9232267183238132, 0.05722815876193648, -1.666760834897929, 0.025844967526200354, 0.5155027670327164, 0.5022409291069994, 1.949038917238445, -1.4855667244693458, 0.8178687661814977, 1.4168279164506383, 0.11816388408156939, 0.030444589926006436, 0.8583597561128744, 0.1447413788502021, 1.3857459334031041, -0.3462272443036162, -0.7601756038235645, -0.19531967449619628, -0.1736275096618453, 0.33535248752757185, 0.42462100759789134, 0.17980065301228668, -0.04382890283922368, -0.12302613525369319, 0.8000120765971616, -0.7178499919504112, 0.2307414841193989, 2.0714126632499665, 1.7101980155882819, 0.9710013499136046, -0.6715146320607761, -0.38662889542131273, -0.009607146099274804, -0.7892315730989675, -0.0174069311032387, 0.2380637833909742, 0.9424713187875836, 0.24371148622077551, 0.5877903592172993, 0.24724599456167232, -0.2184726763217426, 0.6178629971468542, -0.5268844662083302, 0.12452138333049734], \"yaxis\": \"y5\"}, {\"histfunc\": \"count\", \"histnorm\": \"\", \"marker\": {\"color\": \"rgba(55, 128, 191, 1.0)\", \"line\": {\"color\": \"#4D5663\", \"width\": 1.3}}, \"name\": \"B\", \"nbinsx\": 10, \"opacity\": 0.8, \"orientation\": \"v\", \"type\": \"histogram\", \"x\": [1.9943407701544202, 0.8732976700461123, -0.44787696876144895, 1.0780976820731896, 1.6078548939101063, 0.16317980233584287, 0.5496495894598031, 1.0102362546831511, -0.511917744122489, 0.281743139062265, 0.7216725536292614, 0.1741682812166515, 0.1785643052722124, -0.30481786184645304, -1.8509950817133969, -0.23778690258463708, -0.8630716467228144, 0.4051284595491349, 0.011693486607671525, -1.140316247327179, 0.6961449106580708, 0.07628529046739924, -0.15896345593945824, -0.914561014980909, -0.2899171259555344, 1.395367474369876, 0.9559938410991375, 0.14143756597235277, 0.9808198546062713, -0.9506065975501895, 0.3328695743314853, 0.17362323075461195, 0.8629566207204599, 0.6711995161432158, -1.7252037236321254, 0.1050150185451266, -0.6776206987366905, 0.9050109638072361, 0.3120914384835461, -0.13682847797414394, -1.0338304213946623, 0.12395061715807465, 0.38545359854491457, 1.5558315877417646, -0.5525591461019096, 0.5755905862673705, 0.11594421839394252, 2.009669467433262, 0.6720174995283758, 3.9800981023976028, 2.012483027853531, -0.0165911044931047, 0.5436983124669627, 0.2533224887728271, -2.3115522998318236, -0.24923560962574012, -1.9232267183238132, 0.05722815876193648, -1.666760834897929, 0.025844967526200354, 0.5155027670327164, 0.5022409291069994, 1.949038917238445, -1.4855667244693458, 0.8178687661814977, 1.4168279164506383, 0.11816388408156939, 0.030444589926006436, 0.8583597561128744, 0.1447413788502021, 1.3857459334031041, -0.3462272443036162, -0.7601756038235645, -0.19531967449619628, -0.1736275096618453, 0.33535248752757185, 0.42462100759789134, 0.17980065301228668, -0.04382890283922368, -0.12302613525369319, 0.8000120765971616, -0.7178499919504112, 0.2307414841193989, 2.0714126632499665, 1.7101980155882819, 0.9710013499136046, -0.6715146320607761, -0.38662889542131273, -0.009607146099274804, -0.7892315730989675, -0.0174069311032387, 0.2380637833909742, 0.9424713187875836, 0.24371148622077551, 0.5877903592172993, 0.24724599456167232, -0.2184726763217426, 0.6178629971468542, -0.5268844662083302, 0.12452138333049734], \"xaxis\": \"x6\", \"yaxis\": \"y6\"}, {\"line\": {\"color\": \"rgba(128, 128, 128, 1.0)\", \"dash\": \"solid\", \"shape\": \"linear\", \"width\": 1.3}, \"marker\": {\"size\": 2, \"symbol\": \"circle\"}, \"mode\": \"markers\", \"name\": \"B\", \"text\": \"\", \"type\": \"scatter\", \"x\": [-0.04771395406536712, -1.5043416811675911, -1.0115571512189343, -0.3196881580095592, -0.48460926456026693, 1.9324800528343704, -0.6750083050666905, -1.1928616122136295, 0.22462422287366487, 0.8172709744741067, 1.1322305903744152, -0.15709969622329584, -1.3774672022747636, 0.2578436147614736, -0.9417276351734839, -1.3677279147130692, 2.531275836486691, -2.4247358633491745, -1.1743548283392375, 0.32313460584764103, -0.05760005939342712, -1.2124084328812565, 0.4440771525759291, -0.5287821003798321, 0.8877937147896016, 0.788082572247507, -0.4024078037919625, 0.6768352646931419, 1.124769340290542, 1.514974366849765, 0.24297458585476567, -0.6717924323579235, 0.9700825220303908, 1.3011011834029327, 0.5595008546143619, -1.9107628935218424, 0.6186427496640683, -1.3160373290467176, -0.711531460545435, -0.9704509328628098, -1.515870252607532, 1.2685873954064992, -0.9373625765813777, 0.08431574252417799, 0.6209218652222007, -0.34977632773410233, 0.05742309393247231, 0.46848099989783293, -0.7012016950031474, 1.6056656668519755, 0.8897581396029682, -0.4397761711110293, -0.023013281784482753, 0.24986744106213793, -1.4052573635124295, -1.8369821561209823, 1.146483080516584, 0.8747052961016265, -0.2136239740210405, 0.18854567408788925, 1.889355327229068, 0.5355174486924671, 1.36892644822141, 0.725397359400518, -0.06354056164120563, 0.4085339621321921, 0.3155740523689549, 1.5308259601478147, -2.0652698103461717, -0.726915663761446, 1.1433844012357315, -1.301904532381038, 0.48405131134391616, -0.39233488595636745, 0.6432409606580904, -0.7781352236860143, 0.8410939618043733, 0.333085900767765, -0.057432172242264955, 1.180448028127175, 0.05168178418258711, 0.13279630314547816, 0.5923226265772704, 0.7040703331376651, -1.2590114830545602, 0.017285546023253325, 1.1241265261455342, 1.106064464217237, 0.07088827925376733, -0.567679453807794, 0.1260003892331238, 1.6952764522942068, -0.21088715728804597, 1.225933806417049, 0.9085444819827736, 0.5963963921595337, -0.6191685292863695, -1.3252801506002794, 1.0356708943482635, -0.03329873623661065], \"xaxis\": \"x7\", \"y\": [1.9943407701544202, 0.8732976700461123, -0.44787696876144895, 1.0780976820731896, 1.6078548939101063, 0.16317980233584287, 0.5496495894598031, 1.0102362546831511, -0.511917744122489, 0.281743139062265, 0.7216725536292614, 0.1741682812166515, 0.1785643052722124, -0.30481786184645304, -1.8509950817133969, -0.23778690258463708, -0.8630716467228144, 0.4051284595491349, 0.011693486607671525, -1.140316247327179, 0.6961449106580708, 0.07628529046739924, -0.15896345593945824, -0.914561014980909, -0.2899171259555344, 1.395367474369876, 0.9559938410991375, 0.14143756597235277, 0.9808198546062713, -0.9506065975501895, 0.3328695743314853, 0.17362323075461195, 0.8629566207204599, 0.6711995161432158, -1.7252037236321254, 0.1050150185451266, -0.6776206987366905, 0.9050109638072361, 0.3120914384835461, -0.13682847797414394, -1.0338304213946623, 0.12395061715807465, 0.38545359854491457, 1.5558315877417646, -0.5525591461019096, 0.5755905862673705, 0.11594421839394252, 2.009669467433262, 0.6720174995283758, 3.9800981023976028, 2.012483027853531, -0.0165911044931047, 0.5436983124669627, 0.2533224887728271, -2.3115522998318236, -0.24923560962574012, -1.9232267183238132, 0.05722815876193648, -1.666760834897929, 0.025844967526200354, 0.5155027670327164, 0.5022409291069994, 1.949038917238445, -1.4855667244693458, 0.8178687661814977, 1.4168279164506383, 0.11816388408156939, 0.030444589926006436, 0.8583597561128744, 0.1447413788502021, 1.3857459334031041, -0.3462272443036162, -0.7601756038235645, -0.19531967449619628, -0.1736275096618453, 0.33535248752757185, 0.42462100759789134, 0.17980065301228668, -0.04382890283922368, -0.12302613525369319, 0.8000120765971616, -0.7178499919504112, 0.2307414841193989, 2.0714126632499665, 1.7101980155882819, 0.9710013499136046, -0.6715146320607761, -0.38662889542131273, -0.009607146099274804, -0.7892315730989675, -0.0174069311032387, 0.2380637833909742, 0.9424713187875836, 0.24371148622077551, 0.5877903592172993, 0.24724599456167232, -0.2184726763217426, 0.6178629971468542, -0.5268844662083302, 0.12452138333049734], \"yaxis\": \"y7\"}, {\"line\": {\"color\": \"rgba(128, 128, 128, 1.0)\", \"dash\": \"solid\", \"shape\": \"linear\", \"width\": 1.3}, \"marker\": {\"size\": 2, \"symbol\": \"circle\"}, \"mode\": \"markers\", \"name\": \"B\", \"text\": \"\", \"type\": \"scatter\", \"x\": [1.2589569333371988, -0.031839142990460055, 0.8189306812569733, -1.5246622267306469, -0.5063021320591772, -1.325476643544345, -0.6860637670997545, 0.26461506776763893, -1.3622374707425282, -1.1637671181309004, -0.6360147100514426, -1.2648457466711012, 1.1729852001238945, 0.9817917825788705, 1.158663697693098, 2.0033356762471572, 1.151628003613701, 0.9952248652572545, -0.9223129537113125, -0.9012094254762871, -2.358464908201899, -0.8779060902868782, 1.7780814166977388, -1.2837144668636435, 1.0788074001706647, 0.770709635679897, -1.9878346523176658, -0.22118188978377493, 2.1803495732281513, -0.896958042621838, 1.166657003520393, 0.5591935822423297, -0.09120268790707306, 1.372362763596523, -0.7587802387416756, -1.3367390809112585, -0.5496673125494758, -1.5956698027689833, -0.3085149900255551, -0.9515740829350039, -0.9764054457259063, 0.20089254558087585, -1.1837907353589752, 0.6273309156347018, 0.480621080009327, -0.9923194436331658, -3.028655703581262, -0.4429279152892181, 2.160253584830107, 0.9596230747544598, -0.15095801929746455, -1.1792434907178488, 1.9048354665303866, 1.589045848139221, 1.2646665300793827, 0.3307024069427885, -0.42387849561392804, 0.18918064164554008, 1.8488605785378829, -0.6368917782634007, 0.8078496252511943, -0.18986818989758067, -0.31935533376073333, -0.6167948807496727, -0.36205457928696344, 0.087666167461351, 0.47065582674596174, -0.8780610254712392, -1.0425678809274128, 0.5748800716291017, -1.2005976154785882, 1.3643716247377509, -0.6248742169432608, -1.552085522748234, 0.8088923435765261, 0.383184951273274, -0.04573367626531149, 0.7506583580900915, 0.2641442429416921, -1.3880184791637802, -0.49665476455912105, -0.49058018996490355, 0.5437968834463308, -1.2925010205921783, 0.3688794580477229, 0.8470476490303701, 1.4947755226044173, -1.1309217018103088, -0.6948701616929415, 0.3308987928289656, 0.058128707790018594, 1.085648726485594, -0.9028762557922876, 2.391031754184587, -1.6654687376941901, 0.6788538544656444, -0.21499223351475188, -0.24686079659496307, -0.4784093744551463, -0.7504531919618652], \"xaxis\": \"x8\", \"y\": [1.9943407701544202, 0.8732976700461123, -0.44787696876144895, 1.0780976820731896, 1.6078548939101063, 0.16317980233584287, 0.5496495894598031, 1.0102362546831511, -0.511917744122489, 0.281743139062265, 0.7216725536292614, 0.1741682812166515, 0.1785643052722124, -0.30481786184645304, -1.8509950817133969, -0.23778690258463708, -0.8630716467228144, 0.4051284595491349, 0.011693486607671525, -1.140316247327179, 0.6961449106580708, 0.07628529046739924, -0.15896345593945824, -0.914561014980909, -0.2899171259555344, 1.395367474369876, 0.9559938410991375, 0.14143756597235277, 0.9808198546062713, -0.9506065975501895, 0.3328695743314853, 0.17362323075461195, 0.8629566207204599, 0.6711995161432158, -1.7252037236321254, 0.1050150185451266, -0.6776206987366905, 0.9050109638072361, 0.3120914384835461, -0.13682847797414394, -1.0338304213946623, 0.12395061715807465, 0.38545359854491457, 1.5558315877417646, -0.5525591461019096, 0.5755905862673705, 0.11594421839394252, 2.009669467433262, 0.6720174995283758, 3.9800981023976028, 2.012483027853531, -0.0165911044931047, 0.5436983124669627, 0.2533224887728271, -2.3115522998318236, -0.24923560962574012, -1.9232267183238132, 0.05722815876193648, -1.666760834897929, 0.025844967526200354, 0.5155027670327164, 0.5022409291069994, 1.949038917238445, -1.4855667244693458, 0.8178687661814977, 1.4168279164506383, 0.11816388408156939, 0.030444589926006436, 0.8583597561128744, 0.1447413788502021, 1.3857459334031041, -0.3462272443036162, -0.7601756038235645, -0.19531967449619628, -0.1736275096618453, 0.33535248752757185, 0.42462100759789134, 0.17980065301228668, -0.04382890283922368, -0.12302613525369319, 0.8000120765971616, -0.7178499919504112, 0.2307414841193989, 2.0714126632499665, 1.7101980155882819, 0.9710013499136046, -0.6715146320607761, -0.38662889542131273, -0.009607146099274804, -0.7892315730989675, -0.0174069311032387, 0.2380637833909742, 0.9424713187875836, 0.24371148622077551, 0.5877903592172993, 0.24724599456167232, -0.2184726763217426, 0.6178629971468542, -0.5268844662083302, 0.12452138333049734], \"yaxis\": \"y8\"}, {\"line\": {\"color\": \"rgba(128, 128, 128, 1.0)\", \"dash\": \"solid\", \"shape\": \"linear\", \"width\": 1.3}, \"marker\": {\"size\": 2, \"symbol\": \"circle\"}, \"mode\": \"markers\", \"name\": \"C\", \"text\": \"\", \"type\": \"scatter\", \"x\": [0.34047230985417487, -0.5470601833793309, -1.2675378278930967, 0.6491316044070555, 0.9790849726054258, -1.733015324001771, 2.290389321238637, 0.036454781028621284, -0.9037565027827843, -1.0646210198714885, -0.7739593465059703, 1.349709681088898, 0.023198104431787304, 0.7097968765591369, -1.3190373996246016, 0.4432749340244109, 0.3382114080093792, -0.08149571062505023, 1.054706512426422, 0.42840307080408696, -1.1416823676520806, -1.2051615303417365, 0.12727852193154782, 1.5308805794798286, -0.9927193045515985, -1.3366979353879058, 0.1955269139584091, 0.7930215179572049, 1.3146642283206003, -1.018328645349817, 1.528175135223415, 1.5199500968770436, -0.14568948608290364, 0.673767247732877, -0.6291547478631949, 1.7237260355384059, -2.128409866142235, -1.2564105832946104, -0.9946511182748657, 1.3286998088243123, -0.9073035901180493, 1.1431477794473277, 0.3637094958135473, -0.5556350676836874, -0.784958397741709, 0.6599181211812783, 0.9327041584723281, 0.317808086352773, -0.45128432794925066, 0.02169308947579233, -0.38352504449075225, 0.2007362243585566, 0.4888528181246676, -1.1903891833358475, -0.7363204708075135, 0.5353027969158113, -0.009098706058621205, -0.38651580048044665, -1.9505943181122882, -0.5563156651329674, -2.137311930174342, -1.2725741121684107, -0.7820156364185031, 1.5364104241185321, -0.418215415271642, 1.7995202888116273, -1.4828590310985599, -1.527662283535423, 0.9793840714449367, 0.6974261641817958, 0.9298674505655383, 0.1463230889023217, 0.18558750120210715, -0.8649984819098265, 1.1923650660250928, -0.7288791022947565, 0.16187314515212994, 0.07901352569282546, -0.6864257743133744, -0.7638958537068636, 0.09777129712374978, 1.9894840606243682, 0.4452067408586412, 0.283836967561087, 0.68803706432445, -0.2132472849823426, -1.3999549932879618, -0.5569138588321604, 1.647324139450391, 0.31164492300874735, -0.27526326737804385, 1.3396705591673788, 1.4354991278104445, -0.7754158123349962, 1.0576465217387125, -1.2567399072669017, 1.417915162857051, 0.41595710155807697, -0.3542636977169401, -1.8437068141659367], \"xaxis\": \"x9\", \"y\": [-0.04771395406536712, -1.5043416811675911, -1.0115571512189343, -0.3196881580095592, -0.48460926456026693, 1.9324800528343704, -0.6750083050666905, -1.1928616122136295, 0.22462422287366487, 0.8172709744741067, 1.1322305903744152, -0.15709969622329584, -1.3774672022747636, 0.2578436147614736, -0.9417276351734839, -1.3677279147130692, 2.531275836486691, -2.4247358633491745, -1.1743548283392375, 0.32313460584764103, -0.05760005939342712, -1.2124084328812565, 0.4440771525759291, -0.5287821003798321, 0.8877937147896016, 0.788082572247507, -0.4024078037919625, 0.6768352646931419, 1.124769340290542, 1.514974366849765, 0.24297458585476567, -0.6717924323579235, 0.9700825220303908, 1.3011011834029327, 0.5595008546143619, -1.9107628935218424, 0.6186427496640683, -1.3160373290467176, -0.711531460545435, -0.9704509328628098, -1.515870252607532, 1.2685873954064992, -0.9373625765813777, 0.08431574252417799, 0.6209218652222007, -0.34977632773410233, 0.05742309393247231, 0.46848099989783293, -0.7012016950031474, 1.6056656668519755, 0.8897581396029682, -0.4397761711110293, -0.023013281784482753, 0.24986744106213793, -1.4052573635124295, -1.8369821561209823, 1.146483080516584, 0.8747052961016265, -0.2136239740210405, 0.18854567408788925, 1.889355327229068, 0.5355174486924671, 1.36892644822141, 0.725397359400518, -0.06354056164120563, 0.4085339621321921, 0.3155740523689549, 1.5308259601478147, -2.0652698103461717, -0.726915663761446, 1.1433844012357315, -1.301904532381038, 0.48405131134391616, -0.39233488595636745, 0.6432409606580904, -0.7781352236860143, 0.8410939618043733, 0.333085900767765, -0.057432172242264955, 1.180448028127175, 0.05168178418258711, 0.13279630314547816, 0.5923226265772704, 0.7040703331376651, -1.2590114830545602, 0.017285546023253325, 1.1241265261455342, 1.106064464217237, 0.07088827925376733, -0.567679453807794, 0.1260003892331238, 1.6952764522942068, -0.21088715728804597, 1.225933806417049, 0.9085444819827736, 0.5963963921595337, -0.6191685292863695, -1.3252801506002794, 1.0356708943482635, -0.03329873623661065], \"yaxis\": \"y9\"}, {\"line\": {\"color\": \"rgba(128, 128, 128, 1.0)\", \"dash\": \"solid\", \"shape\": \"linear\", \"width\": 1.3}, \"marker\": {\"size\": 2, \"symbol\": \"circle\"}, \"mode\": \"markers\", \"name\": \"C\", \"text\": \"\", \"type\": \"scatter\", \"x\": [1.9943407701544202, 0.8732976700461123, -0.44787696876144895, 1.0780976820731896, 1.6078548939101063, 0.16317980233584287, 0.5496495894598031, 1.0102362546831511, -0.511917744122489, 0.281743139062265, 0.7216725536292614, 0.1741682812166515, 0.1785643052722124, -0.30481786184645304, -1.8509950817133969, -0.23778690258463708, -0.8630716467228144, 0.4051284595491349, 0.011693486607671525, -1.140316247327179, 0.6961449106580708, 0.07628529046739924, -0.15896345593945824, -0.914561014980909, -0.2899171259555344, 1.395367474369876, 0.9559938410991375, 0.14143756597235277, 0.9808198546062713, -0.9506065975501895, 0.3328695743314853, 0.17362323075461195, 0.8629566207204599, 0.6711995161432158, -1.7252037236321254, 0.1050150185451266, -0.6776206987366905, 0.9050109638072361, 0.3120914384835461, -0.13682847797414394, -1.0338304213946623, 0.12395061715807465, 0.38545359854491457, 1.5558315877417646, -0.5525591461019096, 0.5755905862673705, 0.11594421839394252, 2.009669467433262, 0.6720174995283758, 3.9800981023976028, 2.012483027853531, -0.0165911044931047, 0.5436983124669627, 0.2533224887728271, -2.3115522998318236, -0.24923560962574012, -1.9232267183238132, 0.05722815876193648, -1.666760834897929, 0.025844967526200354, 0.5155027670327164, 0.5022409291069994, 1.949038917238445, -1.4855667244693458, 0.8178687661814977, 1.4168279164506383, 0.11816388408156939, 0.030444589926006436, 0.8583597561128744, 0.1447413788502021, 1.3857459334031041, -0.3462272443036162, -0.7601756038235645, -0.19531967449619628, -0.1736275096618453, 0.33535248752757185, 0.42462100759789134, 0.17980065301228668, -0.04382890283922368, -0.12302613525369319, 0.8000120765971616, -0.7178499919504112, 0.2307414841193989, 2.0714126632499665, 1.7101980155882819, 0.9710013499136046, -0.6715146320607761, -0.38662889542131273, -0.009607146099274804, -0.7892315730989675, -0.0174069311032387, 0.2380637833909742, 0.9424713187875836, 0.24371148622077551, 0.5877903592172993, 0.24724599456167232, -0.2184726763217426, 0.6178629971468542, -0.5268844662083302, 0.12452138333049734], \"xaxis\": \"x10\", \"y\": [-0.04771395406536712, -1.5043416811675911, -1.0115571512189343, -0.3196881580095592, -0.48460926456026693, 1.9324800528343704, -0.6750083050666905, -1.1928616122136295, 0.22462422287366487, 0.8172709744741067, 1.1322305903744152, -0.15709969622329584, -1.3774672022747636, 0.2578436147614736, -0.9417276351734839, -1.3677279147130692, 2.531275836486691, -2.4247358633491745, -1.1743548283392375, 0.32313460584764103, -0.05760005939342712, -1.2124084328812565, 0.4440771525759291, -0.5287821003798321, 0.8877937147896016, 0.788082572247507, -0.4024078037919625, 0.6768352646931419, 1.124769340290542, 1.514974366849765, 0.24297458585476567, -0.6717924323579235, 0.9700825220303908, 1.3011011834029327, 0.5595008546143619, -1.9107628935218424, 0.6186427496640683, -1.3160373290467176, -0.711531460545435, -0.9704509328628098, -1.515870252607532, 1.2685873954064992, -0.9373625765813777, 0.08431574252417799, 0.6209218652222007, -0.34977632773410233, 0.05742309393247231, 0.46848099989783293, -0.7012016950031474, 1.6056656668519755, 0.8897581396029682, -0.4397761711110293, -0.023013281784482753, 0.24986744106213793, -1.4052573635124295, -1.8369821561209823, 1.146483080516584, 0.8747052961016265, -0.2136239740210405, 0.18854567408788925, 1.889355327229068, 0.5355174486924671, 1.36892644822141, 0.725397359400518, -0.06354056164120563, 0.4085339621321921, 0.3155740523689549, 1.5308259601478147, -2.0652698103461717, -0.726915663761446, 1.1433844012357315, -1.301904532381038, 0.48405131134391616, -0.39233488595636745, 0.6432409606580904, -0.7781352236860143, 0.8410939618043733, 0.333085900767765, -0.057432172242264955, 1.180448028127175, 0.05168178418258711, 0.13279630314547816, 0.5923226265772704, 0.7040703331376651, -1.2590114830545602, 0.017285546023253325, 1.1241265261455342, 1.106064464217237, 0.07088827925376733, -0.567679453807794, 0.1260003892331238, 1.6952764522942068, -0.21088715728804597, 1.225933806417049, 0.9085444819827736, 0.5963963921595337, -0.6191685292863695, -1.3252801506002794, 1.0356708943482635, -0.03329873623661065], \"yaxis\": \"y10\"}, {\"histfunc\": \"count\", \"histnorm\": \"\", \"marker\": {\"color\": \"rgba(50, 171, 96, 1.0)\", \"line\": {\"color\": \"#4D5663\", \"width\": 1.3}}, \"name\": \"C\", \"nbinsx\": 10, \"opacity\": 0.8, \"orientation\": \"v\", \"type\": \"histogram\", \"x\": [-0.04771395406536712, -1.5043416811675911, -1.0115571512189343, -0.3196881580095592, -0.48460926456026693, 1.9324800528343704, -0.6750083050666905, -1.1928616122136295, 0.22462422287366487, 0.8172709744741067, 1.1322305903744152, -0.15709969622329584, -1.3774672022747636, 0.2578436147614736, -0.9417276351734839, -1.3677279147130692, 2.531275836486691, -2.4247358633491745, -1.1743548283392375, 0.32313460584764103, -0.05760005939342712, -1.2124084328812565, 0.4440771525759291, -0.5287821003798321, 0.8877937147896016, 0.788082572247507, -0.4024078037919625, 0.6768352646931419, 1.124769340290542, 1.514974366849765, 0.24297458585476567, -0.6717924323579235, 0.9700825220303908, 1.3011011834029327, 0.5595008546143619, -1.9107628935218424, 0.6186427496640683, -1.3160373290467176, -0.711531460545435, -0.9704509328628098, -1.515870252607532, 1.2685873954064992, -0.9373625765813777, 0.08431574252417799, 0.6209218652222007, -0.34977632773410233, 0.05742309393247231, 0.46848099989783293, -0.7012016950031474, 1.6056656668519755, 0.8897581396029682, -0.4397761711110293, -0.023013281784482753, 0.24986744106213793, -1.4052573635124295, -1.8369821561209823, 1.146483080516584, 0.8747052961016265, -0.2136239740210405, 0.18854567408788925, 1.889355327229068, 0.5355174486924671, 1.36892644822141, 0.725397359400518, -0.06354056164120563, 0.4085339621321921, 0.3155740523689549, 1.5308259601478147, -2.0652698103461717, -0.726915663761446, 1.1433844012357315, -1.301904532381038, 0.48405131134391616, -0.39233488595636745, 0.6432409606580904, -0.7781352236860143, 0.8410939618043733, 0.333085900767765, -0.057432172242264955, 1.180448028127175, 0.05168178418258711, 0.13279630314547816, 0.5923226265772704, 0.7040703331376651, -1.2590114830545602, 0.017285546023253325, 1.1241265261455342, 1.106064464217237, 0.07088827925376733, -0.567679453807794, 0.1260003892331238, 1.6952764522942068, -0.21088715728804597, 1.225933806417049, 0.9085444819827736, 0.5963963921595337, -0.6191685292863695, -1.3252801506002794, 1.0356708943482635, -0.03329873623661065], \"xaxis\": \"x11\", \"yaxis\": \"y11\"}, {\"line\": {\"color\": \"rgba(128, 128, 128, 1.0)\", \"dash\": \"solid\", \"shape\": \"linear\", \"width\": 1.3}, \"marker\": {\"size\": 2, \"symbol\": \"circle\"}, \"mode\": \"markers\", \"name\": \"C\", \"text\": \"\", \"type\": \"scatter\", \"x\": [1.2589569333371988, -0.031839142990460055, 0.8189306812569733, -1.5246622267306469, -0.5063021320591772, -1.325476643544345, -0.6860637670997545, 0.26461506776763893, -1.3622374707425282, -1.1637671181309004, -0.6360147100514426, -1.2648457466711012, 1.1729852001238945, 0.9817917825788705, 1.158663697693098, 2.0033356762471572, 1.151628003613701, 0.9952248652572545, -0.9223129537113125, -0.9012094254762871, -2.358464908201899, -0.8779060902868782, 1.7780814166977388, -1.2837144668636435, 1.0788074001706647, 0.770709635679897, -1.9878346523176658, -0.22118188978377493, 2.1803495732281513, -0.896958042621838, 1.166657003520393, 0.5591935822423297, -0.09120268790707306, 1.372362763596523, -0.7587802387416756, -1.3367390809112585, -0.5496673125494758, -1.5956698027689833, -0.3085149900255551, -0.9515740829350039, -0.9764054457259063, 0.20089254558087585, -1.1837907353589752, 0.6273309156347018, 0.480621080009327, -0.9923194436331658, -3.028655703581262, -0.4429279152892181, 2.160253584830107, 0.9596230747544598, -0.15095801929746455, -1.1792434907178488, 1.9048354665303866, 1.589045848139221, 1.2646665300793827, 0.3307024069427885, -0.42387849561392804, 0.18918064164554008, 1.8488605785378829, -0.6368917782634007, 0.8078496252511943, -0.18986818989758067, -0.31935533376073333, -0.6167948807496727, -0.36205457928696344, 0.087666167461351, 0.47065582674596174, -0.8780610254712392, -1.0425678809274128, 0.5748800716291017, -1.2005976154785882, 1.3643716247377509, -0.6248742169432608, -1.552085522748234, 0.8088923435765261, 0.383184951273274, -0.04573367626531149, 0.7506583580900915, 0.2641442429416921, -1.3880184791637802, -0.49665476455912105, -0.49058018996490355, 0.5437968834463308, -1.2925010205921783, 0.3688794580477229, 0.8470476490303701, 1.4947755226044173, -1.1309217018103088, -0.6948701616929415, 0.3308987928289656, 0.058128707790018594, 1.085648726485594, -0.9028762557922876, 2.391031754184587, -1.6654687376941901, 0.6788538544656444, -0.21499223351475188, -0.24686079659496307, -0.4784093744551463, -0.7504531919618652], \"xaxis\": \"x12\", \"y\": [-0.04771395406536712, -1.5043416811675911, -1.0115571512189343, -0.3196881580095592, -0.48460926456026693, 1.9324800528343704, -0.6750083050666905, -1.1928616122136295, 0.22462422287366487, 0.8172709744741067, 1.1322305903744152, -0.15709969622329584, -1.3774672022747636, 0.2578436147614736, -0.9417276351734839, -1.3677279147130692, 2.531275836486691, -2.4247358633491745, -1.1743548283392375, 0.32313460584764103, -0.05760005939342712, -1.2124084328812565, 0.4440771525759291, -0.5287821003798321, 0.8877937147896016, 0.788082572247507, -0.4024078037919625, 0.6768352646931419, 1.124769340290542, 1.514974366849765, 0.24297458585476567, -0.6717924323579235, 0.9700825220303908, 1.3011011834029327, 0.5595008546143619, -1.9107628935218424, 0.6186427496640683, -1.3160373290467176, -0.711531460545435, -0.9704509328628098, -1.515870252607532, 1.2685873954064992, -0.9373625765813777, 0.08431574252417799, 0.6209218652222007, -0.34977632773410233, 0.05742309393247231, 0.46848099989783293, -0.7012016950031474, 1.6056656668519755, 0.8897581396029682, -0.4397761711110293, -0.023013281784482753, 0.24986744106213793, -1.4052573635124295, -1.8369821561209823, 1.146483080516584, 0.8747052961016265, -0.2136239740210405, 0.18854567408788925, 1.889355327229068, 0.5355174486924671, 1.36892644822141, 0.725397359400518, -0.06354056164120563, 0.4085339621321921, 0.3155740523689549, 1.5308259601478147, -2.0652698103461717, -0.726915663761446, 1.1433844012357315, -1.301904532381038, 0.48405131134391616, -0.39233488595636745, 0.6432409606580904, -0.7781352236860143, 0.8410939618043733, 0.333085900767765, -0.057432172242264955, 1.180448028127175, 0.05168178418258711, 0.13279630314547816, 0.5923226265772704, 0.7040703331376651, -1.2590114830545602, 0.017285546023253325, 1.1241265261455342, 1.106064464217237, 0.07088827925376733, -0.567679453807794, 0.1260003892331238, 1.6952764522942068, -0.21088715728804597, 1.225933806417049, 0.9085444819827736, 0.5963963921595337, -0.6191685292863695, -1.3252801506002794, 1.0356708943482635, -0.03329873623661065], \"yaxis\": \"y12\"}, {\"line\": {\"color\": \"rgba(128, 128, 128, 1.0)\", \"dash\": \"solid\", \"shape\": \"linear\", \"width\": 1.3}, \"marker\": {\"size\": 2, \"symbol\": \"circle\"}, \"mode\": \"markers\", \"name\": \"D\", \"text\": \"\", \"type\": \"scatter\", \"x\": [0.34047230985417487, -0.5470601833793309, -1.2675378278930967, 0.6491316044070555, 0.9790849726054258, -1.733015324001771, 2.290389321238637, 0.036454781028621284, -0.9037565027827843, -1.0646210198714885, -0.7739593465059703, 1.349709681088898, 0.023198104431787304, 0.7097968765591369, -1.3190373996246016, 0.4432749340244109, 0.3382114080093792, -0.08149571062505023, 1.054706512426422, 0.42840307080408696, -1.1416823676520806, -1.2051615303417365, 0.12727852193154782, 1.5308805794798286, -0.9927193045515985, -1.3366979353879058, 0.1955269139584091, 0.7930215179572049, 1.3146642283206003, -1.018328645349817, 1.528175135223415, 1.5199500968770436, -0.14568948608290364, 0.673767247732877, -0.6291547478631949, 1.7237260355384059, -2.128409866142235, -1.2564105832946104, -0.9946511182748657, 1.3286998088243123, -0.9073035901180493, 1.1431477794473277, 0.3637094958135473, -0.5556350676836874, -0.784958397741709, 0.6599181211812783, 0.9327041584723281, 0.317808086352773, -0.45128432794925066, 0.02169308947579233, -0.38352504449075225, 0.2007362243585566, 0.4888528181246676, -1.1903891833358475, -0.7363204708075135, 0.5353027969158113, -0.009098706058621205, -0.38651580048044665, -1.9505943181122882, -0.5563156651329674, -2.137311930174342, -1.2725741121684107, -0.7820156364185031, 1.5364104241185321, -0.418215415271642, 1.7995202888116273, -1.4828590310985599, -1.527662283535423, 0.9793840714449367, 0.6974261641817958, 0.9298674505655383, 0.1463230889023217, 0.18558750120210715, -0.8649984819098265, 1.1923650660250928, -0.7288791022947565, 0.16187314515212994, 0.07901352569282546, -0.6864257743133744, -0.7638958537068636, 0.09777129712374978, 1.9894840606243682, 0.4452067408586412, 0.283836967561087, 0.68803706432445, -0.2132472849823426, -1.3999549932879618, -0.5569138588321604, 1.647324139450391, 0.31164492300874735, -0.27526326737804385, 1.3396705591673788, 1.4354991278104445, -0.7754158123349962, 1.0576465217387125, -1.2567399072669017, 1.417915162857051, 0.41595710155807697, -0.3542636977169401, -1.8437068141659367], \"xaxis\": \"x13\", \"y\": [1.2589569333371988, -0.031839142990460055, 0.8189306812569733, -1.5246622267306469, -0.5063021320591772, -1.325476643544345, -0.6860637670997545, 0.26461506776763893, -1.3622374707425282, -1.1637671181309004, -0.6360147100514426, -1.2648457466711012, 1.1729852001238945, 0.9817917825788705, 1.158663697693098, 2.0033356762471572, 1.151628003613701, 0.9952248652572545, -0.9223129537113125, -0.9012094254762871, -2.358464908201899, -0.8779060902868782, 1.7780814166977388, -1.2837144668636435, 1.0788074001706647, 0.770709635679897, -1.9878346523176658, -0.22118188978377493, 2.1803495732281513, -0.896958042621838, 1.166657003520393, 0.5591935822423297, -0.09120268790707306, 1.372362763596523, -0.7587802387416756, -1.3367390809112585, -0.5496673125494758, -1.5956698027689833, -0.3085149900255551, -0.9515740829350039, -0.9764054457259063, 0.20089254558087585, -1.1837907353589752, 0.6273309156347018, 0.480621080009327, -0.9923194436331658, -3.028655703581262, -0.4429279152892181, 2.160253584830107, 0.9596230747544598, -0.15095801929746455, -1.1792434907178488, 1.9048354665303866, 1.589045848139221, 1.2646665300793827, 0.3307024069427885, -0.42387849561392804, 0.18918064164554008, 1.8488605785378829, -0.6368917782634007, 0.8078496252511943, -0.18986818989758067, -0.31935533376073333, -0.6167948807496727, -0.36205457928696344, 0.087666167461351, 0.47065582674596174, -0.8780610254712392, -1.0425678809274128, 0.5748800716291017, -1.2005976154785882, 1.3643716247377509, -0.6248742169432608, -1.552085522748234, 0.8088923435765261, 0.383184951273274, -0.04573367626531149, 0.7506583580900915, 0.2641442429416921, -1.3880184791637802, -0.49665476455912105, -0.49058018996490355, 0.5437968834463308, -1.2925010205921783, 0.3688794580477229, 0.8470476490303701, 1.4947755226044173, -1.1309217018103088, -0.6948701616929415, 0.3308987928289656, 0.058128707790018594, 1.085648726485594, -0.9028762557922876, 2.391031754184587, -1.6654687376941901, 0.6788538544656444, -0.21499223351475188, -0.24686079659496307, -0.4784093744551463, -0.7504531919618652], \"yaxis\": \"y13\"}, {\"line\": {\"color\": \"rgba(128, 128, 128, 1.0)\", \"dash\": \"solid\", \"shape\": \"linear\", \"width\": 1.3}, \"marker\": {\"size\": 2, \"symbol\": \"circle\"}, \"mode\": \"markers\", \"name\": \"D\", \"text\": \"\", \"type\": \"scatter\", \"x\": [1.9943407701544202, 0.8732976700461123, -0.44787696876144895, 1.0780976820731896, 1.6078548939101063, 0.16317980233584287, 0.5496495894598031, 1.0102362546831511, -0.511917744122489, 0.281743139062265, 0.7216725536292614, 0.1741682812166515, 0.1785643052722124, -0.30481786184645304, -1.8509950817133969, -0.23778690258463708, -0.8630716467228144, 0.4051284595491349, 0.011693486607671525, -1.140316247327179, 0.6961449106580708, 0.07628529046739924, -0.15896345593945824, -0.914561014980909, -0.2899171259555344, 1.395367474369876, 0.9559938410991375, 0.14143756597235277, 0.9808198546062713, -0.9506065975501895, 0.3328695743314853, 0.17362323075461195, 0.8629566207204599, 0.6711995161432158, -1.7252037236321254, 0.1050150185451266, -0.6776206987366905, 0.9050109638072361, 0.3120914384835461, -0.13682847797414394, -1.0338304213946623, 0.12395061715807465, 0.38545359854491457, 1.5558315877417646, -0.5525591461019096, 0.5755905862673705, 0.11594421839394252, 2.009669467433262, 0.6720174995283758, 3.9800981023976028, 2.012483027853531, -0.0165911044931047, 0.5436983124669627, 0.2533224887728271, -2.3115522998318236, -0.24923560962574012, -1.9232267183238132, 0.05722815876193648, -1.666760834897929, 0.025844967526200354, 0.5155027670327164, 0.5022409291069994, 1.949038917238445, -1.4855667244693458, 0.8178687661814977, 1.4168279164506383, 0.11816388408156939, 0.030444589926006436, 0.8583597561128744, 0.1447413788502021, 1.3857459334031041, -0.3462272443036162, -0.7601756038235645, -0.19531967449619628, -0.1736275096618453, 0.33535248752757185, 0.42462100759789134, 0.17980065301228668, -0.04382890283922368, -0.12302613525369319, 0.8000120765971616, -0.7178499919504112, 0.2307414841193989, 2.0714126632499665, 1.7101980155882819, 0.9710013499136046, -0.6715146320607761, -0.38662889542131273, -0.009607146099274804, -0.7892315730989675, -0.0174069311032387, 0.2380637833909742, 0.9424713187875836, 0.24371148622077551, 0.5877903592172993, 0.24724599456167232, -0.2184726763217426, 0.6178629971468542, -0.5268844662083302, 0.12452138333049734], \"xaxis\": \"x14\", \"y\": [1.2589569333371988, -0.031839142990460055, 0.8189306812569733, -1.5246622267306469, -0.5063021320591772, -1.325476643544345, -0.6860637670997545, 0.26461506776763893, -1.3622374707425282, -1.1637671181309004, -0.6360147100514426, -1.2648457466711012, 1.1729852001238945, 0.9817917825788705, 1.158663697693098, 2.0033356762471572, 1.151628003613701, 0.9952248652572545, -0.9223129537113125, -0.9012094254762871, -2.358464908201899, -0.8779060902868782, 1.7780814166977388, -1.2837144668636435, 1.0788074001706647, 0.770709635679897, -1.9878346523176658, -0.22118188978377493, 2.1803495732281513, -0.896958042621838, 1.166657003520393, 0.5591935822423297, -0.09120268790707306, 1.372362763596523, -0.7587802387416756, -1.3367390809112585, -0.5496673125494758, -1.5956698027689833, -0.3085149900255551, -0.9515740829350039, -0.9764054457259063, 0.20089254558087585, -1.1837907353589752, 0.6273309156347018, 0.480621080009327, -0.9923194436331658, -3.028655703581262, -0.4429279152892181, 2.160253584830107, 0.9596230747544598, -0.15095801929746455, -1.1792434907178488, 1.9048354665303866, 1.589045848139221, 1.2646665300793827, 0.3307024069427885, -0.42387849561392804, 0.18918064164554008, 1.8488605785378829, -0.6368917782634007, 0.8078496252511943, -0.18986818989758067, -0.31935533376073333, -0.6167948807496727, -0.36205457928696344, 0.087666167461351, 0.47065582674596174, -0.8780610254712392, -1.0425678809274128, 0.5748800716291017, -1.2005976154785882, 1.3643716247377509, -0.6248742169432608, -1.552085522748234, 0.8088923435765261, 0.383184951273274, -0.04573367626531149, 0.7506583580900915, 0.2641442429416921, -1.3880184791637802, -0.49665476455912105, -0.49058018996490355, 0.5437968834463308, -1.2925010205921783, 0.3688794580477229, 0.8470476490303701, 1.4947755226044173, -1.1309217018103088, -0.6948701616929415, 0.3308987928289656, 0.058128707790018594, 1.085648726485594, -0.9028762557922876, 2.391031754184587, -1.6654687376941901, 0.6788538544656444, -0.21499223351475188, -0.24686079659496307, -0.4784093744551463, -0.7504531919618652], \"yaxis\": \"y14\"}, {\"line\": {\"color\": \"rgba(128, 128, 128, 1.0)\", \"dash\": \"solid\", \"shape\": \"linear\", \"width\": 1.3}, \"marker\": {\"size\": 2, \"symbol\": \"circle\"}, \"mode\": \"markers\", \"name\": \"D\", \"text\": \"\", \"type\": \"scatter\", \"x\": [-0.04771395406536712, -1.5043416811675911, -1.0115571512189343, -0.3196881580095592, -0.48460926456026693, 1.9324800528343704, -0.6750083050666905, -1.1928616122136295, 0.22462422287366487, 0.8172709744741067, 1.1322305903744152, -0.15709969622329584, -1.3774672022747636, 0.2578436147614736, -0.9417276351734839, -1.3677279147130692, 2.531275836486691, -2.4247358633491745, -1.1743548283392375, 0.32313460584764103, -0.05760005939342712, -1.2124084328812565, 0.4440771525759291, -0.5287821003798321, 0.8877937147896016, 0.788082572247507, -0.4024078037919625, 0.6768352646931419, 1.124769340290542, 1.514974366849765, 0.24297458585476567, -0.6717924323579235, 0.9700825220303908, 1.3011011834029327, 0.5595008546143619, -1.9107628935218424, 0.6186427496640683, -1.3160373290467176, -0.711531460545435, -0.9704509328628098, -1.515870252607532, 1.2685873954064992, -0.9373625765813777, 0.08431574252417799, 0.6209218652222007, -0.34977632773410233, 0.05742309393247231, 0.46848099989783293, -0.7012016950031474, 1.6056656668519755, 0.8897581396029682, -0.4397761711110293, -0.023013281784482753, 0.24986744106213793, -1.4052573635124295, -1.8369821561209823, 1.146483080516584, 0.8747052961016265, -0.2136239740210405, 0.18854567408788925, 1.889355327229068, 0.5355174486924671, 1.36892644822141, 0.725397359400518, -0.06354056164120563, 0.4085339621321921, 0.3155740523689549, 1.5308259601478147, -2.0652698103461717, -0.726915663761446, 1.1433844012357315, -1.301904532381038, 0.48405131134391616, -0.39233488595636745, 0.6432409606580904, -0.7781352236860143, 0.8410939618043733, 0.333085900767765, -0.057432172242264955, 1.180448028127175, 0.05168178418258711, 0.13279630314547816, 0.5923226265772704, 0.7040703331376651, -1.2590114830545602, 0.017285546023253325, 1.1241265261455342, 1.106064464217237, 0.07088827925376733, -0.567679453807794, 0.1260003892331238, 1.6952764522942068, -0.21088715728804597, 1.225933806417049, 0.9085444819827736, 0.5963963921595337, -0.6191685292863695, -1.3252801506002794, 1.0356708943482635, -0.03329873623661065], \"xaxis\": \"x15\", \"y\": [1.2589569333371988, -0.031839142990460055, 0.8189306812569733, -1.5246622267306469, -0.5063021320591772, -1.325476643544345, -0.6860637670997545, 0.26461506776763893, -1.3622374707425282, -1.1637671181309004, -0.6360147100514426, -1.2648457466711012, 1.1729852001238945, 0.9817917825788705, 1.158663697693098, 2.0033356762471572, 1.151628003613701, 0.9952248652572545, -0.9223129537113125, -0.9012094254762871, -2.358464908201899, -0.8779060902868782, 1.7780814166977388, -1.2837144668636435, 1.0788074001706647, 0.770709635679897, -1.9878346523176658, -0.22118188978377493, 2.1803495732281513, -0.896958042621838, 1.166657003520393, 0.5591935822423297, -0.09120268790707306, 1.372362763596523, -0.7587802387416756, -1.3367390809112585, -0.5496673125494758, -1.5956698027689833, -0.3085149900255551, -0.9515740829350039, -0.9764054457259063, 0.20089254558087585, -1.1837907353589752, 0.6273309156347018, 0.480621080009327, -0.9923194436331658, -3.028655703581262, -0.4429279152892181, 2.160253584830107, 0.9596230747544598, -0.15095801929746455, -1.1792434907178488, 1.9048354665303866, 1.589045848139221, 1.2646665300793827, 0.3307024069427885, -0.42387849561392804, 0.18918064164554008, 1.8488605785378829, -0.6368917782634007, 0.8078496252511943, -0.18986818989758067, -0.31935533376073333, -0.6167948807496727, -0.36205457928696344, 0.087666167461351, 0.47065582674596174, -0.8780610254712392, -1.0425678809274128, 0.5748800716291017, -1.2005976154785882, 1.3643716247377509, -0.6248742169432608, -1.552085522748234, 0.8088923435765261, 0.383184951273274, -0.04573367626531149, 0.7506583580900915, 0.2641442429416921, -1.3880184791637802, -0.49665476455912105, -0.49058018996490355, 0.5437968834463308, -1.2925010205921783, 0.3688794580477229, 0.8470476490303701, 1.4947755226044173, -1.1309217018103088, -0.6948701616929415, 0.3308987928289656, 0.058128707790018594, 1.085648726485594, -0.9028762557922876, 2.391031754184587, -1.6654687376941901, 0.6788538544656444, -0.21499223351475188, -0.24686079659496307, -0.4784093744551463, -0.7504531919618652], \"yaxis\": \"y15\"}, {\"histfunc\": \"count\", \"histnorm\": \"\", \"marker\": {\"color\": \"rgba(128, 0, 128, 1.0)\", \"line\": {\"color\": \"#4D5663\", \"width\": 1.3}}, \"name\": \"D\", \"nbinsx\": 10, \"opacity\": 0.8, \"orientation\": \"v\", \"type\": \"histogram\", \"x\": [1.2589569333371988, -0.031839142990460055, 0.8189306812569733, -1.5246622267306469, -0.5063021320591772, -1.325476643544345, -0.6860637670997545, 0.26461506776763893, -1.3622374707425282, -1.1637671181309004, -0.6360147100514426, -1.2648457466711012, 1.1729852001238945, 0.9817917825788705, 1.158663697693098, 2.0033356762471572, 1.151628003613701, 0.9952248652572545, -0.9223129537113125, -0.9012094254762871, -2.358464908201899, -0.8779060902868782, 1.7780814166977388, -1.2837144668636435, 1.0788074001706647, 0.770709635679897, -1.9878346523176658, -0.22118188978377493, 2.1803495732281513, -0.896958042621838, 1.166657003520393, 0.5591935822423297, -0.09120268790707306, 1.372362763596523, -0.7587802387416756, -1.3367390809112585, -0.5496673125494758, -1.5956698027689833, -0.3085149900255551, -0.9515740829350039, -0.9764054457259063, 0.20089254558087585, -1.1837907353589752, 0.6273309156347018, 0.480621080009327, -0.9923194436331658, -3.028655703581262, -0.4429279152892181, 2.160253584830107, 0.9596230747544598, -0.15095801929746455, -1.1792434907178488, 1.9048354665303866, 1.589045848139221, 1.2646665300793827, 0.3307024069427885, -0.42387849561392804, 0.18918064164554008, 1.8488605785378829, -0.6368917782634007, 0.8078496252511943, -0.18986818989758067, -0.31935533376073333, -0.6167948807496727, -0.36205457928696344, 0.087666167461351, 0.47065582674596174, -0.8780610254712392, -1.0425678809274128, 0.5748800716291017, -1.2005976154785882, 1.3643716247377509, -0.6248742169432608, -1.552085522748234, 0.8088923435765261, 0.383184951273274, -0.04573367626531149, 0.7506583580900915, 0.2641442429416921, -1.3880184791637802, -0.49665476455912105, -0.49058018996490355, 0.5437968834463308, -1.2925010205921783, 0.3688794580477229, 0.8470476490303701, 1.4947755226044173, -1.1309217018103088, -0.6948701616929415, 0.3308987928289656, 0.058128707790018594, 1.085648726485594, -0.9028762557922876, 2.391031754184587, -1.6654687376941901, 0.6788538544656444, -0.21499223351475188, -0.24686079659496307, -0.4784093744551463, -0.7504531919618652], \"xaxis\": \"x16\", \"yaxis\": \"y16\"}],\n",
       "                        {\"bargap\": 0.02, \"legend\": {\"bgcolor\": \"#F5F6F9\", \"font\": {\"color\": \"#4D5663\"}}, \"paper_bgcolor\": \"#F5F6F9\", \"plot_bgcolor\": \"#F5F6F9\", \"showlegend\": false, \"template\": {\"data\": {\"bar\": [{\"error_x\": {\"color\": \"#2a3f5f\"}, \"error_y\": {\"color\": \"#2a3f5f\"}, \"marker\": {\"line\": {\"color\": \"#E5ECF6\", \"width\": 0.5}}, \"type\": \"bar\"}], \"barpolar\": [{\"marker\": {\"line\": {\"color\": \"#E5ECF6\", \"width\": 0.5}}, \"type\": \"barpolar\"}], \"carpet\": [{\"aaxis\": {\"endlinecolor\": \"#2a3f5f\", \"gridcolor\": \"white\", \"linecolor\": \"white\", \"minorgridcolor\": \"white\", \"startlinecolor\": \"#2a3f5f\"}, \"baxis\": {\"endlinecolor\": \"#2a3f5f\", \"gridcolor\": \"white\", \"linecolor\": \"white\", \"minorgridcolor\": \"white\", \"startlinecolor\": \"#2a3f5f\"}, \"type\": \"carpet\"}], \"choropleth\": [{\"colorbar\": {\"outlinewidth\": 0, \"ticks\": \"\"}, \"type\": \"choropleth\"}], \"contour\": [{\"colorbar\": {\"outlinewidth\": 0, \"ticks\": \"\"}, \"colorscale\": [[0.0, \"#0d0887\"], [0.1111111111111111, \"#46039f\"], [0.2222222222222222, \"#7201a8\"], [0.3333333333333333, \"#9c179e\"], [0.4444444444444444, \"#bd3786\"], [0.5555555555555556, \"#d8576b\"], [0.6666666666666666, \"#ed7953\"], [0.7777777777777778, \"#fb9f3a\"], [0.8888888888888888, \"#fdca26\"], [1.0, \"#f0f921\"]], \"type\": \"contour\"}], \"contourcarpet\": [{\"colorbar\": {\"outlinewidth\": 0, \"ticks\": \"\"}, \"type\": \"contourcarpet\"}], \"heatmap\": [{\"colorbar\": {\"outlinewidth\": 0, \"ticks\": \"\"}, \"colorscale\": [[0.0, \"#0d0887\"], [0.1111111111111111, \"#46039f\"], [0.2222222222222222, \"#7201a8\"], [0.3333333333333333, \"#9c179e\"], [0.4444444444444444, \"#bd3786\"], [0.5555555555555556, \"#d8576b\"], [0.6666666666666666, \"#ed7953\"], [0.7777777777777778, \"#fb9f3a\"], [0.8888888888888888, \"#fdca26\"], [1.0, \"#f0f921\"]], \"type\": \"heatmap\"}], \"heatmapgl\": [{\"colorbar\": {\"outlinewidth\": 0, \"ticks\": \"\"}, \"colorscale\": [[0.0, \"#0d0887\"], [0.1111111111111111, \"#46039f\"], [0.2222222222222222, \"#7201a8\"], [0.3333333333333333, \"#9c179e\"], [0.4444444444444444, \"#bd3786\"], [0.5555555555555556, \"#d8576b\"], [0.6666666666666666, \"#ed7953\"], [0.7777777777777778, \"#fb9f3a\"], [0.8888888888888888, \"#fdca26\"], [1.0, \"#f0f921\"]], \"type\": \"heatmapgl\"}], \"histogram\": [{\"marker\": {\"colorbar\": {\"outlinewidth\": 0, \"ticks\": \"\"}}, \"type\": \"histogram\"}], \"histogram2d\": [{\"colorbar\": {\"outlinewidth\": 0, \"ticks\": \"\"}, \"colorscale\": [[0.0, \"#0d0887\"], [0.1111111111111111, \"#46039f\"], [0.2222222222222222, \"#7201a8\"], [0.3333333333333333, \"#9c179e\"], [0.4444444444444444, \"#bd3786\"], [0.5555555555555556, \"#d8576b\"], [0.6666666666666666, \"#ed7953\"], [0.7777777777777778, \"#fb9f3a\"], [0.8888888888888888, \"#fdca26\"], [1.0, \"#f0f921\"]], \"type\": \"histogram2d\"}], \"histogram2dcontour\": [{\"colorbar\": {\"outlinewidth\": 0, \"ticks\": \"\"}, \"colorscale\": [[0.0, \"#0d0887\"], [0.1111111111111111, \"#46039f\"], [0.2222222222222222, \"#7201a8\"], [0.3333333333333333, \"#9c179e\"], [0.4444444444444444, \"#bd3786\"], [0.5555555555555556, \"#d8576b\"], [0.6666666666666666, \"#ed7953\"], [0.7777777777777778, \"#fb9f3a\"], [0.8888888888888888, \"#fdca26\"], [1.0, \"#f0f921\"]], \"type\": \"histogram2dcontour\"}], \"mesh3d\": [{\"colorbar\": {\"outlinewidth\": 0, \"ticks\": \"\"}, \"type\": \"mesh3d\"}], \"parcoords\": [{\"line\": {\"colorbar\": {\"outlinewidth\": 0, \"ticks\": \"\"}}, \"type\": \"parcoords\"}], \"pie\": [{\"automargin\": true, \"type\": \"pie\"}], \"scatter\": [{\"marker\": {\"colorbar\": {\"outlinewidth\": 0, \"ticks\": \"\"}}, \"type\": \"scatter\"}], \"scatter3d\": [{\"line\": {\"colorbar\": {\"outlinewidth\": 0, \"ticks\": \"\"}}, \"marker\": {\"colorbar\": {\"outlinewidth\": 0, \"ticks\": \"\"}}, \"type\": \"scatter3d\"}], \"scattercarpet\": [{\"marker\": {\"colorbar\": {\"outlinewidth\": 0, \"ticks\": \"\"}}, \"type\": \"scattercarpet\"}], \"scattergeo\": [{\"marker\": {\"colorbar\": {\"outlinewidth\": 0, \"ticks\": \"\"}}, \"type\": \"scattergeo\"}], \"scattergl\": [{\"marker\": {\"colorbar\": {\"outlinewidth\": 0, \"ticks\": \"\"}}, \"type\": \"scattergl\"}], \"scattermapbox\": [{\"marker\": {\"colorbar\": {\"outlinewidth\": 0, \"ticks\": \"\"}}, \"type\": \"scattermapbox\"}], \"scatterpolar\": [{\"marker\": {\"colorbar\": {\"outlinewidth\": 0, \"ticks\": \"\"}}, \"type\": \"scatterpolar\"}], \"scatterpolargl\": [{\"marker\": {\"colorbar\": {\"outlinewidth\": 0, \"ticks\": \"\"}}, \"type\": \"scatterpolargl\"}], \"scatterternary\": [{\"marker\": {\"colorbar\": {\"outlinewidth\": 0, \"ticks\": \"\"}}, \"type\": \"scatterternary\"}], \"surface\": [{\"colorbar\": {\"outlinewidth\": 0, \"ticks\": \"\"}, \"colorscale\": [[0.0, \"#0d0887\"], [0.1111111111111111, \"#46039f\"], [0.2222222222222222, \"#7201a8\"], [0.3333333333333333, \"#9c179e\"], [0.4444444444444444, \"#bd3786\"], [0.5555555555555556, \"#d8576b\"], [0.6666666666666666, \"#ed7953\"], [0.7777777777777778, \"#fb9f3a\"], [0.8888888888888888, \"#fdca26\"], [1.0, \"#f0f921\"]], \"type\": \"surface\"}], \"table\": [{\"cells\": {\"fill\": {\"color\": \"#EBF0F8\"}, \"line\": {\"color\": \"white\"}}, \"header\": {\"fill\": {\"color\": \"#C8D4E3\"}, \"line\": {\"color\": \"white\"}}, \"type\": \"table\"}]}, \"layout\": {\"annotationdefaults\": {\"arrowcolor\": \"#2a3f5f\", \"arrowhead\": 0, \"arrowwidth\": 1}, \"coloraxis\": {\"colorbar\": {\"outlinewidth\": 0, \"ticks\": \"\"}}, \"colorscale\": {\"diverging\": [[0, \"#8e0152\"], [0.1, \"#c51b7d\"], [0.2, \"#de77ae\"], [0.3, \"#f1b6da\"], [0.4, \"#fde0ef\"], [0.5, \"#f7f7f7\"], [0.6, \"#e6f5d0\"], [0.7, \"#b8e186\"], [0.8, \"#7fbc41\"], [0.9, \"#4d9221\"], [1, \"#276419\"]], \"sequential\": [[0.0, \"#0d0887\"], [0.1111111111111111, \"#46039f\"], [0.2222222222222222, \"#7201a8\"], [0.3333333333333333, \"#9c179e\"], [0.4444444444444444, \"#bd3786\"], [0.5555555555555556, \"#d8576b\"], [0.6666666666666666, \"#ed7953\"], [0.7777777777777778, \"#fb9f3a\"], [0.8888888888888888, \"#fdca26\"], [1.0, \"#f0f921\"]], \"sequentialminus\": [[0.0, \"#0d0887\"], [0.1111111111111111, \"#46039f\"], [0.2222222222222222, \"#7201a8\"], [0.3333333333333333, \"#9c179e\"], [0.4444444444444444, \"#bd3786\"], [0.5555555555555556, \"#d8576b\"], [0.6666666666666666, \"#ed7953\"], [0.7777777777777778, \"#fb9f3a\"], [0.8888888888888888, \"#fdca26\"], [1.0, \"#f0f921\"]]}, \"colorway\": [\"#636efa\", \"#EF553B\", \"#00cc96\", \"#ab63fa\", \"#FFA15A\", \"#19d3f3\", \"#FF6692\", \"#B6E880\", \"#FF97FF\", \"#FECB52\"], \"font\": {\"color\": \"#2a3f5f\"}, \"geo\": {\"bgcolor\": \"white\", \"lakecolor\": \"white\", \"landcolor\": \"#E5ECF6\", \"showlakes\": true, \"showland\": true, \"subunitcolor\": \"white\"}, \"hoverlabel\": {\"align\": \"left\"}, \"hovermode\": \"closest\", \"mapbox\": {\"style\": \"light\"}, \"paper_bgcolor\": \"white\", \"plot_bgcolor\": \"#E5ECF6\", \"polar\": {\"angularaxis\": {\"gridcolor\": \"white\", \"linecolor\": \"white\", \"ticks\": \"\"}, \"bgcolor\": \"#E5ECF6\", \"radialaxis\": {\"gridcolor\": \"white\", \"linecolor\": \"white\", \"ticks\": \"\"}}, \"scene\": {\"xaxis\": {\"backgroundcolor\": \"#E5ECF6\", \"gridcolor\": \"white\", \"gridwidth\": 2, \"linecolor\": \"white\", \"showbackground\": true, \"ticks\": \"\", \"zerolinecolor\": \"white\"}, \"yaxis\": {\"backgroundcolor\": \"#E5ECF6\", \"gridcolor\": \"white\", \"gridwidth\": 2, \"linecolor\": \"white\", \"showbackground\": true, \"ticks\": \"\", \"zerolinecolor\": \"white\"}, \"zaxis\": {\"backgroundcolor\": \"#E5ECF6\", \"gridcolor\": \"white\", \"gridwidth\": 2, \"linecolor\": \"white\", \"showbackground\": true, \"ticks\": \"\", \"zerolinecolor\": \"white\"}}, \"shapedefaults\": {\"line\": {\"color\": \"#2a3f5f\"}}, \"ternary\": {\"aaxis\": {\"gridcolor\": \"white\", \"linecolor\": \"white\", \"ticks\": \"\"}, \"baxis\": {\"gridcolor\": \"white\", \"linecolor\": \"white\", \"ticks\": \"\"}, \"bgcolor\": \"#E5ECF6\", \"caxis\": {\"gridcolor\": \"white\", \"linecolor\": \"white\", \"ticks\": \"\"}}, \"title\": {\"x\": 0.05}, \"xaxis\": {\"automargin\": true, \"gridcolor\": \"white\", \"linecolor\": \"white\", \"ticks\": \"\", \"title\": {\"standoff\": 15}, \"zerolinecolor\": \"white\", \"zerolinewidth\": 2}, \"yaxis\": {\"automargin\": true, \"gridcolor\": \"white\", \"linecolor\": \"white\", \"ticks\": \"\", \"title\": {\"standoff\": 15}, \"zerolinecolor\": \"white\", \"zerolinewidth\": 2}}}, \"title\": {\"font\": {\"color\": \"#4D5663\"}}, \"xaxis\": {\"anchor\": \"y\", \"domain\": [0.0, 0.2125], \"gridcolor\": \"#E1E5ED\", \"showgrid\": false, \"tickfont\": {\"color\": \"#4D5663\"}, \"title\": {\"font\": {\"color\": \"#4D5663\"}, \"text\": \"\"}, \"zerolinecolor\": \"#E1E5ED\"}, \"xaxis10\": {\"anchor\": \"y10\", \"domain\": [0.2625, 0.475], \"gridcolor\": \"#E1E5ED\", \"showgrid\": false, \"tickfont\": {\"color\": \"#4D5663\"}, \"title\": {\"font\": {\"color\": \"#4D5663\"}, \"text\": \"\"}, \"zerolinecolor\": \"#E1E5ED\"}, \"xaxis11\": {\"anchor\": \"y11\", \"domain\": [0.525, 0.7375], \"gridcolor\": \"#E1E5ED\", \"showgrid\": false, \"tickfont\": {\"color\": \"#4D5663\"}, \"title\": {\"font\": {\"color\": \"#4D5663\"}, \"text\": \"\"}, \"zerolinecolor\": \"#E1E5ED\"}, \"xaxis12\": {\"anchor\": \"y12\", \"domain\": [0.7875, 1.0], \"gridcolor\": \"#E1E5ED\", \"showgrid\": false, \"tickfont\": {\"color\": \"#4D5663\"}, \"title\": {\"font\": {\"color\": \"#4D5663\"}, \"text\": \"\"}, \"zerolinecolor\": \"#E1E5ED\"}, \"xaxis13\": {\"anchor\": \"y13\", \"domain\": [0.0, 0.2125], \"gridcolor\": \"#E1E5ED\", \"showgrid\": false, \"tickfont\": {\"color\": \"#4D5663\"}, \"title\": {\"font\": {\"color\": \"#4D5663\"}, \"text\": \"\"}, \"zerolinecolor\": \"#E1E5ED\"}, \"xaxis14\": {\"anchor\": \"y14\", \"domain\": [0.2625, 0.475], \"gridcolor\": \"#E1E5ED\", \"showgrid\": false, \"tickfont\": {\"color\": \"#4D5663\"}, \"title\": {\"font\": {\"color\": \"#4D5663\"}, \"text\": \"\"}, \"zerolinecolor\": \"#E1E5ED\"}, \"xaxis15\": {\"anchor\": \"y15\", \"domain\": [0.525, 0.7375], \"gridcolor\": \"#E1E5ED\", \"showgrid\": false, \"tickfont\": {\"color\": \"#4D5663\"}, \"title\": {\"font\": {\"color\": \"#4D5663\"}, \"text\": \"\"}, \"zerolinecolor\": \"#E1E5ED\"}, \"xaxis16\": {\"anchor\": \"y16\", \"domain\": [0.7875, 1.0], \"gridcolor\": \"#E1E5ED\", \"showgrid\": false, \"tickfont\": {\"color\": \"#4D5663\"}, \"title\": {\"font\": {\"color\": \"#4D5663\"}, \"text\": \"\"}, \"zerolinecolor\": \"#E1E5ED\"}, \"xaxis2\": {\"anchor\": \"y2\", \"domain\": [0.2625, 0.475], \"gridcolor\": \"#E1E5ED\", \"showgrid\": false, \"tickfont\": {\"color\": \"#4D5663\"}, \"title\": {\"font\": {\"color\": \"#4D5663\"}, \"text\": \"\"}, \"zerolinecolor\": \"#E1E5ED\"}, \"xaxis3\": {\"anchor\": \"y3\", \"domain\": [0.525, 0.7375], \"gridcolor\": \"#E1E5ED\", \"showgrid\": false, \"tickfont\": {\"color\": \"#4D5663\"}, \"title\": {\"font\": {\"color\": \"#4D5663\"}, \"text\": \"\"}, \"zerolinecolor\": \"#E1E5ED\"}, \"xaxis4\": {\"anchor\": \"y4\", \"domain\": [0.7875, 1.0], \"gridcolor\": \"#E1E5ED\", \"showgrid\": false, \"tickfont\": {\"color\": \"#4D5663\"}, \"title\": {\"font\": {\"color\": \"#4D5663\"}, \"text\": \"\"}, \"zerolinecolor\": \"#E1E5ED\"}, \"xaxis5\": {\"anchor\": \"y5\", \"domain\": [0.0, 0.2125], \"gridcolor\": \"#E1E5ED\", \"showgrid\": false, \"tickfont\": {\"color\": \"#4D5663\"}, \"title\": {\"font\": {\"color\": \"#4D5663\"}, \"text\": \"\"}, \"zerolinecolor\": \"#E1E5ED\"}, \"xaxis6\": {\"anchor\": \"y6\", \"domain\": [0.2625, 0.475], \"gridcolor\": \"#E1E5ED\", \"showgrid\": false, \"tickfont\": {\"color\": \"#4D5663\"}, \"title\": {\"font\": {\"color\": \"#4D5663\"}, \"text\": \"\"}, \"zerolinecolor\": \"#E1E5ED\"}, \"xaxis7\": {\"anchor\": \"y7\", \"domain\": [0.525, 0.7375], \"gridcolor\": \"#E1E5ED\", \"showgrid\": false, \"tickfont\": {\"color\": \"#4D5663\"}, \"title\": {\"font\": {\"color\": \"#4D5663\"}, \"text\": \"\"}, \"zerolinecolor\": \"#E1E5ED\"}, \"xaxis8\": {\"anchor\": \"y8\", \"domain\": [0.7875, 1.0], \"gridcolor\": \"#E1E5ED\", \"showgrid\": false, \"tickfont\": {\"color\": \"#4D5663\"}, \"title\": {\"font\": {\"color\": \"#4D5663\"}, \"text\": \"\"}, \"zerolinecolor\": \"#E1E5ED\"}, \"xaxis9\": {\"anchor\": \"y9\", \"domain\": [0.0, 0.2125], \"gridcolor\": \"#E1E5ED\", \"showgrid\": false, \"tickfont\": {\"color\": \"#4D5663\"}, \"title\": {\"font\": {\"color\": \"#4D5663\"}, \"text\": \"\"}, \"zerolinecolor\": \"#E1E5ED\"}, \"yaxis\": {\"anchor\": \"x\", \"domain\": [0.8025, 1.0], \"gridcolor\": \"#E1E5ED\", \"showgrid\": false, \"tickfont\": {\"color\": \"#4D5663\"}, \"title\": {\"font\": {\"color\": \"#4D5663\"}, \"text\": \"\"}, \"zerolinecolor\": \"#E1E5ED\"}, \"yaxis10\": {\"anchor\": \"x10\", \"domain\": [0.2675, 0.465], \"gridcolor\": \"#E1E5ED\", \"showgrid\": false, \"tickfont\": {\"color\": \"#4D5663\"}, \"title\": {\"font\": {\"color\": \"#4D5663\"}, \"text\": \"\"}, \"zerolinecolor\": \"#E1E5ED\"}, \"yaxis11\": {\"anchor\": \"x11\", \"domain\": [0.2675, 0.465], \"gridcolor\": \"#E1E5ED\", \"showgrid\": false, \"tickfont\": {\"color\": \"#4D5663\"}, \"title\": {\"font\": {\"color\": \"#4D5663\"}, \"text\": \"\"}, \"zerolinecolor\": \"#E1E5ED\"}, \"yaxis12\": {\"anchor\": \"x12\", \"domain\": [0.2675, 0.465], \"gridcolor\": \"#E1E5ED\", \"showgrid\": false, \"tickfont\": {\"color\": \"#4D5663\"}, \"title\": {\"font\": {\"color\": \"#4D5663\"}, \"text\": \"\"}, \"zerolinecolor\": \"#E1E5ED\"}, \"yaxis13\": {\"anchor\": \"x13\", \"domain\": [0.0, 0.1975], \"gridcolor\": \"#E1E5ED\", \"showgrid\": false, \"tickfont\": {\"color\": \"#4D5663\"}, \"title\": {\"font\": {\"color\": \"#4D5663\"}, \"text\": \"\"}, \"zerolinecolor\": \"#E1E5ED\"}, \"yaxis14\": {\"anchor\": \"x14\", \"domain\": [0.0, 0.1975], \"gridcolor\": \"#E1E5ED\", \"showgrid\": false, \"tickfont\": {\"color\": \"#4D5663\"}, \"title\": {\"font\": {\"color\": \"#4D5663\"}, \"text\": \"\"}, \"zerolinecolor\": \"#E1E5ED\"}, \"yaxis15\": {\"anchor\": \"x15\", \"domain\": [0.0, 0.1975], \"gridcolor\": \"#E1E5ED\", \"showgrid\": false, \"tickfont\": {\"color\": \"#4D5663\"}, \"title\": {\"font\": {\"color\": \"#4D5663\"}, \"text\": \"\"}, \"zerolinecolor\": \"#E1E5ED\"}, \"yaxis16\": {\"anchor\": \"x16\", \"domain\": [0.0, 0.1975], \"gridcolor\": \"#E1E5ED\", \"showgrid\": false, \"tickfont\": {\"color\": \"#4D5663\"}, \"title\": {\"font\": {\"color\": \"#4D5663\"}, \"text\": \"\"}, \"zerolinecolor\": \"#E1E5ED\"}, \"yaxis2\": {\"anchor\": \"x2\", \"domain\": [0.8025, 1.0], \"gridcolor\": \"#E1E5ED\", \"showgrid\": false, \"tickfont\": {\"color\": \"#4D5663\"}, \"title\": {\"font\": {\"color\": \"#4D5663\"}, \"text\": \"\"}, \"zerolinecolor\": \"#E1E5ED\"}, \"yaxis3\": {\"anchor\": \"x3\", \"domain\": [0.8025, 1.0], \"gridcolor\": \"#E1E5ED\", \"showgrid\": false, \"tickfont\": {\"color\": \"#4D5663\"}, \"title\": {\"font\": {\"color\": \"#4D5663\"}, \"text\": \"\"}, \"zerolinecolor\": \"#E1E5ED\"}, \"yaxis4\": {\"anchor\": \"x4\", \"domain\": [0.8025, 1.0], \"gridcolor\": \"#E1E5ED\", \"showgrid\": false, \"tickfont\": {\"color\": \"#4D5663\"}, \"title\": {\"font\": {\"color\": \"#4D5663\"}, \"text\": \"\"}, \"zerolinecolor\": \"#E1E5ED\"}, \"yaxis5\": {\"anchor\": \"x5\", \"domain\": [0.535, 0.7325], \"gridcolor\": \"#E1E5ED\", \"showgrid\": false, \"tickfont\": {\"color\": \"#4D5663\"}, \"title\": {\"font\": {\"color\": \"#4D5663\"}, \"text\": \"\"}, \"zerolinecolor\": \"#E1E5ED\"}, \"yaxis6\": {\"anchor\": \"x6\", \"domain\": [0.535, 0.7325], \"gridcolor\": \"#E1E5ED\", \"showgrid\": false, \"tickfont\": {\"color\": \"#4D5663\"}, \"title\": {\"font\": {\"color\": \"#4D5663\"}, \"text\": \"\"}, \"zerolinecolor\": \"#E1E5ED\"}, \"yaxis7\": {\"anchor\": \"x7\", \"domain\": [0.535, 0.7325], \"gridcolor\": \"#E1E5ED\", \"showgrid\": false, \"tickfont\": {\"color\": \"#4D5663\"}, \"title\": {\"font\": {\"color\": \"#4D5663\"}, \"text\": \"\"}, \"zerolinecolor\": \"#E1E5ED\"}, \"yaxis8\": {\"anchor\": \"x8\", \"domain\": [0.535, 0.7325], \"gridcolor\": \"#E1E5ED\", \"showgrid\": false, \"tickfont\": {\"color\": \"#4D5663\"}, \"title\": {\"font\": {\"color\": \"#4D5663\"}, \"text\": \"\"}, \"zerolinecolor\": \"#E1E5ED\"}, \"yaxis9\": {\"anchor\": \"x9\", \"domain\": [0.2675, 0.465], \"gridcolor\": \"#E1E5ED\", \"showgrid\": false, \"tickfont\": {\"color\": \"#4D5663\"}, \"title\": {\"font\": {\"color\": \"#4D5663\"}, \"text\": \"\"}, \"zerolinecolor\": \"#E1E5ED\"}},\n",
       "                        {\"showLink\": true, \"linkText\": \"Export to plot.ly\", \"plotlyServerURL\": \"https://plot.ly\", \"responsive\": true}\n",
       "                    ).then(function(){\n",
       "                            \n",
       "var gd = document.getElementById('9313d930-09cd-4970-b2ed-e098e689df4d');\n",
       "var x = new MutationObserver(function (mutations, observer) {{\n",
       "        var display = window.getComputedStyle(gd).display;\n",
       "        if (!display || display === 'none') {{\n",
       "            console.log([gd, 'removed!']);\n",
       "            Plotly.purge(gd);\n",
       "            observer.disconnect();\n",
       "        }}\n",
       "}});\n",
       "\n",
       "// Listen for the removal of the full notebook cells\n",
       "var notebookContainer = gd.closest('#notebook-container');\n",
       "if (notebookContainer) {{\n",
       "    x.observe(notebookContainer, {childList: true});\n",
       "}}\n",
       "\n",
       "// Listen for the clearing of the current output cell\n",
       "var outputEl = gd.closest('.output');\n",
       "if (outputEl) {{\n",
       "    x.observe(outputEl, {childList: true});\n",
       "}}\n",
       "\n",
       "                        })\n",
       "                };\n",
       "                });\n",
       "            </script>\n",
       "        </div>"
      ]
     },
     "metadata": {},
     "output_type": "display_data"
    }
   ],
   "source": [
    "df.scatter_matrix()"
   ]
  },
  {
   "cell_type": "code",
   "execution_count": null,
   "metadata": {},
   "outputs": [],
   "source": []
  },
  {
   "cell_type": "code",
   "execution_count": null,
   "metadata": {},
   "outputs": [],
   "source": []
  }
 ],
 "metadata": {
  "kernelspec": {
   "display_name": "Python 3",
   "language": "python",
   "name": "python3"
  },
  "language_info": {
   "codemirror_mode": {
    "name": "ipython",
    "version": 3
   },
   "file_extension": ".py",
   "mimetype": "text/x-python",
   "name": "python",
   "nbconvert_exporter": "python",
   "pygments_lexer": "ipython3",
   "version": "3.8.5"
  }
 },
 "nbformat": 4,
 "nbformat_minor": 4
}
