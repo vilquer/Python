{
 "cells": [
  {
   "cell_type": "markdown",
   "metadata": {},
   "source": [
    "# <font color='blue'>Data Science Academy - Python Fundamentos - Capítulo 8</font>\n",
    "\n",
    "## Download: http://github.com/dsacademybr"
   ]
  },
  {
   "cell_type": "code",
   "execution_count": null,
   "metadata": {},
   "outputs": [],
   "source": [
    "# Versão da Linguagem Python\n",
    "from platform import python_version\n",
    "print('Versão da Linguagem Python Usada Neste Jupyter Notebook:', python_version())"
   ]
  },
  {
   "cell_type": "markdown",
   "metadata": {},
   "source": [
    "### Exercícios Sobre Módulos Python Para Análise de Dados"
   ]
  },
  {
   "cell_type": "markdown",
   "metadata": {},
   "source": [
    "### ****** ATENÇÃO ******\n",
    "### Alguns dos exercícios podem requerer pesquisa adicional na documentação dos pacotes. Pesquise!"
   ]
  },
  {
   "cell_type": "markdown",
   "metadata": {},
   "source": [
    "### Exercício 1"
   ]
  },
  {
   "cell_type": "code",
   "execution_count": null,
   "metadata": {},
   "outputs": [],
   "source": [
    "# Crie um array NumPy com 1000000 e uma lista com 1000000.\n",
    "# Multiplique cada elemento do array e da lista por 2 e calcule o tempo de execução com cada um dos objetos (use %time).\n",
    "# Qual objeto oferece melhor performance, array NumPy ou lista?"
   ]
  },
  {
   "cell_type": "code",
   "execution_count": 14,
   "metadata": {},
   "outputs": [],
   "source": [
    "import numpy as np\n",
    "import time"
   ]
  },
  {
   "cell_type": "code",
   "execution_count": 17,
   "metadata": {},
   "outputs": [],
   "source": [
    "lista = list(range(1000000))\n",
    "array = np.arange(1000000)"
   ]
  },
  {
   "cell_type": "code",
   "execution_count": 23,
   "metadata": {},
   "outputs": [
    {
     "name": "stdout",
     "output_type": "stream",
     "text": [
      "Wall time: 15 ms\n"
     ]
    }
   ],
   "source": [
    "%%time\n",
    "lista2 = []\n",
    "for i in lista:\n",
    "    lista2.append(i * 2)"
   ]
  },
  {
   "cell_type": "code",
   "execution_count": 24,
   "metadata": {},
   "outputs": [
    {
     "name": "stdout",
     "output_type": "stream",
     "text": [
      "Wall time: 3.03 ms\n"
     ]
    }
   ],
   "source": [
    "%%time\n",
    "array2 = array * 2"
   ]
  },
  {
   "cell_type": "markdown",
   "metadata": {},
   "source": [
    "### Exercício 2"
   ]
  },
  {
   "cell_type": "code",
   "execution_count": null,
   "metadata": {},
   "outputs": [],
   "source": [
    "# Exercício 2\n",
    "# Crie um array de 10 elementos\n",
    "# Altere o valores de todos os elementos dos índices 5 a 8 para 0"
   ]
  },
  {
   "cell_type": "code",
   "execution_count": 28,
   "metadata": {},
   "outputs": [],
   "source": [
    "arrayex2 = np.arange(10)"
   ]
  },
  {
   "cell_type": "code",
   "execution_count": 60,
   "metadata": {},
   "outputs": [
    {
     "data": {
      "text/plain": [
       "array([0, 1, 2, 3, 4, 0, 0, 0, 0, 9])"
      ]
     },
     "execution_count": 60,
     "metadata": {},
     "output_type": "execute_result"
    }
   ],
   "source": [
    "arrayex2[5:8] = 0\n",
    "arrayex2"
   ]
  },
  {
   "cell_type": "markdown",
   "metadata": {},
   "source": [
    "### Exercício 3"
   ]
  },
  {
   "cell_type": "code",
   "execution_count": 61,
   "metadata": {},
   "outputs": [],
   "source": [
    "# Crie um array de 3 dimensões e imprima a dimensão 1 "
   ]
  },
  {
   "cell_type": "code",
   "execution_count": 70,
   "metadata": {},
   "outputs": [],
   "source": [
    "arrayex3 = np.arange(12).reshape(2,2,3)"
   ]
  },
  {
   "cell_type": "code",
   "execution_count": 72,
   "metadata": {},
   "outputs": [
    {
     "data": {
      "text/plain": [
       "array([[[ 0,  1,  2],\n",
       "        [ 3,  4,  5]],\n",
       "\n",
       "       [[ 6,  7,  8],\n",
       "        [ 9, 10, 11]]])"
      ]
     },
     "execution_count": 72,
     "metadata": {},
     "output_type": "execute_result"
    }
   ],
   "source": [
    "arrayex3"
   ]
  },
  {
   "cell_type": "code",
   "execution_count": 71,
   "metadata": {},
   "outputs": [
    {
     "data": {
      "text/plain": [
       "array([[ 6,  7,  8],\n",
       "       [ 9, 10, 11]])"
      ]
     },
     "execution_count": 71,
     "metadata": {},
     "output_type": "execute_result"
    }
   ],
   "source": [
    "arrayex3[1]"
   ]
  },
  {
   "cell_type": "markdown",
   "metadata": {},
   "source": [
    "### Exercício 4"
   ]
  },
  {
   "cell_type": "code",
   "execution_count": null,
   "metadata": {},
   "outputs": [],
   "source": [
    "# Crie um array de duas dimensões (matriz).\n",
    "# Imprima os elementos da terceira linha da matriz\n",
    "# Imprima todos os elementos da primeira e segunda linhas e segunda e terceira colunas"
   ]
  },
  {
   "cell_type": "code",
   "execution_count": 76,
   "metadata": {},
   "outputs": [],
   "source": [
    "arrayex4 = np.random.rand(9).reshape(3,3)"
   ]
  },
  {
   "cell_type": "code",
   "execution_count": 77,
   "metadata": {},
   "outputs": [
    {
     "data": {
      "text/plain": [
       "array([[0.32533934, 0.16655123, 0.31970393],\n",
       "       [0.65825297, 0.64224464, 0.34610688],\n",
       "       [0.97344693, 0.90516328, 0.07403514]])"
      ]
     },
     "execution_count": 77,
     "metadata": {},
     "output_type": "execute_result"
    }
   ],
   "source": [
    "arrayex4"
   ]
  },
  {
   "cell_type": "code",
   "execution_count": 83,
   "metadata": {},
   "outputs": [
    {
     "data": {
      "text/plain": [
       "array([0.97344693, 0.90516328, 0.07403514])"
      ]
     },
     "execution_count": 83,
     "metadata": {},
     "output_type": "execute_result"
    }
   ],
   "source": [
    "arrayex4[2]"
   ]
  },
  {
   "cell_type": "code",
   "execution_count": 90,
   "metadata": {},
   "outputs": [
    {
     "data": {
      "text/plain": [
       "array([[0.16655123, 0.31970393],\n",
       "       [0.64224464, 0.34610688]])"
      ]
     },
     "execution_count": 90,
     "metadata": {},
     "output_type": "execute_result"
    }
   ],
   "source": [
    "arrayex4[:2, 1:]"
   ]
  },
  {
   "cell_type": "markdown",
   "metadata": {},
   "source": [
    "### Exercício 5"
   ]
  },
  {
   "cell_type": "code",
   "execution_count": 93,
   "metadata": {},
   "outputs": [
    {
     "data": {
      "text/plain": [
       "array([[ 0,  1,  2,  3,  4],\n",
       "       [ 5,  6,  7,  8,  9],\n",
       "       [10, 11, 12, 13, 14]])"
      ]
     },
     "execution_count": 93,
     "metadata": {},
     "output_type": "execute_result"
    }
   ],
   "source": [
    "# Calcule a transposta da matriz abaixo\n",
    "arr = np.arange(15).reshape((3, 5))\n",
    "arr"
   ]
  },
  {
   "cell_type": "code",
   "execution_count": 94,
   "metadata": {},
   "outputs": [
    {
     "data": {
      "text/plain": [
       "array([[ 0,  5, 10],\n",
       "       [ 1,  6, 11],\n",
       "       [ 2,  7, 12],\n",
       "       [ 3,  8, 13],\n",
       "       [ 4,  9, 14]])"
      ]
     },
     "execution_count": 94,
     "metadata": {},
     "output_type": "execute_result"
    }
   ],
   "source": [
    "arr.transpose()"
   ]
  },
  {
   "cell_type": "markdown",
   "metadata": {},
   "source": [
    "### Exercício 6"
   ]
  },
  {
   "cell_type": "code",
   "execution_count": 101,
   "metadata": {},
   "outputs": [],
   "source": [
    "# Considere os 3 arrays abaixo\n",
    "# Retorne o valor do array xarr se o valor for True no array cond. Caso contrário, retorne o valor do array yarr.\n",
    "xarr = np.array([1.1, 1.2, 1.3, 1.4, 1.5])\n",
    "yarr = np.array([2.1, 2.2, 2.3, 2.4, 2.5])\n",
    "cond = np.array([True, False, True, True, False])"
   ]
  },
  {
   "cell_type": "code",
   "execution_count": 102,
   "metadata": {},
   "outputs": [],
   "source": [
    "import pandas as pd"
   ]
  },
  {
   "cell_type": "code",
   "execution_count": 117,
   "metadata": {},
   "outputs": [],
   "source": [
    "x = pd.Series(xarr)\n",
    "y = pd.Series(yarr)\n",
    "c = pd.Series(cond)"
   ]
  },
  {
   "cell_type": "code",
   "execution_count": 118,
   "metadata": {},
   "outputs": [
    {
     "data": {
      "text/plain": [
       "0    1.1\n",
       "2    1.3\n",
       "3    1.4\n",
       "dtype: float64"
      ]
     },
     "execution_count": 118,
     "metadata": {},
     "output_type": "execute_result"
    }
   ],
   "source": [
    "x[c]"
   ]
  },
  {
   "cell_type": "code",
   "execution_count": 119,
   "metadata": {},
   "outputs": [
    {
     "data": {
      "text/plain": [
       "1    2.2\n",
       "4    2.5\n",
       "dtype: float64"
      ]
     },
     "execution_count": 119,
     "metadata": {},
     "output_type": "execute_result"
    }
   ],
   "source": [
    "y[~c]"
   ]
  },
  {
   "cell_type": "code",
   "execution_count": 130,
   "metadata": {},
   "outputs": [
    {
     "data": {
      "text/plain": [
       "0    1.1\n",
       "1    2.2\n",
       "2    1.3\n",
       "3    1.4\n",
       "4    2.5\n",
       "dtype: float64"
      ]
     },
     "execution_count": 130,
     "metadata": {},
     "output_type": "execute_result"
    }
   ],
   "source": [
    "x[c].combine(y[~c], max, fill_value=0)"
   ]
  },
  {
   "cell_type": "markdown",
   "metadata": {},
   "source": [
    "### Exercício 7"
   ]
  },
  {
   "cell_type": "code",
   "execution_count": null,
   "metadata": {},
   "outputs": [],
   "source": [
    "# Crie um array A com 10 elementos e salve o array em disco com a extensão npy\n",
    "# Depois carregue o array do disco no array B"
   ]
  },
  {
   "cell_type": "code",
   "execution_count": 139,
   "metadata": {},
   "outputs": [],
   "source": [
    "arraya = np.arange(10)\n",
    "np.save('arraya.npy', arraya)"
   ]
  },
  {
   "cell_type": "code",
   "execution_count": 140,
   "metadata": {},
   "outputs": [],
   "source": [
    "arrayb = np.load(\"arraya.npy\")"
   ]
  },
  {
   "cell_type": "code",
   "execution_count": 141,
   "metadata": {},
   "outputs": [
    {
     "data": {
      "text/plain": [
       "array([0, 1, 2, 3, 4, 5, 6, 7, 8, 9])"
      ]
     },
     "execution_count": 141,
     "metadata": {},
     "output_type": "execute_result"
    }
   ],
   "source": [
    "arrayb"
   ]
  },
  {
   "cell_type": "markdown",
   "metadata": {},
   "source": [
    "### Exercício 8"
   ]
  },
  {
   "cell_type": "code",
   "execution_count": 143,
   "metadata": {},
   "outputs": [],
   "source": [
    "# Considerando a série abaixo, imprima os valores únicos na série\n",
    "import pandas as pd\n",
    "obj = pd.Series(['c', 'a', 'd', 'a', 'a', 'b', 'b', 'c', 'c', 'a', 'b'])"
   ]
  },
  {
   "cell_type": "code",
   "execution_count": 144,
   "metadata": {},
   "outputs": [
    {
     "data": {
      "text/plain": [
       "array(['c', 'a', 'd', 'b'], dtype=object)"
      ]
     },
     "execution_count": 144,
     "metadata": {},
     "output_type": "execute_result"
    }
   ],
   "source": [
    "obj.unique()"
   ]
  },
  {
   "cell_type": "markdown",
   "metadata": {},
   "source": [
    "### Exercício 9"
   ]
  },
  {
   "cell_type": "code",
   "execution_count": 147,
   "metadata": {},
   "outputs": [],
   "source": [
    "# Considerando o trecho de código que conecta em uma url na internet, imprima o dataframe conforme abaixo.\n",
    "import requests\n",
    "url = 'https://api.github.com/repos/pandas-dev/pandas/issues'\n",
    "resp = requests.get(url)"
   ]
  },
  {
   "cell_type": "code",
   "execution_count": 151,
   "metadata": {},
   "outputs": [
    {
     "data": {
      "text/plain": [
       "{'url': 'https://api.github.com/repos/pandas-dev/pandas/issues/35964',\n",
       " 'repository_url': 'https://api.github.com/repos/pandas-dev/pandas',\n",
       " 'labels_url': 'https://api.github.com/repos/pandas-dev/pandas/issues/35964/labels{/name}',\n",
       " 'comments_url': 'https://api.github.com/repos/pandas-dev/pandas/issues/35964/comments',\n",
       " 'events_url': 'https://api.github.com/repos/pandas-dev/pandas/issues/35964/events',\n",
       " 'html_url': 'https://github.com/pandas-dev/pandas/pull/35964',\n",
       " 'id': 688340457,\n",
       " 'node_id': 'MDExOlB1bGxSZXF1ZXN0NDc1NjI5MDk3',\n",
       " 'number': 35964,\n",
       " 'title': 'BUG/CLN: Decouple Series/DataFrame.transform',\n",
       " 'user': {'login': 'rhshadrach',\n",
       "  'id': 45562402,\n",
       "  'node_id': 'MDQ6VXNlcjQ1NTYyNDAy',\n",
       "  'avatar_url': 'https://avatars1.githubusercontent.com/u/45562402?v=4',\n",
       "  'gravatar_id': '',\n",
       "  'url': 'https://api.github.com/users/rhshadrach',\n",
       "  'html_url': 'https://github.com/rhshadrach',\n",
       "  'followers_url': 'https://api.github.com/users/rhshadrach/followers',\n",
       "  'following_url': 'https://api.github.com/users/rhshadrach/following{/other_user}',\n",
       "  'gists_url': 'https://api.github.com/users/rhshadrach/gists{/gist_id}',\n",
       "  'starred_url': 'https://api.github.com/users/rhshadrach/starred{/owner}{/repo}',\n",
       "  'subscriptions_url': 'https://api.github.com/users/rhshadrach/subscriptions',\n",
       "  'organizations_url': 'https://api.github.com/users/rhshadrach/orgs',\n",
       "  'repos_url': 'https://api.github.com/users/rhshadrach/repos',\n",
       "  'events_url': 'https://api.github.com/users/rhshadrach/events{/privacy}',\n",
       "  'received_events_url': 'https://api.github.com/users/rhshadrach/received_events',\n",
       "  'type': 'User',\n",
       "  'site_admin': False},\n",
       " 'labels': [{'id': 697792067,\n",
       "   'node_id': 'MDU6TGFiZWw2OTc3OTIwNjc=',\n",
       "   'url': 'https://api.github.com/repos/pandas-dev/pandas/labels/Apply',\n",
       "   'name': 'Apply',\n",
       "   'color': 'fbca04',\n",
       "   'default': False,\n",
       "   'description': 'Apply, Aggregate, Transform'},\n",
       "  {'id': 76811,\n",
       "   'node_id': 'MDU6TGFiZWw3NjgxMQ==',\n",
       "   'url': 'https://api.github.com/repos/pandas-dev/pandas/labels/Bug',\n",
       "   'name': 'Bug',\n",
       "   'color': 'e10c02',\n",
       "   'default': False,\n",
       "   'description': None},\n",
       "  {'id': 211029535,\n",
       "   'node_id': 'MDU6TGFiZWwyMTEwMjk1MzU=',\n",
       "   'url': 'https://api.github.com/repos/pandas-dev/pandas/labels/Clean',\n",
       "   'name': 'Clean',\n",
       "   'color': '207de5',\n",
       "   'default': False,\n",
       "   'description': None}],\n",
       " 'state': 'open',\n",
       " 'locked': False,\n",
       " 'assignee': None,\n",
       " 'assignees': [],\n",
       " 'milestone': None,\n",
       " 'comments': 0,\n",
       " 'created_at': '2020-08-28T20:33:13Z',\n",
       " 'updated_at': '2020-08-28T20:36:15Z',\n",
       " 'closed_at': None,\n",
       " 'author_association': 'MEMBER',\n",
       " 'active_lock_reason': None,\n",
       " 'pull_request': {'url': 'https://api.github.com/repos/pandas-dev/pandas/pulls/35964',\n",
       "  'html_url': 'https://github.com/pandas-dev/pandas/pull/35964',\n",
       "  'diff_url': 'https://github.com/pandas-dev/pandas/pull/35964.diff',\n",
       "  'patch_url': 'https://github.com/pandas-dev/pandas/pull/35964.patch'},\n",
       " 'body': '- [x] closes #35811\\r\\n- [x] tests added / passed\\r\\n- [x] passes `black pandas`\\r\\n- [x] passes `git diff upstream/master -u -- \"*.py\" | flake8 --diff`\\r\\n- [ ] whatsnew entry\\r\\n\\r\\nFirst step toward #35725. Currently `transform` just calls `aggregate`, and so if we are to forbid `aggregate` from transforming, these need to be decoupled. Other than the bugfix (#35811), the only other behavioral change is in the error messages.\\r\\n\\r\\nAssuming the bugfix #35811 is the correct behavior, docs/whatsnew also needs to be updated.\\r\\n\\r\\nI wasn\\'t sure if tests should be marked with #35725 or perhaps this PR #. Any guidance here?',\n",
       " 'performed_via_github_app': None}"
      ]
     },
     "execution_count": 151,
     "metadata": {},
     "output_type": "execute_result"
    }
   ],
   "source": [
    "data = resp.json()\n",
    "data[0]"
   ]
  },
  {
   "cell_type": "code",
   "execution_count": 152,
   "metadata": {},
   "outputs": [
    {
     "data": {
      "text/plain": [
       "'BUG/CLN: Decouple Series/DataFrame.transform'"
      ]
     },
     "execution_count": 152,
     "metadata": {},
     "output_type": "execute_result"
    }
   ],
   "source": [
    "data[0]['title']"
   ]
  },
  {
   "cell_type": "code",
   "execution_count": 153,
   "metadata": {},
   "outputs": [
    {
     "data": {
      "text/html": [
       "<div>\n",
       "<style scoped>\n",
       "    .dataframe tbody tr th:only-of-type {\n",
       "        vertical-align: middle;\n",
       "    }\n",
       "\n",
       "    .dataframe tbody tr th {\n",
       "        vertical-align: top;\n",
       "    }\n",
       "\n",
       "    .dataframe thead th {\n",
       "        text-align: right;\n",
       "    }\n",
       "</style>\n",
       "<table border=\"1\" class=\"dataframe\">\n",
       "  <thead>\n",
       "    <tr style=\"text-align: right;\">\n",
       "      <th></th>\n",
       "      <th>number</th>\n",
       "      <th>title</th>\n",
       "      <th>labels</th>\n",
       "      <th>state</th>\n",
       "    </tr>\n",
       "  </thead>\n",
       "  <tbody>\n",
       "    <tr>\n",
       "      <th>0</th>\n",
       "      <td>35964</td>\n",
       "      <td>BUG/CLN: Decouple Series/DataFrame.transform</td>\n",
       "      <td>[{'id': 697792067, 'node_id': 'MDU6TGFiZWw2OTc...</td>\n",
       "      <td>open</td>\n",
       "    </tr>\n",
       "    <tr>\n",
       "      <th>1</th>\n",
       "      <td>35963</td>\n",
       "      <td>TYP: misc cleanup in core\\generic.py</td>\n",
       "      <td>[{'id': 1280988427, 'node_id': 'MDU6TGFiZWwxMj...</td>\n",
       "      <td>open</td>\n",
       "    </tr>\n",
       "    <tr>\n",
       "      <th>2</th>\n",
       "      <td>35961</td>\n",
       "      <td>BUG: Unable to add np.timedelta64 + pd.Interva...</td>\n",
       "      <td>[{'id': 76811, 'node_id': 'MDU6TGFiZWw3NjgxMQ=...</td>\n",
       "      <td>open</td>\n",
       "    </tr>\n",
       "    <tr>\n",
       "      <th>3</th>\n",
       "      <td>35960</td>\n",
       "      <td>TYP: annotate plotting based on _get_axe_freq</td>\n",
       "      <td>[{'id': 1280988427, 'node_id': 'MDU6TGFiZWwxMj...</td>\n",
       "      <td>open</td>\n",
       "    </tr>\n",
       "    <tr>\n",
       "      <th>4</th>\n",
       "      <td>35958</td>\n",
       "      <td>BUG: read_table raises ValueError when delim_w...</td>\n",
       "      <td>[{'id': 76811, 'node_id': 'MDU6TGFiZWw3NjgxMQ=...</td>\n",
       "      <td>open</td>\n",
       "    </tr>\n",
       "    <tr>\n",
       "      <th>5</th>\n",
       "      <td>35957</td>\n",
       "      <td>TYP: Remove NDFrame._add_series_or_dataframe_o...</td>\n",
       "      <td>[{'id': 1280988427, 'node_id': 'MDU6TGFiZWwxMj...</td>\n",
       "      <td>open</td>\n",
       "    </tr>\n",
       "    <tr>\n",
       "      <th>6</th>\n",
       "      <td>35954</td>\n",
       "      <td>TYP: misc typing cleanups for #32911</td>\n",
       "      <td>[{'id': 1280988427, 'node_id': 'MDU6TGFiZWwxMj...</td>\n",
       "      <td>open</td>\n",
       "    </tr>\n",
       "    <tr>\n",
       "      <th>7</th>\n",
       "      <td>35953</td>\n",
       "      <td>TYP: misc typing cleanups for #29116</td>\n",
       "      <td>[{'id': 1280988427, 'node_id': 'MDU6TGFiZWwxMj...</td>\n",
       "      <td>open</td>\n",
       "    </tr>\n",
       "    <tr>\n",
       "      <th>8</th>\n",
       "      <td>35951</td>\n",
       "      <td>Gh35889 groupby dropna apply</td>\n",
       "      <td>[{'id': 697792067, 'node_id': 'MDU6TGFiZWw2OTc...</td>\n",
       "      <td>open</td>\n",
       "    </tr>\n",
       "    <tr>\n",
       "      <th>9</th>\n",
       "      <td>35948</td>\n",
       "      <td>DOC: \"engine=odf\" option should ask you to ins...</td>\n",
       "      <td>[{'id': 134699, 'node_id': 'MDU6TGFiZWwxMzQ2OT...</td>\n",
       "      <td>open</td>\n",
       "    </tr>\n",
       "    <tr>\n",
       "      <th>10</th>\n",
       "      <td>35947</td>\n",
       "      <td>paste_windows() wrong arg for c_wchar_p</td>\n",
       "      <td>[]</td>\n",
       "      <td>open</td>\n",
       "    </tr>\n",
       "    <tr>\n",
       "      <th>11</th>\n",
       "      <td>35946</td>\n",
       "      <td>CLN: resolve UserWarning in `pandas/plotting/_...</td>\n",
       "      <td>[{'id': 211029535, 'node_id': 'MDU6TGFiZWwyMTE...</td>\n",
       "      <td>open</td>\n",
       "    </tr>\n",
       "    <tr>\n",
       "      <th>12</th>\n",
       "      <td>35945</td>\n",
       "      <td>CLN: UserWarning in `pandas/plotting/_matplotl...</td>\n",
       "      <td>[{'id': 76811, 'node_id': 'MDU6TGFiZWw3NjgxMQ=...</td>\n",
       "      <td>open</td>\n",
       "    </tr>\n",
       "    <tr>\n",
       "      <th>13</th>\n",
       "      <td>35944</td>\n",
       "      <td>Version Number correction in to_json table</td>\n",
       "      <td>[]</td>\n",
       "      <td>open</td>\n",
       "    </tr>\n",
       "    <tr>\n",
       "      <th>14</th>\n",
       "      <td>35943</td>\n",
       "      <td>CLN: resolve DeprecationWarning in `pandas/_te...</td>\n",
       "      <td>[]</td>\n",
       "      <td>open</td>\n",
       "    </tr>\n",
       "    <tr>\n",
       "      <th>15</th>\n",
       "      <td>35942</td>\n",
       "      <td>CLN: DeprecationWarning in `_testing`</td>\n",
       "      <td>[{'id': 76811, 'node_id': 'MDU6TGFiZWw3NjgxMQ=...</td>\n",
       "      <td>open</td>\n",
       "    </tr>\n",
       "    <tr>\n",
       "      <th>16</th>\n",
       "      <td>35941</td>\n",
       "      <td>DOC: complement the documentation for pandas.D...</td>\n",
       "      <td>[{'id': 134699, 'node_id': 'MDU6TGFiZWwxMzQ2OT...</td>\n",
       "      <td>open</td>\n",
       "    </tr>\n",
       "    <tr>\n",
       "      <th>17</th>\n",
       "      <td>35940</td>\n",
       "      <td>BUG:Pandas 1.0.3 → 1.1.1 behavior change on Da...</td>\n",
       "      <td>[{'id': 76811, 'node_id': 'MDU6TGFiZWw3NjgxMQ=...</td>\n",
       "      <td>open</td>\n",
       "    </tr>\n",
       "    <tr>\n",
       "      <th>18</th>\n",
       "      <td>35939</td>\n",
       "      <td>TYP: annotations in core.groupby</td>\n",
       "      <td>[{'id': 1280988427, 'node_id': 'MDU6TGFiZWwxMj...</td>\n",
       "      <td>open</td>\n",
       "    </tr>\n",
       "    <tr>\n",
       "      <th>19</th>\n",
       "      <td>35938</td>\n",
       "      <td>REGR: Don't set Interval __array_priority__</td>\n",
       "      <td>[{'id': 150096370, 'node_id': 'MDU6TGFiZWwxNTA...</td>\n",
       "      <td>open</td>\n",
       "    </tr>\n",
       "    <tr>\n",
       "      <th>20</th>\n",
       "      <td>35937</td>\n",
       "      <td>BUG: BlockSlider not clearing index._cache</td>\n",
       "      <td>[]</td>\n",
       "      <td>open</td>\n",
       "    </tr>\n",
       "    <tr>\n",
       "      <th>21</th>\n",
       "      <td>35936</td>\n",
       "      <td>REGR: Fix inplace updates on column to set cor...</td>\n",
       "      <td>[{'id': 32815646, 'node_id': 'MDU6TGFiZWwzMjgx...</td>\n",
       "      <td>open</td>\n",
       "    </tr>\n",
       "    <tr>\n",
       "      <th>22</th>\n",
       "      <td>35934</td>\n",
       "      <td>BUG: Inconsistency in `pd.to_datetime` with `o...</td>\n",
       "      <td>[{'id': 76811, 'node_id': 'MDU6TGFiZWw3NjgxMQ=...</td>\n",
       "      <td>open</td>\n",
       "    </tr>\n",
       "    <tr>\n",
       "      <th>23</th>\n",
       "      <td>35933</td>\n",
       "      <td>TYP: Annotations</td>\n",
       "      <td>[{'id': 1280988427, 'node_id': 'MDU6TGFiZWwxMj...</td>\n",
       "      <td>open</td>\n",
       "    </tr>\n",
       "    <tr>\n",
       "      <th>24</th>\n",
       "      <td>35932</td>\n",
       "      <td>BUG:Installation errors on aarch64</td>\n",
       "      <td>[{'id': 76811, 'node_id': 'MDU6TGFiZWw3NjgxMQ=...</td>\n",
       "      <td>open</td>\n",
       "    </tr>\n",
       "    <tr>\n",
       "      <th>25</th>\n",
       "      <td>35931</td>\n",
       "      <td>BUG: breaking change in df.replace() from 1.0....</td>\n",
       "      <td>[{'id': 150096370, 'node_id': 'MDU6TGFiZWwxNTA...</td>\n",
       "      <td>open</td>\n",
       "    </tr>\n",
       "    <tr>\n",
       "      <th>26</th>\n",
       "      <td>35928</td>\n",
       "      <td>WIP: inconsistencies between python/cython gro...</td>\n",
       "      <td>[]</td>\n",
       "      <td>open</td>\n",
       "    </tr>\n",
       "    <tr>\n",
       "      <th>27</th>\n",
       "      <td>35925</td>\n",
       "      <td>CLN remove unnecessary trailing commas to get ...</td>\n",
       "      <td>[{'id': 211029535, 'node_id': 'MDU6TGFiZWwyMTE...</td>\n",
       "      <td>open</td>\n",
       "    </tr>\n",
       "    <tr>\n",
       "      <th>28</th>\n",
       "      <td>35924</td>\n",
       "      <td>REF: use BlockManager.apply for DataFrameGroup...</td>\n",
       "      <td>[]</td>\n",
       "      <td>open</td>\n",
       "    </tr>\n",
       "    <tr>\n",
       "      <th>29</th>\n",
       "      <td>35923</td>\n",
       "      <td>BUG: Inconsistent results using pd.json_normal...</td>\n",
       "      <td>[{'id': 76811, 'node_id': 'MDU6TGFiZWw3NjgxMQ=...</td>\n",
       "      <td>open</td>\n",
       "    </tr>\n",
       "  </tbody>\n",
       "</table>\n",
       "</div>"
      ],
      "text/plain": [
       "    number                                              title  \\\n",
       "0    35964       BUG/CLN: Decouple Series/DataFrame.transform   \n",
       "1    35963               TYP: misc cleanup in core\\generic.py   \n",
       "2    35961  BUG: Unable to add np.timedelta64 + pd.Interva...   \n",
       "3    35960      TYP: annotate plotting based on _get_axe_freq   \n",
       "4    35958  BUG: read_table raises ValueError when delim_w...   \n",
       "5    35957  TYP: Remove NDFrame._add_series_or_dataframe_o...   \n",
       "6    35954               TYP: misc typing cleanups for #32911   \n",
       "7    35953               TYP: misc typing cleanups for #29116   \n",
       "8    35951                       Gh35889 groupby dropna apply   \n",
       "9    35948  DOC: \"engine=odf\" option should ask you to ins...   \n",
       "10   35947            paste_windows() wrong arg for c_wchar_p   \n",
       "11   35946  CLN: resolve UserWarning in `pandas/plotting/_...   \n",
       "12   35945  CLN: UserWarning in `pandas/plotting/_matplotl...   \n",
       "13   35944         Version Number correction in to_json table   \n",
       "14   35943  CLN: resolve DeprecationWarning in `pandas/_te...   \n",
       "15   35942              CLN: DeprecationWarning in `_testing`   \n",
       "16   35941  DOC: complement the documentation for pandas.D...   \n",
       "17   35940  BUG:Pandas 1.0.3 → 1.1.1 behavior change on Da...   \n",
       "18   35939                   TYP: annotations in core.groupby   \n",
       "19   35938        REGR: Don't set Interval __array_priority__   \n",
       "20   35937         BUG: BlockSlider not clearing index._cache   \n",
       "21   35936  REGR: Fix inplace updates on column to set cor...   \n",
       "22   35934  BUG: Inconsistency in `pd.to_datetime` with `o...   \n",
       "23   35933                                   TYP: Annotations   \n",
       "24   35932                 BUG:Installation errors on aarch64   \n",
       "25   35931  BUG: breaking change in df.replace() from 1.0....   \n",
       "26   35928  WIP: inconsistencies between python/cython gro...   \n",
       "27   35925  CLN remove unnecessary trailing commas to get ...   \n",
       "28   35924  REF: use BlockManager.apply for DataFrameGroup...   \n",
       "29   35923  BUG: Inconsistent results using pd.json_normal...   \n",
       "\n",
       "                                               labels state  \n",
       "0   [{'id': 697792067, 'node_id': 'MDU6TGFiZWw2OTc...  open  \n",
       "1   [{'id': 1280988427, 'node_id': 'MDU6TGFiZWwxMj...  open  \n",
       "2   [{'id': 76811, 'node_id': 'MDU6TGFiZWw3NjgxMQ=...  open  \n",
       "3   [{'id': 1280988427, 'node_id': 'MDU6TGFiZWwxMj...  open  \n",
       "4   [{'id': 76811, 'node_id': 'MDU6TGFiZWw3NjgxMQ=...  open  \n",
       "5   [{'id': 1280988427, 'node_id': 'MDU6TGFiZWwxMj...  open  \n",
       "6   [{'id': 1280988427, 'node_id': 'MDU6TGFiZWwxMj...  open  \n",
       "7   [{'id': 1280988427, 'node_id': 'MDU6TGFiZWwxMj...  open  \n",
       "8   [{'id': 697792067, 'node_id': 'MDU6TGFiZWw2OTc...  open  \n",
       "9   [{'id': 134699, 'node_id': 'MDU6TGFiZWwxMzQ2OT...  open  \n",
       "10                                                 []  open  \n",
       "11  [{'id': 211029535, 'node_id': 'MDU6TGFiZWwyMTE...  open  \n",
       "12  [{'id': 76811, 'node_id': 'MDU6TGFiZWw3NjgxMQ=...  open  \n",
       "13                                                 []  open  \n",
       "14                                                 []  open  \n",
       "15  [{'id': 76811, 'node_id': 'MDU6TGFiZWw3NjgxMQ=...  open  \n",
       "16  [{'id': 134699, 'node_id': 'MDU6TGFiZWwxMzQ2OT...  open  \n",
       "17  [{'id': 76811, 'node_id': 'MDU6TGFiZWw3NjgxMQ=...  open  \n",
       "18  [{'id': 1280988427, 'node_id': 'MDU6TGFiZWwxMj...  open  \n",
       "19  [{'id': 150096370, 'node_id': 'MDU6TGFiZWwxNTA...  open  \n",
       "20                                                 []  open  \n",
       "21  [{'id': 32815646, 'node_id': 'MDU6TGFiZWwzMjgx...  open  \n",
       "22  [{'id': 76811, 'node_id': 'MDU6TGFiZWw3NjgxMQ=...  open  \n",
       "23  [{'id': 1280988427, 'node_id': 'MDU6TGFiZWwxMj...  open  \n",
       "24  [{'id': 76811, 'node_id': 'MDU6TGFiZWw3NjgxMQ=...  open  \n",
       "25  [{'id': 150096370, 'node_id': 'MDU6TGFiZWwxNTA...  open  \n",
       "26                                                 []  open  \n",
       "27  [{'id': 211029535, 'node_id': 'MDU6TGFiZWwyMTE...  open  \n",
       "28                                                 []  open  \n",
       "29  [{'id': 76811, 'node_id': 'MDU6TGFiZWw3NjgxMQ=...  open  "
      ]
     },
     "execution_count": 153,
     "metadata": {},
     "output_type": "execute_result"
    }
   ],
   "source": [
    "issues = pd.DataFrame(data, columns=['number', 'title', 'labels', 'state'])\n",
    "issues"
   ]
  },
  {
   "cell_type": "markdown",
   "metadata": {},
   "source": [
    "### Exercício 10"
   ]
  },
  {
   "cell_type": "code",
   "execution_count": 157,
   "metadata": {},
   "outputs": [],
   "source": [
    "# Crie um banco de dados no SQLite, crie uma tabela, insira registros, \n",
    "# consulte a tabela e retorne os dados em dataframe do Pandas\n",
    "import sqlite3\n",
    "con = sqlite3.connect('teste.db')\n",
    "cur = con.cursor()\n",
    "sql = 'CREATE TABLE IF NOT EXISTS teste'\\\n",
    "'(id integer primary key, '\\\n",
    "'nome varchar(100), '\\\n",
    "'categoria varchar(50), '\\\n",
    "'descricao varchar(100), '\\\n",
    "'tipo integer)'\n",
    "cur.execute(sql)\n",
    "con.commit()\n",
    "\n"
   ]
  },
  {
   "cell_type": "code",
   "execution_count": 163,
   "metadata": {},
   "outputs": [],
   "source": [
    "sql = 'INSERT INTO teste VALUES (?, ?, ?, ?, ?)'\n",
    "dados = [(10, 'teste 1', 'cat1', 'desc1', 6),\n",
    "        (20, 'teste 2', 'cat1', 'desc2', 4),\n",
    "        (30, 'teste 3', 'cat1', 'desc3', 2)]\n",
    "con.executemany(sql, dados)\n",
    "con.commit()"
   ]
  },
  {
   "cell_type": "code",
   "execution_count": 164,
   "metadata": {},
   "outputs": [
    {
     "data": {
      "text/html": [
       "<div>\n",
       "<style scoped>\n",
       "    .dataframe tbody tr th:only-of-type {\n",
       "        vertical-align: middle;\n",
       "    }\n",
       "\n",
       "    .dataframe tbody tr th {\n",
       "        vertical-align: top;\n",
       "    }\n",
       "\n",
       "    .dataframe thead th {\n",
       "        text-align: right;\n",
       "    }\n",
       "</style>\n",
       "<table border=\"1\" class=\"dataframe\">\n",
       "  <thead>\n",
       "    <tr style=\"text-align: right;\">\n",
       "      <th></th>\n",
       "      <th>id</th>\n",
       "      <th>nome</th>\n",
       "      <th>categoria</th>\n",
       "      <th>descricao</th>\n",
       "      <th>tipo</th>\n",
       "    </tr>\n",
       "  </thead>\n",
       "  <tbody>\n",
       "    <tr>\n",
       "      <th>0</th>\n",
       "      <td>1</td>\n",
       "      <td>teste 1</td>\n",
       "      <td>cat1</td>\n",
       "      <td>desc1</td>\n",
       "      <td>6</td>\n",
       "    </tr>\n",
       "    <tr>\n",
       "      <th>1</th>\n",
       "      <td>10</td>\n",
       "      <td>teste 1</td>\n",
       "      <td>cat1</td>\n",
       "      <td>desc1</td>\n",
       "      <td>6</td>\n",
       "    </tr>\n",
       "    <tr>\n",
       "      <th>2</th>\n",
       "      <td>20</td>\n",
       "      <td>teste 2</td>\n",
       "      <td>cat1</td>\n",
       "      <td>desc2</td>\n",
       "      <td>4</td>\n",
       "    </tr>\n",
       "    <tr>\n",
       "      <th>3</th>\n",
       "      <td>30</td>\n",
       "      <td>teste 3</td>\n",
       "      <td>cat1</td>\n",
       "      <td>desc3</td>\n",
       "      <td>2</td>\n",
       "    </tr>\n",
       "  </tbody>\n",
       "</table>\n",
       "</div>"
      ],
      "text/plain": [
       "   id     nome categoria descricao  tipo\n",
       "0   1  teste 1      cat1     desc1     6\n",
       "1  10  teste 1      cat1     desc1     6\n",
       "2  20  teste 2      cat1     desc2     4\n",
       "3  30  teste 3      cat1     desc3     2"
      ]
     },
     "execution_count": 164,
     "metadata": {},
     "output_type": "execute_result"
    }
   ],
   "source": [
    "sql = 'SELECT * FROM TESTE'\n",
    "df = pd.read_sql_query(sql,con)\n",
    "df"
   ]
  },
  {
   "cell_type": "code",
   "execution_count": 165,
   "metadata": {},
   "outputs": [],
   "source": [
    "cur.close()\n",
    "con.close()"
   ]
  },
  {
   "cell_type": "markdown",
   "metadata": {},
   "source": [
    "# Fim"
   ]
  },
  {
   "cell_type": "markdown",
   "metadata": {},
   "source": [
    "### Obrigado - Data Science Academy - <a href=\"http://facebook.com/dsacademybr\">facebook.com/dsacademybr</a>"
   ]
  }
 ],
 "metadata": {
  "kernelspec": {
   "display_name": "Python 3",
   "language": "python",
   "name": "python3"
  },
  "language_info": {
   "codemirror_mode": {
    "name": "ipython",
    "version": 3
   },
   "file_extension": ".py",
   "mimetype": "text/x-python",
   "name": "python",
   "nbconvert_exporter": "python",
   "pygments_lexer": "ipython3",
   "version": "3.8.5"
  }
 },
 "nbformat": 4,
 "nbformat_minor": 4
}
