{
 "metadata": {
  "language_info": {
   "codemirror_mode": {
    "name": "ipython",
    "version": 3
   },
   "file_extension": ".py",
   "mimetype": "text/x-python",
   "name": "python",
   "nbconvert_exporter": "python",
   "pygments_lexer": "ipython3",
   "version": "3.8.5-final"
  },
  "orig_nbformat": 2,
  "kernelspec": {
   "name": "python3",
   "display_name": "Python 3"
  }
 },
 "nbformat": 4,
 "nbformat_minor": 2,
 "cells": [
  {
   "cell_type": "code",
   "execution_count": 1,
   "metadata": {},
   "outputs": [],
   "source": [
    "import pandas as pd"
   ]
  },
  {
   "cell_type": "code",
   "execution_count": 2,
   "metadata": {},
   "outputs": [],
   "source": [
    "covid = pd.read_csv('Covid-19_SP.csv')"
   ]
  },
  {
   "cell_type": "code",
   "execution_count": 3,
   "metadata": {},
   "outputs": [],
   "source": [
    "covid['DATA']= pd.to_datetime(covid['DATA'], format = '%Y-%m-%d')"
   ]
  },
  {
   "cell_type": "code",
   "execution_count": 6,
   "metadata": {},
   "outputs": [],
   "source": [
    "latest = covid[covid['DATA']=='2020-11-19'][['CIDADE','CONFIRMADO','MORTES','POPULACAO_ESTIMADA','INDICE_MORTES']]"
   ]
  },
  {
   "cell_type": "code",
   "execution_count": 7,
   "metadata": {},
   "outputs": [
    {
     "output_type": "execute_result",
     "data": {
      "text/plain": [
       "                    CIDADE  CONFIRMADO  MORTES  POPULACAO_ESTIMADA  \\\n",
       "0               Adamantina         496      13             35111.0   \n",
       "215                 Adolfo         133       5              3554.0   \n",
       "406                  Aguaí         375       7             36648.0   \n",
       "604                 Agudos         822      17             37401.0   \n",
       "823               Alambari          89       4              6129.0   \n",
       "...                    ...         ...     ...                 ...   \n",
       "120214  Águas de São Pedro          63       2              3521.0   \n",
       "120425    Álvares Florence          81       6              3647.0   \n",
       "120587     Álvares Machado         293       8             24998.0   \n",
       "120780  Álvaro de Carvalho          34       4              5274.0   \n",
       "120963                Óleo           6       0              2471.0   \n",
       "\n",
       "        INDICE_MORTES  \n",
       "0              0.0262  \n",
       "215            0.0376  \n",
       "406            0.0187  \n",
       "604            0.0207  \n",
       "823            0.0449  \n",
       "...               ...  \n",
       "120214         0.0317  \n",
       "120425         0.0741  \n",
       "120587         0.0273  \n",
       "120780         0.1176  \n",
       "120963         0.0000  \n",
       "\n",
       "[646 rows x 5 columns]"
      ],
      "text/html": "<div>\n<style scoped>\n    .dataframe tbody tr th:only-of-type {\n        vertical-align: middle;\n    }\n\n    .dataframe tbody tr th {\n        vertical-align: top;\n    }\n\n    .dataframe thead th {\n        text-align: right;\n    }\n</style>\n<table border=\"1\" class=\"dataframe\">\n  <thead>\n    <tr style=\"text-align: right;\">\n      <th></th>\n      <th>CIDADE</th>\n      <th>CONFIRMADO</th>\n      <th>MORTES</th>\n      <th>POPULACAO_ESTIMADA</th>\n      <th>INDICE_MORTES</th>\n    </tr>\n  </thead>\n  <tbody>\n    <tr>\n      <th>0</th>\n      <td>Adamantina</td>\n      <td>496</td>\n      <td>13</td>\n      <td>35111.0</td>\n      <td>0.0262</td>\n    </tr>\n    <tr>\n      <th>215</th>\n      <td>Adolfo</td>\n      <td>133</td>\n      <td>5</td>\n      <td>3554.0</td>\n      <td>0.0376</td>\n    </tr>\n    <tr>\n      <th>406</th>\n      <td>Aguaí</td>\n      <td>375</td>\n      <td>7</td>\n      <td>36648.0</td>\n      <td>0.0187</td>\n    </tr>\n    <tr>\n      <th>604</th>\n      <td>Agudos</td>\n      <td>822</td>\n      <td>17</td>\n      <td>37401.0</td>\n      <td>0.0207</td>\n    </tr>\n    <tr>\n      <th>823</th>\n      <td>Alambari</td>\n      <td>89</td>\n      <td>4</td>\n      <td>6129.0</td>\n      <td>0.0449</td>\n    </tr>\n    <tr>\n      <th>...</th>\n      <td>...</td>\n      <td>...</td>\n      <td>...</td>\n      <td>...</td>\n      <td>...</td>\n    </tr>\n    <tr>\n      <th>120214</th>\n      <td>Águas de São Pedro</td>\n      <td>63</td>\n      <td>2</td>\n      <td>3521.0</td>\n      <td>0.0317</td>\n    </tr>\n    <tr>\n      <th>120425</th>\n      <td>Álvares Florence</td>\n      <td>81</td>\n      <td>6</td>\n      <td>3647.0</td>\n      <td>0.0741</td>\n    </tr>\n    <tr>\n      <th>120587</th>\n      <td>Álvares Machado</td>\n      <td>293</td>\n      <td>8</td>\n      <td>24998.0</td>\n      <td>0.0273</td>\n    </tr>\n    <tr>\n      <th>120780</th>\n      <td>Álvaro de Carvalho</td>\n      <td>34</td>\n      <td>4</td>\n      <td>5274.0</td>\n      <td>0.1176</td>\n    </tr>\n    <tr>\n      <th>120963</th>\n      <td>Óleo</td>\n      <td>6</td>\n      <td>0</td>\n      <td>2471.0</td>\n      <td>0.0000</td>\n    </tr>\n  </tbody>\n</table>\n<p>646 rows × 5 columns</p>\n</div>"
     },
     "metadata": {},
     "execution_count": 7
    }
   ],
   "source": [
    "latest"
   ]
  },
  {
   "cell_type": "code",
   "execution_count": null,
   "metadata": {},
   "outputs": [],
   "source": []
  }
 ]
}